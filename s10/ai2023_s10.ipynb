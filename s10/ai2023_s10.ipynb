{
  "nbformat": 4,
  "nbformat_minor": 0,
  "metadata": {
    "colab": {
      "provenance": []
    },
    "kernelspec": {
      "name": "python3",
      "display_name": "Python 3"
    },
    "language_info": {
      "name": "python"
    }
  },
  "cells": [
    {
      "cell_type": "markdown",
      "metadata": {
        "id": "X9F8FTGZzaSe"
      },
      "source": [
        "# AS6095 \"Astroinformatics\"\n",
        "\n",
        "## for academic year 2023 (from Sep/2023 to Jan/2024)\n",
        "\n",
        "## instructor: Kinoshita Daisuke\n",
        "\n",
        "## Course web page: https://s3b.astro.ncu.edu.tw/ai_202309/\n",
        "\n",
        "## GitHub repository: https://github.com/kinoshitadaisuke/ncu_astroinformatics_202309\n"
      ]
    },
    {
      "cell_type": "markdown",
      "metadata": {
        "id": "MKQ0pdfJCZ1I"
      },
      "source": [
        "# Session 10 \"Hubble diagram and expansion of the Universe\"\n",
        "\n",
        "## 20 November 2023\n"
      ]
    },
    {
      "cell_type": "markdown",
      "metadata": {
        "id": "FVmonUCL197r"
      },
      "source": [
        "# Downloading a set of sample Python scripts and changing directory"
      ]
    },
    {
      "cell_type": "code",
      "execution_count": null,
      "metadata": {
        "id": "E-J1KLJAzmx5"
      },
      "outputs": [],
      "source": [
        "# Run this cell to download a set of sample Python scripts for this course.\n",
        "\n",
        "!git clone https://github.com/kinoshitadaisuke/ncu_astroinformatics_202309.git"
      ]
    },
    {
      "cell_type": "code",
      "execution_count": null,
      "metadata": {
        "id": "NU4Otc0i2jfu"
      },
      "outputs": [],
      "source": [
        "# Run this cell to check whether you have a directory named \"ncu_astroinformatics_202309\".\n",
        "\n",
        "!ls"
      ]
    },
    {
      "cell_type": "code",
      "execution_count": null,
      "metadata": {
        "id": "faZRhZv821VY"
      },
      "outputs": [],
      "source": [
        "# Run this cell to move to the directory \"ncu_astroinformatics_202309\".\n",
        "\n",
        "%cd ncu_astroinformatics_202309"
      ]
    },
    {
      "cell_type": "code",
      "execution_count": null,
      "metadata": {
        "id": "hUjHlUZk3Bov"
      },
      "outputs": [],
      "source": [
        "# Run this cell to show currently working directory.\n",
        "\n",
        "!pwd"
      ]
    },
    {
      "cell_type": "code",
      "execution_count": null,
      "metadata": {
        "id": "RXAGJHeX3IsD"
      },
      "outputs": [],
      "source": [
        "# Run this cell to show files and directories.\n",
        "\n",
        "!ls -lF"
      ]
    },
    {
      "cell_type": "code",
      "execution_count": null,
      "metadata": {
        "id": "xR0V8I0k3O3k"
      },
      "outputs": [],
      "source": [
        "# Run this cell to move to the directory \"s10\".\n",
        "\n",
        "%cd s10"
      ]
    },
    {
      "cell_type": "code",
      "execution_count": null,
      "metadata": {
        "id": "KbvQ_3Su3UKL"
      },
      "outputs": [],
      "source": [
        "# Run this cell to show currently working directory.\n",
        "\n",
        "!pwd"
      ]
    },
    {
      "cell_type": "code",
      "execution_count": null,
      "metadata": {
        "id": "n9AAgI4d3c6n"
      },
      "outputs": [],
      "source": [
        "# Run this cell to show files and directories.\n",
        "\n",
        "!ls -lF"
      ]
    },
    {
      "cell_type": "markdown",
      "source": [
        "# Installation of Astropy"
      ],
      "metadata": {
        "id": "jVlw3LHHcBFa"
      }
    },
    {
      "cell_type": "code",
      "source": [
        "# Install Astropy if you do not have it.\n",
        "\n",
        "!apt install python3-astropy"
      ],
      "metadata": {
        "id": "tsoYTACbb4dj"
      },
      "execution_count": null,
      "outputs": []
    },
    {
      "cell_type": "markdown",
      "source": [
        "# Installation of Astroquery"
      ],
      "metadata": {
        "id": "Vfizk8zptcUd"
      }
    },
    {
      "cell_type": "code",
      "source": [
        "# Install Astroquery if you do not have it.\n",
        "\n",
        "!apt install python3-astroquery"
      ],
      "metadata": {
        "id": "LPKl1pj2ted3"
      },
      "execution_count": null,
      "outputs": []
    },
    {
      "cell_type": "markdown",
      "source": [
        "# Script \"ai2023_s10_00_00.py\""
      ],
      "metadata": {
        "id": "ruyvFomX3tHE"
      }
    },
    {
      "cell_type": "code",
      "source": [
        "# Run this cell to show the source code of the script.\n",
        "\n",
        "!cat ai2023_s10_00_00.py"
      ],
      "metadata": {
        "id": "rHlPblWq3vhQ"
      },
      "execution_count": null,
      "outputs": []
    },
    {
      "cell_type": "code",
      "source": [
        "# Run this cell to execute the script.\n",
        "\n",
        "!python3.10 ai2023_s10_00_00.py"
      ],
      "metadata": {
        "id": "6OT-NvkRCpsZ"
      },
      "execution_count": null,
      "outputs": []
    },
    {
      "cell_type": "markdown",
      "source": [
        "# Practice s10-01"
      ],
      "metadata": {
        "id": "TOKbMshT365T"
      }
    },
    {
      "cell_type": "code",
      "source": [
        "# Write down your code in this cell.\n",
        "\n",
        "\n",
        "\n",
        "\n"
      ],
      "metadata": {
        "id": "64-pHjEt34XC"
      },
      "execution_count": null,
      "outputs": []
    },
    {
      "cell_type": "markdown",
      "source": [
        "# Script \"ai2023_s10_00_01.py\""
      ],
      "metadata": {
        "id": "HlwdYJ9EYroZ"
      }
    },
    {
      "cell_type": "code",
      "source": [
        "# Run this cell to show the source code of the script.\n",
        "\n",
        "!cat ai2023_s10_00_01.py"
      ],
      "metadata": {
        "id": "MXcdOu7mYrod"
      },
      "execution_count": null,
      "outputs": []
    },
    {
      "cell_type": "code",
      "source": [
        "# Run this cell to execute the script.\n",
        "\n",
        "!python3.10 ai2023_s10_00_01.py -h"
      ],
      "metadata": {
        "id": "Wx4jXkAsYroe"
      },
      "execution_count": null,
      "outputs": []
    },
    {
      "cell_type": "code",
      "source": [
        "# Run this cell to execute the script.\n",
        "\n",
        "!python3.10 ai2023_s10_00_01.py astropy"
      ],
      "metadata": {
        "id": "_cyJAPauYwQg"
      },
      "execution_count": null,
      "outputs": []
    },
    {
      "cell_type": "code",
      "source": [
        "# Run this cell to execute the script.\n",
        "\n",
        "!python3.10 ai2023_s10_00_01.py photutils"
      ],
      "metadata": {
        "id": "jvukUJOXZAOt"
      },
      "execution_count": null,
      "outputs": []
    },
    {
      "cell_type": "code",
      "source": [
        "# Run this cell to execute the script.\n",
        "\n",
        "!python3.10 ai2023_s10_00_01.py numpy scipy"
      ],
      "metadata": {
        "id": "L4_9V7GvZEAQ"
      },
      "execution_count": null,
      "outputs": []
    },
    {
      "cell_type": "code",
      "source": [
        "# Run this cell to execute the script.\n",
        "\n",
        "!python3.10 ai2023_s10_00_01.py uncertainties pint sklearn"
      ],
      "metadata": {
        "id": "fSNPO8yLZJc8"
      },
      "execution_count": null,
      "outputs": []
    },
    {
      "cell_type": "markdown",
      "source": [
        "# Practice s10-02"
      ],
      "metadata": {
        "id": "-hylju6MYrof"
      }
    },
    {
      "cell_type": "code",
      "source": [
        "# Write down your code in this cell.\n",
        "\n",
        "\n",
        "\n",
        "\n"
      ],
      "metadata": {
        "id": "DzHsW4LsYrog"
      },
      "execution_count": null,
      "outputs": []
    },
    {
      "cell_type": "markdown",
      "source": [
        "# Script \"ai2023_s10_01_00.py\""
      ],
      "metadata": {
        "id": "VwBE5vfJZbS6"
      }
    },
    {
      "cell_type": "code",
      "source": [
        "# Run this cell to show the source code of the script.\n",
        "\n",
        "!cat ai2023_s10_01_00.py"
      ],
      "metadata": {
        "id": "v4lwSelOZbTA"
      },
      "execution_count": null,
      "outputs": []
    },
    {
      "cell_type": "code",
      "source": [
        "# Run this cell to execute the script.\n",
        "\n",
        "!python3.10 ai2023_s10_01_00.py"
      ],
      "metadata": {
        "id": "2S50BaY4ZbTB"
      },
      "execution_count": null,
      "outputs": []
    },
    {
      "cell_type": "markdown",
      "source": [
        "# Practice s10-03"
      ],
      "metadata": {
        "id": "wDuN5Wb8ZbTD"
      }
    },
    {
      "cell_type": "code",
      "source": [
        "# Write down your code in this cell.\n",
        "\n",
        "\n",
        "\n",
        "\n"
      ],
      "metadata": {
        "id": "2otYYnECZbTE"
      },
      "execution_count": null,
      "outputs": []
    },
    {
      "cell_type": "markdown",
      "source": [
        "# Script \"ai2023_s10_01_01.py\""
      ],
      "metadata": {
        "id": "c4UPynhbZmXR"
      }
    },
    {
      "cell_type": "code",
      "source": [
        "# Run this cell to show the source code of the script.\n",
        "\n",
        "!cat ai2023_s10_01_01.py"
      ],
      "metadata": {
        "id": "DyNm3SBYZmXR"
      },
      "execution_count": null,
      "outputs": []
    },
    {
      "cell_type": "code",
      "source": [
        "# Run this cell to execute the script.\n",
        "\n",
        "!python3.10 ai2023_s10_01_01.py"
      ],
      "metadata": {
        "id": "2mNaoTf0ZmXS"
      },
      "execution_count": null,
      "outputs": []
    },
    {
      "cell_type": "markdown",
      "source": [
        "# Practice s10-04"
      ],
      "metadata": {
        "id": "kUEKfu4dZmXT"
      }
    },
    {
      "cell_type": "code",
      "source": [
        "# Write down your code in this cell.\n",
        "\n",
        "\n",
        "\n",
        "\n"
      ],
      "metadata": {
        "id": "rCbhDjYYZmXT"
      },
      "execution_count": null,
      "outputs": []
    },
    {
      "cell_type": "markdown",
      "source": [
        "# Script \"ai2023_s10_01_02.py\""
      ],
      "metadata": {
        "id": "YJHKqS6SZr_5"
      }
    },
    {
      "cell_type": "code",
      "source": [
        "# Run this cell to show the source code of the script.\n",
        "\n",
        "!cat ai2023_s10_01_02.py"
      ],
      "metadata": {
        "id": "_uo13vWIZr_-"
      },
      "execution_count": null,
      "outputs": []
    },
    {
      "cell_type": "code",
      "source": [
        "# Run this cell to execute the script.\n",
        "\n",
        "!python3.10 ai2023_s10_01_02.py"
      ],
      "metadata": {
        "id": "oSdhwsQpZr__"
      },
      "execution_count": null,
      "outputs": []
    },
    {
      "cell_type": "markdown",
      "source": [
        "# Practice s10-05"
      ],
      "metadata": {
        "id": "S7bPbWasZsAB"
      }
    },
    {
      "cell_type": "code",
      "source": [
        "# Write down your code in this cell.\n",
        "\n",
        "\n",
        "\n",
        "\n"
      ],
      "metadata": {
        "id": "K8AYxp_7ZsAC"
      },
      "execution_count": null,
      "outputs": []
    },
    {
      "cell_type": "markdown",
      "source": [
        "# Script \"ai2023_s10_01_03.py\""
      ],
      "metadata": {
        "id": "7lyD3t97ZyCq"
      }
    },
    {
      "cell_type": "code",
      "source": [
        "# Run this cell to show the source code of the script.\n",
        "\n",
        "!cat ai2023_s10_01_03.py"
      ],
      "metadata": {
        "id": "prWFC_S9ZyCr"
      },
      "execution_count": null,
      "outputs": []
    },
    {
      "cell_type": "code",
      "source": [
        "# Run this cell to execute the script.\n",
        "\n",
        "!python3.10 ai2023_s10_01_03.py"
      ],
      "metadata": {
        "id": "Z_vxFrdNZyCs"
      },
      "execution_count": null,
      "outputs": []
    },
    {
      "cell_type": "markdown",
      "source": [
        "# Practice s10-06"
      ],
      "metadata": {
        "id": "Bk4zQZwkZyCt"
      }
    },
    {
      "cell_type": "code",
      "source": [
        "# Write down your code in this cell.\n",
        "\n",
        "\n",
        "\n",
        "\n"
      ],
      "metadata": {
        "id": "BuK1Og7jZyCt"
      },
      "execution_count": null,
      "outputs": []
    },
    {
      "cell_type": "markdown",
      "source": [
        "# Script \"ai2023_s10_01_04.py\""
      ],
      "metadata": {
        "id": "-nsdr2-uZ39_"
      }
    },
    {
      "cell_type": "code",
      "source": [
        "# Run this cell to show the source code of the script.\n",
        "\n",
        "!cat ai2023_s10_01_04.py"
      ],
      "metadata": {
        "id": "uX-5qJyxZ3-G"
      },
      "execution_count": null,
      "outputs": []
    },
    {
      "cell_type": "code",
      "source": [
        "# Run this cell to execute the script.\n",
        "\n",
        "!python3.10 ai2023_s10_01_04.py"
      ],
      "metadata": {
        "id": "3GpkTRWsZ3-I"
      },
      "execution_count": null,
      "outputs": []
    },
    {
      "cell_type": "markdown",
      "source": [
        "# Practice s10-07"
      ],
      "metadata": {
        "id": "PlF4ohJeZ3-J"
      }
    },
    {
      "cell_type": "code",
      "source": [
        "# Write down your code in this cell.\n",
        "\n",
        "\n",
        "\n",
        "\n"
      ],
      "metadata": {
        "id": "93SuwUbeZ3-J"
      },
      "execution_count": null,
      "outputs": []
    },
    {
      "cell_type": "markdown",
      "source": [
        "# Script \"ai2023_s10_01_05.py\""
      ],
      "metadata": {
        "id": "Cou9UZgyaCEK"
      }
    },
    {
      "cell_type": "code",
      "source": [
        "# Run this cell to check availability of GitPython package.\n",
        "\n",
        "!python3.10 ai2023_s10_00_01.py git"
      ],
      "metadata": {
        "id": "1Qs4noiLaKeA"
      },
      "execution_count": null,
      "outputs": []
    },
    {
      "cell_type": "code",
      "source": [
        "# Run this cell to install GitPython package.\n",
        "\n",
        "!apt install python3-git"
      ],
      "metadata": {
        "id": "vbQKAHe_aSv4"
      },
      "execution_count": null,
      "outputs": []
    },
    {
      "cell_type": "code",
      "source": [
        "# Run this cell to check availability of GitPython package.\n",
        "\n",
        "!python3.10 ai2023_s10_00_01.py git"
      ],
      "metadata": {
        "id": "F6wkT55QacN9"
      },
      "execution_count": null,
      "outputs": []
    },
    {
      "cell_type": "code",
      "source": [
        "# Run this cell to show the source code of the script.\n",
        "\n",
        "!cat ai2023_s10_01_05.py"
      ],
      "metadata": {
        "id": "qfA6nU2EaCEO"
      },
      "execution_count": null,
      "outputs": []
    },
    {
      "cell_type": "code",
      "source": [
        "# Run this cell to execute the script.\n",
        "\n",
        "!python3.10 ai2023_s10_01_05.py"
      ],
      "metadata": {
        "id": "lsKuJp5laCEP"
      },
      "execution_count": null,
      "outputs": []
    },
    {
      "cell_type": "markdown",
      "source": [
        "# Practice s10-08"
      ],
      "metadata": {
        "id": "AeBaHl5laCEQ"
      }
    },
    {
      "cell_type": "code",
      "source": [
        "# Write down your code in this cell.\n",
        "\n",
        "\n",
        "\n",
        "\n"
      ],
      "metadata": {
        "id": "zVrCqnrZaCER"
      },
      "execution_count": null,
      "outputs": []
    },
    {
      "cell_type": "markdown",
      "source": [
        "# Script \"ai2023_s10_01_06.py\""
      ],
      "metadata": {
        "id": "hx2-FEb1am-R"
      }
    },
    {
      "cell_type": "code",
      "source": [
        "# Run this cell to show the source code of the script.\n",
        "\n",
        "!cat ai2023_s10_01_06.py"
      ],
      "metadata": {
        "id": "aOMk_2J6am-a"
      },
      "execution_count": null,
      "outputs": []
    },
    {
      "cell_type": "code",
      "source": [
        "# Run this cell to execute the script.\n",
        "\n",
        "!python3.10 ai2023_s10_01_06.py"
      ],
      "metadata": {
        "id": "1hGKWkuqam-a"
      },
      "execution_count": null,
      "outputs": []
    },
    {
      "cell_type": "markdown",
      "source": [
        "# Practice s10-09"
      ],
      "metadata": {
        "id": "hJvNprSLam-b"
      }
    },
    {
      "cell_type": "code",
      "source": [
        "# Write down your code in this cell.\n",
        "\n",
        "\n",
        "\n",
        "\n"
      ],
      "metadata": {
        "id": "5S2Zrnrcam-b"
      },
      "execution_count": null,
      "outputs": []
    },
    {
      "cell_type": "markdown",
      "source": [
        "# Script \"ai2023_s10_01_07.py\""
      ],
      "metadata": {
        "id": "ewnUlIiXawWO"
      }
    },
    {
      "cell_type": "code",
      "source": [
        "# Run this cell to show the source code of the script.\n",
        "\n",
        "!cat ai2023_s10_01_07.py"
      ],
      "metadata": {
        "id": "h7kxAkbZawWT"
      },
      "execution_count": null,
      "outputs": []
    },
    {
      "cell_type": "code",
      "source": [
        "# Run this cell to execute the script.\n",
        "\n",
        "!python3.10 ai2023_s10_01_07.py"
      ],
      "metadata": {
        "id": "NaAOJUpuawWV"
      },
      "execution_count": null,
      "outputs": []
    },
    {
      "cell_type": "markdown",
      "source": [
        "# Practice s10-10"
      ],
      "metadata": {
        "id": "cuLilOk-awWY"
      }
    },
    {
      "cell_type": "code",
      "source": [
        "# Write down your code in this cell.\n",
        "\n",
        "\n",
        "\n",
        "\n"
      ],
      "metadata": {
        "id": "5gM7edbPawWZ"
      },
      "execution_count": null,
      "outputs": []
    },
    {
      "cell_type": "markdown",
      "source": [
        "# Script \"ai2023_s10_02_00.py\""
      ],
      "metadata": {
        "id": "VVfjW4n3a2dt"
      }
    },
    {
      "cell_type": "code",
      "source": [
        "# Run this cell to show the source code of the script.\n",
        "\n",
        "!cat ai2023_s10_02_00.py"
      ],
      "metadata": {
        "id": "e-uQI9kea2dx"
      },
      "execution_count": null,
      "outputs": []
    },
    {
      "cell_type": "code",
      "source": [
        "# Run this cell to execute the script.\n",
        "\n",
        "!python3.10 ai2023_s10_02_00.py"
      ],
      "metadata": {
        "id": "JjoN_g-4a2dz"
      },
      "execution_count": null,
      "outputs": []
    },
    {
      "cell_type": "markdown",
      "source": [
        "# Practice s10-11"
      ],
      "metadata": {
        "id": "cgQLR0kDa2d0"
      }
    },
    {
      "cell_type": "code",
      "source": [
        "# Write down your code in this cell.\n",
        "\n",
        "\n",
        "\n",
        "\n"
      ],
      "metadata": {
        "id": "WxroKZBYa2d1"
      },
      "execution_count": null,
      "outputs": []
    },
    {
      "cell_type": "markdown",
      "source": [
        "# Script \"ai2023_s10_02_01.py\""
      ],
      "metadata": {
        "id": "J-_yEa_xa8Q_"
      }
    },
    {
      "cell_type": "code",
      "source": [
        "# Run this cell to show the source code of the script.\n",
        "\n",
        "!cat ai2023_s10_02_01.py"
      ],
      "metadata": {
        "id": "wBkuqWsUa8RA"
      },
      "execution_count": null,
      "outputs": []
    },
    {
      "cell_type": "code",
      "source": [
        "# Run this cell to execute the script.\n",
        "\n",
        "!python3.10 ai2023_s10_02_01.py"
      ],
      "metadata": {
        "id": "jLIB1tvHa8RB"
      },
      "execution_count": null,
      "outputs": []
    },
    {
      "cell_type": "markdown",
      "source": [
        "# Practice s10-12"
      ],
      "metadata": {
        "id": "4nWJqUgka8RC"
      }
    },
    {
      "cell_type": "code",
      "source": [
        "# Write down your code in this cell.\n",
        "\n",
        "\n",
        "\n",
        "\n"
      ],
      "metadata": {
        "id": "_j2kde1ka8RC"
      },
      "execution_count": null,
      "outputs": []
    },
    {
      "cell_type": "markdown",
      "source": [
        "# Script \"ai2023_s10_02_02.py\""
      ],
      "metadata": {
        "id": "zW4buY2ObLUm"
      }
    },
    {
      "cell_type": "code",
      "source": [
        "# Run this cell to show the source code of the script.\n",
        "\n",
        "!cat ai2023_s10_02_02.py"
      ],
      "metadata": {
        "id": "GRFrMyZqbLUo"
      },
      "execution_count": null,
      "outputs": []
    },
    {
      "cell_type": "code",
      "source": [
        "# Run this cell to execute the script.\n",
        "\n",
        "!python3.10 ai2023_s10_02_02.py"
      ],
      "metadata": {
        "id": "p9VGg04UbLUq"
      },
      "execution_count": null,
      "outputs": []
    },
    {
      "cell_type": "markdown",
      "source": [
        "# Practice s10-13"
      ],
      "metadata": {
        "id": "zfshlRTbbLUq"
      }
    },
    {
      "cell_type": "code",
      "source": [
        "# Write down your code in this cell.\n",
        "\n",
        "\n",
        "\n",
        "\n"
      ],
      "metadata": {
        "id": "9e7nxvLmbLUr"
      },
      "execution_count": null,
      "outputs": []
    },
    {
      "cell_type": "markdown",
      "source": [
        "# Script \"ai2023_s10_02_03.py\""
      ],
      "metadata": {
        "id": "9kr-UCrsbQmt"
      }
    },
    {
      "cell_type": "code",
      "source": [
        "# Run this cell to show the source code of the script.\n",
        "\n",
        "!cat ai2023_s10_02_03.py"
      ],
      "metadata": {
        "id": "vyHtjBBBbQmv"
      },
      "execution_count": null,
      "outputs": []
    },
    {
      "cell_type": "code",
      "source": [
        "# Run this cell to execute the script.\n",
        "\n",
        "!python3.10 ai2023_s10_02_03.py"
      ],
      "metadata": {
        "id": "uQngKeYgbQmv"
      },
      "execution_count": null,
      "outputs": []
    },
    {
      "cell_type": "markdown",
      "source": [
        "# Practice s10-14"
      ],
      "metadata": {
        "id": "X_Uf4raFbQmv"
      }
    },
    {
      "cell_type": "code",
      "source": [
        "# Write down your code in this cell.\n",
        "\n",
        "\n",
        "\n",
        "\n"
      ],
      "metadata": {
        "id": "mMx8cmITbQmw"
      },
      "execution_count": null,
      "outputs": []
    },
    {
      "cell_type": "markdown",
      "source": [
        "# Script \"ai2023_s10_02_04.py\""
      ],
      "metadata": {
        "id": "mk6Jz0mZbV7h"
      }
    },
    {
      "cell_type": "code",
      "source": [
        "# Run this cell to show the source code of the script.\n",
        "\n",
        "!cat ai2023_s10_02_04.py"
      ],
      "metadata": {
        "id": "yilHWNukbV7p"
      },
      "execution_count": null,
      "outputs": []
    },
    {
      "cell_type": "code",
      "source": [
        "# Run this cell to execute the script.\n",
        "\n",
        "!python3.10 ai2023_s10_02_04.py"
      ],
      "metadata": {
        "id": "N1r-ylm5bV7r"
      },
      "execution_count": null,
      "outputs": []
    },
    {
      "cell_type": "markdown",
      "source": [
        "# Practice s10-15"
      ],
      "metadata": {
        "id": "p0FfOwIlbV7s"
      }
    },
    {
      "cell_type": "code",
      "source": [
        "# Write down your code in this cell.\n",
        "\n",
        "\n",
        "\n",
        "\n"
      ],
      "metadata": {
        "id": "liqoeIxRbV7t"
      },
      "execution_count": null,
      "outputs": []
    },
    {
      "cell_type": "markdown",
      "source": [
        "# Script \"ai2023_s10_02_05.py\""
      ],
      "metadata": {
        "id": "ul1DGRXgbdAP"
      }
    },
    {
      "cell_type": "code",
      "source": [
        "# Run this cell to show the source code of the script.\n",
        "\n",
        "!cat ai2023_s10_02_05.py"
      ],
      "metadata": {
        "id": "-haVcanHbdAQ"
      },
      "execution_count": null,
      "outputs": []
    },
    {
      "cell_type": "code",
      "source": [
        "# Run this cell to execute the script.\n",
        "\n",
        "!python3.10 ai2023_s10_02_05.py"
      ],
      "metadata": {
        "id": "a-2i1PuubdAS"
      },
      "execution_count": null,
      "outputs": []
    },
    {
      "cell_type": "markdown",
      "source": [
        "# Practice s10-16"
      ],
      "metadata": {
        "id": "fN2j1TXnbdAT"
      }
    },
    {
      "cell_type": "code",
      "source": [
        "# Write down your code in this cell.\n",
        "\n",
        "\n",
        "\n",
        "\n"
      ],
      "metadata": {
        "id": "uSjlfSQAbdAT"
      },
      "execution_count": null,
      "outputs": []
    },
    {
      "cell_type": "markdown",
      "source": [
        "# Script \"ai2023_s10_02_06.py\""
      ],
      "metadata": {
        "id": "rILHHcxvbiPv"
      }
    },
    {
      "cell_type": "code",
      "source": [
        "# Run this cell to show the source code of the script.\n",
        "\n",
        "!cat ai2023_s10_02_06.py"
      ],
      "metadata": {
        "id": "4_9pr5tgbiPw"
      },
      "execution_count": null,
      "outputs": []
    },
    {
      "cell_type": "code",
      "source": [
        "# Run this cell to execute the script.\n",
        "\n",
        "!python3.10 ai2023_s10_02_06.py"
      ],
      "metadata": {
        "id": "b2g0BxKDbiPw"
      },
      "execution_count": null,
      "outputs": []
    },
    {
      "cell_type": "markdown",
      "source": [
        "# Practice s10-17"
      ],
      "metadata": {
        "id": "9l3lUEGGbiPw"
      }
    },
    {
      "cell_type": "code",
      "source": [
        "# Write down your code in this cell.\n",
        "\n",
        "\n",
        "\n",
        "\n"
      ],
      "metadata": {
        "id": "9Ru6w1B5biPx"
      },
      "execution_count": null,
      "outputs": []
    },
    {
      "cell_type": "markdown",
      "source": [
        "# Script \"ai2023_s10_02_07.py\""
      ],
      "metadata": {
        "id": "iqFDj0A8boAG"
      }
    },
    {
      "cell_type": "code",
      "source": [
        "# Run this cell to show the source code of the script.\n",
        "\n",
        "!cat ai2023_s10_02_07.py"
      ],
      "metadata": {
        "id": "55vbC43_boAJ"
      },
      "execution_count": null,
      "outputs": []
    },
    {
      "cell_type": "code",
      "source": [
        "# Run this cell to execute the script.\n",
        "\n",
        "!python3.10 ai2023_s10_02_07.py"
      ],
      "metadata": {
        "id": "4Zvf0bLYboAL"
      },
      "execution_count": null,
      "outputs": []
    },
    {
      "cell_type": "markdown",
      "source": [
        "# Practice s10-18"
      ],
      "metadata": {
        "id": "s92KfhGtboAM"
      }
    },
    {
      "cell_type": "code",
      "source": [
        "# Write down your code in this cell.\n",
        "\n",
        "\n",
        "\n",
        "\n"
      ],
      "metadata": {
        "id": "BxGHFghzboAM"
      },
      "execution_count": null,
      "outputs": []
    },
    {
      "cell_type": "markdown",
      "source": [
        "# Script \"ai2023_s10_03_00.py\""
      ],
      "metadata": {
        "id": "mtMI8RaNbxQw"
      }
    },
    {
      "cell_type": "code",
      "source": [
        "# Run this cell to show the source code of the script.\n",
        "\n",
        "!cat ai2023_s10_03_00.py"
      ],
      "metadata": {
        "id": "Tsa-01CKbxQy"
      },
      "execution_count": null,
      "outputs": []
    },
    {
      "cell_type": "code",
      "source": [
        "# Run this cell to execute the script.\n",
        "\n",
        "!python3.10 ai2023_s10_03_00.py"
      ],
      "metadata": {
        "id": "ifmyV9jSbxQz"
      },
      "execution_count": null,
      "outputs": []
    },
    {
      "cell_type": "markdown",
      "source": [
        "# Script \"ai2023_s10_03_01.py\""
      ],
      "metadata": {
        "id": "J8uc0YDfb3yf"
      }
    },
    {
      "cell_type": "code",
      "source": [
        "# Run this cell to show the source code of the script.\n",
        "\n",
        "!cat ai2023_s10_03_01.py"
      ],
      "metadata": {
        "id": "p-Bu8UR-b3yj"
      },
      "execution_count": null,
      "outputs": []
    },
    {
      "cell_type": "code",
      "source": [
        "# Run this cell to execute the script.\n",
        "\n",
        "!python3.10 ai2023_s10_03_01.py"
      ],
      "metadata": {
        "id": "KXXqIPmgb3yk"
      },
      "execution_count": null,
      "outputs": []
    },
    {
      "cell_type": "markdown",
      "source": [
        "# Script \"ai2023_s10_03_02.py\""
      ],
      "metadata": {
        "id": "vsTWGNlPb8FS"
      }
    },
    {
      "cell_type": "code",
      "source": [
        "# Run this cell to show the source code of the script.\n",
        "\n",
        "!cat ai2023_s10_03_02.py"
      ],
      "metadata": {
        "id": "Jev4vgxSb8FT"
      },
      "execution_count": null,
      "outputs": []
    },
    {
      "cell_type": "code",
      "source": [
        "# Run this cell to execute the script.\n",
        "\n",
        "!python3.10 ai2023_s10_03_02.py"
      ],
      "metadata": {
        "id": "BVBT9lnEb8FV"
      },
      "execution_count": null,
      "outputs": []
    },
    {
      "cell_type": "markdown",
      "source": [
        "# Practice s10-19"
      ],
      "metadata": {
        "id": "Cx7Zk1dDb_-3"
      }
    },
    {
      "cell_type": "code",
      "source": [
        "# Write down your code in this cell.\n",
        "\n",
        "\n",
        "\n",
        "\n"
      ],
      "metadata": {
        "id": "9TToJO5_b_-4"
      },
      "execution_count": null,
      "outputs": []
    },
    {
      "cell_type": "markdown",
      "source": [
        "# Script \"ai2023_s10_03_03.py\""
      ],
      "metadata": {
        "id": "EMhmko_ncEUu"
      }
    },
    {
      "cell_type": "code",
      "source": [
        "# Run this cell to show the source code of the script.\n",
        "\n",
        "!cat ai2023_s10_03_03.py"
      ],
      "metadata": {
        "id": "dAorxq4lcEUu"
      },
      "execution_count": null,
      "outputs": []
    },
    {
      "cell_type": "code",
      "source": [
        "# Run this cell to execute the script.\n",
        "\n",
        "!python3.10 ai2023_s10_03_03.py -h"
      ],
      "metadata": {
        "id": "OZ5xSE2JcEUv"
      },
      "execution_count": null,
      "outputs": []
    },
    {
      "cell_type": "code",
      "source": [
        "# Run this cell to execute the script.\n",
        "\n",
        "!python3.10 ai2023_s10_03_03.py -i lvg.data -o lvg.png"
      ],
      "metadata": {
        "id": "83SWqAqocH1C"
      },
      "execution_count": null,
      "outputs": []
    },
    {
      "cell_type": "code",
      "source": [
        "# Run this cell to display PNG image.\n",
        "\n",
        "# importing IPython.display module\n",
        "import IPython.display\n",
        "\n",
        "# displaying PNG file\n",
        "IPython.display.Image ('lvg.png')"
      ],
      "metadata": {
        "id": "wp4Hfr0b4dLH"
      },
      "execution_count": null,
      "outputs": []
    },
    {
      "cell_type": "markdown",
      "source": [
        "# Practice s10-20"
      ],
      "metadata": {
        "id": "bEwJ6D_6cEUv"
      }
    },
    {
      "cell_type": "code",
      "source": [
        "# Write down your code in this cell.\n",
        "\n",
        "\n",
        "\n",
        "\n"
      ],
      "metadata": {
        "id": "CMfWzjCNcEUv"
      },
      "execution_count": null,
      "outputs": []
    },
    {
      "cell_type": "markdown",
      "source": [
        "# Script \"ai2023_s10_04_00.py\""
      ],
      "metadata": {
        "id": "zCUknzdfcu0K"
      }
    },
    {
      "cell_type": "code",
      "source": [
        "# Run this cell to show the source code of the script.\n",
        "\n",
        "!cat ai2023_s10_04_00.py"
      ],
      "metadata": {
        "id": "8e58mis7cu0M"
      },
      "execution_count": null,
      "outputs": []
    },
    {
      "cell_type": "code",
      "source": [
        "# Run this cell to execute the script.\n",
        "\n",
        "!python3.10 ai2023_s10_04_00.py"
      ],
      "metadata": {
        "id": "pB381JKmcu0N"
      },
      "execution_count": null,
      "outputs": []
    },
    {
      "cell_type": "markdown",
      "source": [
        "# Script \"ai2023_s10_04_01.py\""
      ],
      "metadata": {
        "id": "7yfyF0hmc0qj"
      }
    },
    {
      "cell_type": "code",
      "source": [
        "# Run this cell to show the source code of the script.\n",
        "\n",
        "!cat ai2023_s10_04_01.py"
      ],
      "metadata": {
        "id": "My6z9iWZc0qq"
      },
      "execution_count": null,
      "outputs": []
    },
    {
      "cell_type": "code",
      "source": [
        "# Run this cell to execute the script.\n",
        "\n",
        "!python3.10 ai2023_s10_04_01.py"
      ],
      "metadata": {
        "id": "mx2O__26c0qs"
      },
      "execution_count": null,
      "outputs": []
    },
    {
      "cell_type": "markdown",
      "source": [
        "# Script \"ai2023_s10_04_02.py\""
      ],
      "metadata": {
        "id": "_1lmlIa2c5Wi"
      }
    },
    {
      "cell_type": "code",
      "source": [
        "# Run this cell to show the source code of the script.\n",
        "\n",
        "!cat ai2023_s10_04_02.py"
      ],
      "metadata": {
        "id": "fJK8gr5jc5Wj"
      },
      "execution_count": null,
      "outputs": []
    },
    {
      "cell_type": "code",
      "source": [
        "# Run this cell to execute the script.\n",
        "\n",
        "!python3.10 ai2023_s10_04_02.py"
      ],
      "metadata": {
        "id": "ByU1dWw1c5Wl"
      },
      "execution_count": null,
      "outputs": []
    },
    {
      "cell_type": "markdown",
      "source": [
        "# Practice s10-21"
      ],
      "metadata": {
        "id": "cReDv4grc9K5"
      }
    },
    {
      "cell_type": "code",
      "source": [
        "# Write down your code in this cell.\n",
        "\n",
        "\n",
        "\n",
        "\n"
      ],
      "metadata": {
        "id": "fNNOqbbvc9K5"
      },
      "execution_count": null,
      "outputs": []
    },
    {
      "cell_type": "markdown",
      "source": [
        "# Script \"ai2023_s10_04_03.py\""
      ],
      "metadata": {
        "id": "P94f0XSxdV2x"
      }
    },
    {
      "cell_type": "code",
      "source": [
        "# Run this cell to show the source code of the script.\n",
        "\n",
        "!cat ai2023_s10_04_03.py"
      ],
      "metadata": {
        "id": "OmsSqXIpdV20"
      },
      "execution_count": null,
      "outputs": []
    },
    {
      "cell_type": "code",
      "source": [
        "# Run this cell to execute the script.\n",
        "\n",
        "!python3.10 ai2023_s10_04_03.py -h"
      ],
      "metadata": {
        "id": "yLFeJKUCdV22"
      },
      "execution_count": null,
      "outputs": []
    },
    {
      "cell_type": "code",
      "source": [
        "# Run this cell to execute the script.\n",
        "\n",
        "!python3.10 ai2023_s10_04_03.py -i ned1d_new.csv -o ned1d.png"
      ],
      "metadata": {
        "id": "BhAyNlYPdgyl"
      },
      "execution_count": null,
      "outputs": []
    },
    {
      "cell_type": "code",
      "source": [
        "# Run this cell to display PNG image.\n",
        "\n",
        "# importing IPython.display module\n",
        "import IPython.display\n",
        "\n",
        "# displaying PNG file\n",
        "IPython.display.Image ('ned1d.png')"
      ],
      "metadata": {
        "id": "q62KB8OVdsw6"
      },
      "execution_count": null,
      "outputs": []
    },
    {
      "cell_type": "markdown",
      "source": [
        "# Practice s10-22"
      ],
      "metadata": {
        "id": "fV9TwXCOdV22"
      }
    },
    {
      "cell_type": "code",
      "source": [
        "# Write down your code in this cell.\n",
        "\n",
        "\n",
        "\n",
        "\n"
      ],
      "metadata": {
        "id": "mya3HDu2dV23"
      },
      "execution_count": null,
      "outputs": []
    },
    {
      "cell_type": "markdown",
      "source": [
        "# Script \"ai2023_s10_04_04.py\""
      ],
      "metadata": {
        "id": "tAEjrBVMeE2d"
      }
    },
    {
      "cell_type": "code",
      "source": [
        "# Run this cell to show the source code of the script.\n",
        "\n",
        "!cat ai2023_s10_04_04.py"
      ],
      "metadata": {
        "id": "M6cJNNkreE2f"
      },
      "execution_count": null,
      "outputs": []
    },
    {
      "cell_type": "code",
      "source": [
        "# Run this cell to execute the script.\n",
        "\n",
        "!python3.10 ai2023_s10_04_04.py -h"
      ],
      "metadata": {
        "id": "fymKJueVeE2g"
      },
      "execution_count": null,
      "outputs": []
    },
    {
      "cell_type": "code",
      "source": [
        "# Run this cell to execute the script.\n",
        "\n",
        "!python3.10 ai2023_s10_04_04.py -i ned1d_new.csv -o ned1d_fit.png"
      ],
      "metadata": {
        "id": "xrZdGmfaeE2i"
      },
      "execution_count": null,
      "outputs": []
    },
    {
      "cell_type": "code",
      "source": [
        "# Run this cell to display PNG image.\n",
        "\n",
        "# importing IPython.display module\n",
        "import IPython.display\n",
        "\n",
        "# displaying PNG file\n",
        "IPython.display.Image ('ned1d_fit.png')"
      ],
      "metadata": {
        "id": "rL-a8Xv-eE2k"
      },
      "execution_count": null,
      "outputs": []
    },
    {
      "cell_type": "markdown",
      "source": [
        "# Practice s10-23"
      ],
      "metadata": {
        "id": "yRG5ZPjGeE2k"
      }
    },
    {
      "cell_type": "code",
      "source": [
        "# Write down your code in this cell.\n",
        "\n",
        "\n",
        "\n",
        "\n"
      ],
      "metadata": {
        "id": "MO9lRFR8eE2l"
      },
      "execution_count": null,
      "outputs": []
    },
    {
      "cell_type": "markdown",
      "source": [
        "# Script \"ai2023_s10_05_00.py\""
      ],
      "metadata": {
        "id": "PcZKpC5qeSSG"
      }
    },
    {
      "cell_type": "code",
      "source": [
        "# Run this cell to show the source code of the script.\n",
        "\n",
        "!cat ai2023_s10_05_00.py"
      ],
      "metadata": {
        "id": "LWIxNXeieSSO"
      },
      "execution_count": null,
      "outputs": []
    },
    {
      "cell_type": "code",
      "source": [
        "# Run this cell to execute the script.\n",
        "\n",
        "!python3.10 ai2023_s10_05_00.py"
      ],
      "metadata": {
        "id": "sqgR9Gy4eSSQ"
      },
      "execution_count": null,
      "outputs": []
    },
    {
      "cell_type": "markdown",
      "source": [
        "# Script \"ai2023_s10_05_01.py\""
      ],
      "metadata": {
        "id": "3GBk5Zw2eU1l"
      }
    },
    {
      "cell_type": "code",
      "source": [
        "# Run this cell to show the source code of the script.\n",
        "\n",
        "!cat ai2023_s10_05_01.py"
      ],
      "metadata": {
        "id": "H9C5YjoZeU1o"
      },
      "execution_count": null,
      "outputs": []
    },
    {
      "cell_type": "code",
      "source": [
        "# Run this cell to execute the script.\n",
        "\n",
        "!python3.10 ai2023_s10_05_01.py"
      ],
      "metadata": {
        "id": "WYbZZK7VeU1q"
      },
      "execution_count": null,
      "outputs": []
    },
    {
      "cell_type": "markdown",
      "source": [
        "# Script \"ai2023_s10_05_02.py\""
      ],
      "metadata": {
        "id": "T6j9UQ-LeawD"
      }
    },
    {
      "cell_type": "code",
      "source": [
        "# Run this cell to show the source code of the script.\n",
        "\n",
        "!cat ai2023_s10_05_02.py"
      ],
      "metadata": {
        "id": "DuF8Ngn7eawG"
      },
      "execution_count": null,
      "outputs": []
    },
    {
      "cell_type": "code",
      "source": [
        "# Run this cell to execute the script.\n",
        "\n",
        "!python3.10 ai2023_s10_05_02.py"
      ],
      "metadata": {
        "id": "ciciOvY4eawH"
      },
      "execution_count": null,
      "outputs": []
    },
    {
      "cell_type": "markdown",
      "source": [
        "# Practice s10-24"
      ],
      "metadata": {
        "id": "ivp5XAcEeeYV"
      }
    },
    {
      "cell_type": "code",
      "source": [
        "# Write down your code in this cell.\n",
        "\n",
        "\n",
        "\n",
        "\n"
      ],
      "metadata": {
        "id": "wrkF7G-XeeYY"
      },
      "execution_count": null,
      "outputs": []
    },
    {
      "cell_type": "markdown",
      "source": [
        "# Script \"ai2023_s10_05_03.py\""
      ],
      "metadata": {
        "id": "2OI0WrtiepBy"
      }
    },
    {
      "cell_type": "code",
      "source": [
        "# Run this cell to show the source code of the script.\n",
        "\n",
        "!cat ai2023_s10_05_03.py"
      ],
      "metadata": {
        "id": "zw3bUQdhepB3"
      },
      "execution_count": null,
      "outputs": []
    },
    {
      "cell_type": "code",
      "source": [
        "# Run this cell to execute the script.\n",
        "\n",
        "!python3.10 ai2023_s10_05_03.py -h"
      ],
      "metadata": {
        "id": "uPrGugY6epB4"
      },
      "execution_count": null,
      "outputs": []
    },
    {
      "cell_type": "code",
      "source": [
        "# Run this cell to execute the script.\n",
        "\n",
        "!python3.10 ai2023_s10_05_03.py -i usc_snia.data -o usc_snia_hd.png"
      ],
      "metadata": {
        "id": "O3y08e0Pesnb"
      },
      "execution_count": null,
      "outputs": []
    },
    {
      "cell_type": "code",
      "source": [
        "# Run this cell to display PNG image.\n",
        "\n",
        "# importing IPython.display module\n",
        "import IPython.display\n",
        "\n",
        "# displaying PNG file\n",
        "IPython.display.Image ('usc_snia_hd.png')"
      ],
      "metadata": {
        "id": "qP-2eETeez8-"
      },
      "execution_count": null,
      "outputs": []
    },
    {
      "cell_type": "markdown",
      "source": [
        "# Practice s10-25"
      ],
      "metadata": {
        "id": "bPRzqQ0pepB5"
      }
    },
    {
      "cell_type": "code",
      "source": [
        "# Write down your code in this cell.\n",
        "\n",
        "\n",
        "\n",
        "\n"
      ],
      "metadata": {
        "id": "Nlf2is9zepB6"
      },
      "execution_count": null,
      "outputs": []
    },
    {
      "cell_type": "markdown",
      "source": [
        "# Script \"ai2023_s10_05_04.py\""
      ],
      "metadata": {
        "id": "8tEIsK9ifAJl"
      }
    },
    {
      "cell_type": "code",
      "source": [
        "# Run this cell to show the source code of the script.\n",
        "\n",
        "!cat ai2023_s10_05_04.py"
      ],
      "metadata": {
        "id": "uXYuI7jYfAJu"
      },
      "execution_count": null,
      "outputs": []
    },
    {
      "cell_type": "code",
      "source": [
        "# Run this cell to execute the script.\n",
        "\n",
        "!python3.10 ai2023_s10_05_04.py -h"
      ],
      "metadata": {
        "id": "uxN0ZgvgfAJy"
      },
      "execution_count": null,
      "outputs": []
    },
    {
      "cell_type": "code",
      "source": [
        "# Run this cell to execute the script.\n",
        "\n",
        "!python3.10 ai2023_s10_05_04.py -i usc_snia.data -o usc_snia_fit.png"
      ],
      "metadata": {
        "id": "XQuOEwqjfAJ0"
      },
      "execution_count": null,
      "outputs": []
    },
    {
      "cell_type": "code",
      "source": [
        "# Run this cell to display PNG image.\n",
        "\n",
        "# importing IPython.display module\n",
        "import IPython.display\n",
        "\n",
        "# displaying PNG file\n",
        "IPython.display.Image ('usc_snia_fit.png')"
      ],
      "metadata": {
        "id": "zS3aTz2SfAJ2"
      },
      "execution_count": null,
      "outputs": []
    },
    {
      "cell_type": "markdown",
      "source": [
        "# Practice s10-26"
      ],
      "metadata": {
        "id": "pXxvW-zmfAJ4"
      }
    },
    {
      "cell_type": "code",
      "source": [
        "# Write down your code in this cell.\n",
        "\n",
        "\n",
        "\n",
        "\n"
      ],
      "metadata": {
        "id": "-dyN2au5fAJ5"
      },
      "execution_count": null,
      "outputs": []
    },
    {
      "cell_type": "markdown",
      "source": [
        "# Script \"ai2023_s10_06_00.py\""
      ],
      "metadata": {
        "id": "cvEuyT1NfPK2"
      }
    },
    {
      "cell_type": "code",
      "source": [
        "# Run this cell to show the source code of the script.\n",
        "\n",
        "!cat ai2023_s10_06_00.py"
      ],
      "metadata": {
        "id": "RHKlzHK4fPK5"
      },
      "execution_count": null,
      "outputs": []
    },
    {
      "cell_type": "code",
      "source": [
        "# Run this cell to execute the script.\n",
        "\n",
        "!python3.10 ai2023_s10_06_00.py"
      ],
      "metadata": {
        "id": "lwXZw-hZfPK5"
      },
      "execution_count": null,
      "outputs": []
    },
    {
      "cell_type": "markdown",
      "source": [
        "# Script \"ai2023_s10_06_01.py\""
      ],
      "metadata": {
        "id": "wDMpAjwefWc4"
      }
    },
    {
      "cell_type": "code",
      "source": [
        "# Run this cell to show the source code of the script.\n",
        "\n",
        "!cat ai2023_s10_06_01.py"
      ],
      "metadata": {
        "id": "cdX3jPJXfWc6"
      },
      "execution_count": null,
      "outputs": []
    },
    {
      "cell_type": "code",
      "source": [
        "# Run this cell to execute the script.\n",
        "\n",
        "!python3.10 ai2023_s10_06_01.py"
      ],
      "metadata": {
        "id": "ndzqq29NfWc8"
      },
      "execution_count": null,
      "outputs": []
    },
    {
      "cell_type": "markdown",
      "source": [
        "# Practice s10-27"
      ],
      "metadata": {
        "id": "o19wvS_bfbMh"
      }
    },
    {
      "cell_type": "code",
      "source": [
        "# Write down your code in this cell.\n",
        "\n",
        "\n",
        "\n",
        "\n"
      ],
      "metadata": {
        "id": "_FaRz8qdfbMk"
      },
      "execution_count": null,
      "outputs": []
    },
    {
      "cell_type": "markdown",
      "source": [
        "# Script \"ai2023_s10_06_02.py\""
      ],
      "metadata": {
        "id": "VHkow8tlfgbt"
      }
    },
    {
      "cell_type": "code",
      "source": [
        "# Run this cell to show the source code of the script.\n",
        "\n",
        "!cat ai2023_s10_06_02.py"
      ],
      "metadata": {
        "id": "mHzwaJ3Nfgb0"
      },
      "execution_count": null,
      "outputs": []
    },
    {
      "cell_type": "code",
      "source": [
        "# Run this cell to execute the script.\n",
        "\n",
        "!python3.10 ai2023_s10_06_02.py"
      ],
      "metadata": {
        "id": "wdnhAlaWfgb4"
      },
      "execution_count": null,
      "outputs": []
    },
    {
      "cell_type": "markdown",
      "source": [
        "# Practice s10-28"
      ],
      "metadata": {
        "id": "eQvjp3dMfgb7"
      }
    },
    {
      "cell_type": "code",
      "source": [
        "# Write down your code in this cell.\n",
        "\n",
        "\n",
        "\n",
        "\n"
      ],
      "metadata": {
        "id": "qZQMMWqxfgb9"
      },
      "execution_count": null,
      "outputs": []
    },
    {
      "cell_type": "markdown",
      "source": [
        "# Script \"ai2023_s10_06_03.py\""
      ],
      "metadata": {
        "id": "3-Y9a-QVfmUN"
      }
    },
    {
      "cell_type": "code",
      "source": [
        "# Run this cell to show the source code of the script.\n",
        "\n",
        "!cat ai2023_s10_06_03.py"
      ],
      "metadata": {
        "id": "RXEsBZVifmUO"
      },
      "execution_count": null,
      "outputs": []
    },
    {
      "cell_type": "code",
      "source": [
        "# Run this cell to execute the script.\n",
        "\n",
        "!python3.10 ai2023_s10_06_03.py"
      ],
      "metadata": {
        "id": "_fFX7xZxfmUP"
      },
      "execution_count": null,
      "outputs": []
    },
    {
      "cell_type": "markdown",
      "source": [
        "# Practice s10-29"
      ],
      "metadata": {
        "id": "2638CeAOfmUR"
      }
    },
    {
      "cell_type": "code",
      "source": [
        "# Write down your code in this cell.\n",
        "\n",
        "\n",
        "\n",
        "\n"
      ],
      "metadata": {
        "id": "ik6qBQdRfmUR"
      },
      "execution_count": null,
      "outputs": []
    },
    {
      "cell_type": "markdown",
      "source": [
        "# Script \"ai2023_s10_06_04.py\""
      ],
      "metadata": {
        "id": "-C9XHu9wfsGS"
      }
    },
    {
      "cell_type": "code",
      "source": [
        "# Run this cell to show the source code of the script.\n",
        "\n",
        "!cat ai2023_s10_06_04.py"
      ],
      "metadata": {
        "id": "jXaQoK9VfsGU"
      },
      "execution_count": null,
      "outputs": []
    },
    {
      "cell_type": "code",
      "source": [
        "# Run this cell to execute the script.\n",
        "\n",
        "!python3.10 ai2023_s10_06_04.py"
      ],
      "metadata": {
        "id": "LZsE3CVOfsGU"
      },
      "execution_count": null,
      "outputs": []
    },
    {
      "cell_type": "markdown",
      "source": [
        "# Practice s10-30"
      ],
      "metadata": {
        "id": "vGWM_Bk8fsGV"
      }
    },
    {
      "cell_type": "code",
      "source": [
        "# Write down your code in this cell.\n",
        "\n",
        "\n",
        "\n",
        "\n"
      ],
      "metadata": {
        "id": "VN_lUDImfsGX"
      },
      "execution_count": null,
      "outputs": []
    },
    {
      "cell_type": "markdown",
      "source": [
        "# Script \"ai2023_s10_06_05.py\""
      ],
      "metadata": {
        "id": "ApVFMxz7fyjw"
      }
    },
    {
      "cell_type": "code",
      "source": [
        "# Run this cell to show the source code of the script.\n",
        "\n",
        "!cat ai2023_s10_06_05.py"
      ],
      "metadata": {
        "id": "XaiLGZfKfyj4"
      },
      "execution_count": null,
      "outputs": []
    },
    {
      "cell_type": "code",
      "source": [
        "# Run this cell to execute the script.\n",
        "\n",
        "!python3.10 ai2023_s10_06_05.py -h"
      ],
      "metadata": {
        "id": "4YPBn5f7fyj6"
      },
      "execution_count": null,
      "outputs": []
    },
    {
      "cell_type": "code",
      "source": [
        "# Run this cell to execute the script.\n",
        "\n",
        "!python3.10 ai2023_s10_06_05.py -i osc_typeia.data -o osc_typeia_hd0.png"
      ],
      "metadata": {
        "id": "VJIOgpjSf1xg"
      },
      "execution_count": null,
      "outputs": []
    },
    {
      "cell_type": "code",
      "source": [
        "# Run this cell to display PNG image.\n",
        "\n",
        "# importing IPython.display module\n",
        "import IPython.display\n",
        "\n",
        "# displaying PNG file\n",
        "IPython.display.Image ('osc_typeia_hd0.png')"
      ],
      "metadata": {
        "id": "cosORREhf-Os"
      },
      "execution_count": null,
      "outputs": []
    },
    {
      "cell_type": "markdown",
      "source": [
        "# Practice s10-31"
      ],
      "metadata": {
        "id": "6-BFT4w1fyj8"
      }
    },
    {
      "cell_type": "code",
      "source": [
        "# Write down your code in this cell.\n",
        "\n",
        "\n",
        "\n",
        "\n"
      ],
      "metadata": {
        "id": "3rU_LuLGfyj8"
      },
      "execution_count": null,
      "outputs": []
    },
    {
      "cell_type": "markdown",
      "source": [
        "# Script \"ai2023_s10_06_06.py\""
      ],
      "metadata": {
        "id": "E3b7c0F2gSdD"
      }
    },
    {
      "cell_type": "code",
      "source": [
        "# Run this cell to show the source code of the script.\n",
        "\n",
        "!cat ai2023_s10_06_06.py"
      ],
      "metadata": {
        "id": "Z7rz_nUngSdK"
      },
      "execution_count": null,
      "outputs": []
    },
    {
      "cell_type": "code",
      "source": [
        "# Run this cell to execute the script.\n",
        "\n",
        "!python3.10 ai2023_s10_06_06.py -h"
      ],
      "metadata": {
        "id": "sYqWrrpVgSdL"
      },
      "execution_count": null,
      "outputs": []
    },
    {
      "cell_type": "code",
      "source": [
        "# Run this cell to execute the script.\n",
        "\n",
        "!python3.10 ai2023_s10_06_06.py -i osc_typeia.data -o osc_typeia_fit0.png"
      ],
      "metadata": {
        "id": "hl6alWPIgSdM"
      },
      "execution_count": null,
      "outputs": []
    },
    {
      "cell_type": "code",
      "source": [
        "# Run this cell to display PNG image.\n",
        "\n",
        "# importing IPython.display module\n",
        "import IPython.display\n",
        "\n",
        "# displaying PNG file\n",
        "IPython.display.Image ('osc_typeia_fit0.png')"
      ],
      "metadata": {
        "id": "fw4s8iJ5gSdO"
      },
      "execution_count": null,
      "outputs": []
    },
    {
      "cell_type": "markdown",
      "source": [
        "# Practice s10-32"
      ],
      "metadata": {
        "id": "HoPx6E4fgSdP"
      }
    },
    {
      "cell_type": "code",
      "source": [
        "# Write down your code in this cell.\n",
        "\n",
        "\n",
        "\n",
        "\n"
      ],
      "metadata": {
        "id": "Xh5ierg5gSdQ"
      },
      "execution_count": null,
      "outputs": []
    },
    {
      "cell_type": "markdown",
      "source": [
        "# Script \"ai2023_s10_06_07.py\""
      ],
      "metadata": {
        "id": "tb3scPmbi1WH"
      }
    },
    {
      "cell_type": "code",
      "source": [
        "# Run this cell to show the source code of the script.\n",
        "\n",
        "!cat ai2023_s10_06_07.py"
      ],
      "metadata": {
        "id": "wOIosdUEi1WT"
      },
      "execution_count": null,
      "outputs": []
    },
    {
      "cell_type": "code",
      "source": [
        "# Run this cell to execute the script.\n",
        "\n",
        "!python3.10 ai2023_s10_06_07.py"
      ],
      "metadata": {
        "id": "-LU6Vkp6i1WW"
      },
      "execution_count": null,
      "outputs": []
    },
    {
      "cell_type": "markdown",
      "source": [
        "# Script \"ai2023_s10_06_08.py\""
      ],
      "metadata": {
        "id": "W1kn5Rsei6Tb"
      }
    },
    {
      "cell_type": "code",
      "source": [
        "# Run this cell to show the source code of the script.\n",
        "\n",
        "!cat ai2023_s10_06_08.py"
      ],
      "metadata": {
        "id": "ebQqn4ECi6Tc"
      },
      "execution_count": null,
      "outputs": []
    },
    {
      "cell_type": "code",
      "source": [
        "# Run this cell to execute the script.\n",
        "\n",
        "!python3.10 ai2023_s10_06_08.py"
      ],
      "metadata": {
        "id": "U5KeYAjKi6Td"
      },
      "execution_count": null,
      "outputs": []
    },
    {
      "cell_type": "code",
      "source": [
        "# Run this cell to execute the script.\n",
        "\n",
        "!python3.10 ai2023_s10_06_06.py -i osc_typeia.data -o osc_typeia_fit1.png"
      ],
      "metadata": {
        "id": "LVPQ4ys-jAT6"
      },
      "execution_count": null,
      "outputs": []
    },
    {
      "cell_type": "code",
      "source": [
        "# Run this cell to display PNG image.\n",
        "\n",
        "# importing IPython.display module\n",
        "import IPython.display\n",
        "\n",
        "# displaying PNG file\n",
        "IPython.display.Image ('osc_typeia_fit1.png')"
      ],
      "metadata": {
        "id": "9DneEphFjGeo"
      },
      "execution_count": null,
      "outputs": []
    },
    {
      "cell_type": "markdown",
      "source": [
        "# Script \"ai2023_s10_06_09.py\""
      ],
      "metadata": {
        "id": "smPhTj2XjKUq"
      }
    },
    {
      "cell_type": "code",
      "source": [
        "# Run this cell to show the source code of the script.\n",
        "\n",
        "!cat ai2023_s10_06_09.py"
      ],
      "metadata": {
        "id": "v6bTPoaUjKUs"
      },
      "execution_count": null,
      "outputs": []
    },
    {
      "cell_type": "code",
      "source": [
        "# Run this cell to execute the script.\n",
        "\n",
        "!python3.10 ai2023_s10_06_09.py"
      ],
      "metadata": {
        "id": "4PjSaMJijKUt"
      },
      "execution_count": null,
      "outputs": []
    },
    {
      "cell_type": "markdown",
      "source": [
        "# Script \"ai2023_s10_06_10.py\""
      ],
      "metadata": {
        "id": "JxIYK4T5jKUw"
      }
    },
    {
      "cell_type": "code",
      "source": [
        "# Run this cell to show the source code of the script.\n",
        "\n",
        "!cat ai2023_s10_06_10.py"
      ],
      "metadata": {
        "id": "Vslexan9jKUx"
      },
      "execution_count": null,
      "outputs": []
    },
    {
      "cell_type": "code",
      "source": [
        "# Run this cell to execute the script.\n",
        "\n",
        "!python3.10 ai2023_s10_06_10.py"
      ],
      "metadata": {
        "id": "VU5dI8IZjKUx"
      },
      "execution_count": null,
      "outputs": []
    },
    {
      "cell_type": "code",
      "source": [
        "# Run this cell to execute the script.\n",
        "\n",
        "!python3.10 ai2023_s10_06_06.py -i osc_typeia.data -o osc_typeia_fit2.png"
      ],
      "metadata": {
        "id": "r9jESoBtjKUy"
      },
      "execution_count": null,
      "outputs": []
    },
    {
      "cell_type": "code",
      "source": [
        "# Run this cell to display PNG image.\n",
        "\n",
        "# importing IPython.display module\n",
        "import IPython.display\n",
        "\n",
        "# displaying PNG file\n",
        "IPython.display.Image ('osc_typeia_fit2.png')"
      ],
      "metadata": {
        "id": "t3SpjirgjKUz"
      },
      "execution_count": null,
      "outputs": []
    },
    {
      "cell_type": "markdown",
      "source": [
        "# Script \"ai2023_s10_06_11.py\""
      ],
      "metadata": {
        "id": "5G3T1diUjacn"
      }
    },
    {
      "cell_type": "code",
      "source": [
        "# Run this cell to show the source code of the script.\n",
        "\n",
        "!cat ai2023_s10_06_11.py"
      ],
      "metadata": {
        "id": "sLmatnoTjaco"
      },
      "execution_count": null,
      "outputs": []
    },
    {
      "cell_type": "code",
      "source": [
        "# Run this cell to execute the script.\n",
        "\n",
        "!python3.10 ai2023_s10_06_11.py"
      ],
      "metadata": {
        "id": "AOaZFTjBjacp"
      },
      "execution_count": null,
      "outputs": []
    },
    {
      "cell_type": "markdown",
      "source": [
        "# Script \"ai2023_s10_06_12.py\""
      ],
      "metadata": {
        "id": "WZwUB4n-jacq"
      }
    },
    {
      "cell_type": "code",
      "source": [
        "# Run this cell to show the source code of the script.\n",
        "\n",
        "!cat ai2023_s10_06_12.py"
      ],
      "metadata": {
        "id": "5xS34TH7jacq"
      },
      "execution_count": null,
      "outputs": []
    },
    {
      "cell_type": "code",
      "source": [
        "# Run this cell to execute the script.\n",
        "\n",
        "!python3.10 ai2023_s10_06_12.py"
      ],
      "metadata": {
        "id": "jF1CYDR2jacr"
      },
      "execution_count": null,
      "outputs": []
    },
    {
      "cell_type": "code",
      "source": [
        "# Run this cell to execute the script.\n",
        "\n",
        "!python3.10 ai2023_s10_06_06.py -i osc_typeia.data -o osc_typeia_fit3.png"
      ],
      "metadata": {
        "id": "ckWip8v1jacs"
      },
      "execution_count": null,
      "outputs": []
    },
    {
      "cell_type": "code",
      "source": [
        "# Run this cell to display PNG image.\n",
        "\n",
        "# importing IPython.display module\n",
        "import IPython.display\n",
        "\n",
        "# displaying PNG file\n",
        "IPython.display.Image ('osc_typeia_fit3.png')"
      ],
      "metadata": {
        "id": "_LruCIBEjacs"
      },
      "execution_count": null,
      "outputs": []
    },
    {
      "cell_type": "markdown",
      "source": [
        "# Script \"ai2023_s10_06_13.py\""
      ],
      "metadata": {
        "id": "f1ey3vYYjiYN"
      }
    },
    {
      "cell_type": "code",
      "source": [
        "# Run this cell to show the source code of the script.\n",
        "\n",
        "!cat ai2023_s10_06_13.py"
      ],
      "metadata": {
        "id": "uH0ryJKjjiYR"
      },
      "execution_count": null,
      "outputs": []
    },
    {
      "cell_type": "code",
      "source": [
        "# Run this cell to execute the script.\n",
        "\n",
        "!python3.10 ai2023_s10_06_13.py"
      ],
      "metadata": {
        "id": "CoFuk_gcjiYU"
      },
      "execution_count": null,
      "outputs": []
    },
    {
      "cell_type": "markdown",
      "source": [
        "# Script \"ai2023_s10_06_14.py\"\n",
        "\n"
      ],
      "metadata": {
        "id": "VKxm6LgFjiYY"
      }
    },
    {
      "cell_type": "code",
      "source": [
        "# Run this cell to show the source code of the script.\n",
        "\n",
        "!cat ai2023_s10_06_14.py"
      ],
      "metadata": {
        "id": "ncRYvNZcjiYZ"
      },
      "execution_count": null,
      "outputs": []
    },
    {
      "cell_type": "code",
      "source": [
        "# Run this cell to execute the script.\n",
        "\n",
        "!python3.10 ai2023_s10_06_14.py"
      ],
      "metadata": {
        "id": "FV9EFLXNjiYb"
      },
      "execution_count": null,
      "outputs": []
    },
    {
      "cell_type": "code",
      "source": [
        "# Run this cell to execute the script.\n",
        "\n",
        "!python3.10 ai2023_s10_06_06.py -i osc_typeia.data -o osc_typeia_fit4.png"
      ],
      "metadata": {
        "id": "Ofoj9Rq3jiYc"
      },
      "execution_count": null,
      "outputs": []
    },
    {
      "cell_type": "code",
      "source": [
        "# Run this cell to display PNG image.\n",
        "\n",
        "# importing IPython.display module\n",
        "import IPython.display\n",
        "\n",
        "# displaying PNG file\n",
        "IPython.display.Image ('osc_typeia_fit4.png')"
      ],
      "metadata": {
        "id": "W6ED75d9jiYd"
      },
      "execution_count": null,
      "outputs": []
    },
    {
      "cell_type": "markdown",
      "source": [
        "# Script \"ai2023_s10_06_15.py\""
      ],
      "metadata": {
        "id": "KYtzpiV1juHK"
      }
    },
    {
      "cell_type": "code",
      "source": [
        "# Run this cell to show the source code of the script.\n",
        "\n",
        "!cat ai2023_s10_06_15.py"
      ],
      "metadata": {
        "id": "c6iSrehZjuHP"
      },
      "execution_count": null,
      "outputs": []
    },
    {
      "cell_type": "code",
      "source": [
        "# Run this cell to execute the script.\n",
        "\n",
        "!python3.10 ai2023_s10_06_15.py"
      ],
      "metadata": {
        "id": "q0d6sY4UjuHT"
      },
      "execution_count": null,
      "outputs": []
    },
    {
      "cell_type": "markdown",
      "source": [
        "# Script \"ai2023_s10_06_16.py\"\n",
        "\n"
      ],
      "metadata": {
        "id": "LbvyIhgAjuHV"
      }
    },
    {
      "cell_type": "code",
      "source": [
        "# Run this cell to show the source code of the script.\n",
        "\n",
        "!cat ai2023_s10_06_16.py"
      ],
      "metadata": {
        "id": "9MUE1nVsjuHX"
      },
      "execution_count": null,
      "outputs": []
    },
    {
      "cell_type": "code",
      "source": [
        "# Run this cell to execute the script.\n",
        "\n",
        "!python3.10 ai2023_s10_06_16.py"
      ],
      "metadata": {
        "id": "gLbfmTT_juHZ"
      },
      "execution_count": null,
      "outputs": []
    },
    {
      "cell_type": "code",
      "source": [
        "# Run this cell to execute the script.\n",
        "\n",
        "!python3.10 ai2023_s10_06_06.py -i osc_typeia.data -o osc_typeia_fit5.png"
      ],
      "metadata": {
        "id": "NkpvgIrujuHc"
      },
      "execution_count": null,
      "outputs": []
    },
    {
      "cell_type": "code",
      "source": [
        "# Run this cell to display PNG image.\n",
        "\n",
        "# importing IPython.display module\n",
        "import IPython.display\n",
        "\n",
        "# displaying PNG file\n",
        "IPython.display.Image ('osc_typeia_fit5.png')"
      ],
      "metadata": {
        "id": "NtMAvkjCjuHe"
      },
      "execution_count": null,
      "outputs": []
    },
    {
      "cell_type": "markdown",
      "source": [
        "# Script \"ai2023_s10_07_00.py\""
      ],
      "metadata": {
        "id": "0vfmOUdzkHQF"
      }
    },
    {
      "cell_type": "code",
      "source": [
        "# Run this cell to show the source code of the script.\n",
        "\n",
        "!cat ai2023_s10_07_00.py"
      ],
      "metadata": {
        "id": "Qij4xcxBkHQK"
      },
      "execution_count": null,
      "outputs": []
    },
    {
      "cell_type": "code",
      "source": [
        "# Run this cell to execute the script.\n",
        "\n",
        "!python3.10 ai2023_s10_07_00.py"
      ],
      "metadata": {
        "id": "jPwheCvXkHQM"
      },
      "execution_count": null,
      "outputs": []
    },
    {
      "cell_type": "code",
      "source": [
        "# Run this cell to extract data of Supernova Legacy Survey.\n",
        "\n",
        "!tar xzvf UTor.tgz"
      ],
      "metadata": {
        "id": "hSxvJk7PkNMd"
      },
      "execution_count": null,
      "outputs": []
    },
    {
      "cell_type": "markdown",
      "source": [
        "# Script \"ai2023_s10_07_01.py\""
      ],
      "metadata": {
        "id": "d9L9CjvvkcUc"
      }
    },
    {
      "cell_type": "code",
      "source": [
        "# Run this cell to show the source code of the script.\n",
        "\n",
        "!cat ai2023_s10_07_01.py"
      ],
      "metadata": {
        "id": "sQ39aDP1kcUr"
      },
      "execution_count": null,
      "outputs": []
    },
    {
      "cell_type": "code",
      "source": [
        "# Run this cell to execute the script.\n",
        "\n",
        "!python3.10 ai2023_s10_07_01.py -h"
      ],
      "metadata": {
        "id": "NWVmHIJgkcUw"
      },
      "execution_count": null,
      "outputs": []
    },
    {
      "cell_type": "code",
      "source": [
        "# Run this cell to execute the script.\n",
        "\n",
        "!python3.10 ai2023_s10_07_01.py -i UTor/lightcurve_params/combined.dat -o snls_hd.png"
      ],
      "metadata": {
        "id": "-AjyoKdYkcUx"
      },
      "execution_count": null,
      "outputs": []
    },
    {
      "cell_type": "code",
      "source": [
        "# Run this cell to display PNG image.\n",
        "\n",
        "# importing IPython.display module\n",
        "import IPython.display\n",
        "\n",
        "# displaying PNG file\n",
        "IPython.display.Image ('snls_hd.png')"
      ],
      "metadata": {
        "id": "LuMxVsbikcUz"
      },
      "execution_count": null,
      "outputs": []
    },
    {
      "cell_type": "markdown",
      "source": [
        "# Practice s10-33"
      ],
      "metadata": {
        "id": "jxT-SEjRkcU0"
      }
    },
    {
      "cell_type": "code",
      "source": [
        "# Write down your code in this cell.\n",
        "\n",
        "\n",
        "\n",
        "\n"
      ],
      "metadata": {
        "id": "EIEPM8tIkcU1"
      },
      "execution_count": null,
      "outputs": []
    },
    {
      "cell_type": "markdown",
      "source": [
        "# Script \"ai2023_s10_07_02.py\""
      ],
      "metadata": {
        "id": "NYK0zl2rkv1b"
      }
    },
    {
      "cell_type": "code",
      "source": [
        "# Run this cell to show the source code of the script.\n",
        "\n",
        "!cat ai2023_s10_07_02.py"
      ],
      "metadata": {
        "id": "_5_0ZlnTkv1h"
      },
      "execution_count": null,
      "outputs": []
    },
    {
      "cell_type": "code",
      "source": [
        "# Run this cell to execute the script.\n",
        "\n",
        "!python3.10 ai2023_s10_07_02.py -h"
      ],
      "metadata": {
        "id": "7SEliI7kkv1i"
      },
      "execution_count": null,
      "outputs": []
    },
    {
      "cell_type": "code",
      "source": [
        "# Run this cell to execute the script.\n",
        "\n",
        "!python3.10 ai2023_s10_07_02.py -i UTor/lightcurve_params/combined.dat -o snls_cosmo.png"
      ],
      "metadata": {
        "id": "2sgir8eCkv1j"
      },
      "execution_count": null,
      "outputs": []
    },
    {
      "cell_type": "code",
      "source": [
        "# Run this cell to display PNG image.\n",
        "\n",
        "# importing IPython.display module\n",
        "import IPython.display\n",
        "\n",
        "# displaying PNG file\n",
        "IPython.display.Image ('snls_cosmo.png')"
      ],
      "metadata": {
        "id": "8uls5ujOkv1l"
      },
      "execution_count": null,
      "outputs": []
    },
    {
      "cell_type": "markdown",
      "source": [
        "# Practice s10-34"
      ],
      "metadata": {
        "id": "zkBzEh0Dkv1l"
      }
    },
    {
      "cell_type": "code",
      "source": [
        "# Write down your code in this cell.\n",
        "\n",
        "\n",
        "\n",
        "\n"
      ],
      "metadata": {
        "id": "xZeEnleFkv1m"
      },
      "execution_count": null,
      "outputs": []
    },
    {
      "cell_type": "markdown",
      "source": [
        "# Script \"ai2023_s10_08_00.py\""
      ],
      "metadata": {
        "id": "FIuINlTtk596"
      }
    },
    {
      "cell_type": "code",
      "source": [
        "# Run this cell to show the source code of the script.\n",
        "\n",
        "!cat ai2023_s10_08_00.py"
      ],
      "metadata": {
        "id": "_ZGr-gXzk5-F"
      },
      "execution_count": null,
      "outputs": []
    },
    {
      "cell_type": "code",
      "source": [
        "# Run this cell to execute the script.\n",
        "\n",
        "!python3.10 ai2023_s10_08_00.py"
      ],
      "metadata": {
        "id": "aSADhHEkk5-G"
      },
      "execution_count": null,
      "outputs": []
    },
    {
      "cell_type": "markdown",
      "source": [
        "# Practice s10-35"
      ],
      "metadata": {
        "id": "XC3AA6C9k9kt"
      }
    },
    {
      "cell_type": "code",
      "source": [
        "# Write down your code in this cell.\n",
        "\n",
        "\n",
        "\n",
        "\n"
      ],
      "metadata": {
        "id": "z2AKEhu0k9kz"
      },
      "execution_count": null,
      "outputs": []
    },
    {
      "cell_type": "markdown",
      "source": [
        "# Script \"ai2023_s10_08_01.py\""
      ],
      "metadata": {
        "id": "ZBkWz9u1k_si"
      }
    },
    {
      "cell_type": "code",
      "source": [
        "# Run this cell to show the source code of the script.\n",
        "\n",
        "!cat ai2023_s10_08_01.py"
      ],
      "metadata": {
        "id": "9YWvTx1hk_sj"
      },
      "execution_count": null,
      "outputs": []
    },
    {
      "cell_type": "code",
      "source": [
        "# Run this cell to execute the script.\n",
        "\n",
        "!python3.10 ai2023_s10_08_01.py"
      ],
      "metadata": {
        "id": "x8cY_0hIk_sk"
      },
      "execution_count": null,
      "outputs": []
    },
    {
      "cell_type": "markdown",
      "source": [
        "# Practice s10-36"
      ],
      "metadata": {
        "id": "j4kF3woOk_sl"
      }
    },
    {
      "cell_type": "code",
      "source": [
        "# Write down your code in this cell.\n",
        "\n",
        "\n",
        "\n",
        "\n"
      ],
      "metadata": {
        "id": "EKjIKhark_sm"
      },
      "execution_count": null,
      "outputs": []
    },
    {
      "cell_type": "markdown",
      "source": [
        "# End of this notebook"
      ],
      "metadata": {
        "id": "dW_BpOpllFzv"
      }
    },
    {
      "cell_type": "code",
      "source": [],
      "metadata": {
        "id": "36IyOBzdlHKn"
      },
      "execution_count": null,
      "outputs": []
    }
  ]
}