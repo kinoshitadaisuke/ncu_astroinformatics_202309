{
  "nbformat": 4,
  "nbformat_minor": 0,
  "metadata": {
    "colab": {
      "provenance": []
    },
    "kernelspec": {
      "name": "python3",
      "display_name": "Python 3"
    },
    "language_info": {
      "name": "python"
    }
  },
  "cells": [
    {
      "cell_type": "markdown",
      "metadata": {
        "id": "X9F8FTGZzaSe"
      },
      "source": [
        "# AS6095 \"Astroinformatics\"\n",
        "\n",
        "## for academic year 2023 (from Sep/2023 to Jan/2024)\n",
        "\n",
        "## instructor: Kinoshita Daisuke\n",
        "\n",
        "## Course web page: https://s3b.astro.ncu.edu.tw/ai_202309/\n",
        "\n",
        "## GitHub repository: https://github.com/kinoshitadaisuke/ncu_astroinformatics_202309\n"
      ]
    },
    {
      "cell_type": "markdown",
      "metadata": {
        "id": "MKQ0pdfJCZ1I"
      },
      "source": [
        "# Session 06 \"Making and using relational database\"\n",
        "\n",
        "## 23 October 2023\n"
      ]
    },
    {
      "cell_type": "markdown",
      "metadata": {
        "id": "FVmonUCL197r"
      },
      "source": [
        "# Downloading a set of sample Python scripts and changing directory"
      ]
    },
    {
      "cell_type": "code",
      "execution_count": null,
      "metadata": {
        "id": "E-J1KLJAzmx5"
      },
      "outputs": [],
      "source": [
        "# Run this cell to download a set of sample Python scripts for this course.\n",
        "\n",
        "!git clone https://github.com/kinoshitadaisuke/ncu_astroinformatics_202309.git"
      ]
    },
    {
      "cell_type": "code",
      "execution_count": null,
      "metadata": {
        "id": "NU4Otc0i2jfu"
      },
      "outputs": [],
      "source": [
        "# Run this cell to check whether you have a directory named \"ncu_astroinformatics_202309\".\n",
        "\n",
        "!ls"
      ]
    },
    {
      "cell_type": "code",
      "execution_count": null,
      "metadata": {
        "id": "faZRhZv821VY"
      },
      "outputs": [],
      "source": [
        "# Run this cell to move to the directory \"ncu_astroinformatics_202309\".\n",
        "\n",
        "%cd ncu_astroinformatics_202309"
      ]
    },
    {
      "cell_type": "code",
      "execution_count": null,
      "metadata": {
        "id": "hUjHlUZk3Bov"
      },
      "outputs": [],
      "source": [
        "# Run this cell to show currently working directory.\n",
        "\n",
        "!pwd"
      ]
    },
    {
      "cell_type": "code",
      "execution_count": null,
      "metadata": {
        "id": "RXAGJHeX3IsD"
      },
      "outputs": [],
      "source": [
        "# Run this cell to show files and directories.\n",
        "\n",
        "!ls -lF"
      ]
    },
    {
      "cell_type": "code",
      "execution_count": null,
      "metadata": {
        "id": "xR0V8I0k3O3k"
      },
      "outputs": [],
      "source": [
        "# Run this cell to move to the directory \"s06\".\n",
        "\n",
        "%cd s06"
      ]
    },
    {
      "cell_type": "code",
      "execution_count": null,
      "metadata": {
        "id": "KbvQ_3Su3UKL"
      },
      "outputs": [],
      "source": [
        "# Run this cell to show currently working directory.\n",
        "\n",
        "!pwd"
      ]
    },
    {
      "cell_type": "code",
      "execution_count": null,
      "metadata": {
        "id": "n9AAgI4d3c6n"
      },
      "outputs": [],
      "source": [
        "# Run this cell to show files and directories.\n",
        "\n",
        "!ls -lF"
      ]
    },
    {
      "cell_type": "markdown",
      "source": [
        "# Installation of SQLite"
      ],
      "metadata": {
        "id": "jVlw3LHHcBFa"
      }
    },
    {
      "cell_type": "code",
      "source": [
        "# Run this cell to check whether or not you have a command \"sqlite3\".\n",
        "\n",
        "!which sqlite3"
      ],
      "metadata": {
        "id": "szcuyNy5b2xY"
      },
      "execution_count": null,
      "outputs": []
    },
    {
      "cell_type": "code",
      "source": [
        "# Install the command \"sqlite3\" if you do not have it.\n",
        "\n",
        "!apt install sqlite3"
      ],
      "metadata": {
        "id": "tsoYTACbb4dj"
      },
      "execution_count": null,
      "outputs": []
    },
    {
      "cell_type": "code",
      "source": [
        "# Run this cell to check whether or not you have a command \"sqlite3\".\n",
        "\n",
        "!which sqlite3"
      ],
      "metadata": {
        "id": "xW-Tz7yacQ3l"
      },
      "execution_count": null,
      "outputs": []
    },
    {
      "cell_type": "code",
      "source": [
        "# Run this cell to show the version of SQLite.\n",
        "\n",
        "!sqlite3 --version"
      ],
      "metadata": {
        "id": "QGDZ4761dZ6e"
      },
      "execution_count": null,
      "outputs": []
    },
    {
      "cell_type": "markdown",
      "source": [
        "# Learning usage of SQLite"
      ],
      "metadata": {
        "id": "0bh3HYyZhx_V"
      }
    },
    {
      "cell_type": "code",
      "source": [
        "# Run this cell to read the online manual of sqlite3.\n",
        "\n",
        "!cat man.sqlite3"
      ],
      "metadata": {
        "id": "B6FX0o2ucKic"
      },
      "execution_count": null,
      "outputs": []
    },
    {
      "cell_type": "code",
      "source": [
        "# Run this cell to show available commands of SQLite.\n",
        "\n",
        "!sqlite3 '' '.help'"
      ],
      "metadata": {
        "id": "LKmTOYuSfr8K"
      },
      "execution_count": null,
      "outputs": []
    },
    {
      "cell_type": "markdown",
      "source": [
        "# Making a small database"
      ],
      "metadata": {
        "id": "rgfVAjOomYef"
      }
    },
    {
      "cell_type": "markdown",
      "source": [
        "## Making a table"
      ],
      "metadata": {
        "id": "El6-Tp6KzulW"
      }
    },
    {
      "cell_type": "code",
      "source": [
        "# Run this cell to make a table for planets database.\n",
        "\n",
        "!sqlite3 planet0.db 'create table planet (name text primary key, mass real, diameter real, rotation_period real, orbital_period real, mean_temperature real, satellite integer, ring text, magnetic_field text);'"
      ],
      "metadata": {
        "id": "O1saCIIOh9Er"
      },
      "execution_count": 15,
      "outputs": []
    },
    {
      "cell_type": "code",
      "source": [
        "# Run this cell to show a list of database tables stored in file \"planet0.db\".\n",
        "\n",
        "!sqlite3 planet0.db '.tables'"
      ],
      "metadata": {
        "colab": {
          "base_uri": "https://localhost:8080/"
        },
        "id": "HJaXdd5_mlSd",
        "outputId": "5aff4050-20b6-4ecc-cfea-108f8b429ef6"
      },
      "execution_count": 16,
      "outputs": [
        {
          "output_type": "stream",
          "name": "stdout",
          "text": [
            "planet\n"
          ]
        }
      ]
    },
    {
      "cell_type": "code",
      "source": [
        "# Run this cell to show the structure of the table \"planet\".\n",
        "\n",
        "!sqlite3 planet0.db '.schema'"
      ],
      "metadata": {
        "colab": {
          "base_uri": "https://localhost:8080/"
        },
        "id": "nTuDlPgDo_zT",
        "outputId": "3a8faa92-0cdb-445e-e47c-521cb37ee322"
      },
      "execution_count": 17,
      "outputs": [
        {
          "output_type": "stream",
          "name": "stdout",
          "text": [
            "CREATE TABLE planet (name text primary key, mass real, diameter real, rotation_period real, orbital_period real, mean_temperature real, satellite integer, ring text, magnetic_field text);\n"
          ]
        }
      ]
    },
    {
      "cell_type": "markdown",
      "source": [
        "## Adding data to table"
      ],
      "metadata": {
        "id": "eG8A6YNMzxu6"
      }
    },
    {
      "cell_type": "code",
      "source": [
        "# Run this cell to add data of Mercury.\n",
        "\n",
        "!sqlite3 planet0.db 'insert into planet values (\"Mercury\", 3.30E23, 4.879E3, 1407.6, 88.0, 167, 0, \"No\", \"Yes\");'"
      ],
      "metadata": {
        "id": "Cf0heyHwpKJj"
      },
      "execution_count": 18,
      "outputs": []
    },
    {
      "cell_type": "code",
      "source": [
        "# Run this cell to add data of Venus.\n",
        "\n",
        "!sqlite3 planet0.db 'insert into planet values (\"Venus\", 4.87E24, 1.2104E4, -5832.5, 224.7, 464, 0, \"No\", \"No\");'"
      ],
      "metadata": {
        "id": "0eVs6HpxtgZA"
      },
      "execution_count": 19,
      "outputs": []
    },
    {
      "cell_type": "code",
      "source": [
        "# Run this cell to add data of Earth.\n",
        "\n",
        "!sqlite3 planet0.db 'insert into planet values (\"Earth\", 5.97E24, 1.2756E4, 23.9, 365.2, 15, 1, \"No\", \"Yes\");'"
      ],
      "metadata": {
        "id": "TqYeQ3oizBwq"
      },
      "execution_count": 20,
      "outputs": []
    },
    {
      "cell_type": "code",
      "source": [
        "# Run this cell to add data of Mars.\n",
        "\n",
        "!sqlite3 planet0.db 'insert into planet values (\"Mars\", 6.42E23, 6.792E3, 24.6, 687.0, -65, 2, \"No\", \"No\");'"
      ],
      "metadata": {
        "id": "-lM60uGmzFPV"
      },
      "execution_count": 21,
      "outputs": []
    },
    {
      "cell_type": "code",
      "source": [
        "# Run this cell to add data of Jupiter.\n",
        "\n",
        "!sqlite3 planet0.db 'insert into planet values (\"Jupiter\", 1.898E27, 1.42984E5, 9.9, 4331, -110, 79, \"Yes\", \"Yes\");'"
      ],
      "metadata": {
        "id": "zg1HWRZWzMKi"
      },
      "execution_count": 22,
      "outputs": []
    },
    {
      "cell_type": "code",
      "source": [
        "# Run this cell to add data of Saturn.\n",
        "\n",
        "!sqlite3 planet0.db 'insert into planet values (\"Saturn\", 5.68E26, 1.20536E5, 10.7, 10747, -140, 82, \"Yes\", \"Yes\");'"
      ],
      "metadata": {
        "id": "7QZbAZ0JzRGk"
      },
      "execution_count": 23,
      "outputs": []
    },
    {
      "cell_type": "code",
      "source": [
        "# Run this cell to add data of Uranus.\n",
        "\n",
        "!sqlite3 planet0.db 'insert into planet values (\"Uranus\", 8.68E25, 5.1118E4, -17.2, 30589, -195, 27, \"Yes\", \"Yes\");'"
      ],
      "metadata": {
        "colab": {
          "base_uri": "https://localhost:8080/"
        },
        "id": "-YDdSC3wzYDY",
        "outputId": "03a63bc5-8369-479a-e1ec-36670a8ba9c0"
      },
      "execution_count": 25,
      "outputs": [
        {
          "output_type": "stream",
          "name": "stdout",
          "text": [
            "Error: stepping, UNIQUE constraint failed: planet.name (19)\n"
          ]
        }
      ]
    },
    {
      "cell_type": "code",
      "source": [
        "# Run this cell to add data of Neptune.\n",
        "\n",
        "!sqlite3 planet0.db 'insert into planet values (\"Neptune\", 1.02E26, 4.9528E4, 16.1, 59800, -200, 14, \"Yes\", \"Yes\");'"
      ],
      "metadata": {
        "id": "YD2zlmpEzdCM"
      },
      "execution_count": 26,
      "outputs": []
    },
    {
      "cell_type": "markdown",
      "source": [
        "## Trying SQL queries"
      ],
      "metadata": {
        "id": "yJnvAojWz0oa"
      }
    },
    {
      "cell_type": "code",
      "source": [
        "# Run this cell to print all the columns for each record.\n",
        "\n",
        "!sqlite3 planet0.db 'select * from planet;'"
      ],
      "metadata": {
        "colab": {
          "base_uri": "https://localhost:8080/"
        },
        "id": "WPBukBkcz2sS",
        "outputId": "4d4748e1-1890-4d33-a7dc-21b84f4d6e51"
      },
      "execution_count": 27,
      "outputs": [
        {
          "output_type": "stream",
          "name": "stdout",
          "text": [
            "Mercury|3.3e+23|4879.0|1407.6|88.0|167.0|0|No|Yes\n",
            "Venus|4.87e+24|12104.0|-5832.5|224.7|464.0|0|No|No\n",
            "Earth|5.97e+24|12756.0|23.9|365.2|15.0|1|No|Yes\n",
            "Mars|6.42e+23|6792.0|24.6|687.0|-65.0|2|No|No\n",
            "Jupiter|1.898e+27|142984.0|9.9|4331.0|-110.0|79|Yes|Yes\n",
            "Saturn|5.68e+26|120536.0|10.7|10747.0|-140.0|82|Yes|Yes\n",
            "Uranus|8.68e+25|51118.0|-17.2|30589.0|-195.0|27|Yes|Yes\n",
            "Neptune|1.02e+26|49528.0|16.1|59800.0|-200.0|14|Yes|Yes\n"
          ]
        }
      ]
    },
    {
      "cell_type": "code",
      "source": [
        "# Run this cell to print the header and all the columns for each record of the table.\n",
        "\n",
        "!sqlite3 -header planet0.db 'select * from planet;'"
      ],
      "metadata": {
        "colab": {
          "base_uri": "https://localhost:8080/"
        },
        "id": "gRi7UIpw3Rh3",
        "outputId": "22050b71-07c1-42a0-e8e9-5a4e1b386f99"
      },
      "execution_count": 28,
      "outputs": [
        {
          "output_type": "stream",
          "name": "stdout",
          "text": [
            "name|mass|diameter|rotation_period|orbital_period|mean_temperature|satellite|ring|magnetic_field\n",
            "Mercury|3.3e+23|4879.0|1407.6|88.0|167.0|0|No|Yes\n",
            "Venus|4.87e+24|12104.0|-5832.5|224.7|464.0|0|No|No\n",
            "Earth|5.97e+24|12756.0|23.9|365.2|15.0|1|No|Yes\n",
            "Mars|6.42e+23|6792.0|24.6|687.0|-65.0|2|No|No\n",
            "Jupiter|1.898e+27|142984.0|9.9|4331.0|-110.0|79|Yes|Yes\n",
            "Saturn|5.68e+26|120536.0|10.7|10747.0|-140.0|82|Yes|Yes\n",
            "Uranus|8.68e+25|51118.0|-17.2|30589.0|-195.0|27|Yes|Yes\n",
            "Neptune|1.02e+26|49528.0|16.1|59800.0|-200.0|14|Yes|Yes\n"
          ]
        }
      ]
    },
    {
      "cell_type": "code",
      "source": [
        "# Run this cell to print the header and name, mass, diameter, and number of satellites of each planet.\n",
        "\n",
        "!sqlite3 -header planet0.db 'select name,mass,diameter,satellite from planet;'"
      ],
      "metadata": {
        "colab": {
          "base_uri": "https://localhost:8080/"
        },
        "id": "RchstmYcz6vN",
        "outputId": "49015675-4c5e-43e5-f6b2-8f7d90d0fad4"
      },
      "execution_count": 29,
      "outputs": [
        {
          "output_type": "stream",
          "name": "stdout",
          "text": [
            "name|mass|diameter|satellite\n",
            "Mercury|3.3e+23|4879.0|0\n",
            "Venus|4.87e+24|12104.0|0\n",
            "Earth|5.97e+24|12756.0|1\n",
            "Mars|6.42e+23|6792.0|2\n",
            "Jupiter|1.898e+27|142984.0|79\n",
            "Saturn|5.68e+26|120536.0|82\n",
            "Uranus|8.68e+25|51118.0|27\n",
            "Neptune|1.02e+26|49528.0|14\n"
          ]
        }
      ]
    },
    {
      "cell_type": "code",
      "source": [
        "# Run this cell to print the header and name, mass, diameter, and number of satellites of each planet by fancy output format.\n",
        "\n",
        "!sqlite3 -header -column planet0.db 'select name,mass,diameter,satellite from planet;'"
      ],
      "metadata": {
        "colab": {
          "base_uri": "https://localhost:8080/"
        },
        "id": "nmBCAEZs625P",
        "outputId": "34a70c1f-fd93-4dad-ef35-0a2f12346a4e"
      },
      "execution_count": 30,
      "outputs": [
        {
          "output_type": "stream",
          "name": "stdout",
          "text": [
            "name     mass       diameter  satellite\n",
            "-------  ---------  --------  ---------\n",
            "Mercury  3.3e+23    4879.0    0        \n",
            "Venus    4.87e+24   12104.0   0        \n",
            "Earth    5.97e+24   12756.0   1        \n",
            "Mars     6.42e+23   6792.0    2        \n",
            "Jupiter  1.898e+27  142984.0  79       \n",
            "Saturn   5.68e+26   120536.0  82       \n",
            "Uranus   8.68e+25   51118.0   27       \n",
            "Neptune  1.02e+26   49528.0   14       \n"
          ]
        }
      ]
    },
    {
      "cell_type": "code",
      "source": [
        "# Run this cell to print the header and name, mass, diameter, number of satellites, existence of ring system, existence of global magnetic field of each planet by fancy output format.\n",
        "\n",
        "!sqlite3 -header -column planet0.db 'select name,mass,diameter,satellite,ring,magnetic_field from planet;'"
      ],
      "metadata": {
        "colab": {
          "base_uri": "https://localhost:8080/"
        },
        "id": "ZDFzZE4P7G8T",
        "outputId": "94401f6e-7dfa-45db-b292-fc558b96ebb7"
      },
      "execution_count": 31,
      "outputs": [
        {
          "output_type": "stream",
          "name": "stdout",
          "text": [
            "name     mass       diameter  satellite  ring  magnetic_field\n",
            "-------  ---------  --------  ---------  ----  --------------\n",
            "Mercury  3.3e+23    4879.0    0          No    Yes           \n",
            "Venus    4.87e+24   12104.0   0          No    No            \n",
            "Earth    5.97e+24   12756.0   1          No    Yes           \n",
            "Mars     6.42e+23   6792.0    2          No    No            \n",
            "Jupiter  1.898e+27  142984.0  79         Yes   Yes           \n",
            "Saturn   5.68e+26   120536.0  82         Yes   Yes           \n",
            "Uranus   8.68e+25   51118.0   27         Yes   Yes           \n",
            "Neptune  1.02e+26   49528.0   14         Yes   Yes           \n"
          ]
        }
      ]
    },
    {
      "cell_type": "code",
      "source": [],
      "metadata": {
        "id": "urCDD9lV76Ud"
      },
      "execution_count": null,
      "outputs": []
    }
  ]
}