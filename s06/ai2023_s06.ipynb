{
  "nbformat": 4,
  "nbformat_minor": 0,
  "metadata": {
    "colab": {
      "provenance": []
    },
    "kernelspec": {
      "name": "python3",
      "display_name": "Python 3"
    },
    "language_info": {
      "name": "python"
    }
  },
  "cells": [
    {
      "cell_type": "markdown",
      "metadata": {
        "id": "X9F8FTGZzaSe"
      },
      "source": [
        "# AS6095 \"Astroinformatics\"\n",
        "\n",
        "## for academic year 2023 (from Sep/2023 to Jan/2024)\n",
        "\n",
        "## instructor: Kinoshita Daisuke\n",
        "\n",
        "## Course web page: https://s3b.astro.ncu.edu.tw/ai_202309/\n",
        "\n",
        "## GitHub repository: https://github.com/kinoshitadaisuke/ncu_astroinformatics_202309\n"
      ]
    },
    {
      "cell_type": "markdown",
      "metadata": {
        "id": "MKQ0pdfJCZ1I"
      },
      "source": [
        "# Session 06 \"Making and using relational database\"\n",
        "\n",
        "## 23 October 2023\n"
      ]
    },
    {
      "cell_type": "markdown",
      "metadata": {
        "id": "FVmonUCL197r"
      },
      "source": [
        "# Downloading a set of sample Python scripts and changing directory"
      ]
    },
    {
      "cell_type": "code",
      "execution_count": null,
      "metadata": {
        "id": "E-J1KLJAzmx5"
      },
      "outputs": [],
      "source": [
        "# Run this cell to download a set of sample Python scripts for this course.\n",
        "\n",
        "!git clone https://github.com/kinoshitadaisuke/ncu_astroinformatics_202309.git"
      ]
    },
    {
      "cell_type": "code",
      "execution_count": null,
      "metadata": {
        "id": "NU4Otc0i2jfu"
      },
      "outputs": [],
      "source": [
        "# Run this cell to check whether you have a directory named \"ncu_astroinformatics_202309\".\n",
        "\n",
        "!ls"
      ]
    },
    {
      "cell_type": "code",
      "execution_count": null,
      "metadata": {
        "id": "faZRhZv821VY"
      },
      "outputs": [],
      "source": [
        "# Run this cell to move to the directory \"ncu_astroinformatics_202309\".\n",
        "\n",
        "%cd ncu_astroinformatics_202309"
      ]
    },
    {
      "cell_type": "code",
      "execution_count": null,
      "metadata": {
        "id": "hUjHlUZk3Bov"
      },
      "outputs": [],
      "source": [
        "# Run this cell to show currently working directory.\n",
        "\n",
        "!pwd"
      ]
    },
    {
      "cell_type": "code",
      "execution_count": null,
      "metadata": {
        "id": "RXAGJHeX3IsD"
      },
      "outputs": [],
      "source": [
        "# Run this cell to show files and directories.\n",
        "\n",
        "!ls -lF"
      ]
    },
    {
      "cell_type": "code",
      "execution_count": null,
      "metadata": {
        "id": "xR0V8I0k3O3k"
      },
      "outputs": [],
      "source": [
        "# Run this cell to move to the directory \"s06\".\n",
        "\n",
        "%cd s06"
      ]
    },
    {
      "cell_type": "code",
      "execution_count": null,
      "metadata": {
        "id": "KbvQ_3Su3UKL"
      },
      "outputs": [],
      "source": [
        "# Run this cell to show currently working directory.\n",
        "\n",
        "!pwd"
      ]
    },
    {
      "cell_type": "code",
      "execution_count": null,
      "metadata": {
        "id": "n9AAgI4d3c6n"
      },
      "outputs": [],
      "source": [
        "# Run this cell to show files and directories.\n",
        "\n",
        "!ls -lF"
      ]
    },
    {
      "cell_type": "markdown",
      "source": [
        "# Installation of SQLite"
      ],
      "metadata": {
        "id": "jVlw3LHHcBFa"
      }
    },
    {
      "cell_type": "code",
      "source": [
        "# Run this cell to check whether or not you have a command \"sqlite3\".\n",
        "\n",
        "!which sqlite3"
      ],
      "metadata": {
        "id": "szcuyNy5b2xY"
      },
      "execution_count": null,
      "outputs": []
    },
    {
      "cell_type": "code",
      "source": [
        "# Install the command \"sqlite3\" if you do not have it.\n",
        "\n",
        "!apt install sqlite3"
      ],
      "metadata": {
        "id": "tsoYTACbb4dj"
      },
      "execution_count": null,
      "outputs": []
    },
    {
      "cell_type": "code",
      "source": [
        "# Run this cell to check whether or not you have a command \"sqlite3\".\n",
        "\n",
        "!which sqlite3"
      ],
      "metadata": {
        "id": "xW-Tz7yacQ3l"
      },
      "execution_count": null,
      "outputs": []
    },
    {
      "cell_type": "code",
      "source": [
        "# Run this cell to show the version of SQLite.\n",
        "\n",
        "!sqlite3 --version"
      ],
      "metadata": {
        "id": "QGDZ4761dZ6e"
      },
      "execution_count": null,
      "outputs": []
    },
    {
      "cell_type": "markdown",
      "source": [
        "# Learning usage of SQLite"
      ],
      "metadata": {
        "id": "0bh3HYyZhx_V"
      }
    },
    {
      "cell_type": "code",
      "source": [
        "# Run this cell to read the online manual of sqlite3.\n",
        "\n",
        "!cat man.sqlite3"
      ],
      "metadata": {
        "id": "B6FX0o2ucKic"
      },
      "execution_count": null,
      "outputs": []
    },
    {
      "cell_type": "markdown",
      "source": [
        "# Practice s06-01"
      ],
      "metadata": {
        "id": "G1rpvZUDLLGO"
      }
    },
    {
      "cell_type": "code",
      "source": [
        "# Write down your code in this cell.\n",
        "\n",
        "\n",
        "\n",
        "\n"
      ],
      "metadata": {
        "id": "Zy0U6dRmLOU3"
      },
      "execution_count": null,
      "outputs": []
    },
    {
      "cell_type": "code",
      "source": [
        "# Run this cell to show available commands of SQLite.\n",
        "\n",
        "!sqlite3 \"\" \".help\""
      ],
      "metadata": {
        "id": "LKmTOYuSfr8K"
      },
      "execution_count": null,
      "outputs": []
    },
    {
      "cell_type": "code",
      "source": [
        "# Run this cell to the description of \".open\" command.\n",
        "\n",
        "!sqlite3 \"\" \".help .open\""
      ],
      "metadata": {
        "id": "dWdhyOB6Lar7"
      },
      "execution_count": null,
      "outputs": []
    },
    {
      "cell_type": "markdown",
      "source": [
        "# Practice s06-02"
      ],
      "metadata": {
        "id": "gGceY6_sLWes"
      }
    },
    {
      "cell_type": "code",
      "source": [
        "# Write down your code in this cell.\n",
        "\n",
        "\n",
        "\n",
        "\n"
      ],
      "metadata": {
        "id": "-VtthHg2LWet"
      },
      "execution_count": null,
      "outputs": []
    },
    {
      "cell_type": "markdown",
      "source": [
        "# Making a small database"
      ],
      "metadata": {
        "id": "rgfVAjOomYef"
      }
    },
    {
      "cell_type": "markdown",
      "source": [
        "## Making a table"
      ],
      "metadata": {
        "id": "El6-Tp6KzulW"
      }
    },
    {
      "cell_type": "code",
      "source": [
        "# Run this cell to make a table for planets database.\n",
        "\n",
        "!sqlite3 planet0.db \"create table planet (name text primary key, mass real, diameter real, rotation_period real, orbital_period real, mean_temperature real, satellite integer, ring text, magnetic_field text);\""
      ],
      "metadata": {
        "id": "O1saCIIOh9Er"
      },
      "execution_count": null,
      "outputs": []
    },
    {
      "cell_type": "markdown",
      "source": [
        "# Practice s06-03"
      ],
      "metadata": {
        "id": "XxKlPFIzLuIv"
      }
    },
    {
      "cell_type": "code",
      "source": [
        "# Write down your code in this cell.\n",
        "\n",
        "\n",
        "\n",
        "\n"
      ],
      "metadata": {
        "id": "U3RPLtCJLuIx"
      },
      "execution_count": null,
      "outputs": []
    },
    {
      "cell_type": "code",
      "source": [
        "# Run this cell to show a list of database tables stored in file \"planet0.db\".\n",
        "\n",
        "!sqlite3 planet0.db \".tables\""
      ],
      "metadata": {
        "id": "HJaXdd5_mlSd"
      },
      "execution_count": null,
      "outputs": []
    },
    {
      "cell_type": "markdown",
      "source": [
        "# Practice s06-04"
      ],
      "metadata": {
        "id": "y_y-h8uALzFk"
      }
    },
    {
      "cell_type": "code",
      "source": [
        "# Write down your code in this cell.\n",
        "\n",
        "\n",
        "\n",
        "\n"
      ],
      "metadata": {
        "id": "h9jo6VLrLzFo"
      },
      "execution_count": null,
      "outputs": []
    },
    {
      "cell_type": "code",
      "source": [
        "# Run this cell to show the structure of the table \"planet\".\n",
        "\n",
        "!sqlite3 planet0.db \".schema\""
      ],
      "metadata": {
        "id": "nTuDlPgDo_zT"
      },
      "execution_count": null,
      "outputs": []
    },
    {
      "cell_type": "code",
      "source": [
        "# Run this cell to show the structure of the table \"planet\".\n",
        "\n",
        "!sqlite3 planet0.db \".schema --indent\""
      ],
      "metadata": {
        "id": "_qoytpdlzYcU"
      },
      "execution_count": null,
      "outputs": []
    },
    {
      "cell_type": "markdown",
      "source": [
        "# Practice s06-05"
      ],
      "metadata": {
        "id": "F_BK3yOSL2tk"
      }
    },
    {
      "cell_type": "code",
      "source": [
        "# Write down your code in this cell.\n",
        "\n",
        "\n",
        "\n",
        "\n"
      ],
      "metadata": {
        "id": "i1DMDJrCL2tl"
      },
      "execution_count": null,
      "outputs": []
    },
    {
      "cell_type": "markdown",
      "source": [
        "## Adding data to table"
      ],
      "metadata": {
        "id": "eG8A6YNMzxu6"
      }
    },
    {
      "cell_type": "code",
      "source": [
        "# Run this cell to add data of Mercury.\n",
        "\n",
        "!sqlite3 planet0.db \"insert into planet values ('Mercury', 3.30E23, 4.879E3, 1407.6, 88.0, 167, 0, 'No', 'Yes');\""
      ],
      "metadata": {
        "id": "Cf0heyHwpKJj"
      },
      "execution_count": null,
      "outputs": []
    },
    {
      "cell_type": "code",
      "source": [
        "# Run this cell to add data of Venus.\n",
        "\n",
        "!sqlite3 planet0.db \"insert into planet values ('Venus', 4.87E24, 1.2104E4, -5832.5, 224.7, 464, 0, 'No', 'No');\""
      ],
      "metadata": {
        "id": "0eVs6HpxtgZA"
      },
      "execution_count": null,
      "outputs": []
    },
    {
      "cell_type": "code",
      "source": [
        "# Run this cell to add data of Earth.\n",
        "\n",
        "!sqlite3 planet0.db \"insert into planet values ('Earth', 5.97E24, 1.2756E4, 23.9, 365.2, 15, 1, 'No', 'Yes');\""
      ],
      "metadata": {
        "id": "TqYeQ3oizBwq"
      },
      "execution_count": null,
      "outputs": []
    },
    {
      "cell_type": "code",
      "source": [
        "# Run this cell to add data of Mars.\n",
        "\n",
        "!sqlite3 planet0.db \"insert into planet values ('Mars', 6.42E23, 6.792E3, 24.6, 687.0, -65, 2, 'No', 'No');\""
      ],
      "metadata": {
        "id": "-lM60uGmzFPV"
      },
      "execution_count": null,
      "outputs": []
    },
    {
      "cell_type": "code",
      "source": [
        "# Run this cell to add data of Jupiter.\n",
        "\n",
        "!sqlite3 planet0.db \"insert into planet values ('Jupiter', 1.898E27, 1.42984E5, 9.9, 4331, -110, 79, 'Yes', 'Yes');\""
      ],
      "metadata": {
        "id": "zg1HWRZWzMKi"
      },
      "execution_count": null,
      "outputs": []
    },
    {
      "cell_type": "code",
      "source": [
        "# Run this cell to add data of Saturn.\n",
        "\n",
        "!sqlite3 planet0.db \"insert into planet values ('Saturn', 5.68E26, 1.20536E5, 10.7, 10747, -140, 82, 'Yes', 'Yes');\""
      ],
      "metadata": {
        "id": "7QZbAZ0JzRGk"
      },
      "execution_count": null,
      "outputs": []
    },
    {
      "cell_type": "code",
      "source": [
        "# Run this cell to add data of Uranus.\n",
        "\n",
        "!sqlite3 planet0.db \"insert into planet values ('Uranus', 8.68E25, 5.1118E4, -17.2, 30589, -195, 27, 'Yes', 'Yes');\""
      ],
      "metadata": {
        "id": "-YDdSC3wzYDY"
      },
      "execution_count": null,
      "outputs": []
    },
    {
      "cell_type": "code",
      "source": [
        "# Run this cell to add data of Neptune.\n",
        "\n",
        "!sqlite3 planet0.db \"insert into planet values ('Neptune', 1.02E26, 4.9528E4, 16.1, 59800, -200, 14, 'Yes', 'Yes');\""
      ],
      "metadata": {
        "id": "YD2zlmpEzdCM"
      },
      "execution_count": null,
      "outputs": []
    },
    {
      "cell_type": "markdown",
      "source": [
        "# Practice s06-06"
      ],
      "metadata": {
        "id": "7Qo95O-aL6OW"
      }
    },
    {
      "cell_type": "code",
      "source": [
        "# Write down your code in this cell.\n",
        "\n",
        "\n",
        "\n",
        "\n"
      ],
      "metadata": {
        "id": "rkKxfpEUL6OX"
      },
      "execution_count": null,
      "outputs": []
    },
    {
      "cell_type": "markdown",
      "source": [
        "## Trying SQL queries"
      ],
      "metadata": {
        "id": "yJnvAojWz0oa"
      }
    },
    {
      "cell_type": "code",
      "source": [
        "# Run this cell to print all the columns for each record.\n",
        "\n",
        "!sqlite3 planet0.db \"select * from planet;\""
      ],
      "metadata": {
        "id": "WPBukBkcz2sS"
      },
      "execution_count": null,
      "outputs": []
    },
    {
      "cell_type": "code",
      "source": [
        "# Run this cell to print the header and all the columns for each record of the table.\n",
        "\n",
        "!sqlite3 -header planet0.db \"select * from planet;\""
      ],
      "metadata": {
        "id": "gRi7UIpw3Rh3"
      },
      "execution_count": null,
      "outputs": []
    },
    {
      "cell_type": "code",
      "source": [
        "# Run this cell to print the header and name, mass, diameter, and number of satellites of each planet.\n",
        "\n",
        "!sqlite3 -header planet0.db \"select name,mass,diameter,satellite from planet;\""
      ],
      "metadata": {
        "id": "RchstmYcz6vN"
      },
      "execution_count": null,
      "outputs": []
    },
    {
      "cell_type": "code",
      "source": [
        "# Run this cell to print the header and name, mass, diameter, and number of satellites of each planet by fancy output format.\n",
        "\n",
        "!sqlite3 -header -column planet0.db \"select name,mass,diameter,satellite from planet;\""
      ],
      "metadata": {
        "id": "nmBCAEZs625P"
      },
      "execution_count": null,
      "outputs": []
    },
    {
      "cell_type": "code",
      "source": [
        "# Run this cell to print the header and name, mass, diameter, number of satellites, existence of ring system, existence of global magnetic field of each planet by fancy output format.\n",
        "\n",
        "!sqlite3 -header -column planet0.db \"select name,mass,diameter,satellite,ring,magnetic_field from planet;\""
      ],
      "metadata": {
        "id": "ZDFzZE4P7G8T"
      },
      "execution_count": null,
      "outputs": []
    },
    {
      "cell_type": "code",
      "source": [
        "# Run this cell to print the header and name, mass, diameter, number of satellites, existence of ring system, existence of global magnetic field of each planet by fancy output format.\n",
        "\n",
        "!sqlite3 -header planet0.db \".mode table\" \"select name,mass,diameter,satellite,ring,magnetic_field from planet;\""
      ],
      "metadata": {
        "id": "EY6zy0M36ZAC"
      },
      "execution_count": null,
      "outputs": []
    },
    {
      "cell_type": "markdown",
      "source": [
        "# Practice s06-07"
      ],
      "metadata": {
        "id": "xc4Al-xIL_Cx"
      }
    },
    {
      "cell_type": "code",
      "source": [
        "# Write down your code in this cell.\n",
        "\n",
        "\n",
        "\n",
        "\n"
      ],
      "metadata": {
        "id": "398UiRvBL_Cz"
      },
      "execution_count": null,
      "outputs": []
    },
    {
      "cell_type": "markdown",
      "source": [
        "## Sorting outputs using \"order by\""
      ],
      "metadata": {
        "id": "RR6iXL-ry8nV"
      }
    },
    {
      "cell_type": "code",
      "source": [
        "# Run this cell to sort outputs using \"order by\".\n",
        "\n",
        "!sqlite3 -header -column planet0.db \"select name,mass,diameter,satellite,ring,magnetic_field from planet order by diameter;\""
      ],
      "metadata": {
        "id": "urCDD9lV76Ud"
      },
      "execution_count": null,
      "outputs": []
    },
    {
      "cell_type": "markdown",
      "source": [
        "# Practice s06-08"
      ],
      "metadata": {
        "id": "67SKBvS2MLYs"
      }
    },
    {
      "cell_type": "code",
      "source": [
        "# Write down your code in this cell.\n",
        "\n",
        "\n",
        "\n",
        "\n"
      ],
      "metadata": {
        "id": "B-N-f7OIMLYt"
      },
      "execution_count": null,
      "outputs": []
    },
    {
      "cell_type": "code",
      "source": [
        "# Run this cell to sort outputs using \"order by\".\n",
        "\n",
        "!sqlite3 -header -column planet0.db \"select name,mass,diameter,satellite,ring,magnetic_field from planet order by diameter desc;\""
      ],
      "metadata": {
        "id": "1XhkIXKD1-pp"
      },
      "execution_count": null,
      "outputs": []
    },
    {
      "cell_type": "markdown",
      "source": [
        "# Practice s06-09"
      ],
      "metadata": {
        "id": "yY5qlHdvMG2Q"
      }
    },
    {
      "cell_type": "code",
      "source": [
        "# Write down your code in this cell.\n",
        "\n",
        "\n",
        "\n",
        "\n"
      ],
      "metadata": {
        "id": "P53r70zUMG2S"
      },
      "execution_count": null,
      "outputs": []
    },
    {
      "cell_type": "markdown",
      "source": [
        "## Selecting outputs using \"where\""
      ],
      "metadata": {
        "id": "0iz6W3uG2M0-"
      }
    },
    {
      "cell_type": "code",
      "source": [
        "# Run this cell to select outputs using \"where\".\n",
        "\n",
        "!sqlite3 -header -column planet0.db \"select name,mass,diameter,satellite,ring,magnetic_field from planet where satellite >= 10;\""
      ],
      "metadata": {
        "id": "ojhnd3wmzIKe"
      },
      "execution_count": null,
      "outputs": []
    },
    {
      "cell_type": "code",
      "source": [
        "# Run this cell to select outputs using \"where\".\n",
        "\n",
        "!sqlite3 -header -column planet0.db \"select name,mass,diameter,satellite,ring,magnetic_field from planet where magnetic_field is 'Yes';\""
      ],
      "metadata": {
        "id": "wvdPkOvT7Is_"
      },
      "execution_count": null,
      "outputs": []
    },
    {
      "cell_type": "markdown",
      "source": [
        "# Practice s06-10"
      ],
      "metadata": {
        "id": "UOQg9159MX2a"
      }
    },
    {
      "cell_type": "code",
      "source": [
        "# Write down your code in this cell.\n",
        "\n",
        "\n",
        "\n",
        "\n"
      ],
      "metadata": {
        "id": "nA9TsYKgMX2e"
      },
      "execution_count": null,
      "outputs": []
    },
    {
      "cell_type": "code",
      "source": [
        "# Run this cell to select outputs using \"where\".\n",
        "\n",
        "!sqlite3 -header -column planet0.db \"select name,mass,diameter,satellite,ring,magnetic_field from planet where mass > 1e+26 and diameter > 50000;\""
      ],
      "metadata": {
        "id": "dJQ1HzQc7ggs"
      },
      "execution_count": null,
      "outputs": []
    },
    {
      "cell_type": "markdown",
      "source": [
        "# Practice s06-11"
      ],
      "metadata": {
        "id": "Vhg-weEUMZV1"
      }
    },
    {
      "cell_type": "code",
      "source": [
        "# Write down your code in this cell.\n",
        "\n",
        "\n",
        "\n",
        "\n"
      ],
      "metadata": {
        "id": "ey_-UsDgMZV2"
      },
      "execution_count": null,
      "outputs": []
    },
    {
      "cell_type": "markdown",
      "source": [
        "## Importing data from a CSV file"
      ],
      "metadata": {
        "id": "l9uBBsWk7y4A"
      }
    },
    {
      "cell_type": "code",
      "source": [
        "# Run this cell to show the source code of the script.\n",
        "\n",
        "!cat ai2023_s06_00_00.py"
      ],
      "metadata": {
        "id": "GAqoX3wF21x6"
      },
      "execution_count": null,
      "outputs": []
    },
    {
      "cell_type": "code",
      "source": [
        "# Run this cell to execute the script.\n",
        "\n",
        "!python3.10 ai2023_s06_00_00.py"
      ],
      "metadata": {
        "id": "yc5vPv8c78bz"
      },
      "execution_count": null,
      "outputs": []
    },
    {
      "cell_type": "code",
      "source": [
        "# Run this cell to show downloaded CSV file.\n",
        "\n",
        "!ls -lF *.csv"
      ],
      "metadata": {
        "id": "hDntl7ty8LSY"
      },
      "execution_count": null,
      "outputs": []
    },
    {
      "cell_type": "code",
      "source": [
        "# Run this cell to show file type of downloaded CSV file.\n",
        "\n",
        "!file dwarf_planet.csv"
      ],
      "metadata": {
        "id": "WsCdRADA8QLK"
      },
      "execution_count": null,
      "outputs": []
    },
    {
      "cell_type": "code",
      "source": [
        "# Run this cell to show the contents of downloaded CSV file.\n",
        "\n",
        "!cat dwarf_planet.csv"
      ],
      "metadata": {
        "id": "bzcCZizO8U1N"
      },
      "execution_count": null,
      "outputs": []
    },
    {
      "cell_type": "markdown",
      "source": [
        "# Practice s06-12"
      ],
      "metadata": {
        "id": "mtrErB9lMzMe"
      }
    },
    {
      "cell_type": "code",
      "source": [
        "# Write down your code in this cell.\n",
        "\n",
        "\n",
        "\n",
        "\n"
      ],
      "metadata": {
        "id": "fL0HYxi4MzMf"
      },
      "execution_count": null,
      "outputs": []
    },
    {
      "cell_type": "code",
      "source": [
        "# Run this cell to create a table.\n",
        "\n",
        "!sqlite3 dwarf_planet.db \"create table dwarfplanet (name text primary key, a real, e real, i real, perihelion real, aphelion real, P real, H real);\""
      ],
      "metadata": {
        "id": "Mh4bDEsX8aTC"
      },
      "execution_count": null,
      "outputs": []
    },
    {
      "cell_type": "code",
      "source": [
        "# Run this cell to find newly created database file.\n",
        "\n",
        "!ls -lF *.db"
      ],
      "metadata": {
        "id": "-atEz-E58mOr"
      },
      "execution_count": null,
      "outputs": []
    },
    {
      "cell_type": "code",
      "source": [
        "# Run this cell to find data type of database file.\n",
        "\n",
        "!file dwarf_planet.db"
      ],
      "metadata": {
        "id": "CQN-GedO8qd2"
      },
      "execution_count": null,
      "outputs": []
    },
    {
      "cell_type": "code",
      "source": [
        "# Run this cell to find the structure of the table.\n",
        "\n",
        "!sqlite3 dwarf_planet.db \".schema --indent\""
      ],
      "metadata": {
        "id": "a439MQb48v1z"
      },
      "execution_count": null,
      "outputs": []
    },
    {
      "cell_type": "markdown",
      "source": [
        "# Practice s06-13"
      ],
      "metadata": {
        "id": "O3WFag6KM8SB"
      }
    },
    {
      "cell_type": "code",
      "source": [
        "# Write down your code in this cell.\n",
        "\n",
        "\n",
        "\n",
        "\n"
      ],
      "metadata": {
        "id": "MMcHobTVM8SE"
      },
      "execution_count": null,
      "outputs": []
    },
    {
      "cell_type": "code",
      "source": [
        "# Run this cell to show the description of the meta-command \".import\".\n",
        "\n",
        "!sqlite3 \"\" \".help .import\""
      ],
      "metadata": {
        "id": "jBNLg5FQ82oG"
      },
      "execution_count": null,
      "outputs": []
    },
    {
      "cell_type": "code",
      "source": [
        "# Run this cell to import a CSV file to the database.\n",
        "\n",
        "!sqlite3 dwarf_planet.db \".import --csv --skip 16 dwarf_planet.csv dwarfplanet\""
      ],
      "metadata": {
        "id": "0SphfcrA9B6k"
      },
      "execution_count": null,
      "outputs": []
    },
    {
      "cell_type": "markdown",
      "source": [
        "# Practice s06-14"
      ],
      "metadata": {
        "id": "YnL_9mtENA_r"
      }
    },
    {
      "cell_type": "code",
      "source": [
        "# Write down your code in this cell.\n",
        "\n",
        "\n",
        "\n",
        "\n"
      ],
      "metadata": {
        "id": "m8NCRWSiNA_t"
      },
      "execution_count": null,
      "outputs": []
    },
    {
      "cell_type": "code",
      "source": [
        "# Run this cell to try a SQL query.\n",
        "\n",
        "!sqlite3 --header --column dwarf_planet.db \"select * from dwarfplanet;\""
      ],
      "metadata": {
        "id": "d7Ga7Iqm9IRy"
      },
      "execution_count": null,
      "outputs": []
    },
    {
      "cell_type": "code",
      "source": [
        "# Run this cell to try a SQL query.\n",
        "\n",
        "!sqlite3 --header --column dwarf_planet.db \"select name, a, e, i, H from dwarfplanet order by H;\""
      ],
      "metadata": {
        "id": "4aNNGXFa9Obj"
      },
      "execution_count": null,
      "outputs": []
    },
    {
      "cell_type": "code",
      "source": [
        "# Run this cell to try a SQL query.\n",
        "\n",
        "!sqlite3 --header --column dwarf_planet.db \"select name, a, e, i, perihelion, aphelion from dwarfplanet order by aphelion desc;\""
      ],
      "metadata": {
        "id": "l2JSgPv39S6U"
      },
      "execution_count": null,
      "outputs": []
    },
    {
      "cell_type": "code",
      "source": [
        "# Run this cell to try a SQL query.\n",
        "\n",
        "!sqlite3 --header --column dwarf_planet.db \"select * from dwarfplanet where P > 300;\""
      ],
      "metadata": {
        "id": "2RQD9--v9adC"
      },
      "execution_count": null,
      "outputs": []
    },
    {
      "cell_type": "markdown",
      "source": [
        "# Practice s06-15"
      ],
      "metadata": {
        "id": "B98Uf5fYNDmj"
      }
    },
    {
      "cell_type": "code",
      "source": [
        "# Write down your code in this cell.\n",
        "\n",
        "\n",
        "\n",
        "\n"
      ],
      "metadata": {
        "id": "6IMVldzRNDmn"
      },
      "execution_count": null,
      "outputs": []
    },
    {
      "cell_type": "markdown",
      "source": [
        "## Exporting database into a SQL file"
      ],
      "metadata": {
        "id": "sc6Duerw9j6o"
      }
    },
    {
      "cell_type": "code",
      "source": [
        "# Run this cell to show the description of \".dump\" command.\n",
        "\n",
        "!sqlite3 \"\" \".help .dump\""
      ],
      "metadata": {
        "id": "iP_tcscg9f8t"
      },
      "execution_count": null,
      "outputs": []
    },
    {
      "cell_type": "code",
      "source": [
        "# Run this cell to export the database into a SQL file.\n",
        "\n",
        "!sqlite3 dwarf_planet.db \".dump\" > dwarf_planet.sql"
      ],
      "metadata": {
        "id": "YZ-FvQY99uDs"
      },
      "execution_count": null,
      "outputs": []
    },
    {
      "cell_type": "code",
      "source": [
        "# Run this cell to find newly created SQL file.\n",
        "\n",
        "!ls -lF *.sql"
      ],
      "metadata": {
        "id": "1UK1YZxE92x8"
      },
      "execution_count": null,
      "outputs": []
    },
    {
      "cell_type": "code",
      "source": [
        "# Run this cell to find data type of SQL file.\n",
        "\n",
        "!file dwarf_planet.sql"
      ],
      "metadata": {
        "id": "plEG60o096mX"
      },
      "execution_count": null,
      "outputs": []
    },
    {
      "cell_type": "code",
      "source": [
        "# Run this cell to show the contents of SQL file.\n",
        "\n",
        "!cut -b -80 dwarf_planet.sql"
      ],
      "metadata": {
        "id": "hrvWMfT09_UG"
      },
      "execution_count": null,
      "outputs": []
    },
    {
      "cell_type": "markdown",
      "source": [
        "# Practice s06-16"
      ],
      "metadata": {
        "id": "6dSsuTXnNIIK"
      }
    },
    {
      "cell_type": "code",
      "source": [
        "# Write down your code in this cell.\n",
        "\n",
        "\n",
        "\n",
        "\n"
      ],
      "metadata": {
        "id": "7yR1E66XNIIM"
      },
      "execution_count": null,
      "outputs": []
    },
    {
      "cell_type": "markdown",
      "source": [
        "## Reading a SQL file"
      ],
      "metadata": {
        "id": "POoOMcvV-NHI"
      }
    },
    {
      "cell_type": "code",
      "source": [
        "# Run this cell to read a SQL file and create a database file.\n",
        "\n",
        "!sqlite3 dwarf_planet3.db \".read dwarf_planet.sql\""
      ],
      "metadata": {
        "id": "RaG2kcw7-JFf"
      },
      "execution_count": null,
      "outputs": []
    },
    {
      "cell_type": "code",
      "source": [
        "# Run this cell to try a SQL query.\n",
        "\n",
        "!sqlite3 --header --column dwarf_planet3.db \"select * from dwarfplanet where i > 20 order by i desc;\""
      ],
      "metadata": {
        "id": "u5T3pbXp-TbV"
      },
      "execution_count": null,
      "outputs": []
    },
    {
      "cell_type": "markdown",
      "source": [
        "# Practice s06-17"
      ],
      "metadata": {
        "id": "h2ka9p-8NLdv"
      }
    },
    {
      "cell_type": "code",
      "source": [
        "# Write down your code in this cell.\n",
        "\n",
        "\n",
        "\n",
        "\n"
      ],
      "metadata": {
        "id": "2e7MYwEXNLdx"
      },
      "execution_count": null,
      "outputs": []
    },
    {
      "cell_type": "markdown",
      "source": [
        "## Exporting a database into a CSV file"
      ],
      "metadata": {
        "id": "nhYVHgCh-iy6"
      }
    },
    {
      "cell_type": "code",
      "source": [
        "# Run this cell to show the description of \".once\" command.\n",
        "\n",
        "!sqlite3 \"\" \".help .once\""
      ],
      "metadata": {
        "id": "l631eRpa-fKP"
      },
      "execution_count": null,
      "outputs": []
    },
    {
      "cell_type": "code",
      "source": [
        "# Run this cell to export a database into a CSV file.\n",
        "\n",
        "!sqlite3 dwarf_planet3.db \".header on\" \".mode csv\" \".once new.csv\" \"select * from dwarfplanet;\""
      ],
      "metadata": {
        "id": "dRGoUBfC-quc"
      },
      "execution_count": null,
      "outputs": []
    },
    {
      "cell_type": "code",
      "source": [
        "# Run this cell to find newly created file.\n",
        "\n",
        "!ls -lF *.csv"
      ],
      "metadata": {
        "id": "yK2BQK5o-1rd"
      },
      "execution_count": null,
      "outputs": []
    },
    {
      "cell_type": "code",
      "source": [
        "# Run this cell to find data type of newly created file.\n",
        "\n",
        "!file new.csv"
      ],
      "metadata": {
        "id": "HEkm-oH0-423"
      },
      "execution_count": null,
      "outputs": []
    },
    {
      "cell_type": "code",
      "source": [
        "# Run this cell to show the contents of newly created file.\n",
        "\n",
        "!cat new.csv"
      ],
      "metadata": {
        "id": "B68U42CE-8em"
      },
      "execution_count": null,
      "outputs": []
    },
    {
      "cell_type": "markdown",
      "source": [
        "# Practice s06-18"
      ],
      "metadata": {
        "id": "zA-nJt_3NO16"
      }
    },
    {
      "cell_type": "code",
      "source": [
        "# Write down your code in this cell.\n",
        "\n",
        "\n",
        "\n",
        "\n"
      ],
      "metadata": {
        "id": "Vb_PFkqONO18"
      },
      "execution_count": null,
      "outputs": []
    },
    {
      "cell_type": "markdown",
      "source": [
        "# Constructing elements database"
      ],
      "metadata": {
        "id": "IURcbZIk_GIL"
      }
    },
    {
      "cell_type": "markdown",
      "source": [
        "## Downloading a CSV file"
      ],
      "metadata": {
        "id": "hMf5yKAv_Jdj"
      }
    },
    {
      "cell_type": "code",
      "source": [
        "# Run this cell to show the source code of the script.\n",
        "\n",
        "!cat ai2023_s06_01_00.py"
      ],
      "metadata": {
        "id": "J6m--ykm_B3e"
      },
      "execution_count": null,
      "outputs": []
    },
    {
      "cell_type": "code",
      "source": [
        "# Run this cell to execute the script.\n",
        "\n",
        "!python3.10 ai2023_s06_01_00.py"
      ],
      "metadata": {
        "id": "O8PcsreI_RLu"
      },
      "execution_count": null,
      "outputs": []
    },
    {
      "cell_type": "code",
      "source": [
        "# Run this cell to find newly downloaded file.\n",
        "\n",
        "!ls -lF *.csv"
      ],
      "metadata": {
        "id": "bqLMFmHX_Yu1"
      },
      "execution_count": null,
      "outputs": []
    },
    {
      "cell_type": "code",
      "source": [
        "# Run this cell to find data type of newly downloaded file.\n",
        "\n",
        "!file periodictable.csv"
      ],
      "metadata": {
        "id": "CNZ08xPe_c3f"
      },
      "execution_count": null,
      "outputs": []
    },
    {
      "cell_type": "code",
      "source": [
        "# run this cell to show first 20 lines of newly downloaded file.\n",
        "\n",
        "!head -20 periodictable.csv | cut -b -80"
      ],
      "metadata": {
        "id": "48ndqocW_iEI"
      },
      "execution_count": null,
      "outputs": []
    },
    {
      "cell_type": "markdown",
      "source": [
        "# Practice s06-19"
      ],
      "metadata": {
        "id": "pFS6f0tDNRuu"
      }
    },
    {
      "cell_type": "code",
      "source": [
        "# Write down your code in this cell.\n",
        "\n",
        "\n",
        "\n",
        "\n"
      ],
      "metadata": {
        "id": "kPw9BLrnNRuv"
      },
      "execution_count": null,
      "outputs": []
    },
    {
      "cell_type": "markdown",
      "source": [
        "## Creating a table for elements database"
      ],
      "metadata": {
        "id": "9KxOrwli_tv2"
      }
    },
    {
      "cell_type": "code",
      "source": [
        "# Run this cell to create a table for elements database.\n",
        "\n",
        "!sqlite3 element.db \"create table element (AtomicNumber integer primary key, Symbol text, Name text, AtomicMass real, CPKHexColor text, ElectronConfiguration text, Electronegativity real, AtomicRadius real, IonizationEnergy real, ElectronAffinity real, OxidationStates text, StandardState text, MeltingPoint real, BoilingPoint real, Density real, GroupBlock text, YearDiscovered text);\""
      ],
      "metadata": {
        "id": "dibVANv2_qkv"
      },
      "execution_count": null,
      "outputs": []
    },
    {
      "cell_type": "code",
      "source": [
        "# Run this cell to check the structure of the table.\n",
        "\n",
        "!sqlite3 element.db \".schema --indent\""
      ],
      "metadata": {
        "id": "A_L1f3Ft_6d5"
      },
      "execution_count": null,
      "outputs": []
    },
    {
      "cell_type": "markdown",
      "source": [
        "# Practice s06-20"
      ],
      "metadata": {
        "id": "RhIT_30aNVWO"
      }
    },
    {
      "cell_type": "code",
      "source": [
        "# Write down your code in this cell.\n",
        "\n",
        "\n",
        "\n",
        "\n"
      ],
      "metadata": {
        "id": "A1S2kOTYNVWQ"
      },
      "execution_count": null,
      "outputs": []
    },
    {
      "cell_type": "markdown",
      "source": [
        "## Importing CSV file and constructing database"
      ],
      "metadata": {
        "id": "8TUSgoN6ACvz"
      }
    },
    {
      "cell_type": "code",
      "source": [
        "# Run this cell to import a CSV file and add data to the database.\n",
        "\n",
        "!sqlite3 element.db \".import --csv --skip 1 periodictable.csv element\""
      ],
      "metadata": {
        "id": "QDV8Y4EtAAP5"
      },
      "execution_count": null,
      "outputs": []
    },
    {
      "cell_type": "markdown",
      "source": [
        "# Practice s06-21"
      ],
      "metadata": {
        "id": "C12BkBzlNY96"
      }
    },
    {
      "cell_type": "code",
      "source": [
        "# Write down your code in this cell.\n",
        "\n",
        "\n",
        "\n",
        "\n"
      ],
      "metadata": {
        "id": "NsIU_z0hNY98"
      },
      "execution_count": null,
      "outputs": []
    },
    {
      "cell_type": "markdown",
      "source": [
        "## Trying SQL queries"
      ],
      "metadata": {
        "id": "xfXZpzG-AO1b"
      }
    },
    {
      "cell_type": "code",
      "source": [
        "# Run this cell to try a SQL query.\n",
        "\n",
        "!sqlite3 --header --column element.db \"select Symbol, Name, AtomicMass, StandardState, MeltingPoint, BoilingPoint from element where StandardState is 'Liquid';\""
      ],
      "metadata": {
        "id": "46XAe4aSAM0f"
      },
      "execution_count": null,
      "outputs": []
    },
    {
      "cell_type": "markdown",
      "source": [
        "# Practice s06-22"
      ],
      "metadata": {
        "id": "KbXYi-MiNeEW"
      }
    },
    {
      "cell_type": "code",
      "source": [
        "# Write down your code in this cell.\n",
        "\n",
        "\n",
        "\n",
        "\n"
      ],
      "metadata": {
        "id": "OkIp8SkvNeEY"
      },
      "execution_count": null,
      "outputs": []
    },
    {
      "cell_type": "code",
      "source": [
        "# Run this cell to try a SQL query.\n",
        "\n",
        "!sqlite3 --header --column element.db \"select AtomicNumber, Name, Symbol, StandardState, Density from element where Density >= 15.0 and Density != '' order by Density desc;\""
      ],
      "metadata": {
        "id": "tv0AhEFDAXl3"
      },
      "execution_count": null,
      "outputs": []
    },
    {
      "cell_type": "markdown",
      "source": [
        "# Practice s06-23"
      ],
      "metadata": {
        "id": "i4ZN86K-NiAI"
      }
    },
    {
      "cell_type": "code",
      "source": [
        "# Write down your code in this cell.\n",
        "\n",
        "\n",
        "\n",
        "\n"
      ],
      "metadata": {
        "id": "Kmtz8qJ7NiAI"
      },
      "execution_count": null,
      "outputs": []
    },
    {
      "cell_type": "code",
      "source": [
        "# Run this cell to try a SQL query.\n",
        "\n",
        "!sqlite3 --header --column element.db \"select Name, Symbol, StandardState, MeltingPoint, BoilingPoint from element where BoilingPoint < 300 order by BoilingPoint;\""
      ],
      "metadata": {
        "id": "IF1JDbHRAhOn"
      },
      "execution_count": null,
      "outputs": []
    },
    {
      "cell_type": "markdown",
      "source": [
        "# Practice s06-24"
      ],
      "metadata": {
        "id": "IK3eyoN6NkJi"
      }
    },
    {
      "cell_type": "code",
      "source": [
        "# Write down your code in this cell.\n",
        "\n",
        "\n",
        "\n",
        "\n"
      ],
      "metadata": {
        "id": "mHTNWCGmNkJl"
      },
      "execution_count": null,
      "outputs": []
    },
    {
      "cell_type": "markdown",
      "source": [
        "# Constructing a database from Bright Star Catalogue"
      ],
      "metadata": {
        "id": "-iobjVbkAuQN"
      }
    },
    {
      "cell_type": "markdown",
      "source": [
        "## Downloading the catalogue"
      ],
      "metadata": {
        "id": "8GZcbExKAx6M"
      }
    },
    {
      "cell_type": "code",
      "source": [
        "# Run this cell to show the source code of the script.\n",
        "\n",
        "!cat ai2023_s06_02_00.py"
      ],
      "metadata": {
        "id": "wdFyUt_VA9a9"
      },
      "execution_count": null,
      "outputs": []
    },
    {
      "cell_type": "code",
      "source": [
        "# Run this cell to execute the script.\n",
        "\n",
        "!python3.10 ai2023_s06_02_00.py"
      ],
      "metadata": {
        "id": "3b0Tc9MmAq14"
      },
      "execution_count": null,
      "outputs": []
    },
    {
      "cell_type": "code",
      "source": [
        "# Find newly downloaded file.\n",
        "\n",
        "!ls -lF *.gz"
      ],
      "metadata": {
        "id": "4hul-oCsBFFJ"
      },
      "execution_count": null,
      "outputs": []
    },
    {
      "cell_type": "code",
      "source": [
        "# Find data type of newly downloaded file.\n",
        "\n",
        "!file bsc5.gz"
      ],
      "metadata": {
        "id": "Zncnks_eBKwI"
      },
      "execution_count": null,
      "outputs": []
    },
    {
      "cell_type": "code",
      "source": [
        "# Run this cell to show the source code of the script.\n",
        "\n",
        "!cat ai2023_s06_02_01.py"
      ],
      "metadata": {
        "id": "uskP99LKBOK6"
      },
      "execution_count": null,
      "outputs": []
    },
    {
      "cell_type": "code",
      "source": [
        "# Run this cell to execute the script.\n",
        "\n",
        "!python3.10 ai2023_s06_02_01.py"
      ],
      "metadata": {
        "id": "NwVlKsbRBUR5"
      },
      "execution_count": null,
      "outputs": []
    },
    {
      "cell_type": "code",
      "source": [
        "# Find newly downloaded file.\n",
        "\n",
        "!ls -lF bsc5.*"
      ],
      "metadata": {
        "id": "pYmu7d51BYD4"
      },
      "execution_count": null,
      "outputs": []
    },
    {
      "cell_type": "code",
      "source": [
        "# Find data type of newly downloaded file.\n",
        "\n",
        "!file bsc5.readme"
      ],
      "metadata": {
        "id": "QJ7UbYs_Bbp6"
      },
      "execution_count": null,
      "outputs": []
    },
    {
      "cell_type": "code",
      "source": [
        "# Run this cell to show first 20 lines of newly downloaded file.\n",
        "\n",
        "!head -20 bsc5.readme"
      ],
      "metadata": {
        "id": "UYITeXnJBfao"
      },
      "execution_count": null,
      "outputs": []
    },
    {
      "cell_type": "markdown",
      "source": [
        "## Reading Bright Star Catalogue"
      ],
      "metadata": {
        "id": "ESxv2t0_BpHW"
      }
    },
    {
      "cell_type": "code",
      "source": [
        "# Run this cell to show the source code of the script.\n",
        "\n",
        "!cat ai2023_s06_02_02.py"
      ],
      "metadata": {
        "id": "TisYBrdZBlY6"
      },
      "execution_count": null,
      "outputs": []
    },
    {
      "cell_type": "code",
      "source": [
        "# Run this cell to execute the script.\n",
        "\n",
        "!python3.10 ai2023_s06_02_02.py > bsc5_extracted.data"
      ],
      "metadata": {
        "id": "uhpSUZmFBuu4"
      },
      "execution_count": null,
      "outputs": []
    },
    {
      "cell_type": "code",
      "source": [
        "# Run this cell to check extracted data.\n",
        "\n",
        "!head -30 bsc5_extracted.data"
      ],
      "metadata": {
        "id": "SXfxkgixB2DB"
      },
      "execution_count": null,
      "outputs": []
    },
    {
      "cell_type": "markdown",
      "source": [
        "# Practice s06-25"
      ],
      "metadata": {
        "id": "CrpFCOOdNoQS"
      }
    },
    {
      "cell_type": "code",
      "source": [
        "# Write down your code in this cell.\n",
        "\n",
        "\n",
        "\n",
        "\n"
      ],
      "metadata": {
        "id": "ad0FX2YnNoQV"
      },
      "execution_count": null,
      "outputs": []
    },
    {
      "cell_type": "markdown",
      "source": [
        "## Making a SQL file to generate a database"
      ],
      "metadata": {
        "id": "8FdaK1msB-YP"
      }
    },
    {
      "cell_type": "code",
      "source": [
        "# Run this cell to show the source code of the script.\n",
        "\n",
        "!cat ai2023_s06_02_03.py"
      ],
      "metadata": {
        "id": "c6sQAy8eB77y"
      },
      "execution_count": null,
      "outputs": []
    },
    {
      "cell_type": "code",
      "source": [
        "# Run this cell to execute the script.\n",
        "\n",
        "!python3.10 ai2023_s06_02_03.py"
      ],
      "metadata": {
        "id": "y1sLgFWwCIya"
      },
      "execution_count": null,
      "outputs": []
    },
    {
      "cell_type": "code",
      "source": [
        "# Run this cell to find newly created file.\n",
        "\n",
        "!ls -lF *.sql"
      ],
      "metadata": {
        "id": "iRTjDogyCQbz"
      },
      "execution_count": null,
      "outputs": []
    },
    {
      "cell_type": "code",
      "source": [
        "# Run this cell to show the contents of newly created file.\n",
        "\n",
        "!head -20 bsc5_makedb.sql | cut -b -80"
      ],
      "metadata": {
        "id": "IejVz8RMCTW6"
      },
      "execution_count": null,
      "outputs": []
    },
    {
      "cell_type": "markdown",
      "source": [
        "# Practice s06-26"
      ],
      "metadata": {
        "id": "IrDbmVYkNrQT"
      }
    },
    {
      "cell_type": "code",
      "source": [
        "# Write down your code in this cell.\n",
        "\n",
        "\n",
        "\n",
        "\n"
      ],
      "metadata": {
        "id": "UhPPl7OrNrQW"
      },
      "execution_count": null,
      "outputs": []
    },
    {
      "cell_type": "markdown",
      "source": [
        "## Executing SQL file to make BSC database"
      ],
      "metadata": {
        "id": "CKRrPxerCo1v"
      }
    },
    {
      "cell_type": "code",
      "source": [
        "# Run this cell to execute SQL file.\n",
        "\n",
        "!sqlite3 bsc5.db \".read bsc5_makedb.sql\""
      ],
      "metadata": {
        "id": "5Qk_9RNDCYS5"
      },
      "execution_count": null,
      "outputs": []
    },
    {
      "cell_type": "code",
      "source": [
        "# Run this cell to show the structure of the table.\n",
        "\n",
        "!sqlite3 bsc5.db \".schema --indent\""
      ],
      "metadata": {
        "id": "bVUe26_gCwHX"
      },
      "execution_count": null,
      "outputs": []
    },
    {
      "cell_type": "markdown",
      "source": [
        "# Practice s06-27"
      ],
      "metadata": {
        "id": "1_gYP6JdNt8w"
      }
    },
    {
      "cell_type": "code",
      "source": [
        "# Write down your code in this cell.\n",
        "\n",
        "\n",
        "\n",
        "\n"
      ],
      "metadata": {
        "id": "ULg0sQM7Nt8z"
      },
      "execution_count": null,
      "outputs": []
    },
    {
      "cell_type": "markdown",
      "source": [
        "## Trying some SQL queries"
      ],
      "metadata": {
        "id": "ZzUFWfY5DHJI"
      }
    },
    {
      "cell_type": "code",
      "source": [
        "# Run this cell to try a SQL query.\n",
        "\n",
        "!sqlite3 --header --column bsc5.db \"select hr, name, ra_str, dec_str, vmag, sptype from bsc where vmag < 1.5 and vmag > -50 order by vmag;\""
      ],
      "metadata": {
        "id": "iFwn-tirDI-v"
      },
      "execution_count": null,
      "outputs": []
    },
    {
      "cell_type": "markdown",
      "source": [
        "# Practice s06-28"
      ],
      "metadata": {
        "id": "tFfG_abINyEp"
      }
    },
    {
      "cell_type": "code",
      "source": [
        "# Write down your code in this cell.\n",
        "\n",
        "\n",
        "\n",
        "\n"
      ],
      "metadata": {
        "id": "4IO1-KUiNyEr"
      },
      "execution_count": null,
      "outputs": []
    },
    {
      "cell_type": "code",
      "source": [
        "# Run this cell to try a SQL query.\n",
        "\n",
        "!sqlite3 --header --column bsc5.db \"select hr, name, ra_str, dec_str, vmag, bv, parallax from bsc where parallax >= 0.2 order by parallax desc;\""
      ],
      "metadata": {
        "id": "dwm1iOTIDNh4"
      },
      "execution_count": null,
      "outputs": []
    },
    {
      "cell_type": "markdown",
      "source": [
        "# Practice s06-29"
      ],
      "metadata": {
        "id": "SdXs9U7EN0gE"
      }
    },
    {
      "cell_type": "code",
      "source": [
        "# Write down your code in this cell.\n",
        "\n",
        "\n",
        "\n",
        "\n"
      ],
      "metadata": {
        "id": "F8hSwXXSN0gI"
      },
      "execution_count": null,
      "outputs": []
    },
    {
      "cell_type": "code",
      "source": [
        "# Run this cell to try a SQL query.\n",
        "\n",
        "!sqlite3 --header --column bsc5.db \"select hr, name, ra_str, dec_str, glon, glat, vmag from bsc where glat > 85.0 order by glat desc;\""
      ],
      "metadata": {
        "id": "fSyD2ykCDWiK"
      },
      "execution_count": null,
      "outputs": []
    },
    {
      "cell_type": "markdown",
      "source": [
        "# Practice s06-30"
      ],
      "metadata": {
        "id": "RZAP0gCGN2oA"
      }
    },
    {
      "cell_type": "code",
      "source": [
        "# Write down your code in this cell.\n",
        "\n",
        "\n",
        "\n",
        "\n"
      ],
      "metadata": {
        "id": "Y1spbtUoN2oC"
      },
      "execution_count": null,
      "outputs": []
    },
    {
      "cell_type": "markdown",
      "source": [
        "# Practice s06-31"
      ],
      "metadata": {
        "id": "m_dNKXb9N55r"
      }
    },
    {
      "cell_type": "code",
      "source": [
        "# Write down your code in this cell.\n",
        "\n",
        "\n",
        "\n",
        "\n"
      ],
      "metadata": {
        "id": "OzhdmiL7N55s"
      },
      "execution_count": null,
      "outputs": []
    },
    {
      "cell_type": "code",
      "source": [
        "# Run this cell to try a SQL query.\n",
        "\n",
        "!sqlite3 --header --column bsc5.db \"select hr, name, glon, glat, vmag, bv, sptype from bsc where sptype like '%O%V%' and sptype not like '%O%IV%' order by glat;\""
      ],
      "metadata": {
        "id": "KoUCwafgDcd8"
      },
      "execution_count": null,
      "outputs": []
    },
    {
      "cell_type": "markdown",
      "source": [
        "# Practice s06-32"
      ],
      "metadata": {
        "id": "VViz63onN701"
      }
    },
    {
      "cell_type": "code",
      "source": [
        "# Write down your code in this cell.\n",
        "\n",
        "\n",
        "\n",
        "\n"
      ],
      "metadata": {
        "id": "PYg7-bkiN702"
      },
      "execution_count": null,
      "outputs": []
    },
    {
      "cell_type": "markdown",
      "source": [
        "# Making a database from Hipparcos catalogue"
      ],
      "metadata": {
        "id": "bB7wmq1zDnFA"
      }
    },
    {
      "cell_type": "markdown",
      "source": [
        "## Downloading Hipparcos catalogue"
      ],
      "metadata": {
        "id": "mvhD8kc0DqlR"
      }
    },
    {
      "cell_type": "code",
      "source": [
        "# Run this cell to show the source code of the script.\n",
        "\n",
        "!cat ai2023_s06_03_00.py"
      ],
      "metadata": {
        "id": "hTbVa8wGDkgD"
      },
      "execution_count": null,
      "outputs": []
    },
    {
      "cell_type": "code",
      "source": [
        "# Run this cell to execute the script.\n",
        "\n",
        "!python3.10 ai2023_s06_03_00.py"
      ],
      "metadata": {
        "id": "kPLBSHe7D2kT"
      },
      "execution_count": null,
      "outputs": []
    },
    {
      "cell_type": "code",
      "source": [
        "# Run this cell to find newly downloaded file.\n",
        "\n",
        "!ls -lF *.cat"
      ],
      "metadata": {
        "id": "4nP32egqD6hb"
      },
      "execution_count": null,
      "outputs": []
    },
    {
      "cell_type": "code",
      "source": [
        "# Run this cell to find data type of newly downloaded file.\n",
        "\n",
        "!file hip.cat"
      ],
      "metadata": {
        "id": "ENT8sO2lEAEe"
      },
      "execution_count": null,
      "outputs": []
    },
    {
      "cell_type": "code",
      "source": [
        "# Run this cell to show first 20 lines of newly downloaded file.\n",
        "\n",
        "!head -20 hip.cat"
      ],
      "metadata": {
        "id": "_sYXMVChEEm7"
      },
      "execution_count": null,
      "outputs": []
    },
    {
      "cell_type": "code",
      "source": [
        "# Run this cell to show the source code of the script.\n",
        "\n",
        "!cat ai2023_s06_03_01.py"
      ],
      "metadata": {
        "id": "RPzDaVxOEK6r"
      },
      "execution_count": null,
      "outputs": []
    },
    {
      "cell_type": "code",
      "source": [
        "# Run this cell to execute the script.\n",
        "\n",
        "!python3.10 ai2023_s06_03_01.py"
      ],
      "metadata": {
        "id": "O6f19Y16EV_D"
      },
      "execution_count": null,
      "outputs": []
    },
    {
      "cell_type": "code",
      "source": [
        "# Run this cell to find newly downloaded file.\n",
        "\n",
        "!ls -lF hip.*"
      ],
      "metadata": {
        "id": "9J6slbFeEaU7"
      },
      "execution_count": null,
      "outputs": []
    },
    {
      "cell_type": "code",
      "source": [
        "# Run this cell to find data type of newly downloaded file.\n",
        "\n",
        "!file hip.readme"
      ],
      "metadata": {
        "id": "HMl0QV3fEfJ0"
      },
      "execution_count": null,
      "outputs": []
    },
    {
      "cell_type": "code",
      "source": [
        "# Run this cell to show first 20 lines of newly downloaded file.\n",
        "\n",
        "!head -20 hip.readme"
      ],
      "metadata": {
        "id": "_IVyg4nbEjbT"
      },
      "execution_count": null,
      "outputs": []
    },
    {
      "cell_type": "markdown",
      "source": [
        "## Reading Hipparcos catalogue"
      ],
      "metadata": {
        "id": "siL6456YErpV"
      }
    },
    {
      "cell_type": "code",
      "source": [
        "# Run this cell to show the source code of the script.\n",
        "\n",
        "!cat ai2023_s06_03_02.py"
      ],
      "metadata": {
        "id": "u6qbaD7tEo0s"
      },
      "execution_count": null,
      "outputs": []
    },
    {
      "cell_type": "code",
      "source": [
        "# Run this cell to execute the script.\n",
        "\n",
        "!python3.10 ai2023_s06_03_02.py > hip_extracted.data"
      ],
      "metadata": {
        "id": "KkI9TjOcE3Fc"
      },
      "execution_count": null,
      "outputs": []
    },
    {
      "cell_type": "code",
      "source": [
        "# Run this cell to find newly created file.\n",
        "\n",
        "!ls -lF hip*"
      ],
      "metadata": {
        "id": "WujcoLBzE8qd"
      },
      "execution_count": null,
      "outputs": []
    },
    {
      "cell_type": "code",
      "source": [
        "# Run this cell to find data type of newly created file.\n",
        "\n",
        "!file hip_extracted.data"
      ],
      "metadata": {
        "id": "BDPsmIrcFBXs"
      },
      "execution_count": null,
      "outputs": []
    },
    {
      "cell_type": "code",
      "source": [
        "# Run this cell to show first 20 lines of newly created file.\n",
        "\n",
        "!head -20 hip_extracted.data"
      ],
      "metadata": {
        "id": "xUF9-BW7FGBX"
      },
      "execution_count": null,
      "outputs": []
    },
    {
      "cell_type": "markdown",
      "source": [
        "# Practice s06-33"
      ],
      "metadata": {
        "id": "izd_xzuTN-r4"
      }
    },
    {
      "cell_type": "code",
      "source": [
        "# Write down your code in this cell.\n",
        "\n",
        "\n",
        "\n",
        "\n"
      ],
      "metadata": {
        "id": "JaqbuT8PN-r5"
      },
      "execution_count": null,
      "outputs": []
    },
    {
      "cell_type": "markdown",
      "source": [
        "## Constructing SQLite database table using Python script"
      ],
      "metadata": {
        "id": "SPJ2qGgkFMn0"
      }
    },
    {
      "cell_type": "code",
      "source": [
        "# Run this cell to show the source code of the script.\n",
        "\n",
        "!cat ai2023_s06_03_03.py"
      ],
      "metadata": {
        "id": "zvSoO-IBFKzm"
      },
      "execution_count": null,
      "outputs": []
    },
    {
      "cell_type": "code",
      "source": [
        "# Run this cell to execute the script.\n",
        "\n",
        "!python3.10 ai2023_s06_03_03.py"
      ],
      "metadata": {
        "id": "Cdoa-OvOFUFm"
      },
      "execution_count": null,
      "outputs": []
    },
    {
      "cell_type": "code",
      "source": [
        "# Run this cell to find newly created file.\n",
        "\n",
        "!ls -lF hip*"
      ],
      "metadata": {
        "id": "jGhUciLJFaHe"
      },
      "execution_count": null,
      "outputs": []
    },
    {
      "cell_type": "code",
      "source": [
        "# Run this cell to find existing tables in file \"hip.db\".\n",
        "\n",
        "!sqlite3 hip.db \".tables\""
      ],
      "metadata": {
        "id": "tebAPqnZFgH2"
      },
      "execution_count": null,
      "outputs": []
    },
    {
      "cell_type": "code",
      "source": [
        "# Run this cell to show the structure of the table in file \"hip.db\".\n",
        "\n",
        "!sqlite3 hip.db \".schema --indent\""
      ],
      "metadata": {
        "id": "dzDzAjMVFoac"
      },
      "execution_count": null,
      "outputs": []
    },
    {
      "cell_type": "markdown",
      "source": [
        "# Practice s06-34"
      ],
      "metadata": {
        "id": "U2SqAa7rOCBx"
      }
    },
    {
      "cell_type": "code",
      "source": [
        "# Write down your code in this cell.\n",
        "\n",
        "\n",
        "\n",
        "\n"
      ],
      "metadata": {
        "id": "oxIad1xIOCBz"
      },
      "execution_count": null,
      "outputs": []
    },
    {
      "cell_type": "markdown",
      "source": [
        "## Adding data to table using Python script"
      ],
      "metadata": {
        "id": "Q0disjlFF0ld"
      }
    },
    {
      "cell_type": "code",
      "source": [
        "# Run this cell to show the source code of the script.\n",
        "\n",
        "!cat ai2023_s06_03_04.py"
      ],
      "metadata": {
        "id": "zoVEOtTKFvMh"
      },
      "execution_count": null,
      "outputs": []
    },
    {
      "cell_type": "code",
      "source": [
        "# Run this cell to execute the script.\n",
        "\n",
        "!python3.10 ai2023_s06_03_04.py"
      ],
      "metadata": {
        "id": "cyHFhvxdGUpv"
      },
      "execution_count": null,
      "outputs": []
    },
    {
      "cell_type": "code",
      "source": [
        "# Run this cell to show file size of the database file.\n",
        "\n",
        "!ls -lF hip.db"
      ],
      "metadata": {
        "id": "KOg_K_z7GZF2"
      },
      "execution_count": null,
      "outputs": []
    },
    {
      "cell_type": "code",
      "source": [
        "# Run this cell to check the database file by executing SQLite command-line program.\n",
        "\n",
        "!sqlite3 --header --column hip.db \"select hip, ra_hms, dec_dms, vmag, bv, parallax, sptype from hip where hip <= 10 order by hip;\""
      ],
      "metadata": {
        "id": "2KMjPxSiGlS7"
      },
      "execution_count": null,
      "outputs": []
    },
    {
      "cell_type": "code",
      "source": [
        "# Run this cell to check the database file by executing SQLite command-line program.\n",
        "\n",
        "!sqlite3 --header --column hip.db \"select hip, ra_hms, dec_dms, vmag, bv, parallax, sptype from hip where parallax > 300 order by parallax desc;\""
      ],
      "metadata": {
        "id": "HXGaIk4XGwVB"
      },
      "execution_count": null,
      "outputs": []
    },
    {
      "cell_type": "markdown",
      "source": [
        "# Practice s06-35"
      ],
      "metadata": {
        "id": "LSmtDKtmOE2b"
      }
    },
    {
      "cell_type": "code",
      "source": [
        "# Write down your code in this cell.\n",
        "\n",
        "\n",
        "\n",
        "\n"
      ],
      "metadata": {
        "id": "wXyKs4XaOE2e"
      },
      "execution_count": null,
      "outputs": []
    },
    {
      "cell_type": "markdown",
      "source": [
        "## Trying a SQL query using Python script"
      ],
      "metadata": {
        "id": "qX7go_bWG9DT"
      }
    },
    {
      "cell_type": "code",
      "source": [
        "# Run this cell to show the source code of the script.\n",
        "\n",
        "!cat ai2023_s06_03_05.py"
      ],
      "metadata": {
        "id": "R24e1rmmG4oW"
      },
      "execution_count": null,
      "outputs": []
    },
    {
      "cell_type": "code",
      "source": [
        "# Run this cell to execute the script.\n",
        "\n",
        "!python3.10 ai2023_s06_03_05.py"
      ],
      "metadata": {
        "id": "fIyNp5PlHEka"
      },
      "execution_count": null,
      "outputs": []
    },
    {
      "cell_type": "markdown",
      "source": [
        "# Practice s06-36"
      ],
      "metadata": {
        "id": "WyB5DIM0OHc8"
      }
    },
    {
      "cell_type": "code",
      "source": [
        "# Write down your code in this cell.\n",
        "\n",
        "\n",
        "\n",
        "\n"
      ],
      "metadata": {
        "id": "fuWbHpotOHc9"
      },
      "execution_count": null,
      "outputs": []
    },
    {
      "cell_type": "markdown",
      "source": [
        "## Trying one more SQL query"
      ],
      "metadata": {
        "id": "-k-RLyecHMu9"
      }
    },
    {
      "cell_type": "code",
      "source": [
        "# Run this cell to show the source code of the script.\n",
        "\n",
        "!cat ai2023_s06_03_06.py"
      ],
      "metadata": {
        "id": "nHZwLJ_pHJU_"
      },
      "execution_count": null,
      "outputs": []
    },
    {
      "cell_type": "code",
      "source": [
        "# Run this cell to execute the script.\n",
        "\n",
        "!python3.10 ai2023_s06_03_06.py"
      ],
      "metadata": {
        "id": "ckRmoIDAHZrp"
      },
      "execution_count": null,
      "outputs": []
    },
    {
      "cell_type": "markdown",
      "source": [
        "# Practice s06-37"
      ],
      "metadata": {
        "id": "Iw7DSqdpOJqv"
      }
    },
    {
      "cell_type": "code",
      "source": [
        "# Write down your code in this cell.\n",
        "\n",
        "\n",
        "\n",
        "\n"
      ],
      "metadata": {
        "id": "ih2MKcB4OJqw"
      },
      "execution_count": null,
      "outputs": []
    },
    {
      "cell_type": "markdown",
      "source": [
        "# Making asteroid orbit database"
      ],
      "metadata": {
        "id": "vRvsPwrzHguA"
      }
    },
    {
      "cell_type": "markdown",
      "source": [
        "## Downloading asteroid orbit catalogue"
      ],
      "metadata": {
        "id": "tcuQ-7F5HkQQ"
      }
    },
    {
      "cell_type": "code",
      "source": [
        "# Run this cell to show the source code of the script.\n",
        "\n",
        "!cat ai2023_s06_04_00.py"
      ],
      "metadata": {
        "id": "EqTbe4BBHeUI"
      },
      "execution_count": null,
      "outputs": []
    },
    {
      "cell_type": "code",
      "source": [
        "# Run this cell to execute the script.\n",
        "\n",
        "!python3.10 ai2023_s06_04_00.py"
      ],
      "metadata": {
        "id": "BqfigIAPHsC3"
      },
      "execution_count": null,
      "outputs": []
    },
    {
      "cell_type": "markdown",
      "source": [
        "## Reading asteroid orbit catalogue"
      ],
      "metadata": {
        "id": "135Tp9hfH8Nn"
      }
    },
    {
      "cell_type": "code",
      "source": [
        "# Run this cell to show the source code of the script.\n",
        "\n",
        "!cat ai2023_s06_04_01.py"
      ],
      "metadata": {
        "id": "VXTSt5gsHwg2"
      },
      "execution_count": null,
      "outputs": []
    },
    {
      "cell_type": "code",
      "source": [
        "# Run this cell to execute the script.\n",
        "\n",
        "!python3.10 ai2023_s06_04_01.py > mpcorb_extracted.data"
      ],
      "metadata": {
        "id": "-l6HMVX8ICur"
      },
      "execution_count": null,
      "outputs": []
    },
    {
      "cell_type": "code",
      "source": [
        "# Run this cell to find newly created file.\n",
        "\n",
        "!ls -lF mpcorb*"
      ],
      "metadata": {
        "id": "PfT1K0rhIHKv"
      },
      "execution_count": null,
      "outputs": []
    },
    {
      "cell_type": "code",
      "source": [
        "# Run this cell to find data type of newly created file.\n",
        "\n",
        "!file mpcorb_extracted.data"
      ],
      "metadata": {
        "id": "Z6C4TMzuIi1o"
      },
      "execution_count": null,
      "outputs": []
    },
    {
      "cell_type": "code",
      "source": [
        "# Run this cell to show first 20 lines of newly created file.\n",
        "\n",
        "!head -20 mpcorb_extracted.data"
      ],
      "metadata": {
        "id": "Q9xsRtFuInbo"
      },
      "execution_count": null,
      "outputs": []
    },
    {
      "cell_type": "markdown",
      "source": [
        "# Practice s06-38"
      ],
      "metadata": {
        "id": "4KhSjxf5OMyJ"
      }
    },
    {
      "cell_type": "code",
      "source": [
        "# Write down your code in this cell.\n",
        "\n",
        "\n",
        "\n",
        "\n"
      ],
      "metadata": {
        "id": "Y5QsC8rWOMyL"
      },
      "execution_count": null,
      "outputs": []
    },
    {
      "cell_type": "markdown",
      "source": [
        "## Constructing asteroid orbit database"
      ],
      "metadata": {
        "id": "K4sS8EF_IwSQ"
      }
    },
    {
      "cell_type": "code",
      "source": [
        "# Run this cell to show the source code of the script.\n",
        "\n",
        "!cat ai2023_s06_04_02.py"
      ],
      "metadata": {
        "id": "sG0T2Ha7IsrB"
      },
      "execution_count": null,
      "outputs": []
    },
    {
      "cell_type": "code",
      "source": [
        "# Run this cell to execute the script.\n",
        "\n",
        "!python3.10 ai2023_s06_04_02.py"
      ],
      "metadata": {
        "id": "MdIFACyqI2ra"
      },
      "execution_count": null,
      "outputs": []
    },
    {
      "cell_type": "code",
      "source": [
        "# Run this cell to find newly created file.\n",
        "\n",
        "!ls -lF mpcorb*"
      ],
      "metadata": {
        "id": "qNcIx4U4I7Ox"
      },
      "execution_count": null,
      "outputs": []
    },
    {
      "cell_type": "code",
      "source": [
        "# Run this cell to find data type of newly created file.\n",
        "\n",
        "!file mpcorb.db"
      ],
      "metadata": {
        "id": "e1we4cSZJIrk"
      },
      "execution_count": null,
      "outputs": []
    },
    {
      "cell_type": "code",
      "source": [
        "# Run this cell to find existing tables in file \"mpcorb.db\" using SQLite command-line program.\n",
        "\n",
        "!sqlite3 mpcorb.db \".tables\""
      ],
      "metadata": {
        "id": "gamE0wbkJZw_"
      },
      "execution_count": null,
      "outputs": []
    },
    {
      "cell_type": "code",
      "source": [
        "# Run this cell to show the structure of the table.\n",
        "\n",
        "!sqlite3 mpcorb.db \".schema --indent\""
      ],
      "metadata": {
        "id": "tPUJYgAQJkuZ"
      },
      "execution_count": null,
      "outputs": []
    },
    {
      "cell_type": "code",
      "source": [
        "# Run this cell to try a SQL query using SQLite command-line program.\n",
        "\n",
        "!sqlite3 --header --column mpcorb.db \"select designation,name,a,e,i,absmag from mpcorb where absmag < 3 and absmag > -100 order by absmag;\""
      ],
      "metadata": {
        "id": "t3wpVtTtJpRD"
      },
      "execution_count": null,
      "outputs": []
    },
    {
      "cell_type": "markdown",
      "source": [
        "# Practice s06-39"
      ],
      "metadata": {
        "id": "iq6Ej-S_OPXi"
      }
    },
    {
      "cell_type": "code",
      "source": [
        "# Write down your code in this cell.\n",
        "\n",
        "\n",
        "\n",
        "\n"
      ],
      "metadata": {
        "id": "wFaRcgO3OPXl"
      },
      "execution_count": null,
      "outputs": []
    },
    {
      "cell_type": "markdown",
      "source": [
        "## Trying some SQL queries"
      ],
      "metadata": {
        "id": "_oOtp1J3J2im"
      }
    },
    {
      "cell_type": "code",
      "source": [
        "# Run this cell to show the source code of the script.\n",
        "\n",
        "!cat ai2023_s06_04_03.py"
      ],
      "metadata": {
        "id": "GAQNCWcRJzI0"
      },
      "execution_count": null,
      "outputs": []
    },
    {
      "cell_type": "code",
      "source": [
        "# Run this cell to execute the script.\n",
        "\n",
        "!python3.10 ai2023_s06_04_03.py"
      ],
      "metadata": {
        "id": "6hyu5C_EJ87v"
      },
      "execution_count": null,
      "outputs": []
    },
    {
      "cell_type": "markdown",
      "source": [
        "# Practice s06-40"
      ],
      "metadata": {
        "id": "xIqsB0XCOTUn"
      }
    },
    {
      "cell_type": "code",
      "source": [
        "# Write down your code in this cell.\n",
        "\n",
        "\n",
        "\n",
        "\n"
      ],
      "metadata": {
        "id": "f1OZiV3NOTUu"
      },
      "execution_count": null,
      "outputs": []
    },
    {
      "cell_type": "code",
      "source": [
        "# Run this cell to show the source code of the script.\n",
        "\n",
        "!cat ai2023_s06_04_04.py"
      ],
      "metadata": {
        "id": "Zw9nT6XTKJvu"
      },
      "execution_count": null,
      "outputs": []
    },
    {
      "cell_type": "code",
      "source": [
        "# Run this cell to execute the script.\n",
        "\n",
        "!python3.10 ai2023_s06_04_04.py"
      ],
      "metadata": {
        "id": "j4Vv-fqJKJvw"
      },
      "execution_count": null,
      "outputs": []
    },
    {
      "cell_type": "markdown",
      "source": [
        "# Practice s06-41"
      ],
      "metadata": {
        "id": "5doJmav2OVY3"
      }
    },
    {
      "cell_type": "code",
      "source": [
        "# Write down your code in this cell.\n",
        "\n",
        "\n",
        "\n",
        "\n"
      ],
      "metadata": {
        "id": "TS5FtPbjOVY5"
      },
      "execution_count": null,
      "outputs": []
    },
    {
      "cell_type": "markdown",
      "source": [
        "# Practice A: Exoplanet database"
      ],
      "metadata": {
        "id": "5bxnMylTKOMW"
      }
    },
    {
      "cell_type": "code",
      "source": [
        "# Write down your code in this cell.\n",
        "\n",
        "\n",
        "\n",
        "\n"
      ],
      "metadata": {
        "id": "iTpH8XkOKB-k"
      },
      "execution_count": null,
      "outputs": []
    },
    {
      "cell_type": "markdown",
      "source": [
        "# Practice B: Variable star database"
      ],
      "metadata": {
        "id": "PY5LujL3KbyS"
      }
    },
    {
      "cell_type": "code",
      "source": [
        "# Write down your code in this cell.\n",
        "\n",
        "\n",
        "\n",
        "\n"
      ],
      "metadata": {
        "id": "dJiwDcnnKbyW"
      },
      "execution_count": null,
      "outputs": []
    },
    {
      "cell_type": "markdown",
      "source": [
        "# Practice C: Brown dwarf database"
      ],
      "metadata": {
        "id": "u48_yo6CKcAn"
      }
    },
    {
      "cell_type": "code",
      "source": [
        "# Write down your code in this cell.\n",
        "\n",
        "\n",
        "\n",
        "\n"
      ],
      "metadata": {
        "id": "XGP_f9lQKcAp"
      },
      "execution_count": null,
      "outputs": []
    },
    {
      "cell_type": "markdown",
      "source": [
        "# Practice D: Planetary nebulae database"
      ],
      "metadata": {
        "id": "SgvS9BP8KcJd"
      }
    },
    {
      "cell_type": "code",
      "source": [
        "# Write down your code in this cell.\n",
        "\n",
        "\n",
        "\n",
        "\n"
      ],
      "metadata": {
        "id": "Va54OHlSKcJe"
      },
      "execution_count": null,
      "outputs": []
    },
    {
      "cell_type": "markdown",
      "source": [
        "# Practice E: Quasar database"
      ],
      "metadata": {
        "id": "sCPZa9UbKcTn"
      }
    },
    {
      "cell_type": "code",
      "source": [
        "# Write down your code in this cell.\n",
        "\n",
        "\n",
        "\n",
        "\n"
      ],
      "metadata": {
        "id": "C4_E39QGKcTp"
      },
      "execution_count": null,
      "outputs": []
    },
    {
      "cell_type": "markdown",
      "source": [
        "# Practice F: Radio source database"
      ],
      "metadata": {
        "id": "eb_XdC4pKcdE"
      }
    },
    {
      "cell_type": "code",
      "source": [
        "# Write down your code in this cell.\n",
        "\n",
        "\n",
        "\n",
        "\n"
      ],
      "metadata": {
        "id": "kmJDlF2_KcdF"
      },
      "execution_count": null,
      "outputs": []
    },
    {
      "cell_type": "markdown",
      "source": [
        "# Practice G: High-z galaxies database"
      ],
      "metadata": {
        "id": "9Im8dU8DKclj"
      }
    },
    {
      "cell_type": "code",
      "source": [
        "# Write down your code in this cell.\n",
        "\n",
        "\n",
        "\n",
        "\n"
      ],
      "metadata": {
        "id": "dzdl6f-AKclk"
      },
      "execution_count": null,
      "outputs": []
    },
    {
      "cell_type": "markdown",
      "source": [
        "# Practice H: Comets database"
      ],
      "metadata": {
        "id": "MGH0rGPHKcuL"
      }
    },
    {
      "cell_type": "code",
      "source": [
        "# Write down your code in this cell.\n",
        "\n",
        "\n",
        "\n",
        "\n"
      ],
      "metadata": {
        "id": "QfG4UeraKcuM"
      },
      "execution_count": null,
      "outputs": []
    },
    {
      "cell_type": "markdown",
      "source": [
        "# End of this notebook"
      ],
      "metadata": {
        "id": "zLEgQ8hFK-kC"
      }
    },
    {
      "cell_type": "code",
      "source": [],
      "metadata": {
        "id": "TsR7ttwsK9tA"
      },
      "execution_count": null,
      "outputs": []
    }
  ]
}