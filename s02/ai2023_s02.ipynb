{
  "nbformat": 4,
  "nbformat_minor": 0,
  "metadata": {
    "colab": {
      "provenance": []
    },
    "kernelspec": {
      "name": "python3",
      "display_name": "Python 3"
    },
    "language_info": {
      "name": "python"
    }
  },
  "cells": [
    {
      "cell_type": "markdown",
      "source": [
        "# AS6095 \"Astroinformatics\"\n",
        "\n",
        "## for academic year 2023 (from Sep/2023 to Jan/2024)\n",
        "\n",
        "## instructor: Kinoshita Daisuke\n",
        "\n",
        "## Course web page: https://s3b.astro.ncu.edu.tw/ai_202309/\n",
        "\n",
        "## GitHub repository: https://github.com/kinoshitadaisuke/ncu_astroinformatics_202309\n"
      ],
      "metadata": {
        "id": "X9F8FTGZzaSe"
      }
    },
    {
      "cell_type": "markdown",
      "source": [
        "# Session 02 \"Importing and using Python modules\"\n",
        "\n",
        "## 18 September 2023\n"
      ],
      "metadata": {
        "id": "MKQ0pdfJCZ1I"
      }
    },
    {
      "cell_type": "markdown",
      "source": [
        "# Downloading a set of sample Python scripts and changing directory"
      ],
      "metadata": {
        "id": "FVmonUCL197r"
      }
    },
    {
      "cell_type": "code",
      "source": [
        "# Run this cell to download a set of sample Python scripts for this course.\n",
        "\n",
        "!git clone https://github.com/kinoshitadaisuke/ncu_astroinformatics_202309.git"
      ],
      "metadata": {
        "id": "E-J1KLJAzmx5"
      },
      "execution_count": null,
      "outputs": []
    },
    {
      "cell_type": "code",
      "source": [
        "# Run this cell to check whether you have a directory named \"ncu_astroinformatics_202309\".\n",
        "\n",
        "!ls"
      ],
      "metadata": {
        "id": "NU4Otc0i2jfu"
      },
      "execution_count": null,
      "outputs": []
    },
    {
      "cell_type": "code",
      "source": [
        "# Run this cell to move to the directory \"ncu_astroinformatics_202309\".\n",
        "\n",
        "%cd ncu_astroinformatics_202309"
      ],
      "metadata": {
        "id": "faZRhZv821VY"
      },
      "execution_count": null,
      "outputs": []
    },
    {
      "cell_type": "code",
      "source": [
        "# Run this cell to show currently working directory.\n",
        "\n",
        "!pwd"
      ],
      "metadata": {
        "id": "hUjHlUZk3Bov"
      },
      "execution_count": null,
      "outputs": []
    },
    {
      "cell_type": "code",
      "source": [
        "# Run this cell to show files and directories.\n",
        "\n",
        "!ls -lF"
      ],
      "metadata": {
        "id": "RXAGJHeX3IsD"
      },
      "execution_count": null,
      "outputs": []
    },
    {
      "cell_type": "code",
      "source": [
        "# Run this cell to move to the directory \"s02\".\n",
        "\n",
        "%cd s02"
      ],
      "metadata": {
        "id": "xR0V8I0k3O3k"
      },
      "execution_count": null,
      "outputs": []
    },
    {
      "cell_type": "code",
      "source": [
        "# Run this cell to show currently working directory.\n",
        "\n",
        "!pwd"
      ],
      "metadata": {
        "id": "KbvQ_3Su3UKL"
      },
      "execution_count": null,
      "outputs": []
    },
    {
      "cell_type": "code",
      "source": [
        "# Run this cell to show files and directories.\n",
        "\n",
        "!ls -lF"
      ],
      "metadata": {
        "id": "n9AAgI4d3c6n"
      },
      "execution_count": null,
      "outputs": []
    },
    {
      "cell_type": "markdown",
      "source": [
        "# Sample Python script \"ai2023_s02_00_00.py\"\n"
      ],
      "metadata": {
        "id": "3kDY3MHR4Vxj"
      }
    },
    {
      "cell_type": "code",
      "source": [
        "# Run this cell to show the source code.\n",
        "\n",
        "!cat ai2023_s02_00_00.py"
      ],
      "metadata": {
        "id": "tRN2oeq_4eoZ"
      },
      "execution_count": null,
      "outputs": []
    },
    {
      "cell_type": "code",
      "source": [
        "# Run this cell to execute the script.\n",
        "\n",
        "!python3.10 ai2023_s02_00_00.py"
      ],
      "metadata": {
        "id": "0W7Vb0874m_H"
      },
      "execution_count": null,
      "outputs": []
    },
    {
      "cell_type": "markdown",
      "source": [
        "# Practice s02-01"
      ],
      "metadata": {
        "id": "SNETVMoz6fRd"
      }
    },
    {
      "cell_type": "code",
      "source": [
        "# Write down your code for Practice s02-01 in this cell.\n",
        "\n",
        "\n",
        "\n"
      ],
      "metadata": {
        "id": "JllPWrQn6rOm"
      },
      "execution_count": null,
      "outputs": []
    },
    {
      "cell_type": "markdown",
      "source": [
        "# Sample Python script \"ai2023_s02_00_01.py\"\n"
      ],
      "metadata": {
        "id": "gmhzEEVR5XBy"
      }
    },
    {
      "cell_type": "code",
      "source": [
        "# Run this cell to show the source code.\n",
        "\n",
        "!cat ai2023_s02_00_01.py"
      ],
      "metadata": {
        "id": "ZT4ZAKCv5XB0"
      },
      "execution_count": null,
      "outputs": []
    },
    {
      "cell_type": "code",
      "source": [
        "# Run this cell to execute the script.\n",
        "\n",
        "!python3.10 ai2023_s02_00_01.py"
      ],
      "metadata": {
        "id": "hn8psEfS5XB1"
      },
      "execution_count": null,
      "outputs": []
    },
    {
      "cell_type": "markdown",
      "source": [
        "# Practice s02-02"
      ],
      "metadata": {
        "id": "R2y8ljil5XB3"
      }
    },
    {
      "cell_type": "code",
      "source": [
        "# Write down your code for Practice s02-02 in this cell.\n",
        "\n",
        "\n",
        "\n"
      ],
      "metadata": {
        "id": "sez7Fb4S5XB4"
      },
      "execution_count": null,
      "outputs": []
    },
    {
      "cell_type": "markdown",
      "source": [
        "# Sample Python script \"ai2023_s02_00_02.py\"\n"
      ],
      "metadata": {
        "id": "aN0xv0y15iQS"
      }
    },
    {
      "cell_type": "code",
      "source": [
        "# Run this cell to show the source code.\n",
        "\n",
        "!cat ai2023_s02_00_02.py"
      ],
      "metadata": {
        "id": "wtAQe-r35iQT"
      },
      "execution_count": null,
      "outputs": []
    },
    {
      "cell_type": "code",
      "source": [
        "# Run this cell to execute the script.\n",
        "\n",
        "!python3.10 ai2023_s02_00_02.py"
      ],
      "metadata": {
        "id": "e35vIQ1e5iQT"
      },
      "execution_count": null,
      "outputs": []
    },
    {
      "cell_type": "markdown",
      "source": [
        "# Sample Python script \"ai2023_s02_00_03.py\"\n"
      ],
      "metadata": {
        "id": "s1nz6aq55kMM"
      }
    },
    {
      "cell_type": "code",
      "source": [
        "# Run this cell to show the source code.\n",
        "\n",
        "!cat ai2023_s02_00_03.py"
      ],
      "metadata": {
        "id": "KHimRL-k5kMP"
      },
      "execution_count": null,
      "outputs": []
    },
    {
      "cell_type": "code",
      "source": [
        "# Run this cell to execute the script.\n",
        "\n",
        "!python3.10 ai2023_s02_00_03.py"
      ],
      "metadata": {
        "id": "F_AvFJqh5kMQ"
      },
      "execution_count": null,
      "outputs": []
    },
    {
      "cell_type": "markdown",
      "source": [
        "# Practice s02-03"
      ],
      "metadata": {
        "id": "t9JILa5L5iQU"
      }
    },
    {
      "cell_type": "code",
      "source": [
        "# Write down your code for Practice s02-03 in this cell.\n",
        "\n",
        "\n",
        "\n"
      ],
      "metadata": {
        "id": "QOGudN9M5iQV"
      },
      "execution_count": null,
      "outputs": []
    },
    {
      "cell_type": "markdown",
      "source": [
        "# Sample Python script \"ai2023_s02_00_04.py\"\n"
      ],
      "metadata": {
        "id": "etft94ki5vKj"
      }
    },
    {
      "cell_type": "code",
      "source": [
        "# Run this cell to show the source code.\n",
        "\n",
        "!cat ai2023_s02_00_04.py"
      ],
      "metadata": {
        "id": "q0eiNPJZ5vKk"
      },
      "execution_count": null,
      "outputs": []
    },
    {
      "cell_type": "code",
      "source": [
        "# Run this cell to execute the script.\n",
        "\n",
        "!python3.10 ai2023_s02_00_04.py"
      ],
      "metadata": {
        "id": "XgWrKWO75vKl"
      },
      "execution_count": null,
      "outputs": []
    },
    {
      "cell_type": "markdown",
      "source": [
        "# Practice s02-04"
      ],
      "metadata": {
        "id": "a79SzXVg5vKm"
      }
    },
    {
      "cell_type": "code",
      "source": [
        "# Write down your code for Practice s02-04 in this cell.\n",
        "\n",
        "\n",
        "\n"
      ],
      "metadata": {
        "id": "BGE-dASL5vKn"
      },
      "execution_count": null,
      "outputs": []
    },
    {
      "cell_type": "markdown",
      "source": [
        "## online manual of the command \"chmod\""
      ],
      "metadata": {
        "id": "ox0b_LcFGQAV"
      }
    },
    {
      "cell_type": "code",
      "source": [
        "!unminimize\n",
        "!man chmod"
      ],
      "metadata": {
        "id": "4GzoLQUnGTh6"
      },
      "execution_count": null,
      "outputs": []
    },
    {
      "cell_type": "markdown",
      "source": [
        "# Sample Python script \"ai2023_s02_00_05.py\"\n"
      ],
      "metadata": {
        "id": "L-8aUckm52oI"
      }
    },
    {
      "cell_type": "code",
      "source": [
        "# Run this cell to show the source code.\n",
        "\n",
        "!cat ai2023_s02_00_05.py"
      ],
      "metadata": {
        "id": "6omSlwy952oL"
      },
      "execution_count": null,
      "outputs": []
    },
    {
      "cell_type": "code",
      "source": [
        "# Run this cell to execute the script.\n",
        "\n",
        "!python3.10 ai2023_s02_00_05.py"
      ],
      "metadata": {
        "id": "SHOs3EN452oM"
      },
      "execution_count": null,
      "outputs": []
    },
    {
      "cell_type": "markdown",
      "source": [
        "# Practice s02-05"
      ],
      "metadata": {
        "id": "tHVcQXJc52oN"
      }
    },
    {
      "cell_type": "code",
      "source": [
        "# Write down your code for Practice s02-05 in this cell.\n",
        "\n",
        "\n",
        "\n"
      ],
      "metadata": {
        "id": "i1qEe4L152oP"
      },
      "execution_count": null,
      "outputs": []
    },
    {
      "cell_type": "markdown",
      "source": [
        "# Sample Python script \"ai2023_s02_00_06.py\"\n"
      ],
      "metadata": {
        "id": "JtfGSc4W59bb"
      }
    },
    {
      "cell_type": "code",
      "source": [
        "# Run this cell to show the source code.\n",
        "\n",
        "!cat ai2023_s02_00_06.py"
      ],
      "metadata": {
        "id": "JXCY2I5K59bd"
      },
      "execution_count": null,
      "outputs": []
    },
    {
      "cell_type": "code",
      "source": [
        "# Run this cell to execute the script.\n",
        "\n",
        "!python3.10 ai2023_s02_00_06.py"
      ],
      "metadata": {
        "id": "QdsikHB659be"
      },
      "execution_count": null,
      "outputs": []
    },
    {
      "cell_type": "markdown",
      "source": [
        "# Practice s02-06"
      ],
      "metadata": {
        "id": "1Qz-zyBV59be"
      }
    },
    {
      "cell_type": "code",
      "source": [
        "# Write down your code for Practice s02-06 in this cell.\n",
        "\n",
        "\n",
        "\n"
      ],
      "metadata": {
        "id": "yOMMGYb259bf"
      },
      "execution_count": null,
      "outputs": []
    },
    {
      "cell_type": "markdown",
      "source": [
        "# Sample Python script \"ai2023_s02_00_07.py\"\n"
      ],
      "metadata": {
        "id": "tIMMLb8W6GPl"
      }
    },
    {
      "cell_type": "code",
      "source": [
        "# Run this cell to show the source code.\n",
        "\n",
        "!cat ai2023_s02_00_07.py"
      ],
      "metadata": {
        "id": "MJumqFA26GPn"
      },
      "execution_count": null,
      "outputs": []
    },
    {
      "cell_type": "code",
      "source": [
        "# Run this cell to execute the script.\n",
        "\n",
        "!python3.10 ai2023_s02_00_07.py"
      ],
      "metadata": {
        "id": "GLmUe2Yv6GPp"
      },
      "execution_count": null,
      "outputs": []
    },
    {
      "cell_type": "markdown",
      "source": [
        "# Practice s02-07"
      ],
      "metadata": {
        "id": "Sf1NIFSG6GPq"
      }
    },
    {
      "cell_type": "code",
      "source": [
        "# Write down your code for Practice s02-07 in this cell.\n",
        "\n",
        "\n",
        "\n"
      ],
      "metadata": {
        "id": "gZEFkEfZ6GPs"
      },
      "execution_count": null,
      "outputs": []
    },
    {
      "cell_type": "markdown",
      "source": [
        "# Sample Python script \"ai2023_s02_00_08.py\"\n"
      ],
      "metadata": {
        "id": "WbehIdRK6NqH"
      }
    },
    {
      "cell_type": "code",
      "source": [
        "# Run this cell to show the source code.\n",
        "\n",
        "!cat ai2023_s02_00_08.py"
      ],
      "metadata": {
        "id": "4RN_M50z6NqL"
      },
      "execution_count": null,
      "outputs": []
    },
    {
      "cell_type": "code",
      "source": [
        "# Run this cell to execute the script.\n",
        "\n",
        "!python3.10 ai2023_s02_00_08.py"
      ],
      "metadata": {
        "id": "i5mR22LG6NqQ"
      },
      "execution_count": null,
      "outputs": []
    },
    {
      "cell_type": "markdown",
      "source": [
        "# Practice s02-08"
      ],
      "metadata": {
        "id": "acUvyxsc6NqS"
      }
    },
    {
      "cell_type": "code",
      "source": [
        "# Write down your code for Practice s02-08 in this cell.\n",
        "\n",
        "\n",
        "\n"
      ],
      "metadata": {
        "id": "wICNQs_j6NqU"
      },
      "execution_count": null,
      "outputs": []
    },
    {
      "cell_type": "markdown",
      "source": [
        "# Sample Python script \"ai2023_s02_00_09.py\"\n"
      ],
      "metadata": {
        "id": "RyvEVPtP6WK0"
      }
    },
    {
      "cell_type": "code",
      "source": [
        "# Run this cell to show the source code.\n",
        "\n",
        "!cat ai2023_s02_00_09.py"
      ],
      "metadata": {
        "id": "mH_zeSyJ6WK2"
      },
      "execution_count": null,
      "outputs": []
    },
    {
      "cell_type": "code",
      "source": [
        "# Run this cell to execute the script.\n",
        "\n",
        "!python3.10 ai2023_s02_00_09.py"
      ],
      "metadata": {
        "id": "jbmMCyc26WK3"
      },
      "execution_count": null,
      "outputs": []
    },
    {
      "cell_type": "markdown",
      "source": [
        "# Practice s02-09"
      ],
      "metadata": {
        "id": "JLrf5ger6WK4"
      }
    },
    {
      "cell_type": "code",
      "source": [
        "# Write down your code for Practice s02-09 in this cell.\n",
        "\n",
        "\n",
        "\n"
      ],
      "metadata": {
        "id": "UuarTVFm6WK6"
      },
      "execution_count": null,
      "outputs": []
    },
    {
      "cell_type": "markdown",
      "source": [
        "# Sample Python script \"ai2023_s02_01_00.py\"\n"
      ],
      "metadata": {
        "id": "FXEilSC36fWn"
      }
    },
    {
      "cell_type": "code",
      "source": [
        "# Run this cell to show the source code.\n",
        "\n",
        "!cat ai2023_s02_01_00.py"
      ],
      "metadata": {
        "id": "Jrspt7lj6fWs"
      },
      "execution_count": null,
      "outputs": []
    },
    {
      "cell_type": "code",
      "source": [
        "# Run this cell to execute the script.\n",
        "\n",
        "!python3.10 ai2023_s02_01_00.py"
      ],
      "metadata": {
        "id": "tyHeyaG86fWv"
      },
      "execution_count": null,
      "outputs": []
    },
    {
      "cell_type": "markdown",
      "source": [
        "# Practice s02-10"
      ],
      "metadata": {
        "id": "WtE0gwZT6fWy"
      }
    },
    {
      "cell_type": "code",
      "source": [
        "# Write down your code for Practice s02-10 in this cell.\n",
        "\n",
        "\n",
        "\n"
      ],
      "metadata": {
        "id": "WmIX-59N6fW0"
      },
      "execution_count": null,
      "outputs": []
    },
    {
      "cell_type": "markdown",
      "source": [
        "# Sample Python script \"ai2023_s02_01_01.py\"\n"
      ],
      "metadata": {
        "id": "DCWuL-QQ6r8s"
      }
    },
    {
      "cell_type": "code",
      "source": [
        "# Run this cell to show the source code.\n",
        "\n",
        "!cat ai2023_s02_01_01.py"
      ],
      "metadata": {
        "id": "OTLtFezn6r8u"
      },
      "execution_count": null,
      "outputs": []
    },
    {
      "cell_type": "code",
      "source": [
        "# Run this cell to execute the script.\n",
        "\n",
        "!python3.10 ai2023_s02_01_01.py"
      ],
      "metadata": {
        "id": "37zpxscg6r8v"
      },
      "execution_count": null,
      "outputs": []
    },
    {
      "cell_type": "markdown",
      "source": [
        "# Practice s02-11"
      ],
      "metadata": {
        "id": "sQ0-tnpg6r8w"
      }
    },
    {
      "cell_type": "code",
      "source": [
        "# Write down your code for Practice s02-11 in this cell.\n",
        "\n",
        "\n",
        "\n"
      ],
      "metadata": {
        "id": "btpzSBlP6r8x"
      },
      "execution_count": null,
      "outputs": []
    },
    {
      "cell_type": "markdown",
      "source": [
        "# Sample Python script \"ai2023_s02_01_02.py\"\n"
      ],
      "metadata": {
        "id": "Pn6v1KPy6y0r"
      }
    },
    {
      "cell_type": "code",
      "source": [
        "# Run this cell to show the source code.\n",
        "\n",
        "!cat ai2023_s02_01_02.py"
      ],
      "metadata": {
        "id": "dxVyU_9u6y0t"
      },
      "execution_count": null,
      "outputs": []
    },
    {
      "cell_type": "code",
      "source": [
        "# Run this cell to execute the script.\n",
        "\n",
        "!python3.10 ai2023_s02_01_02.py 1 2 3"
      ],
      "metadata": {
        "id": "Lne-leVY6y0v"
      },
      "execution_count": null,
      "outputs": []
    },
    {
      "cell_type": "code",
      "source": [
        "# Run this cell to execute the script.\n",
        "\n",
        "!python3.10 ai2023_s02_01_02.py 1.23 4.56"
      ],
      "metadata": {
        "id": "6cNduPiRHdre"
      },
      "execution_count": null,
      "outputs": []
    },
    {
      "cell_type": "code",
      "source": [
        "# Run this cell to execute the script.\n",
        "\n",
        "!python3.10 ai2023_s02_01_02.py abc xyz"
      ],
      "metadata": {
        "id": "gRpFBnCGHiA1"
      },
      "execution_count": null,
      "outputs": []
    },
    {
      "cell_type": "markdown",
      "source": [
        "# Practice s02-12"
      ],
      "metadata": {
        "id": "op0pIf7l6y0w"
      }
    },
    {
      "cell_type": "code",
      "source": [
        "# Write down your code for Practice s02-12 in this cell.\n",
        "\n",
        "\n",
        "\n"
      ],
      "metadata": {
        "id": "DmhgjLUv6y0x"
      },
      "execution_count": null,
      "outputs": []
    },
    {
      "cell_type": "markdown",
      "source": [
        "# Sample Python script \"ai2023_s02_02_00.py\"\n"
      ],
      "metadata": {
        "id": "j4aJeuO867HR"
      }
    },
    {
      "cell_type": "code",
      "source": [
        "# Run this cell to show the source code.\n",
        "\n",
        "!cat ai2023_s02_02_00.py"
      ],
      "metadata": {
        "id": "j5_amIHV67HW"
      },
      "execution_count": null,
      "outputs": []
    },
    {
      "cell_type": "code",
      "source": [
        "# Run this cell to execute the script.\n",
        "\n",
        "!python3.10 ai2023_s02_02_00.py -h"
      ],
      "metadata": {
        "id": "jrJFFDDs67HY"
      },
      "execution_count": null,
      "outputs": []
    },
    {
      "cell_type": "code",
      "source": [
        "# Run this cell to execute the script.\n",
        "\n",
        "!python3.10 ai2023_s02_02_00.py 2 3"
      ],
      "metadata": {
        "id": "qEhJp80cHwO2"
      },
      "execution_count": null,
      "outputs": []
    },
    {
      "cell_type": "code",
      "source": [
        "# Run this cell to execute the script.\n",
        "\n",
        "!python3.10 ai2023_s02_02_00.py 123 456"
      ],
      "metadata": {
        "id": "C4S7i7vKHzf_"
      },
      "execution_count": null,
      "outputs": []
    },
    {
      "cell_type": "markdown",
      "source": [
        "# Practice s02-13"
      ],
      "metadata": {
        "id": "4vWGWNla67Hb"
      }
    },
    {
      "cell_type": "code",
      "source": [
        "# Write down your code for Practice s02-13 in this cell.\n",
        "\n",
        "\n",
        "\n"
      ],
      "metadata": {
        "id": "61Cat7Ce67He"
      },
      "execution_count": null,
      "outputs": []
    },
    {
      "cell_type": "markdown",
      "source": [
        "# Sample Python script \"ai2023_s02_02_01.py\"\n"
      ],
      "metadata": {
        "id": "TXwu52tx7D68"
      }
    },
    {
      "cell_type": "code",
      "source": [
        "# Run this cell to show the source code.\n",
        "\n",
        "!cat ai2023_s02_02_01.py"
      ],
      "metadata": {
        "id": "pvFQjzdv7D7A"
      },
      "execution_count": null,
      "outputs": []
    },
    {
      "cell_type": "code",
      "source": [
        "# Run this cell to execute the script.\n",
        "\n",
        "!python3.10 ai2023_s02_02_01.py -h"
      ],
      "metadata": {
        "id": "Ban138mM7D7C"
      },
      "execution_count": null,
      "outputs": []
    },
    {
      "cell_type": "code",
      "source": [
        "# Run this cell to execute the script.\n",
        "\n",
        "!python3.10 ai2023_s02_02_01.py -f sin 30"
      ],
      "metadata": {
        "id": "x8wnCus3H9yn"
      },
      "execution_count": null,
      "outputs": []
    },
    {
      "cell_type": "code",
      "source": [
        "# Run this cell to execute the script.\n",
        "\n",
        "!python3.10 ai2023_s02_02_01.py -f cos 90"
      ],
      "metadata": {
        "id": "yv8wBoNFIFbn"
      },
      "execution_count": null,
      "outputs": []
    },
    {
      "cell_type": "markdown",
      "source": [
        "# Practice s02-14"
      ],
      "metadata": {
        "id": "7OiIThG37D7F"
      }
    },
    {
      "cell_type": "code",
      "source": [
        "# Run this cell to execute the script.\n",
        "\n",
        "!python3.10 ai2023_s02_02_01.py -f tan 45"
      ],
      "metadata": {
        "id": "Mq6XKrsgIIMP"
      },
      "execution_count": null,
      "outputs": []
    },
    {
      "cell_type": "code",
      "source": [
        "# Write down your code for Practice s02-14 in this cell.\n",
        "\n",
        "\n",
        "\n"
      ],
      "metadata": {
        "id": "3nXGXnyE7D7G"
      },
      "execution_count": null,
      "outputs": []
    },
    {
      "cell_type": "markdown",
      "source": [
        "# Sample Python script \"ai2023_s02_02_02.py\"\n"
      ],
      "metadata": {
        "id": "imrG9rk58v40"
      }
    },
    {
      "cell_type": "code",
      "source": [
        "# Run this cell to show the source code.\n",
        "\n",
        "!cat ai2023_s02_02_02.py"
      ],
      "metadata": {
        "id": "Tfrcwaig8v47"
      },
      "execution_count": null,
      "outputs": []
    },
    {
      "cell_type": "code",
      "source": [
        "# Run this cell to execute the script.\n",
        "\n",
        "!python3.10 ai2023_s02_02_02.py -h"
      ],
      "metadata": {
        "id": "2UGnRNxZ8v4_"
      },
      "execution_count": null,
      "outputs": []
    },
    {
      "cell_type": "code",
      "source": [
        "# Run this cell to execute the script.\n",
        "\n",
        "!python3.10 ai2023_s02_02_02.py 3 + 4"
      ],
      "metadata": {
        "id": "RTXPRIjaIRxB"
      },
      "execution_count": null,
      "outputs": []
    },
    {
      "cell_type": "code",
      "source": [
        "# Run this cell to execute the script.\n",
        "\n",
        "!python3.10 ai2023_s02_02_02.py 5 - 6"
      ],
      "metadata": {
        "id": "bN9TyTymIV-1"
      },
      "execution_count": null,
      "outputs": []
    },
    {
      "cell_type": "markdown",
      "source": [
        "# Practice s02-15"
      ],
      "metadata": {
        "id": "09BrQ8tv8v5B"
      }
    },
    {
      "cell_type": "code",
      "source": [
        "# Run this cell to execute the script.\n",
        "\n",
        "!python3.10 ai2023_s02_02_02.py 7 x 8"
      ],
      "metadata": {
        "id": "nw10h4MnIYJd"
      },
      "execution_count": null,
      "outputs": []
    },
    {
      "cell_type": "code",
      "source": [
        "# Write down your code for Practice s02-15 in this cell.\n",
        "\n",
        "\n",
        "\n"
      ],
      "metadata": {
        "id": "m8tetwYA8v5D"
      },
      "execution_count": null,
      "outputs": []
    },
    {
      "cell_type": "code",
      "source": [
        "# Run this cell to execute the script.\n",
        "\n",
        "!python3.10 ai2023_s02_02_02.py 9 / 2"
      ],
      "metadata": {
        "id": "fs8yHpucIa0m"
      },
      "execution_count": null,
      "outputs": []
    },
    {
      "cell_type": "markdown",
      "source": [
        "# Sample Python script \"ai2023_s02_03_00.py\"\n"
      ],
      "metadata": {
        "id": "Zf79Maeh83Wl"
      }
    },
    {
      "cell_type": "code",
      "source": [
        "# Run this cell to show the source code.\n",
        "\n",
        "!cat ai2023_s02_03_00.py"
      ],
      "metadata": {
        "id": "mjdd78Ul83Wm"
      },
      "execution_count": null,
      "outputs": []
    },
    {
      "cell_type": "code",
      "source": [
        "# Run this cell to execute the script.\n",
        "\n",
        "!python3.10 ai2023_s02_03_00.py"
      ],
      "metadata": {
        "id": "kx0nWq0M83Wn"
      },
      "execution_count": null,
      "outputs": []
    },
    {
      "cell_type": "code",
      "source": [
        "# Run this cell to check downloaded file\n",
        "\n",
        "!ls -lF pi_1000.txt"
      ],
      "metadata": {
        "id": "vrhgHsv_Isjh"
      },
      "execution_count": null,
      "outputs": []
    },
    {
      "cell_type": "code",
      "source": [
        "# Run this cell to show the content of downloaded file\n",
        "\n",
        "!cat pi_1000.txt"
      ],
      "metadata": {
        "id": "HA8BcWEDI1GJ"
      },
      "execution_count": null,
      "outputs": []
    },
    {
      "cell_type": "markdown",
      "source": [
        "# Practice s02-16"
      ],
      "metadata": {
        "id": "hkeIlAKT83Wo"
      }
    },
    {
      "cell_type": "code",
      "source": [
        "# Write down your code for Practice s02-16 in this cell.\n",
        "\n",
        "\n",
        "\n"
      ],
      "metadata": {
        "id": "sAPC0dJd83Wo"
      },
      "execution_count": null,
      "outputs": []
    },
    {
      "cell_type": "markdown",
      "source": [
        "# Sample Python script \"ai2023_s02_03_01.py\"\n"
      ],
      "metadata": {
        "id": "trHP7Z-d9NaA"
      }
    },
    {
      "cell_type": "code",
      "source": [
        "# Run this cell to show the source code.\n",
        "\n",
        "!cat ai2023_s02_03_01.py"
      ],
      "metadata": {
        "id": "cNC6xzbJ9NaD"
      },
      "execution_count": null,
      "outputs": []
    },
    {
      "cell_type": "code",
      "source": [
        "# Run this cell to execute the script.\n",
        "\n",
        "!python3.10 ai2023_s02_03_01.py"
      ],
      "metadata": {
        "id": "cKL_J-XD9NaE"
      },
      "execution_count": null,
      "outputs": []
    },
    {
      "cell_type": "code",
      "source": [
        "# Run this cell to check downloaded file\n",
        "\n",
        "!ls -lF ncu_map.png"
      ],
      "metadata": {
        "id": "2W82Hud6JCTx"
      },
      "execution_count": null,
      "outputs": []
    },
    {
      "cell_type": "code",
      "source": [
        "# Run this cell to display downloaded PNG file.\n",
        "\n",
        "# importing IPython module\n",
        "import IPython.display\n",
        "\n",
        "# displaying image\n",
        "IPython.display.Image ('ncu_map.png')"
      ],
      "metadata": {
        "id": "iy1nLIi7JILS"
      },
      "execution_count": null,
      "outputs": []
    },
    {
      "cell_type": "markdown",
      "source": [
        "# Practice s02-17"
      ],
      "metadata": {
        "id": "lXE5uQ9z9NaG"
      }
    },
    {
      "cell_type": "code",
      "source": [
        "# Write down your code for Practice s02-17 in this cell.\n",
        "\n",
        "\n",
        "\n"
      ],
      "metadata": {
        "id": "CmU7J-kb9NaH"
      },
      "execution_count": null,
      "outputs": []
    },
    {
      "cell_type": "markdown",
      "source": [
        "# Sample Python script \"ai2023_s02_04_00.py\"\n"
      ],
      "metadata": {
        "id": "4hox-7au9V2g"
      }
    },
    {
      "cell_type": "code",
      "source": [
        "# Run this cell to show the source code.\n",
        "\n",
        "!cat ai2023_s02_04_00.py"
      ],
      "metadata": {
        "id": "tIN06ipn9V2g"
      },
      "execution_count": null,
      "outputs": []
    },
    {
      "cell_type": "code",
      "source": [
        "# Run this cell to execute the script.\n",
        "\n",
        "!python3.10 ai2023_s02_04_00.py"
      ],
      "metadata": {
        "id": "JCcA1krl9V2h"
      },
      "execution_count": null,
      "outputs": []
    },
    {
      "cell_type": "markdown",
      "source": [
        "# Practice s02-18"
      ],
      "metadata": {
        "id": "utV5OjNF9V2i"
      }
    },
    {
      "cell_type": "code",
      "source": [
        "# Write down your code for Practice s02-18 in this cell.\n",
        "\n",
        "\n",
        "\n"
      ],
      "metadata": {
        "id": "lesOfFT39V2j"
      },
      "execution_count": null,
      "outputs": []
    },
    {
      "cell_type": "markdown",
      "source": [
        "# Sample Python script \"ai2023_s02_04_01.py\"\n"
      ],
      "metadata": {
        "id": "QImLNNX89fgr"
      }
    },
    {
      "cell_type": "code",
      "source": [
        "# Run this cell to show the source code.\n",
        "\n",
        "!cat ai2023_s02_04_01.py"
      ],
      "metadata": {
        "id": "3eVgPHW69fgt"
      },
      "execution_count": null,
      "outputs": []
    },
    {
      "cell_type": "code",
      "source": [
        "# Run this cell to execute the script.\n",
        "\n",
        "!python3.10 ai2023_s02_04_01.py"
      ],
      "metadata": {
        "id": "i5IpRIyM9fgu"
      },
      "execution_count": null,
      "outputs": []
    },
    {
      "cell_type": "markdown",
      "source": [
        "# Practice s02-19"
      ],
      "metadata": {
        "id": "VBnU_LSs9fgv"
      }
    },
    {
      "cell_type": "code",
      "source": [
        "# Write down your code for Practice s02-19 in this cell.\n",
        "\n",
        "\n",
        "\n"
      ],
      "metadata": {
        "id": "anTEoJsK9fgw"
      },
      "execution_count": null,
      "outputs": []
    },
    {
      "cell_type": "markdown",
      "source": [
        "# Sample Python script \"ai2023_s02_04_02.py\"\n"
      ],
      "metadata": {
        "id": "VH9L6S--9mY3"
      }
    },
    {
      "cell_type": "code",
      "source": [
        "# Run this cell to show the source code.\n",
        "\n",
        "!cat ai2023_s02_04_02.py"
      ],
      "metadata": {
        "id": "ekMw2wjF9mY5"
      },
      "execution_count": null,
      "outputs": []
    },
    {
      "cell_type": "code",
      "source": [
        "# Run this cell to execute the script.\n",
        "\n",
        "!python3.10 ai2023_s02_04_02.py"
      ],
      "metadata": {
        "id": "Z0ZoCHp09mY7"
      },
      "execution_count": null,
      "outputs": []
    },
    {
      "cell_type": "markdown",
      "source": [
        "# Practice s02-20"
      ],
      "metadata": {
        "id": "PRlPAaHF9mY7"
      }
    },
    {
      "cell_type": "code",
      "source": [
        "# Write down your code for Practice s02-20 in this cell.\n",
        "\n",
        "\n",
        "\n"
      ],
      "metadata": {
        "id": "s4QeS2h89mY9"
      },
      "execution_count": null,
      "outputs": []
    },
    {
      "cell_type": "markdown",
      "source": [
        "# Sample Python script \"ai2023_s02_04_03.py\"\n"
      ],
      "metadata": {
        "id": "tV2mQGFm9t72"
      }
    },
    {
      "cell_type": "code",
      "source": [
        "# Run this cell to show the source code.\n",
        "\n",
        "!cat ai2023_s02_04_03.py"
      ],
      "metadata": {
        "id": "LyqzNU389t73"
      },
      "execution_count": null,
      "outputs": []
    },
    {
      "cell_type": "code",
      "source": [
        "# Run this cell to execute the script.\n",
        "\n",
        "!python3.10 ai2023_s02_04_03.py"
      ],
      "metadata": {
        "id": "Dou8uI1d9t74"
      },
      "execution_count": null,
      "outputs": []
    },
    {
      "cell_type": "markdown",
      "source": [
        "# Practice s02-21"
      ],
      "metadata": {
        "id": "4lEIACBy9t74"
      }
    },
    {
      "cell_type": "code",
      "source": [
        "# Write down your code for Practice s02-21 in this cell.\n",
        "\n",
        "\n",
        "\n"
      ],
      "metadata": {
        "id": "Hi1heue49t75"
      },
      "execution_count": null,
      "outputs": []
    },
    {
      "cell_type": "markdown",
      "source": [
        "# Sample Python script \"ai2023_s02_04_04.py\"\n"
      ],
      "metadata": {
        "id": "PzC9_VxB90_j"
      }
    },
    {
      "cell_type": "code",
      "source": [
        "# Run this cell to show the source code.\n",
        "\n",
        "!cat ai2023_s02_04_04.py"
      ],
      "metadata": {
        "id": "6pF42fxP90_n"
      },
      "execution_count": null,
      "outputs": []
    },
    {
      "cell_type": "code",
      "source": [
        "# Run this cell to execute the script.\n",
        "\n",
        "!python3.10 ai2023_s02_04_04.py"
      ],
      "metadata": {
        "id": "Yx-VhzHD90_q"
      },
      "execution_count": null,
      "outputs": []
    },
    {
      "cell_type": "markdown",
      "source": [
        "# Practice s02-22"
      ],
      "metadata": {
        "id": "C1-11Kb590_r"
      }
    },
    {
      "cell_type": "code",
      "source": [
        "# Write down your code for Practice s02-22 in this cell.\n",
        "\n",
        "\n",
        "\n"
      ],
      "metadata": {
        "id": "WtWdkHNz90_s"
      },
      "execution_count": null,
      "outputs": []
    },
    {
      "cell_type": "markdown",
      "source": [
        "# Sample Python script \"ai2023_s02_05_00.py\"\n"
      ],
      "metadata": {
        "id": "YX1xF1AS-_3z"
      }
    },
    {
      "cell_type": "code",
      "source": [
        "# Run this cell to show the source code.\n",
        "\n",
        "!cat ai2023_s02_05_00.py"
      ],
      "metadata": {
        "id": "zcywZfjt-_32"
      },
      "execution_count": null,
      "outputs": []
    },
    {
      "cell_type": "code",
      "source": [
        "# Run this cell to execute the script.\n",
        "\n",
        "!python3.10 ai2023_s02_05_00.py"
      ],
      "metadata": {
        "id": "wukKDB6J-_37"
      },
      "execution_count": null,
      "outputs": []
    },
    {
      "cell_type": "markdown",
      "source": [
        "# Practice s02-23"
      ],
      "metadata": {
        "id": "8ZW11Xuj-_39"
      }
    },
    {
      "cell_type": "code",
      "source": [
        "# Write down your code for Practice s02-23 in this cell.\n",
        "\n",
        "\n",
        "\n"
      ],
      "metadata": {
        "id": "sFvoiZr8-_3_"
      },
      "execution_count": null,
      "outputs": []
    },
    {
      "cell_type": "markdown",
      "source": [
        "# Sample Python script \"ai2023_s02_05_01.py\"\n"
      ],
      "metadata": {
        "id": "FPW3yRxQ_LPu"
      }
    },
    {
      "cell_type": "code",
      "source": [
        "# Run this cell to show the source code.\n",
        "\n",
        "!cat ai2023_s02_05_01.py"
      ],
      "metadata": {
        "id": "Xa0MjRxS_LPw"
      },
      "execution_count": null,
      "outputs": []
    },
    {
      "cell_type": "code",
      "source": [
        "# Run this cell to execute the script.\n",
        "\n",
        "!python3.10 ai2023_s02_05_01.py"
      ],
      "metadata": {
        "id": "jtIlkpnj_LPy"
      },
      "execution_count": null,
      "outputs": []
    },
    {
      "cell_type": "markdown",
      "source": [
        "# Practice s02-24"
      ],
      "metadata": {
        "id": "lyV5z0Yr_LP1"
      }
    },
    {
      "cell_type": "code",
      "source": [
        "# Write down your code for Practice s02-24 in this cell.\n",
        "\n",
        "\n",
        "\n"
      ],
      "metadata": {
        "id": "xqy3zGmt_LP2"
      },
      "execution_count": null,
      "outputs": []
    },
    {
      "cell_type": "markdown",
      "source": [
        "# Sample Python script \"ai2023_s02_06_00.py\"\n"
      ],
      "metadata": {
        "id": "Ue4GCdV4_T-0"
      }
    },
    {
      "cell_type": "code",
      "source": [
        "# Run this cell to show the source code.\n",
        "\n",
        "!cat ai2023_s02_06_00.py"
      ],
      "metadata": {
        "id": "fxPuyvoD_T-4"
      },
      "execution_count": null,
      "outputs": []
    },
    {
      "cell_type": "code",
      "source": [
        "# Run this cell to execute the script.\n",
        "\n",
        "!python3.10 ai2023_s02_06_00.py"
      ],
      "metadata": {
        "id": "XdALTkVE_T-5"
      },
      "execution_count": null,
      "outputs": []
    },
    {
      "cell_type": "markdown",
      "source": [
        "# Practice s02-25"
      ],
      "metadata": {
        "id": "mMpRCA1R_T-7"
      }
    },
    {
      "cell_type": "code",
      "source": [
        "# Write down your code for Practice s02-25 in this cell.\n",
        "\n",
        "\n",
        "\n"
      ],
      "metadata": {
        "id": "6WsBzb9t_T-8"
      },
      "execution_count": null,
      "outputs": []
    },
    {
      "cell_type": "markdown",
      "source": [
        "# Sample Python script \"ai2023_s02_06_01.py\"\n"
      ],
      "metadata": {
        "id": "-Pg2ODwk_cwS"
      }
    },
    {
      "cell_type": "code",
      "source": [
        "# Run this cell to show the source code.\n",
        "\n",
        "!cat ai2023_s02_06_01.py"
      ],
      "metadata": {
        "id": "I9gfMMge_cwS"
      },
      "execution_count": null,
      "outputs": []
    },
    {
      "cell_type": "code",
      "source": [
        "# Run this cell to execute the script.\n",
        "\n",
        "!python3.10 ai2023_s02_06_01.py"
      ],
      "metadata": {
        "id": "-nz0MDir_cwT"
      },
      "execution_count": null,
      "outputs": []
    },
    {
      "cell_type": "markdown",
      "source": [
        "# Practice s02-26"
      ],
      "metadata": {
        "id": "j3aptfQy_cwT"
      }
    },
    {
      "cell_type": "code",
      "source": [
        "# Write down your code for Practice s02-26 in this cell.\n",
        "\n",
        "\n",
        "\n"
      ],
      "metadata": {
        "id": "Gr-B4-Ff_cwU"
      },
      "execution_count": null,
      "outputs": []
    },
    {
      "cell_type": "markdown",
      "source": [
        "# Sample Python script \"ai2023_s02_07_00.py\"\n"
      ],
      "metadata": {
        "id": "ZyN_N1tJ_lkZ"
      }
    },
    {
      "cell_type": "code",
      "source": [
        "# Run this cell to show the source code.\n",
        "\n",
        "!cat ai2023_s02_07_00.py"
      ],
      "metadata": {
        "id": "0ctH3ORR_lka"
      },
      "execution_count": null,
      "outputs": []
    },
    {
      "cell_type": "code",
      "source": [
        "# Run this cell to execute the script.\n",
        "\n",
        "!time python3.10 ai2023_s02_07_00.py"
      ],
      "metadata": {
        "id": "LYhwqY05_lkb"
      },
      "execution_count": null,
      "outputs": []
    },
    {
      "cell_type": "markdown",
      "source": [
        "# Sample Python script \"ai2023_s02_07_01.py\"\n"
      ],
      "metadata": {
        "id": "qngrkfUi_vRU"
      }
    },
    {
      "cell_type": "code",
      "source": [
        "# Run this cell to show the source code.\n",
        "\n",
        "!cat ai2023_s02_07_01.py"
      ],
      "metadata": {
        "id": "AqmJlusX_vRW"
      },
      "execution_count": null,
      "outputs": []
    },
    {
      "cell_type": "code",
      "source": [
        "# Run this cell to execute the script.\n",
        "\n",
        "!time python3.10 ai2023_s02_07_01.py"
      ],
      "metadata": {
        "id": "-m3FeVJl_vRX"
      },
      "execution_count": null,
      "outputs": []
    },
    {
      "cell_type": "markdown",
      "source": [
        "# Sample Python script \"ai2023_s02_08_00.py\"\n"
      ],
      "metadata": {
        "id": "IbudJ6OsBuL0"
      }
    },
    {
      "cell_type": "code",
      "source": [
        "# Run this cell to show the source code.\n",
        "\n",
        "!cat ai2023_s02_08_00.py"
      ],
      "metadata": {
        "id": "HZUQT23MBuL5"
      },
      "execution_count": null,
      "outputs": []
    },
    {
      "cell_type": "code",
      "source": [
        "# Run this cell to execute the script.\n",
        "\n",
        "!python3.10 ai2023_s02_08_00.py"
      ],
      "metadata": {
        "id": "jTpPg3SGBuL-"
      },
      "execution_count": null,
      "outputs": []
    },
    {
      "cell_type": "markdown",
      "source": [
        "# Sample Python script \"ai2023_s02_08_01.py\"\n"
      ],
      "metadata": {
        "id": "IM5vj9RiBz_M"
      }
    },
    {
      "cell_type": "code",
      "source": [
        "# Run this cell to show the source code.\n",
        "\n",
        "!cat ai2023_s02_08_01.py"
      ],
      "metadata": {
        "id": "VaKCZavhBz_N"
      },
      "execution_count": null,
      "outputs": []
    },
    {
      "cell_type": "code",
      "source": [
        "# Run this cell to execute the script.\n",
        "\n",
        "!python3.10 ai2023_s02_08_01.py"
      ],
      "metadata": {
        "id": "6ii2nsilBz_Q"
      },
      "execution_count": null,
      "outputs": []
    },
    {
      "cell_type": "markdown",
      "source": [
        "# Practice s02-27"
      ],
      "metadata": {
        "id": "akQYAJ4MBuMB"
      }
    },
    {
      "cell_type": "code",
      "source": [
        "# Write down your code for Practice s02-27 in this cell.\n",
        "\n",
        "\n",
        "\n"
      ],
      "metadata": {
        "id": "Fxl2hDMqBuME"
      },
      "execution_count": null,
      "outputs": []
    },
    {
      "cell_type": "markdown",
      "source": [
        "# Sample Python script \"ai2023_s02_08_02.py\"\n"
      ],
      "metadata": {
        "id": "56GQHcPyB9RU"
      }
    },
    {
      "cell_type": "code",
      "source": [
        "# Run this cell to show the source code.\n",
        "\n",
        "!cat ai2023_s02_08_02.py"
      ],
      "metadata": {
        "id": "x_6ULlnWB9RV"
      },
      "execution_count": null,
      "outputs": []
    },
    {
      "cell_type": "code",
      "source": [
        "# Run this cell to execute the script.\n",
        "\n",
        "!python3.10 ai2023_s02_08_02.py"
      ],
      "metadata": {
        "id": "bFMevp5yB9RX"
      },
      "execution_count": null,
      "outputs": []
    },
    {
      "cell_type": "markdown",
      "source": [
        "# Sample Python script \"ai2023_s02_08_03.py\"\n"
      ],
      "metadata": {
        "id": "DQi0V0oPB9RZ"
      }
    },
    {
      "cell_type": "code",
      "source": [
        "# Run this cell to show the source code.\n",
        "\n",
        "!cat ai2023_s02_08_03.py"
      ],
      "metadata": {
        "id": "k9_aS-A2B9RZ"
      },
      "execution_count": null,
      "outputs": []
    },
    {
      "cell_type": "code",
      "source": [
        "# Run this cell to execute the script.\n",
        "\n",
        "!python3.10 ai2023_s02_08_03.py"
      ],
      "metadata": {
        "id": "lSqf93vwB9Ra"
      },
      "execution_count": null,
      "outputs": []
    },
    {
      "cell_type": "markdown",
      "source": [
        "# Practice s02-28"
      ],
      "metadata": {
        "id": "g3M598RNB9Rb"
      }
    },
    {
      "cell_type": "code",
      "source": [
        "# Write down your code for Practice s02-28 in this cell.\n",
        "\n",
        "\n",
        "\n"
      ],
      "metadata": {
        "id": "YFPHoDyhB9Rc"
      },
      "execution_count": null,
      "outputs": []
    },
    {
      "cell_type": "markdown",
      "source": [
        "# Sample Python script \"ai2023_s02_09_00.py\"\n"
      ],
      "metadata": {
        "id": "QQo2fjGVCJ2W"
      }
    },
    {
      "cell_type": "code",
      "source": [
        "# Run this cell to show the source code.\n",
        "\n",
        "!cat ai2023_s02_09_00.py"
      ],
      "metadata": {
        "id": "46EvFvf0CJ2Y"
      },
      "execution_count": null,
      "outputs": []
    },
    {
      "cell_type": "code",
      "source": [
        "# Run this cell to execute the script.\n",
        "\n",
        "!python3.10 ai2023_s02_09_00.py"
      ],
      "metadata": {
        "id": "WSaLnb-1CJ2Y"
      },
      "execution_count": null,
      "outputs": []
    },
    {
      "cell_type": "markdown",
      "source": [
        "# Sample Python script \"ai2023_s02_09_01.py\"\n"
      ],
      "metadata": {
        "id": "D3-LOlAiCPdF"
      }
    },
    {
      "cell_type": "code",
      "source": [
        "# Run this cell to show the source code.\n",
        "\n",
        "!cat ai2023_s02_09_01.py"
      ],
      "metadata": {
        "id": "Anj1tOWhCPdF"
      },
      "execution_count": null,
      "outputs": []
    },
    {
      "cell_type": "code",
      "source": [
        "# Run this cell to execute the script.\n",
        "\n",
        "!python3.10 ai2023_s02_09_01.py"
      ],
      "metadata": {
        "id": "DOUZMYk5CPdF"
      },
      "execution_count": null,
      "outputs": []
    },
    {
      "cell_type": "markdown",
      "source": [
        "# Sample Python script \"ai2023_s02_09_02.py\"\n"
      ],
      "metadata": {
        "id": "FVJUtN9pCUvP"
      }
    },
    {
      "cell_type": "code",
      "source": [
        "# Run this cell to show the source code.\n",
        "\n",
        "!cat ai2023_s02_09_02.py"
      ],
      "metadata": {
        "id": "2zh0BkQbCUvQ"
      },
      "execution_count": null,
      "outputs": []
    },
    {
      "cell_type": "code",
      "source": [
        "# Run this cell to execute the script.\n",
        "\n",
        "!python3.10 ai2023_s02_09_02.py"
      ],
      "metadata": {
        "id": "2LAD2Fk6CUvS"
      },
      "execution_count": null,
      "outputs": []
    },
    {
      "cell_type": "code",
      "source": [
        "# Run this cell to check newly created file\n",
        "\n",
        "!ls -lF bsc.data"
      ],
      "metadata": {
        "id": "u85k5S__M3Y5"
      },
      "execution_count": null,
      "outputs": []
    },
    {
      "cell_type": "markdown",
      "source": [
        "# Sample Python script \"ai2023_s02_09_03.py\"\n"
      ],
      "metadata": {
        "id": "CVyIUsnfCaD1"
      }
    },
    {
      "cell_type": "code",
      "source": [
        "# Run this cell to show the source code.\n",
        "\n",
        "!cat ai2023_s02_09_03.py"
      ],
      "metadata": {
        "id": "qBixBpYFCaD4"
      },
      "execution_count": null,
      "outputs": []
    },
    {
      "cell_type": "code",
      "source": [
        "# Run this cell to execute the script.\n",
        "\n",
        "!python3.10 ai2023_s02_09_03.py"
      ],
      "metadata": {
        "id": "HVtOT_pbCaD5"
      },
      "execution_count": null,
      "outputs": []
    },
    {
      "cell_type": "markdown",
      "source": [
        "# Sample Python script \"ai2023_s02_09_04.py\"\n"
      ],
      "metadata": {
        "id": "Y5HlZVriChBo"
      }
    },
    {
      "cell_type": "code",
      "source": [
        "# Run this cell to show the source code.\n",
        "\n",
        "!cat ai2023_s02_09_04.py"
      ],
      "metadata": {
        "id": "JUeTkHdDChBq"
      },
      "execution_count": null,
      "outputs": []
    },
    {
      "cell_type": "code",
      "source": [
        "# Run this cell to execute the script.\n",
        "\n",
        "!python3.10 ai2023_s02_09_04.py"
      ],
      "metadata": {
        "id": "tLosbLCbChBs"
      },
      "execution_count": null,
      "outputs": []
    },
    {
      "cell_type": "markdown",
      "source": [
        "# Sample Python script \"ai2023_s02_09_05.py\"\n"
      ],
      "metadata": {
        "id": "AhMStR5IChBt"
      }
    },
    {
      "cell_type": "code",
      "source": [
        "# Run this cell to show the source code.\n",
        "\n",
        "!cat ai2023_s02_09_05.py"
      ],
      "metadata": {
        "id": "--m33CZUChBu"
      },
      "execution_count": null,
      "outputs": []
    },
    {
      "cell_type": "code",
      "source": [
        "# Run this cell to execute the script.\n",
        "\n",
        "!python3.10 ai2023_s02_09_05.py"
      ],
      "metadata": {
        "id": "G4O0gh8pChBv"
      },
      "execution_count": null,
      "outputs": []
    },
    {
      "cell_type": "markdown",
      "source": [
        "# Sample Python script \"ai2023_s02_09_06.py\"\n"
      ],
      "metadata": {
        "id": "SQFbMQX-ChBw"
      }
    },
    {
      "cell_type": "code",
      "source": [
        "# Run this cell to show the source code.\n",
        "\n",
        "!cat ai2023_s02_09_06.py"
      ],
      "metadata": {
        "id": "F6OeyRkQChBx"
      },
      "execution_count": null,
      "outputs": []
    },
    {
      "cell_type": "code",
      "source": [
        "# Run this cell to execute the script.\n",
        "\n",
        "!python3.10 ai2023_s02_09_06.py"
      ],
      "metadata": {
        "id": "0ciP9Oa4ChBz"
      },
      "execution_count": null,
      "outputs": []
    },
    {
      "cell_type": "markdown",
      "source": [
        "# Practice s02-29"
      ],
      "metadata": {
        "id": "KJ1VYYPACssK"
      }
    },
    {
      "cell_type": "code",
      "source": [
        "# Write down your code for Practice s02-29 in this cell.\n",
        "\n",
        "\n",
        "\n"
      ],
      "metadata": {
        "id": "Mp7gkI0PCssN"
      },
      "execution_count": null,
      "outputs": []
    },
    {
      "cell_type": "markdown",
      "source": [
        "# Sample Python script \"ai2023_s02_10_00.py\"\n"
      ],
      "metadata": {
        "id": "GVUp77v0C4cT"
      }
    },
    {
      "cell_type": "code",
      "source": [
        "# Run this cell to show the source code.\n",
        "\n",
        "!cat ai2023_s02_10_00.py"
      ],
      "metadata": {
        "id": "02AB70ctC4cZ"
      },
      "execution_count": null,
      "outputs": []
    },
    {
      "cell_type": "code",
      "source": [
        "# Run this cell to execute the script.\n",
        "\n",
        "!python3.10 ai2023_s02_10_00.py"
      ],
      "metadata": {
        "id": "ecLnJysQC4cf"
      },
      "execution_count": null,
      "outputs": []
    },
    {
      "cell_type": "markdown",
      "source": [
        "# Practice s02-30"
      ],
      "metadata": {
        "id": "xuLcOFdbC4cj"
      }
    },
    {
      "cell_type": "code",
      "source": [
        "# Write down your code for Practice s02-30 in this cell.\n",
        "\n",
        "\n",
        "\n"
      ],
      "metadata": {
        "id": "ohSzSMVbC4cn"
      },
      "execution_count": null,
      "outputs": []
    },
    {
      "cell_type": "markdown",
      "source": [
        "# Sample Python script \"ai2023_s02_10_01.py\"\n"
      ],
      "metadata": {
        "id": "_ow1xs08DDtN"
      }
    },
    {
      "cell_type": "code",
      "source": [
        "# Run this cell to show the source code.\n",
        "\n",
        "!cat ai2023_s02_10_01.py"
      ],
      "metadata": {
        "id": "-iLVZUcZDDtP"
      },
      "execution_count": null,
      "outputs": []
    },
    {
      "cell_type": "code",
      "source": [
        "# Run this cell to execute the script.\n",
        "\n",
        "!python3.10 ai2023_s02_10_01.py"
      ],
      "metadata": {
        "id": "6RDVoBs5DDtQ"
      },
      "execution_count": null,
      "outputs": []
    },
    {
      "cell_type": "markdown",
      "source": [
        "# Practice s02-31"
      ],
      "metadata": {
        "id": "r1ZzrDGwDDtR"
      }
    },
    {
      "cell_type": "code",
      "source": [
        "# Write down your code for Practice s02-31 in this cell.\n",
        "\n",
        "\n",
        "\n"
      ],
      "metadata": {
        "id": "ejaxyt07DDtT"
      },
      "execution_count": null,
      "outputs": []
    },
    {
      "cell_type": "markdown",
      "source": [
        "# Sample Python script \"ai2023_s02_10_02.py\"\n"
      ],
      "metadata": {
        "id": "dww_JGC2DK1x"
      }
    },
    {
      "cell_type": "code",
      "source": [
        "# Run this cell to show the source code.\n",
        "\n",
        "!cat ai2023_s02_10_02.py"
      ],
      "metadata": {
        "id": "bI1So0sIDK10"
      },
      "execution_count": null,
      "outputs": []
    },
    {
      "cell_type": "code",
      "source": [
        "# Run this cell to execute the script.\n",
        "\n",
        "!python3.10 ai2023_s02_10_02.py"
      ],
      "metadata": {
        "id": "btLbubEzDK13"
      },
      "execution_count": null,
      "outputs": []
    },
    {
      "cell_type": "markdown",
      "source": [
        "# Practice s02-32"
      ],
      "metadata": {
        "id": "Je5kQNqfDK15"
      }
    },
    {
      "cell_type": "code",
      "source": [
        "# Write down your code for Practice s02-32 in this cell.\n",
        "\n",
        "\n",
        "\n"
      ],
      "metadata": {
        "id": "V9LauljeDK18"
      },
      "execution_count": null,
      "outputs": []
    },
    {
      "cell_type": "markdown",
      "source": [
        "# Sample Python script \"ai2023_s02_11_00.py\"\n"
      ],
      "metadata": {
        "id": "dsMSE2weDUVn"
      }
    },
    {
      "cell_type": "code",
      "source": [
        "# Run this cell to show the source code.\n",
        "\n",
        "!cat ai2023_s02_11_00.py"
      ],
      "metadata": {
        "id": "iDptvI-ODUVo"
      },
      "execution_count": null,
      "outputs": []
    },
    {
      "cell_type": "code",
      "source": [
        "# Run this cell to execute the script.\n",
        "\n",
        "!python3.10 ai2023_s02_11_00.py"
      ],
      "metadata": {
        "id": "U2C4mIRkDUVp"
      },
      "execution_count": null,
      "outputs": []
    },
    {
      "cell_type": "markdown",
      "source": [
        "# Practice s02-33"
      ],
      "metadata": {
        "id": "wRD7Lt8lDUVq"
      }
    },
    {
      "cell_type": "code",
      "source": [
        "# Write down your code for Practice s02-33 in this cell.\n",
        "\n",
        "\n",
        "\n"
      ],
      "metadata": {
        "id": "cG8ZfXRRDUVq"
      },
      "execution_count": null,
      "outputs": []
    },
    {
      "cell_type": "markdown",
      "source": [
        "# Sample Python script \"ai2023_s02_11_01.py\"\n"
      ],
      "metadata": {
        "id": "C030pAaxDc6u"
      }
    },
    {
      "cell_type": "code",
      "source": [
        "# Run this cell to show the source code.\n",
        "\n",
        "!cat ai2023_s02_11_01.py"
      ],
      "metadata": {
        "id": "i9oAsOHRDc6w"
      },
      "execution_count": null,
      "outputs": []
    },
    {
      "cell_type": "code",
      "source": [
        "# Run this cell to execute the script.\n",
        "\n",
        "!python3.10 ai2023_s02_11_01.py"
      ],
      "metadata": {
        "id": "2HxEo3VcDc6y"
      },
      "execution_count": null,
      "outputs": []
    },
    {
      "cell_type": "markdown",
      "source": [
        "# Practice s02-34"
      ],
      "metadata": {
        "id": "o8d0BMR3Dc6z"
      }
    },
    {
      "cell_type": "code",
      "source": [
        "# Write down your code for Practice s02-34 in this cell.\n",
        "\n",
        "\n",
        "\n"
      ],
      "metadata": {
        "id": "xPfqEJPADc6z"
      },
      "execution_count": null,
      "outputs": []
    },
    {
      "cell_type": "markdown",
      "source": [
        "# Sample Python script \"ai2023_s02_11_02.py\"\n"
      ],
      "metadata": {
        "id": "MgmPm8cWDk5Y"
      }
    },
    {
      "cell_type": "code",
      "source": [
        "# Run this cell to show the source code.\n",
        "\n",
        "!cat ai2023_s02_11_02.py"
      ],
      "metadata": {
        "id": "aicqaq7BDk5Z"
      },
      "execution_count": null,
      "outputs": []
    },
    {
      "cell_type": "code",
      "source": [
        "# Run this cell to execute the script.\n",
        "\n",
        "!python3.10 ai2023_s02_11_02.py"
      ],
      "metadata": {
        "id": "HYlql1kRDk5b"
      },
      "execution_count": null,
      "outputs": []
    },
    {
      "cell_type": "markdown",
      "source": [
        "# Practice s02-35"
      ],
      "metadata": {
        "id": "WAgQ76X3Dk5d"
      }
    },
    {
      "cell_type": "code",
      "source": [
        "# Write down your code for Practice s02-35 in this cell.\n",
        "\n",
        "\n",
        "\n"
      ],
      "metadata": {
        "id": "mmGLYeGQDk5d"
      },
      "execution_count": null,
      "outputs": []
    },
    {
      "cell_type": "markdown",
      "source": [
        "# Sample Python script \"ai2023_s02_12_00.py\"\n"
      ],
      "metadata": {
        "id": "uvs1lllsDyOq"
      }
    },
    {
      "cell_type": "code",
      "source": [
        "# Run this cell to show the source code.\n",
        "\n",
        "!cat ai2023_s02_12_00.py"
      ],
      "metadata": {
        "id": "K9eywws7DyOt"
      },
      "execution_count": null,
      "outputs": []
    },
    {
      "cell_type": "code",
      "source": [
        "# Run this cell to execute the script.\n",
        "\n",
        "!python3.10 ai2023_s02_12_00.py"
      ],
      "metadata": {
        "id": "mJGOfFPxDyOv"
      },
      "execution_count": null,
      "outputs": []
    },
    {
      "cell_type": "markdown",
      "source": [
        "# Sample Python script \"ai2023_s02_12_01.py\"\n"
      ],
      "metadata": {
        "id": "4M6xJOiRD5MD"
      }
    },
    {
      "cell_type": "code",
      "source": [
        "# Run this cell to show the source code.\n",
        "\n",
        "!cat ai2023_s02_12_01.py"
      ],
      "metadata": {
        "id": "n-59-d18D5MG"
      },
      "execution_count": null,
      "outputs": []
    },
    {
      "cell_type": "code",
      "source": [
        "# Run this cell to execute the script.\n",
        "\n",
        "!python3.10 ai2023_s02_12_01.py"
      ],
      "metadata": {
        "id": "Z4rCPLdGD5MJ"
      },
      "execution_count": null,
      "outputs": []
    },
    {
      "cell_type": "markdown",
      "source": [
        "# Sample Python script \"ai2023_s02_12_02.py\"\n"
      ],
      "metadata": {
        "id": "ziqbBBTTD-M7"
      }
    },
    {
      "cell_type": "code",
      "source": [
        "# Run this cell to show the source code.\n",
        "\n",
        "!cat ai2023_s02_12_02.py"
      ],
      "metadata": {
        "id": "CvvK0mHED-M_"
      },
      "execution_count": null,
      "outputs": []
    },
    {
      "cell_type": "code",
      "source": [
        "# Run this cell to execute the script.\n",
        "\n",
        "!python3.10 ai2023_s02_12_02.py"
      ],
      "metadata": {
        "id": "PVZ_NUDmD-NC"
      },
      "execution_count": null,
      "outputs": []
    },
    {
      "cell_type": "markdown",
      "source": [
        "# Practice s02-36"
      ],
      "metadata": {
        "id": "nD7mnDR9EC0Q"
      }
    },
    {
      "cell_type": "code",
      "source": [
        "# Write down your code for Practice s02-36 in this cell.\n",
        "\n",
        "\n",
        "\n"
      ],
      "metadata": {
        "id": "KshPAJprEC0S"
      },
      "execution_count": null,
      "outputs": []
    },
    {
      "cell_type": "markdown",
      "source": [
        "# Sample Python script \"ai2023_s02_13_00.py\"\n"
      ],
      "metadata": {
        "id": "g06vmsZZEJxq"
      }
    },
    {
      "cell_type": "code",
      "source": [
        "# Run this cell to show the source code.\n",
        "\n",
        "!cat ai2023_s02_13_00.py"
      ],
      "metadata": {
        "id": "wYfWDXZ1EJxt"
      },
      "execution_count": null,
      "outputs": []
    },
    {
      "cell_type": "code",
      "source": [
        "# Run this cell to execute the script.\n",
        "\n",
        "!python3.10 ai2023_s02_13_00.py"
      ],
      "metadata": {
        "id": "thFy-y6vEJxw"
      },
      "execution_count": null,
      "outputs": []
    },
    {
      "cell_type": "markdown",
      "source": [
        "# Sample Python script \"ai2023_s02_13_01.py\"\n"
      ],
      "metadata": {
        "id": "ywjsce4HEQOa"
      }
    },
    {
      "cell_type": "code",
      "source": [
        "# Run this cell to show the source code.\n",
        "\n",
        "!cat ai2023_s02_13_01.py"
      ],
      "metadata": {
        "id": "4T_oHn8dEQOc"
      },
      "execution_count": null,
      "outputs": []
    },
    {
      "cell_type": "code",
      "source": [
        "# Run this cell to execute the script.\n",
        "\n",
        "!python3.10 ai2023_s02_13_01.py"
      ],
      "metadata": {
        "id": "mGUy7j1NEQOg"
      },
      "execution_count": null,
      "outputs": []
    },
    {
      "cell_type": "markdown",
      "source": [
        "# Sample Python script \"ai2023_s02_13_02.py\"\n"
      ],
      "metadata": {
        "id": "irK2KMnXEVWR"
      }
    },
    {
      "cell_type": "code",
      "source": [
        "# Run this cell to show the source code.\n",
        "\n",
        "!cat ai2023_s02_13_02.py"
      ],
      "metadata": {
        "id": "w4RlNSY-EVWS"
      },
      "execution_count": null,
      "outputs": []
    },
    {
      "cell_type": "code",
      "source": [
        "# Run this cell to execute the script.\n",
        "\n",
        "!python3.10 ai2023_s02_13_02.py"
      ],
      "metadata": {
        "id": "_ZfM5hCoEVWT"
      },
      "execution_count": null,
      "outputs": []
    },
    {
      "cell_type": "markdown",
      "source": [
        "# Sample Python script \"ai2023_s02_13_03.py\"\n"
      ],
      "metadata": {
        "id": "ORAau_ShEb55"
      }
    },
    {
      "cell_type": "code",
      "source": [
        "# Run this cell to show the source code.\n",
        "\n",
        "!cat ai2023_s02_13_03.py"
      ],
      "metadata": {
        "id": "fihefgv8Eb57"
      },
      "execution_count": null,
      "outputs": []
    },
    {
      "cell_type": "code",
      "source": [
        "# Run this cell to execute the script.\n",
        "\n",
        "!python3.10 ai2023_s02_13_03.py"
      ],
      "metadata": {
        "id": "hMrvAggcEb5_"
      },
      "execution_count": null,
      "outputs": []
    },
    {
      "cell_type": "markdown",
      "source": [
        "# Sample Python script \"ai2023_s02_13_04.py\"\n"
      ],
      "metadata": {
        "id": "yJblb-uCEfgl"
      }
    },
    {
      "cell_type": "code",
      "source": [
        "# Run this cell to show the source code.\n",
        "\n",
        "!cat ai2023_s02_13_04.py"
      ],
      "metadata": {
        "id": "anNckT47Efgo"
      },
      "execution_count": null,
      "outputs": []
    },
    {
      "cell_type": "code",
      "source": [
        "# Run this cell to execute the script.\n",
        "\n",
        "!python3.10 ai2023_s02_13_04.py"
      ],
      "metadata": {
        "id": "dRMgtRjBEfgr"
      },
      "execution_count": null,
      "outputs": []
    },
    {
      "cell_type": "markdown",
      "source": [
        "# Practice s02-37"
      ],
      "metadata": {
        "id": "UWCuz6PrElEY"
      }
    },
    {
      "cell_type": "code",
      "source": [
        "# Write down your code for Practice s02-37 in this cell.\n",
        "\n",
        "\n",
        "\n"
      ],
      "metadata": {
        "id": "eLvjbwy2ElEZ"
      },
      "execution_count": null,
      "outputs": []
    },
    {
      "cell_type": "markdown",
      "source": [
        "# Sample Python script \"ai2023_s02_14_00.py\"\n"
      ],
      "metadata": {
        "id": "cxtZYYlsExyN"
      }
    },
    {
      "cell_type": "code",
      "source": [
        "# Run this cell to show the source code.\n",
        "\n",
        "!cat ai2023_s02_14_00.py"
      ],
      "metadata": {
        "id": "GXVHOLNxExyR"
      },
      "execution_count": null,
      "outputs": []
    },
    {
      "cell_type": "code",
      "source": [
        "# Run this cell to install \"uncertainties\" package\n",
        "\n",
        "!pip install uncertainties"
      ],
      "metadata": {
        "id": "cvfY4f4ZNxeH"
      },
      "execution_count": null,
      "outputs": []
    },
    {
      "cell_type": "code",
      "source": [
        "# Run this cell to execute the script.\n",
        "\n",
        "!python3.10 ai2023_s02_14_00.py"
      ],
      "metadata": {
        "id": "Issb0Iu_ExyV"
      },
      "execution_count": null,
      "outputs": []
    },
    {
      "cell_type": "markdown",
      "source": [
        "# Practice s02-38"
      ],
      "metadata": {
        "id": "iMQh43kyExyY"
      }
    },
    {
      "cell_type": "code",
      "source": [
        "# Write down your code for Practice s02-38 in this cell.\n",
        "\n",
        "\n",
        "\n"
      ],
      "metadata": {
        "id": "0zMwQ1MzExyb"
      },
      "execution_count": null,
      "outputs": []
    },
    {
      "cell_type": "markdown",
      "source": [
        "# Sample Python script \"ai2023_s02_14_01.py\"\n"
      ],
      "metadata": {
        "id": "vcXKEA-AE6Mr"
      }
    },
    {
      "cell_type": "code",
      "source": [
        "# Run this cell to show the source code.\n",
        "\n",
        "!cat ai2023_s02_14_01.py"
      ],
      "metadata": {
        "id": "65HxCR59E6Mu"
      },
      "execution_count": null,
      "outputs": []
    },
    {
      "cell_type": "code",
      "source": [
        "# Run this cell to execute the script.\n",
        "\n",
        "!python3.10 ai2023_s02_14_01.py"
      ],
      "metadata": {
        "id": "5AN_3C0BE6Mx"
      },
      "execution_count": null,
      "outputs": []
    },
    {
      "cell_type": "markdown",
      "source": [
        "# Practice s02-39"
      ],
      "metadata": {
        "id": "6kxuL976E6My"
      }
    },
    {
      "cell_type": "code",
      "source": [
        "# Write down your code for Practice s02-39 in this cell.\n",
        "\n",
        "\n",
        "\n"
      ],
      "metadata": {
        "id": "zzn3-HYjE6M0"
      },
      "execution_count": null,
      "outputs": []
    },
    {
      "cell_type": "markdown",
      "source": [
        "# Sample Python script \"ai2023_s02_15_00.py\"\n"
      ],
      "metadata": {
        "id": "YZ5QFSP6FB_6"
      }
    },
    {
      "cell_type": "code",
      "source": [
        "# Run this cell to show the source code.\n",
        "\n",
        "!cat ai2023_s02_15_00.py"
      ],
      "metadata": {
        "id": "EzLg9D7HFCAB"
      },
      "execution_count": null,
      "outputs": []
    },
    {
      "cell_type": "code",
      "source": [
        "# Run this cell to install \"pint\" package\n",
        "\n",
        "!pip install pint"
      ],
      "metadata": {
        "id": "3KRIa-xRN87D"
      },
      "execution_count": null,
      "outputs": []
    },
    {
      "cell_type": "code",
      "source": [
        "# Run this cell to execute the script.\n",
        "\n",
        "!python3.10 ai2023_s02_15_00.py"
      ],
      "metadata": {
        "id": "ScKTIxzqFCAF"
      },
      "execution_count": null,
      "outputs": []
    },
    {
      "cell_type": "markdown",
      "source": [
        "# Practice s02-40"
      ],
      "metadata": {
        "id": "4v6nkcSoFCAH"
      }
    },
    {
      "cell_type": "code",
      "source": [
        "# Write down your code for Practice s02-40 in this cell.\n",
        "\n",
        "\n",
        "\n"
      ],
      "metadata": {
        "id": "OrgDOdL3FCAJ"
      },
      "execution_count": null,
      "outputs": []
    },
    {
      "cell_type": "markdown",
      "source": [
        "# Sample Python script \"ai2023_s02_15_01.py\"\n"
      ],
      "metadata": {
        "id": "91bwCy4CFI3x"
      }
    },
    {
      "cell_type": "code",
      "source": [
        "# Run this cell to show the source code.\n",
        "\n",
        "!cat ai2023_s02_15_01.py"
      ],
      "metadata": {
        "id": "6OHZFF2EFI3x"
      },
      "execution_count": null,
      "outputs": []
    },
    {
      "cell_type": "code",
      "source": [
        "# Run this cell to execute the script.\n",
        "\n",
        "!python3.10 ai2023_s02_15_01.py"
      ],
      "metadata": {
        "id": "qk59zDZdFI3y"
      },
      "execution_count": null,
      "outputs": []
    },
    {
      "cell_type": "markdown",
      "source": [
        "# Practice s02-41"
      ],
      "metadata": {
        "id": "m-coQ1eGFI3z"
      }
    },
    {
      "cell_type": "code",
      "source": [
        "# Write down your code for Practice s02-41 in this cell.\n",
        "\n",
        "\n",
        "\n"
      ],
      "metadata": {
        "id": "rJhYtZPzFI3z"
      },
      "execution_count": null,
      "outputs": []
    },
    {
      "cell_type": "markdown",
      "source": [
        "# Sample Python script \"ai2023_s02_15_02.py\"\n"
      ],
      "metadata": {
        "id": "TkYO3HvWFRGk"
      }
    },
    {
      "cell_type": "code",
      "source": [
        "# Run this cell to show the source code.\n",
        "\n",
        "!cat ai2023_s02_15_02.py"
      ],
      "metadata": {
        "id": "2dnda9XgFRGm"
      },
      "execution_count": null,
      "outputs": []
    },
    {
      "cell_type": "code",
      "source": [
        "# Run this cell to execute the script.\n",
        "\n",
        "!python3.10 ai2023_s02_15_02.py"
      ],
      "metadata": {
        "id": "7AQpsUpYFRGo"
      },
      "execution_count": null,
      "outputs": []
    },
    {
      "cell_type": "markdown",
      "source": [
        "# Practice s02-42"
      ],
      "metadata": {
        "id": "Fp3b3uPvFRGq"
      }
    },
    {
      "cell_type": "code",
      "source": [
        "# Write down your code for Practice s02-42 in this cell.\n",
        "\n",
        "\n",
        "\n"
      ],
      "metadata": {
        "id": "YQ6Xqr97FRGt"
      },
      "execution_count": null,
      "outputs": []
    },
    {
      "cell_type": "markdown",
      "source": [
        "# End of this notebook #"
      ],
      "metadata": {
        "id": "teAAJRfsFXW9"
      }
    },
    {
      "cell_type": "code",
      "source": [],
      "metadata": {
        "id": "LxGKuCI6FZQ6"
      },
      "execution_count": null,
      "outputs": []
    }
  ]
}