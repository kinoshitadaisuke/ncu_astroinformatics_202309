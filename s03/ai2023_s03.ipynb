{
  "nbformat": 4,
  "nbformat_minor": 0,
  "metadata": {
    "colab": {
      "provenance": []
    },
    "kernelspec": {
      "name": "python3",
      "display_name": "Python 3"
    },
    "language_info": {
      "name": "python"
    }
  },
  "cells": [
    {
      "cell_type": "markdown",
      "metadata": {
        "id": "X9F8FTGZzaSe"
      },
      "source": [
        "# AS6095 \"Astroinformatics\"\n",
        "\n",
        "## for academic year 2023 (from Sep/2023 to Jan/2024)\n",
        "\n",
        "## instructor: Kinoshita Daisuke\n",
        "\n",
        "## Course web page: https://s3b.astro.ncu.edu.tw/ai_202309/\n",
        "\n",
        "## GitHub repository: https://github.com/kinoshitadaisuke/ncu_astroinformatics_202309\n"
      ]
    },
    {
      "cell_type": "markdown",
      "metadata": {
        "id": "MKQ0pdfJCZ1I"
      },
      "source": [
        "# Session 03 \"Using Numpy for calculations\"\n",
        "\n",
        "## 25 September 2023\n"
      ]
    },
    {
      "cell_type": "markdown",
      "metadata": {
        "id": "FVmonUCL197r"
      },
      "source": [
        "# Downloading a set of sample Python scripts and changing directory"
      ]
    },
    {
      "cell_type": "code",
      "execution_count": null,
      "metadata": {
        "id": "E-J1KLJAzmx5"
      },
      "outputs": [],
      "source": [
        "# Run this cell to download a set of sample Python scripts for this course.\n",
        "\n",
        "!git clone https://github.com/kinoshitadaisuke/ncu_astroinformatics_202309.git"
      ]
    },
    {
      "cell_type": "code",
      "execution_count": null,
      "metadata": {
        "id": "NU4Otc0i2jfu"
      },
      "outputs": [],
      "source": [
        "# Run this cell to check whether you have a directory named \"ncu_astroinformatics_202309\".\n",
        "\n",
        "!ls"
      ]
    },
    {
      "cell_type": "code",
      "execution_count": null,
      "metadata": {
        "id": "faZRhZv821VY"
      },
      "outputs": [],
      "source": [
        "# Run this cell to move to the directory \"ncu_astroinformatics_202309\".\n",
        "\n",
        "%cd ncu_astroinformatics_202309"
      ]
    },
    {
      "cell_type": "code",
      "execution_count": null,
      "metadata": {
        "id": "hUjHlUZk3Bov"
      },
      "outputs": [],
      "source": [
        "# Run this cell to show currently working directory.\n",
        "\n",
        "!pwd"
      ]
    },
    {
      "cell_type": "code",
      "execution_count": null,
      "metadata": {
        "id": "RXAGJHeX3IsD"
      },
      "outputs": [],
      "source": [
        "# Run this cell to show files and directories.\n",
        "\n",
        "!ls -lF"
      ]
    },
    {
      "cell_type": "code",
      "execution_count": null,
      "metadata": {
        "id": "xR0V8I0k3O3k"
      },
      "outputs": [],
      "source": [
        "# Run this cell to move to the directory \"s03\".\n",
        "\n",
        "%cd s03"
      ]
    },
    {
      "cell_type": "code",
      "execution_count": null,
      "metadata": {
        "id": "KbvQ_3Su3UKL"
      },
      "outputs": [],
      "source": [
        "# Run this cell to show currently working directory.\n",
        "\n",
        "!pwd"
      ]
    },
    {
      "cell_type": "code",
      "execution_count": null,
      "metadata": {
        "id": "n9AAgI4d3c6n"
      },
      "outputs": [],
      "source": [
        "# Run this cell to show files and directories.\n",
        "\n",
        "!ls -lF"
      ]
    },
    {
      "cell_type": "markdown",
      "source": [
        "# Installation of Numpy"
      ],
      "metadata": {
        "id": "o5lIPX8O5rOI"
      }
    },
    {
      "cell_type": "code",
      "source": [
        "# Run this cell to install Numpy\n",
        "\n",
        "!pip install numpy"
      ],
      "metadata": {
        "id": "e3ey6jU65uo1"
      },
      "execution_count": null,
      "outputs": []
    },
    {
      "cell_type": "markdown",
      "metadata": {
        "id": "3kDY3MHR4Vxj"
      },
      "source": [
        "# Sample Python script \"ai2023_s03_00_00.py\"\n"
      ]
    },
    {
      "cell_type": "code",
      "execution_count": null,
      "metadata": {
        "id": "tRN2oeq_4eoZ"
      },
      "outputs": [],
      "source": [
        "# Run this cell to show the source code.\n",
        "\n",
        "!cat ai2023_s03_00_00.py"
      ]
    },
    {
      "cell_type": "code",
      "execution_count": null,
      "metadata": {
        "id": "0W7Vb0874m_H"
      },
      "outputs": [],
      "source": [
        "# Run this cell to execute the script.\n",
        "\n",
        "!python3.10 ai2023_s03_00_00.py"
      ]
    },
    {
      "cell_type": "markdown",
      "metadata": {
        "id": "SNETVMoz6fRd"
      },
      "source": [
        "# Practice s03-01"
      ]
    },
    {
      "cell_type": "code",
      "execution_count": null,
      "metadata": {
        "id": "JllPWrQn6rOm"
      },
      "outputs": [],
      "source": [
        "# Write down your code for Practice s03-01 in this cell.\n",
        "\n",
        "\n",
        "\n"
      ]
    },
    {
      "cell_type": "markdown",
      "metadata": {
        "id": "wsBImnEG4mpS"
      },
      "source": [
        "# Sample Python script \"ai2023_s03_00_01.py\"\n"
      ]
    },
    {
      "cell_type": "code",
      "execution_count": null,
      "metadata": {
        "id": "XVD8QI404mpU"
      },
      "outputs": [],
      "source": [
        "# Run this cell to show the source code.\n",
        "\n",
        "!cat ai2023_s03_00_01.py"
      ]
    },
    {
      "cell_type": "code",
      "execution_count": null,
      "metadata": {
        "id": "i6L0E_UY4mpW"
      },
      "outputs": [],
      "source": [
        "# Run this cell to execute the script.\n",
        "\n",
        "!python3.10 ai2023_s03_00_01.py"
      ]
    },
    {
      "cell_type": "markdown",
      "metadata": {
        "id": "stYBaHzO4mpW"
      },
      "source": [
        "# Practice s03-02"
      ]
    },
    {
      "cell_type": "code",
      "execution_count": null,
      "metadata": {
        "id": "6Y8WeEYt4mpX"
      },
      "outputs": [],
      "source": [
        "# Write down your code for Practice s03-02 in this cell.\n",
        "\n",
        "\n",
        "\n"
      ]
    },
    {
      "cell_type": "markdown",
      "metadata": {
        "id": "n2YoW-Ug4w1C"
      },
      "source": [
        "# Sample Python script \"ai2023_s03_00_02.py\"\n"
      ]
    },
    {
      "cell_type": "code",
      "execution_count": null,
      "metadata": {
        "id": "7eAIY1zt4w1D"
      },
      "outputs": [],
      "source": [
        "# Run this cell to show the source code.\n",
        "\n",
        "!cat ai2023_s03_00_02.py"
      ]
    },
    {
      "cell_type": "code",
      "execution_count": null,
      "metadata": {
        "id": "MIARGCru4w1F"
      },
      "outputs": [],
      "source": [
        "# Run this cell to execute the script.\n",
        "\n",
        "!python3.10 ai2023_s03_00_02.py"
      ]
    },
    {
      "cell_type": "markdown",
      "metadata": {
        "id": "nlS9Ukq-4w1G"
      },
      "source": [
        "# Practice s03-03"
      ]
    },
    {
      "cell_type": "code",
      "execution_count": null,
      "metadata": {
        "id": "sHVqS5474w1H"
      },
      "outputs": [],
      "source": [
        "# Write down your code for Practice s03-03 in this cell.\n",
        "\n",
        "\n",
        "\n"
      ]
    },
    {
      "cell_type": "markdown",
      "metadata": {
        "id": "vcUEG3L245-D"
      },
      "source": [
        "# Sample Python script \"ai2023_s03_01_00.py\"\n"
      ]
    },
    {
      "cell_type": "code",
      "execution_count": null,
      "metadata": {
        "id": "ViO5ohWK45-G"
      },
      "outputs": [],
      "source": [
        "# Run this cell to show the source code.\n",
        "\n",
        "!cat ai2023_s03_01_00.py"
      ]
    },
    {
      "cell_type": "code",
      "execution_count": null,
      "metadata": {
        "id": "KzKynWCA45-I"
      },
      "outputs": [],
      "source": [
        "# Run this cell to execute the script.\n",
        "\n",
        "!python3.10 ai2023_s03_01_00.py"
      ]
    },
    {
      "cell_type": "markdown",
      "metadata": {
        "id": "cx1yrztD45-J"
      },
      "source": [
        "# Practice s03-04"
      ]
    },
    {
      "cell_type": "code",
      "execution_count": null,
      "metadata": {
        "id": "VXeWmKOK45-L"
      },
      "outputs": [],
      "source": [
        "# Write down your code for Practice s03-04 in this cell.\n",
        "\n",
        "\n",
        "\n"
      ]
    },
    {
      "cell_type": "markdown",
      "metadata": {
        "id": "OvEKT0ch5CvL"
      },
      "source": [
        "# Sample Python script \"ai2023_s03_01_01.py\"\n"
      ]
    },
    {
      "cell_type": "code",
      "execution_count": null,
      "metadata": {
        "id": "NGYQWVam5CvM"
      },
      "outputs": [],
      "source": [
        "# Run this cell to show the source code.\n",
        "\n",
        "!cat ai2023_s03_01_01.py"
      ]
    },
    {
      "cell_type": "code",
      "execution_count": null,
      "metadata": {
        "id": "-kRyJfUo5CvM"
      },
      "outputs": [],
      "source": [
        "# Run this cell to execute the script.\n",
        "\n",
        "!python3.10 ai2023_s03_01_01.py"
      ]
    },
    {
      "cell_type": "markdown",
      "metadata": {
        "id": "nS4HlwKH5CvN"
      },
      "source": [
        "# Practice s03-05"
      ]
    },
    {
      "cell_type": "code",
      "execution_count": null,
      "metadata": {
        "id": "C3dZZVjK5CvO"
      },
      "outputs": [],
      "source": [
        "# Write down your code for Practice s03-05 in this cell.\n",
        "\n",
        "\n",
        "\n"
      ]
    },
    {
      "cell_type": "markdown",
      "metadata": {
        "id": "vu4gH0L75Jh7"
      },
      "source": [
        "# Sample Python script \"ai2023_s03_01_02.py\"\n"
      ]
    },
    {
      "cell_type": "code",
      "execution_count": null,
      "metadata": {
        "id": "RFpe-ZaY5Jh9"
      },
      "outputs": [],
      "source": [
        "# Run this cell to show the source code.\n",
        "\n",
        "!cat ai2023_s03_01_02.py"
      ]
    },
    {
      "cell_type": "code",
      "execution_count": null,
      "metadata": {
        "id": "syMkoGHc5Jh_"
      },
      "outputs": [],
      "source": [
        "# Run this cell to execute the script.\n",
        "\n",
        "!python3.10 ai2023_s03_01_02.py"
      ]
    },
    {
      "cell_type": "markdown",
      "metadata": {
        "id": "h6JJ4teB5JiA"
      },
      "source": [
        "# Practice s03-06"
      ]
    },
    {
      "cell_type": "code",
      "execution_count": null,
      "metadata": {
        "id": "51GQH1sB5JiB"
      },
      "outputs": [],
      "source": [
        "# Write down your code for Practice s03-06 in this cell.\n",
        "\n",
        "\n",
        "\n"
      ]
    },
    {
      "cell_type": "markdown",
      "metadata": {
        "id": "iQqU6J355QNN"
      },
      "source": [
        "# Sample Python script \"ai2023_s03_01_03.py\"\n"
      ]
    },
    {
      "cell_type": "code",
      "execution_count": null,
      "metadata": {
        "id": "ve2MWQtf5QNQ"
      },
      "outputs": [],
      "source": [
        "# Run this cell to show the source code.\n",
        "\n",
        "!cat ai2023_s03_01_03.py"
      ]
    },
    {
      "cell_type": "code",
      "execution_count": null,
      "metadata": {
        "id": "443HIQTd5QNT"
      },
      "outputs": [],
      "source": [
        "# Run this cell to execute the script.\n",
        "\n",
        "!python3.10 ai2023_s03_01_03.py"
      ]
    },
    {
      "cell_type": "markdown",
      "metadata": {
        "id": "8jDI5fCQ5QNU"
      },
      "source": [
        "# Practice s03-07"
      ]
    },
    {
      "cell_type": "code",
      "execution_count": null,
      "metadata": {
        "id": "JNxffTYO5QNX"
      },
      "outputs": [],
      "source": [
        "# Write down your code for Practice s03-07 in this cell.\n",
        "\n",
        "\n",
        "\n"
      ]
    },
    {
      "cell_type": "markdown",
      "metadata": {
        "id": "0QrxaSA-5bdc"
      },
      "source": [
        "# Sample Python script \"ai2023_s03_02_00.py\"\n"
      ]
    },
    {
      "cell_type": "code",
      "execution_count": null,
      "metadata": {
        "id": "MFgBGosI5bdf"
      },
      "outputs": [],
      "source": [
        "# Run this cell to show the source code.\n",
        "\n",
        "!cat ai2023_s03_02_00.py"
      ]
    },
    {
      "cell_type": "code",
      "execution_count": null,
      "metadata": {
        "id": "qkRHqTz15bdi"
      },
      "outputs": [],
      "source": [
        "# Run this cell to execute the script.\n",
        "\n",
        "!python3.10 ai2023_s03_02_00.py"
      ]
    },
    {
      "cell_type": "markdown",
      "metadata": {
        "id": "dTXtdG985bdj"
      },
      "source": [
        "# Practice s03-08"
      ]
    },
    {
      "cell_type": "code",
      "execution_count": null,
      "metadata": {
        "id": "oEEPhcxE5bdl"
      },
      "outputs": [],
      "source": [
        "# Write down your code for Practice s03-08 in this cell.\n",
        "\n",
        "\n",
        "\n"
      ]
    },
    {
      "cell_type": "markdown",
      "metadata": {
        "id": "8X9Bsh5n5jo0"
      },
      "source": [
        "# Sample Python script \"ai2023_s03_02_01.py\"\n"
      ]
    },
    {
      "cell_type": "code",
      "execution_count": null,
      "metadata": {
        "id": "zPjyuxkP5jo2"
      },
      "outputs": [],
      "source": [
        "# Run this cell to show the source code.\n",
        "\n",
        "!cat ai2023_s03_02_01.py"
      ]
    },
    {
      "cell_type": "code",
      "execution_count": null,
      "metadata": {
        "id": "9tUW5mGP5jo3"
      },
      "outputs": [],
      "source": [
        "# Run this cell to execute the script.\n",
        "\n",
        "!python3.10 ai2023_s03_02_01.py"
      ]
    },
    {
      "cell_type": "markdown",
      "metadata": {
        "id": "dHstopfs5jo4"
      },
      "source": [
        "# Practice s03-09"
      ]
    },
    {
      "cell_type": "code",
      "execution_count": null,
      "metadata": {
        "id": "yF5AAMZ45jo5"
      },
      "outputs": [],
      "source": [
        "# Write down your code for Practice s03-09 in this cell.\n",
        "\n",
        "\n",
        "\n"
      ]
    },
    {
      "cell_type": "markdown",
      "metadata": {
        "id": "LQ4WA0OU5rF-"
      },
      "source": [
        "# Sample Python script \"ai2023_s03_02_02.py\"\n"
      ]
    },
    {
      "cell_type": "code",
      "execution_count": null,
      "metadata": {
        "id": "cvYuEvtT5rGA"
      },
      "outputs": [],
      "source": [
        "# Run this cell to show the source code.\n",
        "\n",
        "!cat ai2023_s03_02_02.py"
      ]
    },
    {
      "cell_type": "code",
      "execution_count": null,
      "metadata": {
        "id": "I3ndF5qK5rGB"
      },
      "outputs": [],
      "source": [
        "# Run this cell to execute the script.\n",
        "\n",
        "!python3.10 ai2023_s03_02_02.py"
      ]
    },
    {
      "cell_type": "markdown",
      "metadata": {
        "id": "S7Mu0di-5rGE"
      },
      "source": [
        "# Practice s03-10"
      ]
    },
    {
      "cell_type": "code",
      "execution_count": null,
      "metadata": {
        "id": "oe0T-cgZ5rGG"
      },
      "outputs": [],
      "source": [
        "# Write down your code for Practice s03-10 in this cell.\n",
        "\n",
        "\n",
        "\n"
      ]
    },
    {
      "cell_type": "markdown",
      "metadata": {
        "id": "sh_kC5TZ5yJU"
      },
      "source": [
        "# Sample Python script \"ai2023_s03_02_03.py\"\n"
      ]
    },
    {
      "cell_type": "code",
      "execution_count": null,
      "metadata": {
        "id": "K1r6D3S25yJV"
      },
      "outputs": [],
      "source": [
        "# Run this cell to show the source code.\n",
        "\n",
        "!cat ai2023_s03_02_03.py"
      ]
    },
    {
      "cell_type": "code",
      "execution_count": null,
      "metadata": {
        "id": "K0bhB5685yJW"
      },
      "outputs": [],
      "source": [
        "# Run this cell to execute the script.\n",
        "\n",
        "!python3.10 ai2023_s03_02_03.py"
      ]
    },
    {
      "cell_type": "markdown",
      "metadata": {
        "id": "GAOlTBLw5yJW"
      },
      "source": [
        "# Practice s03-11"
      ]
    },
    {
      "cell_type": "code",
      "execution_count": null,
      "metadata": {
        "id": "WADcjr6K5yJX"
      },
      "outputs": [],
      "source": [
        "# Write down your code for Practice s03-11 in this cell.\n",
        "\n",
        "\n",
        "\n"
      ]
    },
    {
      "cell_type": "markdown",
      "metadata": {
        "id": "-d9bT04056DW"
      },
      "source": [
        "# Sample Python script \"ai2023_s03_02_04.py\"\n"
      ]
    },
    {
      "cell_type": "code",
      "execution_count": null,
      "metadata": {
        "id": "bmvLnAAJ56Da"
      },
      "outputs": [],
      "source": [
        "# Run this cell to show the source code.\n",
        "\n",
        "!cat ai2023_s03_02_04.py"
      ]
    },
    {
      "cell_type": "code",
      "execution_count": null,
      "metadata": {
        "id": "vyiRSXsv56Dd"
      },
      "outputs": [],
      "source": [
        "# Run this cell to execute the script.\n",
        "\n",
        "!python3.10 ai2023_s03_02_04.py"
      ]
    },
    {
      "cell_type": "markdown",
      "metadata": {
        "id": "Fxgip73x5_iv"
      },
      "source": [
        "# Sample Python script \"ai2023_s03_02_05.py\"\n"
      ]
    },
    {
      "cell_type": "code",
      "execution_count": null,
      "metadata": {
        "id": "5SdbEtHz5_ix"
      },
      "outputs": [],
      "source": [
        "# Run this cell to show the source code.\n",
        "\n",
        "!cat ai2023_s03_02_05.py"
      ]
    },
    {
      "cell_type": "code",
      "execution_count": null,
      "metadata": {
        "id": "P63WQyw25_iy"
      },
      "outputs": [],
      "source": [
        "# Run this cell to execute the script.\n",
        "\n",
        "!python3.10 ai2023_s03_02_05.py"
      ]
    },
    {
      "cell_type": "markdown",
      "metadata": {
        "id": "52fFPev45_iz"
      },
      "source": [
        "# Practice s03-12"
      ]
    },
    {
      "cell_type": "code",
      "execution_count": null,
      "metadata": {
        "id": "DLF0EqyK5_iz"
      },
      "outputs": [],
      "source": [
        "# Write down your code for Practice s03-12 in this cell.\n",
        "\n",
        "\n",
        "\n"
      ]
    },
    {
      "cell_type": "markdown",
      "metadata": {
        "id": "6Km4xOmt6IjD"
      },
      "source": [
        "# Sample Python script \"ai2023_s03_02_06.py\"\n"
      ]
    },
    {
      "cell_type": "code",
      "execution_count": null,
      "metadata": {
        "id": "l_sJv-JM6IjJ"
      },
      "outputs": [],
      "source": [
        "# Run this cell to show the source code.\n",
        "\n",
        "!cat ai2023_s03_02_06.py"
      ]
    },
    {
      "cell_type": "code",
      "execution_count": null,
      "metadata": {
        "id": "RR_QPudM6IjO"
      },
      "outputs": [],
      "source": [
        "# Run this cell to execute the script.\n",
        "\n",
        "!python3.10 ai2023_s03_02_06.py"
      ]
    },
    {
      "cell_type": "markdown",
      "metadata": {
        "id": "F9SF_nsv6IjS"
      },
      "source": [
        "# Practice s03-13"
      ]
    },
    {
      "cell_type": "code",
      "execution_count": null,
      "metadata": {
        "id": "jMjU2lTh6IjW"
      },
      "outputs": [],
      "source": [
        "# Write down your code for Practice s03-13 in this cell.\n",
        "\n",
        "\n",
        "\n"
      ]
    },
    {
      "cell_type": "markdown",
      "metadata": {
        "id": "vYEHDMAl6O_p"
      },
      "source": [
        "# Sample Python script \"ai2023_s03_02_07.py\"\n"
      ]
    },
    {
      "cell_type": "code",
      "execution_count": null,
      "metadata": {
        "id": "28SwIR0G6O_t"
      },
      "outputs": [],
      "source": [
        "# Run this cell to show the source code.\n",
        "\n",
        "!cat ai2023_s03_02_07.py"
      ]
    },
    {
      "cell_type": "code",
      "execution_count": null,
      "metadata": {
        "id": "HAeBmawA6O_w"
      },
      "outputs": [],
      "source": [
        "# Run this cell to execute the script.\n",
        "\n",
        "!python3.10 ai2023_s03_02_07.py"
      ]
    },
    {
      "cell_type": "markdown",
      "metadata": {
        "id": "7YD5Yi_A6O_y"
      },
      "source": [
        "# Practice s03-14"
      ]
    },
    {
      "cell_type": "code",
      "execution_count": null,
      "metadata": {
        "id": "mN7KQ1UX6O_2"
      },
      "outputs": [],
      "source": [
        "# Write down your code for Practice s03-14 in this cell.\n",
        "\n",
        "\n",
        "\n"
      ]
    },
    {
      "cell_type": "markdown",
      "metadata": {
        "id": "xbafJrnm6VsN"
      },
      "source": [
        "# Sample Python script \"ai2023_s03_02_08.py\"\n"
      ]
    },
    {
      "cell_type": "code",
      "execution_count": null,
      "metadata": {
        "id": "10chQaQO6VsR"
      },
      "outputs": [],
      "source": [
        "# Run this cell to show the source code.\n",
        "\n",
        "!cat ai2023_s03_02_08.py"
      ]
    },
    {
      "cell_type": "code",
      "execution_count": null,
      "metadata": {
        "id": "xcd0-5jI6VsT"
      },
      "outputs": [],
      "source": [
        "# Run this cell to execute the script.\n",
        "\n",
        "!python3.10 ai2023_s03_02_08.py"
      ]
    },
    {
      "cell_type": "markdown",
      "metadata": {
        "id": "CKhRQmH_6VsU"
      },
      "source": [
        "# Practice s03-15"
      ]
    },
    {
      "cell_type": "code",
      "execution_count": null,
      "metadata": {
        "id": "cSb7eXH06VsW"
      },
      "outputs": [],
      "source": [
        "# Write down your code for Practice s03-15 in this cell.\n",
        "\n",
        "\n",
        "\n"
      ]
    },
    {
      "cell_type": "markdown",
      "metadata": {
        "id": "0EfVbOTS6cC1"
      },
      "source": [
        "# Sample Python script \"ai2023_s03_02_09.py\"\n"
      ]
    },
    {
      "cell_type": "code",
      "execution_count": null,
      "metadata": {
        "id": "kWXrNFH16cC3"
      },
      "outputs": [],
      "source": [
        "# Run this cell to show the source code.\n",
        "\n",
        "!cat ai2023_s03_02_09.py"
      ]
    },
    {
      "cell_type": "code",
      "execution_count": null,
      "metadata": {
        "id": "fA11dOgg6cC3"
      },
      "outputs": [],
      "source": [
        "# Run this cell to execute the script.\n",
        "\n",
        "!python3.10 ai2023_s03_02_09.py"
      ]
    },
    {
      "cell_type": "markdown",
      "metadata": {
        "id": "5Jooybp26cC4"
      },
      "source": [
        "# Practice s03-16"
      ]
    },
    {
      "cell_type": "code",
      "execution_count": null,
      "metadata": {
        "id": "v0XAmKHU6cC5"
      },
      "outputs": [],
      "source": [
        "# Write down your code for Practice s03-16 in this cell.\n",
        "\n",
        "\n",
        "\n"
      ]
    },
    {
      "cell_type": "markdown",
      "metadata": {
        "id": "pXphnGWl6iF0"
      },
      "source": [
        "# Sample Python script \"ai2023_s03_02_10.py\"\n"
      ]
    },
    {
      "cell_type": "code",
      "execution_count": null,
      "metadata": {
        "id": "P-ocP9Ut6iF1"
      },
      "outputs": [],
      "source": [
        "# Run this cell to show the source code.\n",
        "\n",
        "!cat ai2023_s03_02_10.py"
      ]
    },
    {
      "cell_type": "code",
      "execution_count": null,
      "metadata": {
        "id": "xlWe68T86iF2"
      },
      "outputs": [],
      "source": [
        "# Run this cell to execute the script.\n",
        "\n",
        "!python3.10 ai2023_s03_02_10.py"
      ]
    },
    {
      "cell_type": "markdown",
      "metadata": {
        "id": "W-bTvb996iF3"
      },
      "source": [
        "# Practice s03-17"
      ]
    },
    {
      "cell_type": "code",
      "execution_count": null,
      "metadata": {
        "id": "P954mkiH6iF3"
      },
      "outputs": [],
      "source": [
        "# Write down your code for Practice s03-17 in this cell.\n",
        "\n",
        "\n",
        "\n"
      ]
    },
    {
      "cell_type": "markdown",
      "metadata": {
        "id": "9lwsN9IH6ov2"
      },
      "source": [
        "# Sample Python script \"ai2023_s03_02_11.py\"\n"
      ]
    },
    {
      "cell_type": "code",
      "execution_count": null,
      "metadata": {
        "id": "xlePNGI06ov4"
      },
      "outputs": [],
      "source": [
        "# Run this cell to show the source code.\n",
        "\n",
        "!cat ai2023_s03_02_11.py"
      ]
    },
    {
      "cell_type": "code",
      "execution_count": null,
      "metadata": {
        "id": "H0QiriO86ov6"
      },
      "outputs": [],
      "source": [
        "# Run this cell to execute the script.\n",
        "\n",
        "!python3.10 ai2023_s03_02_11.py"
      ]
    },
    {
      "cell_type": "markdown",
      "metadata": {
        "id": "ANvkVun66ov7"
      },
      "source": [
        "# Practice s03-18"
      ]
    },
    {
      "cell_type": "code",
      "execution_count": null,
      "metadata": {
        "id": "TNWmSGUJ6ov9"
      },
      "outputs": [],
      "source": [
        "# Write down your code for Practice s03-18 in this cell.\n",
        "\n",
        "\n",
        "\n"
      ]
    },
    {
      "cell_type": "markdown",
      "metadata": {
        "id": "cCzVlj6c6xl4"
      },
      "source": [
        "# Sample Python script \"ai2023_s03_02_12.py\"\n"
      ]
    },
    {
      "cell_type": "code",
      "execution_count": null,
      "metadata": {
        "id": "tBaserXm6xl6"
      },
      "outputs": [],
      "source": [
        "# Run this cell to show the source code.\n",
        "\n",
        "!cat ai2023_s03_02_12.py"
      ]
    },
    {
      "cell_type": "code",
      "execution_count": null,
      "metadata": {
        "id": "CBmpDppR6xl8"
      },
      "outputs": [],
      "source": [
        "# Run this cell to execute the script.\n",
        "\n",
        "!python3.10 ai2023_s03_02_12.py"
      ]
    },
    {
      "cell_type": "markdown",
      "metadata": {
        "id": "RH8uarPr6xl-"
      },
      "source": [
        "# Practice s03-19"
      ]
    },
    {
      "cell_type": "code",
      "execution_count": null,
      "metadata": {
        "id": "04Cf6_uI6xmA"
      },
      "outputs": [],
      "source": [
        "# Write down your code for Practice s03-19 in this cell.\n",
        "\n",
        "\n",
        "\n"
      ]
    },
    {
      "cell_type": "markdown",
      "metadata": {
        "id": "W75u82hv63sA"
      },
      "source": [
        "# Sample Python script \"ai2023_s03_02_13.py\"\n"
      ]
    },
    {
      "cell_type": "code",
      "execution_count": null,
      "metadata": {
        "id": "MNtRgB8j63sC"
      },
      "outputs": [],
      "source": [
        "# Run this cell to show the source code.\n",
        "\n",
        "!cat ai2023_s03_02_13.py"
      ]
    },
    {
      "cell_type": "code",
      "execution_count": null,
      "metadata": {
        "id": "9rD8TG4W63sD"
      },
      "outputs": [],
      "source": [
        "# Run this cell to execute the script.\n",
        "\n",
        "!python3.10 ai2023_s03_02_13.py"
      ]
    },
    {
      "cell_type": "markdown",
      "metadata": {
        "id": "iRYlnRuL63sE"
      },
      "source": [
        "# Practice s03-20"
      ]
    },
    {
      "cell_type": "code",
      "execution_count": null,
      "metadata": {
        "id": "R2EfcIIR63sF"
      },
      "outputs": [],
      "source": [
        "# Write down your code for Practice s03-20 in this cell.\n",
        "\n",
        "\n",
        "\n"
      ]
    },
    {
      "cell_type": "markdown",
      "metadata": {
        "id": "cxUeQ1s_69mK"
      },
      "source": [
        "# Sample Python script \"ai2023_s03_02_14.py\"\n"
      ]
    },
    {
      "cell_type": "code",
      "execution_count": null,
      "metadata": {
        "id": "4L-UL6Fb69mM"
      },
      "outputs": [],
      "source": [
        "# Run this cell to show the source code.\n",
        "\n",
        "!cat ai2023_s03_02_14.py"
      ]
    },
    {
      "cell_type": "code",
      "execution_count": null,
      "metadata": {
        "id": "QjFSDvek69mN"
      },
      "outputs": [],
      "source": [
        "# Run this cell to execute the script.\n",
        "\n",
        "!python3.10 ai2023_s03_02_14.py"
      ]
    },
    {
      "cell_type": "markdown",
      "metadata": {
        "id": "B5ImWn6Q69mO"
      },
      "source": [
        "# Practice s03-21"
      ]
    },
    {
      "cell_type": "code",
      "execution_count": null,
      "metadata": {
        "id": "iR5e07SW69mP"
      },
      "outputs": [],
      "source": [
        "# Write down your code for Practice s03-21 in this cell.\n",
        "\n",
        "\n",
        "\n"
      ]
    },
    {
      "cell_type": "markdown",
      "metadata": {
        "id": "rAuITUIB7Dkz"
      },
      "source": [
        "# Sample Python script \"ai2023_s03_02_15.py\"\n"
      ]
    },
    {
      "cell_type": "code",
      "execution_count": null,
      "metadata": {
        "id": "PvmRMNoO7Dk1"
      },
      "outputs": [],
      "source": [
        "# Run this cell to show the source code.\n",
        "\n",
        "!cat ai2023_s03_02_15.py"
      ]
    },
    {
      "cell_type": "code",
      "execution_count": null,
      "metadata": {
        "id": "yDF-HsIb7Dk3"
      },
      "outputs": [],
      "source": [
        "# Run this cell to execute the script.\n",
        "\n",
        "!python3.10 ai2023_s03_02_15.py"
      ]
    },
    {
      "cell_type": "markdown",
      "metadata": {
        "id": "dd9aBBRG7Dk4"
      },
      "source": [
        "# Practice s03-22"
      ]
    },
    {
      "cell_type": "code",
      "execution_count": null,
      "metadata": {
        "id": "YRoysCQH7Dk5"
      },
      "outputs": [],
      "source": [
        "# Write down your code for Practice s03-22 in this cell.\n",
        "\n",
        "\n",
        "\n"
      ]
    },
    {
      "cell_type": "markdown",
      "metadata": {
        "id": "keBAvQSZ7JUt"
      },
      "source": [
        "# Sample Python script \"ai2023_s03_02_16.py\"\n"
      ]
    },
    {
      "cell_type": "code",
      "execution_count": null,
      "metadata": {
        "id": "UytwEw9a7JUx"
      },
      "outputs": [],
      "source": [
        "# Run this cell to show the source code.\n",
        "\n",
        "!cat ai2023_s03_02_16.py"
      ]
    },
    {
      "cell_type": "code",
      "execution_count": null,
      "metadata": {
        "id": "DEdhMX2m7JU2"
      },
      "outputs": [],
      "source": [
        "# Run this cell to execute the script.\n",
        "\n",
        "!python3.10 ai2023_s03_02_16.py"
      ]
    },
    {
      "cell_type": "markdown",
      "metadata": {
        "id": "C7dizyLT7JU6"
      },
      "source": [
        "# Practice s03-23"
      ]
    },
    {
      "cell_type": "code",
      "execution_count": null,
      "metadata": {
        "id": "3KotM-Aj7JU8"
      },
      "outputs": [],
      "source": [
        "# Write down your code for Practice s03-23 in this cell.\n",
        "\n",
        "\n",
        "\n"
      ]
    },
    {
      "cell_type": "markdown",
      "metadata": {
        "id": "7qnyhOzG7P4u"
      },
      "source": [
        "# Sample Python script \"ai2023_s03_02_17.py\"\n"
      ]
    },
    {
      "cell_type": "code",
      "execution_count": null,
      "metadata": {
        "id": "m7XomJyU7P4v"
      },
      "outputs": [],
      "source": [
        "# Run this cell to show the source code.\n",
        "\n",
        "!cat ai2023_s03_02_17.py"
      ]
    },
    {
      "cell_type": "code",
      "execution_count": null,
      "metadata": {
        "id": "kxcHP2v97P4w"
      },
      "outputs": [],
      "source": [
        "# Run this cell to execute the script.\n",
        "\n",
        "!python3.10 ai2023_s03_02_17.py"
      ]
    },
    {
      "cell_type": "markdown",
      "metadata": {
        "id": "gZQckWHx7P4x"
      },
      "source": [
        "# Practice s03-24"
      ]
    },
    {
      "cell_type": "code",
      "execution_count": null,
      "metadata": {
        "id": "8s2bDmsd7P4y"
      },
      "outputs": [],
      "source": [
        "# Write down your code for Practice s03-24 in this cell.\n",
        "\n",
        "\n",
        "\n"
      ]
    },
    {
      "cell_type": "markdown",
      "metadata": {
        "id": "APBWb6bI7Wyq"
      },
      "source": [
        "# Sample Python script \"ai2023_s03_02_18.py\"\n"
      ]
    },
    {
      "cell_type": "code",
      "execution_count": null,
      "metadata": {
        "id": "QPkTqB3C7Wyt"
      },
      "outputs": [],
      "source": [
        "# Run this cell to show the source code.\n",
        "\n",
        "!cat ai2023_s03_02_18.py"
      ]
    },
    {
      "cell_type": "code",
      "execution_count": null,
      "metadata": {
        "id": "Jhb9zB637Wyu"
      },
      "outputs": [],
      "source": [
        "# Run this cell to execute the script.\n",
        "\n",
        "!python3.10 ai2023_s03_02_18.py"
      ]
    },
    {
      "cell_type": "markdown",
      "metadata": {
        "id": "sMG9pPul7Wyu"
      },
      "source": [
        "# Practice s03-25"
      ]
    },
    {
      "cell_type": "code",
      "execution_count": null,
      "metadata": {
        "id": "f17rdPon7Wyv"
      },
      "outputs": [],
      "source": [
        "# Write down your code for Practice s03-25 in this cell.\n",
        "\n",
        "\n",
        "\n"
      ]
    },
    {
      "cell_type": "markdown",
      "metadata": {
        "id": "qGD32kzg7i6W"
      },
      "source": [
        "# Sample Python script \"ai2023_s03_03_00.py\"\n"
      ]
    },
    {
      "cell_type": "code",
      "execution_count": null,
      "metadata": {
        "id": "teNSfKZR7i6Y"
      },
      "outputs": [],
      "source": [
        "# Run this cell to show the source code.\n",
        "\n",
        "!cat ai2023_s03_03_00.py"
      ]
    },
    {
      "cell_type": "code",
      "execution_count": null,
      "metadata": {
        "id": "NAj5mXxi7i6Z"
      },
      "outputs": [],
      "source": [
        "# Run this cell to execute the script.\n",
        "\n",
        "!python3.10 ai2023_s03_03_00.py"
      ]
    },
    {
      "cell_type": "markdown",
      "metadata": {
        "id": "-oY3CWNo7i6a"
      },
      "source": [
        "# Practice s03-26"
      ]
    },
    {
      "cell_type": "code",
      "execution_count": null,
      "metadata": {
        "id": "A6LnFxw67i6b"
      },
      "outputs": [],
      "source": [
        "# Write down your code for Practice s03-26 in this cell.\n",
        "\n",
        "\n",
        "\n"
      ]
    },
    {
      "cell_type": "markdown",
      "metadata": {
        "id": "bNVEhfu67r98"
      },
      "source": [
        "# Sample Python script \"ai2023_s03_03_01.py\"\n"
      ]
    },
    {
      "cell_type": "code",
      "execution_count": null,
      "metadata": {
        "id": "NlplPkKP7r9_"
      },
      "outputs": [],
      "source": [
        "# Run this cell to show the source code.\n",
        "\n",
        "!cat ai2023_s03_03_01.py"
      ]
    },
    {
      "cell_type": "code",
      "execution_count": null,
      "metadata": {
        "id": "0bdtgBTT7r-A"
      },
      "outputs": [],
      "source": [
        "# Run this cell to execute the script.\n",
        "\n",
        "!python3.10 ai2023_s03_03_01.py"
      ]
    },
    {
      "cell_type": "markdown",
      "metadata": {
        "id": "ppw3r25l7r-C"
      },
      "source": [
        "# Practice s03-27"
      ]
    },
    {
      "cell_type": "code",
      "execution_count": null,
      "metadata": {
        "id": "1lAA-Ahv7r-C"
      },
      "outputs": [],
      "source": [
        "# Write down your code for Practice s03-27 in this cell.\n",
        "\n",
        "\n",
        "\n"
      ]
    },
    {
      "cell_type": "markdown",
      "metadata": {
        "id": "ijbkzwtX70Xc"
      },
      "source": [
        "# Sample Python script \"ai2023_s03_03_02.py\"\n"
      ]
    },
    {
      "cell_type": "code",
      "execution_count": null,
      "metadata": {
        "id": "zsncOTXK70Xe"
      },
      "outputs": [],
      "source": [
        "# Run this cell to show the source code.\n",
        "\n",
        "!cat ai2023_s03_03_02.py"
      ]
    },
    {
      "cell_type": "code",
      "execution_count": null,
      "metadata": {
        "id": "yxKR9zER70Xf"
      },
      "outputs": [],
      "source": [
        "# Run this cell to execute the script.\n",
        "\n",
        "!python3.10 ai2023_s03_03_02.py"
      ]
    },
    {
      "cell_type": "markdown",
      "metadata": {
        "id": "mvqYltmi70Xh"
      },
      "source": [
        "# Practice s03-28"
      ]
    },
    {
      "cell_type": "code",
      "execution_count": null,
      "metadata": {
        "id": "RWlFx5GZ70Xh"
      },
      "outputs": [],
      "source": [
        "# Write down your code for Practice s03-28 in this cell.\n",
        "\n",
        "\n",
        "\n"
      ]
    },
    {
      "cell_type": "markdown",
      "metadata": {
        "id": "ZwNK3daa77Gw"
      },
      "source": [
        "# Sample Python script \"ai2023_s03_03_03.py\"\n"
      ]
    },
    {
      "cell_type": "code",
      "execution_count": null,
      "metadata": {
        "id": "vqLx6HpG77Gz"
      },
      "outputs": [],
      "source": [
        "# Run this cell to show the source code.\n",
        "\n",
        "!cat ai2023_s03_03_03.py"
      ]
    },
    {
      "cell_type": "code",
      "execution_count": null,
      "metadata": {
        "id": "lxFvHZJ977G0"
      },
      "outputs": [],
      "source": [
        "# Run this cell to execute the script.\n",
        "\n",
        "!python3.10 ai2023_s03_03_03.py"
      ]
    },
    {
      "cell_type": "markdown",
      "metadata": {
        "id": "KJFuvDYQ77G2"
      },
      "source": [
        "# Practice s03-29"
      ]
    },
    {
      "cell_type": "code",
      "execution_count": null,
      "metadata": {
        "id": "UYfHD6y-77G3"
      },
      "outputs": [],
      "source": [
        "# Write down your code for Practice s03-29 in this cell.\n",
        "\n",
        "\n",
        "\n"
      ]
    },
    {
      "cell_type": "markdown",
      "metadata": {
        "id": "88q7PQ9Y8Bag"
      },
      "source": [
        "# Sample Python script \"ai2023_s03_03_04.py\"\n"
      ]
    },
    {
      "cell_type": "code",
      "execution_count": null,
      "metadata": {
        "id": "EVEU2Lds8Bah"
      },
      "outputs": [],
      "source": [
        "# Run this cell to show the source code.\n",
        "\n",
        "!cat ai2023_s03_03_04.py"
      ]
    },
    {
      "cell_type": "code",
      "execution_count": null,
      "metadata": {
        "id": "8_q5FnFS8Bah"
      },
      "outputs": [],
      "source": [
        "# Run this cell to execute the script.\n",
        "\n",
        "!python3.10 ai2023_s03_03_04.py"
      ]
    },
    {
      "cell_type": "markdown",
      "metadata": {
        "id": "IVGYm-P28Baj"
      },
      "source": [
        "# Practice s03-30"
      ]
    },
    {
      "cell_type": "code",
      "execution_count": null,
      "metadata": {
        "id": "mZILtsQf8Baj"
      },
      "outputs": [],
      "source": [
        "# Write down your code for Practice s03-30 in this cell.\n",
        "\n",
        "\n",
        "\n"
      ]
    },
    {
      "cell_type": "markdown",
      "metadata": {
        "id": "AEmvmU1j8H0Y"
      },
      "source": [
        "# Sample Python script \"ai2023_s03_03_05.py\"\n"
      ]
    },
    {
      "cell_type": "code",
      "execution_count": null,
      "metadata": {
        "id": "RNkuIH_p8H0Z"
      },
      "outputs": [],
      "source": [
        "# Run this cell to show the source code.\n",
        "\n",
        "!cat ai2023_s03_03_05.py"
      ]
    },
    {
      "cell_type": "code",
      "execution_count": null,
      "metadata": {
        "id": "tXt3w_aY8H0b"
      },
      "outputs": [],
      "source": [
        "# Run this cell to execute the script.\n",
        "\n",
        "!python3.10 ai2023_s03_03_05.py"
      ]
    },
    {
      "cell_type": "markdown",
      "metadata": {
        "id": "ArANzo-N8H0c"
      },
      "source": [
        "# Practice s03-31"
      ]
    },
    {
      "cell_type": "code",
      "execution_count": null,
      "metadata": {
        "id": "MH0WtZOz8H0d"
      },
      "outputs": [],
      "source": [
        "# Write down your code for Practice s03-31 in this cell.\n",
        "\n",
        "\n",
        "\n"
      ]
    },
    {
      "cell_type": "markdown",
      "metadata": {
        "id": "_Q4q-6PO8NYz"
      },
      "source": [
        "# Sample Python script \"ai2023_s03_03_06.py\"\n"
      ]
    },
    {
      "cell_type": "code",
      "execution_count": null,
      "metadata": {
        "id": "Zw9m17w48NY2"
      },
      "outputs": [],
      "source": [
        "# Run this cell to show the source code.\n",
        "\n",
        "!cat ai2023_s03_03_06.py"
      ]
    },
    {
      "cell_type": "code",
      "execution_count": null,
      "metadata": {
        "id": "v_2G_sBD8NY4"
      },
      "outputs": [],
      "source": [
        "# Run this cell to execute the script.\n",
        "\n",
        "!python3.10 ai2023_s03_03_06.py"
      ]
    },
    {
      "cell_type": "markdown",
      "metadata": {
        "id": "fe1cBB528NY6"
      },
      "source": [
        "# Practice s03-32"
      ]
    },
    {
      "cell_type": "code",
      "execution_count": null,
      "metadata": {
        "id": "NphAcOn48NY8"
      },
      "outputs": [],
      "source": [
        "# Write down your code for Practice s03-32 in this cell.\n",
        "\n",
        "\n",
        "\n"
      ]
    },
    {
      "cell_type": "markdown",
      "metadata": {
        "id": "87Vy-ptl8UXo"
      },
      "source": [
        "# Sample Python script \"ai2023_s03_04_00.py\"\n"
      ]
    },
    {
      "cell_type": "code",
      "execution_count": null,
      "metadata": {
        "id": "5mJYZg158UXr"
      },
      "outputs": [],
      "source": [
        "# Run this cell to show the source code.\n",
        "\n",
        "!cat ai2023_s03_04_00.py"
      ]
    },
    {
      "cell_type": "code",
      "execution_count": null,
      "metadata": {
        "id": "S1iYti6j8UXs"
      },
      "outputs": [],
      "source": [
        "# Run this cell to execute the script.\n",
        "\n",
        "!python3.10 ai2023_s03_04_00.py"
      ]
    },
    {
      "cell_type": "markdown",
      "metadata": {
        "id": "GRqZ__Qf8UXv"
      },
      "source": [
        "# Practice s03-33"
      ]
    },
    {
      "cell_type": "code",
      "execution_count": null,
      "metadata": {
        "id": "p-lt3oBj8UXw"
      },
      "outputs": [],
      "source": [
        "# Write down your code for Practice s03-33 in this cell.\n",
        "\n",
        "\n",
        "\n"
      ]
    },
    {
      "cell_type": "markdown",
      "metadata": {
        "id": "UAKoCUBq8dGs"
      },
      "source": [
        "# Sample Python script \"ai2023_s03_04_01.py\"\n"
      ]
    },
    {
      "cell_type": "code",
      "execution_count": null,
      "metadata": {
        "id": "ZnoOXqca8dGu"
      },
      "outputs": [],
      "source": [
        "# Run this cell to show the source code.\n",
        "\n",
        "!cat ai2023_s03_04_01.py"
      ]
    },
    {
      "cell_type": "code",
      "execution_count": null,
      "metadata": {
        "id": "fDNznykD8dGv"
      },
      "outputs": [],
      "source": [
        "# Run this cell to execute the script.\n",
        "\n",
        "!python3.10 ai2023_s03_04_01.py"
      ]
    },
    {
      "cell_type": "markdown",
      "metadata": {
        "id": "YuneOa3k8dGv"
      },
      "source": [
        "# Practice s03-34"
      ]
    },
    {
      "cell_type": "code",
      "execution_count": null,
      "metadata": {
        "id": "ghCRmfo-8dGx"
      },
      "outputs": [],
      "source": [
        "# Write down your code for Practice s03-34 in this cell.\n",
        "\n",
        "\n",
        "\n"
      ]
    },
    {
      "cell_type": "markdown",
      "metadata": {
        "id": "F6m2h0qT8j-M"
      },
      "source": [
        "# Sample Python script \"ai2023_s03_05_00.py\"\n"
      ]
    },
    {
      "cell_type": "code",
      "execution_count": null,
      "metadata": {
        "id": "a5zV8tZC8j-O"
      },
      "outputs": [],
      "source": [
        "# Run this cell to show the source code.\n",
        "\n",
        "!cat ai2023_s03_05_00.py"
      ]
    },
    {
      "cell_type": "code",
      "execution_count": null,
      "metadata": {
        "id": "voTWSwrR8j-Q"
      },
      "outputs": [],
      "source": [
        "# Run this cell to execute the script.\n",
        "\n",
        "!python3.10 ai2023_s03_05_00.py"
      ]
    },
    {
      "cell_type": "markdown",
      "metadata": {
        "id": "Rmu5IXhP8j-T"
      },
      "source": [
        "# Practice s03-35"
      ]
    },
    {
      "cell_type": "code",
      "execution_count": null,
      "metadata": {
        "id": "YZWjzAjN8j-U"
      },
      "outputs": [],
      "source": [
        "# Write down your code for Practice s03-35 in this cell.\n",
        "\n",
        "\n",
        "\n"
      ]
    },
    {
      "cell_type": "markdown",
      "metadata": {
        "id": "23Q0nBxj8qd1"
      },
      "source": [
        "# Sample Python script \"ai2023_s03_05_01.py\"\n"
      ]
    },
    {
      "cell_type": "code",
      "execution_count": null,
      "metadata": {
        "id": "23Z_sGXA8qd8"
      },
      "outputs": [],
      "source": [
        "# Run this cell to show the source code.\n",
        "\n",
        "!cat ai2023_s03_05_01.py"
      ]
    },
    {
      "cell_type": "code",
      "execution_count": null,
      "metadata": {
        "id": "d4PSFByr8qd_"
      },
      "outputs": [],
      "source": [
        "# Run this cell to execute the script.\n",
        "\n",
        "!python3.10 ai2023_s03_05_01.py"
      ]
    },
    {
      "cell_type": "markdown",
      "metadata": {
        "id": "iNFPaY_e8qeC"
      },
      "source": [
        "# Practice s03-36"
      ]
    },
    {
      "cell_type": "code",
      "execution_count": null,
      "metadata": {
        "id": "r38JQteP8qeF"
      },
      "outputs": [],
      "source": [
        "# Write down your code for Practice s03-36 in this cell.\n",
        "\n",
        "\n",
        "\n"
      ]
    },
    {
      "cell_type": "markdown",
      "metadata": {
        "id": "5ecyBxdF8wyf"
      },
      "source": [
        "# Sample Python script \"ai2023_s03_05_02.py\"\n"
      ]
    },
    {
      "cell_type": "code",
      "execution_count": null,
      "metadata": {
        "id": "oqY2tq1a8wyh"
      },
      "outputs": [],
      "source": [
        "# Run this cell to show the source code.\n",
        "\n",
        "!cat ai2023_s03_05_02.py"
      ]
    },
    {
      "cell_type": "code",
      "execution_count": null,
      "metadata": {
        "id": "suG8HXpA8wyh"
      },
      "outputs": [],
      "source": [
        "# Run this cell to execute the script.\n",
        "\n",
        "!python3.10 ai2023_s03_05_02.py"
      ]
    },
    {
      "cell_type": "markdown",
      "metadata": {
        "id": "2UyUAxbB8wyh"
      },
      "source": [
        "# Practice s03-37"
      ]
    },
    {
      "cell_type": "code",
      "execution_count": null,
      "metadata": {
        "id": "xxclib3h8wyi"
      },
      "outputs": [],
      "source": [
        "# Write down your code for Practice s03-37 in this cell.\n",
        "\n",
        "\n",
        "\n"
      ]
    },
    {
      "cell_type": "markdown",
      "metadata": {
        "id": "AzWk4r0q83U5"
      },
      "source": [
        "# Sample Python script \"ai2023_s03_05_03.py\"\n"
      ]
    },
    {
      "cell_type": "code",
      "execution_count": null,
      "metadata": {
        "id": "qUxXFvAz83U8"
      },
      "outputs": [],
      "source": [
        "# Run this cell to show the source code.\n",
        "\n",
        "!cat ai2023_s03_05_03.py"
      ]
    },
    {
      "cell_type": "code",
      "execution_count": null,
      "metadata": {
        "id": "FjtqClkG83U-"
      },
      "outputs": [],
      "source": [
        "# Run this cell to execute the script.\n",
        "\n",
        "!python3.10 ai2023_s03_05_03.py"
      ]
    },
    {
      "cell_type": "markdown",
      "metadata": {
        "id": "bm-juIpI83U_"
      },
      "source": [
        "# Practice s03-38"
      ]
    },
    {
      "cell_type": "code",
      "execution_count": null,
      "metadata": {
        "id": "bun3lVa_83VB"
      },
      "outputs": [],
      "source": [
        "# Write down your code for Practice s03-38 in this cell.\n",
        "\n",
        "\n",
        "\n"
      ]
    },
    {
      "cell_type": "markdown",
      "metadata": {
        "id": "snLiDh1-898j"
      },
      "source": [
        "# Sample Python script \"ai2023_s03_05_04.py\"\n"
      ]
    },
    {
      "cell_type": "code",
      "execution_count": null,
      "metadata": {
        "id": "ZduQBuYz898m"
      },
      "outputs": [],
      "source": [
        "# Run this cell to show the source code.\n",
        "\n",
        "!cat ai2023_s03_05_04.py"
      ]
    },
    {
      "cell_type": "code",
      "execution_count": null,
      "metadata": {
        "id": "w0aaR1pX898o"
      },
      "outputs": [],
      "source": [
        "# Run this cell to execute the script.\n",
        "\n",
        "!python3.10 ai2023_s03_05_04.py"
      ]
    },
    {
      "cell_type": "markdown",
      "metadata": {
        "id": "yhk7CVHt898q"
      },
      "source": [
        "# Practice s03-39"
      ]
    },
    {
      "cell_type": "code",
      "execution_count": null,
      "metadata": {
        "id": "LjoQrtwh898s"
      },
      "outputs": [],
      "source": [
        "# Write down your code for Practice s03-39 in this cell.\n",
        "\n",
        "\n",
        "\n"
      ]
    },
    {
      "cell_type": "markdown",
      "metadata": {
        "id": "J2oqr_wf9Ed7"
      },
      "source": [
        "# Sample Python script \"ai2023_s03_05_05.py\"\n"
      ]
    },
    {
      "cell_type": "code",
      "execution_count": null,
      "metadata": {
        "id": "6gGYu8LU9Ed9"
      },
      "outputs": [],
      "source": [
        "# Run this cell to show the source code.\n",
        "\n",
        "!cat ai2023_s03_05_05.py"
      ]
    },
    {
      "cell_type": "code",
      "execution_count": null,
      "metadata": {
        "id": "w1zyymNC9Ed-"
      },
      "outputs": [],
      "source": [
        "# Run this cell to execute the script.\n",
        "\n",
        "!python3.10 ai2023_s03_05_05.py"
      ]
    },
    {
      "cell_type": "markdown",
      "metadata": {
        "id": "7PhyajHW9Ed-"
      },
      "source": [
        "# Practice s03-40"
      ]
    },
    {
      "cell_type": "code",
      "execution_count": null,
      "metadata": {
        "id": "h3tZCI1L9Ed_"
      },
      "outputs": [],
      "source": [
        "# Write down your code for Practice s03-40 in this cell.\n",
        "\n",
        "\n",
        "\n"
      ]
    },
    {
      "cell_type": "markdown",
      "metadata": {
        "id": "9l9xawQU9Kq8"
      },
      "source": [
        "# Sample Python script \"ai2023_s03_05_06.py\"\n"
      ]
    },
    {
      "cell_type": "code",
      "execution_count": null,
      "metadata": {
        "id": "Be-s2iv49Kq9"
      },
      "outputs": [],
      "source": [
        "# Run this cell to show the source code.\n",
        "\n",
        "!cat ai2023_s03_05_06.py"
      ]
    },
    {
      "cell_type": "code",
      "execution_count": null,
      "metadata": {
        "id": "uG7Xui3K9KrA"
      },
      "outputs": [],
      "source": [
        "# Run this cell to execute the script.\n",
        "\n",
        "!python3.10 ai2023_s03_05_06.py"
      ]
    },
    {
      "cell_type": "markdown",
      "metadata": {
        "id": "R7l_PhC79KrB"
      },
      "source": [
        "# Practice s03-41"
      ]
    },
    {
      "cell_type": "code",
      "execution_count": null,
      "metadata": {
        "id": "n9nU-EOz9KrC"
      },
      "outputs": [],
      "source": [
        "# Write down your code for Practice s03-41 in this cell.\n",
        "\n",
        "\n",
        "\n"
      ]
    },
    {
      "cell_type": "markdown",
      "metadata": {
        "id": "9W1B1b8L9Rrw"
      },
      "source": [
        "# Sample Python script \"ai2023_s03_05_07.py\"\n"
      ]
    },
    {
      "cell_type": "code",
      "execution_count": null,
      "metadata": {
        "id": "3CrjU02u9Rry"
      },
      "outputs": [],
      "source": [
        "# Run this cell to show the source code.\n",
        "\n",
        "!cat ai2023_s03_05_07.py"
      ]
    },
    {
      "cell_type": "code",
      "execution_count": null,
      "metadata": {
        "id": "Q2vsN0SM9Rry"
      },
      "outputs": [],
      "source": [
        "# Run this cell to execute the script.\n",
        "\n",
        "!python3.10 ai2023_s03_05_07.py"
      ]
    },
    {
      "cell_type": "markdown",
      "metadata": {
        "id": "bpI47Bba9Rrz"
      },
      "source": [
        "# Practice s03-42"
      ]
    },
    {
      "cell_type": "code",
      "execution_count": null,
      "metadata": {
        "id": "pywft2Ai9Rrz"
      },
      "outputs": [],
      "source": [
        "# Write down your code for Practice s03-42 in this cell.\n",
        "\n",
        "\n",
        "\n"
      ]
    },
    {
      "cell_type": "markdown",
      "metadata": {
        "id": "oPiOkeZA9YKD"
      },
      "source": [
        "# Sample Python script \"ai2023_s03_05_08.py\"\n"
      ]
    },
    {
      "cell_type": "code",
      "execution_count": null,
      "metadata": {
        "id": "dNzyB2zL9YKI"
      },
      "outputs": [],
      "source": [
        "# Run this cell to show the source code.\n",
        "\n",
        "!cat ai2023_s03_05_08.py"
      ]
    },
    {
      "cell_type": "code",
      "execution_count": null,
      "metadata": {
        "id": "_LaMtjWV9YKL"
      },
      "outputs": [],
      "source": [
        "# Run this cell to execute the script.\n",
        "\n",
        "!python3.10 ai2023_s03_05_08.py"
      ]
    },
    {
      "cell_type": "markdown",
      "metadata": {
        "id": "NcxSH8au9YKM"
      },
      "source": [
        "# Practice s03-43"
      ]
    },
    {
      "cell_type": "code",
      "execution_count": null,
      "metadata": {
        "id": "o2EJtKMS9YKP"
      },
      "outputs": [],
      "source": [
        "# Write down your code for Practice s03-43 in this cell.\n",
        "\n",
        "\n",
        "\n"
      ]
    },
    {
      "cell_type": "markdown",
      "metadata": {
        "id": "NEjqyeku9nor"
      },
      "source": [
        "# Sample Python script \"ai2023_s03_05_09.py\"\n"
      ]
    },
    {
      "cell_type": "code",
      "execution_count": null,
      "metadata": {
        "id": "T3w9OQXU9not"
      },
      "outputs": [],
      "source": [
        "# Run this cell to show the source code.\n",
        "\n",
        "!cat ai2023_s03_05_09.py"
      ]
    },
    {
      "cell_type": "code",
      "execution_count": null,
      "metadata": {
        "id": "ApQRUdWZ9nov"
      },
      "outputs": [],
      "source": [
        "# Run this cell to execute the script.\n",
        "\n",
        "!python3.10 ai2023_s03_05_09.py"
      ]
    },
    {
      "cell_type": "markdown",
      "metadata": {
        "id": "_3pEtxVR9nox"
      },
      "source": [
        "# Practice s03-44"
      ]
    },
    {
      "cell_type": "code",
      "execution_count": null,
      "metadata": {
        "id": "pDAM3SPz9noy"
      },
      "outputs": [],
      "source": [
        "# Write down your code for Practice s03-44 in this cell.\n",
        "\n",
        "\n",
        "\n"
      ]
    },
    {
      "cell_type": "markdown",
      "metadata": {
        "id": "YCbZCBHC9uah"
      },
      "source": [
        "# Sample Python script \"ai2023_s03_05_10.py\"\n"
      ]
    },
    {
      "cell_type": "code",
      "execution_count": null,
      "metadata": {
        "id": "9TYFJ2q69uai"
      },
      "outputs": [],
      "source": [
        "# Run this cell to show the source code.\n",
        "\n",
        "!cat ai2023_s03_05_10.py"
      ]
    },
    {
      "cell_type": "code",
      "execution_count": null,
      "metadata": {
        "id": "MJaO29tK9uaj"
      },
      "outputs": [],
      "source": [
        "# Run this cell to execute the script.\n",
        "\n",
        "!python3.10 ai2023_s03_05_10.py"
      ]
    },
    {
      "cell_type": "markdown",
      "metadata": {
        "id": "g6kj3k4y9uaj"
      },
      "source": [
        "# Practice s03-45"
      ]
    },
    {
      "cell_type": "code",
      "execution_count": null,
      "metadata": {
        "id": "eXfsYe0Q9uak"
      },
      "outputs": [],
      "source": [
        "# Write down your code for Practice s03-45 in this cell.\n",
        "\n",
        "\n",
        "\n"
      ]
    },
    {
      "cell_type": "markdown",
      "metadata": {
        "id": "KdsboV4z90gx"
      },
      "source": [
        "# Sample Python script \"ai2023_s03_05_11.py\"\n"
      ]
    },
    {
      "cell_type": "code",
      "execution_count": null,
      "metadata": {
        "id": "omiR7pLl90gy"
      },
      "outputs": [],
      "source": [
        "# Run this cell to show the source code.\n",
        "\n",
        "!cat ai2023_s03_05_11.py"
      ]
    },
    {
      "cell_type": "code",
      "execution_count": null,
      "metadata": {
        "id": "9QqmaDcu90gz"
      },
      "outputs": [],
      "source": [
        "# Run this cell to execute the script.\n",
        "\n",
        "!python3.10 ai2023_s03_05_11.py"
      ]
    },
    {
      "cell_type": "markdown",
      "metadata": {
        "id": "04tNinrr90gz"
      },
      "source": [
        "# Practice s03-46"
      ]
    },
    {
      "cell_type": "code",
      "execution_count": null,
      "metadata": {
        "id": "tY33CBuD90gz"
      },
      "outputs": [],
      "source": [
        "# Write down your code for Practice s03-46 in this cell.\n",
        "\n",
        "\n",
        "\n"
      ]
    },
    {
      "cell_type": "markdown",
      "metadata": {
        "id": "99dG3A_J9612"
      },
      "source": [
        "# Sample Python script \"ai2023_s03_05_12.py\"\n"
      ]
    },
    {
      "cell_type": "code",
      "execution_count": null,
      "metadata": {
        "id": "iF6F2VpI9614"
      },
      "outputs": [],
      "source": [
        "# Run this cell to show the source code.\n",
        "\n",
        "!cat ai2023_s03_05_12.py"
      ]
    },
    {
      "cell_type": "code",
      "execution_count": null,
      "metadata": {
        "id": "4PTH3KvZ9616"
      },
      "outputs": [],
      "source": [
        "# Run this cell to execute the script.\n",
        "\n",
        "!python3.10 ai2023_s03_05_12.py"
      ]
    },
    {
      "cell_type": "markdown",
      "metadata": {
        "id": "BK3gKOw59618"
      },
      "source": [
        "# Practice s03-47"
      ]
    },
    {
      "cell_type": "code",
      "execution_count": null,
      "metadata": {
        "id": "YgI0Q8eb9619"
      },
      "outputs": [],
      "source": [
        "# Write down your code for Practice s03-47 in this cell.\n",
        "\n",
        "\n",
        "\n"
      ]
    },
    {
      "cell_type": "markdown",
      "metadata": {
        "id": "My2B_jmt-BXi"
      },
      "source": [
        "# Sample Python script \"ai2023_s03_05_13.py\"\n"
      ]
    },
    {
      "cell_type": "code",
      "execution_count": null,
      "metadata": {
        "id": "AzqJU8A2-BXj"
      },
      "outputs": [],
      "source": [
        "# Run this cell to show the source code.\n",
        "\n",
        "!cat ai2023_s03_05_13.py"
      ]
    },
    {
      "cell_type": "code",
      "execution_count": null,
      "metadata": {
        "id": "wBleZgAC-BXk"
      },
      "outputs": [],
      "source": [
        "# Run this cell to execute the script.\n",
        "\n",
        "!python3.10 ai2023_s03_05_13.py"
      ]
    },
    {
      "cell_type": "markdown",
      "metadata": {
        "id": "CXBteSYD-BXk"
      },
      "source": [
        "# Practice s03-48"
      ]
    },
    {
      "cell_type": "code",
      "execution_count": null,
      "metadata": {
        "id": "-3HajqcE-BXl"
      },
      "outputs": [],
      "source": [
        "# Write down your code for Practice s03-48 in this cell.\n",
        "\n",
        "\n",
        "\n"
      ]
    },
    {
      "cell_type": "markdown",
      "metadata": {
        "id": "OdjWobVn-II-"
      },
      "source": [
        "# Sample Python script \"ai2023_s03_05_14.py\"\n"
      ]
    },
    {
      "cell_type": "code",
      "execution_count": null,
      "metadata": {
        "id": "zUmTM7nP-IJC"
      },
      "outputs": [],
      "source": [
        "# Run this cell to show the source code.\n",
        "\n",
        "!cat ai2023_s03_05_14.py"
      ]
    },
    {
      "cell_type": "code",
      "execution_count": null,
      "metadata": {
        "id": "64BEQuK1-IJG"
      },
      "outputs": [],
      "source": [
        "# Run this cell to execute the script.\n",
        "\n",
        "!python3.10 ai2023_s03_05_14.py"
      ]
    },
    {
      "cell_type": "markdown",
      "metadata": {
        "id": "iKaFxkTY-IJI"
      },
      "source": [
        "# Practice s03-49"
      ]
    },
    {
      "cell_type": "code",
      "execution_count": null,
      "metadata": {
        "id": "oAQEW_Jf-IJK"
      },
      "outputs": [],
      "source": [
        "# Write down your code for Practice s03-49 in this cell.\n",
        "\n",
        "\n",
        "\n"
      ]
    },
    {
      "cell_type": "markdown",
      "metadata": {
        "id": "-LCZrpA9-PPD"
      },
      "source": [
        "# Sample Python script \"ai2023_s03_05_15.py\"\n"
      ]
    },
    {
      "cell_type": "code",
      "execution_count": null,
      "metadata": {
        "id": "NoChT2zL-PPG"
      },
      "outputs": [],
      "source": [
        "# Run this cell to show the source code.\n",
        "\n",
        "!cat ai2023_s03_05_15.py"
      ]
    },
    {
      "cell_type": "code",
      "execution_count": null,
      "metadata": {
        "id": "galjEll0-PPH"
      },
      "outputs": [],
      "source": [
        "# Run this cell to execute the script.\n",
        "\n",
        "!python3.10 ai2023_s03_05_15.py"
      ]
    },
    {
      "cell_type": "markdown",
      "metadata": {
        "id": "5nrWODlQ-PPI"
      },
      "source": [
        "# Practice s03-50"
      ]
    },
    {
      "cell_type": "code",
      "execution_count": null,
      "metadata": {
        "id": "ln3vvcFU-PPJ"
      },
      "outputs": [],
      "source": [
        "# Write down your code for Practice s03-50 in this cell.\n",
        "\n",
        "\n",
        "\n"
      ]
    },
    {
      "cell_type": "markdown",
      "metadata": {
        "id": "oHNZEwBF-WRR"
      },
      "source": [
        "# Sample Python script \"ai2023_s03_05_16.py\"\n"
      ]
    },
    {
      "cell_type": "code",
      "execution_count": null,
      "metadata": {
        "id": "gaImk3Q1-WRT"
      },
      "outputs": [],
      "source": [
        "# Run this cell to show the source code.\n",
        "\n",
        "!cat ai2023_s03_05_16.py"
      ]
    },
    {
      "cell_type": "code",
      "execution_count": null,
      "metadata": {
        "id": "Mi4oZQ46-WRV"
      },
      "outputs": [],
      "source": [
        "# Run this cell to execute the script.\n",
        "\n",
        "!python3.10 ai2023_s03_05_16.py"
      ]
    },
    {
      "cell_type": "markdown",
      "metadata": {
        "id": "JLTY4oPn-WRX"
      },
      "source": [
        "# Practice s03-51"
      ]
    },
    {
      "cell_type": "code",
      "execution_count": null,
      "metadata": {
        "id": "gNaIBag5-WRY"
      },
      "outputs": [],
      "source": [
        "# Write down your code for Practice s03-51 in this cell.\n",
        "\n",
        "\n",
        "\n"
      ]
    },
    {
      "cell_type": "markdown",
      "metadata": {
        "id": "Fsxzj2lY-hiQ"
      },
      "source": [
        "# Sample Python script \"ai2023_s03_06_00.py\"\n"
      ]
    },
    {
      "cell_type": "code",
      "execution_count": null,
      "metadata": {
        "id": "dgvXWiZx-hiS"
      },
      "outputs": [],
      "source": [
        "# Run this cell to show the source code.\n",
        "\n",
        "!cat ai2023_s03_06_00.py"
      ]
    },
    {
      "cell_type": "code",
      "execution_count": null,
      "metadata": {
        "id": "d7qNFCAa-hiT"
      },
      "outputs": [],
      "source": [
        "# Run this cell to execute the script.\n",
        "\n",
        "!python3.10 ai2023_s03_06_00.py"
      ]
    },
    {
      "cell_type": "markdown",
      "metadata": {
        "id": "GrgKVQka-hiV"
      },
      "source": [
        "# Practice s03-52"
      ]
    },
    {
      "cell_type": "code",
      "execution_count": null,
      "metadata": {
        "id": "2mIB4HvX-hiW"
      },
      "outputs": [],
      "source": [
        "# Write down your code for Practice s03-52 in this cell.\n",
        "\n",
        "\n",
        "\n"
      ]
    },
    {
      "cell_type": "markdown",
      "metadata": {
        "id": "Az00-wdt-opM"
      },
      "source": [
        "# Sample Python script \"ai2023_s03_06_01.py\"\n"
      ]
    },
    {
      "cell_type": "code",
      "execution_count": null,
      "metadata": {
        "id": "B32tM4X9-opO"
      },
      "outputs": [],
      "source": [
        "# Run this cell to show the source code.\n",
        "\n",
        "!cat ai2023_s03_06_01.py"
      ]
    },
    {
      "cell_type": "code",
      "execution_count": null,
      "metadata": {
        "id": "9MOKAO-Q-opP"
      },
      "outputs": [],
      "source": [
        "# Run this cell to execute the script.\n",
        "\n",
        "!python3.10 ai2023_s03_06_01.py"
      ]
    },
    {
      "cell_type": "markdown",
      "metadata": {
        "id": "tqucGD6h-opR"
      },
      "source": [
        "# Practice s03-53"
      ]
    },
    {
      "cell_type": "code",
      "execution_count": null,
      "metadata": {
        "id": "4exjfq5n-opU"
      },
      "outputs": [],
      "source": [
        "# Write down your code for Practice s03-53 in this cell.\n",
        "\n",
        "\n",
        "\n"
      ]
    },
    {
      "cell_type": "markdown",
      "metadata": {
        "id": "rZZBZZYS-uxH"
      },
      "source": [
        "# Sample Python script \"ai2023_s03_06_02.py\"\n"
      ]
    },
    {
      "cell_type": "code",
      "execution_count": null,
      "metadata": {
        "id": "Nk_LV6So-uxJ"
      },
      "outputs": [],
      "source": [
        "# Run this cell to show the source code.\n",
        "\n",
        "!cat ai2023_s03_06_02.py"
      ]
    },
    {
      "cell_type": "code",
      "execution_count": null,
      "metadata": {
        "id": "hDTI8nw--uxK"
      },
      "outputs": [],
      "source": [
        "# Run this cell to execute the script.\n",
        "\n",
        "!python3.10 ai2023_s03_06_02.py"
      ]
    },
    {
      "cell_type": "markdown",
      "metadata": {
        "id": "PKcpbwj--uxL"
      },
      "source": [
        "# Practice s03-54"
      ]
    },
    {
      "cell_type": "code",
      "execution_count": null,
      "metadata": {
        "id": "z2ffEL69-uxM"
      },
      "outputs": [],
      "source": [
        "# Write down your code for Practice s03-54 in this cell.\n",
        "\n",
        "\n",
        "\n"
      ]
    },
    {
      "cell_type": "markdown",
      "metadata": {
        "id": "rHbLIvqs-06j"
      },
      "source": [
        "# Sample Python script \"ai2023_s03_06_03.py\"\n"
      ]
    },
    {
      "cell_type": "code",
      "execution_count": null,
      "metadata": {
        "id": "x63zumdA-06k"
      },
      "outputs": [],
      "source": [
        "# Run this cell to show the source code.\n",
        "\n",
        "!cat ai2023_s03_06_03.py"
      ]
    },
    {
      "cell_type": "code",
      "execution_count": null,
      "metadata": {
        "id": "cpnO3Kxk-06l"
      },
      "outputs": [],
      "source": [
        "# Run this cell to execute the script.\n",
        "\n",
        "!python3.10 ai2023_s03_06_03.py"
      ]
    },
    {
      "cell_type": "markdown",
      "metadata": {
        "id": "HuvOXGxK-06m"
      },
      "source": [
        "# Practice s03-55"
      ]
    },
    {
      "cell_type": "code",
      "execution_count": null,
      "metadata": {
        "id": "FhM0HYHO-06n"
      },
      "outputs": [],
      "source": [
        "# Write down your code for Practice s03-55 in this cell.\n",
        "\n",
        "\n",
        "\n"
      ]
    },
    {
      "cell_type": "markdown",
      "metadata": {
        "id": "adcBxzcH-9Rv"
      },
      "source": [
        "# Sample Python script \"ai2023_s03_07_00.py\"\n"
      ]
    },
    {
      "cell_type": "code",
      "execution_count": null,
      "metadata": {
        "id": "RucfASBC-9Rz"
      },
      "outputs": [],
      "source": [
        "# Run this cell to show the source code.\n",
        "\n",
        "!cat ai2023_s03_07_00.py"
      ]
    },
    {
      "cell_type": "code",
      "execution_count": null,
      "metadata": {
        "id": "5tY8QMNX-9R2"
      },
      "outputs": [],
      "source": [
        "# Run this cell to execute the script.\n",
        "\n",
        "!python3.10 ai2023_s03_07_00.py"
      ]
    },
    {
      "cell_type": "markdown",
      "metadata": {
        "id": "-qt1fKSR_CUz"
      },
      "source": [
        "# Sample Python script \"ai2023_s03_07_01.py\"\n"
      ]
    },
    {
      "cell_type": "code",
      "execution_count": null,
      "metadata": {
        "id": "2KCgfRcE_CU1"
      },
      "outputs": [],
      "source": [
        "# Run this cell to show the source code.\n",
        "\n",
        "!cat ai2023_s03_07_01.py"
      ]
    },
    {
      "cell_type": "code",
      "execution_count": null,
      "metadata": {
        "id": "xXNcBjVI_CU2"
      },
      "outputs": [],
      "source": [
        "# Run this cell to execute the script.\n",
        "\n",
        "!python3.10 ai2023_s03_07_01.py"
      ]
    },
    {
      "cell_type": "markdown",
      "metadata": {
        "id": "1GmpcgKV_GZK"
      },
      "source": [
        "# Practice s03-56"
      ]
    },
    {
      "cell_type": "code",
      "execution_count": null,
      "metadata": {
        "id": "aQ08o5ZR_GZO"
      },
      "outputs": [],
      "source": [
        "# Write down your code for Practice s03-56 in this cell.\n",
        "\n",
        "\n",
        "\n"
      ]
    },
    {
      "cell_type": "markdown",
      "metadata": {
        "id": "W8XDg5kr_L2E"
      },
      "source": [
        "# Sample Python script \"ai2023_s03_08_00.py\"\n"
      ]
    },
    {
      "cell_type": "code",
      "execution_count": null,
      "metadata": {
        "id": "0h5LvbfM_L2H"
      },
      "outputs": [],
      "source": [
        "# Run this cell to show the source code.\n",
        "\n",
        "!cat ai2023_s03_08_00.py"
      ]
    },
    {
      "cell_type": "code",
      "execution_count": null,
      "metadata": {
        "id": "JjVGct7U_L2I"
      },
      "outputs": [],
      "source": [
        "# Run this cell to execute the script.\n",
        "\n",
        "!python3.10 ai2023_s03_08_00.py"
      ]
    },
    {
      "cell_type": "markdown",
      "metadata": {
        "id": "EYWHfH02_L2K"
      },
      "source": [
        "# Practice s03-57"
      ]
    },
    {
      "cell_type": "code",
      "execution_count": null,
      "metadata": {
        "id": "c8TJlgtF_L2M"
      },
      "outputs": [],
      "source": [
        "# Write down your code for Practice s03-57 in this cell.\n",
        "\n",
        "\n",
        "\n"
      ]
    },
    {
      "cell_type": "markdown",
      "metadata": {
        "id": "kn3x0Iof_UiM"
      },
      "source": [
        "# Sample Python script \"ai2023_s03_08_01.py\"\n"
      ]
    },
    {
      "cell_type": "code",
      "execution_count": null,
      "metadata": {
        "id": "h09TfBQ2_UiN"
      },
      "outputs": [],
      "source": [
        "# Run this cell to show the source code.\n",
        "\n",
        "!cat ai2023_s03_08_01.py"
      ]
    },
    {
      "cell_type": "code",
      "execution_count": null,
      "metadata": {
        "id": "9t_D6dKJ_UiN"
      },
      "outputs": [],
      "source": [
        "# Run this cell to execute the script.\n",
        "\n",
        "!python3.10 ai2023_s03_08_01.py"
      ]
    },
    {
      "cell_type": "markdown",
      "metadata": {
        "id": "hoIYd_RI_UiO"
      },
      "source": [
        "# Practice s03-58"
      ]
    },
    {
      "cell_type": "code",
      "execution_count": null,
      "metadata": {
        "id": "sJseazXS_UiO"
      },
      "outputs": [],
      "source": [
        "# Write down your code for Practice s03-58 in this cell.\n",
        "\n",
        "\n",
        "\n"
      ]
    },
    {
      "cell_type": "markdown",
      "metadata": {
        "id": "fBsFz1Xj_a7-"
      },
      "source": [
        "# Sample Python script \"ai2023_s03_08_02.py\"\n"
      ]
    },
    {
      "cell_type": "code",
      "execution_count": null,
      "metadata": {
        "id": "ODuefsp1_a7_"
      },
      "outputs": [],
      "source": [
        "# Run this cell to show the source code.\n",
        "\n",
        "!cat ai2023_s03_08_02.py"
      ]
    },
    {
      "cell_type": "code",
      "execution_count": null,
      "metadata": {
        "id": "tFHCHkVS_a8D"
      },
      "outputs": [],
      "source": [
        "# Run this cell to execute the script.\n",
        "\n",
        "!python3.10 ai2023_s03_08_02.py"
      ]
    },
    {
      "cell_type": "markdown",
      "metadata": {
        "id": "KGzQmi4m_a8H"
      },
      "source": [
        "# Practice s03-59"
      ]
    },
    {
      "cell_type": "code",
      "execution_count": null,
      "metadata": {
        "id": "61q6bMPX_a8J"
      },
      "outputs": [],
      "source": [
        "# Write down your code for Practice s03-59 in this cell.\n",
        "\n",
        "\n",
        "\n"
      ]
    },
    {
      "cell_type": "markdown",
      "metadata": {
        "id": "SubtRU8C_h5E"
      },
      "source": [
        "# Sample Python script \"ai2023_s03_08_03.py\"\n"
      ]
    },
    {
      "cell_type": "code",
      "execution_count": null,
      "metadata": {
        "id": "kDr4RKY7_h5F"
      },
      "outputs": [],
      "source": [
        "# Run this cell to show the source code.\n",
        "\n",
        "!cat ai2023_s03_08_03.py"
      ]
    },
    {
      "cell_type": "code",
      "execution_count": null,
      "metadata": {
        "id": "kJdltw2D_h5G"
      },
      "outputs": [],
      "source": [
        "# Run this cell to execute the script.\n",
        "\n",
        "!python3.10 ai2023_s03_08_03.py"
      ]
    },
    {
      "cell_type": "markdown",
      "metadata": {
        "id": "BbLoOslk_h5H"
      },
      "source": [
        "# Practice s03-60"
      ]
    },
    {
      "cell_type": "code",
      "execution_count": null,
      "metadata": {
        "id": "AbRWyvgZ_h5I"
      },
      "outputs": [],
      "source": [
        "# Write down your code for Practice s03-60 in this cell.\n",
        "\n",
        "\n",
        "\n"
      ]
    },
    {
      "cell_type": "markdown",
      "metadata": {
        "id": "ghRbqxKQ_oiw"
      },
      "source": [
        "# Sample Python script \"ai2023_s03_08_04.py\"\n"
      ]
    },
    {
      "cell_type": "code",
      "execution_count": null,
      "metadata": {
        "id": "Vbjqeax6_oi5"
      },
      "outputs": [],
      "source": [
        "# Run this cell to show the source code.\n",
        "\n",
        "!cat ai2023_s03_08_04.py"
      ]
    },
    {
      "cell_type": "code",
      "execution_count": null,
      "metadata": {
        "id": "fwHcFEgz_oi9"
      },
      "outputs": [],
      "source": [
        "# Run this cell to execute the script.\n",
        "\n",
        "!python3.10 ai2023_s03_08_04.py"
      ]
    },
    {
      "cell_type": "markdown",
      "metadata": {
        "id": "mu4z0jwP_ojA"
      },
      "source": [
        "# Practice s03-61"
      ]
    },
    {
      "cell_type": "code",
      "execution_count": null,
      "metadata": {
        "id": "f1VtQKw0_ojC"
      },
      "outputs": [],
      "source": [
        "# Write down your code for Practice s03-61 in this cell.\n",
        "\n",
        "\n",
        "\n"
      ]
    },
    {
      "cell_type": "markdown",
      "metadata": {
        "id": "_CZNv9N0_ums"
      },
      "source": [
        "# Sample Python script \"ai2023_s03_08_05.py\"\n"
      ]
    },
    {
      "cell_type": "code",
      "execution_count": null,
      "metadata": {
        "id": "kkJwkze7_umv"
      },
      "outputs": [],
      "source": [
        "# Run this cell to show the source code.\n",
        "\n",
        "!cat ai2023_s03_08_05.py"
      ]
    },
    {
      "cell_type": "code",
      "execution_count": null,
      "metadata": {
        "id": "-tOP22Za_umx"
      },
      "outputs": [],
      "source": [
        "# Run this cell to execute the script.\n",
        "\n",
        "!python3.10 ai2023_s03_08_05.py"
      ]
    },
    {
      "cell_type": "markdown",
      "metadata": {
        "id": "g-OLA9FW_umz"
      },
      "source": [
        "# Practice s03-62"
      ]
    },
    {
      "cell_type": "code",
      "execution_count": null,
      "metadata": {
        "id": "0rDQmvXU_um0"
      },
      "outputs": [],
      "source": [
        "# Write down your code for Practice s03-62 in this cell.\n",
        "\n",
        "\n",
        "\n"
      ]
    },
    {
      "cell_type": "markdown",
      "metadata": {
        "id": "qCS3lUCW_07R"
      },
      "source": [
        "# Sample Python script \"ai2023_s03_08_06.py\"\n"
      ]
    },
    {
      "cell_type": "code",
      "execution_count": null,
      "metadata": {
        "id": "lY3HIoD1_07T"
      },
      "outputs": [],
      "source": [
        "# Run this cell to show the source code.\n",
        "\n",
        "!cat ai2023_s03_08_06.py"
      ]
    },
    {
      "cell_type": "code",
      "execution_count": null,
      "metadata": {
        "id": "JVmSesGN_07U"
      },
      "outputs": [],
      "source": [
        "# Run this cell to execute the script.\n",
        "\n",
        "!python3.10 ai2023_s03_08_06.py"
      ]
    },
    {
      "cell_type": "markdown",
      "metadata": {
        "id": "eRk2Fmu0_07V"
      },
      "source": [
        "# Practice s03-63"
      ]
    },
    {
      "cell_type": "code",
      "execution_count": null,
      "metadata": {
        "id": "Tzm88LdH_07V"
      },
      "outputs": [],
      "source": [
        "# Write down your code for Practice s03-63 in this cell.\n",
        "\n",
        "\n",
        "\n"
      ]
    },
    {
      "cell_type": "markdown",
      "metadata": {
        "id": "IydNb33u_7l_"
      },
      "source": [
        "# Sample Python script \"ai2023_s03_09_00.py\"\n"
      ]
    },
    {
      "cell_type": "code",
      "execution_count": null,
      "metadata": {
        "id": "0eocM_P__7mD"
      },
      "outputs": [],
      "source": [
        "# Run this cell to show the source code.\n",
        "\n",
        "!cat ai2023_s03_09_00.py"
      ]
    },
    {
      "cell_type": "code",
      "execution_count": null,
      "metadata": {
        "id": "mKKXBmSi_7mE"
      },
      "outputs": [],
      "source": [
        "# Run this cell to execute the script.\n",
        "\n",
        "!python3.10 ai2023_s03_09_00.py"
      ]
    },
    {
      "cell_type": "markdown",
      "metadata": {
        "id": "UheXibWM_7mH"
      },
      "source": [
        "# Practice s03-64"
      ]
    },
    {
      "cell_type": "code",
      "execution_count": null,
      "metadata": {
        "id": "MIvQNx1X_7mI"
      },
      "outputs": [],
      "source": [
        "# Write down your code for Practice s03-64 in this cell.\n",
        "\n",
        "\n",
        "\n"
      ]
    },
    {
      "cell_type": "markdown",
      "metadata": {
        "id": "pC-n2IwwADH2"
      },
      "source": [
        "# Sample Python script \"ai2023_s03_09_01.py\"\n"
      ]
    },
    {
      "cell_type": "code",
      "execution_count": null,
      "metadata": {
        "id": "5rZ0gfeFADH4"
      },
      "outputs": [],
      "source": [
        "# Run this cell to show the source code.\n",
        "\n",
        "!cat ai2023_s03_09_01.py"
      ]
    },
    {
      "cell_type": "code",
      "execution_count": null,
      "metadata": {
        "id": "lAbY-SqwADH4"
      },
      "outputs": [],
      "source": [
        "# Run this cell to execute the script.\n",
        "\n",
        "!python3.10 ai2023_s03_09_01.py"
      ]
    },
    {
      "cell_type": "markdown",
      "metadata": {
        "id": "KxNk_LRaADH6"
      },
      "source": [
        "# Practice s03-65"
      ]
    },
    {
      "cell_type": "code",
      "execution_count": null,
      "metadata": {
        "id": "y4WVFS1sADH7"
      },
      "outputs": [],
      "source": [
        "# Write down your code for Practice s03-65 in this cell.\n",
        "\n",
        "\n",
        "\n"
      ]
    },
    {
      "cell_type": "markdown",
      "metadata": {
        "id": "NVzPHqYnAIzP"
      },
      "source": [
        "# Sample Python script \"ai2023_s03_09_02.py\"\n"
      ]
    },
    {
      "cell_type": "code",
      "execution_count": null,
      "metadata": {
        "id": "OqkK-ioxAIzS"
      },
      "outputs": [],
      "source": [
        "# Run this cell to show the source code.\n",
        "\n",
        "!cat ai2023_s03_09_02.py"
      ]
    },
    {
      "cell_type": "code",
      "execution_count": null,
      "metadata": {
        "id": "4bBLM7f4AIzT"
      },
      "outputs": [],
      "source": [
        "# Run this cell to execute the script.\n",
        "\n",
        "!python3.10 ai2023_s03_09_02.py"
      ]
    },
    {
      "cell_type": "markdown",
      "metadata": {
        "id": "TVeUmDG4AIzV"
      },
      "source": [
        "# Practice s03-66"
      ]
    },
    {
      "cell_type": "code",
      "execution_count": null,
      "metadata": {
        "id": "LU0HTsozAIzW"
      },
      "outputs": [],
      "source": [
        "# Write down your code for Practice s03-66 in this cell.\n",
        "\n",
        "\n",
        "\n"
      ]
    },
    {
      "cell_type": "markdown",
      "metadata": {
        "id": "4KI8QVqSAPTM"
      },
      "source": [
        "# Sample Python script \"ai2023_s03_09_03.py\"\n"
      ]
    },
    {
      "cell_type": "code",
      "execution_count": null,
      "metadata": {
        "id": "SYA1kCGAAPTO"
      },
      "outputs": [],
      "source": [
        "# Run this cell to show the source code.\n",
        "\n",
        "!cat ai2023_s03_09_03.py"
      ]
    },
    {
      "cell_type": "code",
      "execution_count": null,
      "metadata": {
        "id": "Aju_aM0JAPTQ"
      },
      "outputs": [],
      "source": [
        "# Run this cell to execute the script.\n",
        "\n",
        "!python3.10 ai2023_s03_09_03.py"
      ]
    },
    {
      "cell_type": "markdown",
      "metadata": {
        "id": "B7iYArdRAPTR"
      },
      "source": [
        "# Practice s03-67"
      ]
    },
    {
      "cell_type": "code",
      "execution_count": null,
      "metadata": {
        "id": "69MCxzzGAPTT"
      },
      "outputs": [],
      "source": [
        "# Write down your code for Practice s03-67 in this cell.\n",
        "\n",
        "\n",
        "\n"
      ]
    },
    {
      "cell_type": "markdown",
      "metadata": {
        "id": "4D_bkVJyAWAn"
      },
      "source": [
        "# Sample Python script \"ai2023_s03_09_04.py\"\n"
      ]
    },
    {
      "cell_type": "code",
      "execution_count": null,
      "metadata": {
        "id": "hQO8kYNDAWAq"
      },
      "outputs": [],
      "source": [
        "# Run this cell to show the source code.\n",
        "\n",
        "!cat ai2023_s03_09_04.py"
      ]
    },
    {
      "cell_type": "code",
      "execution_count": null,
      "metadata": {
        "id": "DBS1X9wRAWAs"
      },
      "outputs": [],
      "source": [
        "# Run this cell to execute the script.\n",
        "\n",
        "!python3.10 ai2023_s03_09_04.py"
      ]
    },
    {
      "cell_type": "markdown",
      "metadata": {
        "id": "JLk7qPNYAWAt"
      },
      "source": [
        "# Practice s03-68"
      ]
    },
    {
      "cell_type": "code",
      "execution_count": null,
      "metadata": {
        "id": "QqzySvRhAWAu"
      },
      "outputs": [],
      "source": [
        "# Write down your code for Practice s03-68 in this cell.\n",
        "\n",
        "\n",
        "\n"
      ]
    },
    {
      "cell_type": "markdown",
      "metadata": {
        "id": "XvNmMDPoAeNi"
      },
      "source": [
        "# Sample Python script \"ai2023_s03_09_05.py\"\n"
      ]
    },
    {
      "cell_type": "code",
      "execution_count": null,
      "metadata": {
        "id": "PUFDhaGQAeNk"
      },
      "outputs": [],
      "source": [
        "# Run this cell to show the source code.\n",
        "\n",
        "!cat ai2023_s03_09_05.py"
      ]
    },
    {
      "cell_type": "code",
      "execution_count": null,
      "metadata": {
        "id": "2YUIIRQvAeNk"
      },
      "outputs": [],
      "source": [
        "# Run this cell to execute the script.\n",
        "\n",
        "!python3.10 ai2023_s03_09_05.py"
      ]
    },
    {
      "cell_type": "markdown",
      "metadata": {
        "id": "LqvuMB9fAeNm"
      },
      "source": [
        "# Practice s03-69"
      ]
    },
    {
      "cell_type": "code",
      "execution_count": null,
      "metadata": {
        "id": "GmDBJsxSAeNm"
      },
      "outputs": [],
      "source": [
        "# Write down your code for Practice s03-69 in this cell.\n",
        "\n",
        "\n",
        "\n"
      ]
    },
    {
      "cell_type": "markdown",
      "metadata": {
        "id": "3YbYIBx7Aliv"
      },
      "source": [
        "# Sample Python script \"ai2023_s03_10_00.py\"\n"
      ]
    },
    {
      "cell_type": "code",
      "execution_count": null,
      "metadata": {
        "id": "Kx1dOhKyAlix"
      },
      "outputs": [],
      "source": [
        "# Run this cell to show the source code.\n",
        "\n",
        "!cat ai2023_s03_10_00.py"
      ]
    },
    {
      "cell_type": "code",
      "execution_count": null,
      "metadata": {
        "id": "_FegpG-yAlix"
      },
      "outputs": [],
      "source": [
        "# Run this cell to execute the script.\n",
        "\n",
        "!python3.10 ai2023_s03_10_00.py"
      ]
    },
    {
      "cell_type": "markdown",
      "metadata": {
        "id": "PqyY8hikAliy"
      },
      "source": [
        "# Practice s03-70"
      ]
    },
    {
      "cell_type": "code",
      "execution_count": null,
      "metadata": {
        "id": "EAyktr5yAli0"
      },
      "outputs": [],
      "source": [
        "# Write down your code for Practice s03-70 in this cell.\n",
        "\n",
        "\n",
        "\n"
      ]
    },
    {
      "cell_type": "markdown",
      "metadata": {
        "id": "Nzuwu1-cAty2"
      },
      "source": [
        "# Sample Python script \"ai2023_s03_10_01.py\"\n"
      ]
    },
    {
      "cell_type": "code",
      "execution_count": null,
      "metadata": {
        "id": "rqq71HkkAty-"
      },
      "outputs": [],
      "source": [
        "# Run this cell to show the source code.\n",
        "\n",
        "!cat ai2023_s03_10_01.py"
      ]
    },
    {
      "cell_type": "code",
      "execution_count": null,
      "metadata": {
        "id": "_CDRgy1TAtzC"
      },
      "outputs": [],
      "source": [
        "# Run this cell to execute the script.\n",
        "\n",
        "!python3.10 ai2023_s03_10_01.py"
      ]
    },
    {
      "cell_type": "markdown",
      "metadata": {
        "id": "CWTV_MkHAtzF"
      },
      "source": [
        "# Practice s03-71"
      ]
    },
    {
      "cell_type": "code",
      "execution_count": null,
      "metadata": {
        "id": "efcwbrZjAtzI"
      },
      "outputs": [],
      "source": [
        "# Write down your code for Practice s03-71 in this cell.\n",
        "\n",
        "\n",
        "\n"
      ]
    },
    {
      "cell_type": "markdown",
      "metadata": {
        "id": "Q47hfpFaA2F_"
      },
      "source": [
        "# Sample Python script \"ai2023_s03_10_02.py\"\n"
      ]
    },
    {
      "cell_type": "code",
      "execution_count": null,
      "metadata": {
        "id": "cNOWf-dnA2GB"
      },
      "outputs": [],
      "source": [
        "# Run this cell to show the source code.\n",
        "\n",
        "!cat ai2023_s03_10_02.py"
      ]
    },
    {
      "cell_type": "code",
      "execution_count": null,
      "metadata": {
        "id": "9F306cd9A2GC"
      },
      "outputs": [],
      "source": [
        "# Run this cell to execute the script.\n",
        "\n",
        "!python3.10 ai2023_s03_10_02.py"
      ]
    },
    {
      "cell_type": "markdown",
      "metadata": {
        "id": "x9VUfsnwA2GD"
      },
      "source": [
        "# Practice s03-72"
      ]
    },
    {
      "cell_type": "code",
      "execution_count": null,
      "metadata": {
        "id": "Rp5U4KGeA2GE"
      },
      "outputs": [],
      "source": [
        "# Write down your code for Practice s03-72 in this cell.\n",
        "\n",
        "\n",
        "\n"
      ]
    },
    {
      "cell_type": "markdown",
      "metadata": {
        "id": "AOpWLD10A8iz"
      },
      "source": [
        "# Sample Python script \"ai2023_s03_10_03.py\"\n"
      ]
    },
    {
      "cell_type": "code",
      "execution_count": null,
      "metadata": {
        "id": "EiBpsucsA8i1"
      },
      "outputs": [],
      "source": [
        "# Run this cell to show the source code.\n",
        "\n",
        "!cat ai2023_s03_10_03.py"
      ]
    },
    {
      "cell_type": "code",
      "execution_count": null,
      "metadata": {
        "id": "NWk_vmIEA8i4"
      },
      "outputs": [],
      "source": [
        "# Run this cell to execute the script.\n",
        "\n",
        "!python3.10 ai2023_s03_10_03.py"
      ]
    },
    {
      "cell_type": "markdown",
      "metadata": {
        "id": "IBcSAsHoA8i6"
      },
      "source": [
        "# Practice s03-73"
      ]
    },
    {
      "cell_type": "code",
      "execution_count": null,
      "metadata": {
        "id": "rNvKS279A8i8"
      },
      "outputs": [],
      "source": [
        "# Write down your code for Practice s03-73 in this cell.\n",
        "\n",
        "\n",
        "\n"
      ]
    },
    {
      "cell_type": "markdown",
      "metadata": {
        "id": "IHcNE6yVBDDB"
      },
      "source": [
        "# Sample Python script \"ai2023_s03_11_00.py\"\n"
      ]
    },
    {
      "cell_type": "code",
      "execution_count": null,
      "metadata": {
        "id": "4EDvAVyRBDDC"
      },
      "outputs": [],
      "source": [
        "# Run this cell to show the source code.\n",
        "\n",
        "!cat ai2023_s03_11_00.py"
      ]
    },
    {
      "cell_type": "code",
      "execution_count": null,
      "metadata": {
        "id": "zswqcjhQBDDE"
      },
      "outputs": [],
      "source": [
        "# Run this cell to execute the script.\n",
        "\n",
        "!python3.10 ai2023_s03_11_00.py"
      ]
    },
    {
      "cell_type": "markdown",
      "metadata": {
        "id": "MhaKsqS8BDDJ"
      },
      "source": [
        "# Practice s03-74"
      ]
    },
    {
      "cell_type": "code",
      "execution_count": null,
      "metadata": {
        "id": "HXPP7gpJBDDL"
      },
      "outputs": [],
      "source": [
        "# Write down your code for Practice s03-74 in this cell.\n",
        "\n",
        "\n",
        "\n"
      ]
    },
    {
      "cell_type": "markdown",
      "metadata": {
        "id": "EhN5dRiGBLau"
      },
      "source": [
        "# Sample Python script \"ai2023_s03_11_01.py\"\n"
      ]
    },
    {
      "cell_type": "code",
      "execution_count": null,
      "metadata": {
        "id": "gGgXVPzkBLax"
      },
      "outputs": [],
      "source": [
        "# Run this cell to show the source code.\n",
        "\n",
        "!cat ai2023_s03_11_01.py"
      ]
    },
    {
      "cell_type": "code",
      "execution_count": null,
      "metadata": {
        "id": "AKT4eWJ9BLaz"
      },
      "outputs": [],
      "source": [
        "# Run this cell to execute the script.\n",
        "\n",
        "!python3.10 ai2023_s03_11_01.py"
      ]
    },
    {
      "cell_type": "markdown",
      "metadata": {
        "id": "XjFUR7A1BLa1"
      },
      "source": [
        "# Practice s03-75"
      ]
    },
    {
      "cell_type": "code",
      "execution_count": null,
      "metadata": {
        "id": "3OSQUrkNBLa1"
      },
      "outputs": [],
      "source": [
        "# Write down your code for Practice s03-75 in this cell.\n",
        "\n",
        "\n",
        "\n"
      ]
    },
    {
      "cell_type": "markdown",
      "metadata": {
        "id": "zoH-1gWdBS8m"
      },
      "source": [
        "# Sample Python script \"ai2023_s03_11_02.py\"\n"
      ]
    },
    {
      "cell_type": "code",
      "execution_count": null,
      "metadata": {
        "id": "C-UeQa8oBS8o"
      },
      "outputs": [],
      "source": [
        "# Run this cell to show the source code.\n",
        "\n",
        "!cat ai2023_s03_11_02.py"
      ]
    },
    {
      "cell_type": "code",
      "execution_count": null,
      "metadata": {
        "id": "QCYFvMOKBS8p"
      },
      "outputs": [],
      "source": [
        "# Run this cell to execute the script.\n",
        "\n",
        "!python3.10 ai2023_s03_11_02.py"
      ]
    },
    {
      "cell_type": "markdown",
      "metadata": {
        "id": "_3AxXMnABS8q"
      },
      "source": [
        "# Practice s03-76"
      ]
    },
    {
      "cell_type": "code",
      "execution_count": null,
      "metadata": {
        "id": "hQpq-MPABS8r"
      },
      "outputs": [],
      "source": [
        "# Write down your code for Practice s03-76 in this cell.\n",
        "\n",
        "\n",
        "\n"
      ]
    },
    {
      "cell_type": "markdown",
      "metadata": {
        "id": "nY7lGYthBaS2"
      },
      "source": [
        "# Sample Python script \"ai2023_s03_11_03.py\"\n"
      ]
    },
    {
      "cell_type": "code",
      "execution_count": null,
      "metadata": {
        "id": "N57rOxhsBaS4"
      },
      "outputs": [],
      "source": [
        "# Run this cell to show the source code.\n",
        "\n",
        "!cat ai2023_s03_11_03.py"
      ]
    },
    {
      "cell_type": "code",
      "execution_count": null,
      "metadata": {
        "id": "VlzwBGnrBaS5"
      },
      "outputs": [],
      "source": [
        "# Run this cell to execute the script.\n",
        "\n",
        "!python3.10 ai2023_s03_11_03.py"
      ]
    },
    {
      "cell_type": "markdown",
      "metadata": {
        "id": "hM65Y7BPBaS7"
      },
      "source": [
        "# Practice s03-77"
      ]
    },
    {
      "cell_type": "code",
      "execution_count": null,
      "metadata": {
        "id": "zgLqiQ2tBaS8"
      },
      "outputs": [],
      "source": [
        "# Write down your code for Practice s03-77 in this cell.\n",
        "\n",
        "\n",
        "\n"
      ]
    },
    {
      "cell_type": "markdown",
      "metadata": {
        "id": "d_EWlcQwBmnf"
      },
      "source": [
        "# Sample Python script \"ai2023_s03_11_04.py\"\n"
      ]
    },
    {
      "cell_type": "code",
      "execution_count": null,
      "metadata": {
        "id": "i5zNigzGBmni"
      },
      "outputs": [],
      "source": [
        "# Run this cell to show the source code.\n",
        "\n",
        "!cat ai2023_s03_11_04.py"
      ]
    },
    {
      "cell_type": "code",
      "execution_count": null,
      "metadata": {
        "id": "l6NsyYIMBmnk"
      },
      "outputs": [],
      "source": [
        "# Run this cell to execute the script.\n",
        "\n",
        "!python3.10 ai2023_s03_11_04.py"
      ]
    },
    {
      "cell_type": "markdown",
      "metadata": {
        "id": "_ZXKeb6XBmnm"
      },
      "source": [
        "# Practice s03-78"
      ]
    },
    {
      "cell_type": "code",
      "execution_count": null,
      "metadata": {
        "id": "nfXjsnOIBmnn"
      },
      "outputs": [],
      "source": [
        "# Write down your code for Practice s03-78 in this cell.\n",
        "\n",
        "\n",
        "\n"
      ]
    },
    {
      "cell_type": "markdown",
      "metadata": {
        "id": "DW2VpdZrBspx"
      },
      "source": [
        "# Sample Python script \"ai2023_s03_11_05.py\"\n"
      ]
    },
    {
      "cell_type": "code",
      "execution_count": null,
      "metadata": {
        "id": "WrQdHZCtBsp0"
      },
      "outputs": [],
      "source": [
        "# Run this cell to show the source code.\n",
        "\n",
        "!cat ai2023_s03_11_05.py"
      ]
    },
    {
      "cell_type": "code",
      "execution_count": null,
      "metadata": {
        "id": "DC-We79-Bsp2"
      },
      "outputs": [],
      "source": [
        "# Run this cell to execute the script.\n",
        "\n",
        "!python3.10 ai2023_s03_11_05.py"
      ]
    },
    {
      "cell_type": "markdown",
      "metadata": {
        "id": "RViB79aaBsp3"
      },
      "source": [
        "# Practice s03-79"
      ]
    },
    {
      "cell_type": "code",
      "execution_count": null,
      "metadata": {
        "id": "NGy2YdcpBsp5"
      },
      "outputs": [],
      "source": [
        "# Write down your code for Practice s03-79 in this cell.\n",
        "\n",
        "\n",
        "\n"
      ]
    },
    {
      "cell_type": "markdown",
      "metadata": {
        "id": "2VlvB8XABzNQ"
      },
      "source": [
        "# Sample Python script \"ai2023_s03_11_06.py\"\n"
      ]
    },
    {
      "cell_type": "code",
      "execution_count": null,
      "metadata": {
        "id": "DT0nvUlKBzNR"
      },
      "outputs": [],
      "source": [
        "# Run this cell to show the source code.\n",
        "\n",
        "!cat ai2023_s03_11_06.py"
      ]
    },
    {
      "cell_type": "code",
      "execution_count": null,
      "metadata": {
        "id": "n4FsgAsABzNS"
      },
      "outputs": [],
      "source": [
        "# Run this cell to execute the script.\n",
        "\n",
        "!python3.10 ai2023_s03_11_06.py"
      ]
    },
    {
      "cell_type": "markdown",
      "metadata": {
        "id": "_Qr-g-WtBzNT"
      },
      "source": [
        "# Practice s03-80"
      ]
    },
    {
      "cell_type": "code",
      "execution_count": null,
      "metadata": {
        "id": "n4HqPCp1BzNV"
      },
      "outputs": [],
      "source": [
        "# Write down your code for Practice s03-80 in this cell.\n",
        "\n",
        "\n",
        "\n"
      ]
    },
    {
      "cell_type": "markdown",
      "metadata": {
        "id": "DZBjZ7HkB6LQ"
      },
      "source": [
        "# Sample Python script \"ai2023_s03_11_07.py\"\n"
      ]
    },
    {
      "cell_type": "code",
      "execution_count": null,
      "metadata": {
        "id": "C-kOBayhB6LS"
      },
      "outputs": [],
      "source": [
        "# Run this cell to show the source code.\n",
        "\n",
        "!cat ai2023_s03_11_07.py"
      ]
    },
    {
      "cell_type": "code",
      "execution_count": null,
      "metadata": {
        "id": "gqh23GAEB6LU"
      },
      "outputs": [],
      "source": [
        "# Run this cell to execute the script.\n",
        "\n",
        "!python3.10 ai2023_s03_11_07.py"
      ]
    },
    {
      "cell_type": "markdown",
      "metadata": {
        "id": "Y0n0c5xIB6LU"
      },
      "source": [
        "# Practice s03-81"
      ]
    },
    {
      "cell_type": "code",
      "execution_count": null,
      "metadata": {
        "id": "JHGKpYRkB6LV"
      },
      "outputs": [],
      "source": [
        "# Write down your code for Practice s03-81 in this cell.\n",
        "\n",
        "\n",
        "\n"
      ]
    },
    {
      "cell_type": "markdown",
      "metadata": {
        "id": "LYkCq_MXCCRZ"
      },
      "source": [
        "# Sample Python script \"ai2023_s03_11_08.py\"\n"
      ]
    },
    {
      "cell_type": "code",
      "execution_count": null,
      "metadata": {
        "id": "T3lXcxvbCCRb"
      },
      "outputs": [],
      "source": [
        "# Run this cell to show the source code.\n",
        "\n",
        "!cat ai2023_s03_11_08.py"
      ]
    },
    {
      "cell_type": "code",
      "execution_count": null,
      "metadata": {
        "id": "7b3EzWyACCRe"
      },
      "outputs": [],
      "source": [
        "# Run this cell to execute the script.\n",
        "\n",
        "!python3.10 ai2023_s03_11_08.py"
      ]
    },
    {
      "cell_type": "markdown",
      "metadata": {
        "id": "3-HNoEUvCCRi"
      },
      "source": [
        "# Practice s03-82"
      ]
    },
    {
      "cell_type": "code",
      "execution_count": null,
      "metadata": {
        "id": "j7VdMjL-CCRk"
      },
      "outputs": [],
      "source": [
        "# Write down your code for Practice s03-82 in this cell.\n",
        "\n",
        "\n",
        "\n"
      ]
    },
    {
      "cell_type": "markdown",
      "metadata": {
        "id": "I3O1r2XjCIkT"
      },
      "source": [
        "# Sample Python script \"ai2023_s03_11_09.py\"\n"
      ]
    },
    {
      "cell_type": "code",
      "execution_count": null,
      "metadata": {
        "id": "6XGSmfnlCIkW"
      },
      "outputs": [],
      "source": [
        "# Run this cell to show the source code.\n",
        "\n",
        "!cat ai2023_s03_11_09.py"
      ]
    },
    {
      "cell_type": "code",
      "execution_count": null,
      "metadata": {
        "id": "2FVuCHPfCIkX"
      },
      "outputs": [],
      "source": [
        "# Run this cell to execute the script.\n",
        "\n",
        "!python3.10 ai2023_s03_11_09.py"
      ]
    },
    {
      "cell_type": "markdown",
      "metadata": {
        "id": "KY9O2_imCIkZ"
      },
      "source": [
        "# Practice s03-83"
      ]
    },
    {
      "cell_type": "code",
      "execution_count": null,
      "metadata": {
        "id": "AWPCc4gMCIkb"
      },
      "outputs": [],
      "source": [
        "# Write down your code for Practice s03-83 in this cell.\n",
        "\n",
        "\n",
        "\n"
      ]
    },
    {
      "cell_type": "markdown",
      "metadata": {
        "id": "wx5Kpy5eCPM2"
      },
      "source": [
        "# Sample Python script \"ai2023_s03_11_10.py\"\n"
      ]
    },
    {
      "cell_type": "code",
      "execution_count": null,
      "metadata": {
        "id": "Crosh4KlCPM8"
      },
      "outputs": [],
      "source": [
        "# Run this cell to show the source code.\n",
        "\n",
        "!cat ai2023_s03_11_10.py"
      ]
    },
    {
      "cell_type": "code",
      "execution_count": null,
      "metadata": {
        "id": "CDKE6qvmCPNA"
      },
      "outputs": [],
      "source": [
        "# Run this cell to execute the script.\n",
        "\n",
        "!python3.10 ai2023_s03_11_10.py"
      ]
    },
    {
      "cell_type": "markdown",
      "metadata": {
        "id": "dBxfM_foCPND"
      },
      "source": [
        "# Practice s03-84"
      ]
    },
    {
      "cell_type": "code",
      "execution_count": null,
      "metadata": {
        "id": "uYyjsnjtCPNF"
      },
      "outputs": [],
      "source": [
        "# Write down your code for Practice s03-84 in this cell.\n",
        "\n",
        "\n",
        "\n"
      ]
    },
    {
      "cell_type": "markdown",
      "metadata": {
        "id": "QN0FF8S_CWVI"
      },
      "source": [
        "# Sample Python script \"ai2023_s03_11_11.py\"\n"
      ]
    },
    {
      "cell_type": "code",
      "execution_count": null,
      "metadata": {
        "id": "18ykc18RCWVJ"
      },
      "outputs": [],
      "source": [
        "# Run this cell to show the source code.\n",
        "\n",
        "!cat ai2023_s03_11_11.py"
      ]
    },
    {
      "cell_type": "code",
      "execution_count": null,
      "metadata": {
        "id": "VUv5D7pWCWVK"
      },
      "outputs": [],
      "source": [
        "# Run this cell to execute the script.\n",
        "\n",
        "!python3.10 ai2023_s03_11_11.py"
      ]
    },
    {
      "cell_type": "markdown",
      "metadata": {
        "id": "LSFztZGGCWVL"
      },
      "source": [
        "# Practice s03-85"
      ]
    },
    {
      "cell_type": "code",
      "execution_count": null,
      "metadata": {
        "id": "WSZt4XMBCWVM"
      },
      "outputs": [],
      "source": [
        "# Write down your code for Practice s03-85 in this cell.\n",
        "\n",
        "\n",
        "\n"
      ]
    },
    {
      "cell_type": "markdown",
      "source": [
        "# End of this notebook"
      ],
      "metadata": {
        "id": "eOp4iOSTCbYG"
      }
    }
  ]
}