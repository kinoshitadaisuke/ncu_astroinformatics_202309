{
  "nbformat": 4,
  "nbformat_minor": 0,
  "metadata": {
    "colab": {
      "provenance": []
    },
    "kernelspec": {
      "name": "python3",
      "display_name": "Python 3"
    },
    "language_info": {
      "name": "python"
    }
  },
  "cells": [
    {
      "cell_type": "markdown",
      "metadata": {
        "id": "X9F8FTGZzaSe"
      },
      "source": [
        "# AS6095 \"Astroinformatics\"\n",
        "\n",
        "## for academic year 2023 (from Sep/2023 to Jan/2024)\n",
        "\n",
        "## instructor: Kinoshita Daisuke\n",
        "\n",
        "## Course web page: https://s3b.astro.ncu.edu.tw/ai_202309/\n",
        "\n",
        "## GitHub repository: https://github.com/kinoshitadaisuke/ncu_astroinformatics_202309\n"
      ]
    },
    {
      "cell_type": "markdown",
      "metadata": {
        "id": "MKQ0pdfJCZ1I"
      },
      "source": [
        "# Session 05 \"Scientific calculations and analyses using SciPy\"\n",
        "\n",
        "## 16 October 2023\n"
      ]
    },
    {
      "cell_type": "markdown",
      "metadata": {
        "id": "FVmonUCL197r"
      },
      "source": [
        "# Downloading a set of sample Python scripts and changing directory"
      ]
    },
    {
      "cell_type": "code",
      "execution_count": null,
      "metadata": {
        "id": "E-J1KLJAzmx5"
      },
      "outputs": [],
      "source": [
        "# Run this cell to download a set of sample Python scripts for this course.\n",
        "\n",
        "!git clone https://github.com/kinoshitadaisuke/ncu_astroinformatics_202309.git"
      ]
    },
    {
      "cell_type": "code",
      "execution_count": null,
      "metadata": {
        "id": "NU4Otc0i2jfu"
      },
      "outputs": [],
      "source": [
        "# Run this cell to check whether you have a directory named \"ncu_astroinformatics_202309\".\n",
        "\n",
        "!ls"
      ]
    },
    {
      "cell_type": "code",
      "execution_count": null,
      "metadata": {
        "id": "faZRhZv821VY"
      },
      "outputs": [],
      "source": [
        "# Run this cell to move to the directory \"ncu_astroinformatics_202309\".\n",
        "\n",
        "%cd ncu_astroinformatics_202309"
      ]
    },
    {
      "cell_type": "code",
      "execution_count": null,
      "metadata": {
        "id": "hUjHlUZk3Bov"
      },
      "outputs": [],
      "source": [
        "# Run this cell to show currently working directory.\n",
        "\n",
        "!pwd"
      ]
    },
    {
      "cell_type": "code",
      "execution_count": null,
      "metadata": {
        "id": "RXAGJHeX3IsD"
      },
      "outputs": [],
      "source": [
        "# Run this cell to show files and directories.\n",
        "\n",
        "!ls -lF"
      ]
    },
    {
      "cell_type": "code",
      "execution_count": null,
      "metadata": {
        "id": "xR0V8I0k3O3k"
      },
      "outputs": [],
      "source": [
        "# Run this cell to move to the directory \"s05\".\n",
        "\n",
        "%cd s05"
      ]
    },
    {
      "cell_type": "code",
      "execution_count": null,
      "metadata": {
        "id": "KbvQ_3Su3UKL"
      },
      "outputs": [],
      "source": [
        "# Run this cell to show currently working directory.\n",
        "\n",
        "!pwd"
      ]
    },
    {
      "cell_type": "code",
      "execution_count": null,
      "metadata": {
        "id": "n9AAgI4d3c6n"
      },
      "outputs": [],
      "source": [
        "# Run this cell to show files and directories.\n",
        "\n",
        "!ls -lF"
      ]
    },
    {
      "cell_type": "markdown",
      "source": [
        "# Installation of SciPy"
      ],
      "metadata": {
        "id": "o5lIPX8O5rOI"
      }
    },
    {
      "cell_type": "code",
      "source": [
        "# Run this cell to install SciPy\n",
        "\n",
        "!pip install scipy"
      ],
      "metadata": {
        "id": "e3ey6jU65uo1"
      },
      "execution_count": null,
      "outputs": []
    },
    {
      "cell_type": "markdown",
      "metadata": {
        "id": "3kDY3MHR4Vxj"
      },
      "source": [
        "# Sample Python script \"ai2023_s05_00_00.py\"\n"
      ]
    },
    {
      "cell_type": "code",
      "execution_count": null,
      "metadata": {
        "id": "tRN2oeq_4eoZ"
      },
      "outputs": [],
      "source": [
        "# Run this cell to show the source code.\n",
        "\n",
        "!cat ai2023_s05_00_00.py"
      ]
    },
    {
      "cell_type": "code",
      "execution_count": null,
      "metadata": {
        "id": "LsloMrHxBDvd"
      },
      "outputs": [],
      "source": [
        "# Run this cell to execute the script.\n",
        "\n",
        "!python3.10 ai2023_s05_00_00.py"
      ]
    },
    {
      "cell_type": "markdown",
      "metadata": {
        "id": "SNETVMoz6fRd"
      },
      "source": [
        "# Practice s05-01"
      ]
    },
    {
      "cell_type": "code",
      "execution_count": null,
      "metadata": {
        "id": "JllPWrQn6rOm"
      },
      "outputs": [],
      "source": [
        "# Write down your code for Practice s05-01 in this cell.\n",
        "\n",
        "\n",
        "\n"
      ]
    },
    {
      "cell_type": "markdown",
      "metadata": {
        "id": "14xSS_8R4k5M"
      },
      "source": [
        "# Sample Python script \"ai2023_s05_00_01.py\"\n"
      ]
    },
    {
      "cell_type": "code",
      "execution_count": null,
      "metadata": {
        "id": "opS7StFO4k5Q"
      },
      "outputs": [],
      "source": [
        "# Run this cell to show the source code.\n",
        "\n",
        "!cat ai2023_s05_00_01.py"
      ]
    },
    {
      "cell_type": "code",
      "execution_count": null,
      "metadata": {
        "id": "8FO-kGzg4k5S"
      },
      "outputs": [],
      "source": [
        "# Run this cell to execute the script.\n",
        "\n",
        "!python3.10 ai2023_s05_00_01.py"
      ]
    },
    {
      "cell_type": "markdown",
      "metadata": {
        "id": "ovOrJCN84k5V"
      },
      "source": [
        "# Practice s05-02"
      ]
    },
    {
      "cell_type": "code",
      "execution_count": null,
      "metadata": {
        "id": "HtO7SIOs4k5X"
      },
      "outputs": [],
      "source": [
        "# Write down your code for Practice s05-02 in this cell.\n",
        "\n",
        "\n",
        "\n"
      ]
    },
    {
      "cell_type": "markdown",
      "metadata": {
        "id": "a68N99-74tDN"
      },
      "source": [
        "# Sample Python script \"ai2023_s05_00_02.py\"\n"
      ]
    },
    {
      "cell_type": "code",
      "execution_count": null,
      "metadata": {
        "id": "ee62PcO74tDP"
      },
      "outputs": [],
      "source": [
        "# Run this cell to show the source code.\n",
        "\n",
        "!cat ai2023_s05_00_02.py"
      ]
    },
    {
      "cell_type": "code",
      "execution_count": null,
      "metadata": {
        "id": "kYqDSn7H4tDQ"
      },
      "outputs": [],
      "source": [
        "# Run this cell to execute the script.\n",
        "\n",
        "!python3.10 ai2023_s05_00_02.py"
      ]
    },
    {
      "cell_type": "markdown",
      "metadata": {
        "id": "wmLZx9fu4tDR"
      },
      "source": [
        "# Practice s05-03"
      ]
    },
    {
      "cell_type": "code",
      "execution_count": null,
      "metadata": {
        "id": "1YLDVtVi4tDS"
      },
      "outputs": [],
      "source": [
        "# Write down your code for Practice s05-03 in this cell.\n",
        "\n",
        "\n",
        "\n"
      ]
    },
    {
      "cell_type": "markdown",
      "metadata": {
        "id": "YAOT4sff40U9"
      },
      "source": [
        "# Sample Python script \"ai2023_s05_00_03.py\"\n"
      ]
    },
    {
      "cell_type": "code",
      "execution_count": null,
      "metadata": {
        "id": "zbUTrD9040VA"
      },
      "outputs": [],
      "source": [
        "# Run this cell to show the source code.\n",
        "\n",
        "!cat ai2023_s05_00_03.py"
      ]
    },
    {
      "cell_type": "code",
      "execution_count": null,
      "metadata": {
        "id": "gypjCYiH40VB"
      },
      "outputs": [],
      "source": [
        "# Run this cell to execute the script.\n",
        "\n",
        "!python3.10 ai2023_s05_00_03.py"
      ]
    },
    {
      "cell_type": "markdown",
      "metadata": {
        "id": "AycN-OkW40VC"
      },
      "source": [
        "# Practice s05-04"
      ]
    },
    {
      "cell_type": "code",
      "execution_count": null,
      "metadata": {
        "id": "r3H4C6Ev40VD"
      },
      "outputs": [],
      "source": [
        "# Write down your code for Practice s05-04 in this cell.\n",
        "\n",
        "\n",
        "\n"
      ]
    },
    {
      "cell_type": "markdown",
      "metadata": {
        "id": "p6XXDAAz466c"
      },
      "source": [
        "# Sample Python script \"ai2023_s05_00_04.py\"\n"
      ]
    },
    {
      "cell_type": "code",
      "execution_count": null,
      "metadata": {
        "id": "ZbrmMoaQ466c"
      },
      "outputs": [],
      "source": [
        "# Run this cell to show the source code.\n",
        "\n",
        "!cat ai2023_s05_00_04.py"
      ]
    },
    {
      "cell_type": "code",
      "execution_count": null,
      "metadata": {
        "id": "0Y6m9eQn466d"
      },
      "outputs": [],
      "source": [
        "# Run this cell to execute the script.\n",
        "\n",
        "!python3.10 ai2023_s05_00_04.py"
      ]
    },
    {
      "cell_type": "markdown",
      "metadata": {
        "id": "-KgIJ7m9466d"
      },
      "source": [
        "# Practice s05-05"
      ]
    },
    {
      "cell_type": "code",
      "execution_count": null,
      "metadata": {
        "id": "ZeFy96et466d"
      },
      "outputs": [],
      "source": [
        "# Write down your code for Practice s05-05 in this cell.\n",
        "\n",
        "\n",
        "\n"
      ]
    },
    {
      "cell_type": "markdown",
      "metadata": {
        "id": "BjdMqU7W5DLO"
      },
      "source": [
        "# Sample Python script \"ai2023_s05_00_05.py\"\n"
      ]
    },
    {
      "cell_type": "code",
      "execution_count": null,
      "metadata": {
        "id": "hYll9Kdp5DLQ"
      },
      "outputs": [],
      "source": [
        "# Run this cell to show the source code.\n",
        "\n",
        "!cat ai2023_s05_00_05.py"
      ]
    },
    {
      "cell_type": "code",
      "execution_count": null,
      "metadata": {
        "id": "NTY4Ah6m5DLS"
      },
      "outputs": [],
      "source": [
        "# Run this cell to execute the script.\n",
        "\n",
        "!python3.10 ai2023_s05_00_05.py"
      ]
    },
    {
      "cell_type": "markdown",
      "metadata": {
        "id": "NELmZa9K5DLT"
      },
      "source": [
        "# Practice s05-06"
      ]
    },
    {
      "cell_type": "code",
      "execution_count": null,
      "metadata": {
        "id": "pcHWoFV_5DLU"
      },
      "outputs": [],
      "source": [
        "# Write down your code for Practice s05-06 in this cell.\n",
        "\n",
        "\n",
        "\n"
      ]
    },
    {
      "cell_type": "markdown",
      "metadata": {
        "id": "aPf4c-nF5LEg"
      },
      "source": [
        "# Sample Python script \"ai2023_s05_00_06.py\"\n"
      ]
    },
    {
      "cell_type": "code",
      "execution_count": null,
      "metadata": {
        "id": "CSdl9lA15LEh"
      },
      "outputs": [],
      "source": [
        "# Run this cell to show the source code.\n",
        "\n",
        "!cat ai2023_s05_00_06.py"
      ]
    },
    {
      "cell_type": "code",
      "execution_count": null,
      "metadata": {
        "id": "-fCaYxKw5LEi"
      },
      "outputs": [],
      "source": [
        "# Run this cell to execute the script.\n",
        "\n",
        "!python3.10 ai2023_s05_00_06.py"
      ]
    },
    {
      "cell_type": "markdown",
      "metadata": {
        "id": "CkB6Gv_O5LEj"
      },
      "source": [
        "# Practice s05-07"
      ]
    },
    {
      "cell_type": "code",
      "execution_count": null,
      "metadata": {
        "id": "LYXinmwU5LEl"
      },
      "outputs": [],
      "source": [
        "# Write down your code for Practice s05-07 in this cell.\n",
        "\n",
        "\n",
        "\n"
      ]
    },
    {
      "cell_type": "markdown",
      "metadata": {
        "id": "fbXP5PUe5Sj_"
      },
      "source": [
        "# Sample Python script \"ai2023_s05_00_07.py\"\n"
      ]
    },
    {
      "cell_type": "code",
      "execution_count": null,
      "metadata": {
        "id": "5w6GFa3_5SkE"
      },
      "outputs": [],
      "source": [
        "# Run this cell to show the source code.\n",
        "\n",
        "!cat ai2023_s05_00_07.py"
      ]
    },
    {
      "cell_type": "code",
      "execution_count": null,
      "metadata": {
        "id": "HEsfb3cO5SkG"
      },
      "outputs": [],
      "source": [
        "# Run this cell to execute the script.\n",
        "\n",
        "!python3.10 ai2023_s05_00_07.py"
      ]
    },
    {
      "cell_type": "markdown",
      "metadata": {
        "id": "ujh3GkiW5SkG"
      },
      "source": [
        "# Practice s05-08"
      ]
    },
    {
      "cell_type": "code",
      "execution_count": null,
      "metadata": {
        "id": "Ahd9DwG-5SkI"
      },
      "outputs": [],
      "source": [
        "# Write down your code for Practice s05-08 in this cell.\n",
        "\n",
        "\n",
        "\n"
      ]
    },
    {
      "cell_type": "markdown",
      "metadata": {
        "id": "PfJM3iIz5bgG"
      },
      "source": [
        "# Sample Python script \"ai2023_s05_00_08.py\"\n"
      ]
    },
    {
      "cell_type": "code",
      "execution_count": null,
      "metadata": {
        "id": "n91eKVhu5bgH"
      },
      "outputs": [],
      "source": [
        "# Run this cell to show the source code.\n",
        "\n",
        "!cat ai2023_s05_00_08.py"
      ]
    },
    {
      "cell_type": "code",
      "execution_count": null,
      "metadata": {
        "id": "_-6DVtiF5bgI"
      },
      "outputs": [],
      "source": [
        "# Run this cell to execute the script.\n",
        "\n",
        "!python3.10 ai2023_s05_00_08.py"
      ]
    },
    {
      "cell_type": "markdown",
      "metadata": {
        "id": "wXc4-aFY5bgJ"
      },
      "source": [
        "# Practice s05-09"
      ]
    },
    {
      "cell_type": "code",
      "execution_count": null,
      "metadata": {
        "id": "xpgDALcC5bgJ"
      },
      "outputs": [],
      "source": [
        "# Write down your code for Practice s05-09 in this cell.\n",
        "\n",
        "\n",
        "\n"
      ]
    },
    {
      "cell_type": "markdown",
      "metadata": {
        "id": "smc5easo5jNY"
      },
      "source": [
        "# Sample Python script \"ai2023_s05_00_09.py\"\n"
      ]
    },
    {
      "cell_type": "code",
      "execution_count": null,
      "metadata": {
        "id": "XlNZmbwk5jNb"
      },
      "outputs": [],
      "source": [
        "# Run this cell to show the source code.\n",
        "\n",
        "!cat ai2023_s05_00_09.py"
      ]
    },
    {
      "cell_type": "code",
      "execution_count": null,
      "metadata": {
        "id": "8-ux-7dr5jNe"
      },
      "outputs": [],
      "source": [
        "# Run this cell to execute the script.\n",
        "\n",
        "!python3.10 ai2023_s05_00_09.py"
      ]
    },
    {
      "cell_type": "markdown",
      "metadata": {
        "id": "ICdfVCgx5jNe"
      },
      "source": [
        "# Practice s05-10"
      ]
    },
    {
      "cell_type": "code",
      "execution_count": null,
      "metadata": {
        "id": "sSpXRtgE5jNg"
      },
      "outputs": [],
      "source": [
        "# Write down your code for Practice s05-10 in this cell.\n",
        "\n",
        "\n",
        "\n"
      ]
    },
    {
      "cell_type": "markdown",
      "metadata": {
        "id": "o10qBO4F5qwv"
      },
      "source": [
        "# Sample Python script \"ai2023_s05_01_00.py\"\n"
      ]
    },
    {
      "cell_type": "code",
      "execution_count": null,
      "metadata": {
        "id": "AAZC5SGg5qwx"
      },
      "outputs": [],
      "source": [
        "# Run this cell to show the source code.\n",
        "\n",
        "!cat ai2023_s05_01_00.py"
      ]
    },
    {
      "cell_type": "code",
      "execution_count": null,
      "metadata": {
        "id": "uHCHYBs45qwy"
      },
      "outputs": [],
      "source": [
        "# Run this cell to execute the script.\n",
        "\n",
        "!python3.10 ai2023_s05_01_00.py -h"
      ]
    },
    {
      "cell_type": "code",
      "execution_count": null,
      "metadata": {
        "id": "OoTPD23Y6jki"
      },
      "outputs": [],
      "source": [
        "# Run this cell to execute the script.\n",
        "\n",
        "!python3.10 ai2023_s05_01_00.py -n 100"
      ]
    },
    {
      "cell_type": "markdown",
      "metadata": {
        "id": "D-tnEhK55qwz"
      },
      "source": [
        "# Practice s05-11"
      ]
    },
    {
      "cell_type": "code",
      "execution_count": null,
      "metadata": {
        "id": "XZdPWxCR5qw0"
      },
      "outputs": [],
      "source": [
        "# Write down your code for Practice s05-11 in this cell.\n",
        "\n",
        "\n",
        "\n"
      ]
    },
    {
      "cell_type": "markdown",
      "metadata": {
        "id": "0RIiDW3K51X4"
      },
      "source": [
        "# Sample Python script \"ai2023_s05_01_01.py\"\n"
      ]
    },
    {
      "cell_type": "code",
      "execution_count": null,
      "metadata": {
        "id": "p0NB97ig51X7"
      },
      "outputs": [],
      "source": [
        "# Run this cell to show the source code.\n",
        "\n",
        "!cat ai2023_s05_01_01.py"
      ]
    },
    {
      "cell_type": "code",
      "execution_count": null,
      "metadata": {
        "id": "jmuwWWjD51X8"
      },
      "outputs": [],
      "source": [
        "# Run this cell to execute the script.\n",
        "\n",
        "!python3.10 ai2023_s05_01_01.py -h"
      ]
    },
    {
      "cell_type": "code",
      "execution_count": null,
      "metadata": {
        "id": "FceyxA1Y6r_w"
      },
      "outputs": [],
      "source": [
        "# Run this cell to execute the script.\n",
        "\n",
        "!python3.10 ai2023_s05_01_01.py -n 30"
      ]
    },
    {
      "cell_type": "markdown",
      "metadata": {
        "id": "0zJe0Thj51X9"
      },
      "source": [
        "# Practice s05-12"
      ]
    },
    {
      "cell_type": "code",
      "execution_count": null,
      "metadata": {
        "id": "2mjRTE6j51X_"
      },
      "outputs": [],
      "source": [
        "# Write down your code for Practice s05-12 in this cell.\n",
        "\n",
        "\n",
        "\n"
      ]
    },
    {
      "cell_type": "markdown",
      "metadata": {
        "id": "Z0PxdlCq58Z_"
      },
      "source": [
        "# Sample Python script \"ai2023_s05_01_02.py\"\n"
      ]
    },
    {
      "cell_type": "code",
      "execution_count": null,
      "metadata": {
        "id": "VimsSvoB58aC"
      },
      "outputs": [],
      "source": [
        "# Run this cell to show the source code.\n",
        "\n",
        "!cat ai2023_s05_01_02.py"
      ]
    },
    {
      "cell_type": "code",
      "execution_count": null,
      "metadata": {
        "id": "6XbY0Mrz58aE"
      },
      "outputs": [],
      "source": [
        "# Run this cell to execute the script.\n",
        "\n",
        "!python3.10 ai2023_s05_01_02.py -h"
      ]
    },
    {
      "cell_type": "code",
      "execution_count": null,
      "metadata": {
        "id": "85cs7nIv6yzV"
      },
      "outputs": [],
      "source": [
        "# Run this cell to execute the script.\n",
        "\n",
        "!python3.10 ai2023_s05_01_02.py -a 1000 -b 2000 -n 3000"
      ]
    },
    {
      "cell_type": "markdown",
      "metadata": {
        "id": "qV5Gw6Zy58aG"
      },
      "source": [
        "# Practice s05-13"
      ]
    },
    {
      "cell_type": "code",
      "execution_count": null,
      "metadata": {
        "id": "17skGtWA58aI"
      },
      "outputs": [],
      "source": [
        "# Write down your code for Practice s05-13 in this cell.\n",
        "\n",
        "\n",
        "\n"
      ]
    },
    {
      "cell_type": "markdown",
      "metadata": {
        "id": "WI-8iaKI6Dji"
      },
      "source": [
        "# Sample Python script \"ai2023_s05_01_03.py\"\n"
      ]
    },
    {
      "cell_type": "code",
      "execution_count": null,
      "metadata": {
        "id": "j_EniPc96Djl"
      },
      "outputs": [],
      "source": [
        "# Run this cell to show the source code.\n",
        "\n",
        "!cat ai2023_s05_01_03.py"
      ]
    },
    {
      "cell_type": "code",
      "execution_count": null,
      "metadata": {
        "id": "ZC-qHrml6Djo"
      },
      "outputs": [],
      "source": [
        "# Run this cell to execute the script.\n",
        "\n",
        "!python3.10 ai2023_s05_01_03.py -h"
      ]
    },
    {
      "cell_type": "code",
      "execution_count": null,
      "metadata": {
        "id": "jaanj1Oj66vA"
      },
      "outputs": [],
      "source": [
        "# Run this cell to execute the script.\n",
        "\n",
        "!python3.10 ai2023_s05_01_03.py -m 100 -s 10 -n 100"
      ]
    },
    {
      "cell_type": "markdown",
      "metadata": {
        "id": "GHJiQoVw6Djq"
      },
      "source": [
        "# Practice s05-14"
      ]
    },
    {
      "cell_type": "code",
      "execution_count": null,
      "metadata": {
        "id": "IugVb0ut6Djs"
      },
      "outputs": [],
      "source": [
        "# Write down your code for Practice s05-14 in this cell.\n",
        "\n",
        "\n",
        "\n"
      ]
    },
    {
      "cell_type": "markdown",
      "metadata": {
        "id": "sIM98R_O6JVA"
      },
      "source": [
        "# Sample Python script \"ai2023_s05_02_00.py\"\n"
      ]
    },
    {
      "cell_type": "code",
      "execution_count": null,
      "metadata": {
        "id": "i4bge-736JVC"
      },
      "outputs": [],
      "source": [
        "# Run this cell to show the source code.\n",
        "\n",
        "!cat ai2023_s05_02_00.py"
      ]
    },
    {
      "cell_type": "code",
      "execution_count": null,
      "metadata": {
        "id": "Q5EiXleG6JVD"
      },
      "outputs": [],
      "source": [
        "# Run this cell to execute the script.\n",
        "\n",
        "!python3.10 ai2023_s05_02_00.py -h"
      ]
    },
    {
      "cell_type": "code",
      "execution_count": null,
      "metadata": {
        "id": "JZxXm7nt7EjJ"
      },
      "outputs": [],
      "source": [
        "# Run this cell to execute the script.\n",
        "\n",
        "!python3.10 ai2023_s05_02_00.py -n 10000 -m 100 -s 10"
      ]
    },
    {
      "cell_type": "markdown",
      "metadata": {
        "id": "DWb89O7K6JVE"
      },
      "source": [
        "# Practice s05-15"
      ]
    },
    {
      "cell_type": "code",
      "execution_count": null,
      "metadata": {
        "id": "nYos69dI6JVF"
      },
      "outputs": [],
      "source": [
        "# Write down your code for Practice s05-15 in this cell.\n",
        "\n",
        "\n",
        "\n"
      ]
    },
    {
      "cell_type": "markdown",
      "metadata": {
        "id": "q1jfhanv6Q_r"
      },
      "source": [
        "# Sample Python script \"ai2023_s05_02_01.py\"\n"
      ]
    },
    {
      "cell_type": "code",
      "execution_count": null,
      "metadata": {
        "id": "7yQE16nj6Q_u"
      },
      "outputs": [],
      "source": [
        "# Run this cell to show the source code.\n",
        "\n",
        "!cat ai2023_s05_02_01.py"
      ]
    },
    {
      "cell_type": "code",
      "execution_count": null,
      "metadata": {
        "id": "peHTRXM46Q_v"
      },
      "outputs": [],
      "source": [
        "# Run this cell to execute the script.\n",
        "\n",
        "!python3.10 ai2023_s05_02_01.py -h"
      ]
    },
    {
      "cell_type": "code",
      "execution_count": null,
      "metadata": {
        "id": "2-jJMW8l7O1p"
      },
      "outputs": [],
      "source": [
        "# Run this cell to execute the script.\n",
        "\n",
        "!python3.10 ai2023_s05_02_01.py -n 10000 -m 100 -s 10"
      ]
    },
    {
      "cell_type": "markdown",
      "metadata": {
        "id": "tdymGHxK6Q_x"
      },
      "source": [
        "# Practice s05-16"
      ]
    },
    {
      "cell_type": "code",
      "execution_count": null,
      "metadata": {
        "id": "MjKpTbua6Q_z"
      },
      "outputs": [],
      "source": [
        "# Write down your code for Practice s05-16 in this cell.\n",
        "\n",
        "\n",
        "\n"
      ]
    },
    {
      "cell_type": "markdown",
      "metadata": {
        "id": "DE5oLXd57WNQ"
      },
      "source": [
        "# Sample Python script \"ai2023_s05_02_02.py\"\n"
      ]
    },
    {
      "cell_type": "code",
      "execution_count": null,
      "metadata": {
        "id": "D3lZpDbE7WNS"
      },
      "outputs": [],
      "source": [
        "# Run this cell to show the source code.\n",
        "\n",
        "!cat ai2023_s05_02_02.py"
      ]
    },
    {
      "cell_type": "code",
      "execution_count": null,
      "metadata": {
        "id": "Q4hMLgob7WNS"
      },
      "outputs": [],
      "source": [
        "# Run this cell to execute the script.\n",
        "\n",
        "!python3.10 ai2023_s05_02_02.py -h"
      ]
    },
    {
      "cell_type": "code",
      "execution_count": null,
      "metadata": {
        "id": "XKrkfajk7WNT"
      },
      "outputs": [],
      "source": [
        "# Run this cell to execute the script.\n",
        "\n",
        "!python3.10 ai2023_s05_02_02.py -n 10000 -m 100 -s 10"
      ]
    },
    {
      "cell_type": "markdown",
      "metadata": {
        "id": "MYWsdgFq7WNU"
      },
      "source": [
        "# Practice s05-17"
      ]
    },
    {
      "cell_type": "code",
      "execution_count": null,
      "metadata": {
        "id": "utjhHqd17WNU"
      },
      "outputs": [],
      "source": [
        "# Write down your code for Practice s05-17 in this cell.\n",
        "\n",
        "\n",
        "\n"
      ]
    },
    {
      "cell_type": "markdown",
      "metadata": {
        "id": "onRvcT_W7htI"
      },
      "source": [
        "# Sample Python script \"ai2023_s05_02_03.py\"\n"
      ]
    },
    {
      "cell_type": "code",
      "execution_count": null,
      "metadata": {
        "id": "jWDgMjLo7htK"
      },
      "outputs": [],
      "source": [
        "# Run this cell to show the source code.\n",
        "\n",
        "!cat ai2023_s05_02_03.py"
      ]
    },
    {
      "cell_type": "code",
      "execution_count": null,
      "metadata": {
        "id": "guIg0_nx7htM"
      },
      "outputs": [],
      "source": [
        "# Run this cell to execute the script.\n",
        "\n",
        "!python3.10 ai2023_s05_02_03.py -h"
      ]
    },
    {
      "cell_type": "code",
      "execution_count": null,
      "metadata": {
        "id": "0sh23GzT7htN"
      },
      "outputs": [],
      "source": [
        "# Run this cell to execute the script.\n",
        "\n",
        "!python3.10 ai2023_s05_02_03.py -n 10000 -m 100 -s 10"
      ]
    },
    {
      "cell_type": "markdown",
      "metadata": {
        "id": "PTYIWH807htN"
      },
      "source": [
        "# Practice s05-18"
      ]
    },
    {
      "cell_type": "code",
      "execution_count": null,
      "metadata": {
        "id": "2pVvWBOu7htO"
      },
      "outputs": [],
      "source": [
        "# Write down your code for Practice s05-18 in this cell.\n",
        "\n",
        "\n",
        "\n"
      ]
    },
    {
      "cell_type": "markdown",
      "metadata": {
        "id": "6ahWcodA7pKp"
      },
      "source": [
        "# Sample Python script \"ai2023_s05_02_04.py\"\n"
      ]
    },
    {
      "cell_type": "code",
      "execution_count": null,
      "metadata": {
        "id": "MSLUDxi_7pKq"
      },
      "outputs": [],
      "source": [
        "# Run this cell to show the source code.\n",
        "\n",
        "!cat ai2023_s05_02_04.py"
      ]
    },
    {
      "cell_type": "code",
      "execution_count": null,
      "metadata": {
        "id": "CqV1RtNp7pKr"
      },
      "outputs": [],
      "source": [
        "# Run this cell to execute the script.\n",
        "\n",
        "!python3.10 ai2023_s05_02_04.py -h"
      ]
    },
    {
      "cell_type": "code",
      "execution_count": null,
      "metadata": {
        "id": "nmlaDOgF7pKs"
      },
      "outputs": [],
      "source": [
        "# Run this cell to execute the script.\n",
        "\n",
        "!python3.10 ai2023_s05_02_04.py -n 10000 -m 100 -s 10"
      ]
    },
    {
      "cell_type": "markdown",
      "metadata": {
        "id": "Ob_iKs9v7pKt"
      },
      "source": [
        "# Practice s05-19"
      ]
    },
    {
      "cell_type": "code",
      "execution_count": null,
      "metadata": {
        "id": "k5eO80ZX7pKu"
      },
      "outputs": [],
      "source": [
        "# Write down your code for Practice s05-19 in this cell.\n",
        "\n",
        "\n",
        "\n"
      ]
    },
    {
      "cell_type": "markdown",
      "metadata": {
        "id": "DqKYTvez7wqy"
      },
      "source": [
        "# Sample Python script \"ai2023_s05_02_05.py\"\n"
      ]
    },
    {
      "cell_type": "code",
      "execution_count": null,
      "metadata": {
        "id": "eav1mpD07wqz"
      },
      "outputs": [],
      "source": [
        "# Run this cell to show the source code.\n",
        "\n",
        "!cat ai2023_s05_02_05.py"
      ]
    },
    {
      "cell_type": "code",
      "execution_count": null,
      "metadata": {
        "id": "yus-g54S7wq2"
      },
      "outputs": [],
      "source": [
        "# Run this cell to execute the script.\n",
        "\n",
        "!python3.10 ai2023_s05_02_05.py -h"
      ]
    },
    {
      "cell_type": "code",
      "execution_count": null,
      "metadata": {
        "id": "_0NGRmXS7wq3"
      },
      "outputs": [],
      "source": [
        "# Run this cell to execute the script.\n",
        "\n",
        "!python3.10 ai2023_s05_02_05.py -n 10000 -m 100 -s 10"
      ]
    },
    {
      "cell_type": "markdown",
      "metadata": {
        "id": "fi5gv9am7wq4"
      },
      "source": [
        "# Practice s05-20"
      ]
    },
    {
      "cell_type": "code",
      "execution_count": null,
      "metadata": {
        "id": "ofARbD4H7wq5"
      },
      "outputs": [],
      "source": [
        "# Write down your code for Practice s05-20 in this cell.\n",
        "\n",
        "\n",
        "\n"
      ]
    },
    {
      "cell_type": "markdown",
      "metadata": {
        "id": "qy-P42xO737E"
      },
      "source": [
        "# Sample Python script \"ai2023_s05_02_06.py\"\n"
      ]
    },
    {
      "cell_type": "code",
      "execution_count": null,
      "metadata": {
        "id": "NG1dC1w4737F"
      },
      "outputs": [],
      "source": [
        "# Run this cell to show the source code.\n",
        "\n",
        "!cat ai2023_s05_02_06.py"
      ]
    },
    {
      "cell_type": "code",
      "execution_count": null,
      "metadata": {
        "id": "LWcXQTcf737H"
      },
      "outputs": [],
      "source": [
        "# Run this cell to execute the script.\n",
        "\n",
        "!python3.10 ai2023_s05_02_06.py -h"
      ]
    },
    {
      "cell_type": "code",
      "execution_count": null,
      "metadata": {
        "id": "n6r4iWqt737I"
      },
      "outputs": [],
      "source": [
        "# Run this cell to execute the script.\n",
        "\n",
        "!python3.10 ai2023_s05_02_06.py -n 10000 -m 100 -s 10"
      ]
    },
    {
      "cell_type": "markdown",
      "metadata": {
        "id": "6hNPPHja737J"
      },
      "source": [
        "# Practice s05-21"
      ]
    },
    {
      "cell_type": "code",
      "execution_count": null,
      "metadata": {
        "id": "6FryHd_X737K"
      },
      "outputs": [],
      "source": [
        "# Write down your code for Practice s05-21 in this cell.\n",
        "\n",
        "\n",
        "\n"
      ]
    },
    {
      "cell_type": "markdown",
      "metadata": {
        "id": "il-Iu62I8BPb"
      },
      "source": [
        "# Sample Python script \"ai2023_s05_02_07.py\"\n"
      ]
    },
    {
      "cell_type": "code",
      "execution_count": null,
      "metadata": {
        "id": "gQC0pPz58BPd"
      },
      "outputs": [],
      "source": [
        "# Run this cell to show the source code.\n",
        "\n",
        "!cat ai2023_s05_02_07.py"
      ]
    },
    {
      "cell_type": "code",
      "execution_count": null,
      "metadata": {
        "id": "N2QYNxGr8BPf"
      },
      "outputs": [],
      "source": [
        "# Run this cell to execute the script.\n",
        "\n",
        "!python3.10 ai2023_s05_02_07.py -h"
      ]
    },
    {
      "cell_type": "code",
      "execution_count": null,
      "metadata": {
        "id": "V7jNr_6Z8BPg"
      },
      "outputs": [],
      "source": [
        "# Run this cell to execute the script.\n",
        "\n",
        "!python3.10 ai2023_s05_02_07.py -n 10000 -m 100 -s 10"
      ]
    },
    {
      "cell_type": "markdown",
      "metadata": {
        "id": "g9u5x3aC8BPh"
      },
      "source": [
        "# Practice s05-22"
      ]
    },
    {
      "cell_type": "code",
      "execution_count": null,
      "metadata": {
        "id": "09sqG7gM8BPi"
      },
      "outputs": [],
      "source": [
        "# Write down your code for Practice s05-22 in this cell.\n",
        "\n",
        "\n",
        "\n"
      ]
    },
    {
      "cell_type": "markdown",
      "metadata": {
        "id": "hCLTGUuH8JHD"
      },
      "source": [
        "# Sample Python script \"ai2023_s05_03_00.py\"\n"
      ]
    },
    {
      "cell_type": "code",
      "execution_count": null,
      "metadata": {
        "id": "U2AUhOdM8JHG"
      },
      "outputs": [],
      "source": [
        "# Run this cell to show the source code.\n",
        "\n",
        "!cat ai2023_s05_03_00.py"
      ]
    },
    {
      "cell_type": "code",
      "execution_count": null,
      "metadata": {
        "id": "6foohFoa8JHH"
      },
      "outputs": [],
      "source": [
        "# Run this cell to execute the script.\n",
        "\n",
        "!python3.10 ai2023_s05_03_00.py"
      ]
    },
    {
      "cell_type": "markdown",
      "metadata": {
        "id": "h1IzRQQ68JHJ"
      },
      "source": [
        "# Practice s05-23"
      ]
    },
    {
      "cell_type": "code",
      "execution_count": null,
      "metadata": {
        "id": "Z07WKmUs8JHL"
      },
      "outputs": [],
      "source": [
        "# Write down your code for Practice s05-23 in this cell.\n",
        "\n",
        "\n",
        "\n"
      ]
    },
    {
      "cell_type": "markdown",
      "metadata": {
        "id": "7blrrqj69sbi"
      },
      "source": [
        "# Sample Python script \"ai2023_s05_03_01.py\"\n"
      ]
    },
    {
      "cell_type": "code",
      "execution_count": null,
      "metadata": {
        "id": "kuoqcTas9sbk"
      },
      "outputs": [],
      "source": [
        "# Run this cell to show the source code.\n",
        "\n",
        "!cat ai2023_s05_03_01.py"
      ]
    },
    {
      "cell_type": "code",
      "execution_count": null,
      "metadata": {
        "id": "ONxxJOe79sbl"
      },
      "outputs": [],
      "source": [
        "# Run this cell to execute the script.\n",
        "\n",
        "!python3.10 ai2023_s05_03_01.py"
      ]
    },
    {
      "cell_type": "markdown",
      "metadata": {
        "id": "0kwO8PdS9sbm"
      },
      "source": [
        "# Practice s05-24"
      ]
    },
    {
      "cell_type": "code",
      "execution_count": null,
      "metadata": {
        "id": "fXW0yHW29sbn"
      },
      "outputs": [],
      "source": [
        "# Write down your code for Practice s05-24 in this cell.\n",
        "\n",
        "\n",
        "\n"
      ]
    },
    {
      "cell_type": "markdown",
      "metadata": {
        "id": "JyqQhH379zFl"
      },
      "source": [
        "# Sample Python script \"ai2023_s05_03_02.py\"\n"
      ]
    },
    {
      "cell_type": "code",
      "execution_count": null,
      "metadata": {
        "id": "YxVzegeT9zFm"
      },
      "outputs": [],
      "source": [
        "# Run this cell to show the source code.\n",
        "\n",
        "!cat ai2023_s05_03_02.py"
      ]
    },
    {
      "cell_type": "code",
      "execution_count": null,
      "metadata": {
        "id": "goNC_QA59zFo"
      },
      "outputs": [],
      "source": [
        "# Run this cell to execute the script.\n",
        "\n",
        "!python3.10 ai2023_s05_03_02.py"
      ]
    },
    {
      "cell_type": "markdown",
      "metadata": {
        "id": "EvyAVCbG9zFq"
      },
      "source": [
        "# Practice s05-25"
      ]
    },
    {
      "cell_type": "code",
      "execution_count": null,
      "metadata": {
        "id": "8UlRiJvG9zFs"
      },
      "outputs": [],
      "source": [
        "# Write down your code for Practice s05-25 in this cell.\n",
        "\n",
        "\n",
        "\n"
      ]
    },
    {
      "cell_type": "markdown",
      "metadata": {
        "id": "i3GfPzya9436"
      },
      "source": [
        "# Sample Python script \"ai2023_s05_03_03.py\"\n"
      ]
    },
    {
      "cell_type": "code",
      "execution_count": null,
      "metadata": {
        "id": "Qni2RqWr9437"
      },
      "outputs": [],
      "source": [
        "# Run this cell to show the source code.\n",
        "\n",
        "!cat ai2023_s05_03_03.py"
      ]
    },
    {
      "cell_type": "code",
      "execution_count": null,
      "metadata": {
        "id": "3jFkrZfI9438"
      },
      "outputs": [],
      "source": [
        "# Run this cell to execute the script.\n",
        "\n",
        "!python3.10 ai2023_s05_03_03.py"
      ]
    },
    {
      "cell_type": "markdown",
      "metadata": {
        "id": "E7_S9ALU9438"
      },
      "source": [
        "# Practice s05-26"
      ]
    },
    {
      "cell_type": "code",
      "execution_count": null,
      "metadata": {
        "id": "1fxEFSXb9439"
      },
      "outputs": [],
      "source": [
        "# Write down your code for Practice s05-26 in this cell.\n",
        "\n",
        "\n",
        "\n"
      ]
    },
    {
      "cell_type": "markdown",
      "metadata": {
        "id": "Bw4yiIoF9-yU"
      },
      "source": [
        "# Sample Python script \"ai2023_s05_03_04.py\"\n"
      ]
    },
    {
      "cell_type": "code",
      "execution_count": null,
      "metadata": {
        "id": "9rjPpUyl9-yU"
      },
      "outputs": [],
      "source": [
        "# Run this cell to show the source code.\n",
        "\n",
        "!cat ai2023_s05_03_04.py"
      ]
    },
    {
      "cell_type": "code",
      "execution_count": null,
      "metadata": {
        "id": "Qyd7seqp9-yV"
      },
      "outputs": [],
      "source": [
        "# Run this cell to execute the script.\n",
        "\n",
        "!python3.10 ai2023_s05_03_04.py"
      ]
    },
    {
      "cell_type": "markdown",
      "metadata": {
        "id": "zuV8WCmu9-yV"
      },
      "source": [
        "# Practice s05-27"
      ]
    },
    {
      "cell_type": "code",
      "execution_count": null,
      "metadata": {
        "id": "BtyC0P-d9-yW"
      },
      "outputs": [],
      "source": [
        "# Write down your code for Practice s05-27 in this cell.\n",
        "\n",
        "\n",
        "\n"
      ]
    },
    {
      "cell_type": "markdown",
      "metadata": {
        "id": "JdnRmg10-FXG"
      },
      "source": [
        "# Sample Python script \"ai2023_s05_03_05.py\"\n"
      ]
    },
    {
      "cell_type": "code",
      "execution_count": null,
      "metadata": {
        "id": "O-6xdx5c-FXI"
      },
      "outputs": [],
      "source": [
        "# Run this cell to show the source code.\n",
        "\n",
        "!cat ai2023_s05_03_05.py"
      ]
    },
    {
      "cell_type": "code",
      "execution_count": null,
      "metadata": {
        "id": "5nyHpaGa-FXJ"
      },
      "outputs": [],
      "source": [
        "# Run this cell to execute the script.\n",
        "\n",
        "!python3.10 ai2023_s05_03_05.py"
      ]
    },
    {
      "cell_type": "markdown",
      "metadata": {
        "id": "MZDIo81H-FXL"
      },
      "source": [
        "# Practice s05-28"
      ]
    },
    {
      "cell_type": "code",
      "execution_count": null,
      "metadata": {
        "id": "hK0YTohI-FXM"
      },
      "outputs": [],
      "source": [
        "# Write down your code for Practice s05-28 in this cell.\n",
        "\n",
        "\n",
        "\n"
      ]
    },
    {
      "cell_type": "markdown",
      "metadata": {
        "id": "qM6WnvMw-L0q"
      },
      "source": [
        "# Sample Python script \"ai2023_s05_04_00.py\"\n"
      ]
    },
    {
      "cell_type": "code",
      "execution_count": null,
      "metadata": {
        "id": "OrMTXr7M-L0s"
      },
      "outputs": [],
      "source": [
        "# Run this cell to show the source code.\n",
        "\n",
        "!cat ai2023_s05_04_00.py"
      ]
    },
    {
      "cell_type": "code",
      "execution_count": null,
      "metadata": {
        "id": "pdlrwCmx-L0u"
      },
      "outputs": [],
      "source": [
        "# Run this cell to execute the script.\n",
        "\n",
        "!python3.10 ai2023_s05_04_00.py -h"
      ]
    },
    {
      "cell_type": "code",
      "execution_count": null,
      "metadata": {
        "id": "PonlID_S-R7n"
      },
      "outputs": [],
      "source": [
        "# Run this cell to execute the script.\n",
        "\n",
        "!python3.10 ai2023_s05_04_00.py -a 2 -b 3 -x 2.5"
      ]
    },
    {
      "cell_type": "code",
      "execution_count": null,
      "metadata": {
        "id": "JHUzjri8-svs"
      },
      "outputs": [],
      "source": [
        "# Run this cell to execute the script.\n",
        "\n",
        "!python3.10 ai2023_s05_04_00.py -a 2 -b 3 -x 3.7"
      ]
    },
    {
      "cell_type": "markdown",
      "metadata": {
        "id": "LusLO0tN-L0v"
      },
      "source": [
        "# Practice s05-29"
      ]
    },
    {
      "cell_type": "code",
      "execution_count": null,
      "metadata": {
        "id": "J10iNseG-L0x"
      },
      "outputs": [],
      "source": [
        "# Write down your code for Practice s05-29 in this cell.\n",
        "\n",
        "\n",
        "\n"
      ]
    },
    {
      "cell_type": "markdown",
      "metadata": {
        "id": "qNIb4DzZ-gPl"
      },
      "source": [
        "# Sample Python script \"ai2023_s05_04_01.py\"\n"
      ]
    },
    {
      "cell_type": "code",
      "execution_count": null,
      "metadata": {
        "id": "pZ4Zm1sv-gPm"
      },
      "outputs": [],
      "source": [
        "# Run this cell to show the source code.\n",
        "\n",
        "!cat ai2023_s05_04_01.py"
      ]
    },
    {
      "cell_type": "code",
      "execution_count": null,
      "metadata": {
        "id": "C-0AMl7o-gPn"
      },
      "outputs": [],
      "source": [
        "# Run this cell to execute the script.\n",
        "\n",
        "!python3.10 ai2023_s05_04_01.py -h"
      ]
    },
    {
      "cell_type": "code",
      "execution_count": null,
      "metadata": {
        "id": "zQkja_Cj-gPo"
      },
      "outputs": [],
      "source": [
        "# Run this cell to execute the script.\n",
        "\n",
        "!python3.10 ai2023_s05_04_01.py -a 2.0 -b 3.0 -x 4.3 -o ai2023_s05_04_01.png"
      ]
    },
    {
      "cell_type": "code",
      "source": [
        "# Run this cell to display the image.\n",
        "\n",
        "# importing IPython module\n",
        "import IPython.display\n",
        "\n",
        "# display image\n",
        "IPython.display.Image ('ai2023_s05_04_01.png')"
      ],
      "metadata": {
        "id": "F8RRuSGz-2mM"
      },
      "execution_count": null,
      "outputs": []
    },
    {
      "cell_type": "markdown",
      "metadata": {
        "id": "owX2-hid-gPp"
      },
      "source": [
        "# Practice s05-30"
      ]
    },
    {
      "cell_type": "code",
      "execution_count": null,
      "metadata": {
        "id": "79tHfpCf-gPq"
      },
      "outputs": [],
      "source": [
        "# Write down your code for Practice s05-30 in this cell.\n",
        "\n",
        "\n",
        "\n"
      ]
    },
    {
      "cell_type": "markdown",
      "metadata": {
        "id": "NHU2wvbP_1Qq"
      },
      "source": [
        "# Sample Python script \"ai2023_s05_04_02.py\"\n"
      ]
    },
    {
      "cell_type": "code",
      "execution_count": null,
      "metadata": {
        "id": "S7i0nYZx_1Qt"
      },
      "outputs": [],
      "source": [
        "# Run this cell to show the source code.\n",
        "\n",
        "!cat ai2023_s05_04_02.py"
      ]
    },
    {
      "cell_type": "code",
      "execution_count": null,
      "metadata": {
        "id": "mn54Jc8V_1Qv"
      },
      "outputs": [],
      "source": [
        "# Run this cell to execute the script.\n",
        "\n",
        "!python3.10 ai2023_s05_04_02.py -h"
      ]
    },
    {
      "cell_type": "code",
      "execution_count": null,
      "metadata": {
        "id": "kDS_-kQq_1Qz"
      },
      "outputs": [],
      "source": [
        "# Run this cell to execute the script.\n",
        "\n",
        "!python3.10 ai2023_s05_04_02.py -a 0.5 -b 4.0 -c 3.0 -x 5.5 -o ai2023_s05_04_02.png"
      ]
    },
    {
      "cell_type": "code",
      "source": [
        "# Run this cell to display the image.\n",
        "\n",
        "# importing IPython module\n",
        "import IPython.display\n",
        "\n",
        "# display image\n",
        "IPython.display.Image ('ai2023_s05_04_02.png')"
      ],
      "metadata": {
        "id": "EQ1amJiH_1Q0"
      },
      "execution_count": null,
      "outputs": []
    },
    {
      "cell_type": "markdown",
      "metadata": {
        "id": "rgr3kNbB_1Q3"
      },
      "source": [
        "# Practice s05-31"
      ]
    },
    {
      "cell_type": "code",
      "execution_count": null,
      "metadata": {
        "id": "M4oUQFpZ_1Q5"
      },
      "outputs": [],
      "source": [
        "# Write down your code for Practice s05-31 in this cell.\n",
        "\n",
        "\n",
        "\n"
      ]
    },
    {
      "cell_type": "markdown",
      "metadata": {
        "id": "e604evh8ALF-"
      },
      "source": [
        "# Sample Python script \"ai2023_s05_04_03.py\"\n"
      ]
    },
    {
      "cell_type": "code",
      "execution_count": null,
      "metadata": {
        "id": "K2aqCGmmALGA"
      },
      "outputs": [],
      "source": [
        "# Run this cell to show the source code.\n",
        "\n",
        "!cat ai2023_s05_04_03.py"
      ]
    },
    {
      "cell_type": "code",
      "execution_count": null,
      "metadata": {
        "id": "al4z5bToALGB"
      },
      "outputs": [],
      "source": [
        "# Run this cell to execute the script.\n",
        "\n",
        "!python3.10 ai2023_s05_04_03.py -h"
      ]
    },
    {
      "cell_type": "code",
      "execution_count": null,
      "metadata": {
        "id": "HnfmQyKSALGC"
      },
      "outputs": [],
      "source": [
        "# Run this cell to execute the script.\n",
        "\n",
        "!python3.10 ai2023_s05_04_03.py -a 0.5 -b 4.0 -c 3.0 -x 5.5 -o ai2023_s05_04_03.png"
      ]
    },
    {
      "cell_type": "code",
      "source": [
        "# Run this cell to display the image.\n",
        "\n",
        "# importing IPython module\n",
        "import IPython.display\n",
        "\n",
        "# display image\n",
        "IPython.display.Image ('ai2023_s05_04_03.png')"
      ],
      "metadata": {
        "id": "v_Nz2639ALGD"
      },
      "execution_count": null,
      "outputs": []
    },
    {
      "cell_type": "markdown",
      "metadata": {
        "id": "dR8k8Tc5ALGE"
      },
      "source": [
        "# Practice s05-32"
      ]
    },
    {
      "cell_type": "code",
      "execution_count": null,
      "metadata": {
        "id": "6mrPPIVUALGE"
      },
      "outputs": [],
      "source": [
        "# Write down your code for Practice s05-32 in this cell.\n",
        "\n",
        "\n",
        "\n"
      ]
    },
    {
      "cell_type": "markdown",
      "metadata": {
        "id": "j3kG7cQgAfOQ"
      },
      "source": [
        "# Sample Python script \"ai2023_s05_04_04.py\"\n"
      ]
    },
    {
      "cell_type": "code",
      "execution_count": null,
      "metadata": {
        "id": "gukCXmD8AfOT"
      },
      "outputs": [],
      "source": [
        "# Run this cell to show the source code.\n",
        "\n",
        "!cat ai2023_s05_04_04.py"
      ]
    },
    {
      "cell_type": "code",
      "execution_count": null,
      "metadata": {
        "id": "Uh9S-hv9AfOV"
      },
      "outputs": [],
      "source": [
        "# Run this cell to execute the script.\n",
        "\n",
        "!python3.10 ai2023_s05_04_04.py -h"
      ]
    },
    {
      "cell_type": "code",
      "execution_count": null,
      "metadata": {
        "id": "DDbweUIFAfOW"
      },
      "outputs": [],
      "source": [
        "# Run this cell to execute the script.\n",
        "\n",
        "!python3.10 ai2023_s05_04_04.py -a 2 -b 1 -c 3 -x 5.5 -o ai2023_s05_04_04.png"
      ]
    },
    {
      "cell_type": "code",
      "source": [
        "# Run this cell to display the image.\n",
        "\n",
        "# importing IPython module\n",
        "import IPython.display\n",
        "\n",
        "# display image\n",
        "IPython.display.Image ('ai2023_s05_04_04.png')"
      ],
      "metadata": {
        "id": "w1iWTM6CAfOY"
      },
      "execution_count": null,
      "outputs": []
    },
    {
      "cell_type": "markdown",
      "metadata": {
        "id": "LFRALI4XAfOb"
      },
      "source": [
        "# Practice s05-33"
      ]
    },
    {
      "cell_type": "code",
      "execution_count": null,
      "metadata": {
        "id": "fydfGe6QAfOe"
      },
      "outputs": [],
      "source": [
        "# Write down your code for Practice s05-33 in this cell.\n",
        "\n",
        "\n",
        "\n"
      ]
    },
    {
      "cell_type": "markdown",
      "metadata": {
        "id": "CRzeFWinAtnv"
      },
      "source": [
        "# Sample Python script \"ai2023_s05_04_05.py\"\n"
      ]
    },
    {
      "cell_type": "code",
      "execution_count": null,
      "metadata": {
        "id": "TXv-N4W-Atny"
      },
      "outputs": [],
      "source": [
        "# Run this cell to show the source code.\n",
        "\n",
        "!cat ai2023_s05_04_05.py"
      ]
    },
    {
      "cell_type": "code",
      "execution_count": null,
      "metadata": {
        "id": "1_4IG4lgAtn0"
      },
      "outputs": [],
      "source": [
        "# Run this cell to execute the script.\n",
        "\n",
        "!python3.10 ai2023_s05_04_05.py -h"
      ]
    },
    {
      "cell_type": "code",
      "execution_count": null,
      "metadata": {
        "id": "_NF0kN8WAtn0"
      },
      "outputs": [],
      "source": [
        "# Run this cell to execute the script.\n",
        "\n",
        "!python3.10 ai2023_s05_04_05.py -a 2 -b 1 -c 3 -x 5.5 -o ai2023_s05_04_05.png"
      ]
    },
    {
      "cell_type": "code",
      "source": [
        "# Run this cell to display the image.\n",
        "\n",
        "# importing IPython module\n",
        "import IPython.display\n",
        "\n",
        "# display image\n",
        "IPython.display.Image ('ai2023_s05_04_05.png')"
      ],
      "metadata": {
        "id": "AhzHkHiQAtn2"
      },
      "execution_count": null,
      "outputs": []
    },
    {
      "cell_type": "markdown",
      "metadata": {
        "id": "vIb2za_MAtn3"
      },
      "source": [
        "# Practice s05-34"
      ]
    },
    {
      "cell_type": "code",
      "execution_count": null,
      "metadata": {
        "id": "gwmnO8bhAtn3"
      },
      "outputs": [],
      "source": [
        "# Write down your code for Practice s05-34 in this cell.\n",
        "\n",
        "\n",
        "\n"
      ]
    },
    {
      "cell_type": "markdown",
      "metadata": {
        "id": "TYI7Qx9wA4bK"
      },
      "source": [
        "# Sample Python script \"ai2023_s05_04_06.py\"\n"
      ]
    },
    {
      "cell_type": "code",
      "execution_count": null,
      "metadata": {
        "id": "t-aeMV04A4bO"
      },
      "outputs": [],
      "source": [
        "# Run this cell to show the source code.\n",
        "\n",
        "!cat ai2023_s05_04_06.py"
      ]
    },
    {
      "cell_type": "code",
      "execution_count": null,
      "metadata": {
        "id": "uR9J_aLnA4bR"
      },
      "outputs": [],
      "source": [
        "# Run this cell to execute the script.\n",
        "\n",
        "!python3.10 ai2023_s05_04_06.py -h"
      ]
    },
    {
      "cell_type": "code",
      "execution_count": null,
      "metadata": {
        "id": "hqyscrXhA4bS"
      },
      "outputs": [],
      "source": [
        "# Run this cell to execute the script.\n",
        "\n",
        "!python3.10 ai2023_s05_04_06.py -a 2 -b 1 -c 3 -x 5.5 -o ai2023_s05_04_06.png"
      ]
    },
    {
      "cell_type": "code",
      "source": [
        "# Run this cell to display the image.\n",
        "\n",
        "# importing IPython module\n",
        "import IPython.display\n",
        "\n",
        "# display image\n",
        "IPython.display.Image ('ai2023_s05_04_06.png')"
      ],
      "metadata": {
        "id": "LhMZZMsnA4bU"
      },
      "execution_count": null,
      "outputs": []
    },
    {
      "cell_type": "markdown",
      "metadata": {
        "id": "K4C2FvuNA4bW"
      },
      "source": [
        "# Practice s05-35"
      ]
    },
    {
      "cell_type": "code",
      "execution_count": null,
      "metadata": {
        "id": "Yt51vpSMA4bX"
      },
      "outputs": [],
      "source": [
        "# Write down your code for Practice s05-35 in this cell.\n",
        "\n",
        "\n",
        "\n"
      ]
    },
    {
      "cell_type": "markdown",
      "metadata": {
        "id": "cWlRBWzqBHdH"
      },
      "source": [
        "# Sample Python script \"ai2023_s05_04_07.py\"\n"
      ]
    },
    {
      "cell_type": "code",
      "execution_count": null,
      "metadata": {
        "id": "C3iPQM_9BHdK"
      },
      "outputs": [],
      "source": [
        "# Run this cell to show the source code.\n",
        "\n",
        "!cat ai2023_s05_04_07.py"
      ]
    },
    {
      "cell_type": "code",
      "execution_count": null,
      "metadata": {
        "id": "cCn6n4BkBHdL"
      },
      "outputs": [],
      "source": [
        "# Run this cell to execute the script.\n",
        "\n",
        "!python3.10 ai2023_s05_04_07.py -h"
      ]
    },
    {
      "cell_type": "code",
      "execution_count": null,
      "metadata": {
        "id": "TcB8l-U-BHdN"
      },
      "outputs": [],
      "source": [
        "# Run this cell to execute the script.\n",
        "\n",
        "!python3.10 ai2023_s05_04_07.py -o ai2023_s05_04_07.png"
      ]
    },
    {
      "cell_type": "code",
      "source": [
        "# Run this cell to display the image.\n",
        "\n",
        "# importing IPython module\n",
        "import IPython.display\n",
        "\n",
        "# display image\n",
        "IPython.display.Image ('ai2023_s05_04_07.png')"
      ],
      "metadata": {
        "id": "frltApoIBHdP"
      },
      "execution_count": null,
      "outputs": []
    },
    {
      "cell_type": "markdown",
      "metadata": {
        "id": "gFYYzE2UBHdQ"
      },
      "source": [
        "# Practice s05-36"
      ]
    },
    {
      "cell_type": "code",
      "execution_count": null,
      "metadata": {
        "id": "YlEgQHWrBHdR"
      },
      "outputs": [],
      "source": [
        "# Write down your code for Practice s05-36 in this cell.\n",
        "\n",
        "\n",
        "\n"
      ]
    },
    {
      "cell_type": "markdown",
      "metadata": {
        "id": "S3GjFAMeBWM_"
      },
      "source": [
        "# Sample Python script \"ai2023_s05_05_00.py\"\n"
      ]
    },
    {
      "cell_type": "code",
      "execution_count": null,
      "metadata": {
        "id": "7DqkCLn1BWNE"
      },
      "outputs": [],
      "source": [
        "# Run this cell to show the source code.\n",
        "\n",
        "!cat ai2023_s05_05_00.py"
      ]
    },
    {
      "cell_type": "code",
      "execution_count": null,
      "metadata": {
        "id": "4-OZAdX6BWNI"
      },
      "outputs": [],
      "source": [
        "# Run this cell to execute the script.\n",
        "\n",
        "!python3.10 ai2023_s05_05_00.py"
      ]
    },
    {
      "cell_type": "markdown",
      "metadata": {
        "id": "SDuisVQcBWNP"
      },
      "source": [
        "# Practice s05-37"
      ]
    },
    {
      "cell_type": "code",
      "execution_count": null,
      "metadata": {
        "id": "5OB3asnwBWNR"
      },
      "outputs": [],
      "source": [
        "# Write down your code for Practice s05-37 in this cell.\n",
        "\n",
        "\n",
        "\n"
      ]
    },
    {
      "cell_type": "markdown",
      "metadata": {
        "id": "vUqg8BzMBr3C"
      },
      "source": [
        "# Sample Python script \"ai2023_s05_05_01.py\"\n"
      ]
    },
    {
      "cell_type": "code",
      "execution_count": null,
      "metadata": {
        "id": "24oCaQMHBr3F"
      },
      "outputs": [],
      "source": [
        "# Run this cell to show the source code.\n",
        "\n",
        "!cat ai2023_s05_05_01.py"
      ]
    },
    {
      "cell_type": "code",
      "execution_count": null,
      "metadata": {
        "id": "djv9mOFOBr3I"
      },
      "outputs": [],
      "source": [
        "# Run this cell to execute the script.\n",
        "\n",
        "!python3.10 ai2023_s05_05_01.py"
      ]
    },
    {
      "cell_type": "markdown",
      "metadata": {
        "id": "8QJAIjbhBr3K"
      },
      "source": [
        "# Practice s05-38"
      ]
    },
    {
      "cell_type": "code",
      "execution_count": null,
      "metadata": {
        "id": "oE4f2ibIBr3M"
      },
      "outputs": [],
      "source": [
        "# Write down your code for Practice s05-38 in this cell.\n",
        "\n",
        "\n",
        "\n"
      ]
    },
    {
      "cell_type": "markdown",
      "metadata": {
        "id": "bA0wbN1tBy3N"
      },
      "source": [
        "# Sample Python script \"ai2023_s05_05_02.py\"\n"
      ]
    },
    {
      "cell_type": "code",
      "execution_count": null,
      "metadata": {
        "id": "hZavnzbXBy3Q"
      },
      "outputs": [],
      "source": [
        "# Run this cell to show the source code.\n",
        "\n",
        "!cat ai2023_s05_05_02.py"
      ]
    },
    {
      "cell_type": "code",
      "execution_count": null,
      "metadata": {
        "id": "Qu-YzINfBy3S"
      },
      "outputs": [],
      "source": [
        "# Run this cell to execute the script.\n",
        "\n",
        "!python3.10 ai2023_s05_05_02.py"
      ]
    },
    {
      "cell_type": "markdown",
      "metadata": {
        "id": "voJP9qR8By3T"
      },
      "source": [
        "# Practice s05-39"
      ]
    },
    {
      "cell_type": "code",
      "execution_count": null,
      "metadata": {
        "id": "AsRvW2DBBy3V"
      },
      "outputs": [],
      "source": [
        "# Write down your code for Practice s05-39 in this cell.\n",
        "\n",
        "\n",
        "\n"
      ]
    },
    {
      "cell_type": "markdown",
      "metadata": {
        "id": "2YkMKf6DB5dM"
      },
      "source": [
        "# Sample Python script \"ai2023_s05_05_03.py\"\n"
      ]
    },
    {
      "cell_type": "code",
      "execution_count": null,
      "metadata": {
        "id": "57Cfoq4_B5dO"
      },
      "outputs": [],
      "source": [
        "# Run this cell to show the source code.\n",
        "\n",
        "!cat ai2023_s05_05_03.py"
      ]
    },
    {
      "cell_type": "code",
      "execution_count": null,
      "metadata": {
        "id": "_dRV_jrsB5dP"
      },
      "outputs": [],
      "source": [
        "# Run this cell to execute the script.\n",
        "\n",
        "!python3.10 ai2023_s05_05_03.py"
      ]
    },
    {
      "cell_type": "markdown",
      "metadata": {
        "id": "OWZpKDXTB5dR"
      },
      "source": [
        "# Practice s05-40"
      ]
    },
    {
      "cell_type": "code",
      "execution_count": null,
      "metadata": {
        "id": "YCGpLiCwB5dT"
      },
      "outputs": [],
      "source": [
        "# Write down your code for Practice s05-40 in this cell.\n",
        "\n",
        "\n",
        "\n"
      ]
    },
    {
      "cell_type": "markdown",
      "metadata": {
        "id": "f6TyJo3dB_RJ"
      },
      "source": [
        "# Sample Python script \"ai2023_s05_05_04.py\"\n"
      ]
    },
    {
      "cell_type": "code",
      "execution_count": null,
      "metadata": {
        "id": "-c7Lny1hB_RL"
      },
      "outputs": [],
      "source": [
        "# Run this cell to show the source code.\n",
        "\n",
        "!cat ai2023_s05_05_04.py"
      ]
    },
    {
      "cell_type": "code",
      "execution_count": null,
      "metadata": {
        "id": "tcOoN7qcB_RM"
      },
      "outputs": [],
      "source": [
        "# Run this cell to execute the script.\n",
        "\n",
        "!python3.10 ai2023_s05_05_04.py"
      ]
    },
    {
      "cell_type": "markdown",
      "metadata": {
        "id": "b48ahIHDB_RN"
      },
      "source": [
        "# Practice s05-41"
      ]
    },
    {
      "cell_type": "code",
      "execution_count": null,
      "metadata": {
        "id": "uskFr_gQB_RN"
      },
      "outputs": [],
      "source": [
        "# Write down your code for Practice s05-41 in this cell.\n",
        "\n",
        "\n",
        "\n"
      ]
    },
    {
      "cell_type": "markdown",
      "metadata": {
        "id": "4qQjdoVpCEg3"
      },
      "source": [
        "# Sample Python script \"ai2023_s05_05_05.py\"\n"
      ]
    },
    {
      "cell_type": "code",
      "execution_count": null,
      "metadata": {
        "id": "XQ_H-lhoCEg7"
      },
      "outputs": [],
      "source": [
        "# Run this cell to show the source code.\n",
        "\n",
        "!cat ai2023_s05_05_05.py"
      ]
    },
    {
      "cell_type": "code",
      "execution_count": null,
      "metadata": {
        "id": "d5w-wnGPCEg-"
      },
      "outputs": [],
      "source": [
        "# Run this cell to execute the script.\n",
        "\n",
        "!python3.10 ai2023_s05_05_05.py"
      ]
    },
    {
      "cell_type": "markdown",
      "metadata": {
        "id": "Ag-B5kNxCEhA"
      },
      "source": [
        "# Practice s05-42"
      ]
    },
    {
      "cell_type": "code",
      "execution_count": null,
      "metadata": {
        "id": "V0RdhK-yCEhB"
      },
      "outputs": [],
      "source": [
        "# Write down your code for Practice s05-42 in this cell.\n",
        "\n",
        "\n",
        "\n"
      ]
    },
    {
      "cell_type": "markdown",
      "metadata": {
        "id": "Gm2U-lAaCKVV"
      },
      "source": [
        "# Sample Python script \"ai2023_s05_05_06.py\"\n"
      ]
    },
    {
      "cell_type": "code",
      "execution_count": null,
      "metadata": {
        "id": "tcOFEZgeCKVW"
      },
      "outputs": [],
      "source": [
        "# Run this cell to show the source code.\n",
        "\n",
        "!cat ai2023_s05_05_06.py"
      ]
    },
    {
      "cell_type": "code",
      "execution_count": null,
      "metadata": {
        "id": "ytetRcFgCKVX"
      },
      "outputs": [],
      "source": [
        "# Run this cell to execute the script.\n",
        "\n",
        "!python3.10 ai2023_s05_05_06.py"
      ]
    },
    {
      "cell_type": "markdown",
      "metadata": {
        "id": "qBMVlerrCKVY"
      },
      "source": [
        "# Practice s05-43"
      ]
    },
    {
      "cell_type": "code",
      "execution_count": null,
      "metadata": {
        "id": "LTuNOaVYCKVZ"
      },
      "outputs": [],
      "source": [
        "# Write down your code for Practice s05-43 in this cell.\n",
        "\n",
        "\n",
        "\n"
      ]
    },
    {
      "cell_type": "markdown",
      "metadata": {
        "id": "uXKxSNbbCRvp"
      },
      "source": [
        "# Sample Python script \"ai2023_s05_06_00.py\"\n"
      ]
    },
    {
      "cell_type": "code",
      "execution_count": null,
      "metadata": {
        "id": "zM0fQTojCV7b"
      },
      "outputs": [],
      "source": [
        "# Run this cell to show the source code.\n",
        "\n",
        "!cat ai2023_s05_06_00.py"
      ]
    },
    {
      "cell_type": "code",
      "execution_count": null,
      "metadata": {
        "id": "QiNdtYmiCRvr"
      },
      "outputs": [],
      "source": [
        "# Run this cell to execute the script.\n",
        "\n",
        "!python3.10 ai2023_s05_06_00.py -h"
      ]
    },
    {
      "cell_type": "code",
      "execution_count": null,
      "metadata": {
        "id": "uz9ER2XSCd7K"
      },
      "outputs": [],
      "source": [
        "# Run this cell to execute the script.\n",
        "\n",
        "!python3.10 ai2023_s05_06_00.py -o ai2023_s05_06_00.png"
      ]
    },
    {
      "cell_type": "code",
      "source": [
        "# Run this cell to display the image.\n",
        "\n",
        "# importing IPython module\n",
        "import IPython.display\n",
        "\n",
        "# display image\n",
        "IPython.display.Image ('ai2023_s05_06_00.png')"
      ],
      "metadata": {
        "id": "iuFHEqxMCmjk"
      },
      "execution_count": null,
      "outputs": []
    },
    {
      "cell_type": "markdown",
      "metadata": {
        "id": "qXwwUUJ3CRvt"
      },
      "source": [
        "# Practice s05-44"
      ]
    },
    {
      "cell_type": "code",
      "execution_count": null,
      "metadata": {
        "id": "4hgmTkS_CRvu"
      },
      "outputs": [],
      "source": [
        "# Write down your code for Practice s05-44 in this cell.\n",
        "\n",
        "\n",
        "\n"
      ]
    },
    {
      "cell_type": "markdown",
      "metadata": {
        "id": "q8VKc7azDADl"
      },
      "source": [
        "# Sample Python script \"ai2023_s05_06_01.py\"\n"
      ]
    },
    {
      "cell_type": "code",
      "execution_count": null,
      "metadata": {
        "id": "oK2Wt-6-DADo"
      },
      "outputs": [],
      "source": [
        "# Run this cell to show the source code.\n",
        "\n",
        "!cat ai2023_s05_06_01.py"
      ]
    },
    {
      "cell_type": "code",
      "execution_count": null,
      "metadata": {
        "id": "lhx2fKnSDADr"
      },
      "outputs": [],
      "source": [
        "# Run this cell to execute the script.\n",
        "\n",
        "!python3.10 ai2023_s05_06_01.py -h"
      ]
    },
    {
      "cell_type": "code",
      "execution_count": null,
      "metadata": {
        "id": "P5rCWzsDDADu"
      },
      "outputs": [],
      "source": [
        "# Run this cell to execute the script.\n",
        "\n",
        "!python3.10 ai2023_s05_06_01.py -x0 1 -y0 0 -vx0 0 -vy0 1 -M 1 -o p0.data"
      ]
    },
    {
      "cell_type": "code",
      "source": [
        "# Run this cell to find newly created file.\n",
        "\n",
        "!ls -lF *.data"
      ],
      "metadata": {
        "id": "NteekviaDADw"
      },
      "execution_count": null,
      "outputs": []
    },
    {
      "cell_type": "code",
      "source": [
        "# Run this cell to find file type of newly created file.\n",
        "\n",
        "!file p0.data"
      ],
      "metadata": {
        "id": "hNBKiZCLDW_H"
      },
      "execution_count": null,
      "outputs": []
    },
    {
      "cell_type": "code",
      "source": [
        "# Run this cell to show first 20 lines of newly created file.\n",
        "\n",
        "!head -20 p0.data"
      ],
      "metadata": {
        "id": "PHg97sj6DdCk"
      },
      "execution_count": null,
      "outputs": []
    },
    {
      "cell_type": "markdown",
      "metadata": {
        "id": "nHxwARJtD-6P"
      },
      "source": [
        "# Sample Python script \"ai2023_s05_06_02.py\"\n"
      ]
    },
    {
      "cell_type": "code",
      "execution_count": null,
      "metadata": {
        "id": "r5Go_sLiD-6T"
      },
      "outputs": [],
      "source": [
        "# Run this cell to show the source code.\n",
        "\n",
        "!cat ai2023_s05_06_02.py"
      ]
    },
    {
      "cell_type": "code",
      "execution_count": null,
      "metadata": {
        "id": "f8W7zh92D-6W"
      },
      "outputs": [],
      "source": [
        "# Run this cell to execute the script.\n",
        "\n",
        "!python3.10 ai2023_s05_06_02.py -h"
      ]
    },
    {
      "cell_type": "code",
      "execution_count": null,
      "metadata": {
        "id": "Fkd0cUzID-6Y"
      },
      "outputs": [],
      "source": [
        "# Run this cell to execute the script.\n",
        "\n",
        "!python3.10 ai2023_s05_06_02.py -o p0.png p0.data"
      ]
    },
    {
      "cell_type": "code",
      "source": [
        "# Run this cell to display the image.\n",
        "\n",
        "# importing IPython module\n",
        "import IPython.display\n",
        "\n",
        "# display image\n",
        "IPython.display.Image ('p0.png')"
      ],
      "metadata": {
        "id": "6q8ylukXGVVj"
      },
      "execution_count": null,
      "outputs": []
    },
    {
      "cell_type": "markdown",
      "metadata": {
        "id": "GDGsBMrFHBOK"
      },
      "source": [
        "# Practice s05-45"
      ]
    },
    {
      "cell_type": "code",
      "execution_count": null,
      "metadata": {
        "id": "1kVFJm1PHBON"
      },
      "outputs": [],
      "source": [
        "# Write down your code for Practice s05-45 in this cell.\n",
        "\n",
        "\n",
        "\n"
      ]
    },
    {
      "cell_type": "markdown",
      "metadata": {
        "id": "TLcthZSXGm-P"
      },
      "source": [
        "# Sample Python script \"ai2023_s05_06_01.py\"\n"
      ]
    },
    {
      "cell_type": "code",
      "execution_count": null,
      "metadata": {
        "id": "-UoT0nTuGm-R"
      },
      "outputs": [],
      "source": [
        "# Run this cell to show the source code.\n",
        "\n",
        "!cat ai2023_s05_06_01.py"
      ]
    },
    {
      "cell_type": "code",
      "execution_count": null,
      "metadata": {
        "id": "i-47EMMbGm-T"
      },
      "outputs": [],
      "source": [
        "# Run this cell to execute the script.\n",
        "\n",
        "!python3.10 ai2023_s05_06_01.py -h"
      ]
    },
    {
      "cell_type": "code",
      "execution_count": null,
      "metadata": {
        "id": "rqTKktg-Gm-U"
      },
      "outputs": [],
      "source": [
        "# Run this cell to execute the script.\n",
        "\n",
        "!python3.10 ai2023_s05_06_01.py -x0 1 -y0 0 -vx0 0 -vy0 1.2 -M 1 -o p1.data"
      ]
    },
    {
      "cell_type": "code",
      "source": [
        "# Run this cell to find newly created file.\n",
        "\n",
        "!ls -lF *.data"
      ],
      "metadata": {
        "id": "EerpRANEGm-V"
      },
      "execution_count": null,
      "outputs": []
    },
    {
      "cell_type": "code",
      "source": [
        "# Run this cell to find file type of newly created file.\n",
        "\n",
        "!file p1.data"
      ],
      "metadata": {
        "id": "3ggteuv2Gm-W"
      },
      "execution_count": null,
      "outputs": []
    },
    {
      "cell_type": "code",
      "source": [
        "# Run this cell to show first 20 lines of newly created file.\n",
        "\n",
        "!head -20 p1.data"
      ],
      "metadata": {
        "id": "4NfZmt5PGm-Y"
      },
      "execution_count": null,
      "outputs": []
    },
    {
      "cell_type": "markdown",
      "metadata": {
        "id": "Gqv_mt-CGm-Z"
      },
      "source": [
        "# Sample Python script \"ai2023_s05_06_02.py\"\n"
      ]
    },
    {
      "cell_type": "code",
      "execution_count": null,
      "metadata": {
        "id": "mihDkVcuGm-a"
      },
      "outputs": [],
      "source": [
        "# Run this cell to show the source code.\n",
        "\n",
        "!cat ai2023_s05_06_02.py"
      ]
    },
    {
      "cell_type": "code",
      "execution_count": null,
      "metadata": {
        "id": "yZdJh42xGm-a"
      },
      "outputs": [],
      "source": [
        "# Run this cell to execute the script.\n",
        "\n",
        "!python3.10 ai2023_s05_06_02.py -h"
      ]
    },
    {
      "cell_type": "code",
      "execution_count": null,
      "metadata": {
        "id": "29F0N-4EGm-c"
      },
      "outputs": [],
      "source": [
        "# Run this cell to execute the script.\n",
        "\n",
        "!python3.10 ai2023_s05_06_02.py -o p1.png p1.data"
      ]
    },
    {
      "cell_type": "code",
      "source": [
        "# Run this cell to display the image.\n",
        "\n",
        "# importing IPython module\n",
        "import IPython.display\n",
        "\n",
        "# display image\n",
        "IPython.display.Image ('p1.png')"
      ],
      "metadata": {
        "id": "a7vEG3c0Gm-d"
      },
      "execution_count": null,
      "outputs": []
    },
    {
      "cell_type": "markdown",
      "metadata": {
        "id": "sGaRjhWYHEBK"
      },
      "source": [
        "# Practice s05-46"
      ]
    },
    {
      "cell_type": "code",
      "execution_count": null,
      "metadata": {
        "id": "bfmndXqHHEBL"
      },
      "outputs": [],
      "source": [
        "# Write down your code for Practice s05-46 in this cell.\n",
        "\n",
        "\n",
        "\n"
      ]
    },
    {
      "cell_type": "markdown",
      "metadata": {
        "id": "hUFEsywZHPNO"
      },
      "source": [
        "# Sample Python script \"ai2023_s05_06_01.py\"\n"
      ]
    },
    {
      "cell_type": "code",
      "execution_count": null,
      "metadata": {
        "id": "bcBPEctAHPNP"
      },
      "outputs": [],
      "source": [
        "# Run this cell to show the source code.\n",
        "\n",
        "!cat ai2023_s05_06_01.py"
      ]
    },
    {
      "cell_type": "code",
      "execution_count": null,
      "metadata": {
        "id": "gc3Z0UGMHPNQ"
      },
      "outputs": [],
      "source": [
        "# Run this cell to execute the script.\n",
        "\n",
        "!python3.10 ai2023_s05_06_01.py -h"
      ]
    },
    {
      "cell_type": "code",
      "execution_count": null,
      "metadata": {
        "id": "B5OGjIKBHPNR"
      },
      "outputs": [],
      "source": [
        "# Run this cell to execute the script.\n",
        "\n",
        "!python3.10 ai2023_s05_06_01.py -x0 1 -y0 0 -vx0 0 -vy0 1.3 -M 1 -o p2.data"
      ]
    },
    {
      "cell_type": "code",
      "source": [
        "# Run this cell to find newly created file.\n",
        "\n",
        "!ls -lF *.data"
      ],
      "metadata": {
        "id": "NAsQe-wkHPNS"
      },
      "execution_count": null,
      "outputs": []
    },
    {
      "cell_type": "code",
      "source": [
        "# Run this cell to find file type of newly created file.\n",
        "\n",
        "!file p2.data"
      ],
      "metadata": {
        "id": "LPzV_TJdHPNT"
      },
      "execution_count": null,
      "outputs": []
    },
    {
      "cell_type": "code",
      "source": [
        "# Run this cell to show first 20 lines of newly created file.\n",
        "\n",
        "!head -20 p2.data"
      ],
      "metadata": {
        "id": "5t4oAwUUHPNT"
      },
      "execution_count": null,
      "outputs": []
    },
    {
      "cell_type": "markdown",
      "metadata": {
        "id": "gTSkkRS8HZ1a"
      },
      "source": [
        "# Sample Python script \"ai2023_s05_06_03.py\"\n"
      ]
    },
    {
      "cell_type": "code",
      "execution_count": null,
      "metadata": {
        "id": "2bE6JvGtHZ1c"
      },
      "outputs": [],
      "source": [
        "# Run this cell to show the source code.\n",
        "\n",
        "!cat ai2023_s05_06_03.py"
      ]
    },
    {
      "cell_type": "code",
      "execution_count": null,
      "metadata": {
        "id": "U9CQKLPiHZ1f"
      },
      "outputs": [],
      "source": [
        "# Run this cell to execute the script.\n",
        "\n",
        "!python3.10 ai2023_s05_06_03.py -h"
      ]
    },
    {
      "cell_type": "code",
      "execution_count": null,
      "metadata": {
        "id": "6NugeOVwHZ1i"
      },
      "outputs": [],
      "source": [
        "# Run this cell to execute the script.\n",
        "\n",
        "!python3.10 ai2023_s05_06_03.py -d p2 p2.data"
      ]
    },
    {
      "cell_type": "code",
      "source": [
        "# Run this cell to show newly created files.\n",
        "\n",
        "!ls p2"
      ],
      "metadata": {
        "id": "PHxxAd-wIsFd"
      },
      "execution_count": null,
      "outputs": []
    },
    {
      "cell_type": "code",
      "source": [
        "# Run this cell to create a MP4 movie file.\n",
        "\n",
        "!ffmpeg -f image2 -start_number 0 -framerate 30 -i p2/p2_%08d.png -an -vcodec libx264 -pix_fmt yuv420p -threads 4 p2.mp4"
      ],
      "metadata": {
        "id": "oZti6oWwIwXR"
      },
      "execution_count": null,
      "outputs": []
    },
    {
      "cell_type": "code",
      "source": [
        "# Run this cell to play movie file.\n",
        "\n",
        "# importing IPython module\n",
        "import IPython.display\n",
        "\n",
        "# playing movie file\n",
        "IPython.display.Video ('p2.mp4')"
      ],
      "metadata": {
        "id": "5CV7o2ymI9bH"
      },
      "execution_count": null,
      "outputs": []
    },
    {
      "cell_type": "code",
      "source": [
        "# If above cell fails to play movie file, try this cell.\n",
        "\n",
        "# Download MP4 movie file to your local computer, and then play it on your computer.\n",
        "\n",
        "# importing google.colab module\n",
        "import google.colab.files\n",
        "\n",
        "# downloading MP4 movie file\n",
        "google.colab.files.download ('p2.mp4')"
      ],
      "metadata": {
        "id": "z5VGccqOJNcK"
      },
      "execution_count": null,
      "outputs": []
    },
    {
      "cell_type": "markdown",
      "metadata": {
        "id": "3kiPhvXbJuYr"
      },
      "source": [
        "# Practice s05-47"
      ]
    },
    {
      "cell_type": "code",
      "execution_count": null,
      "metadata": {
        "id": "WWwz4KPpJuYs"
      },
      "outputs": [],
      "source": [
        "# Write down your code for Practice s05-47 in this cell.\n",
        "\n",
        "\n",
        "\n"
      ]
    },
    {
      "cell_type": "markdown",
      "metadata": {
        "id": "EM_id1bSJ2jq"
      },
      "source": [
        "# Sample Python script \"ai2023_s05_07_00.py\"\n"
      ]
    },
    {
      "cell_type": "code",
      "execution_count": null,
      "metadata": {
        "id": "bTgWKwUqJ2jr"
      },
      "outputs": [],
      "source": [
        "# Run this cell to show the source code.\n",
        "\n",
        "!cat ai2023_s05_07_00.py"
      ]
    },
    {
      "cell_type": "code",
      "execution_count": null,
      "metadata": {
        "id": "KiJ_sRneJ2jr"
      },
      "outputs": [],
      "source": [
        "# Run this cell to execute the script.\n",
        "\n",
        "!python3.10 ai2023_s05_07_00.py -h"
      ]
    },
    {
      "cell_type": "code",
      "execution_count": null,
      "metadata": {
        "id": "qwlzh7OOJ2jr"
      },
      "outputs": [],
      "source": [
        "# Run this cell to execute the script.\n",
        "\n",
        "!python3.10 ai2023_s05_07_00.py -a 2 -b 3 -c 4 -min -10 -max 10 -o ai2023_s05_07_00.png"
      ]
    },
    {
      "cell_type": "code",
      "source": [
        "# Run this cell to display the image.\n",
        "\n",
        "# importing IPython module\n",
        "import IPython.display\n",
        "\n",
        "# display image\n",
        "IPython.display.Image ('ai2023_s05_07_00.png')"
      ],
      "metadata": {
        "id": "EBppLm_HKH-E"
      },
      "execution_count": null,
      "outputs": []
    },
    {
      "cell_type": "markdown",
      "metadata": {
        "id": "XaQBaM9LKPF0"
      },
      "source": [
        "# Sample Python script \"ai2023_s05_07_01.py\"\n"
      ]
    },
    {
      "cell_type": "code",
      "execution_count": null,
      "metadata": {
        "id": "Hj4JiNPmKPF1"
      },
      "outputs": [],
      "source": [
        "# Run this cell to show the source code.\n",
        "\n",
        "!cat ai2023_s05_07_01.py"
      ]
    },
    {
      "cell_type": "code",
      "execution_count": null,
      "metadata": {
        "id": "WNuP5w1ZKPF3"
      },
      "outputs": [],
      "source": [
        "# Run this cell to execute the script.\n",
        "\n",
        "!python3.10 ai2023_s05_07_01.py -h"
      ]
    },
    {
      "cell_type": "code",
      "execution_count": null,
      "metadata": {
        "id": "st47cgx3KPF4"
      },
      "outputs": [],
      "source": [
        "# Run this cell to execute the script.\n",
        "\n",
        "!python3.10 ai2023_s05_07_01.py -a 2 -b 3 -c 4 -min -10 -max 10 -o ai2023_s05_07_01.png"
      ]
    },
    {
      "cell_type": "code",
      "source": [
        "# Run this cell to display the image.\n",
        "\n",
        "# importing IPython module\n",
        "import IPython.display\n",
        "\n",
        "# display image\n",
        "IPython.display.Image ('ai2023_s05_07_01.png')"
      ],
      "metadata": {
        "id": "58jh5ICEKPF5"
      },
      "execution_count": null,
      "outputs": []
    },
    {
      "cell_type": "markdown",
      "metadata": {
        "id": "BhyhCXojLDpX"
      },
      "source": [
        "# Practice s05-48"
      ]
    },
    {
      "cell_type": "code",
      "execution_count": null,
      "metadata": {
        "id": "eZbp-1TrLDpZ"
      },
      "outputs": [],
      "source": [
        "# Write down your code for Practice s05-48 in this cell.\n",
        "\n",
        "\n",
        "\n"
      ]
    },
    {
      "cell_type": "markdown",
      "metadata": {
        "id": "W7m802PwKvOI"
      },
      "source": [
        "# Sample Python script \"ai2023_s05_07_02.py\"\n"
      ]
    },
    {
      "cell_type": "code",
      "execution_count": null,
      "metadata": {
        "id": "_7IrofgdKvOK"
      },
      "outputs": [],
      "source": [
        "# Run this cell to show the source code.\n",
        "\n",
        "!cat ai2023_s05_07_02.py"
      ]
    },
    {
      "cell_type": "code",
      "execution_count": null,
      "metadata": {
        "id": "xaobEJo1KvOM"
      },
      "outputs": [],
      "source": [
        "# Run this cell to execute the script.\n",
        "\n",
        "!python3.10 ai2023_s05_07_02.py -h"
      ]
    },
    {
      "cell_type": "code",
      "execution_count": null,
      "metadata": {
        "id": "SAo-QsbiKvOP"
      },
      "outputs": [],
      "source": [
        "# Run this cell to execute the script.\n",
        "\n",
        "!python3.10 ai2023_s05_07_02.py -a 3 -b 2 -c 1 -d 4 -min -5 -max 5 -o ai2023_s05_07_02.png"
      ]
    },
    {
      "cell_type": "code",
      "source": [
        "# Run this cell to display the image.\n",
        "\n",
        "# importing IPython module\n",
        "import IPython.display\n",
        "\n",
        "# display image\n",
        "IPython.display.Image ('ai2023_s05_07_02.png')"
      ],
      "metadata": {
        "id": "DytYY6JZKvOQ"
      },
      "execution_count": null,
      "outputs": []
    },
    {
      "cell_type": "markdown",
      "metadata": {
        "id": "1boTK0cGLIiR"
      },
      "source": [
        "# Sample Python script \"ai2023_s05_07_03.py\"\n"
      ]
    },
    {
      "cell_type": "code",
      "execution_count": null,
      "metadata": {
        "id": "JKua5_DZLIiU"
      },
      "outputs": [],
      "source": [
        "# Run this cell to show the source code.\n",
        "\n",
        "!cat ai2023_s05_07_03.py"
      ]
    },
    {
      "cell_type": "code",
      "execution_count": null,
      "metadata": {
        "id": "4Wrvbw1BLIiW"
      },
      "outputs": [],
      "source": [
        "# Run this cell to execute the script.\n",
        "\n",
        "!python3.10 ai2023_s05_07_03.py -h"
      ]
    },
    {
      "cell_type": "code",
      "execution_count": null,
      "metadata": {
        "id": "eV9DMh6DLIiY"
      },
      "outputs": [],
      "source": [
        "# Run this cell to execute the script.\n",
        "\n",
        "!python3.10 ai2023_s05_07_03.py -a 3 -b 2 -c 1 -d 4 -r0 0 -r1 3 -min -5 -max 5 -o ai2023_s05_07_03.png"
      ]
    },
    {
      "cell_type": "code",
      "source": [
        "# Run this cell to display the image.\n",
        "\n",
        "# importing IPython module\n",
        "import IPython.display\n",
        "\n",
        "# display image\n",
        "IPython.display.Image ('ai2023_s05_07_03.png')"
      ],
      "metadata": {
        "id": "Wc9DZxiELIiZ"
      },
      "execution_count": null,
      "outputs": []
    },
    {
      "cell_type": "markdown",
      "metadata": {
        "id": "sMvc4jesKfli"
      },
      "source": [
        "# Practice s05-49"
      ]
    },
    {
      "cell_type": "code",
      "execution_count": null,
      "metadata": {
        "id": "UXad-5okKfll"
      },
      "outputs": [],
      "source": [
        "# Write down your code for Practice s05-49 in this cell.\n",
        "\n",
        "\n",
        "\n"
      ]
    },
    {
      "cell_type": "markdown",
      "metadata": {
        "id": "0JUtY3yPLoif"
      },
      "source": [
        "# Sample Python script \"ai2023_s05_07_04.py\"\n"
      ]
    },
    {
      "cell_type": "code",
      "execution_count": null,
      "metadata": {
        "id": "wb7T7QeoLoig"
      },
      "outputs": [],
      "source": [
        "# Run this cell to show the source code.\n",
        "\n",
        "!cat ai2023_s05_07_04.py"
      ]
    },
    {
      "cell_type": "code",
      "execution_count": null,
      "metadata": {
        "id": "YtD-swdPLoih"
      },
      "outputs": [],
      "source": [
        "# Run this cell to execute the script.\n",
        "\n",
        "!python3.10 ai2023_s05_07_04.py -h"
      ]
    },
    {
      "cell_type": "code",
      "execution_count": null,
      "metadata": {
        "id": "4YNQXV5hLoii"
      },
      "outputs": [],
      "source": [
        "# Run this cell to execute the script.\n",
        "\n",
        "!python3.10 ai2023_s05_07_04.py -a -4 -b 2 -c -1 -d 6 -min -5 -max 5 -o ai2023_s05_07_04.png"
      ]
    },
    {
      "cell_type": "code",
      "source": [
        "# Run this cell to display the image.\n",
        "\n",
        "# importing IPython module\n",
        "import IPython.display\n",
        "\n",
        "# display image\n",
        "IPython.display.Image ('ai2023_s05_07_04.png')"
      ],
      "metadata": {
        "id": "Q6pJMsizLoik"
      },
      "execution_count": null,
      "outputs": []
    },
    {
      "cell_type": "markdown",
      "metadata": {
        "id": "r5no4evBMJZQ"
      },
      "source": [
        "# Practice s05-50"
      ]
    },
    {
      "cell_type": "code",
      "execution_count": null,
      "metadata": {
        "id": "zfi9y0-zMJZS"
      },
      "outputs": [],
      "source": [
        "# Write down your code for Practice s05-50 in this cell.\n",
        "\n",
        "\n",
        "\n"
      ]
    },
    {
      "cell_type": "markdown",
      "metadata": {
        "id": "xYOwAwwdMe3_"
      },
      "source": [
        "# Sample Python script \"ai2023_s05_07_05.py\"\n"
      ]
    },
    {
      "cell_type": "code",
      "execution_count": null,
      "metadata": {
        "id": "-8lGLH3wMe4A"
      },
      "outputs": [],
      "source": [
        "# Run this cell to show the source code.\n",
        "\n",
        "!cat ai2023_s05_07_05.py"
      ]
    },
    {
      "cell_type": "code",
      "execution_count": null,
      "metadata": {
        "id": "HcqQ5IW6Me4C"
      },
      "outputs": [],
      "source": [
        "# Run this cell to execute the script.\n",
        "\n",
        "!python3.10 ai2023_s05_07_05.py -h"
      ]
    },
    {
      "cell_type": "code",
      "execution_count": null,
      "metadata": {
        "id": "bH7KZSdVMe4D"
      },
      "outputs": [],
      "source": [
        "# Run this cell to execute the script.\n",
        "\n",
        "!python3.10 ai2023_s05_07_05.py -a -4 -b 2 -c -1 -d 6 -min -5 -max 5 -o ai2023_s05_07_05.png"
      ]
    },
    {
      "cell_type": "code",
      "source": [
        "# Run this cell to display the image.\n",
        "\n",
        "# importing IPython module\n",
        "import IPython.display\n",
        "\n",
        "# display image\n",
        "IPython.display.Image ('ai2023_s05_07_05.png')"
      ],
      "metadata": {
        "id": "kkaD4w_rMe4E"
      },
      "execution_count": null,
      "outputs": []
    },
    {
      "cell_type": "markdown",
      "metadata": {
        "id": "ZX8bGhdjMe4G"
      },
      "source": [
        "# Practice s05-51"
      ]
    },
    {
      "cell_type": "code",
      "execution_count": null,
      "metadata": {
        "id": "zED-FdHoMe4H"
      },
      "outputs": [],
      "source": [
        "# Write down your code for Practice s05-51 in this cell.\n",
        "\n",
        "\n",
        "\n"
      ]
    },
    {
      "cell_type": "markdown",
      "metadata": {
        "id": "QIIoK91PM7PV"
      },
      "source": [
        "# Sample Python script \"ai2023_s05_08_00.py\"\n"
      ]
    },
    {
      "cell_type": "code",
      "execution_count": null,
      "metadata": {
        "id": "StJ1Fre1M7Pa"
      },
      "outputs": [],
      "source": [
        "# Run this cell to show the source code.\n",
        "\n",
        "!cat ai2023_s05_08_00.py"
      ]
    },
    {
      "cell_type": "code",
      "execution_count": null,
      "metadata": {
        "id": "CXTnITFeM7Pg"
      },
      "outputs": [],
      "source": [
        "# Run this cell to execute the script.\n",
        "\n",
        "!python3.10 ai2023_s05_08_00.py -h"
      ]
    },
    {
      "cell_type": "code",
      "execution_count": null,
      "metadata": {
        "id": "ofoBgtXQM7Ph"
      },
      "outputs": [],
      "source": [
        "# Run this cell to execute the script.\n",
        "\n",
        "!python3.10 ai2023_s05_08_00.py -a 3 -b 10 -e 0.5 -n 21 -min 0 -max 20 -o ai2023_s05_08_00.data"
      ]
    },
    {
      "cell_type": "code",
      "source": [
        "# Run this cell to find newly created file.\n",
        "\n",
        "!ls -lF *.data"
      ],
      "metadata": {
        "id": "OkcscVGOJj2K"
      },
      "execution_count": null,
      "outputs": []
    },
    {
      "cell_type": "code",
      "source": [
        "# Run this cell to find data type of newly created file.\n",
        "\n",
        "!file ai2023_s05_08_00.data"
      ],
      "metadata": {
        "id": "Hdz0OKeTNSDA"
      },
      "execution_count": null,
      "outputs": []
    },
    {
      "cell_type": "code",
      "source": [
        "# Run this cell to show the content of newly created file.\n",
        "\n",
        "!cat ai2023_s05_08_00.data"
      ],
      "metadata": {
        "id": "8Nebo6msNXwu"
      },
      "execution_count": null,
      "outputs": []
    },
    {
      "cell_type": "markdown",
      "metadata": {
        "id": "kDBOZp3jNkK-"
      },
      "source": [
        "# Sample Python script \"ai2023_s05_08_01.py\"\n"
      ]
    },
    {
      "cell_type": "code",
      "execution_count": null,
      "metadata": {
        "id": "O6adHoR5NkLB"
      },
      "outputs": [],
      "source": [
        "# Run this cell to show the source code.\n",
        "\n",
        "!cat ai2023_s05_08_01.py"
      ]
    },
    {
      "cell_type": "code",
      "execution_count": null,
      "metadata": {
        "id": "Jd2dj_f7NkLE"
      },
      "outputs": [],
      "source": [
        "# Run this cell to execute the script.\n",
        "\n",
        "!python3.10 ai2023_s05_08_01.py -h"
      ]
    },
    {
      "cell_type": "code",
      "execution_count": null,
      "metadata": {
        "id": "jw7aTXQKNkLG"
      },
      "outputs": [],
      "source": [
        "# Run this cell to execute the script.\n",
        "\n",
        "!python3.10 ai2023_s05_08_01.py -o ai2023_s05_08_01.png ai2023_s05_08_00.data"
      ]
    },
    {
      "cell_type": "code",
      "source": [
        "# Run this cell to display the image.\n",
        "\n",
        "# importing IPython module\n",
        "import IPython.display\n",
        "\n",
        "# display image\n",
        "IPython.display.Image ('ai2023_s05_08_01.png')"
      ],
      "metadata": {
        "id": "8WstARvvNzHf"
      },
      "execution_count": null,
      "outputs": []
    },
    {
      "cell_type": "markdown",
      "metadata": {
        "id": "A_ws37JjN8Yc"
      },
      "source": [
        "# Sample Python script \"ai2023_s05_08_02.py\"\n"
      ]
    },
    {
      "cell_type": "code",
      "execution_count": null,
      "metadata": {
        "id": "XHaiYlI_N8Ye"
      },
      "outputs": [],
      "source": [
        "# Run this cell to show the source code.\n",
        "\n",
        "!cat ai2023_s05_08_02.py"
      ]
    },
    {
      "cell_type": "code",
      "execution_count": null,
      "metadata": {
        "id": "qTjiOS80N8Yh"
      },
      "outputs": [],
      "source": [
        "# Run this cell to execute the script.\n",
        "\n",
        "!python3.10 ai2023_s05_08_02.py -h"
      ]
    },
    {
      "cell_type": "code",
      "execution_count": null,
      "metadata": {
        "id": "6h7IXnr0N8Yj"
      },
      "outputs": [],
      "source": [
        "# Run this cell to execute the script.\n",
        "\n",
        "!python3.10 ai2023_s05_08_02.py -o ai2023_s05_08_02.png ai2023_s05_08_00.data"
      ]
    },
    {
      "cell_type": "code",
      "source": [
        "# Run this cell to display the image.\n",
        "\n",
        "# importing IPython module\n",
        "import IPython.display\n",
        "\n",
        "# display image\n",
        "IPython.display.Image ('ai2023_s05_08_02.png')"
      ],
      "metadata": {
        "id": "xYib-wX5N8Yl"
      },
      "execution_count": null,
      "outputs": []
    },
    {
      "cell_type": "markdown",
      "metadata": {
        "id": "D2ISEz3COYLw"
      },
      "source": [
        "# Practice s05-52"
      ]
    },
    {
      "cell_type": "code",
      "execution_count": null,
      "metadata": {
        "id": "Iy31GfgtOYLz"
      },
      "outputs": [],
      "source": [
        "# Write down your code for Practice s05-52 in this cell.\n",
        "\n",
        "\n",
        "\n"
      ]
    },
    {
      "cell_type": "markdown",
      "metadata": {
        "id": "c3CmK6UsOhDO"
      },
      "source": [
        "# Sample Python script \"ai2023_s05_08_03.py\"\n"
      ]
    },
    {
      "cell_type": "code",
      "execution_count": null,
      "metadata": {
        "id": "XtzXmB0FOhDQ"
      },
      "outputs": [],
      "source": [
        "# Run this cell to show the source code.\n",
        "\n",
        "!cat ai2023_s05_08_03.py"
      ]
    },
    {
      "cell_type": "code",
      "execution_count": null,
      "metadata": {
        "id": "QyAy09RiOhDR"
      },
      "outputs": [],
      "source": [
        "# Run this cell to execute the script.\n",
        "\n",
        "!python3.10 ai2023_s05_08_03.py -h"
      ]
    },
    {
      "cell_type": "code",
      "execution_count": null,
      "metadata": {
        "id": "hV4UpZSeOhDS"
      },
      "outputs": [],
      "source": [
        "# Run this cell to execute the script.\n",
        "\n",
        "!python3.10 ai2023_s05_08_03.py -a 3 -b 10 -e 1 -n 32 -min 0 -max 31 -o ai2023_s05_08_03.data"
      ]
    },
    {
      "cell_type": "code",
      "source": [
        "# Run this cell to find newly created file.\n",
        "\n",
        "!ls -lF *.data"
      ],
      "metadata": {
        "id": "80GW0g9MOtcf"
      },
      "execution_count": null,
      "outputs": []
    },
    {
      "cell_type": "code",
      "source": [
        "# Run this cell to find data type of newly created file.\n",
        "\n",
        "!file ai2023_s05_08_03.data"
      ],
      "metadata": {
        "id": "7hSMBv9rOtcg"
      },
      "execution_count": null,
      "outputs": []
    },
    {
      "cell_type": "code",
      "source": [
        "# Run this cell to show the content of newly created file.\n",
        "\n",
        "!cat ai2023_s05_08_03.data"
      ],
      "metadata": {
        "id": "6YUiGZyCOtch"
      },
      "execution_count": null,
      "outputs": []
    },
    {
      "cell_type": "markdown",
      "metadata": {
        "id": "r462vGbCO0qq"
      },
      "source": [
        "# Sample Python script \"ai2023_s05_08_04.py\"\n"
      ]
    },
    {
      "cell_type": "code",
      "execution_count": null,
      "metadata": {
        "id": "_lm0j_YiO0qr"
      },
      "outputs": [],
      "source": [
        "# Run this cell to show the source code.\n",
        "\n",
        "!cat ai2023_s05_08_04.py"
      ]
    },
    {
      "cell_type": "code",
      "execution_count": null,
      "metadata": {
        "id": "mlHPuhUlO0qt"
      },
      "outputs": [],
      "source": [
        "# Run this cell to execute the script.\n",
        "\n",
        "!python3.10 ai2023_s05_08_04.py -h"
      ]
    },
    {
      "cell_type": "code",
      "execution_count": null,
      "metadata": {
        "id": "jMXuUXDOO0qu"
      },
      "outputs": [],
      "source": [
        "# Run this cell to execute the script.\n",
        "\n",
        "!python3.10 ai2023_s05_08_04.py -o ai2023_s05_08_04.png ai2023_s05_08_03.data"
      ]
    },
    {
      "cell_type": "code",
      "source": [
        "# Run this cell to display the image.\n",
        "\n",
        "# importing IPython module\n",
        "import IPython.display\n",
        "\n",
        "# display image\n",
        "IPython.display.Image ('ai2023_s05_08_04.png')"
      ],
      "metadata": {
        "id": "LPwoGqRPO0qv"
      },
      "execution_count": null,
      "outputs": []
    },
    {
      "cell_type": "markdown",
      "metadata": {
        "id": "Qizc23BqPCnv"
      },
      "source": [
        "# Sample Python script \"ai2023_s05_08_05.py\"\n"
      ]
    },
    {
      "cell_type": "code",
      "execution_count": null,
      "metadata": {
        "id": "sa7Nwd0zPCn1"
      },
      "outputs": [],
      "source": [
        "# Run this cell to show the source code.\n",
        "\n",
        "!cat ai2023_s05_08_05.py"
      ]
    },
    {
      "cell_type": "code",
      "execution_count": null,
      "metadata": {
        "id": "knaykWYtPCn6"
      },
      "outputs": [],
      "source": [
        "# Run this cell to execute the script.\n",
        "\n",
        "!python3.10 ai2023_s05_08_05.py -h"
      ]
    },
    {
      "cell_type": "code",
      "execution_count": null,
      "metadata": {
        "id": "Pi0wwUIsPCn8"
      },
      "outputs": [],
      "source": [
        "# Run this cell to execute the script.\n",
        "\n",
        "!python3.10 ai2023_s05_08_05.py -o ai2023_s05_08_05.png ai2023_s05_08_03.data"
      ]
    },
    {
      "cell_type": "code",
      "source": [
        "# Run this cell to display the image.\n",
        "\n",
        "# importing IPython module\n",
        "import IPython.display\n",
        "\n",
        "# display image\n",
        "IPython.display.Image ('ai2023_s05_08_05.png')"
      ],
      "metadata": {
        "id": "Ll8utdmFPCoA"
      },
      "execution_count": null,
      "outputs": []
    },
    {
      "cell_type": "markdown",
      "metadata": {
        "id": "tCUKXqIdPQeb"
      },
      "source": [
        "# Sample Python script \"ai2023_s05_08_06.py\"\n"
      ]
    },
    {
      "cell_type": "code",
      "execution_count": null,
      "metadata": {
        "id": "bMcijPH9PQeg"
      },
      "outputs": [],
      "source": [
        "# Run this cell to show the source code.\n",
        "\n",
        "!cat ai2023_s05_08_06.py"
      ]
    },
    {
      "cell_type": "code",
      "execution_count": null,
      "metadata": {
        "id": "j5F5bVwAPQeh"
      },
      "outputs": [],
      "source": [
        "# Run this cell to execute the script.\n",
        "\n",
        "!python3.10 ai2023_s05_08_06.py -h"
      ]
    },
    {
      "cell_type": "code",
      "execution_count": null,
      "metadata": {
        "id": "3jAChXL5PQek"
      },
      "outputs": [],
      "source": [
        "# Run this cell to execute the script.\n",
        "\n",
        "!python3.10 ai2023_s05_08_06.py -o ai2023_s05_08_06.png ai2023_s05_08_03.data"
      ]
    },
    {
      "cell_type": "code",
      "source": [
        "# Run this cell to display the image.\n",
        "\n",
        "# importing IPython module\n",
        "import IPython.display\n",
        "\n",
        "# display image\n",
        "IPython.display.Image ('ai2023_s05_08_06.png')"
      ],
      "metadata": {
        "id": "6VK5y_gqPQem"
      },
      "execution_count": null,
      "outputs": []
    },
    {
      "cell_type": "markdown",
      "metadata": {
        "id": "x6VmO6dNPgiy"
      },
      "source": [
        "# Practice s05-53"
      ]
    },
    {
      "cell_type": "code",
      "execution_count": null,
      "metadata": {
        "id": "FLTOKFNbPgi0"
      },
      "outputs": [],
      "source": [
        "# Write down your code for Practice s05-53 in this cell.\n",
        "\n",
        "\n",
        "\n"
      ]
    },
    {
      "cell_type": "markdown",
      "metadata": {
        "id": "COflhWAEPrgW"
      },
      "source": [
        "# Sample Python script \"ai2023_s05_08_07.py\"\n"
      ]
    },
    {
      "cell_type": "code",
      "execution_count": null,
      "metadata": {
        "id": "k0mPHBy_PrgX"
      },
      "outputs": [],
      "source": [
        "# Run this cell to show the source code.\n",
        "\n",
        "!cat ai2023_s05_08_07.py"
      ]
    },
    {
      "cell_type": "code",
      "execution_count": null,
      "metadata": {
        "id": "7z97iKgXPrgZ"
      },
      "outputs": [],
      "source": [
        "# Run this cell to execute the script.\n",
        "\n",
        "!python3.10 ai2023_s05_08_07.py -h"
      ]
    },
    {
      "cell_type": "code",
      "execution_count": null,
      "metadata": {
        "id": "saejwdx4Prga"
      },
      "outputs": [],
      "source": [
        "# Run this cell to execute the script.\n",
        "\n",
        "!python3.10 ai2023_s05_08_07.py -a 2 -b 7 -c 5 -e 2 -n 16 -min 0 -max 15 -o ai2023_s05_08_07.data"
      ]
    },
    {
      "cell_type": "code",
      "source": [
        "# Run this cell to find newly created file.\n",
        "\n",
        "!ls -lF *.data"
      ],
      "metadata": {
        "id": "wLE5SJeUPrgc"
      },
      "execution_count": null,
      "outputs": []
    },
    {
      "cell_type": "code",
      "source": [
        "# Run this cell to find data type of newly created file.\n",
        "\n",
        "!file ai2023_s05_08_07.data"
      ],
      "metadata": {
        "id": "z2SCRu0vPrgd"
      },
      "execution_count": null,
      "outputs": []
    },
    {
      "cell_type": "code",
      "source": [
        "# Run this cell to show the content of newly created file.\n",
        "\n",
        "!cat ai2023_s05_08_07.data"
      ],
      "metadata": {
        "id": "3N3SPFb_Prgf"
      },
      "execution_count": null,
      "outputs": []
    },
    {
      "cell_type": "markdown",
      "metadata": {
        "id": "tSYb0ULCQAyu"
      },
      "source": [
        "# Sample Python script \"ai2023_s05_08_08.py\"\n"
      ]
    },
    {
      "cell_type": "code",
      "execution_count": null,
      "metadata": {
        "id": "VO-uQbl-QAyx"
      },
      "outputs": [],
      "source": [
        "# Run this cell to show the source code.\n",
        "\n",
        "!cat ai2023_s05_08_08.py"
      ]
    },
    {
      "cell_type": "code",
      "execution_count": null,
      "metadata": {
        "id": "269i-RtiQAyz"
      },
      "outputs": [],
      "source": [
        "# Run this cell to execute the script.\n",
        "\n",
        "!python3.10 ai2023_s05_08_08.py -h"
      ]
    },
    {
      "cell_type": "code",
      "execution_count": null,
      "metadata": {
        "id": "eL9igImCQAy1"
      },
      "outputs": [],
      "source": [
        "# Run this cell to execute the script.\n",
        "\n",
        "!python3.10 ai2023_s05_08_08.py -o ai2023_s05_08_08.png ai2023_s05_08_07.data"
      ]
    },
    {
      "cell_type": "code",
      "source": [
        "# Run this cell to display the image.\n",
        "\n",
        "# importing IPython module\n",
        "import IPython.display\n",
        "\n",
        "# display image\n",
        "IPython.display.Image ('ai2023_s05_08_08.png')"
      ],
      "metadata": {
        "id": "DYEAufedQAy5"
      },
      "execution_count": null,
      "outputs": []
    },
    {
      "cell_type": "markdown",
      "metadata": {
        "id": "w6WYRzSGQRDf"
      },
      "source": [
        "# Sample Python script \"ai2023_s05_08_09.py\"\n"
      ]
    },
    {
      "cell_type": "code",
      "execution_count": null,
      "metadata": {
        "id": "1QFvLJJaQRDh"
      },
      "outputs": [],
      "source": [
        "# Run this cell to show the source code.\n",
        "\n",
        "!cat ai2023_s05_08_09.py"
      ]
    },
    {
      "cell_type": "code",
      "execution_count": null,
      "metadata": {
        "id": "Bnn-QdV7QRDi"
      },
      "outputs": [],
      "source": [
        "# Run this cell to execute the script.\n",
        "\n",
        "!python3.10 ai2023_s05_08_09.py -h"
      ]
    },
    {
      "cell_type": "code",
      "execution_count": null,
      "metadata": {
        "id": "WVmdlIgYQRDk"
      },
      "outputs": [],
      "source": [
        "# Run this cell to execute the script.\n",
        "\n",
        "!python3.10 ai2023_s05_08_09.py -o ai2023_s05_08_09.png ai2023_s05_08_07.data"
      ]
    },
    {
      "cell_type": "code",
      "source": [
        "# Run this cell to display the image.\n",
        "\n",
        "# importing IPython module\n",
        "import IPython.display\n",
        "\n",
        "# display image\n",
        "IPython.display.Image ('ai2023_s05_08_09.png')"
      ],
      "metadata": {
        "id": "ytL36-fzQRDn"
      },
      "execution_count": null,
      "outputs": []
    },
    {
      "cell_type": "markdown",
      "metadata": {
        "id": "G8Y82sLJR5gg"
      },
      "source": [
        "# Practice s05-54"
      ]
    },
    {
      "cell_type": "code",
      "execution_count": null,
      "metadata": {
        "id": "tI7eym14R5gj"
      },
      "outputs": [],
      "source": [
        "# Write down your code for Practice s05-54 in this cell.\n",
        "\n",
        "\n",
        "\n"
      ]
    },
    {
      "cell_type": "markdown",
      "metadata": {
        "id": "db9kqFx9QiJF"
      },
      "source": [
        "# Sample Python script \"ai2023_s05_08_10.py\"\n"
      ]
    },
    {
      "cell_type": "code",
      "execution_count": null,
      "metadata": {
        "id": "V7Ij7w0fQiJI"
      },
      "outputs": [],
      "source": [
        "# Run this cell to show the source code.\n",
        "\n",
        "!cat ai2023_s05_08_10.py"
      ]
    },
    {
      "cell_type": "code",
      "execution_count": null,
      "metadata": {
        "id": "y_iKp6ruQiJL"
      },
      "outputs": [],
      "source": [
        "# Run this cell to execute the script.\n",
        "\n",
        "!python3.10 ai2023_s05_08_10.py -h"
      ]
    },
    {
      "cell_type": "code",
      "execution_count": null,
      "metadata": {
        "id": "VCeHQUoPQiJN"
      },
      "outputs": [],
      "source": [
        "# Run this cell to execute the script.\n",
        "\n",
        "!python3.10 ai2023_s05_08_10.py -a 2 -b 13 -c 5 -e 2 -n 32 -min 0 -max 31 -o ai2023_s05_08_10.data"
      ]
    },
    {
      "cell_type": "code",
      "source": [
        "# Run this cell to find newly created file.\n",
        "\n",
        "!ls -lF *.data"
      ],
      "metadata": {
        "id": "4qr6LJwHQiJQ"
      },
      "execution_count": null,
      "outputs": []
    },
    {
      "cell_type": "code",
      "source": [
        "# Run this cell to find data type of newly created file.\n",
        "\n",
        "!file ai2023_s05_08_10.data"
      ],
      "metadata": {
        "id": "G-HA8dcFQiJR"
      },
      "execution_count": null,
      "outputs": []
    },
    {
      "cell_type": "code",
      "source": [
        "# Run this cell to show the content of newly created file.\n",
        "\n",
        "!cat ai2023_s05_08_10.data"
      ],
      "metadata": {
        "id": "KhAgJpwxQiJU"
      },
      "execution_count": null,
      "outputs": []
    },
    {
      "cell_type": "markdown",
      "metadata": {
        "id": "e7nQkUEiRBiY"
      },
      "source": [
        "# Sample Python script \"ai2023_s05_08_04.py\"\n"
      ]
    },
    {
      "cell_type": "code",
      "execution_count": null,
      "metadata": {
        "id": "vhYUjgBGRBic"
      },
      "outputs": [],
      "source": [
        "# Run this cell to show the source code.\n",
        "\n",
        "!cat ai2023_s05_08_04.py"
      ]
    },
    {
      "cell_type": "code",
      "execution_count": null,
      "metadata": {
        "id": "cm1SBs8gRBie"
      },
      "outputs": [],
      "source": [
        "# Run this cell to execute the script.\n",
        "\n",
        "!python3.10 ai2023_s05_08_04.py -h"
      ]
    },
    {
      "cell_type": "code",
      "execution_count": null,
      "metadata": {
        "id": "xFsHCtZ8RBif"
      },
      "outputs": [],
      "source": [
        "# Run this cell to execute the script.\n",
        "\n",
        "!python3.10 ai2023_s05_08_04.py -o ai2023_s05_08_10.png ai2023_s05_08_10.data"
      ]
    },
    {
      "cell_type": "code",
      "source": [
        "# Run this cell to display the image.\n",
        "\n",
        "# importing IPython module\n",
        "import IPython.display\n",
        "\n",
        "# display image\n",
        "IPython.display.Image ('ai2023_s05_08_10.png')"
      ],
      "metadata": {
        "id": "Jx-oYsUKRBii"
      },
      "execution_count": null,
      "outputs": []
    },
    {
      "cell_type": "markdown",
      "metadata": {
        "id": "mbH7RmOAROhY"
      },
      "source": [
        "# Sample Python script \"ai2023_s05_08_11.py\"\n"
      ]
    },
    {
      "cell_type": "code",
      "execution_count": null,
      "metadata": {
        "id": "vvRrXdndROhb"
      },
      "outputs": [],
      "source": [
        "# Run this cell to show the source code.\n",
        "\n",
        "!cat ai2023_s05_08_11.py"
      ]
    },
    {
      "cell_type": "code",
      "execution_count": null,
      "metadata": {
        "id": "_OdHHf00ROhd"
      },
      "outputs": [],
      "source": [
        "# Run this cell to execute the script.\n",
        "\n",
        "!python3.10 ai2023_s05_08_11.py -h"
      ]
    },
    {
      "cell_type": "code",
      "execution_count": null,
      "metadata": {
        "id": "VJr-MTmeROhf"
      },
      "outputs": [],
      "source": [
        "# Run this cell to execute the script.\n",
        "\n",
        "!python3.10 ai2023_s05_08_11.py -o ai2023_s05_08_11.png ai2023_s05_08_10.data"
      ]
    },
    {
      "cell_type": "code",
      "source": [
        "# Run this cell to display the image.\n",
        "\n",
        "# importing IPython module\n",
        "import IPython.display\n",
        "\n",
        "# display image\n",
        "IPython.display.Image ('ai2023_s05_08_11.png')"
      ],
      "metadata": {
        "id": "sgWgvumSROhh"
      },
      "execution_count": null,
      "outputs": []
    },
    {
      "cell_type": "markdown",
      "metadata": {
        "id": "3JcIU_BlRZKu"
      },
      "source": [
        "# Sample Python script \"ai2023_s05_08_12.py\"\n"
      ]
    },
    {
      "cell_type": "code",
      "execution_count": null,
      "metadata": {
        "id": "_-BbqgDJRZKy"
      },
      "outputs": [],
      "source": [
        "# Run this cell to show the source code.\n",
        "\n",
        "!cat ai2023_s05_08_12.py"
      ]
    },
    {
      "cell_type": "code",
      "execution_count": null,
      "metadata": {
        "id": "cG9ZjBfERZK0"
      },
      "outputs": [],
      "source": [
        "# Run this cell to execute the script.\n",
        "\n",
        "!python3.10 ai2023_s05_08_12.py -h"
      ]
    },
    {
      "cell_type": "code",
      "execution_count": null,
      "metadata": {
        "id": "q3uB5C1HRZK2"
      },
      "outputs": [],
      "source": [
        "# Run this cell to execute the script.\n",
        "\n",
        "!python3.10 ai2023_s05_08_12.py -o ai2023_s05_08_12.png ai2023_s05_08_10.data"
      ]
    },
    {
      "cell_type": "code",
      "source": [
        "# Run this cell to display the image.\n",
        "\n",
        "# importing IPython module\n",
        "import IPython.display\n",
        "\n",
        "# display image\n",
        "IPython.display.Image ('ai2023_s05_08_12.png')"
      ],
      "metadata": {
        "id": "1DNXKxKPRZK4"
      },
      "execution_count": null,
      "outputs": []
    },
    {
      "cell_type": "markdown",
      "metadata": {
        "id": "QIA54DLnR9ic"
      },
      "source": [
        "# Practice s05-55"
      ]
    },
    {
      "cell_type": "code",
      "execution_count": null,
      "metadata": {
        "id": "-1CQz_E4R9id"
      },
      "outputs": [],
      "source": [
        "# Write down your code for Practice s05-55 in this cell.\n",
        "\n",
        "\n",
        "\n"
      ]
    },
    {
      "cell_type": "markdown",
      "metadata": {
        "id": "sVzoRUESSMa9"
      },
      "source": [
        "# Sample Python script \"ai2023_s05_08_13.py\"\n"
      ]
    },
    {
      "cell_type": "code",
      "execution_count": null,
      "metadata": {
        "id": "S-VkDX7BSMa_"
      },
      "outputs": [],
      "source": [
        "# Run this cell to show the source code.\n",
        "\n",
        "!cat ai2023_s05_08_13.py"
      ]
    },
    {
      "cell_type": "code",
      "execution_count": null,
      "metadata": {
        "id": "_naLYTBsSMbA"
      },
      "outputs": [],
      "source": [
        "# Run this cell to execute the script.\n",
        "\n",
        "!python3.10 ai2023_s05_08_13.py -h"
      ]
    },
    {
      "cell_type": "code",
      "execution_count": null,
      "metadata": {
        "id": "9yZ-zkEXSMbB"
      },
      "outputs": [],
      "source": [
        "# Run this cell to execute the script.\n",
        "\n",
        "!python3.10 ai2023_s05_08_13.py -a 2 -b 5000 -c 5 -e 5 -n 21 -min 4990 -max 5010 -o ai2023_s05_08_13.data"
      ]
    },
    {
      "cell_type": "code",
      "source": [
        "# Run this cell to find newly created file.\n",
        "\n",
        "!ls -lF *.data"
      ],
      "metadata": {
        "id": "7GjFPkL6SMbD"
      },
      "execution_count": null,
      "outputs": []
    },
    {
      "cell_type": "code",
      "source": [
        "# Run this cell to find data type of newly created file.\n",
        "\n",
        "!file ai2023_s05_08_13.data"
      ],
      "metadata": {
        "id": "Icd_-EoeSMbE"
      },
      "execution_count": null,
      "outputs": []
    },
    {
      "cell_type": "code",
      "source": [
        "# Run this cell to show the content of newly created file.\n",
        "\n",
        "!cat ai2023_s05_08_13.data"
      ],
      "metadata": {
        "id": "VDbLryeeSMbF"
      },
      "execution_count": null,
      "outputs": []
    },
    {
      "cell_type": "markdown",
      "metadata": {
        "id": "8fvuP5hdSkNt"
      },
      "source": [
        "# Sample Python script \"ai2023_s05_08_04.py\"\n"
      ]
    },
    {
      "cell_type": "code",
      "execution_count": null,
      "metadata": {
        "id": "xBDN2uPHSkNv"
      },
      "outputs": [],
      "source": [
        "# Run this cell to show the source code.\n",
        "\n",
        "!cat ai2023_s05_08_04.py"
      ]
    },
    {
      "cell_type": "code",
      "execution_count": null,
      "metadata": {
        "id": "KP0Z2pUpSkNy"
      },
      "outputs": [],
      "source": [
        "# Run this cell to execute the script.\n",
        "\n",
        "!python3.10 ai2023_s05_08_04.py -h"
      ]
    },
    {
      "cell_type": "code",
      "execution_count": null,
      "metadata": {
        "id": "bfbvzj04SkN0"
      },
      "outputs": [],
      "source": [
        "# Run this cell to execute the script.\n",
        "\n",
        "!python3.10 ai2023_s05_08_04.py -o ai2023_s05_08_13.png ai2023_s05_08_13.data"
      ]
    },
    {
      "cell_type": "code",
      "source": [
        "# Run this cell to display the image.\n",
        "\n",
        "# importing IPython module\n",
        "import IPython.display\n",
        "\n",
        "# display image\n",
        "IPython.display.Image ('ai2023_s05_08_13.png')"
      ],
      "metadata": {
        "id": "_2HPHfbFSkN2"
      },
      "execution_count": null,
      "outputs": []
    },
    {
      "cell_type": "markdown",
      "metadata": {
        "id": "hUbttpkESxIs"
      },
      "source": [
        "# Sample Python script \"ai2023_s05_08_12.py\"\n"
      ]
    },
    {
      "cell_type": "code",
      "execution_count": null,
      "metadata": {
        "id": "CKITB9HNSxIv"
      },
      "outputs": [],
      "source": [
        "# Run this cell to show the source code.\n",
        "\n",
        "!cat ai2023_s05_08_12.py"
      ]
    },
    {
      "cell_type": "code",
      "execution_count": null,
      "metadata": {
        "id": "_W7SXnQZSxIx"
      },
      "outputs": [],
      "source": [
        "# Run this cell to execute the script.\n",
        "\n",
        "!python3.10 ai2023_s05_08_12.py -h"
      ]
    },
    {
      "cell_type": "code",
      "execution_count": null,
      "metadata": {
        "id": "eGvSg2wGSxIy"
      },
      "outputs": [],
      "source": [
        "# Run this cell to execute the script.\n",
        "\n",
        "!python3.10 ai2023_s05_08_12.py -o ai2023_s05_08_13b.png ai2023_s05_08_13.data"
      ]
    },
    {
      "cell_type": "code",
      "execution_count": null,
      "metadata": {
        "id": "AZSjevHGS9zN"
      },
      "outputs": [],
      "source": [
        "# Run this cell to execute the script.\n",
        "\n",
        "!python3.10 ai2023_s05_08_12.py -a 1 -b 3000 -c 1 -o ai2023_s05_08_13b.png ai2023_s05_08_13.data"
      ]
    },
    {
      "cell_type": "code",
      "source": [
        "# Run this cell to display the image.\n",
        "\n",
        "# importing IPython module\n",
        "import IPython.display\n",
        "\n",
        "# display image\n",
        "IPython.display.Image ('ai2023_s05_08_13b.png')"
      ],
      "metadata": {
        "id": "1ORwU52iTLxo"
      },
      "execution_count": null,
      "outputs": []
    },
    {
      "cell_type": "markdown",
      "metadata": {
        "id": "8NbQMg0HUSU2"
      },
      "source": [
        "# Practice s05-56"
      ]
    },
    {
      "cell_type": "code",
      "execution_count": null,
      "metadata": {
        "id": "-u7fEPLMUSU4"
      },
      "outputs": [],
      "source": [
        "# Write down your code for Practice s05-56 in this cell.\n",
        "\n",
        "\n",
        "\n"
      ]
    },
    {
      "cell_type": "markdown",
      "metadata": {
        "id": "3SyTi_HuTVFH"
      },
      "source": [
        "# Sample Python script \"ai2023_s05_08_14.py\"\n"
      ]
    },
    {
      "cell_type": "code",
      "execution_count": null,
      "metadata": {
        "id": "2EgoUCayTVFK"
      },
      "outputs": [],
      "source": [
        "# Run this cell to show the source code.\n",
        "\n",
        "!cat ai2023_s05_08_14.py"
      ]
    },
    {
      "cell_type": "code",
      "execution_count": null,
      "metadata": {
        "id": "dcM-SBi1TVFO"
      },
      "outputs": [],
      "source": [
        "# Run this cell to execute the script.\n",
        "\n",
        "!python3.10 ai2023_s05_08_14.py"
      ]
    },
    {
      "cell_type": "code",
      "source": [
        "# Run this cell to find newly downloaded file.\n",
        "\n",
        "!ls -lF *.data"
      ],
      "metadata": {
        "id": "g-ci4b5tTeQO"
      },
      "execution_count": null,
      "outputs": []
    },
    {
      "cell_type": "code",
      "source": [
        "# Run this cell to find data type of newly downloaded file.\n",
        "\n",
        "!file solsys.data"
      ],
      "metadata": {
        "id": "vquAhmkeTeQP"
      },
      "execution_count": null,
      "outputs": []
    },
    {
      "cell_type": "code",
      "source": [
        "# Run this cell to show the content of newly downloaded file.\n",
        "\n",
        "!cat solsys.data"
      ],
      "metadata": {
        "id": "OSEgYIMSTeQP"
      },
      "execution_count": null,
      "outputs": []
    },
    {
      "cell_type": "markdown",
      "metadata": {
        "id": "qPEprzZCTsiG"
      },
      "source": [
        "# Sample Python script \"ai2023_s05_08_15.py\"\n"
      ]
    },
    {
      "cell_type": "code",
      "execution_count": null,
      "metadata": {
        "id": "e-da_4aLTsiH"
      },
      "outputs": [],
      "source": [
        "# Run this cell to show the source code.\n",
        "\n",
        "!cat ai2023_s05_08_15.py"
      ]
    },
    {
      "cell_type": "code",
      "execution_count": null,
      "metadata": {
        "id": "jCu-Q9a_TsiI"
      },
      "outputs": [],
      "source": [
        "# Run this cell to execute the script.\n",
        "\n",
        "!python3.10 ai2023_s05_08_15.py"
      ]
    },
    {
      "cell_type": "code",
      "source": [
        "# Run this cell to display the image.\n",
        "\n",
        "# importing IPython module\n",
        "import IPython.display\n",
        "\n",
        "# display image\n",
        "IPython.display.Image ('ai2023_s05_08_15.png')"
      ],
      "metadata": {
        "id": "kADW5yWqTzdn"
      },
      "execution_count": null,
      "outputs": []
    },
    {
      "cell_type": "markdown",
      "metadata": {
        "id": "LuGgcVAMT_II"
      },
      "source": [
        "# Sample Python script \"ai2023_s05_08_16.py\"\n"
      ]
    },
    {
      "cell_type": "code",
      "execution_count": null,
      "metadata": {
        "id": "cf_COahwT_IK"
      },
      "outputs": [],
      "source": [
        "# Run this cell to show the source code.\n",
        "\n",
        "!cat ai2023_s05_08_16.py"
      ]
    },
    {
      "cell_type": "code",
      "execution_count": null,
      "metadata": {
        "id": "_3oSTE07T_IL"
      },
      "outputs": [],
      "source": [
        "# Run this cell to execute the script.\n",
        "\n",
        "!python3.10 ai2023_s05_08_16.py"
      ]
    },
    {
      "cell_type": "code",
      "source": [
        "# Run this cell to display the image.\n",
        "\n",
        "# importing IPython module\n",
        "import IPython.display\n",
        "\n",
        "# display image\n",
        "IPython.display.Image ('ai2023_s05_08_16.png')"
      ],
      "metadata": {
        "id": "psCYdXsaT_IN"
      },
      "execution_count": null,
      "outputs": []
    },
    {
      "cell_type": "markdown",
      "metadata": {
        "id": "r7-AwK4iUd8J"
      },
      "source": [
        "# Practice s05-57"
      ]
    },
    {
      "cell_type": "code",
      "execution_count": null,
      "metadata": {
        "id": "n_UkxgsKUd8L"
      },
      "outputs": [],
      "source": [
        "# Write down your code for Practice s05-57 in this cell.\n",
        "\n",
        "\n",
        "\n"
      ]
    },
    {
      "cell_type": "markdown",
      "metadata": {
        "id": "y6kmfY42Ug0y"
      },
      "source": [
        "# Practice s05-58"
      ]
    },
    {
      "cell_type": "code",
      "execution_count": null,
      "metadata": {
        "id": "O6_rsTIjUg00"
      },
      "outputs": [],
      "source": [
        "# Write down your code for Practice s05-58 in this cell.\n",
        "\n",
        "\n",
        "\n"
      ]
    },
    {
      "cell_type": "markdown",
      "metadata": {
        "id": "jE-Ltwx7UhAJ"
      },
      "source": [
        "# Practice s05-59"
      ]
    },
    {
      "cell_type": "code",
      "execution_count": null,
      "metadata": {
        "id": "6IroqmtcUhAO"
      },
      "outputs": [],
      "source": [
        "# Write down your code for Practice s05-59 in this cell.\n",
        "\n",
        "\n",
        "\n"
      ]
    },
    {
      "cell_type": "markdown",
      "source": [
        "# End of this notebook"
      ],
      "metadata": {
        "id": "_vIz9hMkUlgi"
      }
    },
    {
      "cell_type": "code",
      "source": [],
      "metadata": {
        "id": "3vqlaiopUo5e"
      },
      "execution_count": null,
      "outputs": []
    }
  ]
}