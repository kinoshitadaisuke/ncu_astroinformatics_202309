{
  "nbformat": 4,
  "nbformat_minor": 0,
  "metadata": {
    "colab": {
      "provenance": []
    },
    "kernelspec": {
      "name": "python3",
      "display_name": "Python 3"
    },
    "language_info": {
      "name": "python"
    }
  },
  "cells": [
    {
      "cell_type": "markdown",
      "source": [
        "# AS6095 \"Astroinformatics\"\n",
        "\n",
        "## for academic year 2023 (from Sep/2023 to Jan/2024)\n",
        "\n",
        "## instructor: Kinoshita Daisuke\n",
        "\n",
        "## Course web page: https://s3b.astro.ncu.edu.tw/ai_202309/\n",
        "\n",
        "## GitHub repository: https://github.com/kinoshitadaisuke/ncu_astroinformatics_202309\n"
      ],
      "metadata": {
        "id": "X9F8FTGZzaSe"
      }
    },
    {
      "cell_type": "markdown",
      "source": [
        "# Session 00 \"Executing a Python script\"\n",
        "\n",
        "## 11 September 2023\n"
      ],
      "metadata": {
        "id": "MKQ0pdfJCZ1I"
      }
    },
    {
      "cell_type": "markdown",
      "source": [
        "# Downloading a set of sample Python scripts and changing directory"
      ],
      "metadata": {
        "id": "FVmonUCL197r"
      }
    },
    {
      "cell_type": "code",
      "source": [
        "# Run this cell to download a set of sample Python scripts for this course.\n",
        "\n",
        "!git clone https://github.com/kinoshitadaisuke/ncu_astroinformatics_202309.git"
      ],
      "metadata": {
        "id": "E-J1KLJAzmx5"
      },
      "execution_count": null,
      "outputs": []
    },
    {
      "cell_type": "code",
      "source": [
        "# Run this cell to check whether you have a directory named \"ncu_astroinformatics_202309\".\n",
        "\n",
        "!ls"
      ],
      "metadata": {
        "id": "NU4Otc0i2jfu"
      },
      "execution_count": null,
      "outputs": []
    },
    {
      "cell_type": "code",
      "source": [
        "# Run this cell to move to the directory \"ncu_astroinformatics_202309\".\n",
        "\n",
        "%cd ncu_astroinformatics_202309"
      ],
      "metadata": {
        "id": "faZRhZv821VY"
      },
      "execution_count": null,
      "outputs": []
    },
    {
      "cell_type": "code",
      "source": [
        "# Run this cell to show currently working directory.\n",
        "\n",
        "!pwd"
      ],
      "metadata": {
        "id": "hUjHlUZk3Bov"
      },
      "execution_count": null,
      "outputs": []
    },
    {
      "cell_type": "code",
      "source": [
        "# Run this cell to show files and directories.\n",
        "\n",
        "!ls -lF"
      ],
      "metadata": {
        "id": "RXAGJHeX3IsD"
      },
      "execution_count": null,
      "outputs": []
    },
    {
      "cell_type": "code",
      "source": [
        "# Run this cell to move to the directory \"s00\".\n",
        "\n",
        "%cd s00"
      ],
      "metadata": {
        "id": "xR0V8I0k3O3k"
      },
      "execution_count": null,
      "outputs": []
    },
    {
      "cell_type": "code",
      "source": [
        "# Run this cell to show currently working directory.\n",
        "\n",
        "!pwd"
      ],
      "metadata": {
        "id": "KbvQ_3Su3UKL"
      },
      "execution_count": null,
      "outputs": []
    },
    {
      "cell_type": "code",
      "source": [
        "# Run this cell to show files and directories.\n",
        "\n",
        "!ls -lF"
      ],
      "metadata": {
        "id": "n9AAgI4d3c6n"
      },
      "execution_count": null,
      "outputs": []
    },
    {
      "cell_type": "markdown",
      "source": [
        "# Sample Python script \"ai2023_s00_00_00.py\"\n"
      ],
      "metadata": {
        "id": "3kDY3MHR4Vxj"
      }
    },
    {
      "cell_type": "code",
      "source": [
        "# Run this cell to show the source code.\n",
        "\n",
        "!cat ai2023_s00_00_00.py"
      ],
      "metadata": {
        "id": "tRN2oeq_4eoZ"
      },
      "execution_count": null,
      "outputs": []
    },
    {
      "cell_type": "code",
      "source": [
        "# Run this cell to execute the script.\n",
        "\n",
        "!python3.10 ai2023_s00_00_00.py"
      ],
      "metadata": {
        "id": "0W7Vb0874m_H"
      },
      "execution_count": null,
      "outputs": []
    },
    {
      "cell_type": "markdown",
      "source": [
        "# Practice s00-00"
      ],
      "metadata": {
        "id": "SNETVMoz6fRd"
      }
    },
    {
      "cell_type": "code",
      "source": [
        "# Write down your code for Practice s00-00 in this cell.\n",
        "\n",
        "\n",
        "\n"
      ],
      "metadata": {
        "id": "JllPWrQn6rOm"
      },
      "execution_count": null,
      "outputs": []
    },
    {
      "cell_type": "markdown",
      "source": [
        "# End of this notebook"
      ],
      "metadata": {
        "id": "0OW8CmXY4-x9"
      }
    },
    {
      "cell_type": "code",
      "source": [],
      "metadata": {
        "id": "dlEgFHTf5A_Q"
      },
      "execution_count": null,
      "outputs": []
    }
  ]
}