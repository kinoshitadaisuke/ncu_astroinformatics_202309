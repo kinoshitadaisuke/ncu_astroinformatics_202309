{
  "nbformat": 4,
  "nbformat_minor": 0,
  "metadata": {
    "colab": {
      "provenance": []
    },
    "kernelspec": {
      "name": "python3",
      "display_name": "Python 3"
    },
    "language_info": {
      "name": "python"
    }
  },
  "cells": [
    {
      "cell_type": "markdown",
      "metadata": {
        "id": "X9F8FTGZzaSe"
      },
      "source": [
        "# AS6095 \"Astroinformatics\"\n",
        "\n",
        "## for academic year 2023 (from Sep/2023 to Jan/2024)\n",
        "\n",
        "## instructor: Kinoshita Daisuke\n",
        "\n",
        "## Course web page: https://s3b.astro.ncu.edu.tw/ai_202309/\n",
        "\n",
        "## GitHub repository: https://github.com/kinoshitadaisuke/ncu_astroinformatics_202309\n"
      ]
    },
    {
      "cell_type": "markdown",
      "metadata": {
        "id": "MKQ0pdfJCZ1I"
      },
      "source": [
        "# Session 13 \"Source extraction and image alignment of astronomical images\"\n",
        "\n",
        "## 11 December 2023\n"
      ]
    },
    {
      "cell_type": "markdown",
      "metadata": {
        "id": "FVmonUCL197r"
      },
      "source": [
        "# Downloading a set of sample Python scripts and changing directory"
      ]
    },
    {
      "cell_type": "code",
      "execution_count": null,
      "metadata": {
        "id": "E-J1KLJAzmx5"
      },
      "outputs": [],
      "source": [
        "# Run this cell to download a set of sample Python scripts for this course.\n",
        "\n",
        "!git clone https://github.com/kinoshitadaisuke/ncu_astroinformatics_202309.git"
      ]
    },
    {
      "cell_type": "code",
      "execution_count": null,
      "metadata": {
        "id": "NU4Otc0i2jfu"
      },
      "outputs": [],
      "source": [
        "# Run this cell to check whether you have a directory named \"ncu_astroinformatics_202309\".\n",
        "\n",
        "!ls"
      ]
    },
    {
      "cell_type": "code",
      "execution_count": null,
      "metadata": {
        "id": "faZRhZv821VY"
      },
      "outputs": [],
      "source": [
        "# Run this cell to move to the directory \"ncu_astroinformatics_202309\".\n",
        "\n",
        "%cd ncu_astroinformatics_202309"
      ]
    },
    {
      "cell_type": "code",
      "execution_count": null,
      "metadata": {
        "id": "hUjHlUZk3Bov"
      },
      "outputs": [],
      "source": [
        "# Run this cell to show currently working directory.\n",
        "\n",
        "!pwd"
      ]
    },
    {
      "cell_type": "code",
      "execution_count": null,
      "metadata": {
        "id": "RXAGJHeX3IsD"
      },
      "outputs": [],
      "source": [
        "# Run this cell to show files and directories.\n",
        "\n",
        "!ls -lF"
      ]
    },
    {
      "cell_type": "code",
      "execution_count": null,
      "metadata": {
        "id": "xR0V8I0k3O3k"
      },
      "outputs": [],
      "source": [
        "# Run this cell to move to the directory \"s13\".\n",
        "\n",
        "%cd s13"
      ]
    },
    {
      "cell_type": "code",
      "execution_count": null,
      "metadata": {
        "id": "KbvQ_3Su3UKL"
      },
      "outputs": [],
      "source": [
        "# Run this cell to show currently working directory.\n",
        "\n",
        "!pwd"
      ]
    },
    {
      "cell_type": "code",
      "execution_count": null,
      "metadata": {
        "id": "n9AAgI4d3c6n"
      },
      "outputs": [],
      "source": [
        "# Run this cell to show files and directories.\n",
        "\n",
        "!ls -lF"
      ]
    },
    {
      "cell_type": "markdown",
      "source": [
        "# Installation of Astropy"
      ],
      "metadata": {
        "id": "jVlw3LHHcBFa"
      }
    },
    {
      "cell_type": "code",
      "source": [
        "# Install Astropy if you do not have it.\n",
        "\n",
        "!pip install astropy"
      ],
      "metadata": {
        "id": "tsoYTACbb4dj"
      },
      "execution_count": null,
      "outputs": []
    },
    {
      "cell_type": "markdown",
      "source": [
        "# Installation of Astroquery"
      ],
      "metadata": {
        "id": "pZWgbTxhTHg9"
      }
    },
    {
      "cell_type": "code",
      "source": [
        "# Install Astropy if you do not have it.\n",
        "\n",
        "!pip install astroquery"
      ],
      "metadata": {
        "id": "mnpVjoO7THhB"
      },
      "execution_count": null,
      "outputs": []
    },
    {
      "cell_type": "markdown",
      "source": [
        "# Installation of Photutils"
      ],
      "metadata": {
        "id": "EwGINwLetEg-"
      }
    },
    {
      "cell_type": "code",
      "source": [
        "# Install Photutils if you do not have it.\n",
        "\n",
        "!pip install photutils"
      ],
      "metadata": {
        "id": "LsCMPd7GtH6m"
      },
      "execution_count": null,
      "outputs": []
    },
    {
      "cell_type": "markdown",
      "source": [
        "# Installation of scikit-image"
      ],
      "metadata": {
        "id": "3sM2PJRHTvgp"
      }
    },
    {
      "cell_type": "code",
      "source": [
        "# Install scikit-image if you do not have it.\n",
        "\n",
        "!pip install scikit-image"
      ],
      "metadata": {
        "id": "-Dy5xnQTTvgt"
      },
      "execution_count": null,
      "outputs": []
    },
    {
      "cell_type": "markdown",
      "source": [
        "# Installation of Astroalign"
      ],
      "metadata": {
        "id": "FpYWF6lkzY1B"
      }
    },
    {
      "cell_type": "code",
      "source": [
        "# Install Astroalign if you do not have it.\n",
        "\n",
        "!pip install astroalign"
      ],
      "metadata": {
        "id": "pBf61BqOzbSb"
      },
      "execution_count": null,
      "outputs": []
    },
    {
      "cell_type": "markdown",
      "source": [
        "# Making a synthetic image"
      ],
      "metadata": {
        "id": "pdEI6GoEUDaV"
      }
    },
    {
      "cell_type": "markdown",
      "source": [
        "## Making a sky background image"
      ],
      "metadata": {
        "id": "ofdd3m5NUJPe"
      }
    },
    {
      "cell_type": "code",
      "source": [
        "# Run this cell to show the source code of the script.\n",
        "\n",
        "!cat ai2023_s13_00_00.py"
      ],
      "metadata": {
        "id": "Yi3MidhWUEsf"
      },
      "execution_count": null,
      "outputs": []
    },
    {
      "cell_type": "code",
      "source": [
        "# Run this cell to execute the script.\n",
        "\n",
        "!python3.10 ai2023_s13_00_00.py -h"
      ],
      "metadata": {
        "id": "qgI1a4DiUTIV"
      },
      "execution_count": null,
      "outputs": []
    },
    {
      "cell_type": "code",
      "source": [
        "# Run this cell to execute the script.\n",
        "\n",
        "!python3.10 ai2023_s13_00_00.py -b 3000 -s 50 -x 1024 -y 1024 -o synthetic_skybg.fits"
      ],
      "metadata": {
        "id": "E6hflPudUYwX"
      },
      "execution_count": null,
      "outputs": []
    },
    {
      "cell_type": "markdown",
      "source": [
        "## Examining pixel values of a FITS file"
      ],
      "metadata": {
        "id": "GxNlS49QUhJL"
      }
    },
    {
      "cell_type": "code",
      "source": [
        "# Run this cell to show the source code of the script.\n",
        "\n",
        "!cat ai2023_s13_00_01.py"
      ],
      "metadata": {
        "id": "EYakkz8YUnrm"
      },
      "execution_count": null,
      "outputs": []
    },
    {
      "cell_type": "code",
      "source": [
        "# Run this cell to execute the script.\n",
        "\n",
        "!python3.10 ai2023_s13_00_01.py -h"
      ],
      "metadata": {
        "id": "1xpx0QXeUnro"
      },
      "execution_count": null,
      "outputs": []
    },
    {
      "cell_type": "code",
      "source": [
        "# Run this cell to execute the script.\n",
        "\n",
        "!python3.10 ai2023_s13_00_01.py synthetic_skybg.fits"
      ],
      "metadata": {
        "id": "6ZFD93tZUnrp"
      },
      "execution_count": null,
      "outputs": []
    },
    {
      "cell_type": "markdown",
      "source": [
        "## Visualising a FITS file"
      ],
      "metadata": {
        "id": "eCktlgoOUvGj"
      }
    },
    {
      "cell_type": "code",
      "source": [
        "# Run this cell to show the source code of the script.\n",
        "\n",
        "!cat ai2023_s13_00_02.py"
      ],
      "metadata": {
        "id": "RBUFEb89Uz9_"
      },
      "execution_count": null,
      "outputs": []
    },
    {
      "cell_type": "code",
      "source": [
        "# Run this cell to execute the script.\n",
        "\n",
        "!python3.10 ai2023_s13_00_02.py -h"
      ],
      "metadata": {
        "id": "qsSowNaMUz-H"
      },
      "execution_count": null,
      "outputs": []
    },
    {
      "cell_type": "code",
      "source": [
        "# Run this cell to execute the script.\n",
        "\n",
        "!python3.10 ai2023_s13_00_02.py -i synthetic_skybg.fits -o synthetic_skybg.png -c hot -t \"synthetic sky background image\""
      ],
      "metadata": {
        "id": "ZTxXAm9sUz-J"
      },
      "execution_count": null,
      "outputs": []
    },
    {
      "cell_type": "code",
      "source": [
        "# Run this cell to display PNG image.\n",
        "\n",
        "# importing IPython.display module\n",
        "import IPython.display\n",
        "\n",
        "# displaying PNG file\n",
        "IPython.display.Image ('synthetic_skybg.png')"
      ],
      "metadata": {
        "id": "wp4Hfr0b4dLH"
      },
      "execution_count": null,
      "outputs": []
    },
    {
      "cell_type": "markdown",
      "source": [
        "## Making a synthetic image with artificial stars"
      ],
      "metadata": {
        "id": "8B0Lk-SKVS7t"
      }
    },
    {
      "cell_type": "code",
      "source": [
        "# Run this cell to show the source code of the script.\n",
        "\n",
        "!cat ai2023_s13_00_03.py"
      ],
      "metadata": {
        "id": "Az7e_5Z0VazX"
      },
      "execution_count": null,
      "outputs": []
    },
    {
      "cell_type": "code",
      "source": [
        "# Run this cell to execute the script.\n",
        "\n",
        "!python3.10 ai2023_s13_00_03.py -h"
      ],
      "metadata": {
        "id": "Py7qwrcCVaza"
      },
      "execution_count": null,
      "outputs": []
    },
    {
      "cell_type": "code",
      "source": [
        "# Run this cell to execute the script.\n",
        "\n",
        "!python3.10 ai2023_s13_00_03.py -b 3000 -s 50 -n 300 -f 50000 -p 4 -x 1024 -y 1024 -o synthetic_star.fits"
      ],
      "metadata": {
        "id": "isgg6oV6Vazc"
      },
      "execution_count": null,
      "outputs": []
    },
    {
      "cell_type": "code",
      "source": [
        "# Run this cell to execute the script.\n",
        "\n",
        "!python3.10 ai2023_s13_00_02.py -i synthetic_star.fits -o synthetic_star.png -c bone -t \"synthetic image with stars\""
      ],
      "metadata": {
        "id": "dawnmDs2VvwY"
      },
      "execution_count": null,
      "outputs": []
    },
    {
      "cell_type": "code",
      "source": [
        "# Run this cell to display PNG image.\n",
        "\n",
        "# importing IPython.display module\n",
        "import IPython.display\n",
        "\n",
        "# displaying PNG file\n",
        "IPython.display.Image ('synthetic_star.png')"
      ],
      "metadata": {
        "id": "pjiUjzRfVvwi"
      },
      "execution_count": null,
      "outputs": []
    },
    {
      "cell_type": "markdown",
      "source": [
        "## Making a synthetic image with artificial stars and galaxies"
      ],
      "metadata": {
        "id": "tbOUgGYOWB_d"
      }
    },
    {
      "cell_type": "code",
      "source": [
        "# Run this cell to show the source code of the script.\n",
        "\n",
        "!cat ai2023_s13_00_04.py"
      ],
      "metadata": {
        "id": "h1B3J5J3WB_h"
      },
      "execution_count": null,
      "outputs": []
    },
    {
      "cell_type": "code",
      "source": [
        "# Run this cell to execute the script.\n",
        "\n",
        "!python3.10 ai2023_s13_00_04.py -h"
      ],
      "metadata": {
        "id": "V6_VnjkFWB_i"
      },
      "execution_count": null,
      "outputs": []
    },
    {
      "cell_type": "code",
      "source": [
        "# Run this cell to execute the script.\n",
        "\n",
        "!python3.10 ai2023_s13_00_04.py -s 3000 -e 50 -n 200 -g 30 -l synthetic_star_gal.log -o synthetic_star_gal.fits"
      ],
      "metadata": {
        "id": "Yeod0CWDWB_j"
      },
      "execution_count": null,
      "outputs": []
    },
    {
      "cell_type": "code",
      "source": [
        "# Run this cell to execute the script.\n",
        "\n",
        "!python3.10 ai2023_s13_00_02.py -i synthetic_star_gal.fits -o synthetic_star_gal.png -c viridis -t \"synthetic image with stars and galaxies\""
      ],
      "metadata": {
        "id": "_LHrSyREWB_j"
      },
      "execution_count": null,
      "outputs": []
    },
    {
      "cell_type": "code",
      "source": [
        "# Run this cell to display PNG image.\n",
        "\n",
        "# importing IPython.display module\n",
        "import IPython.display\n",
        "\n",
        "# displaying PNG file\n",
        "IPython.display.Image ('synthetic_star_gal.png')"
      ],
      "metadata": {
        "id": "yfTk3ZrtWB_l"
      },
      "execution_count": null,
      "outputs": []
    },
    {
      "cell_type": "markdown",
      "source": [
        "# Estimating sky background level"
      ],
      "metadata": {
        "id": "7wRB4-jBWrhZ"
      }
    },
    {
      "cell_type": "markdown",
      "source": [
        "## Estimating 1-D sky background value"
      ],
      "metadata": {
        "id": "wcKjElgWW18q"
      }
    },
    {
      "cell_type": "code",
      "source": [
        "# Run this cell to show the source code of the script.\n",
        "\n",
        "!cat ai2023_s13_01_00.py"
      ],
      "metadata": {
        "id": "yr9fWvgtW98a"
      },
      "execution_count": null,
      "outputs": []
    },
    {
      "cell_type": "code",
      "source": [
        "# Run this cell to execute the script.\n",
        "\n",
        "!python3.10 ai2023_s13_01_00.py -h"
      ],
      "metadata": {
        "id": "BmhVbZZcW98p"
      },
      "execution_count": null,
      "outputs": []
    },
    {
      "cell_type": "code",
      "source": [
        "# Run this cell to execute the script.\n",
        "\n",
        "!python3.10 ai2023_s13_01_00.py -i synthetic_star_gal.fits -o synthetic_star_gal_masked.fits"
      ],
      "metadata": {
        "id": "aQ_vaaAEW98s"
      },
      "execution_count": null,
      "outputs": []
    },
    {
      "cell_type": "code",
      "source": [
        "# Run this cell to execute the script.\n",
        "\n",
        "!python3.10 ai2023_s13_00_02.py -i synthetic_star_gal_masked.fits -o synthetic_star_gal_masked.png -t \"masking stars and galaxies\""
      ],
      "metadata": {
        "id": "xRPbU_eJXNkQ"
      },
      "execution_count": null,
      "outputs": []
    },
    {
      "cell_type": "code",
      "source": [
        "# Run this cell to display PNG image.\n",
        "\n",
        "# importing IPython.display module\n",
        "import IPython.display\n",
        "\n",
        "# displaying PNG file\n",
        "IPython.display.Image ('synthetic_star_gal_masked.png')"
      ],
      "metadata": {
        "id": "LAr2wzgzXtdq"
      },
      "execution_count": null,
      "outputs": []
    },
    {
      "cell_type": "code",
      "source": [
        "# Run this cell to show the source code of the script.\n",
        "\n",
        "!cat ai2023_s13_01_01.py"
      ],
      "metadata": {
        "id": "3bO0LHSRX7YX"
      },
      "execution_count": null,
      "outputs": []
    },
    {
      "cell_type": "code",
      "source": [
        "# Run this cell to execute the script.\n",
        "\n",
        "!python3.10 ai2023_s13_01_01.py -h"
      ],
      "metadata": {
        "id": "wTrlGP8PX7Yc"
      },
      "execution_count": null,
      "outputs": []
    },
    {
      "cell_type": "code",
      "source": [
        "# Run this cell to execute the script.\n",
        "\n",
        "!python3.10 ai2023_s13_01_01.py -i synthetic_star_gal.fits"
      ],
      "metadata": {
        "id": "WNqfvMQXX7Yd"
      },
      "execution_count": null,
      "outputs": []
    },
    {
      "cell_type": "markdown",
      "source": [
        "## Making 2-D sky background map"
      ],
      "metadata": {
        "id": "J04flj9rYJYz"
      }
    },
    {
      "cell_type": "code",
      "source": [
        "# Run this cell to show the source code of the script.\n",
        "\n",
        "!cat ai2023_s13_01_02.py"
      ],
      "metadata": {
        "id": "ciHv76rxYSSP"
      },
      "execution_count": null,
      "outputs": []
    },
    {
      "cell_type": "code",
      "source": [
        "# Run this cell to execute the script.\n",
        "\n",
        "!python3.10 ai2023_s13_01_02.py -h"
      ],
      "metadata": {
        "id": "vpNwW5ILYSSS"
      },
      "execution_count": null,
      "outputs": []
    },
    {
      "cell_type": "code",
      "source": [
        "# Run this cell to execute the script.\n",
        "\n",
        "!python3.10 ai2023_s13_01_02.py -i synthetic_star_gal.fits -o synthetic_star_gal_skybg.fits -b 100"
      ],
      "metadata": {
        "id": "mAheC7N0YSSS"
      },
      "execution_count": null,
      "outputs": []
    },
    {
      "cell_type": "code",
      "source": [
        "# Run this cell to execute the script.\n",
        "\n",
        "!python3.10 ai2023_s13_00_02.py -i synthetic_star_gal_skybg.fits -o synthetic_star_gal_skybg.png -t \"2D sky background map\""
      ],
      "metadata": {
        "id": "UWdu0Ce1Yi6G"
      },
      "execution_count": null,
      "outputs": []
    },
    {
      "cell_type": "code",
      "source": [
        "# Run this cell to display PNG image.\n",
        "\n",
        "# importing IPython.display module\n",
        "import IPython.display\n",
        "\n",
        "# displaying PNG file\n",
        "IPython.display.Image ('synthetic_star_gal_skybg.png')"
      ],
      "metadata": {
        "id": "YM3szOFOYi6I"
      },
      "execution_count": null,
      "outputs": []
    },
    {
      "cell_type": "code",
      "source": [
        "# Run this cell to show the source code of the script.\n",
        "\n",
        "!cat ai2023_s13_01_03.py"
      ],
      "metadata": {
        "id": "KFJW14RcY2mu"
      },
      "execution_count": null,
      "outputs": []
    },
    {
      "cell_type": "code",
      "source": [
        "# Run this cell to execute the script.\n",
        "\n",
        "!python3.10 ai2023_s13_01_03.py -h"
      ],
      "metadata": {
        "id": "_2soA8JFY2nG"
      },
      "execution_count": null,
      "outputs": []
    },
    {
      "cell_type": "code",
      "source": [
        "# Run this cell to execute the script.\n",
        "\n",
        "!python3.10 ai2023_s13_01_03.py -i synthetic_star_gal.fits -o synthetic_star_gal_skysub.fits -b 100"
      ],
      "metadata": {
        "id": "BdFmSYE5Y2nH"
      },
      "execution_count": null,
      "outputs": []
    },
    {
      "cell_type": "code",
      "source": [
        "# Run this cell to execute the script.\n",
        "\n",
        "!python3.10 ai2023_s13_00_02.py -i synthetic_star_gal_skysub.fits -o synthetic_star_gal_skysub.png -t \"skybackground subtracted image\""
      ],
      "metadata": {
        "id": "QXHsSxwvY2nI"
      },
      "execution_count": null,
      "outputs": []
    },
    {
      "cell_type": "code",
      "source": [
        "# Run this cell to display PNG image.\n",
        "\n",
        "# importing IPython.display module\n",
        "import IPython.display\n",
        "\n",
        "# displaying PNG file\n",
        "IPython.display.Image ('synthetic_star_gal_skysub.png')"
      ],
      "metadata": {
        "id": "RxjfJ5tRY2nJ"
      },
      "execution_count": null,
      "outputs": []
    },
    {
      "cell_type": "markdown",
      "source": [
        "# Source extraction"
      ],
      "metadata": {
        "id": "0BrHy8rVZNjM"
      }
    },
    {
      "cell_type": "markdown",
      "source": [
        "## Detecting sources using image segmentation"
      ],
      "metadata": {
        "id": "w_fNrZ7tZP96"
      }
    },
    {
      "cell_type": "code",
      "source": [
        "# Run this cell to show the source code of the script.\n",
        "\n",
        "!cat ai2023_s13_02_00.py"
      ],
      "metadata": {
        "id": "8p0zF4O3ZZ-3"
      },
      "execution_count": null,
      "outputs": []
    },
    {
      "cell_type": "code",
      "source": [
        "# Run this cell to execute the script.\n",
        "\n",
        "!python3.10 ai2023_s13_02_00.py -h"
      ],
      "metadata": {
        "id": "S07U2GjoZZ-9"
      },
      "execution_count": null,
      "outputs": []
    },
    {
      "cell_type": "code",
      "source": [
        "# Run this cell to execute the script.\n",
        "\n",
        "!python3.10 ai2023_s13_02_00.py -i synthetic_star_gal.fits -o synthetic_star_gal_segm.png"
      ],
      "metadata": {
        "id": "cAhBFtflZZ--"
      },
      "execution_count": null,
      "outputs": []
    },
    {
      "cell_type": "code",
      "source": [
        "# Run this cell to display PNG image.\n",
        "\n",
        "# importing IPython.display module\n",
        "import IPython.display\n",
        "\n",
        "# displaying PNG file\n",
        "IPython.display.Image ('synthetic_star_gal_segm.png')"
      ],
      "metadata": {
        "id": "6LYvzQT1Zld5"
      },
      "execution_count": null,
      "outputs": []
    },
    {
      "cell_type": "markdown",
      "source": [
        "## De-blending"
      ],
      "metadata": {
        "id": "cGhABJ0_Zvtu"
      }
    },
    {
      "cell_type": "code",
      "source": [
        "# Run this cell to show the source code of the script.\n",
        "\n",
        "!cat ai2023_s13_02_01.py"
      ],
      "metadata": {
        "id": "KPY5xmFLZ1Rp"
      },
      "execution_count": null,
      "outputs": []
    },
    {
      "cell_type": "code",
      "source": [
        "# Run this cell to execute the script.\n",
        "\n",
        "!python3.10 ai2023_s13_02_01.py -h"
      ],
      "metadata": {
        "id": "hipGJvqnZ1Ry"
      },
      "execution_count": null,
      "outputs": []
    },
    {
      "cell_type": "code",
      "source": [
        "# Run this cell to execute the script.\n",
        "\n",
        "!python3.10 ai2023_s13_02_01.py -i synthetic_star_gal.fits -o synthetic_star_gal_deblend.png"
      ],
      "metadata": {
        "id": "RnrGzF0dZ1R0"
      },
      "execution_count": null,
      "outputs": []
    },
    {
      "cell_type": "code",
      "source": [
        "# Run this cell to display PNG image.\n",
        "\n",
        "# importing IPython.display module\n",
        "import IPython.display\n",
        "\n",
        "# displaying PNG file\n",
        "IPython.display.Image ('synthetic_star_gal_deblend.png')"
      ],
      "metadata": {
        "id": "y1D57GnMZ1R1"
      },
      "execution_count": null,
      "outputs": []
    },
    {
      "cell_type": "markdown",
      "source": [
        "## Making a source catalogue"
      ],
      "metadata": {
        "id": "Ab0g2flCaJ6N"
      }
    },
    {
      "cell_type": "code",
      "source": [
        "# Run this cell to show the source code of the script.\n",
        "\n",
        "!cat ai2023_s13_02_02.py"
      ],
      "metadata": {
        "id": "3mmvwmTVaPZZ"
      },
      "execution_count": null,
      "outputs": []
    },
    {
      "cell_type": "code",
      "source": [
        "# Run this cell to execute the script.\n",
        "\n",
        "!python3.10 ai2023_s13_02_02.py -h"
      ],
      "metadata": {
        "id": "abqukle6aPZc"
      },
      "execution_count": null,
      "outputs": []
    },
    {
      "cell_type": "code",
      "source": [
        "# Run this cell to execute the script.\n",
        "\n",
        "!python3.10 ai2023_s13_02_02.py -i synthetic_star_gal.fits -o synthetic_star_gal.cat"
      ],
      "metadata": {
        "id": "7QqupKpFaPZd"
      },
      "execution_count": null,
      "outputs": []
    },
    {
      "cell_type": "markdown",
      "source": [
        "## Reading a source catalogue file"
      ],
      "metadata": {
        "id": "NNjclQXYaYgJ"
      }
    },
    {
      "cell_type": "code",
      "source": [
        "# Run this cell to show the source code of the script.\n",
        "\n",
        "!cat ai2023_s13_02_03.py"
      ],
      "metadata": {
        "id": "v-85Tf6IabdR"
      },
      "execution_count": null,
      "outputs": []
    },
    {
      "cell_type": "code",
      "source": [
        "# Run this cell to execute the script.\n",
        "\n",
        "!python3.10 ai2023_s13_02_03.py -h"
      ],
      "metadata": {
        "id": "dmd_2Aq5abdU"
      },
      "execution_count": null,
      "outputs": []
    },
    {
      "cell_type": "code",
      "source": [
        "# Run this cell to execute the script.\n",
        "\n",
        "!python3.10 ai2023_s13_02_03.py -i synthetic_star_gal.cat"
      ],
      "metadata": {
        "id": "7d--6J6-abdV"
      },
      "execution_count": null,
      "outputs": []
    },
    {
      "cell_type": "markdown",
      "source": [
        "## Checking locations of detected sources"
      ],
      "metadata": {
        "id": "-zFcq7MEakp0"
      }
    },
    {
      "cell_type": "code",
      "source": [
        "# Run this cell to show the source code of the script.\n",
        "\n",
        "!cat ai2023_s13_02_04.py"
      ],
      "metadata": {
        "id": "2yeu5UIZaq8Z"
      },
      "execution_count": null,
      "outputs": []
    },
    {
      "cell_type": "code",
      "source": [
        "# Run this cell to execute the script.\n",
        "\n",
        "!python3.10 ai2023_s13_02_04.py -h"
      ],
      "metadata": {
        "id": "yRiZQhQPaq8b"
      },
      "execution_count": null,
      "outputs": []
    },
    {
      "cell_type": "code",
      "source": [
        "# Run this cell to execute the script.\n",
        "\n",
        "!python3.10 ai2023_s13_02_04.py -i synthetic_star_gal.fits -c synthetic_star_gal.cat -o synthetic_star_gal_sources.png -r 30"
      ],
      "metadata": {
        "id": "I6dSFjd0aq8b"
      },
      "execution_count": null,
      "outputs": []
    },
    {
      "cell_type": "code",
      "source": [
        "# Run this cell to display PNG image.\n",
        "\n",
        "# importing IPython.display module\n",
        "import IPython.display\n",
        "\n",
        "# displaying PNG file\n",
        "IPython.display.Image ('synthetic_star_gal_sources.png')"
      ],
      "metadata": {
        "id": "POMYgTc5a3Wy"
      },
      "execution_count": null,
      "outputs": []
    },
    {
      "cell_type": "markdown",
      "source": [
        "# Source extraction for a real data"
      ],
      "metadata": {
        "id": "FzYhB5QybIo3"
      }
    },
    {
      "cell_type": "markdown",
      "source": [
        "## Downloading SDSS image of PG1047+003 field"
      ],
      "metadata": {
        "id": "W2aFTzWnbMC1"
      }
    },
    {
      "cell_type": "code",
      "source": [
        "# Run this cell to show the source code of the script.\n",
        "\n",
        "!cat ai2023_s13_03_00.py"
      ],
      "metadata": {
        "id": "Lapsulk_bTqK"
      },
      "execution_count": null,
      "outputs": []
    },
    {
      "cell_type": "code",
      "source": [
        "# Run this cell to execute the script.\n",
        "\n",
        "!python3.10 ai2023_s13_03_00.py -h"
      ],
      "metadata": {
        "id": "l8kU8yfLbTqU"
      },
      "execution_count": null,
      "outputs": []
    },
    {
      "cell_type": "code",
      "source": [
        "# Run this cell to execute the script.\n",
        "\n",
        "!python3.10 ai2023_s13_03_00.py -s SDSSi -t PG1047+003 -f 2048 -o pg1047_sdss_i.fits"
      ],
      "metadata": {
        "id": "_4kbArAMbTqV"
      },
      "execution_count": null,
      "outputs": []
    },
    {
      "cell_type": "code",
      "source": [
        "# Run this cell to execute the script.\n",
        "\n",
        "!python3.10 ai2023_s13_00_02.py -i pg1047_sdss_i.fits -o pg1047_sdss_i.png -t \"PG1047+003 (SDSS i)\""
      ],
      "metadata": {
        "id": "kYrbq0j8bs0t"
      },
      "execution_count": null,
      "outputs": []
    },
    {
      "cell_type": "code",
      "source": [
        "# Run this cell to display PNG image.\n",
        "\n",
        "# importing IPython.display module\n",
        "import IPython.display\n",
        "\n",
        "# displaying PNG file\n",
        "IPython.display.Image ('pg1047_sdss_i.png')"
      ],
      "metadata": {
        "id": "X8uVq8J1bs0y"
      },
      "execution_count": null,
      "outputs": []
    },
    {
      "cell_type": "markdown",
      "source": [
        "## Source extraction for SDSS image of PG1047+003 field"
      ],
      "metadata": {
        "id": "cQFHgAkYb-BS"
      }
    },
    {
      "cell_type": "code",
      "source": [
        "# Run this cell to execute the script.\n",
        "\n",
        "!python3.10 ai2023_s13_02_02.py -i pg1047_sdss_i.fits -o pg1047_sdss_i.cat"
      ],
      "metadata": {
        "id": "-3yVYsrMcGc_"
      },
      "execution_count": null,
      "outputs": []
    },
    {
      "cell_type": "code",
      "source": [
        "# Run this cell to execute the script.\n",
        "\n",
        "!python3.10 ai2023_s13_02_04.py -i pg1047_sdss_i.fits -c pg1047_sdss_i.cat -o pg1047_sdss_i_sources.png -r 30"
      ],
      "metadata": {
        "id": "IFsgQwpmcQW5"
      },
      "execution_count": null,
      "outputs": []
    },
    {
      "cell_type": "code",
      "source": [
        "# Run this cell to display PNG image.\n",
        "\n",
        "# importing IPython.display module\n",
        "import IPython.display\n",
        "\n",
        "# displaying PNG file\n",
        "IPython.display.Image ('pg1047_sdss_i_sources.png')"
      ],
      "metadata": {
        "id": "S1UayWwUcQW9"
      },
      "execution_count": null,
      "outputs": []
    },
    {
      "cell_type": "markdown",
      "source": [
        "## Downloading SDSS image of PG1528+062 field"
      ],
      "metadata": {
        "id": "dQdnpi3XclBi"
      }
    },
    {
      "cell_type": "code",
      "source": [
        "# Run this cell to execute the script.\n",
        "\n",
        "!python3.10 ai2023_s13_03_00.py -s SDSSi -t PG1528+062 -f 2048 -o pg1528_sdss_i.fits"
      ],
      "metadata": {
        "id": "b6Yw9nxdclB1"
      },
      "execution_count": null,
      "outputs": []
    },
    {
      "cell_type": "code",
      "source": [
        "# Run this cell to execute the script.\n",
        "\n",
        "!python3.10 ai2023_s13_00_02.py -i pg1528_sdss_i.fits -o pg1528_sdss_i.png -t \"PG1528+062 (SDSS i)\""
      ],
      "metadata": {
        "id": "YmCNpQReclB4"
      },
      "execution_count": null,
      "outputs": []
    },
    {
      "cell_type": "code",
      "source": [
        "# Run this cell to display PNG image.\n",
        "\n",
        "# importing IPython.display module\n",
        "import IPython.display\n",
        "\n",
        "# displaying PNG file\n",
        "IPython.display.Image ('pg1528_sdss_i.png')"
      ],
      "metadata": {
        "id": "rh-B97ezclB8"
      },
      "execution_count": null,
      "outputs": []
    },
    {
      "cell_type": "markdown",
      "source": [
        "## Source extraction for SDSS image of PG1528+062 field"
      ],
      "metadata": {
        "id": "I-jMoS_LclB-"
      }
    },
    {
      "cell_type": "code",
      "source": [
        "# Run this cell to execute the script.\n",
        "\n",
        "!python3.10 ai2023_s13_02_02.py -i pg1528_sdss_i.fits -o pg1528_sdss_i.cat"
      ],
      "metadata": {
        "id": "_Q1bxJ_VclB_"
      },
      "execution_count": null,
      "outputs": []
    },
    {
      "cell_type": "code",
      "source": [
        "# Run this cell to execute the script.\n",
        "\n",
        "!python3.10 ai2023_s13_02_04.py -i pg1528_sdss_i.fits -c pg1528_sdss_i.cat -o pg1528_sdss_i_sources.png -r 30"
      ],
      "metadata": {
        "id": "fYrfi4rBclCA"
      },
      "execution_count": null,
      "outputs": []
    },
    {
      "cell_type": "code",
      "source": [
        "# Run this cell to display PNG image.\n",
        "\n",
        "# importing IPython.display module\n",
        "import IPython.display\n",
        "\n",
        "# displaying PNG file\n",
        "IPython.display.Image ('pg1528_sdss_i_sources.png')"
      ],
      "metadata": {
        "id": "uqEt_xOcclCB"
      },
      "execution_count": null,
      "outputs": []
    },
    {
      "cell_type": "markdown",
      "source": [
        "# Generating a set of synthetic images for image alignment"
      ],
      "metadata": {
        "id": "SaSxflj6fGBO"
      }
    },
    {
      "cell_type": "markdown",
      "source": [
        "## Generating (x, y) positions of artificial stars"
      ],
      "metadata": {
        "id": "SHg009gtfLCu"
      }
    },
    {
      "cell_type": "code",
      "source": [
        "# Run this cell to show the source code of the script.\n",
        "\n",
        "!cat ai2023_s13_04_00.py"
      ],
      "metadata": {
        "id": "TRchmTJ_fUXC"
      },
      "execution_count": null,
      "outputs": []
    },
    {
      "cell_type": "code",
      "source": [
        "# Run this cell to execute the script.\n",
        "\n",
        "!python3.10 ai2023_s13_04_00.py -h"
      ],
      "metadata": {
        "id": "AKnGggH2fUXD"
      },
      "execution_count": null,
      "outputs": []
    },
    {
      "cell_type": "code",
      "source": [
        "# Run this cell to execute the script.\n",
        "\n",
        "!python3.10 ai2023_s13_04_00.py -n 50 -x 2048 -y 2048 -o stars_0.list"
      ],
      "metadata": {
        "id": "-IoBWjcqfUXE"
      },
      "execution_count": null,
      "outputs": []
    },
    {
      "cell_type": "markdown",
      "source": [
        "## Rotation and translation of locations of artificial stars"
      ],
      "metadata": {
        "id": "ojNKn7B3fd4A"
      }
    },
    {
      "cell_type": "code",
      "source": [
        "# Run this cell to show the source code of the script.\n",
        "\n",
        "!cat ai2023_s13_04_01.py"
      ],
      "metadata": {
        "id": "9lVvIENMfvD1"
      },
      "execution_count": null,
      "outputs": []
    },
    {
      "cell_type": "code",
      "source": [
        "# Run this cell to execute the script.\n",
        "\n",
        "!python3.10 ai2023_s13_04_01.py -h"
      ],
      "metadata": {
        "id": "R9n10mpRfvD8"
      },
      "execution_count": null,
      "outputs": []
    },
    {
      "cell_type": "code",
      "source": [
        "# Run this cell to execute the script.\n",
        "\n",
        "!python3.10 ai2023_s13_04_01.py -i stars_0.list -o stars_1.list -c 800 -d 1200 -r 20 -s 100 -t 200"
      ],
      "metadata": {
        "id": "Q6sCn8p4fvD9"
      },
      "execution_count": null,
      "outputs": []
    },
    {
      "cell_type": "markdown",
      "source": [
        "## Making synthetic images"
      ],
      "metadata": {
        "id": "0zSF9ObYf6EX"
      }
    },
    {
      "cell_type": "code",
      "source": [
        "# Run this cell to show the source code of the script.\n",
        "\n",
        "!cat ai2023_s13_04_02.py"
      ],
      "metadata": {
        "id": "rZgnFX6Vf9ET"
      },
      "execution_count": null,
      "outputs": []
    },
    {
      "cell_type": "code",
      "source": [
        "# Run this cell to execute the script.\n",
        "\n",
        "!python3.10 ai2023_s13_04_02.py -h"
      ],
      "metadata": {
        "id": "WObyso5df9EX"
      },
      "execution_count": null,
      "outputs": []
    },
    {
      "cell_type": "code",
      "source": [
        "# Run this cell to execute the script.\n",
        "\n",
        "!python3.10 ai2023_s13_04_02.py -i stars_0.list -o stars_0.fits -f 3.5 -s 4000 -e 70"
      ],
      "metadata": {
        "id": "Tv4iv3_Ef9EY"
      },
      "execution_count": null,
      "outputs": []
    },
    {
      "cell_type": "code",
      "source": [
        "# Run this cell to execute the script.\n",
        "\n",
        "!python3.10 ai2023_s13_04_02.py -i stars_1.list -o stars_1.fits -f 4.5 -s 3000 -e 60"
      ],
      "metadata": {
        "id": "zRx-ovvtgIYh"
      },
      "execution_count": null,
      "outputs": []
    },
    {
      "cell_type": "markdown",
      "source": [
        "## Visualising two FITS files"
      ],
      "metadata": {
        "id": "tT4YZdlAhG0t"
      }
    },
    {
      "cell_type": "code",
      "source": [
        "# Run this cell to show the source code of the script.\n",
        "\n",
        "!cat ai2023_s13_04_03.py"
      ],
      "metadata": {
        "id": "zP4f4brchKKB"
      },
      "execution_count": null,
      "outputs": []
    },
    {
      "cell_type": "code",
      "source": [
        "# Run this cell to execute the script.\n",
        "\n",
        "!python3.10 ai2023_s13_04_03.py -h"
      ],
      "metadata": {
        "id": "5Tonb8k-hKKF"
      },
      "execution_count": null,
      "outputs": []
    },
    {
      "cell_type": "code",
      "source": [
        "# Run this cell to execute the script.\n",
        "\n",
        "!python3.10 ai2023_s13_04_03.py -t \"First image\" -u \"Second image\" -o stars_0_1.png stars_0.fits stars_1.fits"
      ],
      "metadata": {
        "id": "DtX-WAxxhKKH"
      },
      "execution_count": null,
      "outputs": []
    },
    {
      "cell_type": "code",
      "source": [
        "# Run this cell to display PNG image.\n",
        "\n",
        "# importing IPython.display module\n",
        "import IPython.display\n",
        "\n",
        "# displaying PNG file\n",
        "IPython.display.Image ('stars_0_1.png')"
      ],
      "metadata": {
        "id": "ExtWhP30hZTx"
      },
      "execution_count": null,
      "outputs": []
    },
    {
      "cell_type": "markdown",
      "source": [
        "# Alignment of two astronomical images"
      ],
      "metadata": {
        "id": "A_D_Flafhh1s"
      }
    },
    {
      "cell_type": "markdown",
      "source": [
        "## Source extraction"
      ],
      "metadata": {
        "id": "3GKl0YV9hkyr"
      }
    },
    {
      "cell_type": "code",
      "source": [
        "# Run this cell to execute the script.\n",
        "\n",
        "!python3.10 ai2023_s13_02_02.py -i stars_0.fits -o stars_0.cat"
      ],
      "metadata": {
        "id": "pqj4UBKbht0-"
      },
      "execution_count": null,
      "outputs": []
    },
    {
      "cell_type": "code",
      "source": [
        "# Run this cell to execute the script.\n",
        "\n",
        "!python3.10 ai2023_s13_02_02.py -i stars_1.fits -o stars_1.cat"
      ],
      "metadata": {
        "id": "h7Wkx5Enhzez"
      },
      "execution_count": null,
      "outputs": []
    },
    {
      "cell_type": "code",
      "source": [
        "# Run this cell to execute the script.\n",
        "\n",
        "!python3.10 ai2023_s13_02_04.py -i stars_0.fits -c stars_0.cat -o stars_0_sources.png -r 30"
      ],
      "metadata": {
        "id": "jbRJqJ6Wh7BQ"
      },
      "execution_count": null,
      "outputs": []
    },
    {
      "cell_type": "code",
      "source": [
        "# Run this cell to execute the script.\n",
        "\n",
        "!python3.10 ai2023_s13_02_04.py -i stars_1.fits -c stars_1.cat -o stars_1_sources.png -r 30"
      ],
      "metadata": {
        "id": "UfhFEaqHiCXK"
      },
      "execution_count": null,
      "outputs": []
    },
    {
      "cell_type": "code",
      "source": [
        "# Run this cell to display PNG image.\n",
        "\n",
        "# importing IPython.display module\n",
        "import IPython.display\n",
        "\n",
        "# displaying PNG file\n",
        "IPython.display.Image ('stars_0_sources.png')"
      ],
      "metadata": {
        "id": "h8H-V92EiHp0"
      },
      "execution_count": null,
      "outputs": []
    },
    {
      "cell_type": "code",
      "source": [
        "# Run this cell to display PNG image.\n",
        "\n",
        "# importing IPython.display module\n",
        "import IPython.display\n",
        "\n",
        "# displaying PNG file\n",
        "IPython.display.Image ('stars_1_sources.png')"
      ],
      "metadata": {
        "id": "G3waPUmXiKa7"
      },
      "execution_count": null,
      "outputs": []
    },
    {
      "cell_type": "markdown",
      "source": [
        "## Finding star-to-star correspondence"
      ],
      "metadata": {
        "id": "5-U6d6yviP9h"
      }
    },
    {
      "cell_type": "code",
      "source": [
        "# Run this cell to show the source code of the script.\n",
        "\n",
        "!cat ai2023_s13_04_04.py"
      ],
      "metadata": {
        "id": "cAkl-YQ1ibty"
      },
      "execution_count": null,
      "outputs": []
    },
    {
      "cell_type": "code",
      "source": [
        "# Run this cell to execute the script.\n",
        "\n",
        "!python3.10 ai2023_s13_04_04.py -h"
      ],
      "metadata": {
        "id": "t4IabgKIibt2"
      },
      "execution_count": null,
      "outputs": []
    },
    {
      "cell_type": "code",
      "source": [
        "# Run this cell to execute the script.\n",
        "\n",
        "!python3.10 ai2023_s13_04_04.py stars_0.cat stars_1.cat"
      ],
      "metadata": {
        "id": "D4tBNZVIibt3"
      },
      "execution_count": null,
      "outputs": []
    },
    {
      "cell_type": "markdown",
      "source": [
        "## Checking results of star-to-star correspondence"
      ],
      "metadata": {
        "id": "uSLw-bsjio7U"
      }
    },
    {
      "cell_type": "code",
      "source": [
        "# Run this cell to show the source code of the script.\n",
        "\n",
        "!cat ai2023_s13_04_05.py"
      ],
      "metadata": {
        "id": "DptgXou-ivn6"
      },
      "execution_count": null,
      "outputs": []
    },
    {
      "cell_type": "code",
      "source": [
        "# Run this cell to execute the script.\n",
        "\n",
        "!python3.10 ai2023_s13_04_05.py -h"
      ],
      "metadata": {
        "id": "IIJQjPffivn-"
      },
      "execution_count": null,
      "outputs": []
    },
    {
      "cell_type": "code",
      "source": [
        "# Run this cell to execute the script.\n",
        "\n",
        "!python3.10 ai2023_s13_04_05.py -o stars_0_1_match.png stars_0.cat stars_1.cat stars_0.fits stars_1.fits"
      ],
      "metadata": {
        "id": "mETpAlIWivn_"
      },
      "execution_count": null,
      "outputs": []
    },
    {
      "cell_type": "code",
      "source": [
        "# Run this cell to display PNG image.\n",
        "\n",
        "# importing IPython.display module\n",
        "import IPython.display\n",
        "\n",
        "# displaying PNG file\n",
        "IPython.display.Image ('stars_0_1_match.png')"
      ],
      "metadata": {
        "id": "FLfNY3mni7h7"
      },
      "execution_count": null,
      "outputs": []
    },
    {
      "cell_type": "markdown",
      "source": [
        "## Aligning images"
      ],
      "metadata": {
        "id": "3gmmfeP8jA6n"
      }
    },
    {
      "cell_type": "code",
      "source": [
        "# Run this cell to show the source code of the script.\n",
        "\n",
        "!cat ai2023_s13_04_06.py"
      ],
      "metadata": {
        "id": "AvOyXBHQjFea"
      },
      "execution_count": null,
      "outputs": []
    },
    {
      "cell_type": "code",
      "source": [
        "# Run this cell to execute the script.\n",
        "\n",
        "!python3.10 ai2023_s13_04_06.py -h"
      ],
      "metadata": {
        "id": "MsK4_1pnjFed"
      },
      "execution_count": null,
      "outputs": []
    },
    {
      "cell_type": "code",
      "source": [
        "# Run this cell to execute the script.\n",
        "\n",
        "!python3.10 ai2023_s13_04_06.py -o stars_0_1_align.png stars_0.cat stars_1.cat stars_0.fits stars_1.fits"
      ],
      "metadata": {
        "id": "oZacD_99jFee"
      },
      "execution_count": null,
      "outputs": []
    },
    {
      "cell_type": "code",
      "source": [
        "# Run this cell to display PNG image.\n",
        "\n",
        "# importing IPython.display module\n",
        "import IPython.display\n",
        "\n",
        "# displaying PNG file\n",
        "IPython.display.Image ('stars_0_1_align.png')"
      ],
      "metadata": {
        "id": "18qK0HcojRTQ"
      },
      "execution_count": null,
      "outputs": []
    },
    {
      "cell_type": "markdown",
      "source": [
        "## Aligning images and creating a new FITS file"
      ],
      "metadata": {
        "id": "pFNdlDL9jYV-"
      }
    },
    {
      "cell_type": "code",
      "source": [
        "# Run this cell to show the source code of the script.\n",
        "\n",
        "!cat ai2023_s13_04_07.py"
      ],
      "metadata": {
        "id": "X8iz3r6fjgZK"
      },
      "execution_count": null,
      "outputs": []
    },
    {
      "cell_type": "code",
      "source": [
        "# Run this cell to execute the script.\n",
        "\n",
        "!python3.10 ai2023_s13_04_07.py -h"
      ],
      "metadata": {
        "id": "XOD83Ek9jgZM"
      },
      "execution_count": null,
      "outputs": []
    },
    {
      "cell_type": "code",
      "source": [
        "# Run this cell to execute the script.\n",
        "\n",
        "!python3.10 ai2023_s13_04_07.py -o stars_1_aligned.fits stars_0.cat stars_1.cat stars_0.fits stars_1.fits"
      ],
      "metadata": {
        "id": "Y-KgrW7FjgZP"
      },
      "execution_count": null,
      "outputs": []
    },
    {
      "cell_type": "code",
      "source": [
        "# Run this cell to execute the script.\n",
        "\n",
        "!python3.10 ai2023_s13_04_03.py -t \"First image\" -u \"Aligned second image\" -o stars_0_1_align2.png -c viridis stars_0.fits stars_1_aligned.fits"
      ],
      "metadata": {
        "id": "C0r4_byaj-jR"
      },
      "execution_count": null,
      "outputs": []
    },
    {
      "cell_type": "code",
      "source": [
        "# Run this cell to display PNG image.\n",
        "\n",
        "# importing IPython.display module\n",
        "import IPython.display\n",
        "\n",
        "# displaying PNG file\n",
        "IPython.display.Image ('stars_0_1_align2.png')"
      ],
      "metadata": {
        "id": "lQ4m0nc2j-jT"
      },
      "execution_count": null,
      "outputs": []
    },
    {
      "cell_type": "markdown",
      "source": [
        "# Image alignment of real astronomical images"
      ],
      "metadata": {
        "id": "chyiXqQ_kZ35"
      }
    },
    {
      "cell_type": "markdown",
      "source": [
        "## Downloading SDSS r'-band image"
      ],
      "metadata": {
        "id": "nFEvUtvXkc_-"
      }
    },
    {
      "cell_type": "code",
      "source": [
        "# Run this cell to execute the script.\n",
        "\n",
        "!python3.10 ai2023_s13_03_00.py -s SDSSr -t PG0231+051 -f 2048 -o pg0231_sdss_r.fits"
      ],
      "metadata": {
        "id": "DiXffy0Wkhos"
      },
      "execution_count": null,
      "outputs": []
    },
    {
      "cell_type": "markdown",
      "source": [
        "## Downloading SDSS i'-band image"
      ],
      "metadata": {
        "id": "QDwS4gsplwwh"
      }
    },
    {
      "cell_type": "code",
      "source": [
        "# Run this cell to show the source code of the script.\n",
        "\n",
        "!cat ai2023_s13_05_00.py"
      ],
      "metadata": {
        "id": "vo5o4r7GmBK2"
      },
      "execution_count": null,
      "outputs": []
    },
    {
      "cell_type": "code",
      "source": [
        "# Run this cell to execute the script.\n",
        "\n",
        "!python3.10 ai2023_s13_05_00.py -h"
      ],
      "metadata": {
        "id": "3iZl4pKxmBK7"
      },
      "execution_count": null,
      "outputs": []
    },
    {
      "cell_type": "code",
      "source": [
        "# Run this cell to execute the script.\n",
        "\n",
        "!python3.10 ai2023_s13_05_00.py -s SDSSi -t PG0231+051 -f 2048 -o pg0231_sdss_i.fits -x 2 -y 3"
      ],
      "metadata": {
        "id": "CoHtaA9wl0DM"
      },
      "execution_count": null,
      "outputs": []
    },
    {
      "cell_type": "code",
      "source": [
        "# Run this cell to execute the script.\n",
        "\n",
        "!python3.10 ai2023_s13_04_03.py -t \"SDSS r\" -u \"SDSS i\" -o pg0231_sdss_r_i.png pg0231_sdss_r.fits pg0231_sdss_i.fits"
      ],
      "metadata": {
        "id": "h2kTsDnjmLcK"
      },
      "execution_count": null,
      "outputs": []
    },
    {
      "cell_type": "code",
      "source": [
        "# Run this cell to display PNG image.\n",
        "\n",
        "# importing IPython.display module\n",
        "import IPython.display\n",
        "\n",
        "# displaying PNG file\n",
        "IPython.display.Image ('pg0231_sdss_r_i.png')"
      ],
      "metadata": {
        "id": "72KPhuFPmLcM"
      },
      "execution_count": null,
      "outputs": []
    },
    {
      "cell_type": "markdown",
      "source": [
        "## Source extraction"
      ],
      "metadata": {
        "id": "Z-8Wk8hGoh6f"
      }
    },
    {
      "cell_type": "code",
      "source": [
        "# Run this cell to execute the script.\n",
        "\n",
        "!python3.10 ai2023_s13_02_02.py -i pg0231_sdss_r.fits -o pg0231_sdss_r.cat -t 3"
      ],
      "metadata": {
        "id": "pDbWp3Xzoq5J"
      },
      "execution_count": null,
      "outputs": []
    },
    {
      "cell_type": "code",
      "source": [
        "# Run this cell to execute the script.\n",
        "\n",
        "!python3.10 ai2023_s13_02_02.py -i pg0231_sdss_i.fits -o pg0231_sdss_i.cat -t 3"
      ],
      "metadata": {
        "id": "3zjUSGOIoq5M"
      },
      "execution_count": null,
      "outputs": []
    },
    {
      "cell_type": "code",
      "source": [
        "# Run this cell to execute the script.\n",
        "\n",
        "!python3.10 ai2023_s13_02_04.py -i pg0231_sdss_r.fits -c pg0231_sdss_r.cat -o pg0231_sdss_r_sources.png -r 30"
      ],
      "metadata": {
        "id": "TczkU6bmoq5N"
      },
      "execution_count": null,
      "outputs": []
    },
    {
      "cell_type": "code",
      "source": [
        "# Run this cell to execute the script.\n",
        "\n",
        "!python3.10 ai2023_s13_02_04.py -i pg0231_sdss_i.fits -c pg0231_sdss_i.cat -o pg0231_sdss_i_sources.png -r 30"
      ],
      "metadata": {
        "id": "_DyapS9uoq5N"
      },
      "execution_count": null,
      "outputs": []
    },
    {
      "cell_type": "code",
      "source": [
        "# Run this cell to display PNG image.\n",
        "\n",
        "# importing IPython.display module\n",
        "import IPython.display\n",
        "\n",
        "# displaying PNG file\n",
        "IPython.display.Image ('pg0231_sdss_r_sources.png')"
      ],
      "metadata": {
        "id": "khlSCqmToq5O"
      },
      "execution_count": null,
      "outputs": []
    },
    {
      "cell_type": "code",
      "source": [
        "# Run this cell to display PNG image.\n",
        "\n",
        "# importing IPython.display module\n",
        "import IPython.display\n",
        "\n",
        "# displaying PNG file\n",
        "IPython.display.Image ('pg0231_sdss_i_sources.png')"
      ],
      "metadata": {
        "id": "TCiLOTJBoq5O"
      },
      "execution_count": null,
      "outputs": []
    },
    {
      "cell_type": "markdown",
      "source": [
        "## Finding star-to-star correspondence"
      ],
      "metadata": {
        "id": "EN-xpEShpErH"
      }
    },
    {
      "cell_type": "code",
      "source": [
        "# Run this cell to show the source code of the script.\n",
        "\n",
        "!cat ai2023_s13_05_01.py"
      ],
      "metadata": {
        "id": "r_ZoIYPrpLnk"
      },
      "execution_count": null,
      "outputs": []
    },
    {
      "cell_type": "code",
      "source": [
        "# Run this cell to execute the script.\n",
        "\n",
        "!python3.10 ai2023_s13_05_01.py -h"
      ],
      "metadata": {
        "id": "i8lbbKjzpLnq"
      },
      "execution_count": null,
      "outputs": []
    },
    {
      "cell_type": "code",
      "source": [
        "# Run this cell to execute the script.\n",
        "\n",
        "!python3.10 ai2023_s13_05_01.py -n 300 pg0231_sdss_r.cat pg0231_sdss_i.cat"
      ],
      "metadata": {
        "id": "Wmz5uzv_pLnq"
      },
      "execution_count": null,
      "outputs": []
    },
    {
      "cell_type": "markdown",
      "source": [
        "## Checking results of star-to-star correspondence"
      ],
      "metadata": {
        "id": "MiyNOrfhpVIg"
      }
    },
    {
      "cell_type": "code",
      "source": [
        "# Run this cell to show the source code of the script.\n",
        "\n",
        "!cat ai2023_s13_05_02.py"
      ],
      "metadata": {
        "id": "kQzF7LL6pY_i"
      },
      "execution_count": null,
      "outputs": []
    },
    {
      "cell_type": "code",
      "source": [
        "# Run this cell to execute the script.\n",
        "\n",
        "!python3.10 ai2023_s13_05_02.py -h"
      ],
      "metadata": {
        "id": "FraAcO6CpY_k"
      },
      "execution_count": null,
      "outputs": []
    },
    {
      "cell_type": "code",
      "source": [
        "# Run this cell to execute the script.\n",
        "\n",
        "!python3.10 ai2023_s13_05_02.py -n 300 -o pg0231_sdss_r_i_match.png pg0231_sdss_r.cat pg0231_sdss_i.cat pg0231_sdss_r.fits pg0231_sdss_i.fits"
      ],
      "metadata": {
        "id": "lwfcUvUIpY_l"
      },
      "execution_count": null,
      "outputs": []
    },
    {
      "cell_type": "code",
      "source": [
        "# Run this cell to display PNG image.\n",
        "\n",
        "# importing IPython.display module\n",
        "import IPython.display\n",
        "\n",
        "# displaying PNG file\n",
        "IPython.display.Image ('pg0231_sdss_r_i_match.png')"
      ],
      "metadata": {
        "id": "FdoVNvvXpofD"
      },
      "execution_count": null,
      "outputs": []
    },
    {
      "cell_type": "markdown",
      "source": [
        "# End of this notebook"
      ],
      "metadata": {
        "id": "nhssTIlSpszK"
      }
    },
    {
      "cell_type": "code",
      "source": [],
      "metadata": {
        "id": "To18_8l_pt-S"
      },
      "execution_count": null,
      "outputs": []
    }
  ]
}