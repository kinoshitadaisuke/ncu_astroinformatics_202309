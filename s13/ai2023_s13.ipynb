{
  "nbformat": 4,
  "nbformat_minor": 0,
  "metadata": {
    "colab": {
      "provenance": []
    },
    "kernelspec": {
      "name": "python3",
      "display_name": "Python 3"
    },
    "language_info": {
      "name": "python"
    }
  },
  "cells": [
    {
      "cell_type": "markdown",
      "metadata": {
        "id": "X9F8FTGZzaSe"
      },
      "source": [
        "# AS6095 \"Astroinformatics\"\n",
        "\n",
        "## for academic year 2023 (from Sep/2023 to Jan/2024)\n",
        "\n",
        "## instructor: Kinoshita Daisuke\n",
        "\n",
        "## Course web page: https://s3b.astro.ncu.edu.tw/ai_202309/\n",
        "\n",
        "## GitHub repository: https://github.com/kinoshitadaisuke/ncu_astroinformatics_202309\n"
      ]
    },
    {
      "cell_type": "markdown",
      "metadata": {
        "id": "MKQ0pdfJCZ1I"
      },
      "source": [
        "# Session 13 \"Source extraction and image alignment of astronomical images\"\n",
        "\n",
        "## 11 December 2023\n"
      ]
    },
    {
      "cell_type": "markdown",
      "metadata": {
        "id": "FVmonUCL197r"
      },
      "source": [
        "# Downloading a set of sample Python scripts and changing directory"
      ]
    },
    {
      "cell_type": "code",
      "execution_count": null,
      "metadata": {
        "id": "E-J1KLJAzmx5"
      },
      "outputs": [],
      "source": [
        "# Run this cell to download a set of sample Python scripts for this course.\n",
        "\n",
        "!git clone https://github.com/kinoshitadaisuke/ncu_astroinformatics_202309.git"
      ]
    },
    {
      "cell_type": "code",
      "execution_count": null,
      "metadata": {
        "id": "NU4Otc0i2jfu"
      },
      "outputs": [],
      "source": [
        "# Run this cell to check whether you have a directory named \"ncu_astroinformatics_202309\".\n",
        "\n",
        "!ls"
      ]
    },
    {
      "cell_type": "code",
      "execution_count": null,
      "metadata": {
        "id": "faZRhZv821VY"
      },
      "outputs": [],
      "source": [
        "# Run this cell to move to the directory \"ncu_astroinformatics_202309\".\n",
        "\n",
        "%cd ncu_astroinformatics_202309"
      ]
    },
    {
      "cell_type": "code",
      "execution_count": null,
      "metadata": {
        "id": "hUjHlUZk3Bov"
      },
      "outputs": [],
      "source": [
        "# Run this cell to show currently working directory.\n",
        "\n",
        "!pwd"
      ]
    },
    {
      "cell_type": "code",
      "execution_count": null,
      "metadata": {
        "id": "RXAGJHeX3IsD"
      },
      "outputs": [],
      "source": [
        "# Run this cell to show files and directories.\n",
        "\n",
        "!ls -lF"
      ]
    },
    {
      "cell_type": "code",
      "execution_count": null,
      "metadata": {
        "id": "xR0V8I0k3O3k"
      },
      "outputs": [],
      "source": [
        "# Run this cell to move to the directory \"s13\".\n",
        "\n",
        "%cd s13"
      ]
    },
    {
      "cell_type": "code",
      "execution_count": null,
      "metadata": {
        "id": "KbvQ_3Su3UKL"
      },
      "outputs": [],
      "source": [
        "# Run this cell to show currently working directory.\n",
        "\n",
        "!pwd"
      ]
    },
    {
      "cell_type": "code",
      "execution_count": null,
      "metadata": {
        "id": "n9AAgI4d3c6n"
      },
      "outputs": [],
      "source": [
        "# Run this cell to show files and directories.\n",
        "\n",
        "!ls -lF"
      ]
    },
    {
      "cell_type": "markdown",
      "source": [
        "# Installation of Astropy"
      ],
      "metadata": {
        "id": "jVlw3LHHcBFa"
      }
    },
    {
      "cell_type": "code",
      "source": [
        "# Install Astropy if you do not have it.\n",
        "\n",
        "!pip install astropy"
      ],
      "metadata": {
        "id": "tsoYTACbb4dj"
      },
      "execution_count": null,
      "outputs": []
    },
    {
      "cell_type": "markdown",
      "source": [
        "# Installation of Photutils"
      ],
      "metadata": {
        "id": "EwGINwLetEg-"
      }
    },
    {
      "cell_type": "code",
      "source": [
        "# Install Photutils if you do not have it.\n",
        "\n",
        "!pip install photutils"
      ],
      "metadata": {
        "id": "LsCMPd7GtH6m"
      },
      "execution_count": null,
      "outputs": []
    },
    {
      "cell_type": "markdown",
      "source": [
        "# Installation of Astroalign"
      ],
      "metadata": {
        "id": "FpYWF6lkzY1B"
      }
    },
    {
      "cell_type": "code",
      "source": [
        "# Install Astroalign if you do not have it.\n",
        "\n",
        "!pip install astroalign"
      ],
      "metadata": {
        "id": "pBf61BqOzbSb"
      },
      "execution_count": null,
      "outputs": []
    }
  ]
}