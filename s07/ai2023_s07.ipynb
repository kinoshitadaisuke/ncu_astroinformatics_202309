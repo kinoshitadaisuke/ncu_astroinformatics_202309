{
  "nbformat": 4,
  "nbformat_minor": 0,
  "metadata": {
    "colab": {
      "provenance": []
    },
    "kernelspec": {
      "name": "python3",
      "display_name": "Python 3"
    },
    "language_info": {
      "name": "python"
    }
  },
  "cells": [
    {
      "cell_type": "markdown",
      "metadata": {
        "id": "X9F8FTGZzaSe"
      },
      "source": [
        "# AS6095 \"Astroinformatics\"\n",
        "\n",
        "## for academic year 2023 (from Sep/2023 to Jan/2024)\n",
        "\n",
        "## instructor: Kinoshita Daisuke\n",
        "\n",
        "## Course web page: https://s3b.astro.ncu.edu.tw/ai_202309/\n",
        "\n",
        "## GitHub repository: https://github.com/kinoshitadaisuke/ncu_astroinformatics_202309\n"
      ]
    },
    {
      "cell_type": "markdown",
      "metadata": {
        "id": "MKQ0pdfJCZ1I"
      },
      "source": [
        "# Session 07 \"Astronomical calculations using Astropy\"\n",
        "\n",
        "## 30 October 2023\n"
      ]
    },
    {
      "cell_type": "markdown",
      "metadata": {
        "id": "FVmonUCL197r"
      },
      "source": [
        "# Downloading a set of sample Python scripts and changing directory"
      ]
    },
    {
      "cell_type": "code",
      "execution_count": null,
      "metadata": {
        "id": "E-J1KLJAzmx5"
      },
      "outputs": [],
      "source": [
        "# Run this cell to download a set of sample Python scripts for this course.\n",
        "\n",
        "!git clone https://github.com/kinoshitadaisuke/ncu_astroinformatics_202309.git"
      ]
    },
    {
      "cell_type": "code",
      "execution_count": null,
      "metadata": {
        "id": "NU4Otc0i2jfu"
      },
      "outputs": [],
      "source": [
        "# Run this cell to check whether you have a directory named \"ncu_astroinformatics_202309\".\n",
        "\n",
        "!ls"
      ]
    },
    {
      "cell_type": "code",
      "execution_count": null,
      "metadata": {
        "id": "faZRhZv821VY"
      },
      "outputs": [],
      "source": [
        "# Run this cell to move to the directory \"ncu_astroinformatics_202309\".\n",
        "\n",
        "%cd ncu_astroinformatics_202309"
      ]
    },
    {
      "cell_type": "code",
      "execution_count": null,
      "metadata": {
        "id": "hUjHlUZk3Bov"
      },
      "outputs": [],
      "source": [
        "# Run this cell to show currently working directory.\n",
        "\n",
        "!pwd"
      ]
    },
    {
      "cell_type": "code",
      "execution_count": null,
      "metadata": {
        "id": "RXAGJHeX3IsD"
      },
      "outputs": [],
      "source": [
        "# Run this cell to show files and directories.\n",
        "\n",
        "!ls -lF"
      ]
    },
    {
      "cell_type": "code",
      "execution_count": null,
      "metadata": {
        "id": "xR0V8I0k3O3k"
      },
      "outputs": [],
      "source": [
        "# Run this cell to move to the directory \"s06\".\n",
        "\n",
        "%cd s07"
      ]
    },
    {
      "cell_type": "code",
      "execution_count": null,
      "metadata": {
        "id": "KbvQ_3Su3UKL"
      },
      "outputs": [],
      "source": [
        "# Run this cell to show currently working directory.\n",
        "\n",
        "!pwd"
      ]
    },
    {
      "cell_type": "code",
      "execution_count": null,
      "metadata": {
        "id": "n9AAgI4d3c6n"
      },
      "outputs": [],
      "source": [
        "# Run this cell to show files and directories.\n",
        "\n",
        "!ls -lF"
      ]
    },
    {
      "cell_type": "markdown",
      "source": [
        "# Installation of Astropy"
      ],
      "metadata": {
        "id": "jVlw3LHHcBFa"
      }
    },
    {
      "cell_type": "code",
      "source": [
        "# Install Astropy if you do not have it.\n",
        "\n",
        "!apt install python3-astropy"
      ],
      "metadata": {
        "id": "tsoYTACbb4dj"
      },
      "execution_count": null,
      "outputs": []
    },
    {
      "cell_type": "markdown",
      "source": [
        "# Installation of Astroquery"
      ],
      "metadata": {
        "id": "-civP2aBG-ZP"
      }
    },
    {
      "cell_type": "code",
      "source": [
        "# Install Astropy if you do not have it.\n",
        "\n",
        "!apt install python3-astroquery"
      ],
      "metadata": {
        "id": "_NByLJhFG-ZT"
      },
      "execution_count": null,
      "outputs": []
    },
    {
      "cell_type": "markdown",
      "source": [
        "# Installation of jplephem"
      ],
      "metadata": {
        "id": "YVab5nYe4-w-"
      }
    },
    {
      "cell_type": "code",
      "source": [
        "# Install jplephem if you do not have it.\n",
        "\n",
        "!pip install jplephem"
      ],
      "metadata": {
        "id": "EJDyYP2_5GeA"
      },
      "execution_count": null,
      "outputs": []
    },
    {
      "cell_type": "markdown",
      "source": [
        "# Sample script \"ai2023_s07_00_00.py\""
      ],
      "metadata": {
        "id": "BmhRop0lT8KP"
      }
    },
    {
      "cell_type": "code",
      "source": [
        "# Run this cell to show the source code of the script.\n",
        "\n",
        "!cat ai2023_s07_00_00.py"
      ],
      "metadata": {
        "id": "ziA-_OOSUA2h"
      },
      "execution_count": null,
      "outputs": []
    },
    {
      "cell_type": "code",
      "source": [
        "# Run this cell to execute the script.\n",
        "\n",
        "!python3.10 ai2023_s07_00_00.py"
      ],
      "metadata": {
        "id": "265jMoOMUGFx"
      },
      "execution_count": null,
      "outputs": []
    },
    {
      "cell_type": "markdown",
      "source": [
        "# Practice s07-01"
      ],
      "metadata": {
        "id": "UcLxKGe9VGZl"
      }
    },
    {
      "cell_type": "code",
      "source": [
        "# Write your code in this cell.\n",
        "\n",
        "\n",
        "\n",
        "\n"
      ],
      "metadata": {
        "id": "avQpdSUsULtK"
      },
      "execution_count": null,
      "outputs": []
    },
    {
      "cell_type": "markdown",
      "source": [
        "# Sample script \"ai2023_s07_00_01.py\""
      ],
      "metadata": {
        "id": "rpeil-2qVpW1"
      }
    },
    {
      "cell_type": "code",
      "source": [
        "# Run this cell to show the source code of the script.\n",
        "\n",
        "!cat ai2023_s07_00_01.py"
      ],
      "metadata": {
        "id": "G6pQB-MIVpW8"
      },
      "execution_count": null,
      "outputs": []
    },
    {
      "cell_type": "code",
      "source": [
        "# Run this cell to execute the script.\n",
        "\n",
        "!python3.10 ai2023_s07_00_01.py"
      ],
      "metadata": {
        "id": "4o89p5eXVpW_"
      },
      "execution_count": null,
      "outputs": []
    },
    {
      "cell_type": "markdown",
      "source": [
        "# Practice s07-02"
      ],
      "metadata": {
        "id": "TQGnb671VpXC"
      }
    },
    {
      "cell_type": "code",
      "source": [
        "# Write your code in this cell.\n",
        "\n",
        "\n",
        "\n",
        "\n"
      ],
      "metadata": {
        "id": "hskCAS4hVpXD"
      },
      "execution_count": null,
      "outputs": []
    },
    {
      "cell_type": "markdown",
      "source": [
        "# Sample script \"ai2023_s07_00_02.py\""
      ],
      "metadata": {
        "id": "jy_hl61kV1cM"
      }
    },
    {
      "cell_type": "code",
      "source": [
        "# Run this cell to show the source code of the script.\n",
        "\n",
        "!cat ai2023_s07_00_02.py"
      ],
      "metadata": {
        "id": "U-rpQOn8V1cS"
      },
      "execution_count": null,
      "outputs": []
    },
    {
      "cell_type": "code",
      "source": [
        "# Run this cell to execute the script.\n",
        "\n",
        "!python3.10 ai2023_s07_00_02.py"
      ],
      "metadata": {
        "id": "MoURJ5e2V1cS"
      },
      "execution_count": null,
      "outputs": []
    },
    {
      "cell_type": "markdown",
      "source": [
        "# Practice s07-03"
      ],
      "metadata": {
        "id": "8vmZ2dtDV1cS"
      }
    },
    {
      "cell_type": "code",
      "source": [
        "# Write your code in this cell.\n",
        "\n",
        "\n",
        "\n",
        "\n"
      ],
      "metadata": {
        "id": "uGEudUbjV1cT"
      },
      "execution_count": null,
      "outputs": []
    },
    {
      "cell_type": "markdown",
      "source": [
        "# Sample script \"ai2023_s07_00_03.py\""
      ],
      "metadata": {
        "id": "l3Si0f90WXF-"
      }
    },
    {
      "cell_type": "code",
      "source": [
        "# Run this cell to show the source code of the script.\n",
        "\n",
        "!cat ai2023_s07_00_03.py"
      ],
      "metadata": {
        "id": "dN0ggtiCWXGE"
      },
      "execution_count": null,
      "outputs": []
    },
    {
      "cell_type": "code",
      "source": [
        "# Run this cell to execute the script.\n",
        "\n",
        "!python3.10 ai2023_s07_00_03.py"
      ],
      "metadata": {
        "id": "Vm7yMB4iWXGF"
      },
      "execution_count": null,
      "outputs": []
    },
    {
      "cell_type": "markdown",
      "source": [
        "# Practice s07-04"
      ],
      "metadata": {
        "id": "FLCUDLxmWXGG"
      }
    },
    {
      "cell_type": "code",
      "source": [
        "# Write your code in this cell.\n",
        "\n",
        "\n",
        "\n",
        "\n"
      ],
      "metadata": {
        "id": "ej1hb6pxWXGH"
      },
      "execution_count": null,
      "outputs": []
    },
    {
      "cell_type": "markdown",
      "source": [
        "# Sample script \"ai2023_s07_00_04.py\""
      ],
      "metadata": {
        "id": "u-x0_cFJWb59"
      }
    },
    {
      "cell_type": "code",
      "source": [
        "# Run this cell to show the source code of the script.\n",
        "\n",
        "!cat ai2023_s07_00_04.py"
      ],
      "metadata": {
        "id": "DKmXDNvMWb5_"
      },
      "execution_count": null,
      "outputs": []
    },
    {
      "cell_type": "code",
      "source": [
        "# Run this cell to execute the script.\n",
        "\n",
        "!python3.10 ai2023_s07_00_04.py"
      ],
      "metadata": {
        "id": "V-Jo2YYwWb5_"
      },
      "execution_count": null,
      "outputs": []
    },
    {
      "cell_type": "markdown",
      "source": [
        "# Practice s07-05"
      ],
      "metadata": {
        "id": "lPDt693ZWb5_"
      }
    },
    {
      "cell_type": "code",
      "source": [
        "# Write your code in this cell.\n",
        "\n",
        "\n",
        "\n",
        "\n"
      ],
      "metadata": {
        "id": "5s8YgwkcWb6A"
      },
      "execution_count": null,
      "outputs": []
    },
    {
      "cell_type": "markdown",
      "source": [
        "# Sample script \"ai2023_s07_00_05.py\""
      ],
      "metadata": {
        "id": "U-f0WszRWg2N"
      }
    },
    {
      "cell_type": "code",
      "source": [
        "# Run this cell to show the source code of the script.\n",
        "\n",
        "!cat ai2023_s07_00_05.py"
      ],
      "metadata": {
        "id": "O44IFOzeWg2N"
      },
      "execution_count": null,
      "outputs": []
    },
    {
      "cell_type": "code",
      "source": [
        "# Run this cell to execute the script.\n",
        "\n",
        "!python3.10 ai2023_s07_00_05.py"
      ],
      "metadata": {
        "id": "5bZ9c72AWg2P"
      },
      "execution_count": null,
      "outputs": []
    },
    {
      "cell_type": "markdown",
      "source": [
        "# Practice s07-06"
      ],
      "metadata": {
        "id": "VzVjEXfrWg2P"
      }
    },
    {
      "cell_type": "code",
      "source": [
        "# Write your code in this cell.\n",
        "\n",
        "\n",
        "\n",
        "\n"
      ],
      "metadata": {
        "id": "o8Hpg9_CWg2Q"
      },
      "execution_count": null,
      "outputs": []
    },
    {
      "cell_type": "markdown",
      "source": [
        "# Sample script \"ai2023_s07_00_06.py\""
      ],
      "metadata": {
        "id": "gxzSj8LZWmgu"
      }
    },
    {
      "cell_type": "code",
      "source": [
        "# Run this cell to show the source code of the script.\n",
        "\n",
        "!cat ai2023_s07_00_06.py"
      ],
      "metadata": {
        "id": "BhqaNB9EWmgu"
      },
      "execution_count": null,
      "outputs": []
    },
    {
      "cell_type": "code",
      "source": [
        "# Run this cell to execute the script.\n",
        "\n",
        "!python3.10 ai2023_s07_00_06.py"
      ],
      "metadata": {
        "id": "Cle6QXoVWmgu"
      },
      "execution_count": null,
      "outputs": []
    },
    {
      "cell_type": "markdown",
      "source": [
        "# Practice s07-07"
      ],
      "metadata": {
        "id": "0YVRW5ktWmgv"
      }
    },
    {
      "cell_type": "code",
      "source": [
        "# Write your code in this cell.\n",
        "\n",
        "\n",
        "\n",
        "\n"
      ],
      "metadata": {
        "id": "_aXRA4XyWmgv"
      },
      "execution_count": null,
      "outputs": []
    },
    {
      "cell_type": "markdown",
      "source": [
        "# Sample script \"ai2023_s07_00_07.py\""
      ],
      "metadata": {
        "id": "U5NP3ww_Ws09"
      }
    },
    {
      "cell_type": "code",
      "source": [
        "# Run this cell to show the source code of the script.\n",
        "\n",
        "!cat ai2023_s07_00_07.py"
      ],
      "metadata": {
        "id": "HT5b0HddWs0-"
      },
      "execution_count": null,
      "outputs": []
    },
    {
      "cell_type": "code",
      "source": [
        "# Run this cell to execute the script.\n",
        "\n",
        "!python3.10 ai2023_s07_00_07.py"
      ],
      "metadata": {
        "id": "u9JiNRRLWs0-"
      },
      "execution_count": null,
      "outputs": []
    },
    {
      "cell_type": "markdown",
      "source": [
        "# Practice s07-08"
      ],
      "metadata": {
        "id": "_5chBrrKWs0_"
      }
    },
    {
      "cell_type": "code",
      "source": [
        "# Write your code in this cell.\n",
        "\n",
        "\n",
        "\n",
        "\n"
      ],
      "metadata": {
        "id": "kudrMdSgWs0_"
      },
      "execution_count": null,
      "outputs": []
    },
    {
      "cell_type": "markdown",
      "source": [
        "# Sample script \"ai2023_s07_01_00.py\""
      ],
      "metadata": {
        "id": "MVH1OBtAW03m"
      }
    },
    {
      "cell_type": "code",
      "source": [
        "# Run this cell to show the source code of the script.\n",
        "\n",
        "!cat ai2023_s07_01_00.py"
      ],
      "metadata": {
        "id": "4Vm4CMEhW03o"
      },
      "execution_count": null,
      "outputs": []
    },
    {
      "cell_type": "code",
      "source": [
        "# Run this cell to execute the script.\n",
        "\n",
        "!python3.10 ai2023_s07_01_00.py"
      ],
      "metadata": {
        "id": "TObnn-shW03q"
      },
      "execution_count": null,
      "outputs": []
    },
    {
      "cell_type": "markdown",
      "source": [
        "# Practice s07-09"
      ],
      "metadata": {
        "id": "QH4T2ZfUW03r"
      }
    },
    {
      "cell_type": "code",
      "source": [
        "# Write your code in this cell.\n",
        "\n",
        "\n",
        "\n",
        "\n"
      ],
      "metadata": {
        "id": "iMcvbmR9W03s"
      },
      "execution_count": null,
      "outputs": []
    },
    {
      "cell_type": "markdown",
      "source": [
        "# Sample script \"ai2023_s07_01_01.py\""
      ],
      "metadata": {
        "id": "6rQQM95NW7lu"
      }
    },
    {
      "cell_type": "code",
      "source": [
        "# Run this cell to show the source code of the script.\n",
        "\n",
        "!cat ai2023_s07_01_01.py"
      ],
      "metadata": {
        "id": "7BelvLdmW7lv"
      },
      "execution_count": null,
      "outputs": []
    },
    {
      "cell_type": "code",
      "source": [
        "# Run this cell to execute the script.\n",
        "\n",
        "!python3.10 ai2023_s07_01_01.py"
      ],
      "metadata": {
        "id": "BM5XQUgIW7lw"
      },
      "execution_count": null,
      "outputs": []
    },
    {
      "cell_type": "markdown",
      "source": [
        "# Practice s07-10"
      ],
      "metadata": {
        "id": "-LAHR1gKW7lx"
      }
    },
    {
      "cell_type": "code",
      "source": [
        "# Write your code in this cell.\n",
        "\n",
        "\n",
        "\n",
        "\n"
      ],
      "metadata": {
        "id": "wSDiH-flW7ly"
      },
      "execution_count": null,
      "outputs": []
    },
    {
      "cell_type": "markdown",
      "source": [
        "# Sample script \"ai2023_s07_01_02.py\""
      ],
      "metadata": {
        "id": "vPbH0ByqXAq3"
      }
    },
    {
      "cell_type": "code",
      "source": [
        "# Run this cell to show the source code of the script.\n",
        "\n",
        "!cat ai2023_s07_01_02.py"
      ],
      "metadata": {
        "id": "8BFUWO_DXAq7"
      },
      "execution_count": null,
      "outputs": []
    },
    {
      "cell_type": "code",
      "source": [
        "# Run this cell to execute the script.\n",
        "\n",
        "!python3.10 ai2023_s07_01_02.py"
      ],
      "metadata": {
        "id": "fnH839qFXAq-"
      },
      "execution_count": null,
      "outputs": []
    },
    {
      "cell_type": "markdown",
      "source": [
        "# Practice s07-11"
      ],
      "metadata": {
        "id": "4I07cDkbXAq_"
      }
    },
    {
      "cell_type": "code",
      "source": [
        "# Write your code in this cell.\n",
        "\n",
        "\n",
        "\n",
        "\n"
      ],
      "metadata": {
        "id": "Pev3XPZUXArA"
      },
      "execution_count": null,
      "outputs": []
    },
    {
      "cell_type": "markdown",
      "source": [
        "# Sample script \"ai2023_s07_01_03.py\""
      ],
      "metadata": {
        "id": "TroymvuDXGOG"
      }
    },
    {
      "cell_type": "code",
      "source": [
        "# Run this cell to show the source code of the script.\n",
        "\n",
        "!cat ai2023_s07_01_03.py"
      ],
      "metadata": {
        "id": "K0It7DyrXGOH"
      },
      "execution_count": null,
      "outputs": []
    },
    {
      "cell_type": "code",
      "source": [
        "# Run this cell to execute the script.\n",
        "\n",
        "!python3.10 ai2023_s07_01_03.py"
      ],
      "metadata": {
        "id": "WFRXwbYqXGOI"
      },
      "execution_count": null,
      "outputs": []
    },
    {
      "cell_type": "markdown",
      "source": [
        "# Practice s07-12"
      ],
      "metadata": {
        "id": "SQDQRjVmXGOJ"
      }
    },
    {
      "cell_type": "code",
      "source": [
        "# Write your code in this cell.\n",
        "\n",
        "\n",
        "\n",
        "\n"
      ],
      "metadata": {
        "id": "_eJ3xJGEXGOJ"
      },
      "execution_count": null,
      "outputs": []
    },
    {
      "cell_type": "markdown",
      "source": [
        "# Sample script \"ai2023_s07_01_04.py\""
      ],
      "metadata": {
        "id": "p6uBpyUYXLiH"
      }
    },
    {
      "cell_type": "code",
      "source": [
        "# Run this cell to show the source code of the script.\n",
        "\n",
        "!cat ai2023_s07_01_04.py"
      ],
      "metadata": {
        "id": "4uj0d4w5XLiM"
      },
      "execution_count": null,
      "outputs": []
    },
    {
      "cell_type": "code",
      "source": [
        "# Run this cell to execute the script.\n",
        "\n",
        "!python3.10 ai2023_s07_01_04.py"
      ],
      "metadata": {
        "id": "V_EWJ9O6XLiN"
      },
      "execution_count": null,
      "outputs": []
    },
    {
      "cell_type": "markdown",
      "source": [
        "# Practice s07-13"
      ],
      "metadata": {
        "id": "_wi0sl6RXLiO"
      }
    },
    {
      "cell_type": "code",
      "source": [
        "# Write your code in this cell.\n",
        "\n",
        "\n",
        "\n",
        "\n"
      ],
      "metadata": {
        "id": "5kVz2yxSXLiO"
      },
      "execution_count": null,
      "outputs": []
    },
    {
      "cell_type": "markdown",
      "source": [
        "# Sample script \"ai2023_s07_01_05.py\""
      ],
      "metadata": {
        "id": "89r-djOJXQ8Y"
      }
    },
    {
      "cell_type": "code",
      "source": [
        "# Run this cell to show the source code of the script.\n",
        "\n",
        "!cat ai2023_s07_01_05.py"
      ],
      "metadata": {
        "id": "aajieASNXQ8d"
      },
      "execution_count": null,
      "outputs": []
    },
    {
      "cell_type": "code",
      "source": [
        "# Run this cell to execute the script.\n",
        "\n",
        "!python3.10 ai2023_s07_01_05.py"
      ],
      "metadata": {
        "id": "aSeMnTUaXQ8e"
      },
      "execution_count": null,
      "outputs": []
    },
    {
      "cell_type": "markdown",
      "source": [
        "# Practice s07-14"
      ],
      "metadata": {
        "id": "TlB_6x9vXQ8f"
      }
    },
    {
      "cell_type": "code",
      "source": [
        "# Write your code in this cell.\n",
        "\n",
        "\n",
        "\n",
        "\n"
      ],
      "metadata": {
        "id": "dPMqmVoVXQ8g"
      },
      "execution_count": null,
      "outputs": []
    },
    {
      "cell_type": "markdown",
      "source": [
        "# Sample script \"ai2023_s07_01_06.py\""
      ],
      "metadata": {
        "id": "0sn5mgWvXV02"
      }
    },
    {
      "cell_type": "code",
      "source": [
        "# Run this cell to show the source code of the script.\n",
        "\n",
        "!cat ai2023_s07_01_06.py"
      ],
      "metadata": {
        "id": "p24s4x08XV04"
      },
      "execution_count": null,
      "outputs": []
    },
    {
      "cell_type": "code",
      "source": [
        "# Run this cell to execute the script.\n",
        "\n",
        "!python3.10 ai2023_s07_01_06.py"
      ],
      "metadata": {
        "id": "5zYZQ4wlXV05"
      },
      "execution_count": null,
      "outputs": []
    },
    {
      "cell_type": "markdown",
      "source": [
        "# Practice s07-15"
      ],
      "metadata": {
        "id": "CYinDuFQXV05"
      }
    },
    {
      "cell_type": "code",
      "source": [
        "# Write your code in this cell.\n",
        "\n",
        "\n",
        "\n",
        "\n"
      ],
      "metadata": {
        "id": "KKlBasa2XV06"
      },
      "execution_count": null,
      "outputs": []
    },
    {
      "cell_type": "markdown",
      "source": [
        "# Sample script \"ai2023_s07_01_07.py\""
      ],
      "metadata": {
        "id": "m4MRNNWRXboP"
      }
    },
    {
      "cell_type": "code",
      "source": [
        "# Run this cell to show the source code of the script.\n",
        "\n",
        "!cat ai2023_s07_01_07.py"
      ],
      "metadata": {
        "id": "Pz48XCK2XboU"
      },
      "execution_count": null,
      "outputs": []
    },
    {
      "cell_type": "code",
      "source": [
        "# Run this cell to execute the script.\n",
        "\n",
        "!python3.10 ai2023_s07_01_07.py"
      ],
      "metadata": {
        "id": "kPZ8rNgXXboU"
      },
      "execution_count": null,
      "outputs": []
    },
    {
      "cell_type": "markdown",
      "source": [
        "# Practice s07-16"
      ],
      "metadata": {
        "id": "txHhbSigXboV"
      }
    },
    {
      "cell_type": "code",
      "source": [
        "# Write your code in this cell.\n",
        "\n",
        "\n",
        "\n",
        "\n"
      ],
      "metadata": {
        "id": "MB0ncBOoXboW"
      },
      "execution_count": null,
      "outputs": []
    },
    {
      "cell_type": "markdown",
      "source": [
        "# Sample script \"ai2023_s07_01_08.py\""
      ],
      "metadata": {
        "id": "P8TBQQq4Xh_Q"
      }
    },
    {
      "cell_type": "code",
      "source": [
        "# Run this cell to show the source code of the script.\n",
        "\n",
        "!cat ai2023_s07_01_08.py"
      ],
      "metadata": {
        "id": "5m8BSdrHXh_S"
      },
      "execution_count": null,
      "outputs": []
    },
    {
      "cell_type": "code",
      "source": [
        "# Run this cell to execute the script.\n",
        "\n",
        "!python3.10 ai2023_s07_01_08.py"
      ],
      "metadata": {
        "id": "mo2AfveTXh_T"
      },
      "execution_count": null,
      "outputs": []
    },
    {
      "cell_type": "markdown",
      "source": [
        "# Practice s07-17"
      ],
      "metadata": {
        "id": "0IHm91o0Xh_V"
      }
    },
    {
      "cell_type": "code",
      "source": [
        "# Write your code in this cell.\n",
        "\n",
        "\n",
        "\n",
        "\n"
      ],
      "metadata": {
        "id": "P5Ye0gabXh_X"
      },
      "execution_count": null,
      "outputs": []
    },
    {
      "cell_type": "markdown",
      "source": [
        "# Sample script \"ai2023_s07_01_09.py\""
      ],
      "metadata": {
        "id": "WwBettEOXnTE"
      }
    },
    {
      "cell_type": "code",
      "source": [
        "# Run this cell to show the source code of the script.\n",
        "\n",
        "!cat ai2023_s07_01_09.py"
      ],
      "metadata": {
        "id": "dBGN3hTXXnTJ"
      },
      "execution_count": null,
      "outputs": []
    },
    {
      "cell_type": "code",
      "source": [
        "# Run this cell to execute the script.\n",
        "\n",
        "!python3.10 ai2023_s07_01_09.py"
      ],
      "metadata": {
        "id": "QJ0MDgRfXnTL"
      },
      "execution_count": null,
      "outputs": []
    },
    {
      "cell_type": "markdown",
      "source": [
        "# Practice s07-18"
      ],
      "metadata": {
        "id": "ewAptdJrXnTM"
      }
    },
    {
      "cell_type": "code",
      "source": [
        "# Write your code in this cell.\n",
        "\n",
        "\n",
        "\n",
        "\n"
      ],
      "metadata": {
        "id": "RMhyowmJXnTO"
      },
      "execution_count": null,
      "outputs": []
    },
    {
      "cell_type": "markdown",
      "source": [
        "# Sample script \"ai2023_s07_01_10.py\""
      ],
      "metadata": {
        "id": "xayZ_4YOXtLm"
      }
    },
    {
      "cell_type": "code",
      "source": [
        "# Run this cell to show the source code of the script.\n",
        "\n",
        "!cat ai2023_s07_01_10.py"
      ],
      "metadata": {
        "id": "YO1cwnS-XtLs"
      },
      "execution_count": null,
      "outputs": []
    },
    {
      "cell_type": "code",
      "source": [
        "# Run this cell to execute the script.\n",
        "\n",
        "!python3.10 ai2023_s07_01_10.py"
      ],
      "metadata": {
        "id": "_-8DSlCcXtLu"
      },
      "execution_count": null,
      "outputs": []
    },
    {
      "cell_type": "markdown",
      "source": [
        "# Practice s07-19"
      ],
      "metadata": {
        "id": "vOzrlPv0XtLv"
      }
    },
    {
      "cell_type": "code",
      "source": [
        "# Write your code in this cell.\n",
        "\n",
        "\n",
        "\n",
        "\n"
      ],
      "metadata": {
        "id": "HSPBODEJXtLx"
      },
      "execution_count": null,
      "outputs": []
    },
    {
      "cell_type": "markdown",
      "source": [
        "# Sample script \"ai2023_s07_01_11.py\""
      ],
      "metadata": {
        "id": "_FlOy16sXys5"
      }
    },
    {
      "cell_type": "code",
      "source": [
        "# Run this cell to show the source code of the script.\n",
        "\n",
        "!cat ai2023_s07_01_11.py"
      ],
      "metadata": {
        "id": "oMbqiGiPXys7"
      },
      "execution_count": null,
      "outputs": []
    },
    {
      "cell_type": "code",
      "source": [
        "# Run this cell to execute the script.\n",
        "\n",
        "!python3.10 ai2023_s07_01_11.py"
      ],
      "metadata": {
        "id": "Mn9UzOH6Xys8"
      },
      "execution_count": null,
      "outputs": []
    },
    {
      "cell_type": "markdown",
      "source": [
        "# Practice s07-20"
      ],
      "metadata": {
        "id": "XngBImz1Xys9"
      }
    },
    {
      "cell_type": "code",
      "source": [
        "# Write your code in this cell.\n",
        "\n",
        "\n",
        "\n",
        "\n"
      ],
      "metadata": {
        "id": "eb-yQldpXys-"
      },
      "execution_count": null,
      "outputs": []
    },
    {
      "cell_type": "markdown",
      "source": [
        "# Sample script \"ai2023_s07_01_12.py\""
      ],
      "metadata": {
        "id": "9i5v2OA2X4M7"
      }
    },
    {
      "cell_type": "code",
      "source": [
        "# Run this cell to show the source code of the script.\n",
        "\n",
        "!cat ai2023_s07_01_12.py"
      ],
      "metadata": {
        "id": "o4CpD2HlX4M9"
      },
      "execution_count": null,
      "outputs": []
    },
    {
      "cell_type": "code",
      "source": [
        "# Run this cell to execute the script.\n",
        "\n",
        "!python3.10 ai2023_s07_01_12.py"
      ],
      "metadata": {
        "id": "nCbi9EPbX4M-"
      },
      "execution_count": null,
      "outputs": []
    },
    {
      "cell_type": "markdown",
      "source": [
        "# Practice s07-21"
      ],
      "metadata": {
        "id": "e2Vpsaq6X4M_"
      }
    },
    {
      "cell_type": "code",
      "source": [
        "# Write your code in this cell.\n",
        "\n",
        "\n",
        "\n",
        "\n"
      ],
      "metadata": {
        "id": "2b2nhq1tX4NA"
      },
      "execution_count": null,
      "outputs": []
    },
    {
      "cell_type": "markdown",
      "source": [
        "# Sample script \"ai2023_s07_01_13.py\""
      ],
      "metadata": {
        "id": "4lxBiGeZX-EQ"
      }
    },
    {
      "cell_type": "code",
      "source": [
        "# Run this cell to show the source code of the script.\n",
        "\n",
        "!cat ai2023_s07_01_13.py"
      ],
      "metadata": {
        "id": "QDe95zIGX-EX"
      },
      "execution_count": null,
      "outputs": []
    },
    {
      "cell_type": "code",
      "source": [
        "# Run this cell to execute the script.\n",
        "\n",
        "!python3.10 ai2023_s07_01_13.py"
      ],
      "metadata": {
        "id": "IsKghQZGX-EY"
      },
      "execution_count": null,
      "outputs": []
    },
    {
      "cell_type": "markdown",
      "source": [
        "# Practice s07-22"
      ],
      "metadata": {
        "id": "QWUN0uZ_X-Ea"
      }
    },
    {
      "cell_type": "code",
      "source": [
        "# Write your code in this cell.\n",
        "\n",
        "\n",
        "\n",
        "\n"
      ],
      "metadata": {
        "id": "6juh5RZyX-Eb"
      },
      "execution_count": null,
      "outputs": []
    },
    {
      "cell_type": "markdown",
      "source": [
        "# Sample script \"ai2023_s07_02_00.py\""
      ],
      "metadata": {
        "id": "eLnRokrJYD5L"
      }
    },
    {
      "cell_type": "code",
      "source": [
        "# Run this cell to show the source code of the script.\n",
        "\n",
        "!cat ai2023_s07_02_00.py"
      ],
      "metadata": {
        "id": "qCWA44MhYD5N"
      },
      "execution_count": null,
      "outputs": []
    },
    {
      "cell_type": "code",
      "source": [
        "# Run this cell to execute the script.\n",
        "\n",
        "!python3.10 ai2023_s07_02_00.py"
      ],
      "metadata": {
        "id": "1nEvyy2tYD5P"
      },
      "execution_count": null,
      "outputs": []
    },
    {
      "cell_type": "markdown",
      "source": [
        "# Practice s07-23"
      ],
      "metadata": {
        "id": "KOL-OQT4YD5R"
      }
    },
    {
      "cell_type": "code",
      "source": [
        "# Write your code in this cell.\n",
        "\n",
        "\n",
        "\n",
        "\n"
      ],
      "metadata": {
        "id": "OvjYvpftYD5S"
      },
      "execution_count": null,
      "outputs": []
    },
    {
      "cell_type": "markdown",
      "source": [
        "# Sample script \"ai2023_s07_02_01.py\""
      ],
      "metadata": {
        "id": "PnHfJCe9YPhJ"
      }
    },
    {
      "cell_type": "code",
      "source": [
        "# Run this cell to show the source code of the script.\n",
        "\n",
        "!cat ai2023_s07_02_01.py"
      ],
      "metadata": {
        "id": "Jnnr2md3YPhO"
      },
      "execution_count": null,
      "outputs": []
    },
    {
      "cell_type": "code",
      "source": [
        "# Run this cell to execute the script.\n",
        "\n",
        "!python3.10 ai2023_s07_02_01.py"
      ],
      "metadata": {
        "id": "x7EETu2ZYPhP"
      },
      "execution_count": null,
      "outputs": []
    },
    {
      "cell_type": "markdown",
      "source": [
        "# Practice s07-24"
      ],
      "metadata": {
        "id": "K5GboNihYPhQ"
      }
    },
    {
      "cell_type": "code",
      "source": [
        "# Write your code in this cell.\n",
        "\n",
        "\n",
        "\n",
        "\n"
      ],
      "metadata": {
        "id": "FVtLdGpBYPhR"
      },
      "execution_count": null,
      "outputs": []
    },
    {
      "cell_type": "markdown",
      "source": [
        "# Sample script \"ai2023_s07_02_02.py\""
      ],
      "metadata": {
        "id": "7w8slr3sYUmi"
      }
    },
    {
      "cell_type": "code",
      "source": [
        "# Run this cell to show the source code of the script.\n",
        "\n",
        "!cat ai2023_s07_02_02.py"
      ],
      "metadata": {
        "id": "QUYVNpVoYUmj"
      },
      "execution_count": null,
      "outputs": []
    },
    {
      "cell_type": "code",
      "source": [
        "# Run this cell to execute the script.\n",
        "\n",
        "!python3.10 ai2023_s07_02_02.py"
      ],
      "metadata": {
        "id": "Olih4Pz_YUmj"
      },
      "execution_count": null,
      "outputs": []
    },
    {
      "cell_type": "markdown",
      "source": [
        "# Practice s07-25"
      ],
      "metadata": {
        "id": "tFL05C6mYUmk"
      }
    },
    {
      "cell_type": "code",
      "source": [
        "# Write your code in this cell.\n",
        "\n",
        "\n",
        "\n",
        "\n"
      ],
      "metadata": {
        "id": "-ddkbaITYUmk"
      },
      "execution_count": null,
      "outputs": []
    },
    {
      "cell_type": "markdown",
      "source": [
        "# Sample script \"ai2023_s07_02_03.py\""
      ],
      "metadata": {
        "id": "ns1qTPqYYZxa"
      }
    },
    {
      "cell_type": "code",
      "source": [
        "# Run this cell to show the source code of the script.\n",
        "\n",
        "!cat ai2023_s07_02_03.py"
      ],
      "metadata": {
        "id": "JLWh6EuVYZxh"
      },
      "execution_count": null,
      "outputs": []
    },
    {
      "cell_type": "code",
      "source": [
        "# Run this cell to execute the script.\n",
        "\n",
        "!python3.10 ai2023_s07_02_03.py"
      ],
      "metadata": {
        "id": "heUns_vsYZxi"
      },
      "execution_count": null,
      "outputs": []
    },
    {
      "cell_type": "markdown",
      "source": [
        "# Practice s07-26"
      ],
      "metadata": {
        "id": "DGeuwknhYZxk"
      }
    },
    {
      "cell_type": "code",
      "source": [
        "# Write your code in this cell.\n",
        "\n",
        "\n",
        "\n",
        "\n"
      ],
      "metadata": {
        "id": "1G2mXvgrYZxm"
      },
      "execution_count": null,
      "outputs": []
    },
    {
      "cell_type": "markdown",
      "source": [
        "# Sample script \"ai2023_s07_02_04.py\""
      ],
      "metadata": {
        "id": "8-Ey57_5Yh29"
      }
    },
    {
      "cell_type": "code",
      "source": [
        "# Run this cell to show the source code of the script.\n",
        "\n",
        "!cat ai2023_s07_02_04.py"
      ],
      "metadata": {
        "id": "pdKqtYEhYh2_"
      },
      "execution_count": null,
      "outputs": []
    },
    {
      "cell_type": "code",
      "source": [
        "# Run this cell to execute the script.\n",
        "\n",
        "!python3.10 ai2023_s07_02_04.py"
      ],
      "metadata": {
        "id": "l68fmbuVYh3A"
      },
      "execution_count": null,
      "outputs": []
    },
    {
      "cell_type": "markdown",
      "source": [
        "# Practice s07-27"
      ],
      "metadata": {
        "id": "02ui3vllYh3B"
      }
    },
    {
      "cell_type": "code",
      "source": [
        "# Write your code in this cell.\n",
        "\n",
        "\n",
        "\n",
        "\n"
      ],
      "metadata": {
        "id": "jKrQgYpUYh3C"
      },
      "execution_count": null,
      "outputs": []
    },
    {
      "cell_type": "markdown",
      "source": [
        "# Sample script \"ai2023_s07_02_05.py\""
      ],
      "metadata": {
        "id": "aKKfM74SYnHr"
      }
    },
    {
      "cell_type": "code",
      "source": [
        "# Run this cell to show the source code of the script.\n",
        "\n",
        "!cat ai2023_s07_02_05.py"
      ],
      "metadata": {
        "id": "5lrcOVcqYnH1"
      },
      "execution_count": null,
      "outputs": []
    },
    {
      "cell_type": "code",
      "source": [
        "# Run this cell to execute the script.\n",
        "\n",
        "!python3.10 ai2023_s07_02_05.py"
      ],
      "metadata": {
        "id": "-BSknN48YnH5"
      },
      "execution_count": null,
      "outputs": []
    },
    {
      "cell_type": "markdown",
      "source": [
        "# Practice s07-28"
      ],
      "metadata": {
        "id": "8O6gibwCYnH7"
      }
    },
    {
      "cell_type": "code",
      "source": [
        "# Write your code in this cell.\n",
        "\n",
        "\n",
        "\n",
        "\n"
      ],
      "metadata": {
        "id": "8omIF-pbYnH9"
      },
      "execution_count": null,
      "outputs": []
    },
    {
      "cell_type": "markdown",
      "source": [
        "# Sample script \"ai2023_s07_02_06.py\""
      ],
      "metadata": {
        "id": "tbSNGP-DYrxZ"
      }
    },
    {
      "cell_type": "code",
      "source": [
        "# Run this cell to show the source code of the script.\n",
        "\n",
        "!cat ai2023_s07_02_06.py"
      ],
      "metadata": {
        "id": "SPT6L19HYrxa"
      },
      "execution_count": null,
      "outputs": []
    },
    {
      "cell_type": "code",
      "source": [
        "# Run this cell to execute the script.\n",
        "\n",
        "!python3.10 ai2023_s07_02_06.py"
      ],
      "metadata": {
        "id": "pM5zvqlAYrxa"
      },
      "execution_count": null,
      "outputs": []
    },
    {
      "cell_type": "markdown",
      "source": [
        "# Practice s07-29"
      ],
      "metadata": {
        "id": "SpTLubT6Yrxb"
      }
    },
    {
      "cell_type": "code",
      "source": [
        "# Write your code in this cell.\n",
        "\n",
        "\n",
        "\n",
        "\n"
      ],
      "metadata": {
        "id": "to70wqKuYrxb"
      },
      "execution_count": null,
      "outputs": []
    },
    {
      "cell_type": "markdown",
      "source": [
        "# Sample script \"ai2023_s07_02_07.py\""
      ],
      "metadata": {
        "id": "ZMITbY1_Yxl4"
      }
    },
    {
      "cell_type": "code",
      "source": [
        "# Run this cell to show the source code of the script.\n",
        "\n",
        "!cat ai2023_s07_02_07.py"
      ],
      "metadata": {
        "id": "9QZ4mpLQYxl5"
      },
      "execution_count": null,
      "outputs": []
    },
    {
      "cell_type": "code",
      "source": [
        "# Run this cell to execute the script.\n",
        "\n",
        "!python3.10 ai2023_s07_02_07.py"
      ],
      "metadata": {
        "id": "SIXW4eNCYxl5"
      },
      "execution_count": null,
      "outputs": []
    },
    {
      "cell_type": "markdown",
      "source": [
        "# Practice s07-30"
      ],
      "metadata": {
        "id": "HRjv9rZiYxl5"
      }
    },
    {
      "cell_type": "code",
      "source": [
        "# Write your code in this cell.\n",
        "\n",
        "\n",
        "\n",
        "\n"
      ],
      "metadata": {
        "id": "T6A1lgeTYxl6"
      },
      "execution_count": null,
      "outputs": []
    },
    {
      "cell_type": "markdown",
      "source": [
        "# Sample script \"ai2023_s07_02_08.py\""
      ],
      "metadata": {
        "id": "0wkCnoJzY2sM"
      }
    },
    {
      "cell_type": "code",
      "source": [
        "# Run this cell to show the source code of the script.\n",
        "\n",
        "!cat ai2023_s07_02_08.py"
      ],
      "metadata": {
        "id": "n2lljU-nY2sS"
      },
      "execution_count": null,
      "outputs": []
    },
    {
      "cell_type": "code",
      "source": [
        "# Run this cell to execute the script.\n",
        "\n",
        "!python3.10 ai2023_s07_02_08.py"
      ],
      "metadata": {
        "id": "Xbn6311lY2sV"
      },
      "execution_count": null,
      "outputs": []
    },
    {
      "cell_type": "markdown",
      "source": [
        "# Practice s07-31"
      ],
      "metadata": {
        "id": "UmSSUpZsY2sW"
      }
    },
    {
      "cell_type": "code",
      "source": [
        "# Write your code in this cell.\n",
        "\n",
        "\n",
        "\n",
        "\n"
      ],
      "metadata": {
        "id": "1qCnrNrUY2sW"
      },
      "execution_count": null,
      "outputs": []
    },
    {
      "cell_type": "markdown",
      "source": [
        "# Sample script \"ai2023_s07_02_09.py\""
      ],
      "metadata": {
        "id": "TKZYG6eVY9PB"
      }
    },
    {
      "cell_type": "code",
      "source": [
        "# Run this cell to show the source code of the script.\n",
        "\n",
        "!cat ai2023_s07_02_09.py"
      ],
      "metadata": {
        "id": "CFNNSk_OY9PD"
      },
      "execution_count": null,
      "outputs": []
    },
    {
      "cell_type": "code",
      "source": [
        "# Run this cell to execute the script.\n",
        "\n",
        "!python3.10 ai2023_s07_02_09.py"
      ],
      "metadata": {
        "id": "rZ97h5acY9PE"
      },
      "execution_count": null,
      "outputs": []
    },
    {
      "cell_type": "markdown",
      "source": [
        "# Practice s07-32"
      ],
      "metadata": {
        "id": "9thBHcyDY9PG"
      }
    },
    {
      "cell_type": "code",
      "source": [
        "# Write your code in this cell.\n",
        "\n",
        "\n",
        "\n",
        "\n"
      ],
      "metadata": {
        "id": "ofQ5RHjLY9PG"
      },
      "execution_count": null,
      "outputs": []
    },
    {
      "cell_type": "markdown",
      "source": [
        "# Sample script \"ai2023_s07_02_10.py\""
      ],
      "metadata": {
        "id": "hEdrH9KHZFq5"
      }
    },
    {
      "cell_type": "code",
      "source": [
        "# Run this cell to show the source code of the script.\n",
        "\n",
        "!cat ai2023_s07_02_10.py"
      ],
      "metadata": {
        "id": "k34e_xY2ZFrD"
      },
      "execution_count": null,
      "outputs": []
    },
    {
      "cell_type": "code",
      "source": [
        "# Run this cell to execute the script.\n",
        "\n",
        "!python3.10 ai2023_s07_02_10.py"
      ],
      "metadata": {
        "id": "AXxertGiZFrH"
      },
      "execution_count": null,
      "outputs": []
    },
    {
      "cell_type": "markdown",
      "source": [
        "# Practice s07-33"
      ],
      "metadata": {
        "id": "v5w1lUZxZFrJ"
      }
    },
    {
      "cell_type": "code",
      "source": [
        "# Write your code in this cell.\n",
        "\n",
        "\n",
        "\n",
        "\n"
      ],
      "metadata": {
        "id": "1a2pVrkOZFrL"
      },
      "execution_count": null,
      "outputs": []
    },
    {
      "cell_type": "markdown",
      "source": [
        "# Sample script \"ai2023_s07_02_11.py\""
      ],
      "metadata": {
        "id": "5uFDLvbWZLp8"
      }
    },
    {
      "cell_type": "code",
      "source": [
        "# Run this cell to show the source code of the script.\n",
        "\n",
        "!cat ai2023_s07_02_11.py"
      ],
      "metadata": {
        "id": "-If9K0ChZLp-"
      },
      "execution_count": null,
      "outputs": []
    },
    {
      "cell_type": "code",
      "source": [
        "# Run this cell to execute the script.\n",
        "\n",
        "!python3.10 ai2023_s07_02_11.py"
      ],
      "metadata": {
        "id": "dZpZbhFBZLp_"
      },
      "execution_count": null,
      "outputs": []
    },
    {
      "cell_type": "markdown",
      "source": [
        "# Practice s07-34"
      ],
      "metadata": {
        "id": "R3-nzrQ_ZLp_"
      }
    },
    {
      "cell_type": "code",
      "source": [
        "# Write your code in this cell.\n",
        "\n",
        "\n",
        "\n",
        "\n"
      ],
      "metadata": {
        "id": "O103awVtZLqA"
      },
      "execution_count": null,
      "outputs": []
    },
    {
      "cell_type": "markdown",
      "source": [
        "# Sample script \"ai2023_s07_02_12.py\""
      ],
      "metadata": {
        "id": "qJ8PR4NSZQU8"
      }
    },
    {
      "cell_type": "code",
      "source": [
        "# Run this cell to show the source code of the script.\n",
        "\n",
        "!cat ai2023_s07_02_12.py"
      ],
      "metadata": {
        "id": "nuwmmI5JZQU9"
      },
      "execution_count": null,
      "outputs": []
    },
    {
      "cell_type": "code",
      "source": [
        "# Run this cell to execute the script.\n",
        "\n",
        "!python3.10 ai2023_s07_02_12.py"
      ],
      "metadata": {
        "id": "BGCvaqLZZQU9"
      },
      "execution_count": null,
      "outputs": []
    },
    {
      "cell_type": "markdown",
      "source": [
        "# Practice s07-35"
      ],
      "metadata": {
        "id": "hK1DtCGkZQU-"
      }
    },
    {
      "cell_type": "code",
      "source": [
        "# Write your code in this cell.\n",
        "\n",
        "\n",
        "\n",
        "\n"
      ],
      "metadata": {
        "id": "HaYkamqBZQU-"
      },
      "execution_count": null,
      "outputs": []
    },
    {
      "cell_type": "markdown",
      "source": [
        "# Sample script \"ai2023_s07_02_13.py\""
      ],
      "metadata": {
        "id": "Pc1M1dDdZV2a"
      }
    },
    {
      "cell_type": "code",
      "source": [
        "# Run this cell to show the source code of the script.\n",
        "\n",
        "!cat ai2023_s07_02_13.py"
      ],
      "metadata": {
        "id": "UGJ0rXEjZV2g"
      },
      "execution_count": null,
      "outputs": []
    },
    {
      "cell_type": "code",
      "source": [
        "# Run this cell to execute the script.\n",
        "\n",
        "!python3.10 ai2023_s07_02_13.py"
      ],
      "metadata": {
        "id": "Isj8R1fvZV2i"
      },
      "execution_count": null,
      "outputs": []
    },
    {
      "cell_type": "markdown",
      "source": [
        "# Practice s07-36"
      ],
      "metadata": {
        "id": "Qc6A95vcZV2k"
      }
    },
    {
      "cell_type": "code",
      "source": [
        "# Write your code in this cell.\n",
        "\n",
        "\n",
        "\n",
        "\n"
      ],
      "metadata": {
        "id": "TQXuZLkGZV2l"
      },
      "execution_count": null,
      "outputs": []
    },
    {
      "cell_type": "markdown",
      "source": [
        "# Sample script \"ai2023_s07_02_14.py\""
      ],
      "metadata": {
        "id": "MKrKuoysZbJM"
      }
    },
    {
      "cell_type": "code",
      "source": [
        "# Run this cell to show the source code of the script.\n",
        "\n",
        "!cat ai2023_s07_02_14.py"
      ],
      "metadata": {
        "id": "YNuT0CCFZbJO"
      },
      "execution_count": null,
      "outputs": []
    },
    {
      "cell_type": "code",
      "source": [
        "# Run this cell to execute the script.\n",
        "\n",
        "!python3.10 ai2023_s07_02_14.py"
      ],
      "metadata": {
        "id": "owRkC72MZbJQ"
      },
      "execution_count": null,
      "outputs": []
    },
    {
      "cell_type": "markdown",
      "source": [
        "# Practice s07-37"
      ],
      "metadata": {
        "id": "csIXIuboZbJR"
      }
    },
    {
      "cell_type": "code",
      "source": [
        "# Write your code in this cell.\n",
        "\n",
        "\n",
        "\n",
        "\n"
      ],
      "metadata": {
        "id": "_i5c86xUZbJS"
      },
      "execution_count": null,
      "outputs": []
    },
    {
      "cell_type": "markdown",
      "source": [
        "# Sample script \"ai2023_s07_03_00.py\""
      ],
      "metadata": {
        "id": "7gR2smb9ZhnM"
      }
    },
    {
      "cell_type": "code",
      "source": [
        "# Run this cell to show the source code of the script.\n",
        "\n",
        "!cat ai2023_s07_03_00.py"
      ],
      "metadata": {
        "id": "0ijBG9-1ZhnP"
      },
      "execution_count": null,
      "outputs": []
    },
    {
      "cell_type": "code",
      "source": [
        "# Run this cell to execute the script.\n",
        "\n",
        "!python3.10 ai2023_s07_03_00.py"
      ],
      "metadata": {
        "id": "SdoHn2ZKZhnP"
      },
      "execution_count": null,
      "outputs": []
    },
    {
      "cell_type": "markdown",
      "source": [
        "# Practice s07-38"
      ],
      "metadata": {
        "id": "dO5RtAKVZhnQ"
      }
    },
    {
      "cell_type": "code",
      "source": [
        "# Write your code in this cell.\n",
        "\n",
        "\n",
        "\n",
        "\n"
      ],
      "metadata": {
        "id": "w9fBUWwhZhnQ"
      },
      "execution_count": null,
      "outputs": []
    },
    {
      "cell_type": "markdown",
      "source": [
        "# Sample script \"ai2023_s07_03_01.py\""
      ],
      "metadata": {
        "id": "yGhXwS7SZn8B"
      }
    },
    {
      "cell_type": "code",
      "source": [
        "# Run this cell to show the source code of the script.\n",
        "\n",
        "!cat ai2023_s07_03_01.py"
      ],
      "metadata": {
        "id": "cLAroJmiZn8G"
      },
      "execution_count": null,
      "outputs": []
    },
    {
      "cell_type": "code",
      "source": [
        "# Run this cell to execute the script.\n",
        "\n",
        "!python3.10 ai2023_s07_03_01.py"
      ],
      "metadata": {
        "id": "vYr5WRl0Zn8H"
      },
      "execution_count": null,
      "outputs": []
    },
    {
      "cell_type": "markdown",
      "source": [
        "# Practice s07-39"
      ],
      "metadata": {
        "id": "MfqrQXQmZn8I"
      }
    },
    {
      "cell_type": "code",
      "source": [
        "# Write your code in this cell.\n",
        "\n",
        "\n",
        "\n",
        "\n"
      ],
      "metadata": {
        "id": "zxJsdMfLZn8I"
      },
      "execution_count": null,
      "outputs": []
    },
    {
      "cell_type": "markdown",
      "source": [
        "# Sample script \"ai2023_s07_03_02.py\""
      ],
      "metadata": {
        "id": "kyP3px9HZudC"
      }
    },
    {
      "cell_type": "code",
      "source": [
        "# Run this cell to show the source code of the script.\n",
        "\n",
        "!cat ai2023_s07_03_02.py"
      ],
      "metadata": {
        "id": "trE0W05BZudF"
      },
      "execution_count": null,
      "outputs": []
    },
    {
      "cell_type": "code",
      "source": [
        "# Run this cell to execute the script.\n",
        "\n",
        "!python3.10 ai2023_s07_03_02.py"
      ],
      "metadata": {
        "id": "OuVW05MrZudG"
      },
      "execution_count": null,
      "outputs": []
    },
    {
      "cell_type": "markdown",
      "source": [
        "# Sample script \"ai2023_s07_03_03.py\""
      ],
      "metadata": {
        "id": "pz9dsIZ7Zv8f"
      }
    },
    {
      "cell_type": "code",
      "source": [
        "# Run this cell to show the source code of the script.\n",
        "\n",
        "!cat ai2023_s07_03_03.py"
      ],
      "metadata": {
        "id": "hw71865qZv8k"
      },
      "execution_count": null,
      "outputs": []
    },
    {
      "cell_type": "code",
      "source": [
        "# Run this cell to execute the script.\n",
        "\n",
        "!python3.10 ai2023_s07_03_03.py"
      ],
      "metadata": {
        "id": "3z6J424OZv8l"
      },
      "execution_count": null,
      "outputs": []
    },
    {
      "cell_type": "markdown",
      "source": [
        "# Practice s07-40"
      ],
      "metadata": {
        "id": "c5c0OSSYZudH"
      }
    },
    {
      "cell_type": "code",
      "source": [
        "# Write your code in this cell.\n",
        "\n",
        "\n",
        "\n",
        "\n"
      ],
      "metadata": {
        "id": "xVf-E2mBZudI"
      },
      "execution_count": null,
      "outputs": []
    },
    {
      "cell_type": "markdown",
      "source": [
        "# Sample script \"ai2023_s07_03_04.py\""
      ],
      "metadata": {
        "id": "bf0WXKksZ4v9"
      }
    },
    {
      "cell_type": "code",
      "source": [
        "# Run this cell to show the source code of the script.\n",
        "\n",
        "!cat ai2023_s07_03_04.py"
      ],
      "metadata": {
        "id": "t6KVZ_agZ4wD"
      },
      "execution_count": null,
      "outputs": []
    },
    {
      "cell_type": "code",
      "source": [
        "# Run this cell to execute the script.\n",
        "\n",
        "!python3.10 ai2023_s07_03_04.py"
      ],
      "metadata": {
        "id": "aPHaiXGNZ4wE"
      },
      "execution_count": null,
      "outputs": []
    },
    {
      "cell_type": "markdown",
      "source": [
        "# Practice s07-41"
      ],
      "metadata": {
        "id": "x9X7YPM-Z4wF"
      }
    },
    {
      "cell_type": "code",
      "source": [
        "# Write your code in this cell.\n",
        "\n",
        "\n",
        "\n",
        "\n"
      ],
      "metadata": {
        "id": "6H1kGb7IZ4wG"
      },
      "execution_count": null,
      "outputs": []
    },
    {
      "cell_type": "markdown",
      "source": [
        "# Sample script \"ai2023_s07_03_05.py\""
      ],
      "metadata": {
        "id": "5TxzZPpGZ-UO"
      }
    },
    {
      "cell_type": "code",
      "source": [
        "# Run this cell to show the source code of the script.\n",
        "\n",
        "!cat ai2023_s07_03_05.py"
      ],
      "metadata": {
        "id": "nuIYTUezZ-UP"
      },
      "execution_count": null,
      "outputs": []
    },
    {
      "cell_type": "code",
      "source": [
        "# Run this cell to execute the script.\n",
        "\n",
        "!python3.10 ai2023_s07_03_05.py"
      ],
      "metadata": {
        "id": "kh3aRaZCZ-UQ"
      },
      "execution_count": null,
      "outputs": []
    },
    {
      "cell_type": "markdown",
      "source": [
        "# Practice s07-42"
      ],
      "metadata": {
        "id": "sCcE_0hgZ-US"
      }
    },
    {
      "cell_type": "code",
      "source": [
        "# Write your code in this cell.\n",
        "\n",
        "\n",
        "\n",
        "\n"
      ],
      "metadata": {
        "id": "FDKKc2MMZ-US"
      },
      "execution_count": null,
      "outputs": []
    },
    {
      "cell_type": "markdown",
      "source": [
        "# Sample script \"ai2023_s07_03_06.py\""
      ],
      "metadata": {
        "id": "PQzYu51BaFD5"
      }
    },
    {
      "cell_type": "code",
      "source": [
        "# Run this cell to show the source code of the script.\n",
        "\n",
        "!cat ai2023_s07_03_06.py"
      ],
      "metadata": {
        "id": "tNicgDlhaFEB"
      },
      "execution_count": null,
      "outputs": []
    },
    {
      "cell_type": "code",
      "source": [
        "# Run this cell to execute the script.\n",
        "\n",
        "!python3.10 ai2023_s07_03_06.py"
      ],
      "metadata": {
        "id": "9AEBCG5GaFEC"
      },
      "execution_count": null,
      "outputs": []
    },
    {
      "cell_type": "markdown",
      "source": [
        "# Practice s07-43"
      ],
      "metadata": {
        "id": "nAkvaX3OaFED"
      }
    },
    {
      "cell_type": "code",
      "source": [
        "# Write your code in this cell.\n",
        "\n",
        "\n",
        "\n",
        "\n"
      ],
      "metadata": {
        "id": "Os9FaZWkaFEE"
      },
      "execution_count": null,
      "outputs": []
    },
    {
      "cell_type": "markdown",
      "source": [
        "# Sample script \"ai2023_s07_03_07.py\""
      ],
      "metadata": {
        "id": "ulnEPSwraKBs"
      }
    },
    {
      "cell_type": "code",
      "source": [
        "# Run this cell to show the source code of the script.\n",
        "\n",
        "!cat ai2023_s07_03_07.py"
      ],
      "metadata": {
        "id": "JpQHxa__aKBu"
      },
      "execution_count": null,
      "outputs": []
    },
    {
      "cell_type": "code",
      "source": [
        "# Run this cell to execute the script.\n",
        "\n",
        "!python3.10 ai2023_s07_03_07.py"
      ],
      "metadata": {
        "id": "EKUxIFJSaKBv"
      },
      "execution_count": null,
      "outputs": []
    },
    {
      "cell_type": "markdown",
      "source": [
        "# Practice s07-44"
      ],
      "metadata": {
        "id": "i5dyb_E3aKBv"
      }
    },
    {
      "cell_type": "code",
      "source": [
        "# Write your code in this cell.\n",
        "\n",
        "\n",
        "\n",
        "\n"
      ],
      "metadata": {
        "id": "wb021GPMaKBw"
      },
      "execution_count": null,
      "outputs": []
    },
    {
      "cell_type": "markdown",
      "source": [
        "# Sample script \"ai2023_s07_03_08.py\""
      ],
      "metadata": {
        "id": "ojtexigyaQ3G"
      }
    },
    {
      "cell_type": "code",
      "source": [
        "# Run this cell to show the source code of the script.\n",
        "\n",
        "!cat ai2023_s07_03_08.py"
      ],
      "metadata": {
        "id": "id5NkUG8aQ3I"
      },
      "execution_count": null,
      "outputs": []
    },
    {
      "cell_type": "code",
      "source": [
        "# Run this cell to execute the script.\n",
        "\n",
        "!python3.10 ai2023_s07_03_08.py"
      ],
      "metadata": {
        "id": "nnTkTw4WaQ3J"
      },
      "execution_count": null,
      "outputs": []
    },
    {
      "cell_type": "markdown",
      "source": [
        "# Practice s07-45"
      ],
      "metadata": {
        "id": "7BNK23l2aQ3K"
      }
    },
    {
      "cell_type": "code",
      "source": [
        "# Write your code in this cell.\n",
        "\n",
        "\n",
        "\n",
        "\n"
      ],
      "metadata": {
        "id": "jdvviTdJaQ3L"
      },
      "execution_count": null,
      "outputs": []
    },
    {
      "cell_type": "markdown",
      "source": [
        "# Sample script \"ai2023_s07_03_09.py\""
      ],
      "metadata": {
        "id": "Cd83peMFaWMC"
      }
    },
    {
      "cell_type": "code",
      "source": [
        "# Run this cell to show the source code of the script.\n",
        "\n",
        "!cat ai2023_s07_03_09.py"
      ],
      "metadata": {
        "id": "sugY7EbMaWMD"
      },
      "execution_count": null,
      "outputs": []
    },
    {
      "cell_type": "code",
      "source": [
        "# Run this cell to execute the script.\n",
        "\n",
        "!python3.10 ai2023_s07_03_09.py"
      ],
      "metadata": {
        "id": "BEj-5LsRaWMH"
      },
      "execution_count": null,
      "outputs": []
    },
    {
      "cell_type": "markdown",
      "source": [
        "# Practice s07-46"
      ],
      "metadata": {
        "id": "O9wrWE1waWMJ"
      }
    },
    {
      "cell_type": "code",
      "source": [
        "# Write your code in this cell.\n",
        "\n",
        "\n",
        "\n",
        "\n"
      ],
      "metadata": {
        "id": "PDLHebfeaWML"
      },
      "execution_count": null,
      "outputs": []
    },
    {
      "cell_type": "markdown",
      "source": [
        "# Sample script \"ai2023_s07_04_00.py\""
      ],
      "metadata": {
        "id": "H7mddjFdacxJ"
      }
    },
    {
      "cell_type": "code",
      "source": [
        "# Run this cell to show the source code of the script.\n",
        "\n",
        "!cat ai2023_s07_04_00.py"
      ],
      "metadata": {
        "id": "wRMKrDLSacxL"
      },
      "execution_count": null,
      "outputs": []
    },
    {
      "cell_type": "code",
      "source": [
        "# Run this cell to execute the script.\n",
        "\n",
        "!python3.10 ai2023_s07_04_00.py"
      ],
      "metadata": {
        "id": "VCT52WYHacxM"
      },
      "execution_count": null,
      "outputs": []
    },
    {
      "cell_type": "markdown",
      "source": [
        "# Practice s07-47"
      ],
      "metadata": {
        "id": "cnNu07BJacxN"
      }
    },
    {
      "cell_type": "code",
      "source": [
        "# Write your code in this cell.\n",
        "\n",
        "\n",
        "\n",
        "\n"
      ],
      "metadata": {
        "id": "7GtsC1d_acxO"
      },
      "execution_count": null,
      "outputs": []
    },
    {
      "cell_type": "markdown",
      "source": [
        "# Sample script \"ai2023_s07_04_01.py\""
      ],
      "metadata": {
        "id": "P_ATjuXtais7"
      }
    },
    {
      "cell_type": "code",
      "source": [
        "# Run this cell to show the source code of the script.\n",
        "\n",
        "!cat ai2023_s07_04_01.py"
      ],
      "metadata": {
        "id": "3gxN9NSdaitC"
      },
      "execution_count": null,
      "outputs": []
    },
    {
      "cell_type": "code",
      "source": [
        "# Run this cell to execute the script.\n",
        "\n",
        "!python3.10 ai2023_s07_04_01.py"
      ],
      "metadata": {
        "id": "6nhMl7QJaitE"
      },
      "execution_count": null,
      "outputs": []
    },
    {
      "cell_type": "markdown",
      "source": [
        "# Practice s07-48"
      ],
      "metadata": {
        "id": "cnUckxJ4aitF"
      }
    },
    {
      "cell_type": "code",
      "source": [
        "# Write your code in this cell.\n",
        "\n",
        "\n",
        "\n",
        "\n"
      ],
      "metadata": {
        "id": "ZWA6fMLMaitF"
      },
      "execution_count": null,
      "outputs": []
    },
    {
      "cell_type": "markdown",
      "source": [
        "# Sample script \"ai2023_s07_04_02.py\""
      ],
      "metadata": {
        "id": "OKNZC6e3an_X"
      }
    },
    {
      "cell_type": "code",
      "source": [
        "# Run this cell to show the source code of the script.\n",
        "\n",
        "!cat ai2023_s07_04_02.py"
      ],
      "metadata": {
        "id": "lZlDeR1_an_Y"
      },
      "execution_count": null,
      "outputs": []
    },
    {
      "cell_type": "code",
      "source": [
        "# Run this cell to execute the script.\n",
        "\n",
        "!python3.10 ai2023_s07_04_02.py"
      ],
      "metadata": {
        "id": "xYLUC_KLan_Z"
      },
      "execution_count": null,
      "outputs": []
    },
    {
      "cell_type": "markdown",
      "source": [
        "# Practice s07-49"
      ],
      "metadata": {
        "id": "75T7N0ctan_Z"
      }
    },
    {
      "cell_type": "code",
      "source": [
        "# Write your code in this cell.\n",
        "\n",
        "\n",
        "\n",
        "\n"
      ],
      "metadata": {
        "id": "A-rDCuZean_a"
      },
      "execution_count": null,
      "outputs": []
    },
    {
      "cell_type": "markdown",
      "source": [
        "# Sample script \"ai2023_s07_04_03.py\""
      ],
      "metadata": {
        "id": "5V8myJwBas2P"
      }
    },
    {
      "cell_type": "code",
      "source": [
        "# Run this cell to show the source code of the script.\n",
        "\n",
        "!cat ai2023_s07_04_03.py"
      ],
      "metadata": {
        "id": "bXwjCP4Zas2R"
      },
      "execution_count": null,
      "outputs": []
    },
    {
      "cell_type": "code",
      "source": [
        "# Run this cell to execute the script.\n",
        "\n",
        "!python3.10 ai2023_s07_04_03.py"
      ],
      "metadata": {
        "id": "QcOQYfC0as2S"
      },
      "execution_count": null,
      "outputs": []
    },
    {
      "cell_type": "markdown",
      "source": [
        "# Practice s07-50"
      ],
      "metadata": {
        "id": "uv7RCOlLas2T"
      }
    },
    {
      "cell_type": "code",
      "source": [
        "# Write your code in this cell.\n",
        "\n",
        "\n",
        "\n",
        "\n"
      ],
      "metadata": {
        "id": "rNWPF4hCas2U"
      },
      "execution_count": null,
      "outputs": []
    },
    {
      "cell_type": "markdown",
      "source": [
        "# Sample script \"ai2023_s07_04_04.py\""
      ],
      "metadata": {
        "id": "VujONXIIayiX"
      }
    },
    {
      "cell_type": "code",
      "source": [
        "# Run this cell to show the source code of the script.\n",
        "\n",
        "!cat ai2023_s07_04_04.py"
      ],
      "metadata": {
        "id": "4E_a_Q_Zayij"
      },
      "execution_count": null,
      "outputs": []
    },
    {
      "cell_type": "code",
      "source": [
        "# Run this cell to execute the script.\n",
        "\n",
        "!python3.10 ai2023_s07_04_04.py"
      ],
      "metadata": {
        "id": "DBjCI80-ayim"
      },
      "execution_count": null,
      "outputs": []
    },
    {
      "cell_type": "markdown",
      "source": [
        "# Practice s07-51"
      ],
      "metadata": {
        "id": "DJjnJqreayio"
      }
    },
    {
      "cell_type": "code",
      "source": [
        "# Write your code in this cell.\n",
        "\n",
        "\n",
        "\n",
        "\n"
      ],
      "metadata": {
        "id": "bR02RV3Dayiq"
      },
      "execution_count": null,
      "outputs": []
    },
    {
      "cell_type": "markdown",
      "source": [
        "# Sample script \"ai2023_s07_04_05.py\""
      ],
      "metadata": {
        "id": "PDgH3x2Ja3B3"
      }
    },
    {
      "cell_type": "code",
      "source": [
        "# Run this cell to show the source code of the script.\n",
        "\n",
        "!cat ai2023_s07_04_05.py"
      ],
      "metadata": {
        "id": "H313mAeRa3B5"
      },
      "execution_count": null,
      "outputs": []
    },
    {
      "cell_type": "code",
      "source": [
        "# Run this cell to execute the script.\n",
        "\n",
        "!python3.10 ai2023_s07_04_05.py"
      ],
      "metadata": {
        "id": "2QsKhlNza3B5"
      },
      "execution_count": null,
      "outputs": []
    },
    {
      "cell_type": "markdown",
      "source": [
        "# Practice s07-52"
      ],
      "metadata": {
        "id": "02Ok7Jc_a3B6"
      }
    },
    {
      "cell_type": "code",
      "source": [
        "# Write your code in this cell.\n",
        "\n",
        "\n",
        "\n",
        "\n"
      ],
      "metadata": {
        "id": "8ia61ZL9a3B6"
      },
      "execution_count": null,
      "outputs": []
    },
    {
      "cell_type": "markdown",
      "source": [
        "# Sample script \"ai2023_s07_04_06.py\""
      ],
      "metadata": {
        "id": "lzUZMcIGa7-0"
      }
    },
    {
      "cell_type": "code",
      "source": [
        "# Run this cell to show the source code of the script.\n",
        "\n",
        "!cat ai2023_s07_04_06.py"
      ],
      "metadata": {
        "id": "7yZBGogNa7-3"
      },
      "execution_count": null,
      "outputs": []
    },
    {
      "cell_type": "code",
      "source": [
        "# Run this cell to execute the script.\n",
        "\n",
        "!python3.10 ai2023_s07_04_06.py"
      ],
      "metadata": {
        "id": "lYKv-cKSa7-4"
      },
      "execution_count": null,
      "outputs": []
    },
    {
      "cell_type": "markdown",
      "source": [
        "# Practice s07-53"
      ],
      "metadata": {
        "id": "NZFpkhEia7-5"
      }
    },
    {
      "cell_type": "code",
      "source": [
        "# Write your code in this cell.\n",
        "\n",
        "\n",
        "\n",
        "\n"
      ],
      "metadata": {
        "id": "Gb48zSK-a7-6"
      },
      "execution_count": null,
      "outputs": []
    },
    {
      "cell_type": "markdown",
      "source": [
        "# Sample script \"ai2023_s07_04_07.py\""
      ],
      "metadata": {
        "id": "UiZpxKjJbA57"
      }
    },
    {
      "cell_type": "code",
      "source": [
        "# Run this cell to show the source code of the script.\n",
        "\n",
        "!cat ai2023_s07_04_07.py"
      ],
      "metadata": {
        "id": "UfhIi66VbA59"
      },
      "execution_count": null,
      "outputs": []
    },
    {
      "cell_type": "code",
      "source": [
        "# Run this cell to execute the script.\n",
        "\n",
        "!python3.10 ai2023_s07_04_07.py"
      ],
      "metadata": {
        "id": "LvZpwPjHbA5-"
      },
      "execution_count": null,
      "outputs": []
    },
    {
      "cell_type": "markdown",
      "source": [
        "# Practice s07-54"
      ],
      "metadata": {
        "id": "I9BK9hc8bA6B"
      }
    },
    {
      "cell_type": "code",
      "source": [
        "# Write your code in this cell.\n",
        "\n",
        "\n",
        "\n",
        "\n"
      ],
      "metadata": {
        "id": "XaUV3NJHbA6C"
      },
      "execution_count": null,
      "outputs": []
    },
    {
      "cell_type": "markdown",
      "source": [
        "# Sample script \"ai2023_s07_04_08.py\""
      ],
      "metadata": {
        "id": "d5zrrVpLbF0R"
      }
    },
    {
      "cell_type": "code",
      "source": [
        "# Run this cell to show the source code of the script.\n",
        "\n",
        "!cat ai2023_s07_04_08.py"
      ],
      "metadata": {
        "id": "jqNCqJSxbF0S"
      },
      "execution_count": null,
      "outputs": []
    },
    {
      "cell_type": "code",
      "source": [
        "# Run this cell to execute the script.\n",
        "\n",
        "!python3.10 ai2023_s07_04_08.py"
      ],
      "metadata": {
        "id": "LhuJD9lXbF0U"
      },
      "execution_count": null,
      "outputs": []
    },
    {
      "cell_type": "markdown",
      "source": [
        "# Practice s07-55"
      ],
      "metadata": {
        "id": "2lQAx3wkbF0V"
      }
    },
    {
      "cell_type": "code",
      "source": [
        "# Write your code in this cell.\n",
        "\n",
        "\n",
        "\n",
        "\n"
      ],
      "metadata": {
        "id": "ND4MLROSbF0W"
      },
      "execution_count": null,
      "outputs": []
    },
    {
      "cell_type": "markdown",
      "source": [
        "# Sample script \"ai2023_s07_04_09.py\""
      ],
      "metadata": {
        "id": "p8Abv6lqbLKs"
      }
    },
    {
      "cell_type": "code",
      "source": [
        "# Run this cell to show the source code of the script.\n",
        "\n",
        "!cat ai2023_s07_04_09.py"
      ],
      "metadata": {
        "id": "Jb-dlOuCbLKt"
      },
      "execution_count": null,
      "outputs": []
    },
    {
      "cell_type": "code",
      "source": [
        "# Run this cell to execute the script.\n",
        "\n",
        "!python3.10 ai2023_s07_04_09.py"
      ],
      "metadata": {
        "id": "662kg565bLKu"
      },
      "execution_count": null,
      "outputs": []
    },
    {
      "cell_type": "markdown",
      "source": [
        "# Practice s07-56"
      ],
      "metadata": {
        "id": "hWwwCTOkbLKx"
      }
    },
    {
      "cell_type": "code",
      "source": [
        "# Write your code in this cell.\n",
        "\n",
        "\n",
        "\n",
        "\n"
      ],
      "metadata": {
        "id": "WumKch7gbLKy"
      },
      "execution_count": null,
      "outputs": []
    },
    {
      "cell_type": "markdown",
      "source": [
        "# Sample script \"ai2023_s07_04_10.py\""
      ],
      "metadata": {
        "id": "7tC4Jq3ibQkJ"
      }
    },
    {
      "cell_type": "code",
      "source": [
        "# Run this cell to show the source code of the script.\n",
        "\n",
        "!cat ai2023_s07_04_10.py"
      ],
      "metadata": {
        "id": "OBeBV0IubQkR"
      },
      "execution_count": null,
      "outputs": []
    },
    {
      "cell_type": "code",
      "source": [
        "# Run this cell to execute the script.\n",
        "\n",
        "!python3.10 ai2023_s07_04_10.py"
      ],
      "metadata": {
        "id": "7HKpM01CbQkS"
      },
      "execution_count": null,
      "outputs": []
    },
    {
      "cell_type": "markdown",
      "source": [
        "# Practice s07-57"
      ],
      "metadata": {
        "id": "76aKuDtPbQkT"
      }
    },
    {
      "cell_type": "code",
      "source": [
        "# Write your code in this cell.\n",
        "\n",
        "\n",
        "\n",
        "\n"
      ],
      "metadata": {
        "id": "qqK4THnIbQkT"
      },
      "execution_count": null,
      "outputs": []
    },
    {
      "cell_type": "markdown",
      "source": [
        "# Sample script \"ai2023_s07_05_00.py\""
      ],
      "metadata": {
        "id": "YQIC4JRpbXKW"
      }
    },
    {
      "cell_type": "code",
      "source": [
        "# Run this cell to show the source code of the script.\n",
        "\n",
        "!cat ai2023_s07_05_00.py"
      ],
      "metadata": {
        "id": "DoGxdCAqbXKg"
      },
      "execution_count": null,
      "outputs": []
    },
    {
      "cell_type": "code",
      "source": [
        "# Run this cell to execute the script.\n",
        "\n",
        "!python3.10 ai2023_s07_05_00.py"
      ],
      "metadata": {
        "id": "GMe7OS2BbXKi"
      },
      "execution_count": null,
      "outputs": []
    },
    {
      "cell_type": "markdown",
      "source": [
        "# Practice s07-58"
      ],
      "metadata": {
        "id": "O4HflE37bXKl"
      }
    },
    {
      "cell_type": "code",
      "source": [
        "# Write your code in this cell.\n",
        "\n",
        "\n",
        "\n",
        "\n"
      ],
      "metadata": {
        "id": "poOTeVIHbXKo"
      },
      "execution_count": null,
      "outputs": []
    },
    {
      "cell_type": "markdown",
      "source": [
        "# Sample script \"ai2023_s07_05_01.py\""
      ],
      "metadata": {
        "id": "l33XlxXPbdSb"
      }
    },
    {
      "cell_type": "code",
      "source": [
        "# Run this cell to show the source code of the script.\n",
        "\n",
        "!cat ai2023_s07_05_01.py"
      ],
      "metadata": {
        "id": "rLBogzRQbdSd"
      },
      "execution_count": null,
      "outputs": []
    },
    {
      "cell_type": "code",
      "source": [
        "# Run this cell to execute the script.\n",
        "\n",
        "!python3.10 ai2023_s07_05_01.py"
      ],
      "metadata": {
        "id": "PReR3JNzbdSe"
      },
      "execution_count": null,
      "outputs": []
    },
    {
      "cell_type": "markdown",
      "source": [
        "# Practice s07-59"
      ],
      "metadata": {
        "id": "dyGYgGGGbdSe"
      }
    },
    {
      "cell_type": "code",
      "source": [
        "# Write your code in this cell.\n",
        "\n",
        "\n",
        "\n",
        "\n"
      ],
      "metadata": {
        "id": "BRignh39bdSf"
      },
      "execution_count": null,
      "outputs": []
    },
    {
      "cell_type": "markdown",
      "source": [
        "# Sample script \"ai2023_s07_05_02.py\""
      ],
      "metadata": {
        "id": "_KUSk0vEbill"
      }
    },
    {
      "cell_type": "code",
      "source": [
        "# Run this cell to show the source code of the script.\n",
        "\n",
        "!cat ai2023_s07_05_02.py"
      ],
      "metadata": {
        "id": "6zzdHdt4bilo"
      },
      "execution_count": null,
      "outputs": []
    },
    {
      "cell_type": "code",
      "source": [
        "# Run this cell to execute the script.\n",
        "\n",
        "!python3.10 ai2023_s07_05_02.py"
      ],
      "metadata": {
        "id": "s0OFvT4sbilq"
      },
      "execution_count": null,
      "outputs": []
    },
    {
      "cell_type": "markdown",
      "source": [
        "# Practice s07-60"
      ],
      "metadata": {
        "id": "bL825TVwbilr"
      }
    },
    {
      "cell_type": "code",
      "source": [
        "# Write your code in this cell.\n",
        "\n",
        "\n",
        "\n",
        "\n"
      ],
      "metadata": {
        "id": "0Ht_kAaMbilr"
      },
      "execution_count": null,
      "outputs": []
    },
    {
      "cell_type": "markdown",
      "source": [
        "# Sample script \"ai2023_s07_05_03.py\""
      ],
      "metadata": {
        "id": "NMityOxhbott"
      }
    },
    {
      "cell_type": "code",
      "source": [
        "# Run this cell to show the source code of the script.\n",
        "\n",
        "!cat ai2023_s07_05_03.py"
      ],
      "metadata": {
        "id": "nadeWVJsbotv"
      },
      "execution_count": null,
      "outputs": []
    },
    {
      "cell_type": "code",
      "source": [
        "# Run this cell to execute the script.\n",
        "\n",
        "!python3.10 ai2023_s07_05_03.py"
      ],
      "metadata": {
        "id": "_CPJCJvJbotw"
      },
      "execution_count": null,
      "outputs": []
    },
    {
      "cell_type": "markdown",
      "source": [
        "# Practice s07-61"
      ],
      "metadata": {
        "id": "g5nPKpXTbotw"
      }
    },
    {
      "cell_type": "code",
      "source": [
        "# Write your code in this cell.\n",
        "\n",
        "\n",
        "\n",
        "\n"
      ],
      "metadata": {
        "id": "zt-vuAthbotx"
      },
      "execution_count": null,
      "outputs": []
    },
    {
      "cell_type": "markdown",
      "source": [
        "# Sample script \"ai2023_s07_05_04.py\""
      ],
      "metadata": {
        "id": "B8wcdd3kbt11"
      }
    },
    {
      "cell_type": "code",
      "source": [
        "# Run this cell to show the source code of the script.\n",
        "\n",
        "!cat ai2023_s07_05_04.py"
      ],
      "metadata": {
        "id": "heOn52Zubt12"
      },
      "execution_count": null,
      "outputs": []
    },
    {
      "cell_type": "code",
      "source": [
        "# Run this cell to execute the script.\n",
        "\n",
        "!python3.10 ai2023_s07_05_04.py"
      ],
      "metadata": {
        "id": "oSing57Zbt13"
      },
      "execution_count": null,
      "outputs": []
    },
    {
      "cell_type": "markdown",
      "source": [
        "# Practice s07-62"
      ],
      "metadata": {
        "id": "HzX5cHMLbt14"
      }
    },
    {
      "cell_type": "code",
      "source": [
        "# Write your code in this cell.\n",
        "\n",
        "\n",
        "\n",
        "\n"
      ],
      "metadata": {
        "id": "PCNc94mlbt14"
      },
      "execution_count": null,
      "outputs": []
    },
    {
      "cell_type": "markdown",
      "source": [
        "# Sample script \"ai2023_s07_06_00.py\""
      ],
      "metadata": {
        "id": "xTh6amdLbzdw"
      }
    },
    {
      "cell_type": "code",
      "source": [
        "# Run this cell to show the source code of the script.\n",
        "\n",
        "!cat ai2023_s07_06_00.py"
      ],
      "metadata": {
        "id": "oTz4NmGtbzd4"
      },
      "execution_count": null,
      "outputs": []
    },
    {
      "cell_type": "code",
      "source": [
        "# Run this cell to execute the script.\n",
        "\n",
        "!python3.10 ai2023_s07_06_00.py"
      ],
      "metadata": {
        "id": "0HunCv0Ebzd7"
      },
      "execution_count": null,
      "outputs": []
    },
    {
      "cell_type": "markdown",
      "source": [
        "# Practice s07-63"
      ],
      "metadata": {
        "id": "cIRl_fuobzd-"
      }
    },
    {
      "cell_type": "code",
      "source": [
        "# Write your code in this cell.\n",
        "\n",
        "\n",
        "\n",
        "\n"
      ],
      "metadata": {
        "id": "JVU-yqs6bzeA"
      },
      "execution_count": null,
      "outputs": []
    },
    {
      "cell_type": "markdown",
      "source": [
        "# Sample script \"ai2023_s07_06_01.py\""
      ],
      "metadata": {
        "id": "UodQJKCCb6oZ"
      }
    },
    {
      "cell_type": "code",
      "source": [
        "# Run this cell to show the source code of the script.\n",
        "\n",
        "!cat ai2023_s07_06_01.py"
      ],
      "metadata": {
        "id": "GKk5a4Mkb6ob"
      },
      "execution_count": null,
      "outputs": []
    },
    {
      "cell_type": "code",
      "source": [
        "# Run this cell to execute the script.\n",
        "\n",
        "!python3.10 ai2023_s07_06_01.py"
      ],
      "metadata": {
        "id": "PTYjYcMtb6oc"
      },
      "execution_count": null,
      "outputs": []
    },
    {
      "cell_type": "markdown",
      "source": [
        "# Practice s07-64"
      ],
      "metadata": {
        "id": "HpGfj8QPb6od"
      }
    },
    {
      "cell_type": "code",
      "source": [
        "# Write your code in this cell.\n",
        "\n",
        "\n",
        "\n",
        "\n"
      ],
      "metadata": {
        "id": "mT-6Y0uub6oe"
      },
      "execution_count": null,
      "outputs": []
    },
    {
      "cell_type": "markdown",
      "source": [
        "# Sample script \"ai2023_s07_06_02.py\""
      ],
      "metadata": {
        "id": "INTkdxOab_xU"
      }
    },
    {
      "cell_type": "code",
      "source": [
        "# Run this cell to show the source code of the script.\n",
        "\n",
        "!cat ai2023_s07_06_02.py"
      ],
      "metadata": {
        "id": "VPZPh3Yyb_xc"
      },
      "execution_count": null,
      "outputs": []
    },
    {
      "cell_type": "code",
      "source": [
        "# Run this cell to execute the script.\n",
        "\n",
        "!python3.10 ai2023_s07_06_02.py"
      ],
      "metadata": {
        "id": "L9gwHlw_b_xe"
      },
      "execution_count": null,
      "outputs": []
    },
    {
      "cell_type": "markdown",
      "source": [
        "# Practice s07-65"
      ],
      "metadata": {
        "id": "ylXVydLkb_xg"
      }
    },
    {
      "cell_type": "code",
      "source": [
        "# Write your code in this cell.\n",
        "\n",
        "\n",
        "\n",
        "\n"
      ],
      "metadata": {
        "id": "IBJrUe2mb_xj"
      },
      "execution_count": null,
      "outputs": []
    },
    {
      "cell_type": "markdown",
      "source": [
        "# Sample script \"ai2023_s07_06_03.py\""
      ],
      "metadata": {
        "id": "V85kFUuLcHI6"
      }
    },
    {
      "cell_type": "code",
      "source": [
        "# Run this cell to show the source code of the script.\n",
        "\n",
        "!cat ai2023_s07_06_03.py"
      ],
      "metadata": {
        "id": "tsRuzs7RcHI8"
      },
      "execution_count": null,
      "outputs": []
    },
    {
      "cell_type": "code",
      "source": [
        "# Run this cell to execute the script.\n",
        "\n",
        "!python3.10 ai2023_s07_06_03.py"
      ],
      "metadata": {
        "id": "x6qkaO8QcHI-"
      },
      "execution_count": null,
      "outputs": []
    },
    {
      "cell_type": "markdown",
      "source": [
        "# Practice s07-66"
      ],
      "metadata": {
        "id": "YuzQyoZecHI-"
      }
    },
    {
      "cell_type": "code",
      "source": [
        "# Write your code in this cell.\n",
        "\n",
        "\n",
        "\n",
        "\n"
      ],
      "metadata": {
        "id": "gDMskCWAcHI_"
      },
      "execution_count": null,
      "outputs": []
    },
    {
      "cell_type": "markdown",
      "source": [
        "# Sample script \"ai2023_s07_06_04.py\""
      ],
      "metadata": {
        "id": "CSzp6pHxcOxZ"
      }
    },
    {
      "cell_type": "code",
      "source": [
        "# Run this cell to show the source code of the script.\n",
        "\n",
        "!cat ai2023_s07_06_04.py"
      ],
      "metadata": {
        "id": "KwIEPxDDcOxl"
      },
      "execution_count": null,
      "outputs": []
    },
    {
      "cell_type": "code",
      "source": [
        "# Run this cell to execute the script.\n",
        "\n",
        "!python3.10 ai2023_s07_06_04.py"
      ],
      "metadata": {
        "id": "NcmjtnIycOxo"
      },
      "execution_count": null,
      "outputs": []
    },
    {
      "cell_type": "code",
      "source": [
        "# Run this cell to display image.\n",
        "\n",
        "# importing IPython module\n",
        "import IPython.display\n",
        "\n",
        "# displaying image\n",
        "IPython.display.Image ('m3.png')"
      ],
      "metadata": {
        "id": "aOK0aZblcWq5"
      },
      "execution_count": null,
      "outputs": []
    },
    {
      "cell_type": "markdown",
      "source": [
        "# Practice s07-67"
      ],
      "metadata": {
        "id": "d8WbGRdtcOxp"
      }
    },
    {
      "cell_type": "code",
      "source": [
        "a# Write your code in this cell.\n",
        "\n",
        "\n",
        "\n",
        "\n"
      ],
      "metadata": {
        "id": "iHcqr_WNcOxq"
      },
      "execution_count": null,
      "outputs": []
    },
    {
      "cell_type": "markdown",
      "source": [
        "# Sample script \"ai2023_s07_06_05.py\""
      ],
      "metadata": {
        "id": "PiZTfi6Dc6BT"
      }
    },
    {
      "cell_type": "code",
      "source": [
        "# Run this cell to show the source code of the script.\n",
        "\n",
        "!cat ai2023_s07_06_05.py"
      ],
      "metadata": {
        "id": "HKO47zHYc6BY"
      },
      "execution_count": null,
      "outputs": []
    },
    {
      "cell_type": "code",
      "source": [
        "# Run this cell to execute the script.\n",
        "\n",
        "!python3.10 ai2023_s07_06_05.py"
      ],
      "metadata": {
        "id": "ofXAxHUdc6Ba"
      },
      "execution_count": null,
      "outputs": []
    },
    {
      "cell_type": "code",
      "source": [
        "# Run this cell to display image.\n",
        "\n",
        "# importing IPython module\n",
        "import IPython.display\n",
        "\n",
        "# displaying image\n",
        "IPython.display.Image ('m3_inferno.png')"
      ],
      "metadata": {
        "id": "yqlYBmxxc6Bb"
      },
      "execution_count": null,
      "outputs": []
    },
    {
      "cell_type": "markdown",
      "source": [
        "# Practice s07-68"
      ],
      "metadata": {
        "id": "26neGGKqc6Bb"
      }
    },
    {
      "cell_type": "code",
      "source": [
        "a# Write your code in this cell.\n",
        "\n",
        "\n",
        "\n",
        "\n"
      ],
      "metadata": {
        "id": "EK0WfK2Dc6Bd"
      },
      "execution_count": null,
      "outputs": []
    },
    {
      "cell_type": "markdown",
      "source": [
        "# Sample script \"ai2023_s07_06_06.py\""
      ],
      "metadata": {
        "id": "FsEmDwQddBqb"
      }
    },
    {
      "cell_type": "code",
      "source": [
        "# Run this cell to show the source code of the script.\n",
        "\n",
        "!cat ai2023_s07_06_06.py"
      ],
      "metadata": {
        "id": "WgQJpG3bdBqo"
      },
      "execution_count": null,
      "outputs": []
    },
    {
      "cell_type": "code",
      "source": [
        "# Run this cell to execute the script.\n",
        "\n",
        "!python3.10 ai2023_s07_06_06.py"
      ],
      "metadata": {
        "id": "rkfBbmPSdBqs"
      },
      "execution_count": null,
      "outputs": []
    },
    {
      "cell_type": "code",
      "source": [
        "# Run this cell to display image.\n",
        "\n",
        "# importing IPython module\n",
        "import IPython.display\n",
        "\n",
        "# displaying image\n",
        "IPython.display.Image ('m66.png')"
      ],
      "metadata": {
        "id": "0pz8YjPTdBqs"
      },
      "execution_count": null,
      "outputs": []
    },
    {
      "cell_type": "markdown",
      "source": [
        "# Practice s07-69"
      ],
      "metadata": {
        "id": "Ri61skmAdBqv"
      }
    },
    {
      "cell_type": "code",
      "source": [
        "a# Write your code in this cell.\n",
        "\n",
        "\n",
        "\n",
        "\n"
      ],
      "metadata": {
        "id": "kMco7ENRdBqx"
      },
      "execution_count": null,
      "outputs": []
    },
    {
      "cell_type": "markdown",
      "source": [
        "# Sample script \"ai2023_s07_06_07.py\""
      ],
      "metadata": {
        "id": "M0DUdSx-dMxW"
      }
    },
    {
      "cell_type": "code",
      "source": [
        "# Run this cell to show the source code of the script.\n",
        "\n",
        "!cat ai2023_s07_06_07.py"
      ],
      "metadata": {
        "id": "QV5lHu0AdMxa"
      },
      "execution_count": null,
      "outputs": []
    },
    {
      "cell_type": "code",
      "source": [
        "# Run this cell to execute the script.\n",
        "\n",
        "!python3.10 ai2023_s07_06_07.py"
      ],
      "metadata": {
        "id": "kUSpB06ldMxc"
      },
      "execution_count": null,
      "outputs": []
    },
    {
      "cell_type": "code",
      "source": [
        "# Run this cell to display image.\n",
        "\n",
        "# importing IPython module\n",
        "import IPython.display\n",
        "\n",
        "# displaying image\n",
        "IPython.display.Image ('m57.png')"
      ],
      "metadata": {
        "id": "iNahfMX6dMxd"
      },
      "execution_count": null,
      "outputs": []
    },
    {
      "cell_type": "markdown",
      "source": [
        "# Practice s07-70"
      ],
      "metadata": {
        "id": "Y0GHDHgWdMxd"
      }
    },
    {
      "cell_type": "code",
      "source": [
        "a# Write your code in this cell.\n",
        "\n",
        "\n",
        "\n",
        "\n"
      ],
      "metadata": {
        "id": "F2z7il5_dMxf"
      },
      "execution_count": null,
      "outputs": []
    },
    {
      "cell_type": "markdown",
      "source": [
        "# Sample script \"ai2023_s07_06_08.py\""
      ],
      "metadata": {
        "id": "_2m6COEDdVGL"
      }
    },
    {
      "cell_type": "code",
      "source": [
        "# Run this cell to show the source code of the script.\n",
        "\n",
        "!cat ai2023_s07_06_08.py"
      ],
      "metadata": {
        "id": "xfL8FQradVGM"
      },
      "execution_count": null,
      "outputs": []
    },
    {
      "cell_type": "code",
      "source": [
        "# Run this cell to execute the script.\n",
        "\n",
        "!python3.10 ai2023_s07_06_08.py"
      ],
      "metadata": {
        "id": "1sxlpku1dVGM"
      },
      "execution_count": null,
      "outputs": []
    },
    {
      "cell_type": "code",
      "source": [
        "# Run this cell to display image.\n",
        "\n",
        "# importing IPython module\n",
        "import IPython.display\n",
        "\n",
        "# displaying image\n",
        "IPython.display.Image ('m57_norm1.png')"
      ],
      "metadata": {
        "id": "S5sssSrMdVGN"
      },
      "execution_count": null,
      "outputs": []
    },
    {
      "cell_type": "markdown",
      "source": [
        "# Practice s07-71"
      ],
      "metadata": {
        "id": "f0XO2UyddVGO"
      }
    },
    {
      "cell_type": "code",
      "source": [
        "a# Write your code in this cell.\n",
        "\n",
        "\n",
        "\n",
        "\n"
      ],
      "metadata": {
        "id": "_9uX7ZY9dVGO"
      },
      "execution_count": null,
      "outputs": []
    },
    {
      "cell_type": "markdown",
      "source": [
        "# Sample script \"ai2023_s07_06_09.py\""
      ],
      "metadata": {
        "id": "dF7sxFEvdfn8"
      }
    },
    {
      "cell_type": "code",
      "source": [
        "# Run this cell to show the source code of the script.\n",
        "\n",
        "!cat ai2023_s07_06_09.py"
      ],
      "metadata": {
        "id": "KrrCT4_3dfoC"
      },
      "execution_count": null,
      "outputs": []
    },
    {
      "cell_type": "code",
      "source": [
        "# Run this cell to execute the script.\n",
        "\n",
        "!python3.10 ai2023_s07_06_09.py"
      ],
      "metadata": {
        "id": "tJTmeAj1dfoF"
      },
      "execution_count": null,
      "outputs": []
    },
    {
      "cell_type": "code",
      "source": [
        "# Run this cell to display image.\n",
        "\n",
        "# importing IPython module\n",
        "import IPython.display\n",
        "\n",
        "# displaying image\n",
        "IPython.display.Image ('horsehead.png')"
      ],
      "metadata": {
        "id": "pOav7ZEldfoG"
      },
      "execution_count": null,
      "outputs": []
    },
    {
      "cell_type": "markdown",
      "source": [
        "# Practice s07-72"
      ],
      "metadata": {
        "id": "Y6LGkh0bdfoH"
      }
    },
    {
      "cell_type": "code",
      "source": [
        "# Write your code in this cell.\n",
        "\n",
        "\n",
        "\n",
        "\n"
      ],
      "metadata": {
        "id": "fGZV49F4dfoJ"
      },
      "execution_count": null,
      "outputs": []
    },
    {
      "cell_type": "markdown",
      "source": [
        "# End of this notebook"
      ],
      "metadata": {
        "id": "ADHmQ3gqdsSD"
      }
    }
  ]
}