{
  "nbformat": 4,
  "nbformat_minor": 0,
  "metadata": {
    "colab": {
      "provenance": []
    },
    "kernelspec": {
      "name": "python3",
      "display_name": "Python 3"
    },
    "language_info": {
      "name": "python"
    }
  },
  "cells": [
    {
      "cell_type": "markdown",
      "metadata": {
        "id": "X9F8FTGZzaSe"
      },
      "source": [
        "# AS6095 \"Astroinformatics\"\n",
        "\n",
        "## for academic year 2023 (from Sep/2023 to Jan/2024)\n",
        "\n",
        "## instructor: Kinoshita Daisuke\n",
        "\n",
        "## Course web page: https://s3b.astro.ncu.edu.tw/ai_202309/\n",
        "\n",
        "## GitHub repository: https://github.com/kinoshitadaisuke/ncu_astroinformatics_202309\n"
      ]
    },
    {
      "cell_type": "markdown",
      "metadata": {
        "id": "MKQ0pdfJCZ1I"
      },
      "source": [
        "# Session 12 \"Periodicity analysis of astronomical time-series data\"\n",
        "\n",
        "## 04 December 2023\n"
      ]
    },
    {
      "cell_type": "markdown",
      "metadata": {
        "id": "FVmonUCL197r"
      },
      "source": [
        "# Downloading a set of sample Python scripts and changing directory"
      ]
    },
    {
      "cell_type": "code",
      "execution_count": null,
      "metadata": {
        "id": "E-J1KLJAzmx5"
      },
      "outputs": [],
      "source": [
        "# Run this cell to download a set of sample Python scripts for this course.\n",
        "\n",
        "!git clone https://github.com/kinoshitadaisuke/ncu_astroinformatics_202309.git"
      ]
    },
    {
      "cell_type": "code",
      "execution_count": null,
      "metadata": {
        "id": "NU4Otc0i2jfu"
      },
      "outputs": [],
      "source": [
        "# Run this cell to check whether you have a directory named \"ncu_astroinformatics_202309\".\n",
        "\n",
        "!ls"
      ]
    },
    {
      "cell_type": "code",
      "execution_count": null,
      "metadata": {
        "id": "faZRhZv821VY"
      },
      "outputs": [],
      "source": [
        "# Run this cell to move to the directory \"ncu_astroinformatics_202309\".\n",
        "\n",
        "%cd ncu_astroinformatics_202309"
      ]
    },
    {
      "cell_type": "code",
      "execution_count": null,
      "metadata": {
        "id": "hUjHlUZk3Bov"
      },
      "outputs": [],
      "source": [
        "# Run this cell to show currently working directory.\n",
        "\n",
        "!pwd"
      ]
    },
    {
      "cell_type": "code",
      "execution_count": null,
      "metadata": {
        "id": "RXAGJHeX3IsD"
      },
      "outputs": [],
      "source": [
        "# Run this cell to show files and directories.\n",
        "\n",
        "!ls -lF"
      ]
    },
    {
      "cell_type": "code",
      "execution_count": null,
      "metadata": {
        "id": "xR0V8I0k3O3k"
      },
      "outputs": [],
      "source": [
        "# Run this cell to move to the directory \"s12\".\n",
        "\n",
        "%cd s12"
      ]
    },
    {
      "cell_type": "code",
      "execution_count": null,
      "metadata": {
        "id": "KbvQ_3Su3UKL"
      },
      "outputs": [],
      "source": [
        "# Run this cell to show currently working directory.\n",
        "\n",
        "!pwd"
      ]
    },
    {
      "cell_type": "code",
      "execution_count": null,
      "metadata": {
        "id": "n9AAgI4d3c6n"
      },
      "outputs": [],
      "source": [
        "# Run this cell to show files and directories.\n",
        "\n",
        "!ls -lF"
      ]
    },
    {
      "cell_type": "markdown",
      "source": [
        "# Installation of Astropy"
      ],
      "metadata": {
        "id": "jVlw3LHHcBFa"
      }
    },
    {
      "cell_type": "code",
      "source": [
        "# Install Astropy if you do not have it.\n",
        "\n",
        "!apt install python3-astropy"
      ],
      "metadata": {
        "id": "tsoYTACbb4dj"
      },
      "execution_count": null,
      "outputs": []
    },
    {
      "cell_type": "markdown",
      "source": [
        "# Script \"ai2023_s12_00_00.py\""
      ],
      "metadata": {
        "id": "ruyvFomX3tHE"
      }
    },
    {
      "cell_type": "code",
      "source": [
        "# Run this cell to show the source code of the script.\n",
        "\n",
        "!cat ai2023_s12_00_00.py"
      ],
      "metadata": {
        "id": "rHlPblWq3vhQ"
      },
      "execution_count": null,
      "outputs": []
    },
    {
      "cell_type": "code",
      "source": [
        "# Run this cell to execute the script.\n",
        "\n",
        "!python3.10 ai2023_s12_00_00.py > ai2023_s12_00_00.data"
      ],
      "metadata": {
        "id": "6OT-NvkRCpsZ"
      },
      "execution_count": null,
      "outputs": []
    },
    {
      "cell_type": "markdown",
      "source": [
        "# Practice s12-01"
      ],
      "metadata": {
        "id": "TOKbMshT365T"
      }
    },
    {
      "cell_type": "code",
      "source": [
        "# Write down your code in this cell.\n",
        "\n",
        "\n",
        "\n",
        "\n"
      ],
      "metadata": {
        "id": "64-pHjEt34XC"
      },
      "execution_count": null,
      "outputs": []
    },
    {
      "cell_type": "markdown",
      "source": [
        "# Script \"ai2023_s12_00_01.py\""
      ],
      "metadata": {
        "id": "_bByHLG9VN4z"
      }
    },
    {
      "cell_type": "code",
      "source": [
        "# Run this cell to show the source code of the script.\n",
        "\n",
        "!cat ai2023_s12_00_01.py"
      ],
      "metadata": {
        "id": "sV0LsEcSVN41"
      },
      "execution_count": null,
      "outputs": []
    },
    {
      "cell_type": "code",
      "source": [
        "# Run this cell to execute the script.\n",
        "\n",
        "!python3.10 ai2023_s12_00_01.py"
      ],
      "metadata": {
        "id": "kzuoK-OnVN42"
      },
      "execution_count": null,
      "outputs": []
    },
    {
      "cell_type": "code",
      "source": [
        "# Run this cell to display PNG image.\n",
        "\n",
        "# importing IPython.display module\n",
        "import IPython.display\n",
        "\n",
        "# displaying PNG file\n",
        "IPython.display.Image ('ai2023_s12_00_01.png')"
      ],
      "metadata": {
        "id": "wp4Hfr0b4dLH"
      },
      "execution_count": null,
      "outputs": []
    },
    {
      "cell_type": "markdown",
      "source": [
        "# Practice s12-02"
      ],
      "metadata": {
        "id": "Vw-qMU_DVN42"
      }
    },
    {
      "cell_type": "code",
      "source": [
        "# Write down your code in this cell.\n",
        "\n",
        "\n",
        "\n",
        "\n"
      ],
      "metadata": {
        "id": "05lfLnF_VN43"
      },
      "execution_count": null,
      "outputs": []
    },
    {
      "cell_type": "markdown",
      "source": [
        "# Script \"ai2023_s12_00_02.py\""
      ],
      "metadata": {
        "id": "nP08wv7JWyRW"
      }
    },
    {
      "cell_type": "code",
      "source": [
        "# Run this cell to show the source code of the script.\n",
        "\n",
        "!cat ai2023_s12_00_02.py"
      ],
      "metadata": {
        "id": "uBzmlg9mWyRb"
      },
      "execution_count": null,
      "outputs": []
    },
    {
      "cell_type": "code",
      "source": [
        "# Run this cell to execute the script.\n",
        "\n",
        "!python3.10 ai2023_s12_00_02.py"
      ],
      "metadata": {
        "id": "NN2bBQeRWyRc"
      },
      "execution_count": null,
      "outputs": []
    },
    {
      "cell_type": "code",
      "source": [
        "# Run this cell to display PNG image.\n",
        "\n",
        "# importing IPython.display module\n",
        "import IPython.display\n",
        "\n",
        "# displaying PNG file\n",
        "IPython.display.Image ('ai2023_s12_00_02.png')"
      ],
      "metadata": {
        "id": "Bh-ZHjG7WyRd"
      },
      "execution_count": null,
      "outputs": []
    },
    {
      "cell_type": "markdown",
      "source": [
        "# Practice s12-03"
      ],
      "metadata": {
        "id": "0MyBhkYZWyRe"
      }
    },
    {
      "cell_type": "code",
      "source": [
        "# Write down your code in this cell.\n",
        "\n",
        "\n",
        "\n",
        "\n"
      ],
      "metadata": {
        "id": "gOjCbwRuWyRf"
      },
      "execution_count": null,
      "outputs": []
    },
    {
      "cell_type": "markdown",
      "source": [
        "# Script \"ai2023_s12_00_03.py\""
      ],
      "metadata": {
        "id": "EN2R-gwVW8n4"
      }
    },
    {
      "cell_type": "code",
      "source": [
        "# Run this cell to show the source code of the script.\n",
        "\n",
        "!cat ai2023_s12_00_03.py"
      ],
      "metadata": {
        "id": "FBMkXDwyW8n8"
      },
      "execution_count": null,
      "outputs": []
    },
    {
      "cell_type": "code",
      "source": [
        "# Run this cell to execute the script.\n",
        "\n",
        "!python3.10 ai2023_s12_00_03.py"
      ],
      "metadata": {
        "id": "6fJ6NVlPW8n9"
      },
      "execution_count": null,
      "outputs": []
    },
    {
      "cell_type": "code",
      "source": [
        "# Run this cell to display PNG image.\n",
        "\n",
        "# importing IPython.display module\n",
        "import IPython.display\n",
        "\n",
        "# displaying PNG file\n",
        "IPython.display.Image ('ai2023_s12_00_03.png')"
      ],
      "metadata": {
        "id": "RgngQZKtW8n9"
      },
      "execution_count": null,
      "outputs": []
    },
    {
      "cell_type": "markdown",
      "source": [
        "# Practice s12-04"
      ],
      "metadata": {
        "id": "ikRhnMnpW8n_"
      }
    },
    {
      "cell_type": "code",
      "source": [
        "# Write down your code in this cell.\n",
        "\n",
        "\n",
        "\n",
        "\n"
      ],
      "metadata": {
        "id": "XBwpqm8LW8oA"
      },
      "execution_count": null,
      "outputs": []
    },
    {
      "cell_type": "markdown",
      "source": [
        "# Script \"ai2023_s12_00_04.py\""
      ],
      "metadata": {
        "id": "uGoroBIBXOQ2"
      }
    },
    {
      "cell_type": "code",
      "source": [
        "# Run this cell to show the source code of the script.\n",
        "\n",
        "!cat ai2023_s12_00_04.py"
      ],
      "metadata": {
        "id": "37sQnEd_XOQ6"
      },
      "execution_count": null,
      "outputs": []
    },
    {
      "cell_type": "code",
      "source": [
        "# Run this cell to execute the script.\n",
        "\n",
        "!python3.10 ai2023_s12_00_04.py"
      ],
      "metadata": {
        "id": "0fpwqyXaXOQ8"
      },
      "execution_count": null,
      "outputs": []
    },
    {
      "cell_type": "markdown",
      "source": [
        "# Practice s12-05"
      ],
      "metadata": {
        "id": "l8wZxH26XOQ9"
      }
    },
    {
      "cell_type": "code",
      "source": [
        "# Write down your code in this cell.\n",
        "\n",
        "\n",
        "\n",
        "\n"
      ],
      "metadata": {
        "id": "4h5Jp2yMXOQ-"
      },
      "execution_count": null,
      "outputs": []
    },
    {
      "cell_type": "markdown",
      "source": [
        "# Script \"ai2023_s12_00_05.py\""
      ],
      "metadata": {
        "id": "wZu3BAObXYvh"
      }
    },
    {
      "cell_type": "code",
      "source": [
        "# Run this cell to show the source code of the script.\n",
        "\n",
        "!cat ai2023_s12_00_05.py"
      ],
      "metadata": {
        "id": "9l2utQ4gXYvn"
      },
      "execution_count": null,
      "outputs": []
    },
    {
      "cell_type": "code",
      "source": [
        "# Run this cell to execute the script.\n",
        "\n",
        "!python3.10 ai2023_s12_00_05.py"
      ],
      "metadata": {
        "id": "SP-pWkBKXYvp"
      },
      "execution_count": null,
      "outputs": []
    },
    {
      "cell_type": "code",
      "source": [
        "# Run this cell to display PNG image.\n",
        "\n",
        "# importing IPython.display module\n",
        "import IPython.display\n",
        "\n",
        "# displaying PNG file\n",
        "IPython.display.Image ('ai2023_s12_00_05.png')"
      ],
      "metadata": {
        "id": "iz-gYdh6XYvq"
      },
      "execution_count": null,
      "outputs": []
    },
    {
      "cell_type": "markdown",
      "source": [
        "# Practice s12-06"
      ],
      "metadata": {
        "id": "MAJqZS2sXYvr"
      }
    },
    {
      "cell_type": "code",
      "source": [
        "# Write down your code in this cell.\n",
        "\n",
        "\n",
        "\n",
        "\n"
      ],
      "metadata": {
        "id": "fiBrj4-hXYvu"
      },
      "execution_count": null,
      "outputs": []
    },
    {
      "cell_type": "markdown",
      "source": [
        "# Script \"ai2023_s12_00_06.py\""
      ],
      "metadata": {
        "id": "eajZORc2Xwcw"
      }
    },
    {
      "cell_type": "code",
      "source": [
        "# Run this cell to show the source code of the script.\n",
        "\n",
        "!cat ai2023_s12_00_06.py"
      ],
      "metadata": {
        "id": "yD69qyWhXwc2"
      },
      "execution_count": null,
      "outputs": []
    },
    {
      "cell_type": "code",
      "source": [
        "# Run this cell to execute the script.\n",
        "\n",
        "!python3.10 ai2023_s12_00_06.py"
      ],
      "metadata": {
        "id": "TljKyCZgXwc3"
      },
      "execution_count": null,
      "outputs": []
    },
    {
      "cell_type": "code",
      "source": [
        "# Run this cell to display PNG image.\n",
        "\n",
        "# importing IPython.display module\n",
        "import IPython.display\n",
        "\n",
        "# displaying PNG file\n",
        "IPython.display.Image ('ai2023_s12_00_06.png')"
      ],
      "metadata": {
        "id": "RXshgxwtXwc4"
      },
      "execution_count": null,
      "outputs": []
    },
    {
      "cell_type": "markdown",
      "source": [
        "# Practice s12-07"
      ],
      "metadata": {
        "id": "Y8_5F7ovXwc5"
      }
    },
    {
      "cell_type": "code",
      "source": [
        "# Write down your code in this cell.\n",
        "\n",
        "\n",
        "\n",
        "\n"
      ],
      "metadata": {
        "id": "-nKBvw8zXwc6"
      },
      "execution_count": null,
      "outputs": []
    },
    {
      "cell_type": "markdown",
      "source": [
        "# Script \"ai2023_s12_00_07.py\""
      ],
      "metadata": {
        "id": "GgsQSOaKX4hJ"
      }
    },
    {
      "cell_type": "code",
      "source": [
        "# Run this cell to show the source code of the script.\n",
        "\n",
        "!cat ai2023_s12_00_07.py"
      ],
      "metadata": {
        "id": "wLhZ1Mf_X4hN"
      },
      "execution_count": null,
      "outputs": []
    },
    {
      "cell_type": "code",
      "source": [
        "# Run this cell to execute the script.\n",
        "\n",
        "!python3.10 ai2023_s12_00_07.py"
      ],
      "metadata": {
        "id": "-hsGDCGYX4hP"
      },
      "execution_count": null,
      "outputs": []
    },
    {
      "cell_type": "code",
      "source": [
        "# Run this cell to display PNG image.\n",
        "\n",
        "# importing IPython.display module\n",
        "import IPython.display\n",
        "\n",
        "# displaying PNG file\n",
        "IPython.display.Image ('ai2023_s12_00_07.png')"
      ],
      "metadata": {
        "id": "eHqVyGpfX4hP"
      },
      "execution_count": null,
      "outputs": []
    },
    {
      "cell_type": "markdown",
      "source": [
        "# Practice s12-08"
      ],
      "metadata": {
        "id": "kNJLT8LLX4hQ"
      }
    },
    {
      "cell_type": "code",
      "source": [
        "# Write down your code in this cell.\n",
        "\n",
        "\n",
        "\n",
        "\n"
      ],
      "metadata": {
        "id": "P2B7I0BnX4hS"
      },
      "execution_count": null,
      "outputs": []
    },
    {
      "cell_type": "markdown",
      "source": [
        "# Script \"ai2023_s12_00_08.py\""
      ],
      "metadata": {
        "id": "khSqUCuVYBan"
      }
    },
    {
      "cell_type": "code",
      "source": [
        "# Run this cell to show the source code of the script.\n",
        "\n",
        "!cat ai2023_s12_00_08.py"
      ],
      "metadata": {
        "id": "TCCA0SddYBap"
      },
      "execution_count": null,
      "outputs": []
    },
    {
      "cell_type": "code",
      "source": [
        "# Run this cell to execute the script.\n",
        "\n",
        "!python3.10 ai2023_s12_00_08.py"
      ],
      "metadata": {
        "id": "KpKJQIATYBaq"
      },
      "execution_count": null,
      "outputs": []
    },
    {
      "cell_type": "code",
      "source": [
        "# Run this cell to display PNG image.\n",
        "\n",
        "# importing IPython.display module\n",
        "import IPython.display\n",
        "\n",
        "# displaying PNG file\n",
        "IPython.display.Image ('ai2023_s12_00_08.png')"
      ],
      "metadata": {
        "id": "1uyF0bsoYBaq"
      },
      "execution_count": null,
      "outputs": []
    },
    {
      "cell_type": "markdown",
      "source": [
        "# Practice s12-09"
      ],
      "metadata": {
        "id": "fTD3embKYBar"
      }
    },
    {
      "cell_type": "code",
      "source": [
        "# Write down your code in this cell.\n",
        "\n",
        "\n",
        "\n",
        "\n"
      ],
      "metadata": {
        "id": "BGdUpkEBYBar"
      },
      "execution_count": null,
      "outputs": []
    },
    {
      "cell_type": "markdown",
      "source": [
        "# Script \"ai2023_s12_01_00.py\""
      ],
      "metadata": {
        "id": "feOYVLYfYLYb"
      }
    },
    {
      "cell_type": "code",
      "source": [
        "# Run this cell to show the source code of the script.\n",
        "\n",
        "!cat ai2023_s12_01_00.py"
      ],
      "metadata": {
        "id": "dJ_2NBp1YLYf"
      },
      "execution_count": null,
      "outputs": []
    },
    {
      "cell_type": "code",
      "source": [
        "# Run this cell to execute the script.\n",
        "\n",
        "!python3.10 ai2023_s12_01_00.py > ai2023_s12_01_00.data"
      ],
      "metadata": {
        "id": "gk8F6UIoYLYg"
      },
      "execution_count": null,
      "outputs": []
    },
    {
      "cell_type": "markdown",
      "source": [
        "# Practice s12-10"
      ],
      "metadata": {
        "id": "eCc2xW_tYLYh"
      }
    },
    {
      "cell_type": "code",
      "source": [
        "# Write down your code in this cell.\n",
        "\n",
        "\n",
        "\n",
        "\n"
      ],
      "metadata": {
        "id": "5oH0tQv8YLYi"
      },
      "execution_count": null,
      "outputs": []
    },
    {
      "cell_type": "markdown",
      "source": [
        "# Script \"ai2023_s12_01_01.py\""
      ],
      "metadata": {
        "id": "AADvCpSNYYEB"
      }
    },
    {
      "cell_type": "code",
      "source": [
        "# Run this cell to show the source code of the script.\n",
        "\n",
        "!cat ai2023_s12_01_01.py"
      ],
      "metadata": {
        "id": "vYiQWfd1YYEE"
      },
      "execution_count": null,
      "outputs": []
    },
    {
      "cell_type": "code",
      "source": [
        "# Run this cell to execute the script.\n",
        "\n",
        "!python3.10 ai2023_s12_01_01.py"
      ],
      "metadata": {
        "id": "Snq7diKfYYEF"
      },
      "execution_count": null,
      "outputs": []
    },
    {
      "cell_type": "code",
      "source": [
        "# Run this cell to display PNG image.\n",
        "\n",
        "# importing IPython.display module\n",
        "import IPython.display\n",
        "\n",
        "# displaying PNG file\n",
        "IPython.display.Image ('ai2023_s12_01_01.png')"
      ],
      "metadata": {
        "id": "y25d01IYYckq"
      },
      "execution_count": null,
      "outputs": []
    },
    {
      "cell_type": "markdown",
      "source": [
        "# Practice s12-11"
      ],
      "metadata": {
        "id": "PLW5jurtYYEG"
      }
    },
    {
      "cell_type": "code",
      "source": [
        "# Write down your code in this cell.\n",
        "\n",
        "\n",
        "\n",
        "\n"
      ],
      "metadata": {
        "id": "ufb51uaaYYEH"
      },
      "execution_count": null,
      "outputs": []
    },
    {
      "cell_type": "markdown",
      "source": [
        "# Script \"ai2023_s12_01_02.py\""
      ],
      "metadata": {
        "id": "OoFx07WnYnW0"
      }
    },
    {
      "cell_type": "code",
      "source": [
        "# Run this cell to show the source code of the script.\n",
        "\n",
        "!cat ai2023_s12_01_02.py"
      ],
      "metadata": {
        "id": "fq-jdzr_YnW5"
      },
      "execution_count": null,
      "outputs": []
    },
    {
      "cell_type": "code",
      "source": [
        "# Run this cell to execute the script.\n",
        "\n",
        "!python3.10 ai2023_s12_01_02.py"
      ],
      "metadata": {
        "id": "UbFs73zmYnW6"
      },
      "execution_count": null,
      "outputs": []
    },
    {
      "cell_type": "markdown",
      "source": [
        "# Practice s12-12"
      ],
      "metadata": {
        "id": "sHX-8eAxYnW7"
      }
    },
    {
      "cell_type": "code",
      "source": [
        "# Write down your code in this cell.\n",
        "\n",
        "\n",
        "\n",
        "\n"
      ],
      "metadata": {
        "id": "CZdRFwuwYnW8"
      },
      "execution_count": null,
      "outputs": []
    },
    {
      "cell_type": "markdown",
      "source": [
        "# Script \"ai2023_s12_01_03.py\""
      ],
      "metadata": {
        "id": "U1aha4gCY2p5"
      }
    },
    {
      "cell_type": "code",
      "source": [
        "# Run this cell to show the source code of the script.\n",
        "\n",
        "!cat ai2023_s12_01_03.py"
      ],
      "metadata": {
        "id": "dJqAdnOOY2p9"
      },
      "execution_count": null,
      "outputs": []
    },
    {
      "cell_type": "code",
      "source": [
        "# Run this cell to execute the script.\n",
        "\n",
        "!python3.10 ai2023_s12_01_03.py"
      ],
      "metadata": {
        "id": "SSKFqNWNY2p_"
      },
      "execution_count": null,
      "outputs": []
    },
    {
      "cell_type": "code",
      "source": [
        "# Run this cell to display PNG image.\n",
        "\n",
        "# importing IPython.display module\n",
        "import IPython.display\n",
        "\n",
        "# displaying PNG file\n",
        "IPython.display.Image ('ai2023_s12_01_03.png')"
      ],
      "metadata": {
        "id": "ULEIDKOyY2p_"
      },
      "execution_count": null,
      "outputs": []
    },
    {
      "cell_type": "markdown",
      "source": [
        "# Practice s12-13"
      ],
      "metadata": {
        "id": "VV7TKdyWY2qA"
      }
    },
    {
      "cell_type": "code",
      "source": [
        "# Write down your code in this cell.\n",
        "\n",
        "\n",
        "\n",
        "\n"
      ],
      "metadata": {
        "id": "dUR_75-VY2qB"
      },
      "execution_count": null,
      "outputs": []
    },
    {
      "cell_type": "markdown",
      "source": [
        "# Script \"ai2023_s12_01_04.py\""
      ],
      "metadata": {
        "id": "5FyddvI2Y_Xg"
      }
    },
    {
      "cell_type": "code",
      "source": [
        "# Run this cell to show the source code of the script.\n",
        "\n",
        "!cat ai2023_s12_01_04.py"
      ],
      "metadata": {
        "id": "FyDmxV4hY_Xk"
      },
      "execution_count": null,
      "outputs": []
    },
    {
      "cell_type": "code",
      "source": [
        "# Run this cell to execute the script.\n",
        "\n",
        "!python3.10 ai2023_s12_01_04.py"
      ],
      "metadata": {
        "id": "eiRhYBizY_Xl"
      },
      "execution_count": null,
      "outputs": []
    },
    {
      "cell_type": "code",
      "source": [
        "# Run this cell to display PNG image.\n",
        "\n",
        "# importing IPython.display module\n",
        "import IPython.display\n",
        "\n",
        "# displaying PNG file\n",
        "IPython.display.Image ('ai2023_s12_01_04.png')"
      ],
      "metadata": {
        "id": "rQQdncRcY_Xm"
      },
      "execution_count": null,
      "outputs": []
    },
    {
      "cell_type": "markdown",
      "source": [
        "# Practice s12-14"
      ],
      "metadata": {
        "id": "MzwuzIvSY_Xm"
      }
    },
    {
      "cell_type": "code",
      "source": [
        "# Write down your code in this cell.\n",
        "\n",
        "\n",
        "\n",
        "\n"
      ],
      "metadata": {
        "id": "ADae4D-yY_Xm"
      },
      "execution_count": null,
      "outputs": []
    },
    {
      "cell_type": "markdown",
      "source": [
        "# Script \"ai2023_s12_01_05.py\""
      ],
      "metadata": {
        "id": "fRC7IBevZIqM"
      }
    },
    {
      "cell_type": "code",
      "source": [
        "# Run this cell to show the source code of the script.\n",
        "\n",
        "!cat ai2023_s12_01_05.py"
      ],
      "metadata": {
        "id": "PXspT5C6ZIqX"
      },
      "execution_count": null,
      "outputs": []
    },
    {
      "cell_type": "code",
      "source": [
        "# Run this cell to execute the script.\n",
        "\n",
        "!python3.10 ai2023_s12_01_05.py"
      ],
      "metadata": {
        "id": "fX7HedoUZIqZ"
      },
      "execution_count": null,
      "outputs": []
    },
    {
      "cell_type": "code",
      "source": [
        "# Run this cell to display PNG image.\n",
        "\n",
        "# importing IPython.display module\n",
        "import IPython.display\n",
        "\n",
        "# displaying PNG file\n",
        "IPython.display.Image ('ai2023_s12_01_05.png')"
      ],
      "metadata": {
        "id": "kQDGuo3nZIqb"
      },
      "execution_count": null,
      "outputs": []
    },
    {
      "cell_type": "markdown",
      "source": [
        "# Practice s12-15"
      ],
      "metadata": {
        "id": "7i2alEkyZIqc"
      }
    },
    {
      "cell_type": "code",
      "source": [
        "# Write down your code in this cell.\n",
        "\n",
        "\n",
        "\n",
        "\n"
      ],
      "metadata": {
        "id": "cJmrgiYeZIqf"
      },
      "execution_count": null,
      "outputs": []
    },
    {
      "cell_type": "markdown",
      "source": [
        "# Script \"ai2023_s12_01_06.py\""
      ],
      "metadata": {
        "id": "XtV4ehH9ZRQb"
      }
    },
    {
      "cell_type": "code",
      "source": [
        "# Run this cell to show the source code of the script.\n",
        "\n",
        "!cat ai2023_s12_01_06.py"
      ],
      "metadata": {
        "id": "0rks9C37ZRQb"
      },
      "execution_count": null,
      "outputs": []
    },
    {
      "cell_type": "code",
      "source": [
        "# Run this cell to execute the script.\n",
        "\n",
        "!python3.10 ai2023_s12_01_06.py"
      ],
      "metadata": {
        "id": "CcAYa7G6ZRQc"
      },
      "execution_count": null,
      "outputs": []
    },
    {
      "cell_type": "code",
      "source": [
        "# Run this cell to display PNG image.\n",
        "\n",
        "# importing IPython.display module\n",
        "import IPython.display\n",
        "\n",
        "# displaying PNG file\n",
        "IPython.display.Image ('ai2023_s12_01_06.png')"
      ],
      "metadata": {
        "id": "3eCfZTy2ZRQd"
      },
      "execution_count": null,
      "outputs": []
    },
    {
      "cell_type": "markdown",
      "source": [
        "# Practice s12-16"
      ],
      "metadata": {
        "id": "VNqFIDMdZRQe"
      }
    },
    {
      "cell_type": "code",
      "source": [
        "# Write down your code in this cell.\n",
        "\n",
        "\n",
        "\n",
        "\n"
      ],
      "metadata": {
        "id": "OiR293ZvZRQf"
      },
      "execution_count": null,
      "outputs": []
    },
    {
      "cell_type": "markdown",
      "source": [
        "# Script \"ai2023_s12_02_00.py\""
      ],
      "metadata": {
        "id": "LDW9aYz1Z9gR"
      }
    },
    {
      "cell_type": "code",
      "source": [
        "# Run this cell to show the source code of the script.\n",
        "\n",
        "!cat ai2023_s12_02_00.py"
      ],
      "metadata": {
        "id": "fPeY32AwZ9gT"
      },
      "execution_count": null,
      "outputs": []
    },
    {
      "cell_type": "code",
      "source": [
        "# Run this cell to execute the script.\n",
        "\n",
        "!python3.10 ai2023_s12_02_00.py"
      ],
      "metadata": {
        "id": "V4UxbHVUZ9gV"
      },
      "execution_count": null,
      "outputs": []
    },
    {
      "cell_type": "code",
      "source": [
        "# Run this cell to display PNG image.\n",
        "\n",
        "# importing IPython.display module\n",
        "import IPython.display\n",
        "\n",
        "# displaying PNG file\n",
        "IPython.display.Image ('ai2023_s12_02_00.png')"
      ],
      "metadata": {
        "id": "tvqYWpFaZ9gW"
      },
      "execution_count": null,
      "outputs": []
    },
    {
      "cell_type": "markdown",
      "source": [
        "# Practice s12-17"
      ],
      "metadata": {
        "id": "1kPwsAY5Z9gY"
      }
    },
    {
      "cell_type": "code",
      "source": [
        "# Write down your code in this cell.\n",
        "\n",
        "\n",
        "\n",
        "\n"
      ],
      "metadata": {
        "id": "BZxWKbCIZ9gZ"
      },
      "execution_count": null,
      "outputs": []
    },
    {
      "cell_type": "markdown",
      "source": [
        "# Script \"ai2023_s12_02_01.py\""
      ],
      "metadata": {
        "id": "-uvzGIE1aUHc"
      }
    },
    {
      "cell_type": "code",
      "source": [
        "# Run this cell to show the source code of the script.\n",
        "\n",
        "!cat ai2023_s12_02_01.py"
      ],
      "metadata": {
        "id": "7ADQ_YzaaUHl"
      },
      "execution_count": null,
      "outputs": []
    },
    {
      "cell_type": "code",
      "source": [
        "# Run this cell to execute the script.\n",
        "\n",
        "!python3.10 ai2023_s12_02_01.py"
      ],
      "metadata": {
        "id": "4Q8S6sdSaUHm"
      },
      "execution_count": null,
      "outputs": []
    },
    {
      "cell_type": "code",
      "source": [
        "# Run this cell to display PNG image.\n",
        "\n",
        "# importing IPython.display module\n",
        "import IPython.display\n",
        "\n",
        "# displaying PNG file\n",
        "IPython.display.Image ('ai2023_s12_02_01.png')"
      ],
      "metadata": {
        "id": "9NUUP43EaUHn"
      },
      "execution_count": null,
      "outputs": []
    },
    {
      "cell_type": "markdown",
      "source": [
        "# Practice s12-18"
      ],
      "metadata": {
        "id": "kZkB_EmZaUHo"
      }
    },
    {
      "cell_type": "code",
      "source": [
        "# Write down your code in this cell.\n",
        "\n",
        "\n",
        "\n",
        "\n"
      ],
      "metadata": {
        "id": "ly13J04OaUHp"
      },
      "execution_count": null,
      "outputs": []
    },
    {
      "cell_type": "markdown",
      "source": [
        "# Script \"ai2023_s12_02_02.py\""
      ],
      "metadata": {
        "id": "WNEuYzaYadeI"
      }
    },
    {
      "cell_type": "code",
      "source": [
        "# Run this cell to show the source code of the script.\n",
        "\n",
        "!cat ai2023_s12_02_02.py"
      ],
      "metadata": {
        "id": "tkLmoSO8adeM"
      },
      "execution_count": null,
      "outputs": []
    },
    {
      "cell_type": "code",
      "source": [
        "# Run this cell to execute the script.\n",
        "\n",
        "!python3.10 ai2023_s12_02_02.py"
      ],
      "metadata": {
        "id": "VNTeRppbadeP"
      },
      "execution_count": null,
      "outputs": []
    },
    {
      "cell_type": "markdown",
      "source": [
        "# Practice s12-19"
      ],
      "metadata": {
        "id": "GhwNXQuradeT"
      }
    },
    {
      "cell_type": "code",
      "source": [
        "# Write down your code in this cell.\n",
        "\n",
        "\n",
        "\n",
        "\n"
      ],
      "metadata": {
        "id": "ZpNtHvttadeU"
      },
      "execution_count": null,
      "outputs": []
    },
    {
      "cell_type": "markdown",
      "source": [
        "# Script \"ai2023_s12_02_03.py\""
      ],
      "metadata": {
        "id": "KUlZOvE5al-a"
      }
    },
    {
      "cell_type": "code",
      "source": [
        "# Run this cell to show the source code of the script.\n",
        "\n",
        "!cat ai2023_s12_02_03.py"
      ],
      "metadata": {
        "id": "eXMo6Qrkal-b"
      },
      "execution_count": null,
      "outputs": []
    },
    {
      "cell_type": "code",
      "source": [
        "# Run this cell to execute the script.\n",
        "\n",
        "!python3.10 ai2023_s12_02_03.py"
      ],
      "metadata": {
        "id": "WTsNBa3Bal-b"
      },
      "execution_count": null,
      "outputs": []
    },
    {
      "cell_type": "code",
      "source": [
        "# Run this cell to display PNG image.\n",
        "\n",
        "# importing IPython.display module\n",
        "import IPython.display\n",
        "\n",
        "# displaying PNG file\n",
        "IPython.display.Image ('ai2023_s12_02_03.png')"
      ],
      "metadata": {
        "id": "xz4OgXf_al-b"
      },
      "execution_count": null,
      "outputs": []
    },
    {
      "cell_type": "markdown",
      "source": [
        "# Practice s12-20"
      ],
      "metadata": {
        "id": "ZCvAabENal-c"
      }
    },
    {
      "cell_type": "code",
      "source": [
        "# Write down your code in this cell.\n",
        "\n",
        "\n",
        "\n",
        "\n"
      ],
      "metadata": {
        "id": "rw_UEMo2al-d"
      },
      "execution_count": null,
      "outputs": []
    },
    {
      "cell_type": "markdown",
      "source": [
        "# Script \"ai2023_s12_02_04.py\""
      ],
      "metadata": {
        "id": "bXz7LYfoatK6"
      }
    },
    {
      "cell_type": "code",
      "source": [
        "# Run this cell to show the source code of the script.\n",
        "\n",
        "!cat ai2023_s12_02_04.py"
      ],
      "metadata": {
        "id": "NOpUh9RkatLE"
      },
      "execution_count": null,
      "outputs": []
    },
    {
      "cell_type": "code",
      "source": [
        "# Run this cell to execute the script.\n",
        "\n",
        "!python3.10 ai2023_s12_02_04.py"
      ],
      "metadata": {
        "id": "f_OuNlasatLH"
      },
      "execution_count": null,
      "outputs": []
    },
    {
      "cell_type": "code",
      "source": [
        "# Run this cell to display PNG image.\n",
        "\n",
        "# importing IPython.display module\n",
        "import IPython.display\n",
        "\n",
        "# displaying PNG file\n",
        "IPython.display.Image ('ai2023_s12_02_04.png')"
      ],
      "metadata": {
        "id": "DmPRUiyEatLJ"
      },
      "execution_count": null,
      "outputs": []
    },
    {
      "cell_type": "markdown",
      "source": [
        "# Practice s12-21"
      ],
      "metadata": {
        "id": "aFLehixHatLL"
      }
    },
    {
      "cell_type": "code",
      "source": [
        "# Write down your code in this cell.\n",
        "\n",
        "\n",
        "\n",
        "\n"
      ],
      "metadata": {
        "id": "zdfR9lDGatLM"
      },
      "execution_count": null,
      "outputs": []
    },
    {
      "cell_type": "markdown",
      "source": [
        "# Script \"ai2023_s12_02_05.py\""
      ],
      "metadata": {
        "id": "2dWyrPZ6aydZ"
      }
    },
    {
      "cell_type": "code",
      "source": [
        "# Run this cell to show the source code of the script.\n",
        "\n",
        "!cat ai2023_s12_02_05.py"
      ],
      "metadata": {
        "id": "JZmxBDBWayda"
      },
      "execution_count": null,
      "outputs": []
    },
    {
      "cell_type": "code",
      "source": [
        "# Run this cell to execute the script.\n",
        "\n",
        "!python3.10 ai2023_s12_02_05.py"
      ],
      "metadata": {
        "id": "d5eiqpWHaydb"
      },
      "execution_count": null,
      "outputs": []
    },
    {
      "cell_type": "code",
      "source": [
        "# Run this cell to display PNG image.\n",
        "\n",
        "# importing IPython.display module\n",
        "import IPython.display\n",
        "\n",
        "# displaying PNG file\n",
        "IPython.display.Image ('ai2023_s12_02_05.png')"
      ],
      "metadata": {
        "id": "dtccgqOxaydc"
      },
      "execution_count": null,
      "outputs": []
    },
    {
      "cell_type": "markdown",
      "source": [
        "# Practice s12-22"
      ],
      "metadata": {
        "id": "DHfMCLSNaydd"
      }
    },
    {
      "cell_type": "code",
      "source": [
        "# Write down your code in this cell.\n",
        "\n",
        "\n",
        "\n",
        "\n"
      ],
      "metadata": {
        "id": "_jiIy8V4aydg"
      },
      "execution_count": null,
      "outputs": []
    },
    {
      "cell_type": "markdown",
      "source": [
        "# Script \"ai2023_s12_02_06.py\""
      ],
      "metadata": {
        "id": "RbgjNeDba7ia"
      }
    },
    {
      "cell_type": "code",
      "source": [
        "# Run this cell to show the source code of the script.\n",
        "\n",
        "!cat ai2023_s12_02_06.py"
      ],
      "metadata": {
        "id": "oLKniX3qa7ic"
      },
      "execution_count": null,
      "outputs": []
    },
    {
      "cell_type": "code",
      "source": [
        "# Run this cell to execute the script.\n",
        "\n",
        "!python3.10 ai2023_s12_02_06.py"
      ],
      "metadata": {
        "id": "SHunYARfa7ic"
      },
      "execution_count": null,
      "outputs": []
    },
    {
      "cell_type": "code",
      "source": [
        "# Run this cell to display PNG image.\n",
        "\n",
        "# importing IPython.display module\n",
        "import IPython.display\n",
        "\n",
        "# displaying PNG file\n",
        "IPython.display.Image ('ai2023_s12_02_06.png')"
      ],
      "metadata": {
        "id": "KHiG8sZga7id"
      },
      "execution_count": null,
      "outputs": []
    },
    {
      "cell_type": "markdown",
      "source": [
        "# Script \"ai2023_s12_02_07.py\""
      ],
      "metadata": {
        "id": "JgcUPuhtbJq9"
      }
    },
    {
      "cell_type": "code",
      "source": [
        "# Run this cell to show the source code of the script.\n",
        "\n",
        "!cat ai2023_s12_02_07.py"
      ],
      "metadata": {
        "id": "dtrdvLDgbJrC"
      },
      "execution_count": null,
      "outputs": []
    },
    {
      "cell_type": "code",
      "source": [
        "# Run this cell to execute the script.\n",
        "\n",
        "!python3.10 ai2023_s12_02_07.py"
      ],
      "metadata": {
        "id": "60zpDW0UbJrF"
      },
      "execution_count": null,
      "outputs": []
    },
    {
      "cell_type": "code",
      "source": [
        "# Run this cell to display PNG image.\n",
        "\n",
        "# importing IPython.display module\n",
        "import IPython.display\n",
        "\n",
        "# displaying PNG file\n",
        "IPython.display.Image ('ai2023_s12_02_07.png')"
      ],
      "metadata": {
        "id": "bP_9pav9bJrH"
      },
      "execution_count": null,
      "outputs": []
    },
    {
      "cell_type": "markdown",
      "source": [
        "# Script \"ai2023_s12_02_08.py\""
      ],
      "metadata": {
        "id": "-RaQKT0PbTRU"
      }
    },
    {
      "cell_type": "code",
      "source": [
        "# Run this cell to show the source code of the script.\n",
        "\n",
        "!cat ai2023_s12_02_08.py"
      ],
      "metadata": {
        "id": "SzyPtpmTbTRX"
      },
      "execution_count": null,
      "outputs": []
    },
    {
      "cell_type": "code",
      "source": [
        "# Run this cell to execute the script.\n",
        "\n",
        "!python3.10 ai2023_s12_02_08.py"
      ],
      "metadata": {
        "id": "iL7F5ImdbTRZ"
      },
      "execution_count": null,
      "outputs": []
    },
    {
      "cell_type": "code",
      "source": [
        "# Run this cell to display PNG image.\n",
        "\n",
        "# importing IPython.display module\n",
        "import IPython.display\n",
        "\n",
        "# displaying PNG file\n",
        "IPython.display.Image ('ai2023_s12_02_08.png')"
      ],
      "metadata": {
        "id": "gOwpQ6b8bTRa"
      },
      "execution_count": null,
      "outputs": []
    },
    {
      "cell_type": "markdown",
      "source": [
        "# Practice s12-23"
      ],
      "metadata": {
        "id": "RXl9YumFbaDs"
      }
    },
    {
      "cell_type": "code",
      "source": [
        "# Write down your code in this cell.\n",
        "\n",
        "\n",
        "\n",
        "\n"
      ],
      "metadata": {
        "id": "q4N3ozC7baDw"
      },
      "execution_count": null,
      "outputs": []
    },
    {
      "cell_type": "markdown",
      "source": [
        "# Script \"ai2023_s12_02_09.py\""
      ],
      "metadata": {
        "id": "Xt3gdxwgbiDS"
      }
    },
    {
      "cell_type": "code",
      "source": [
        "# Run this cell to show the source code of the script.\n",
        "\n",
        "!cat ai2023_s12_02_09.py"
      ],
      "metadata": {
        "id": "5KUpoQQIbiDW"
      },
      "execution_count": null,
      "outputs": []
    },
    {
      "cell_type": "code",
      "source": [
        "# Run this cell to execute the script.\n",
        "\n",
        "!python3.10 ai2023_s12_02_09.py"
      ],
      "metadata": {
        "id": "IVD0WF7kbiDX"
      },
      "execution_count": null,
      "outputs": []
    },
    {
      "cell_type": "code",
      "source": [
        "# Run this cell to display PNG image.\n",
        "\n",
        "# importing IPython.display module\n",
        "import IPython.display\n",
        "\n",
        "# displaying PNG file\n",
        "IPython.display.Image ('ai2023_s12_02_09.png')"
      ],
      "metadata": {
        "id": "SDLMSCWCbiDX"
      },
      "execution_count": null,
      "outputs": []
    },
    {
      "cell_type": "markdown",
      "source": [
        "# Practice s12-24"
      ],
      "metadata": {
        "id": "K8F_dZyHbiDY"
      }
    },
    {
      "cell_type": "code",
      "source": [
        "# Write down your code in this cell.\n",
        "\n",
        "\n",
        "\n",
        "\n"
      ],
      "metadata": {
        "id": "Lh5713U6biDY"
      },
      "execution_count": null,
      "outputs": []
    },
    {
      "cell_type": "markdown",
      "source": [
        "# Script \"ai2023_s12_03_00.py\""
      ],
      "metadata": {
        "id": "jsod_IEMbuk3"
      }
    },
    {
      "cell_type": "code",
      "source": [
        "# Run this cell to show the source code of the script.\n",
        "\n",
        "!cat ai2023_s12_03_00.py"
      ],
      "metadata": {
        "id": "Hx8DrQJPbulE"
      },
      "execution_count": null,
      "outputs": []
    },
    {
      "cell_type": "code",
      "source": [
        "# Run this cell to execute the script.\n",
        "\n",
        "!python3.10 ai2023_s12_03_00.py"
      ],
      "metadata": {
        "id": "fNPz99GmbulG"
      },
      "execution_count": null,
      "outputs": []
    },
    {
      "cell_type": "markdown",
      "source": [
        "# Script \"ai2023_s12_03_01.py\""
      ],
      "metadata": {
        "id": "tPS6qQ3eb1pO"
      }
    },
    {
      "cell_type": "code",
      "source": [
        "# Run this cell to show the source code of the script.\n",
        "\n",
        "!cat ai2023_s12_03_01.py"
      ],
      "metadata": {
        "id": "Y-RE7hKsb1pQ"
      },
      "execution_count": null,
      "outputs": []
    },
    {
      "cell_type": "code",
      "source": [
        "# Run this cell to execute the script.\n",
        "\n",
        "!python3.10 ai2023_s12_03_01.py"
      ],
      "metadata": {
        "id": "Bw6bOwqGb1pS"
      },
      "execution_count": null,
      "outputs": []
    },
    {
      "cell_type": "markdown",
      "source": [
        "# Script \"ai2023_s12_03_02.py\""
      ],
      "metadata": {
        "id": "wyZ3GOnCb8Cl"
      }
    },
    {
      "cell_type": "code",
      "source": [
        "# Run this cell to show the source code of the script.\n",
        "\n",
        "!cat ai2023_s12_03_02.py"
      ],
      "metadata": {
        "id": "2y83b-e2b8Cq"
      },
      "execution_count": null,
      "outputs": []
    },
    {
      "cell_type": "code",
      "source": [
        "# Run this cell to execute the script.\n",
        "\n",
        "!python3.10 ai2023_s12_03_02.py"
      ],
      "metadata": {
        "id": "Ea5asBVHb8Cr"
      },
      "execution_count": null,
      "outputs": []
    },
    {
      "cell_type": "code",
      "source": [
        "# Run this cell to display PNG image.\n",
        "\n",
        "# importing IPython.display module\n",
        "import IPython.display\n",
        "\n",
        "# displaying PNG file\n",
        "IPython.display.Image ('ai2023_s12_03_02.png')"
      ],
      "metadata": {
        "id": "vFOwlSB2b_Sb"
      },
      "execution_count": null,
      "outputs": []
    },
    {
      "cell_type": "markdown",
      "source": [
        "# Practice s12-25"
      ],
      "metadata": {
        "id": "emv3pFQ5cB0z"
      }
    },
    {
      "cell_type": "code",
      "source": [
        "# Write down your code in this cell.\n",
        "\n",
        "\n",
        "\n",
        "\n"
      ],
      "metadata": {
        "id": "JvawQqtQcB01"
      },
      "execution_count": null,
      "outputs": []
    },
    {
      "cell_type": "markdown",
      "source": [
        "# Script \"ai2023_s12_03_03.py\""
      ],
      "metadata": {
        "id": "73ntO7P7cKLw"
      }
    },
    {
      "cell_type": "code",
      "source": [
        "# Run this cell to show the source code of the script.\n",
        "\n",
        "!cat ai2023_s12_03_03.py"
      ],
      "metadata": {
        "id": "s9Bf0UfScKL3"
      },
      "execution_count": null,
      "outputs": []
    },
    {
      "cell_type": "code",
      "source": [
        "# Run this cell to execute the script.\n",
        "\n",
        "!python3.10 ai2023_s12_03_03.py"
      ],
      "metadata": {
        "id": "jLnADRxVcKL5"
      },
      "execution_count": null,
      "outputs": []
    },
    {
      "cell_type": "markdown",
      "source": [
        "# Practice s12-26"
      ],
      "metadata": {
        "id": "qv6TbnUscKL7"
      }
    },
    {
      "cell_type": "code",
      "source": [
        "# Write down your code in this cell.\n",
        "\n",
        "\n",
        "\n",
        "\n"
      ],
      "metadata": {
        "id": "lTx3xUDqcKL7"
      },
      "execution_count": null,
      "outputs": []
    },
    {
      "cell_type": "markdown",
      "source": [
        "# Script \"ai2023_s12_03_04.py\""
      ],
      "metadata": {
        "id": "yrGlvh23cUsV"
      }
    },
    {
      "cell_type": "code",
      "source": [
        "# Run this cell to show the source code of the script.\n",
        "\n",
        "!cat ai2023_s12_03_04.py"
      ],
      "metadata": {
        "id": "tN2_RRqccUsW"
      },
      "execution_count": null,
      "outputs": []
    },
    {
      "cell_type": "code",
      "source": [
        "# Run this cell to execute the script.\n",
        "\n",
        "!python3.10 ai2023_s12_03_04.py"
      ],
      "metadata": {
        "id": "bF1QmTlucUsX"
      },
      "execution_count": null,
      "outputs": []
    },
    {
      "cell_type": "code",
      "source": [
        "# Run this cell to display PNG image.\n",
        "\n",
        "# importing IPython.display module\n",
        "import IPython.display\n",
        "\n",
        "# displaying PNG file\n",
        "IPython.display.Image ('ai2023_s12_03_04.png')"
      ],
      "metadata": {
        "id": "SLLUYY4YcUsY"
      },
      "execution_count": null,
      "outputs": []
    },
    {
      "cell_type": "markdown",
      "source": [
        "# Script \"ai2023_s12_03_05.py\""
      ],
      "metadata": {
        "id": "QtFHCFWpchfs"
      }
    },
    {
      "cell_type": "code",
      "source": [
        "# Run this cell to show the source code of the script.\n",
        "\n",
        "!cat ai2023_s12_03_05.py"
      ],
      "metadata": {
        "id": "rrwoGM5zchfv"
      },
      "execution_count": null,
      "outputs": []
    },
    {
      "cell_type": "code",
      "source": [
        "# Run this cell to execute the script.\n",
        "\n",
        "!python3.10 ai2023_s12_03_05.py"
      ],
      "metadata": {
        "id": "h7zD0ivUchfx"
      },
      "execution_count": null,
      "outputs": []
    },
    {
      "cell_type": "code",
      "source": [
        "# Run this cell to display PNG image.\n",
        "\n",
        "# importing IPython.display module\n",
        "import IPython.display\n",
        "\n",
        "# displaying PNG file\n",
        "IPython.display.Image ('ai2023_s12_03_05.png')"
      ],
      "metadata": {
        "id": "xW3ScRuIchfx"
      },
      "execution_count": null,
      "outputs": []
    },
    {
      "cell_type": "markdown",
      "source": [
        "# Script \"ai2023_s12_03_06.py\""
      ],
      "metadata": {
        "id": "4x3fA2HLcvdq"
      }
    },
    {
      "cell_type": "code",
      "source": [
        "# Run this cell to show the source code of the script.\n",
        "\n",
        "!cat ai2023_s12_03_06.py"
      ],
      "metadata": {
        "id": "eu_wLRkBcvdv"
      },
      "execution_count": null,
      "outputs": []
    },
    {
      "cell_type": "code",
      "source": [
        "# Run this cell to execute the script.\n",
        "\n",
        "!python3.10 ai2023_s12_03_06.py"
      ],
      "metadata": {
        "id": "eUNrmSGvcvdw"
      },
      "execution_count": null,
      "outputs": []
    },
    {
      "cell_type": "markdown",
      "source": [
        "# Script \"ai2023_s12_03_07.py\""
      ],
      "metadata": {
        "id": "azcYYuLDc7DF"
      }
    },
    {
      "cell_type": "code",
      "source": [
        "# Run this cell to show the source code of the script.\n",
        "\n",
        "!cat ai2023_s12_03_07.py"
      ],
      "metadata": {
        "id": "JolTOOb_c7DI"
      },
      "execution_count": null,
      "outputs": []
    },
    {
      "cell_type": "code",
      "source": [
        "# Run this cell to execute the script.\n",
        "\n",
        "!python3.10 ai2023_s12_03_07.py"
      ],
      "metadata": {
        "id": "pycIJcUhc7DL"
      },
      "execution_count": null,
      "outputs": []
    },
    {
      "cell_type": "code",
      "source": [
        "# Run this cell to display PNG image.\n",
        "\n",
        "# importing IPython.display module\n",
        "import IPython.display\n",
        "\n",
        "# displaying PNG file\n",
        "IPython.display.Image ('ai2023_s12_03_07.png')"
      ],
      "metadata": {
        "id": "nQKdn5HUc7DO"
      },
      "execution_count": null,
      "outputs": []
    },
    {
      "cell_type": "markdown",
      "source": [
        "# Script \"ai2023_s12_03_08.py\""
      ],
      "metadata": {
        "id": "5A_blZBAdEUT"
      }
    },
    {
      "cell_type": "code",
      "source": [
        "# Run this cell to show the source code of the script.\n",
        "\n",
        "!cat ai2023_s12_03_08.py"
      ],
      "metadata": {
        "id": "1AgxnjVpdEUU"
      },
      "execution_count": null,
      "outputs": []
    },
    {
      "cell_type": "code",
      "source": [
        "# Run this cell to execute the script.\n",
        "\n",
        "!python3.10 ai2023_s12_03_08.py"
      ],
      "metadata": {
        "id": "Pw8lb80gdEUV"
      },
      "execution_count": null,
      "outputs": []
    },
    {
      "cell_type": "code",
      "source": [
        "# Run this cell to display PNG image.\n",
        "\n",
        "# importing IPython.display module\n",
        "import IPython.display\n",
        "\n",
        "# displaying PNG file\n",
        "IPython.display.Image ('ai2023_s12_03_08.png')"
      ],
      "metadata": {
        "id": "oYadSieVdEUW"
      },
      "execution_count": null,
      "outputs": []
    },
    {
      "cell_type": "markdown",
      "source": [
        "# Script \"ai2023_s12_03_09.py\""
      ],
      "metadata": {
        "id": "tUIxUzUxdLu0"
      }
    },
    {
      "cell_type": "code",
      "source": [
        "# Run this cell to show the source code of the script.\n",
        "\n",
        "!cat ai2023_s12_03_09.py"
      ],
      "metadata": {
        "id": "CVntmiHSdLu7"
      },
      "execution_count": null,
      "outputs": []
    },
    {
      "cell_type": "code",
      "source": [
        "# Run this cell to execute the script.\n",
        "\n",
        "!python3.10 ai2023_s12_03_09.py"
      ],
      "metadata": {
        "id": "w8YQYuNNdLu-"
      },
      "execution_count": null,
      "outputs": []
    },
    {
      "cell_type": "code",
      "source": [
        "# Run this cell to display PNG image.\n",
        "\n",
        "# importing IPython.display module\n",
        "import IPython.display\n",
        "\n",
        "# displaying PNG file\n",
        "IPython.display.Image ('ai2023_s12_03_09.png')"
      ],
      "metadata": {
        "id": "AS9MjGbwdLvA"
      },
      "execution_count": null,
      "outputs": []
    },
    {
      "cell_type": "markdown",
      "source": [
        "# Practice s12-27"
      ],
      "metadata": {
        "id": "OrV15nchdR2N"
      }
    },
    {
      "cell_type": "code",
      "source": [
        "# Write down your code in this cell.\n",
        "\n",
        "\n",
        "\n",
        "\n"
      ],
      "metadata": {
        "id": "B6tt6_mMdR2O"
      },
      "execution_count": null,
      "outputs": []
    },
    {
      "cell_type": "markdown",
      "source": [
        "# Script \"ai2023_s12_04_00.py\""
      ],
      "metadata": {
        "id": "7StCuZLqdcY4"
      }
    },
    {
      "cell_type": "code",
      "source": [
        "# Run this cell to show the source code of the script.\n",
        "\n",
        "!cat ai2023_s12_04_00.py"
      ],
      "metadata": {
        "id": "dgkV47chdcZA"
      },
      "execution_count": null,
      "outputs": []
    },
    {
      "cell_type": "code",
      "source": [
        "# Run this cell to execute the script.\n",
        "\n",
        "!python3.10 ai2023_s12_04_00.py -h"
      ],
      "metadata": {
        "id": "HaeZX8FMdcZD"
      },
      "execution_count": null,
      "outputs": []
    },
    {
      "cell_type": "code",
      "source": [
        "# Run this cell to execute the script.\n",
        "\n",
        "!python3.10 ai2023_s12_04_00.py -a 3 -b 4"
      ],
      "metadata": {
        "id": "x0OaOc5idg5P"
      },
      "execution_count": null,
      "outputs": []
    },
    {
      "cell_type": "code",
      "source": [
        "# Run this cell to execute the script.\n",
        "\n",
        "!python3.10 ai2023_s12_04_00.py -a 5 -b 6"
      ],
      "metadata": {
        "id": "Dzh3p25bdlpx"
      },
      "execution_count": null,
      "outputs": []
    },
    {
      "cell_type": "markdown",
      "source": [
        "# Practice s12-28"
      ],
      "metadata": {
        "id": "4BeQMVvhdo77"
      }
    },
    {
      "cell_type": "code",
      "source": [
        "# Write down your code in this cell.\n",
        "\n",
        "\n",
        "\n",
        "\n"
      ],
      "metadata": {
        "id": "9-97uUo-do78"
      },
      "execution_count": null,
      "outputs": []
    },
    {
      "cell_type": "markdown",
      "source": [
        "# Script \"ai2023_s12_04_01.py\""
      ],
      "metadata": {
        "id": "_wdpZE-Gdt1t"
      }
    },
    {
      "cell_type": "code",
      "source": [
        "# Run this cell to show the source code of the script.\n",
        "\n",
        "!cat ai2023_s12_04_01.py"
      ],
      "metadata": {
        "id": "mThZ48xhdt1v"
      },
      "execution_count": null,
      "outputs": []
    },
    {
      "cell_type": "code",
      "source": [
        "# Run this cell to execute the script.\n",
        "\n",
        "!python3.10 ai2023_s12_04_01.py -h"
      ],
      "metadata": {
        "id": "64a7VYIedt1x"
      },
      "execution_count": null,
      "outputs": []
    },
    {
      "cell_type": "code",
      "source": [
        "# Run this cell to execute the script.\n",
        "\n",
        "!python3.10 ai2023_s12_04_01.py -a 30"
      ],
      "metadata": {
        "id": "f_R9KZwRdt1z"
      },
      "execution_count": null,
      "outputs": []
    },
    {
      "cell_type": "code",
      "source": [
        "# Run this cell to execute the script.\n",
        "\n",
        "!python3.10 ai2023_s12_04_01.py -a 270"
      ],
      "metadata": {
        "id": "lLbi5AZudt11"
      },
      "execution_count": null,
      "outputs": []
    },
    {
      "cell_type": "markdown",
      "source": [
        "# Practice s12-29"
      ],
      "metadata": {
        "id": "CVg0jQ3tdt13"
      }
    },
    {
      "cell_type": "code",
      "source": [
        "# Write down your code in this cell.\n",
        "\n",
        "\n",
        "\n",
        "\n"
      ],
      "metadata": {
        "id": "qJepVFYldt14"
      },
      "execution_count": null,
      "outputs": []
    },
    {
      "cell_type": "markdown",
      "source": [
        "# Script \"ai2023_s12_04_02.py\""
      ],
      "metadata": {
        "id": "NH-ecVW0d6ao"
      }
    },
    {
      "cell_type": "code",
      "source": [
        "# Run this cell to show the source code of the script.\n",
        "\n",
        "!cat ai2023_s12_04_02.py"
      ],
      "metadata": {
        "id": "aD3LqzMrd6ar"
      },
      "execution_count": null,
      "outputs": []
    },
    {
      "cell_type": "code",
      "source": [
        "# Run this cell to execute the script.\n",
        "\n",
        "!python3.10 ai2023_s12_04_02.py -h"
      ],
      "metadata": {
        "id": "w8d5MXmAd6as"
      },
      "execution_count": null,
      "outputs": []
    },
    {
      "cell_type": "code",
      "source": [
        "# Run this cell to execute the script.\n",
        "\n",
        "!python3.10 ai2023_s12_04_02.py -a 45"
      ],
      "metadata": {
        "id": "BqPZvosjd6at"
      },
      "execution_count": null,
      "outputs": []
    },
    {
      "cell_type": "code",
      "source": [
        "# Run this cell to execute the script.\n",
        "\n",
        "!python3.10 ai2023_s12_04_02.py --angle 45"
      ],
      "metadata": {
        "id": "NJNwiceHd6au"
      },
      "execution_count": null,
      "outputs": []
    },
    {
      "cell_type": "markdown",
      "source": [
        "# Practice s12-30"
      ],
      "metadata": {
        "id": "xWhyGTXLd6av"
      }
    },
    {
      "cell_type": "code",
      "source": [
        "# Write down your code in this cell.\n",
        "\n",
        "\n",
        "\n",
        "\n"
      ],
      "metadata": {
        "id": "MNcJ6rmOd6av"
      },
      "execution_count": null,
      "outputs": []
    },
    {
      "cell_type": "markdown",
      "source": [
        "# Script \"ai2023_s12_04_03.py\""
      ],
      "metadata": {
        "id": "onZWQDuVeHMG"
      }
    },
    {
      "cell_type": "code",
      "source": [
        "# Run this cell to show the source code of the script.\n",
        "\n",
        "!cat ai2023_s12_04_03.py"
      ],
      "metadata": {
        "id": "osGODPYDeHMP"
      },
      "execution_count": null,
      "outputs": []
    },
    {
      "cell_type": "code",
      "source": [
        "# Run this cell to execute the script.\n",
        "\n",
        "!python3.10 ai2023_s12_04_03.py -h"
      ],
      "metadata": {
        "id": "Q6J3yNmseHMS"
      },
      "execution_count": null,
      "outputs": []
    },
    {
      "cell_type": "code",
      "source": [
        "# Run this cell to execute the script.\n",
        "\n",
        "!python3.10 ai2023_s12_04_03.py ai2023_s12_00_00.py"
      ],
      "metadata": {
        "id": "Dkn6qj0EeHMV"
      },
      "execution_count": null,
      "outputs": []
    },
    {
      "cell_type": "code",
      "source": [
        "# Run this cell to execute the script.\n",
        "\n",
        "!python3.10 ai2023_s12_04_03.py /etc/fstab"
      ],
      "metadata": {
        "id": "1Z6BklCPeHMX"
      },
      "execution_count": null,
      "outputs": []
    },
    {
      "cell_type": "code",
      "source": [
        "# Run this cell to execute the script.\n",
        "\n",
        "!python3.10 ai2023_s12_04_03.py /etc/group /etc/hosts /etc/passwd"
      ],
      "metadata": {
        "id": "G5YUceXkeR9V"
      },
      "execution_count": null,
      "outputs": []
    },
    {
      "cell_type": "code",
      "source": [
        "# Run this cell to execute the script.\n",
        "\n",
        "!python3.10 ai2023_s12_04_03.py foo.py bar.txt baz.data"
      ],
      "metadata": {
        "id": "2aryHD1weWmu"
      },
      "execution_count": null,
      "outputs": []
    },
    {
      "cell_type": "markdown",
      "source": [
        "# Practice s12-31"
      ],
      "metadata": {
        "id": "mXDy_HFjeHMZ"
      }
    },
    {
      "cell_type": "code",
      "source": [
        "# Write down your code in this cell.\n",
        "\n",
        "\n",
        "\n",
        "\n"
      ],
      "metadata": {
        "id": "n_Cz3ZnFeHMa"
      },
      "execution_count": null,
      "outputs": []
    },
    {
      "cell_type": "markdown",
      "source": [
        "# Script \"ai2023_s12_05_00.py\""
      ],
      "metadata": {
        "id": "UODswcy8e4EQ"
      }
    },
    {
      "cell_type": "code",
      "source": [
        "# Run this cell to show the source code of the script.\n",
        "\n",
        "!cat ai2023_s12_05_00.py"
      ],
      "metadata": {
        "id": "MSVV1Ynle4ET"
      },
      "execution_count": null,
      "outputs": []
    },
    {
      "cell_type": "code",
      "source": [
        "# Run this cell to execute the script.\n",
        "\n",
        "!python3.10 ai2023_s12_05_00.py -h"
      ],
      "metadata": {
        "id": "6ZMuUwd4e4EV"
      },
      "execution_count": null,
      "outputs": []
    },
    {
      "cell_type": "code",
      "source": [
        "# Run this cell to execute the script.\n",
        "\n",
        "!python3.10 ai2023_s12_05_00.py -o ai2023_s12_05_00.data -s 2024-01-01T12:00:00 -e 2024-01-05T20:00:00 -p 7.5 -a 0.4 -m 18.0 -u 0.03 -t 180.0"
      ],
      "metadata": {
        "id": "7vgbXvUle4EW"
      },
      "execution_count": null,
      "outputs": []
    },
    {
      "cell_type": "markdown",
      "source": [
        "# Practice s12-32"
      ],
      "metadata": {
        "id": "sS5tZK0TfKCo"
      }
    },
    {
      "cell_type": "code",
      "source": [
        "# Write down your code in this cell.\n",
        "\n",
        "\n",
        "\n",
        "\n"
      ],
      "metadata": {
        "id": "0J-InXwAfKCr"
      },
      "execution_count": null,
      "outputs": []
    },
    {
      "cell_type": "markdown",
      "source": [
        "# Script \"ai2023_s12_05_01.py\""
      ],
      "metadata": {
        "id": "3dHjWAzYfR92"
      }
    },
    {
      "cell_type": "code",
      "source": [
        "# Run this cell to show the source code of the script.\n",
        "\n",
        "!cat ai2023_s12_05_01.py"
      ],
      "metadata": {
        "id": "nlhw8wMofR96"
      },
      "execution_count": null,
      "outputs": []
    },
    {
      "cell_type": "code",
      "source": [
        "# Run this cell to execute the script.\n",
        "\n",
        "!python3.10 ai2023_s12_05_01.py -h"
      ],
      "metadata": {
        "id": "bpmrm6bcfR98"
      },
      "execution_count": null,
      "outputs": []
    },
    {
      "cell_type": "code",
      "source": [
        "# Run this cell to execute the script.\n",
        "\n",
        "!python3.10 ai2023_s12_05_01.py -i ai2023_s12_05_00.data -o ai2023_s12_05_01.png"
      ],
      "metadata": {
        "id": "BAKOIMtKfR9-"
      },
      "execution_count": null,
      "outputs": []
    },
    {
      "cell_type": "code",
      "source": [
        "# Run this cell to display PNG image.\n",
        "\n",
        "# importing IPython.display module\n",
        "import IPython.display\n",
        "\n",
        "# displaying PNG file\n",
        "IPython.display.Image ('ai2023_s12_05_01.png')"
      ],
      "metadata": {
        "id": "ycC2NMbwfi_U"
      },
      "execution_count": null,
      "outputs": []
    },
    {
      "cell_type": "markdown",
      "source": [
        "# Practice s12-33"
      ],
      "metadata": {
        "id": "ac2gtXivfR-A"
      }
    },
    {
      "cell_type": "code",
      "source": [
        "# Write down your code in this cell.\n",
        "\n",
        "\n",
        "\n",
        "\n"
      ],
      "metadata": {
        "id": "Yu-nCSJhfR-B"
      },
      "execution_count": null,
      "outputs": []
    },
    {
      "cell_type": "markdown",
      "source": [
        "# Script \"ai2023_s12_05_02.py\""
      ],
      "metadata": {
        "id": "q6ghOQz7fwuv"
      }
    },
    {
      "cell_type": "code",
      "source": [
        "# Run this cell to show the source code of the script.\n",
        "\n",
        "!cat ai2023_s12_05_02.py"
      ],
      "metadata": {
        "id": "xoW9OS1cfwux"
      },
      "execution_count": null,
      "outputs": []
    },
    {
      "cell_type": "code",
      "source": [
        "# Run this cell to execute the script.\n",
        "\n",
        "!python3.10 ai2023_s12_05_02.py -h"
      ],
      "metadata": {
        "id": "DsiHyVQufwuy"
      },
      "execution_count": null,
      "outputs": []
    },
    {
      "cell_type": "code",
      "source": [
        "# Run this cell to execute the script.\n",
        "\n",
        "!python3.10 ai2023_s12_05_02.py -i ai2023_s12_05_00.data -o ai2023_s12_05_02_70.png -p 7.0"
      ],
      "metadata": {
        "id": "OKvZCi4Efwuy"
      },
      "execution_count": null,
      "outputs": []
    },
    {
      "cell_type": "code",
      "source": [
        "# Run this cell to display PNG image.\n",
        "\n",
        "# importing IPython.display module\n",
        "import IPython.display\n",
        "\n",
        "# displaying PNG file\n",
        "IPython.display.Image ('ai2023_s12_05_02_70.png')"
      ],
      "metadata": {
        "id": "f2KPFSW2fwuz"
      },
      "execution_count": null,
      "outputs": []
    },
    {
      "cell_type": "markdown",
      "source": [
        "# Practice s12-34"
      ],
      "metadata": {
        "id": "lgCs71Z8fwuz"
      }
    },
    {
      "cell_type": "code",
      "source": [
        "# Write down your code in this cell.\n",
        "\n",
        "\n",
        "\n",
        "\n"
      ],
      "metadata": {
        "id": "__8wgw-ffwu0"
      },
      "execution_count": null,
      "outputs": []
    },
    {
      "cell_type": "code",
      "source": [
        "# Run this cell to execute the script.\n",
        "\n",
        "!python3.10 ai2023_s12_05_02.py -i ai2023_s12_05_00.data -o ai2023_s12_05_02_71.png -p 7.1"
      ],
      "metadata": {
        "id": "90jQjftqgBmT"
      },
      "execution_count": null,
      "outputs": []
    },
    {
      "cell_type": "code",
      "source": [
        "# Run this cell to display PNG image.\n",
        "\n",
        "# importing IPython.display module\n",
        "import IPython.display\n",
        "\n",
        "# displaying PNG file\n",
        "IPython.display.Image ('ai2023_s12_05_02_71.png')"
      ],
      "metadata": {
        "id": "ZYaPyNUTgBmc"
      },
      "execution_count": null,
      "outputs": []
    },
    {
      "cell_type": "markdown",
      "source": [
        "# Practice s12-35"
      ],
      "metadata": {
        "id": "6_3O2G0GgBmf"
      }
    },
    {
      "cell_type": "code",
      "source": [
        "# Write down your code in this cell.\n",
        "\n",
        "\n",
        "\n",
        "\n"
      ],
      "metadata": {
        "id": "-JxEQlQQgBmk"
      },
      "execution_count": null,
      "outputs": []
    },
    {
      "cell_type": "code",
      "source": [
        "# Run this cell to execute the script.\n",
        "\n",
        "!python3.10 ai2023_s12_05_02.py -i ai2023_s12_05_00.data -o ai2023_s12_05_02_75.png -p 7.5"
      ],
      "metadata": {
        "id": "hIkofLXAgIrh"
      },
      "execution_count": null,
      "outputs": []
    },
    {
      "cell_type": "code",
      "source": [
        "# Run this cell to display PNG image.\n",
        "\n",
        "# importing IPython.display module\n",
        "import IPython.display\n",
        "\n",
        "# displaying PNG file\n",
        "IPython.display.Image ('ai2023_s12_05_02_75.png')"
      ],
      "metadata": {
        "id": "cJpiOslhgIrk"
      },
      "execution_count": null,
      "outputs": []
    },
    {
      "cell_type": "markdown",
      "source": [
        "# Practice s12-36"
      ],
      "metadata": {
        "id": "SPTEkHXqgIrl"
      }
    },
    {
      "cell_type": "code",
      "source": [
        "# Write down your code in this cell.\n",
        "\n",
        "\n",
        "\n",
        "\n"
      ],
      "metadata": {
        "id": "jQOJ7_YVgIrn"
      },
      "execution_count": null,
      "outputs": []
    },
    {
      "cell_type": "markdown",
      "source": [
        "# Script \"ai2023_s12_05_03.py\""
      ],
      "metadata": {
        "id": "LUUqya8ogURn"
      }
    },
    {
      "cell_type": "code",
      "source": [
        "# Run this cell to show the source code of the script.\n",
        "\n",
        "!cat ai2023_s12_05_03.py"
      ],
      "metadata": {
        "id": "YHsodQNSgURq"
      },
      "execution_count": null,
      "outputs": []
    },
    {
      "cell_type": "code",
      "source": [
        "# Run this cell to execute the script.\n",
        "\n",
        "!python3.10 ai2023_s12_05_03.py -h"
      ],
      "metadata": {
        "id": "16eADQdCgURr"
      },
      "execution_count": null,
      "outputs": []
    },
    {
      "cell_type": "code",
      "source": [
        "# Run this cell to execute the script.\n",
        "\n",
        "!python3.10 ai2023_s12_05_03.py -i ai2023_s12_05_00.data -o ai2023_s12_05_03.png 7.0 7.1 7.2 7.3 7.4 7.5"
      ],
      "metadata": {
        "id": "BsFVg_4wgURs"
      },
      "execution_count": null,
      "outputs": []
    },
    {
      "cell_type": "code",
      "source": [
        "# Run this cell to display PNG image.\n",
        "\n",
        "# importing IPython.display module\n",
        "import IPython.display\n",
        "\n",
        "# displaying PNG file\n",
        "IPython.display.Image ('ai2023_s12_05_03.png')"
      ],
      "metadata": {
        "id": "nKZiBsUOgURt"
      },
      "execution_count": null,
      "outputs": []
    },
    {
      "cell_type": "markdown",
      "source": [
        "# Practice s12-37"
      ],
      "metadata": {
        "id": "Rav57qLQgURt"
      }
    },
    {
      "cell_type": "code",
      "source": [
        "# Write down your code in this cell.\n",
        "\n",
        "\n",
        "\n",
        "\n"
      ],
      "metadata": {
        "id": "GG04UkRVgURu"
      },
      "execution_count": null,
      "outputs": []
    },
    {
      "cell_type": "markdown",
      "source": [
        "# Script \"ai2023_s12_05_04.py\""
      ],
      "metadata": {
        "id": "fCCxFMWvguoZ"
      }
    },
    {
      "cell_type": "code",
      "source": [
        "# Run this cell to show the source code of the script.\n",
        "\n",
        "!cat ai2023_s12_05_04.py"
      ],
      "metadata": {
        "id": "hciFJPeZguod"
      },
      "execution_count": null,
      "outputs": []
    },
    {
      "cell_type": "code",
      "source": [
        "# Run this cell to execute the script.\n",
        "\n",
        "!python3.10 ai2023_s12_05_04.py -h"
      ],
      "metadata": {
        "id": "_4Gsr9Eoguof"
      },
      "execution_count": null,
      "outputs": []
    },
    {
      "cell_type": "code",
      "source": [
        "# Run this cell to execute the script.\n",
        "\n",
        "!python3.10 ai2023_s12_05_04.py -i ai2023_s12_05_00.data -o ai2023_s12_05_04.png"
      ],
      "metadata": {
        "id": "DsEhE5PSguog"
      },
      "execution_count": null,
      "outputs": []
    },
    {
      "cell_type": "code",
      "source": [
        "# Run this cell to display PNG image.\n",
        "\n",
        "# importing IPython.display module\n",
        "import IPython.display\n",
        "\n",
        "# displaying PNG file\n",
        "IPython.display.Image ('ai2023_s12_05_04.png')"
      ],
      "metadata": {
        "id": "WSTa2UdJguoh"
      },
      "execution_count": null,
      "outputs": []
    },
    {
      "cell_type": "markdown",
      "source": [
        "# Practice s12-38"
      ],
      "metadata": {
        "id": "t1183U8Pguoo"
      }
    },
    {
      "cell_type": "code",
      "source": [
        "# Write down your code in this cell.\n",
        "\n",
        "\n",
        "\n",
        "\n"
      ],
      "metadata": {
        "id": "KKmoUU1Xguop"
      },
      "execution_count": null,
      "outputs": []
    },
    {
      "cell_type": "markdown",
      "source": [
        "# Script \"ai2023_s12_05_05.py\""
      ],
      "metadata": {
        "id": "GSULJcWMhBbQ"
      }
    },
    {
      "cell_type": "code",
      "source": [
        "# Run this cell to show the source code of the script.\n",
        "\n",
        "!cat ai2023_s12_05_05.py"
      ],
      "metadata": {
        "id": "doVmtpH4hBbV"
      },
      "execution_count": null,
      "outputs": []
    },
    {
      "cell_type": "code",
      "source": [
        "# Run this cell to execute the script.\n",
        "\n",
        "!python3.10 ai2023_s12_05_05.py -h"
      ],
      "metadata": {
        "id": "cwBeWYzwhBbW"
      },
      "execution_count": null,
      "outputs": []
    },
    {
      "cell_type": "code",
      "source": [
        "# Run this cell to execute the script.\n",
        "\n",
        "!python3.10 ai2023_s12_05_05.py -i ai2023_s12_05_04.data -o ai2023_s12_05_05.png"
      ],
      "metadata": {
        "id": "kb_VHslQhBbX"
      },
      "execution_count": null,
      "outputs": []
    },
    {
      "cell_type": "code",
      "source": [
        "# Run this cell to display PNG image.\n",
        "\n",
        "# importing IPython.display module\n",
        "import IPython.display\n",
        "\n",
        "# displaying PNG file\n",
        "IPython.display.Image ('ai2023_s12_05_05.png')"
      ],
      "metadata": {
        "id": "fjhqvS4QhBbY"
      },
      "execution_count": null,
      "outputs": []
    },
    {
      "cell_type": "markdown",
      "source": [
        "# Practice s12-39"
      ],
      "metadata": {
        "id": "TTRv_PhmhBba"
      }
    },
    {
      "cell_type": "code",
      "source": [
        "# Write down your code in this cell.\n",
        "\n",
        "\n",
        "\n",
        "\n"
      ],
      "metadata": {
        "id": "6nKElB9ahBbd"
      },
      "execution_count": null,
      "outputs": []
    },
    {
      "cell_type": "markdown",
      "source": [
        "# Script \"ai2023_s12_05_06.py\""
      ],
      "metadata": {
        "id": "naffQDG4hQG5"
      }
    },
    {
      "cell_type": "code",
      "source": [
        "# Run this cell to show the source code of the script.\n",
        "\n",
        "!cat ai2023_s12_05_06.py"
      ],
      "metadata": {
        "id": "VL6KQ8vxhQG6"
      },
      "execution_count": null,
      "outputs": []
    },
    {
      "cell_type": "code",
      "source": [
        "# Run this cell to execute the script.\n",
        "\n",
        "!python3.10 ai2023_s12_05_06.py -h"
      ],
      "metadata": {
        "id": "20VZHwXJhQG7"
      },
      "execution_count": null,
      "outputs": []
    },
    {
      "cell_type": "code",
      "source": [
        "# Run this cell to execute the script.\n",
        "\n",
        "!python3.10 ai2023_s12_05_06.py -i ai2023_s12_05_04.data -o ai2023_s12_05_06.png -a 0.1 -b 30"
      ],
      "metadata": {
        "id": "3kBEyuMYhQG8"
      },
      "execution_count": null,
      "outputs": []
    },
    {
      "cell_type": "code",
      "source": [
        "# Run this cell to display PNG image.\n",
        "\n",
        "# importing IPython.display module\n",
        "import IPython.display\n",
        "\n",
        "# displaying PNG file\n",
        "IPython.display.Image ('ai2023_s12_05_06.png')"
      ],
      "metadata": {
        "id": "gca0xI7LhQG-"
      },
      "execution_count": null,
      "outputs": []
    },
    {
      "cell_type": "code",
      "source": [
        "# Run this cell to execute the script.\n",
        "\n",
        "!python3.10 ai2023_s12_05_06.py -i ai2023_s12_05_04.data -o ai2023_s12_05_06_5_10.png -a 5 -b 10"
      ],
      "metadata": {
        "id": "M_OMUEMWhhuh"
      },
      "execution_count": null,
      "outputs": []
    },
    {
      "cell_type": "code",
      "source": [
        "# Run this cell to display PNG image.\n",
        "\n",
        "# importing IPython.display module\n",
        "import IPython.display\n",
        "\n",
        "# displaying PNG file\n",
        "IPython.display.Image ('ai2023_s12_05_06_5_10.png')"
      ],
      "metadata": {
        "id": "XhUdUpmohhuj"
      },
      "execution_count": null,
      "outputs": []
    },
    {
      "cell_type": "markdown",
      "source": [
        "# Practice s12-40"
      ],
      "metadata": {
        "id": "7w6sanwkhp9J"
      }
    },
    {
      "cell_type": "code",
      "source": [
        "# Write down your code in this cell.\n",
        "\n",
        "\n",
        "\n",
        "\n"
      ],
      "metadata": {
        "id": "1t-uFsPuhp9N"
      },
      "execution_count": null,
      "outputs": []
    },
    {
      "cell_type": "markdown",
      "source": [
        "# Script \"ai2023_s12_05_07.py\""
      ],
      "metadata": {
        "id": "uXBmg5yfhzSh"
      }
    },
    {
      "cell_type": "code",
      "source": [
        "# Run this cell to show the source code of the script.\n",
        "\n",
        "!cat ai2023_s12_05_07.py"
      ],
      "metadata": {
        "id": "EKPsTQ17hzSi"
      },
      "execution_count": null,
      "outputs": []
    },
    {
      "cell_type": "code",
      "source": [
        "# Run this cell to execute the script.\n",
        "\n",
        "!python3.10 ai2023_s12_05_07.py -h"
      ],
      "metadata": {
        "id": "ikhJFLYHhzSj"
      },
      "execution_count": null,
      "outputs": []
    },
    {
      "cell_type": "code",
      "source": [
        "# Run this cell to execute the script.\n",
        "\n",
        "!python3.10 ai2023_s12_05_07.py -i ai2023_s12_05_00.data -o ai2023_s12_05_07.data -n 100"
      ],
      "metadata": {
        "id": "qTkbnFuRhzSj"
      },
      "execution_count": null,
      "outputs": []
    },
    {
      "cell_type": "markdown",
      "source": [
        "# Practice s12-41"
      ],
      "metadata": {
        "id": "hDWA6EXjhzSn"
      }
    },
    {
      "cell_type": "code",
      "source": [
        "# Write down your code in this cell.\n",
        "\n",
        "\n",
        "\n",
        "\n"
      ],
      "metadata": {
        "id": "Y-pYlWxHhzSo"
      },
      "execution_count": null,
      "outputs": []
    },
    {
      "cell_type": "markdown",
      "source": [
        "# Script \"ai2023_s12_05_08.py\""
      ],
      "metadata": {
        "id": "WvDBC8ubiKiC"
      }
    },
    {
      "cell_type": "code",
      "source": [
        "# Run this cell to show the source code of the script.\n",
        "\n",
        "!cat ai2023_s12_05_08.py"
      ],
      "metadata": {
        "id": "3DV-lK1LiKiI"
      },
      "execution_count": null,
      "outputs": []
    },
    {
      "cell_type": "code",
      "source": [
        "# Run this cell to execute the script.\n",
        "\n",
        "!python3.10 ai2023_s12_05_08.py -h"
      ],
      "metadata": {
        "id": "a3bAu-IEiKiN"
      },
      "execution_count": null,
      "outputs": []
    },
    {
      "cell_type": "code",
      "source": [
        "# Run this cell to execute the script.\n",
        "\n",
        "!python3.10 ai2023_s12_05_08.py -i ai2023_s12_05_07.data -o ai2023_s12_05_08.png -a 6 -b 9"
      ],
      "metadata": {
        "id": "Z3Bu3kCviKiP"
      },
      "execution_count": null,
      "outputs": []
    },
    {
      "cell_type": "code",
      "source": [
        "# Run this cell to display PNG image.\n",
        "\n",
        "# importing IPython.display module\n",
        "import IPython.display\n",
        "\n",
        "# displaying PNG file\n",
        "IPython.display.Image ('ai2023_s12_05_08.png')"
      ],
      "metadata": {
        "id": "QUxWVbfOia8r"
      },
      "execution_count": null,
      "outputs": []
    },
    {
      "cell_type": "markdown",
      "source": [
        "# Practice s12-42"
      ],
      "metadata": {
        "id": "8TwbSxcRiKiR"
      }
    },
    {
      "cell_type": "code",
      "source": [
        "# Write down your code in this cell.\n",
        "\n",
        "\n",
        "\n",
        "\n"
      ],
      "metadata": {
        "id": "3rv8hd7piKiT"
      },
      "execution_count": null,
      "outputs": []
    },
    {
      "cell_type": "markdown",
      "source": [
        "# Script \"ai2023_s12_05_09.py\""
      ],
      "metadata": {
        "id": "RAWBGp1siniF"
      }
    },
    {
      "cell_type": "code",
      "source": [
        "# Run this cell to show the source code of the script.\n",
        "\n",
        "!cat ai2023_s12_05_09.py"
      ],
      "metadata": {
        "id": "9PVomyCxiniJ"
      },
      "execution_count": null,
      "outputs": []
    },
    {
      "cell_type": "code",
      "source": [
        "# Run this cell to execute the script.\n",
        "\n",
        "!python3.10 ai2023_s12_05_09.py -h"
      ],
      "metadata": {
        "id": "vvofKeHbiniL"
      },
      "execution_count": null,
      "outputs": []
    },
    {
      "cell_type": "code",
      "source": [
        "# Run this cell to execute the script.\n",
        "\n",
        "!python3.10 ai2023_s12_05_09.py -i ai2023_s12_05_07.data -o ai2023_s12_05_09_1.png -x1 6 -x2 9 -f1 7 -f2 8"
      ],
      "metadata": {
        "id": "LBfA3CNLiniL"
      },
      "execution_count": null,
      "outputs": []
    },
    {
      "cell_type": "code",
      "source": [
        "# Run this cell to display PNG image.\n",
        "\n",
        "# importing IPython.display module\n",
        "import IPython.display\n",
        "\n",
        "# displaying PNG file\n",
        "IPython.display.Image ('ai2023_s12_05_09_1.png')"
      ],
      "metadata": {
        "id": "nmqUWv0ViniN"
      },
      "execution_count": null,
      "outputs": []
    },
    {
      "cell_type": "markdown",
      "source": [
        "# Practice s12-43"
      ],
      "metadata": {
        "id": "jys1NIr-iniN"
      }
    },
    {
      "cell_type": "code",
      "source": [
        "# Write down your code in this cell.\n",
        "\n",
        "\n",
        "\n",
        "\n"
      ],
      "metadata": {
        "id": "61cmwTvpiniO"
      },
      "execution_count": null,
      "outputs": []
    },
    {
      "cell_type": "code",
      "source": [
        "# Run this cell to execute the script.\n",
        "\n",
        "!python3.10 ai2023_s12_05_09.py -i ai2023_s12_05_07.data -o ai2023_s12_05_09_2.png -x1 6.5 -x2 8.5 -f1 7.2 -f2 7.8"
      ],
      "metadata": {
        "id": "GlTyIh7IjFoN"
      },
      "execution_count": null,
      "outputs": []
    },
    {
      "cell_type": "code",
      "source": [
        "# Run this cell to display PNG image.\n",
        "\n",
        "# importing IPython.display module\n",
        "import IPython.display\n",
        "\n",
        "# displaying PNG file\n",
        "IPython.display.Image ('ai2023_s12_05_09_2.png')"
      ],
      "metadata": {
        "id": "_0gZkgyGjFoU"
      },
      "execution_count": null,
      "outputs": []
    },
    {
      "cell_type": "code",
      "source": [
        "# Run this cell to execute the script.\n",
        "\n",
        "!python3.10 ai2023_s12_05_09.py -i ai2023_s12_05_07.data -o ai2023_s12_05_09_3.png -x1 6.5 -x2 8.5 -f1 7.3 -f2 7.7"
      ],
      "metadata": {
        "id": "m0YM4zzRjQmc"
      },
      "execution_count": null,
      "outputs": []
    },
    {
      "cell_type": "code",
      "source": [
        "# Run this cell to display PNG image.\n",
        "\n",
        "# importing IPython.display module\n",
        "import IPython.display\n",
        "\n",
        "# displaying PNG file\n",
        "IPython.display.Image ('ai2023_s12_05_09_3.png')"
      ],
      "metadata": {
        "id": "rjX7URMTjQmf"
      },
      "execution_count": null,
      "outputs": []
    },
    {
      "cell_type": "markdown",
      "source": [
        "# Practice s12-44"
      ],
      "metadata": {
        "id": "hdcjFLIHjWhv"
      }
    },
    {
      "cell_type": "code",
      "source": [
        "# Write down your code in this cell.\n",
        "\n",
        "\n",
        "\n",
        "\n"
      ],
      "metadata": {
        "id": "cPXdAzIsjWhx"
      },
      "execution_count": null,
      "outputs": []
    },
    {
      "cell_type": "markdown",
      "source": [
        "# Script \"ai2023_s12_05_10.py\""
      ],
      "metadata": {
        "id": "Ub9Fdvumjgr7"
      }
    },
    {
      "cell_type": "code",
      "source": [
        "# Run this cell to show the source code of the script.\n",
        "\n",
        "!cat ai2023_s12_05_10.py"
      ],
      "metadata": {
        "id": "rqzi2jvCjgr7"
      },
      "execution_count": null,
      "outputs": []
    },
    {
      "cell_type": "code",
      "source": [
        "# Run this cell to execute the script.\n",
        "\n",
        "!python3.10 ai2023_s12_05_10.py -h"
      ],
      "metadata": {
        "id": "Q7kyNqJrjgr8"
      },
      "execution_count": null,
      "outputs": []
    },
    {
      "cell_type": "code",
      "source": [
        "# Run this cell to execute the script.\n",
        "\n",
        "!python3.10 ai2023_s12_05_10.py -i ai2023_s12_05_00.data -o ai2023_s12_05_10.png -p 7.5038"
      ],
      "metadata": {
        "id": "k5d0M9ywjgr9"
      },
      "execution_count": null,
      "outputs": []
    },
    {
      "cell_type": "code",
      "source": [
        "# Run this cell to display PNG image.\n",
        "\n",
        "# importing IPython.display module\n",
        "import IPython.display\n",
        "\n",
        "# displaying PNG file\n",
        "IPython.display.Image ('ai2023_s12_05_10.png')"
      ],
      "metadata": {
        "id": "61usXeytjgr9"
      },
      "execution_count": null,
      "outputs": []
    },
    {
      "cell_type": "markdown",
      "source": [
        "# Practice s12-45"
      ],
      "metadata": {
        "id": "0MHAgcZ1jgr_"
      }
    },
    {
      "cell_type": "code",
      "source": [
        "# Write down your code in this cell.\n",
        "\n",
        "\n",
        "\n",
        "\n"
      ],
      "metadata": {
        "id": "KLgt52fnjgr_"
      },
      "execution_count": null,
      "outputs": []
    },
    {
      "cell_type": "markdown",
      "source": [
        "# Dealing with more realistic data"
      ],
      "metadata": {
        "id": "mz2dg-10ngG0"
      }
    },
    {
      "cell_type": "markdown",
      "source": [
        "# Script \"ai2023_s12_06_00.py\""
      ],
      "metadata": {
        "id": "4L2W7FIXka4n"
      }
    },
    {
      "cell_type": "code",
      "source": [
        "# Run this cell to show the source code of the script.\n",
        "\n",
        "!cat ai2023_s12_06_00.py"
      ],
      "metadata": {
        "id": "uTWkFYEQka4u"
      },
      "execution_count": null,
      "outputs": []
    },
    {
      "cell_type": "code",
      "source": [
        "# Run this cell to execute the script.\n",
        "\n",
        "!python3.10 ai2023_s12_06_00.py -h"
      ],
      "metadata": {
        "id": "Mi049Rlpka4w"
      },
      "execution_count": null,
      "outputs": []
    },
    {
      "cell_type": "code",
      "source": [
        "# Run this cell to execute the script.\n",
        "\n",
        "!python3.10 ai2023_s12_06_00.py -a 0.45 -p 17 -d 0.2 -m 22 -t 120 -r 20 -u 0.04 -s 2024-01-01T12:00:00 -e 2024-01-06T20:00:00 -o ai2023_s12_06_00.data"
      ],
      "metadata": {
        "id": "XQrhjc_yka4x"
      },
      "execution_count": null,
      "outputs": []
    },
    {
      "cell_type": "markdown",
      "source": [
        "# Practice s12-46"
      ],
      "metadata": {
        "id": "xwePN-rUkoTE"
      }
    },
    {
      "cell_type": "code",
      "source": [
        "# Write down your code in this cell.\n",
        "\n",
        "\n",
        "\n",
        "\n"
      ],
      "metadata": {
        "id": "TVkRz2OYkoTF"
      },
      "execution_count": null,
      "outputs": []
    },
    {
      "cell_type": "markdown",
      "source": [
        "# Script \"ai2023_s12_06_01.py\""
      ],
      "metadata": {
        "id": "gI-vypSEks0b"
      }
    },
    {
      "cell_type": "code",
      "source": [
        "# Run this cell to show the source code of the script.\n",
        "\n",
        "!cat ai2023_s12_06_01.py"
      ],
      "metadata": {
        "id": "RWluYFo4ks0c"
      },
      "execution_count": null,
      "outputs": []
    },
    {
      "cell_type": "code",
      "source": [
        "# Run this cell to execute the script.\n",
        "\n",
        "!python3.10 ai2023_s12_06_01.py -h"
      ],
      "metadata": {
        "id": "EIB56S-mks0d"
      },
      "execution_count": null,
      "outputs": []
    },
    {
      "cell_type": "code",
      "source": [
        "# Run this cell to execute the script.\n",
        "\n",
        "!python3.10 ai2023_s12_06_01.py -i ai2023_s12_06_00.data -o ai2023_s12_06_01.png"
      ],
      "metadata": {
        "id": "wQgwbuxiks0e"
      },
      "execution_count": null,
      "outputs": []
    },
    {
      "cell_type": "code",
      "source": [
        "# Run this cell to display PNG image.\n",
        "\n",
        "# importing IPython.display module\n",
        "import IPython.display\n",
        "\n",
        "# displaying PNG file\n",
        "IPython.display.Image ('ai2023_s12_06_01.png')"
      ],
      "metadata": {
        "id": "tS0Asvqlk1Ls"
      },
      "execution_count": null,
      "outputs": []
    },
    {
      "cell_type": "markdown",
      "source": [
        "# Script \"ai2023_s12_06_02.py\""
      ],
      "metadata": {
        "id": "fSwglrRdlA_f"
      }
    },
    {
      "cell_type": "code",
      "source": [
        "# Run this cell to show the source code of the script.\n",
        "\n",
        "!cat ai2023_s12_06_02.py"
      ],
      "metadata": {
        "id": "JURuDEhElA_g"
      },
      "execution_count": null,
      "outputs": []
    },
    {
      "cell_type": "code",
      "source": [
        "# Run this cell to execute the script.\n",
        "\n",
        "!python3.10 ai2023_s12_06_02.py -h"
      ],
      "metadata": {
        "id": "bJBvLeqblA_g"
      },
      "execution_count": null,
      "outputs": []
    },
    {
      "cell_type": "code",
      "source": [
        "# Run this cell to execute the script.\n",
        "\n",
        "!python3.10 ai2023_s12_06_02.py -i ai2023_s12_06_00.data -o ai2023_s12_06_02.data -a 1 -b 6000 -n 100"
      ],
      "metadata": {
        "id": "0NtpPdYqlA_h"
      },
      "execution_count": null,
      "outputs": []
    },
    {
      "cell_type": "markdown",
      "source": [
        "# Practice s12-47"
      ],
      "metadata": {
        "id": "dnVf-u1AlN4t"
      }
    },
    {
      "cell_type": "code",
      "source": [
        "# Write down your code in this cell.\n",
        "\n",
        "\n",
        "\n",
        "\n"
      ],
      "metadata": {
        "id": "ovVe1xVHlN4u"
      },
      "execution_count": null,
      "outputs": []
    },
    {
      "cell_type": "markdown",
      "source": [
        "# Script \"ai2023_s12_06_03.py\""
      ],
      "metadata": {
        "id": "4iA6qJXtlUoR"
      }
    },
    {
      "cell_type": "code",
      "source": [
        "# Run this cell to show the source code of the script.\n",
        "\n",
        "!cat ai2023_s12_06_03.py"
      ],
      "metadata": {
        "id": "zXn_6x3olUoV"
      },
      "execution_count": null,
      "outputs": []
    },
    {
      "cell_type": "code",
      "source": [
        "# Run this cell to execute the script.\n",
        "\n",
        "!python3.10 ai2023_s12_06_03.py -h"
      ],
      "metadata": {
        "id": "ZroDO07SlUoV"
      },
      "execution_count": null,
      "outputs": []
    },
    {
      "cell_type": "code",
      "source": [
        "# Run this cell to execute the script.\n",
        "\n",
        "!python3.10 ai2023_s12_06_03.py -i ai2023_s12_06_02.data -o ai2023_s12_06_03_1.png -a 0.01 -b 100"
      ],
      "metadata": {
        "id": "sp5KP8BWlUoW"
      },
      "execution_count": null,
      "outputs": []
    },
    {
      "cell_type": "code",
      "source": [
        "# Run this cell to display PNG image.\n",
        "\n",
        "# importing IPython.display module\n",
        "import IPython.display\n",
        "\n",
        "# displaying PNG file\n",
        "IPython.display.Image ('ai2023_s12_06_03_1.png')"
      ],
      "metadata": {
        "id": "wqlJL4khlUoW"
      },
      "execution_count": null,
      "outputs": []
    },
    {
      "cell_type": "markdown",
      "source": [
        "# Practice s12-48"
      ],
      "metadata": {
        "id": "ZuDw2UXolgeV"
      }
    },
    {
      "cell_type": "code",
      "source": [
        "# Write down your code in this cell.\n",
        "\n",
        "\n",
        "\n",
        "\n"
      ],
      "metadata": {
        "id": "eyzOjVnjlgeb"
      },
      "execution_count": null,
      "outputs": []
    },
    {
      "cell_type": "code",
      "source": [
        "# Run this cell to execute the script.\n",
        "\n",
        "!python3.10 ai2023_s12_06_03.py -i ai2023_s12_06_02.data -o ai2023_s12_06_03_2.png -a 14 -b 20"
      ],
      "metadata": {
        "id": "Ffc4mN_kllhv"
      },
      "execution_count": null,
      "outputs": []
    },
    {
      "cell_type": "code",
      "source": [
        "# Run this cell to display PNG image.\n",
        "\n",
        "# importing IPython.display module\n",
        "import IPython.display\n",
        "\n",
        "# displaying PNG file\n",
        "IPython.display.Image ('ai2023_s12_06_03_2.png')"
      ],
      "metadata": {
        "id": "BJevoVqQllh2"
      },
      "execution_count": null,
      "outputs": []
    },
    {
      "cell_type": "code",
      "source": [
        "# Run this cell to execute the script.\n",
        "\n",
        "!python3.10 ai2023_s12_06_02.py -i ai2023_s12_06_00.data -o ai2023_s12_06_02_2.data -a 840 -b 1200 -n 1000"
      ],
      "metadata": {
        "id": "X0e0AyTol3yW"
      },
      "execution_count": null,
      "outputs": []
    },
    {
      "cell_type": "markdown",
      "source": [
        "# Practice s12-49"
      ],
      "metadata": {
        "id": "F6N1_4_emCIO"
      }
    },
    {
      "cell_type": "code",
      "source": [
        "# Write down your code in this cell.\n",
        "\n",
        "\n",
        "\n",
        "\n"
      ],
      "metadata": {
        "id": "b1UK7Z3OmCIV"
      },
      "execution_count": null,
      "outputs": []
    },
    {
      "cell_type": "code",
      "source": [
        "# Run this cell to execute the script.\n",
        "\n",
        "!python3.10 ai2023_s12_06_03.py -i ai2023_s12_06_02.data -o ai2023_s12_06_03_3.png -a 14 -b 20"
      ],
      "metadata": {
        "id": "OtqGnWfamGNP"
      },
      "execution_count": null,
      "outputs": []
    },
    {
      "cell_type": "code",
      "source": [
        "# Run this cell to display PNG image.\n",
        "\n",
        "# importing IPython.display module\n",
        "import IPython.display\n",
        "\n",
        "# displaying PNG file\n",
        "IPython.display.Image ('ai2023_s12_06_03_3.png')"
      ],
      "metadata": {
        "id": "uH_FR2_CmGNR"
      },
      "execution_count": null,
      "outputs": []
    },
    {
      "cell_type": "markdown",
      "source": [
        "# Practice s12-50"
      ],
      "metadata": {
        "id": "PW2wC2AFmPW8"
      }
    },
    {
      "cell_type": "code",
      "source": [
        "# Write down your code in this cell.\n",
        "\n",
        "\n",
        "\n",
        "\n"
      ],
      "metadata": {
        "id": "8ST1qMcOmPXA"
      },
      "execution_count": null,
      "outputs": []
    },
    {
      "cell_type": "code",
      "source": [
        "# Run this cell to execute the script.\n",
        "\n",
        "!python3.10 ai2023_s12_05_09.py -i ai2023_s12_06_02_2.data -o ai2023_s12_06_03_4.png -x1 14 -x2 20 -f1 15.5 -f2 18.5"
      ],
      "metadata": {
        "id": "y22E0dNAmmpY"
      },
      "execution_count": null,
      "outputs": []
    },
    {
      "cell_type": "code",
      "source": [
        "# Run this cell to display PNG image.\n",
        "\n",
        "# importing IPython.display module\n",
        "import IPython.display\n",
        "\n",
        "# displaying PNG file\n",
        "IPython.display.Image ('ai2023_s12_06_03_4.png')"
      ],
      "metadata": {
        "id": "QmovdkE_mxbA"
      },
      "execution_count": null,
      "outputs": []
    },
    {
      "cell_type": "markdown",
      "source": [
        "# Practice s12-51"
      ],
      "metadata": {
        "id": "qsTd1tIIm3KL"
      }
    },
    {
      "cell_type": "code",
      "source": [
        "# Write down your code in this cell.\n",
        "\n",
        "\n",
        "\n",
        "\n"
      ],
      "metadata": {
        "id": "5d9QwH_Tm3KM"
      },
      "execution_count": null,
      "outputs": []
    },
    {
      "cell_type": "code",
      "source": [
        "# Run this cell to execute the script.\n",
        "\n",
        "!python3.10 ai2023_s12_05_09.py -i ai2023_s12_06_02_2.data -o ai2023_s12_06_03_5.png -x1 14 -x2 20 -f1 16.5 -f2 17.5"
      ],
      "metadata": {
        "id": "qwPuccL7m9o-"
      },
      "execution_count": null,
      "outputs": []
    },
    {
      "cell_type": "code",
      "source": [
        "# Run this cell to display PNG image.\n",
        "\n",
        "# importing IPython.display module\n",
        "import IPython.display\n",
        "\n",
        "# displaying PNG file\n",
        "IPython.display.Image ('ai2023_s12_06_03_5.png')"
      ],
      "metadata": {
        "id": "Y6yQpvC3m9o-"
      },
      "execution_count": null,
      "outputs": []
    },
    {
      "cell_type": "markdown",
      "source": [
        "# Practice s12-52"
      ],
      "metadata": {
        "id": "B3bpg8Z0m9o_"
      }
    },
    {
      "cell_type": "code",
      "source": [
        "# Write down your code in this cell.\n",
        "\n",
        "\n",
        "\n",
        "\n"
      ],
      "metadata": {
        "id": "DkTYj9XQm9o_"
      },
      "execution_count": null,
      "outputs": []
    },
    {
      "cell_type": "code",
      "source": [
        "# Run this cell to execute the script.\n",
        "\n",
        "!python3.10 ai2023_s12_05_10.py -i ai2023_s12_06_00.data -o ai2023_s12_06_03_6.png -p 17.0105"
      ],
      "metadata": {
        "id": "dmyiBgNOnK4A"
      },
      "execution_count": null,
      "outputs": []
    },
    {
      "cell_type": "code",
      "source": [
        "# Run this cell to display PNG image.\n",
        "\n",
        "# importing IPython.display module\n",
        "import IPython.display\n",
        "\n",
        "# displaying PNG file\n",
        "IPython.display.Image ('ai2023_s12_06_03_6.png')"
      ],
      "metadata": {
        "id": "3YFdIuSmnSaJ"
      },
      "execution_count": null,
      "outputs": []
    },
    {
      "cell_type": "markdown",
      "source": [
        "# Practice s12-53"
      ],
      "metadata": {
        "id": "PdUYgUktnVdS"
      }
    },
    {
      "cell_type": "code",
      "source": [
        "# Write down your code in this cell.\n",
        "\n",
        "\n",
        "\n",
        "\n"
      ],
      "metadata": {
        "id": "7m-Z14cpnVdT"
      },
      "execution_count": null,
      "outputs": []
    },
    {
      "cell_type": "markdown",
      "source": [
        "# Analysis of variable star data"
      ],
      "metadata": {
        "id": "2YxRlFFCnZda"
      }
    },
    {
      "cell_type": "markdown",
      "source": [
        "# Script \"ai2023_s12_07_00.py\""
      ],
      "metadata": {
        "id": "QXINQHrHokVu"
      }
    },
    {
      "cell_type": "code",
      "source": [
        "# Run this cell to show the source code of the script.\n",
        "\n",
        "!cat ai2023_s12_07_00.py"
      ],
      "metadata": {
        "id": "9fUqey-3okV1"
      },
      "execution_count": null,
      "outputs": []
    },
    {
      "cell_type": "code",
      "source": [
        "# Run this cell to execute the script.\n",
        "\n",
        "!python3.10 ai2023_s12_07_00.py"
      ],
      "metadata": {
        "id": "FBYRmcgwokV3"
      },
      "execution_count": null,
      "outputs": []
    },
    {
      "cell_type": "code",
      "source": [
        "# Run this cell to display PNG image.\n",
        "\n",
        "# importing IPython.display module\n",
        "import IPython.display\n",
        "\n",
        "# displaying PNG file\n",
        "IPython.display.Image ('ai2023_s12_07_00.png')"
      ],
      "metadata": {
        "id": "0ccKDvJdoqgy"
      },
      "execution_count": null,
      "outputs": []
    },
    {
      "cell_type": "markdown",
      "source": [
        "# Practice s12-54"
      ],
      "metadata": {
        "id": "Na5F37a2osq6"
      }
    },
    {
      "cell_type": "code",
      "source": [
        "# Write down your code in this cell.\n",
        "\n",
        "\n",
        "\n",
        "\n"
      ],
      "metadata": {
        "id": "pBcb9xFLosq8"
      },
      "execution_count": null,
      "outputs": []
    },
    {
      "cell_type": "markdown",
      "source": [
        "# Script \"ai2023_s12_07_01.py\""
      ],
      "metadata": {
        "id": "KbDA-08nozT7"
      }
    },
    {
      "cell_type": "code",
      "source": [
        "# Run this cell to show the source code of the script.\n",
        "\n",
        "!cat ai2023_s12_07_01.py"
      ],
      "metadata": {
        "id": "vxqgE5JjozT7"
      },
      "execution_count": null,
      "outputs": []
    },
    {
      "cell_type": "code",
      "source": [
        "# Run this cell to execute the script.\n",
        "\n",
        "!python3.10 ai2023_s12_07_01.py -h"
      ],
      "metadata": {
        "id": "ablklzqIozT8"
      },
      "execution_count": null,
      "outputs": []
    },
    {
      "cell_type": "code",
      "source": [
        "# Run this cell to execute the script.\n",
        "\n",
        "!python3.10 ai2023_s12_07_01.py -i linear/4672469.dat -o ai2023_s12_07_01.data -n 10 -a 10 -b 3000"
      ],
      "metadata": {
        "id": "BR6-7HiXo2jK"
      },
      "execution_count": null,
      "outputs": []
    },
    {
      "cell_type": "markdown",
      "source": [
        "# Practice s12-55"
      ],
      "metadata": {
        "id": "XtDJZqjfpGst"
      }
    },
    {
      "cell_type": "code",
      "source": [
        "# Write down your code in this cell.\n",
        "\n",
        "\n",
        "\n",
        "\n"
      ],
      "metadata": {
        "id": "31UmM8fCpGsu"
      },
      "execution_count": null,
      "outputs": []
    },
    {
      "cell_type": "code",
      "source": [
        "# Run this cell to execute the script.\n",
        "\n",
        "!python3.10 ai2023_s12_06_03.py -i ai2023_s12_07_01.data -o ai2023_s12_07_01_1.png -a 0.1 -b 50"
      ],
      "metadata": {
        "id": "KkD8sQ0jpMBA"
      },
      "execution_count": null,
      "outputs": []
    },
    {
      "cell_type": "code",
      "source": [
        "# Run this cell to display PNG image.\n",
        "\n",
        "# importing IPython.display module\n",
        "import IPython.display\n",
        "\n",
        "# displaying PNG file\n",
        "IPython.display.Image ('ai2023_s12_07_01_1.png')"
      ],
      "metadata": {
        "id": "9enIsoX9pXcy"
      },
      "execution_count": null,
      "outputs": []
    },
    {
      "cell_type": "markdown",
      "source": [
        "# Practice s12-56"
      ],
      "metadata": {
        "id": "PordLBxIpaas"
      }
    },
    {
      "cell_type": "code",
      "source": [
        "# Write down your code in this cell.\n",
        "\n",
        "\n",
        "\n",
        "\n"
      ],
      "metadata": {
        "id": "DS_9DBjLpaax"
      },
      "execution_count": null,
      "outputs": []
    },
    {
      "cell_type": "code",
      "source": [
        "# Run this cell to execute the script.\n",
        "\n",
        "!python3.10 ai2023_s12_06_03.py -i ai2023_s12_07_01.data -o ai2023_s12_07_01_2.png -a 10 -b 15"
      ],
      "metadata": {
        "id": "t6zprApZpf4u"
      },
      "execution_count": null,
      "outputs": []
    },
    {
      "cell_type": "code",
      "source": [
        "# Run this cell to display PNG image.\n",
        "\n",
        "# importing IPython.display module\n",
        "import IPython.display\n",
        "\n",
        "# displaying PNG file\n",
        "IPython.display.Image ('ai2023_s12_07_01_2.png')"
      ],
      "metadata": {
        "id": "ru6O1BRZpf42"
      },
      "execution_count": null,
      "outputs": []
    },
    {
      "cell_type": "markdown",
      "source": [
        "# Practice s12-57"
      ],
      "metadata": {
        "id": "gNq0VPXxpp3k"
      }
    },
    {
      "cell_type": "code",
      "source": [
        "# Write down your code in this cell.\n",
        "\n",
        "\n",
        "\n",
        "\n"
      ],
      "metadata": {
        "id": "bIix6sP6pp3q"
      },
      "execution_count": null,
      "outputs": []
    },
    {
      "cell_type": "code",
      "source": [
        "# Run this cell to execute the script.\n",
        "\n",
        "!python3.10 ai2023_s12_06_03.py -i ai2023_s12_07_01.data -o ai2023_s12_07_01_3.png -a 13.0 -b 13.5"
      ],
      "metadata": {
        "id": "UXBtpHbapxJU"
      },
      "execution_count": null,
      "outputs": []
    },
    {
      "cell_type": "code",
      "source": [
        "# Run this cell to display PNG image.\n",
        "\n",
        "# importing IPython.display module\n",
        "import IPython.display\n",
        "\n",
        "# displaying PNG file\n",
        "IPython.display.Image ('ai2023_s12_07_01_3.png')"
      ],
      "metadata": {
        "id": "Emu3cXhCpxJW"
      },
      "execution_count": null,
      "outputs": []
    },
    {
      "cell_type": "markdown",
      "source": [
        "# Practice s12-58"
      ],
      "metadata": {
        "id": "Hw7XvQSFp5ZH"
      }
    },
    {
      "cell_type": "code",
      "source": [
        "# Write down your code in this cell.\n",
        "\n",
        "\n",
        "\n",
        "\n"
      ],
      "metadata": {
        "id": "H_gAwDRcp5ZX"
      },
      "execution_count": null,
      "outputs": []
    },
    {
      "cell_type": "code",
      "source": [
        "# Run this cell to execute the script.\n",
        "\n",
        "!python3.10 ai2023_s12_07_01.py -i linear/4672469.dat -o ai2023_s12_07_01b.data -a 750 -b 850 -n 300"
      ],
      "metadata": {
        "id": "Y2FlBqzCqBrO"
      },
      "execution_count": null,
      "outputs": []
    },
    {
      "cell_type": "markdown",
      "source": [
        "# Practice s12-59"
      ],
      "metadata": {
        "id": "tkU0bsjrqLh7"
      }
    },
    {
      "cell_type": "code",
      "source": [
        "# Write down your code in this cell.\n",
        "\n",
        "\n",
        "\n",
        "\n"
      ],
      "metadata": {
        "id": "t-Q0_sLkqLiL"
      },
      "execution_count": null,
      "outputs": []
    },
    {
      "cell_type": "code",
      "source": [
        "# Run this cell to execute the script.\n",
        "\n",
        "!python3.10 ai2023_s12_06_03.py -i ai2023_s12_07_01b.data -o ai2023_s12_07_01_4.png -a 13.15 -b 13.25"
      ],
      "metadata": {
        "id": "KNYSYYaUqTo2"
      },
      "execution_count": null,
      "outputs": []
    },
    {
      "cell_type": "code",
      "source": [
        "# Run this cell to display PNG image.\n",
        "\n",
        "# importing IPython.display module\n",
        "import IPython.display\n",
        "\n",
        "# displaying PNG file\n",
        "IPython.display.Image ('ai2023_s12_07_01_4.png')"
      ],
      "metadata": {
        "id": "yxyHAayvqTo3"
      },
      "execution_count": null,
      "outputs": []
    },
    {
      "cell_type": "markdown",
      "source": [
        "# Practice s12-60"
      ],
      "metadata": {
        "id": "nTr6kQkpqTo4"
      }
    },
    {
      "cell_type": "code",
      "source": [
        "# Write down your code in this cell.\n",
        "\n",
        "\n",
        "\n",
        "\n"
      ],
      "metadata": {
        "id": "vCoZ8z8uqTo4"
      },
      "execution_count": null,
      "outputs": []
    },
    {
      "cell_type": "markdown",
      "source": [
        "# Script \"ai2023_s12_07_02.py\""
      ],
      "metadata": {
        "id": "YqhQyp5pqgfV"
      }
    },
    {
      "cell_type": "code",
      "source": [
        "# Run this cell to show the source code of the script.\n",
        "\n",
        "!cat ai2023_s12_07_02.py"
      ],
      "metadata": {
        "id": "JptweYzqqgfX"
      },
      "execution_count": null,
      "outputs": []
    },
    {
      "cell_type": "code",
      "source": [
        "# Run this cell to execute the script.\n",
        "\n",
        "!python3.10 ai2023_s12_07_02.py -h"
      ],
      "metadata": {
        "id": "Z9vlw21HqgfY"
      },
      "execution_count": null,
      "outputs": []
    },
    {
      "cell_type": "code",
      "source": [
        "# Run this cell to execute the script.\n",
        "\n",
        "!python3.10 ai2023_s12_07_02.py -i ai2023_s12_07_01b.data -o ai2023_s12_07_02.png -x1 13.20 -x2 13.21 -f1 13.2034 -f2 13.2047 -a 10000 -b 10 -c 1"
      ],
      "metadata": {
        "id": "8XK_nMAyqgfZ"
      },
      "execution_count": null,
      "outputs": []
    },
    {
      "cell_type": "code",
      "source": [
        "# Run this cell to display PNG image.\n",
        "\n",
        "# importing IPython.display module\n",
        "import IPython.display\n",
        "\n",
        "# displaying PNG file\n",
        "IPython.display.Image ('ai2023_s12_07_02.png')"
      ],
      "metadata": {
        "id": "sktmfIEuqtRt"
      },
      "execution_count": null,
      "outputs": []
    },
    {
      "cell_type": "markdown",
      "source": [
        "# Practice s12-61"
      ],
      "metadata": {
        "id": "xOypxQYsqwjd"
      }
    },
    {
      "cell_type": "code",
      "source": [
        "# Write down your code in this cell.\n",
        "\n",
        "\n",
        "\n",
        "\n"
      ],
      "metadata": {
        "id": "m-9I2lejqwjf"
      },
      "execution_count": null,
      "outputs": []
    },
    {
      "cell_type": "markdown",
      "source": [
        "# Script \"ai2023_s12_07_03.py\""
      ],
      "metadata": {
        "id": "IosRm2j5q2fl"
      }
    },
    {
      "cell_type": "code",
      "source": [
        "# Run this cell to show the source code of the script.\n",
        "\n",
        "!cat ai2023_s12_07_03.py"
      ],
      "metadata": {
        "id": "HHdIqduvq2fn"
      },
      "execution_count": null,
      "outputs": []
    },
    {
      "cell_type": "code",
      "source": [
        "# Run this cell to execute the script.\n",
        "\n",
        "!python3.10 ai2023_s12_07_03.py -h"
      ],
      "metadata": {
        "id": "MOqSjHnmq2fo"
      },
      "execution_count": null,
      "outputs": []
    },
    {
      "cell_type": "code",
      "source": [
        "# Run this cell to execute the script.\n",
        "\n",
        "!python3.10 ai2023_s12_07_03.py -i linear/4672469.dat -o ai2023_s12_07_03.png -p 13.2040600"
      ],
      "metadata": {
        "id": "0sRoYAXcq2fo"
      },
      "execution_count": null,
      "outputs": []
    },
    {
      "cell_type": "code",
      "source": [
        "# Run this cell to display PNG image.\n",
        "\n",
        "# importing IPython.display module\n",
        "import IPython.display\n",
        "\n",
        "# displaying PNG file\n",
        "IPython.display.Image ('ai2023_s12_07_03.png')"
      ],
      "metadata": {
        "id": "Qq0S1Jwgq2fq"
      },
      "execution_count": null,
      "outputs": []
    },
    {
      "cell_type": "markdown",
      "source": [
        "# Practice s12-62"
      ],
      "metadata": {
        "id": "c56qvLp_rDys"
      }
    },
    {
      "cell_type": "code",
      "source": [
        "# Write down your code in this cell.\n",
        "\n",
        "\n",
        "\n",
        "\n"
      ],
      "metadata": {
        "id": "rJfZrsflrDyv"
      },
      "execution_count": null,
      "outputs": []
    },
    {
      "cell_type": "markdown",
      "source": [
        "# Finding exoplanet transit from Kepler data"
      ],
      "metadata": {
        "id": "qdPSEjr1rQrx"
      }
    },
    {
      "cell_type": "markdown",
      "source": [
        "# Script \"ai2023_s12_08_00.py\""
      ],
      "metadata": {
        "id": "lpyynARLrXsA"
      }
    },
    {
      "cell_type": "code",
      "source": [
        "# Run this cell to show the source code of the script.\n",
        "\n",
        "!cat ai2023_s12_08_00.py"
      ],
      "metadata": {
        "id": "-bx0nRDBrXsE"
      },
      "execution_count": null,
      "outputs": []
    },
    {
      "cell_type": "code",
      "source": [
        "# Run this cell to execute the script.\n",
        "\n",
        "!python3.10 ai2023_s12_08_00.py"
      ],
      "metadata": {
        "id": "HknX1n_nrXsE"
      },
      "execution_count": null,
      "outputs": []
    },
    {
      "cell_type": "markdown",
      "source": [
        "# Script \"ai2023_s12_08_01.py\""
      ],
      "metadata": {
        "id": "cWb0a-LvrhR2"
      }
    },
    {
      "cell_type": "code",
      "source": [
        "# Run this cell to show the source code of the script.\n",
        "\n",
        "!cat ai2023_s12_08_01.py"
      ],
      "metadata": {
        "id": "wnHfB3f6rhR3"
      },
      "execution_count": null,
      "outputs": []
    },
    {
      "cell_type": "code",
      "source": [
        "# Run this cell to execute the script.\n",
        "\n",
        "!python3.10 ai2023_s12_08_01.py -h"
      ],
      "metadata": {
        "id": "I3KsJLgFrhR4"
      },
      "execution_count": null,
      "outputs": []
    },
    {
      "cell_type": "code",
      "source": [
        "# Run this cell to execute the script.\n",
        "\n",
        "!python3.10 ai2023_s12_08_01.py -o ai2023_s12_08_01.data kplr*.fits"
      ],
      "metadata": {
        "id": "9BiCHH8zrlnG"
      },
      "execution_count": null,
      "outputs": []
    },
    {
      "cell_type": "markdown",
      "source": [
        "# Script \"ai2023_s12_08_02.py\""
      ],
      "metadata": {
        "id": "enLgEP-NrydR"
      }
    },
    {
      "cell_type": "code",
      "source": [
        "# Run this cell to show the source code of the script.\n",
        "\n",
        "!cat ai2023_s12_08_02.py"
      ],
      "metadata": {
        "id": "Vb5Aj5GHrydT"
      },
      "execution_count": null,
      "outputs": []
    },
    {
      "cell_type": "code",
      "source": [
        "# Run this cell to execute the script.\n",
        "\n",
        "!python3.10 ai2023_s12_08_02.py -h"
      ],
      "metadata": {
        "id": "RigvKb4SrydU"
      },
      "execution_count": null,
      "outputs": []
    },
    {
      "cell_type": "code",
      "source": [
        "# Run this cell to execute the script.\n",
        "\n",
        "!python3.10 ai2023_s12_08_02.py -i ai2023_s12_08_01.data -o ai2023_s12_08_02.png"
      ],
      "metadata": {
        "id": "sgEDmnFJrydU"
      },
      "execution_count": null,
      "outputs": []
    },
    {
      "cell_type": "code",
      "source": [
        "# Run this cell to display PNG image.\n",
        "\n",
        "# importing IPython.display module\n",
        "import IPython.display\n",
        "\n",
        "# displaying PNG file\n",
        "IPython.display.Image ('ai2023_s12_08_02.png')"
      ],
      "metadata": {
        "id": "O1CBZ6cvr71u"
      },
      "execution_count": null,
      "outputs": []
    },
    {
      "cell_type": "markdown",
      "source": [
        "# Practice s12-63"
      ],
      "metadata": {
        "id": "T6fmI_IJsDof"
      }
    },
    {
      "cell_type": "code",
      "source": [
        "# Write down your code in this cell.\n",
        "\n",
        "\n",
        "\n",
        "\n"
      ],
      "metadata": {
        "id": "Rw8MY-pusDoh"
      },
      "execution_count": null,
      "outputs": []
    },
    {
      "cell_type": "markdown",
      "source": [
        "# Script \"ai2023_s12_08_03.py\""
      ],
      "metadata": {
        "id": "aPl-WB6dsJ-9"
      }
    },
    {
      "cell_type": "code",
      "source": [
        "# Run this cell to show the source code of the script.\n",
        "\n",
        "!cat ai2023_s12_08_03.py"
      ],
      "metadata": {
        "id": "pfugMkS7sJ_B"
      },
      "execution_count": null,
      "outputs": []
    },
    {
      "cell_type": "code",
      "source": [
        "# Run this cell to execute the script.\n",
        "\n",
        "!python3.10 ai2023_s12_08_03.py -h"
      ],
      "metadata": {
        "id": "5co5AvzwsJ_C"
      },
      "execution_count": null,
      "outputs": []
    },
    {
      "cell_type": "code",
      "source": [
        "# Run this cell to execute the script.\n",
        "\n",
        "!python3.10 ai2023_s12_08_03.py -i ai2023_s12_08_01.data -o ai2023_s12_08_03.png"
      ],
      "metadata": {
        "id": "gyEr9EnnsJ_D"
      },
      "execution_count": null,
      "outputs": []
    },
    {
      "cell_type": "code",
      "source": [
        "# Run this cell to display PNG image.\n",
        "\n",
        "# importing IPython.display module\n",
        "import IPython.display\n",
        "\n",
        "# displaying PNG file\n",
        "IPython.display.Image ('ai2023_s12_08_03.png')"
      ],
      "metadata": {
        "id": "efu6ug1vsJ_E"
      },
      "execution_count": null,
      "outputs": []
    },
    {
      "cell_type": "markdown",
      "source": [
        "# Practice s12-64"
      ],
      "metadata": {
        "id": "6mX8LcIIsJ_E"
      }
    },
    {
      "cell_type": "code",
      "source": [
        "# Write down your code in this cell.\n",
        "\n",
        "\n",
        "\n",
        "\n"
      ],
      "metadata": {
        "id": "w7wrSaJysJ_F"
      },
      "execution_count": null,
      "outputs": []
    },
    {
      "cell_type": "markdown",
      "source": [
        "# Script \"ai2023_s12_08_04.py\""
      ],
      "metadata": {
        "id": "kXKVoaAPsZL3"
      }
    },
    {
      "cell_type": "code",
      "source": [
        "# Run this cell to show the source code of the script.\n",
        "\n",
        "!cat ai2023_s12_08_04.py"
      ],
      "metadata": {
        "id": "_8ilk2jRsZL9"
      },
      "execution_count": null,
      "outputs": []
    },
    {
      "cell_type": "code",
      "source": [
        "# Run this cell to execute the script.\n",
        "\n",
        "!python3.10 ai2023_s12_08_04.py -h"
      ],
      "metadata": {
        "id": "LHiGB6PfsZL-"
      },
      "execution_count": null,
      "outputs": []
    },
    {
      "cell_type": "code",
      "source": [
        "# Run this cell to execute the script.\n",
        "\n",
        "!python3.10 ai2023_s12_08_04.py -i ai2023_s12_08_01.data -o ai2023_s12_08_04.data"
      ],
      "metadata": {
        "id": "UsOhUVuRsZL-"
      },
      "execution_count": null,
      "outputs": []
    },
    {
      "cell_type": "markdown",
      "source": [
        "# Script \"ai2023_s12_08_05.py\""
      ],
      "metadata": {
        "id": "adwb9mqTsv25"
      }
    },
    {
      "cell_type": "code",
      "source": [
        "# Run this cell to show the source code of the script.\n",
        "\n",
        "!cat ai2023_s12_08_05.py"
      ],
      "metadata": {
        "id": "-tybfMhZsv28"
      },
      "execution_count": null,
      "outputs": []
    },
    {
      "cell_type": "code",
      "source": [
        "# Run this cell to execute the script.\n",
        "\n",
        "!python3.10 ai2023_s12_08_05.py -h"
      ],
      "metadata": {
        "id": "dn5nKpresv2-"
      },
      "execution_count": null,
      "outputs": []
    },
    {
      "cell_type": "code",
      "source": [
        "# Run this cell to execute the script.\n",
        "\n",
        "!python3.10 ai2023_s12_08_05.py -i ai2023_s12_08_04.data -o ai2023_s12_08_05.png"
      ],
      "metadata": {
        "id": "sYyVc9-Xsv2-"
      },
      "execution_count": null,
      "outputs": []
    },
    {
      "cell_type": "code",
      "source": [
        "# Run this cell to display PNG image.\n",
        "\n",
        "# importing IPython.display module\n",
        "import IPython.display\n",
        "\n",
        "# displaying PNG file\n",
        "IPython.display.Image ('ai2023_s12_08_05.png')"
      ],
      "metadata": {
        "id": "e8QVJcQ8sv2-"
      },
      "execution_count": null,
      "outputs": []
    },
    {
      "cell_type": "markdown",
      "source": [
        "# Practice s12-65"
      ],
      "metadata": {
        "id": "QM-e8H8osv3A"
      }
    },
    {
      "cell_type": "code",
      "source": [
        "# Write down your code in this cell.\n",
        "\n",
        "\n",
        "\n",
        "\n"
      ],
      "metadata": {
        "id": "XnXRja6ksv3B"
      },
      "execution_count": null,
      "outputs": []
    },
    {
      "cell_type": "markdown",
      "source": [
        "# Script \"ai2023_s12_08_06.py\""
      ],
      "metadata": {
        "id": "oSXvn9lttCU3"
      }
    },
    {
      "cell_type": "code",
      "source": [
        "# Run this cell to show the source code of the script.\n",
        "\n",
        "!cat ai2023_s12_08_06.py"
      ],
      "metadata": {
        "id": "b_rFWTZitCU7"
      },
      "execution_count": null,
      "outputs": []
    },
    {
      "cell_type": "code",
      "source": [
        "# Run this cell to execute the script.\n",
        "\n",
        "!python3.10 ai2023_s12_08_06.py -h"
      ],
      "metadata": {
        "id": "IKCsxheYtCU8"
      },
      "execution_count": null,
      "outputs": []
    },
    {
      "cell_type": "code",
      "source": [
        "# Run this cell to execute the script.\n",
        "\n",
        "!python3.10 ai2023_s12_08_06.py -i ai2023_s12_08_04.data -o ai2023_s12_08_06.data -a 10 -b 7200 -n 10"
      ],
      "metadata": {
        "id": "W-Na-KiDtCU8"
      },
      "execution_count": null,
      "outputs": []
    },
    {
      "cell_type": "markdown",
      "source": [
        "# Practice s12-66"
      ],
      "metadata": {
        "id": "xL9BUKHQtOMb"
      }
    },
    {
      "cell_type": "code",
      "source": [
        "# Write down your code in this cell.\n",
        "\n",
        "\n",
        "\n",
        "\n"
      ],
      "metadata": {
        "id": "338BfkoetOMf"
      },
      "execution_count": null,
      "outputs": []
    },
    {
      "cell_type": "markdown",
      "source": [
        "# Script \"ai2023_s12_08_07.py\""
      ],
      "metadata": {
        "id": "Qj4k5pXetTkJ"
      }
    },
    {
      "cell_type": "code",
      "source": [
        "# Run this cell to show the source code of the script.\n",
        "\n",
        "!cat ai2023_s12_08_07.py"
      ],
      "metadata": {
        "id": "DlBTp5JQtTkN"
      },
      "execution_count": null,
      "outputs": []
    },
    {
      "cell_type": "code",
      "source": [
        "# Run this cell to execute the script.\n",
        "\n",
        "!python3.10 ai2023_s12_08_07.py -h"
      ],
      "metadata": {
        "id": "rzxQJKOutTkO"
      },
      "execution_count": null,
      "outputs": []
    },
    {
      "cell_type": "code",
      "source": [
        "# Run this cell to execute the script.\n",
        "\n",
        "!python3.10 ai2023_s12_08_07.py -i ai2023_s12_08_06.data -o ai2023_s12_08_07_1.png -a 0.01 -b 5"
      ],
      "metadata": {
        "id": "gevfkmngtTkP"
      },
      "execution_count": null,
      "outputs": []
    },
    {
      "cell_type": "code",
      "source": [
        "# Run this cell to display PNG image.\n",
        "\n",
        "# importing IPython.display module\n",
        "import IPython.display\n",
        "\n",
        "# displaying PNG file\n",
        "IPython.display.Image ('ai2023_s12_08_07_1.png')"
      ],
      "metadata": {
        "id": "OlaLZ73jtTkP"
      },
      "execution_count": null,
      "outputs": []
    },
    {
      "cell_type": "code",
      "source": [
        "# Run this cell to execute the script.\n",
        "\n",
        "!python3.10 ai2023_s12_08_07.py -i ai2023_s12_08_06.data -o ai2023_s12_08_07_2.png -a 0.8 -b 1.0"
      ],
      "metadata": {
        "id": "2w4-ZAYqtqLs"
      },
      "execution_count": null,
      "outputs": []
    },
    {
      "cell_type": "code",
      "source": [
        "# Run this cell to display PNG image.\n",
        "\n",
        "# importing IPython.display module\n",
        "import IPython.display\n",
        "\n",
        "# displaying PNG file\n",
        "IPython.display.Image ('ai2023_s12_08_07_2.png')"
      ],
      "metadata": {
        "id": "ao-VukwTtqL2"
      },
      "execution_count": null,
      "outputs": []
    },
    {
      "cell_type": "code",
      "source": [
        "# Run this cell to execute the script.\n",
        "\n",
        "!python3.10 ai2023_s12_08_07.py -i ai2023_s12_08_06.data -o ai2023_s12_08_07_3.png -a 1.7 -b 1.85"
      ],
      "metadata": {
        "id": "GXSX5rgVt1ay"
      },
      "execution_count": null,
      "outputs": []
    },
    {
      "cell_type": "code",
      "source": [
        "# Run this cell to display PNG image.\n",
        "\n",
        "# importing IPython.display module\n",
        "import IPython.display\n",
        "\n",
        "# displaying PNG file\n",
        "IPython.display.Image ('ai2023_s12_08_07_3.png')"
      ],
      "metadata": {
        "id": "Bjo2UTNyt1a7"
      },
      "execution_count": null,
      "outputs": []
    },
    {
      "cell_type": "code",
      "source": [
        "# Run this cell to execute the script.\n",
        "\n",
        "!python3.10 ai2023_s12_08_06.py -i ai2023_s12_08_04.data -o ai2023_s12_08_06b.data -a 1000 -b 3000 -n 300"
      ],
      "metadata": {
        "id": "rE7iBKg9uCea"
      },
      "execution_count": null,
      "outputs": []
    },
    {
      "cell_type": "markdown",
      "source": [
        "# Script \"ai2023_s12_08_08.py\""
      ],
      "metadata": {
        "id": "LUHcB3zKuOHz"
      }
    },
    {
      "cell_type": "code",
      "source": [
        "# Run this cell to show the source code of the script.\n",
        "\n",
        "!cat ai2023_s12_08_08.py"
      ],
      "metadata": {
        "id": "WwnNouPJuOH0"
      },
      "execution_count": null,
      "outputs": []
    },
    {
      "cell_type": "code",
      "source": [
        "# Run this cell to execute the script.\n",
        "\n",
        "!python3.10 ai2023_s12_08_08.py -h"
      ],
      "metadata": {
        "id": "ChbjHmtouOH1"
      },
      "execution_count": null,
      "outputs": []
    },
    {
      "cell_type": "code",
      "source": [
        "# Run this cell to execute the script.\n",
        "\n",
        "!python3.10 ai2023_s12_08_08.py -i ai2023_s12_08_06b.data -o ai2023_s12_08_08_1.png -x1 0.86 -x2 0.91 -f1 0.879 -f2 0.885 -a 1000 -b 1 -c 1"
      ],
      "metadata": {
        "id": "UOpLxTICuOH3"
      },
      "execution_count": null,
      "outputs": []
    },
    {
      "cell_type": "code",
      "source": [
        "# Run this cell to display PNG image.\n",
        "\n",
        "# importing IPython.display module\n",
        "import IPython.display\n",
        "\n",
        "# displaying PNG file\n",
        "IPython.display.Image ('ai2023_s12_08_08_1.png')"
      ],
      "metadata": {
        "id": "iaDyw-kHuOH4"
      },
      "execution_count": null,
      "outputs": []
    },
    {
      "cell_type": "code",
      "source": [
        "# Run this cell to execute the script.\n",
        "\n",
        "!python3.10 ai2023_s12_08_08.py -i ai2023_s12_08_06b.data -o ai2023_s12_08_08_2.png -x1 1.70 -x2 1.83 -f1 1.755 -f2 1.775 -a 1000 -b 1 -c 1"
      ],
      "metadata": {
        "id": "5V0KUA3QugPa"
      },
      "execution_count": null,
      "outputs": []
    },
    {
      "cell_type": "code",
      "source": [
        "# Run this cell to display PNG image.\n",
        "\n",
        "# importing IPython.display module\n",
        "import IPython.display\n",
        "\n",
        "# displaying PNG file\n",
        "IPython.display.Image ('ai2023_s12_08_08_2.png')"
      ],
      "metadata": {
        "id": "qQVLWI8SugPh"
      },
      "execution_count": null,
      "outputs": []
    },
    {
      "cell_type": "markdown",
      "source": [
        "# Script \"ai2023_s12_08_09.py\""
      ],
      "metadata": {
        "id": "R7n_R40nvCGb"
      }
    },
    {
      "cell_type": "code",
      "source": [
        "# Run this cell to show the source code of the script.\n",
        "\n",
        "!cat ai2023_s12_08_09.py"
      ],
      "metadata": {
        "id": "pV5uUR6dvCGg"
      },
      "execution_count": null,
      "outputs": []
    },
    {
      "cell_type": "code",
      "source": [
        "# Run this cell to execute the script.\n",
        "\n",
        "!python3.10 ai2023_s12_08_09.py -h"
      ],
      "metadata": {
        "id": "WNhNoXJ5vCGg"
      },
      "execution_count": null,
      "outputs": []
    },
    {
      "cell_type": "code",
      "source": [
        "# Run this cell to execute the script.\n",
        "\n",
        "!python3.10 ai2023_s12_08_09.py -i ai2023_s12_08_04.data -o ai2023_s12_08_09_1.png -p 0.881809"
      ],
      "metadata": {
        "id": "wAm4aZ0EvCGi"
      },
      "execution_count": null,
      "outputs": []
    },
    {
      "cell_type": "code",
      "source": [
        "# Run this cell to display PNG image.\n",
        "\n",
        "# importing IPython.display module\n",
        "import IPython.display\n",
        "\n",
        "# displaying PNG file\n",
        "IPython.display.Image ('ai2023_s12_08_09_1.png')"
      ],
      "metadata": {
        "id": "W8FwTrDJvCGj"
      },
      "execution_count": null,
      "outputs": []
    },
    {
      "cell_type": "code",
      "source": [
        "# Run this cell to execute the script.\n",
        "\n",
        "!python3.10 ai2023_s12_08_09.py -i ai2023_s12_08_04.data -o ai2023_s12_08_09_2.png -p 1.76343"
      ],
      "metadata": {
        "id": "6PM2dQrovNDM"
      },
      "execution_count": null,
      "outputs": []
    },
    {
      "cell_type": "code",
      "source": [
        "# Run this cell to display PNG image.\n",
        "\n",
        "# importing IPython.display module\n",
        "import IPython.display\n",
        "\n",
        "# displaying PNG file\n",
        "IPython.display.Image ('ai2023_s12_08_09_2.png')"
      ],
      "metadata": {
        "id": "6fFJCibOvNDN"
      },
      "execution_count": null,
      "outputs": []
    },
    {
      "cell_type": "markdown",
      "source": [
        "# End of this notebook"
      ],
      "metadata": {
        "id": "vLrXieiOve5P"
      }
    },
    {
      "cell_type": "code",
      "source": [],
      "metadata": {
        "id": "LMsenMDzZ4FY"
      },
      "execution_count": null,
      "outputs": []
    }
  ]
}