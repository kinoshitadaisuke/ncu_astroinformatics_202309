{
  "nbformat": 4,
  "nbformat_minor": 0,
  "metadata": {
    "colab": {
      "provenance": []
    },
    "kernelspec": {
      "name": "python3",
      "display_name": "Python 3"
    },
    "language_info": {
      "name": "python"
    }
  },
  "cells": [
    {
      "cell_type": "markdown",
      "metadata": {
        "id": "X9F8FTGZzaSe"
      },
      "source": [
        "# AS6095 \"Astroinformatics\"\n",
        "\n",
        "## for academic year 2023 (from Sep/2023 to Jan/2024)\n",
        "\n",
        "## instructor: Kinoshita Daisuke\n",
        "\n",
        "## Course web page: https://s3b.astro.ncu.edu.tw/ai_202309/\n",
        "\n",
        "## GitHub repository: https://github.com/kinoshitadaisuke/ncu_astroinformatics_202309\n"
      ]
    },
    {
      "cell_type": "markdown",
      "metadata": {
        "id": "MKQ0pdfJCZ1I"
      },
      "source": [
        "# Session 14 \"Planetary motion and orbital integration\"\n",
        "\n",
        "## 18 December 2023\n"
      ]
    },
    {
      "cell_type": "markdown",
      "metadata": {
        "id": "FVmonUCL197r"
      },
      "source": [
        "# Downloading a set of sample Python scripts and changing directory"
      ]
    },
    {
      "cell_type": "code",
      "execution_count": null,
      "metadata": {
        "id": "E-J1KLJAzmx5"
      },
      "outputs": [],
      "source": [
        "# Run this cell to download a set of sample Python scripts for this course.\n",
        "\n",
        "!git clone https://github.com/kinoshitadaisuke/ncu_astroinformatics_202309.git"
      ]
    },
    {
      "cell_type": "code",
      "execution_count": null,
      "metadata": {
        "id": "NU4Otc0i2jfu"
      },
      "outputs": [],
      "source": [
        "# Run this cell to check whether you have a directory named \"ncu_astroinformatics_202309\".\n",
        "\n",
        "!ls"
      ]
    },
    {
      "cell_type": "code",
      "execution_count": null,
      "metadata": {
        "id": "faZRhZv821VY"
      },
      "outputs": [],
      "source": [
        "# Run this cell to move to the directory \"ncu_astroinformatics_202309\".\n",
        "\n",
        "%cd ncu_astroinformatics_202309"
      ]
    },
    {
      "cell_type": "code",
      "execution_count": null,
      "metadata": {
        "id": "hUjHlUZk3Bov"
      },
      "outputs": [],
      "source": [
        "# Run this cell to show currently working directory.\n",
        "\n",
        "!pwd"
      ]
    },
    {
      "cell_type": "code",
      "execution_count": null,
      "metadata": {
        "id": "RXAGJHeX3IsD"
      },
      "outputs": [],
      "source": [
        "# Run this cell to show files and directories.\n",
        "\n",
        "!ls -lF"
      ]
    },
    {
      "cell_type": "code",
      "execution_count": null,
      "metadata": {
        "id": "xR0V8I0k3O3k"
      },
      "outputs": [],
      "source": [
        "# Run this cell to move to the directory \"s14\".\n",
        "\n",
        "%cd s14"
      ]
    },
    {
      "cell_type": "code",
      "execution_count": null,
      "metadata": {
        "id": "KbvQ_3Su3UKL"
      },
      "outputs": [],
      "source": [
        "# Run this cell to show currently working directory.\n",
        "\n",
        "!pwd"
      ]
    },
    {
      "cell_type": "code",
      "execution_count": null,
      "metadata": {
        "id": "n9AAgI4d3c6n"
      },
      "outputs": [],
      "source": [
        "# Run this cell to show files and directories.\n",
        "\n",
        "!ls -lF"
      ]
    },
    {
      "cell_type": "markdown",
      "source": [
        "# Installation of Astropy"
      ],
      "metadata": {
        "id": "jVlw3LHHcBFa"
      }
    },
    {
      "cell_type": "code",
      "source": [
        "# Install Astropy if you do not have it.\n",
        "\n",
        "!pip install astropy"
      ],
      "metadata": {
        "id": "tsoYTACbb4dj"
      },
      "execution_count": null,
      "outputs": []
    },
    {
      "cell_type": "markdown",
      "source": [
        "# Installation of Astroquery"
      ],
      "metadata": {
        "id": "3aPFLextaHGg"
      }
    },
    {
      "cell_type": "code",
      "source": [
        "# Install Astroquery if you do not have it.\n",
        "\n",
        "!pip install astroquery"
      ],
      "metadata": {
        "id": "OPkXhcibaHGl"
      },
      "execution_count": null,
      "outputs": []
    },
    {
      "cell_type": "markdown",
      "source": [
        "# Installation of Rebound"
      ],
      "metadata": {
        "id": "lqWMOn4olErt"
      }
    },
    {
      "cell_type": "code",
      "source": [
        "# Install Rebound if you do not have it.\n",
        "\n",
        "!pip install rebound"
      ],
      "metadata": {
        "id": "o7VehhEHlErt"
      },
      "execution_count": null,
      "outputs": []
    },
    {
      "cell_type": "markdown",
      "source": [
        "# Installation of Pillow"
      ],
      "metadata": {
        "id": "D40hoSykaXQf"
      }
    },
    {
      "cell_type": "code",
      "source": [
        "# Install Pillow if you do not have it.\n",
        "\n",
        "!pip install Pillow"
      ],
      "metadata": {
        "id": "xbuapIuoaXQr"
      },
      "execution_count": null,
      "outputs": []
    },
    {
      "cell_type": "markdown",
      "source": [
        "# Availability checks of required Python packages"
      ],
      "metadata": {
        "id": "aPs4XSANayit"
      }
    },
    {
      "cell_type": "code",
      "source": [
        "# Run this cell to show the source code of the script.\n",
        "\n",
        "!cat ai2023_s14_00_00.py"
      ],
      "metadata": {
        "id": "Yi3MidhWUEsf"
      },
      "execution_count": null,
      "outputs": []
    },
    {
      "cell_type": "code",
      "source": [
        "# Run this cell to execute the script.\n",
        "\n",
        "!python3.10 ai2023_s14_00_00.py -h"
      ],
      "metadata": {
        "id": "qgI1a4DiUTIV"
      },
      "execution_count": null,
      "outputs": []
    },
    {
      "cell_type": "code",
      "source": [
        "# Run this cell to execute the script.\n",
        "\n",
        "!python3.10 ai2023_s14_00_00.py astropy"
      ],
      "metadata": {
        "id": "E6hflPudUYwX"
      },
      "execution_count": null,
      "outputs": []
    },
    {
      "cell_type": "code",
      "source": [
        "# Run this cell to execute the script.\n",
        "\n",
        "!python3.10 ai2023_s14_00_00.py astroquery rebound"
      ],
      "metadata": {
        "id": "Yt_i5XhkbKdy"
      },
      "execution_count": null,
      "outputs": []
    },
    {
      "cell_type": "code",
      "source": [
        "# Run this cell to execute the script.\n",
        "\n",
        "!python3.10 ai2023_s14_00_00.py pathlib sys os PIL"
      ],
      "metadata": {
        "id": "aFqK3Rz6bOV3"
      },
      "execution_count": null,
      "outputs": []
    },
    {
      "cell_type": "markdown",
      "source": [
        "# Using NASA/JPL Horizons System"
      ],
      "metadata": {
        "id": "vwOS3BB4blYC"
      }
    },
    {
      "cell_type": "code",
      "source": [
        "# Run this cell to show the source code of the script.\n",
        "\n",
        "!cat ai2023_s14_01_00.py"
      ],
      "metadata": {
        "id": "qV5jRNbYbuKx"
      },
      "execution_count": null,
      "outputs": []
    },
    {
      "cell_type": "code",
      "source": [
        "# Run this cell to execute the script.\n",
        "\n",
        "!python3.10 ai2023_s14_01_00.py"
      ],
      "metadata": {
        "id": "045JSDJobuKz"
      },
      "execution_count": null,
      "outputs": []
    },
    {
      "cell_type": "code",
      "source": [
        "# Run this cell to show the source code of the script.\n",
        "\n",
        "!cat ai2023_s14_01_01.py"
      ],
      "metadata": {
        "id": "Q3X7Kx2bb3so"
      },
      "execution_count": null,
      "outputs": []
    },
    {
      "cell_type": "code",
      "source": [
        "# Run this cell to execute the script.\n",
        "\n",
        "!python3.10 ai2023_s14_01_01.py"
      ],
      "metadata": {
        "id": "Uy-tVsC3b3sq"
      },
      "execution_count": null,
      "outputs": []
    },
    {
      "cell_type": "code",
      "source": [
        "# Run this cell to show the source code of the script.\n",
        "\n",
        "!cat ai2023_s14_01_02.py"
      ],
      "metadata": {
        "id": "84CD6uQDb-DJ"
      },
      "execution_count": null,
      "outputs": []
    },
    {
      "cell_type": "code",
      "source": [
        "# Run this cell to execute the script.\n",
        "\n",
        "!python3.10 ai2023_s14_01_02.py"
      ],
      "metadata": {
        "id": "s2uTKMsZb-DM"
      },
      "execution_count": null,
      "outputs": []
    },
    {
      "cell_type": "code",
      "source": [
        "# Run this cell to show the source code of the script.\n",
        "\n",
        "!cat ai2023_s14_01_03.py"
      ],
      "metadata": {
        "id": "BclYD2TicD9m"
      },
      "execution_count": null,
      "outputs": []
    },
    {
      "cell_type": "code",
      "source": [
        "# Run this cell to execute the script.\n",
        "\n",
        "!python3.10 ai2023_s14_01_03.py"
      ],
      "metadata": {
        "id": "MPZYCRpycD9s"
      },
      "execution_count": null,
      "outputs": []
    },
    {
      "cell_type": "code",
      "source": [
        "# Run this cell to show the source code of the script.\n",
        "\n",
        "!cat ai2023_s14_01_04.py"
      ],
      "metadata": {
        "id": "USocP4XOcKSz"
      },
      "execution_count": null,
      "outputs": []
    },
    {
      "cell_type": "code",
      "source": [
        "# Run this cell to execute the script.\n",
        "\n",
        "!python3.10 ai2023_s14_01_04.py -h"
      ],
      "metadata": {
        "id": "jpr7E1_3cKS0"
      },
      "execution_count": null,
      "outputs": []
    },
    {
      "cell_type": "code",
      "source": [
        "# Run this cell to execute the script.\n",
        "\n",
        "!python3.10 ai2023_s14_01_04.py -t 2024-03-21T04:00:00 -o D35 Sun"
      ],
      "metadata": {
        "id": "pebFMy4rcPIJ"
      },
      "execution_count": null,
      "outputs": []
    },
    {
      "cell_type": "code",
      "source": [
        "# Run this cell to execute the script.\n",
        "\n",
        "!python3.10 ai2023_s14_01_04.py -t 2024-06-21T04:00:00 -o D35 Sun"
      ],
      "metadata": {
        "id": "V3wb9L15cV3U"
      },
      "execution_count": null,
      "outputs": []
    },
    {
      "cell_type": "code",
      "source": [
        "# Run this cell to execute the script.\n",
        "\n",
        "!python3.10 ai2023_s14_01_04.py -t 2024-02-01T06:00:00 -o 568 Jupiter"
      ],
      "metadata": {
        "id": "hGUJSwEzcbT5"
      },
      "execution_count": null,
      "outputs": []
    },
    {
      "cell_type": "code",
      "source": [
        "# Run this cell to execute the script.\n",
        "\n",
        "!python3.10 ai2023_s14_01_04.py -t 2024-02-01T06:00:00 -o 568 599"
      ],
      "metadata": {
        "id": "KZn_aBvlcisR"
      },
      "execution_count": null,
      "outputs": []
    },
    {
      "cell_type": "code",
      "source": [
        "# Run this cell to execute the script.\n",
        "\n",
        "!python3.10 ai2023_s14_01_04.py -t 2024-08-01T00:00:00 -o 309 Wingip"
      ],
      "metadata": {
        "id": "WEWr1B1fcmCZ"
      },
      "execution_count": null,
      "outputs": []
    },
    {
      "cell_type": "markdown",
      "source": [
        "# Retrieving positions of a target object at multiple epochs"
      ],
      "metadata": {
        "id": "O64mTbYHcup6"
      }
    },
    {
      "cell_type": "code",
      "source": [
        "# Run this cell to show the source code of the script.\n",
        "\n",
        "!cat ai2023_s14_01_05.py"
      ],
      "metadata": {
        "id": "-ogISR5Dc5Qp"
      },
      "execution_count": null,
      "outputs": []
    },
    {
      "cell_type": "code",
      "source": [
        "# Run this cell to execute the script.\n",
        "\n",
        "!python3.10 ai2023_s14_01_05.py -h"
      ],
      "metadata": {
        "id": "PDbd3rY9c5Qr"
      },
      "execution_count": null,
      "outputs": []
    },
    {
      "cell_type": "code",
      "source": [
        "# Run this cell to execute the script.\n",
        "\n",
        "!python3.10 ai2023_s14_01_05.py -t 2024-01-01T04:00:00 -l 5 -d 24 -o D35 Sun"
      ],
      "metadata": {
        "id": "XjTto0nkc5Qs"
      },
      "execution_count": null,
      "outputs": []
    },
    {
      "cell_type": "code",
      "source": [
        "# Run this cell to execute the script.\n",
        "\n",
        "!python3.10 ai2023_s14_01_05.py -t 2024-01-01T20:00:00 -l 0.25 -d 1 -o D35 299"
      ],
      "metadata": {
        "id": "npB7yisOdFIM"
      },
      "execution_count": null,
      "outputs": []
    },
    {
      "cell_type": "code",
      "source": [
        "# Run this cell to execute the script.\n",
        "\n",
        "!python3.10 ai2023_s14_01_05.py -t 2024-03-01T18:00:00 -l 0.5 -d 1 -o 493 Makemake"
      ],
      "metadata": {
        "id": "35WB9rs4dO1w"
      },
      "execution_count": null,
      "outputs": []
    },
    {
      "cell_type": "code",
      "source": [
        "# Run this cell to execute the script.\n",
        "\n",
        "!python3.10 ai2023_s14_01_05.py -t 2023-12-25T03:00:00 -l 0.25 -d 2 -o 695 4"
      ],
      "metadata": {
        "id": "VkN67ItMdWRS"
      },
      "execution_count": null,
      "outputs": []
    },
    {
      "cell_type": "code",
      "source": [
        "# Run this cell to execute the script.\n",
        "\n",
        "!python3.10 ai2023_s14_01_05.py -t 2023-12-25T03:00:00 -l 0.25 -d 2 -o 695 \"4;\""
      ],
      "metadata": {
        "id": "ecSJBCZtdhJk"
      },
      "execution_count": null,
      "outputs": []
    },
    {
      "cell_type": "code",
      "source": [
        "# Run this cell to execute the script.\n",
        "\n",
        "!python3.10 ai2023_s14_01_05.py -t 2023-12-25T03:00:00 -l 0.25 -d 2 -o 695 4 -m smallbody"
      ],
      "metadata": {
        "id": "q4MrBzCcdlWg"
      },
      "execution_count": null,
      "outputs": []
    },
    {
      "cell_type": "code",
      "source": [
        "# Run this cell to execute the script.\n",
        "\n",
        "!python3.10 ai2023_s14_01_05.py -t 2024-05-01T18:00:00 -l 0.5 -d 3 -o 000 1P"
      ],
      "metadata": {
        "id": "4r2M90DmdtAY"
      },
      "execution_count": null,
      "outputs": []
    },
    {
      "cell_type": "code",
      "source": [
        "# Run this cell to execute the script.\n",
        "\n",
        "!python3.10 ai2023_s14_01_05.py -t 2024-05-01T18:00:00 -l 0.5 -d 3 -o 000 90000030"
      ],
      "metadata": {
        "id": "BMJLdS3Td2jh"
      },
      "execution_count": null,
      "outputs": []
    },
    {
      "cell_type": "code",
      "source": [
        "# Run this cell to execute the script.\n",
        "\n",
        "!python3.10 ai2023_s14_01_05.py -t 2024-05-01T18:00:00 -l 0.5 -d 3 -o 000 \"DES=1P; CAP;\""
      ],
      "metadata": {
        "id": "zlHDfPipd7wY"
      },
      "execution_count": null,
      "outputs": []
    },
    {
      "cell_type": "code",
      "source": [
        "# Run this cell to execute the script.\n",
        "\n",
        "!python3.10 ai2023_s14_01_05.py -t 2024-05-01T18:00:00 -l 0.5 -d 3 -o 000 \"NAME=Halley; CAP;\""
      ],
      "metadata": {
        "id": "4wdmbk43eBTb"
      },
      "execution_count": null,
      "outputs": []
    },
    {
      "cell_type": "markdown",
      "source": [
        "# Retrieving orbital elements of a target body"
      ],
      "metadata": {
        "id": "jyY2HX0FeGaa"
      }
    },
    {
      "cell_type": "code",
      "source": [
        "# Run this cell to show the source code of the script.\n",
        "\n",
        "!cat ai2023_s14_01_06.py"
      ],
      "metadata": {
        "id": "pMr0DtoCeN4J"
      },
      "execution_count": null,
      "outputs": []
    },
    {
      "cell_type": "code",
      "source": [
        "# Run this cell to execute the script.\n",
        "\n",
        "!python3.10 ai2023_s14_01_06.py -h"
      ],
      "metadata": {
        "id": "6SqIIsLreN4O"
      },
      "execution_count": null,
      "outputs": []
    },
    {
      "cell_type": "code",
      "source": [
        "# Run this cell to execute the script.\n",
        "\n",
        "!python3.10 ai2023_s14_01_06.py Neptune"
      ],
      "metadata": {
        "id": "yarKekvqeN4V"
      },
      "execution_count": null,
      "outputs": []
    },
    {
      "cell_type": "code",
      "source": [
        "# Run this cell to execute the script.\n",
        "\n",
        "!python3.10 ai2023_s14_01_06.py 899"
      ],
      "metadata": {
        "id": "OD--aiQneVuQ"
      },
      "execution_count": null,
      "outputs": []
    },
    {
      "cell_type": "code",
      "source": [
        "# Run this cell to show the source code of the script.\n",
        "\n",
        "!cat ai2023_s14_01_07.py"
      ],
      "metadata": {
        "id": "8xMvaNxneaae"
      },
      "execution_count": null,
      "outputs": []
    },
    {
      "cell_type": "code",
      "source": [
        "# Run this cell to execute the script.\n",
        "\n",
        "!python3.10 ai2023_s14_01_07.py -h"
      ],
      "metadata": {
        "id": "rwJmmgpweaan"
      },
      "execution_count": null,
      "outputs": []
    },
    {
      "cell_type": "code",
      "source": [
        "# Run this cell to execute the script.\n",
        "\n",
        "!python3.10 ai2023_s14_01_07.py 899"
      ],
      "metadata": {
        "id": "Gp6mV856eaap"
      },
      "execution_count": null,
      "outputs": []
    },
    {
      "cell_type": "code",
      "source": [
        "# Run this cell to show the source code of the script.\n",
        "\n",
        "!cat ai2023_s14_01_08.py"
      ],
      "metadata": {
        "id": "ZlkhMYXIegrZ"
      },
      "execution_count": null,
      "outputs": []
    },
    {
      "cell_type": "code",
      "source": [
        "# Run this cell to execute the script.\n",
        "\n",
        "!python3.10 ai2023_s14_01_08.py -h"
      ],
      "metadata": {
        "id": "DVRF2Jl5egra"
      },
      "execution_count": null,
      "outputs": []
    },
    {
      "cell_type": "code",
      "source": [
        "# Run this cell to execute the script.\n",
        "\n",
        "!python3.10 ai2023_s14_01_08.py 899"
      ],
      "metadata": {
        "id": "IqUV_dqXegrb"
      },
      "execution_count": null,
      "outputs": []
    },
    {
      "cell_type": "code",
      "source": [
        "# Run this cell to execute the script.\n",
        "\n",
        "!python3.10 ai2023_s14_01_08.py Achilles"
      ],
      "metadata": {
        "id": "XpWSRkw5ema0"
      },
      "execution_count": null,
      "outputs": []
    },
    {
      "cell_type": "code",
      "source": [
        "# Run this cell to execute the script.\n",
        "\n",
        "!python3.10 ai2023_s14_01_08.py \"NAME=Halley; CAP;\""
      ],
      "metadata": {
        "id": "g7kzRzERepNm"
      },
      "execution_count": null,
      "outputs": []
    },
    {
      "cell_type": "markdown",
      "source": [
        "# Retrieving state vector of a target body"
      ],
      "metadata": {
        "id": "SRAp7pbReuqb"
      }
    },
    {
      "cell_type": "code",
      "source": [
        "# Run this cell to show the source code of the script.\n",
        "\n",
        "!cat ai2023_s14_01_09.py"
      ],
      "metadata": {
        "id": "6ulc2GjbezI5"
      },
      "execution_count": null,
      "outputs": []
    },
    {
      "cell_type": "code",
      "source": [
        "# Run this cell to execute the script.\n",
        "\n",
        "!python3.10 ai2023_s14_01_09.py -h"
      ],
      "metadata": {
        "id": "F6i_XGF5ezI6"
      },
      "execution_count": null,
      "outputs": []
    },
    {
      "cell_type": "code",
      "source": [
        "# Run this cell to execute the script.\n",
        "\n",
        "!python3.10 ai2023_s14_01_09.py Saturn"
      ],
      "metadata": {
        "id": "lVb0Uh9CezI8"
      },
      "execution_count": null,
      "outputs": []
    },
    {
      "cell_type": "code",
      "source": [
        "# Run this cell to execute the script.\n",
        "\n",
        "!python3.10 ai2023_s14_01_09.py 699"
      ],
      "metadata": {
        "id": "6LRw6Occe4rv"
      },
      "execution_count": null,
      "outputs": []
    },
    {
      "cell_type": "code",
      "source": [
        "# Run this cell to show the source code of the script.\n",
        "\n",
        "!cat ai2023_s14_01_10.py"
      ],
      "metadata": {
        "id": "IX4RcfBie_jp"
      },
      "execution_count": null,
      "outputs": []
    },
    {
      "cell_type": "code",
      "source": [
        "# Run this cell to execute the script.\n",
        "\n",
        "!python3.10 ai2023_s14_01_10.py -h"
      ],
      "metadata": {
        "id": "9JJ1GPmEe_jq"
      },
      "execution_count": null,
      "outputs": []
    },
    {
      "cell_type": "code",
      "source": [
        "# Run this cell to execute the script.\n",
        "\n",
        "!python3.10 ai2023_s14_01_10.py 699"
      ],
      "metadata": {
        "id": "_95zFx93e_js"
      },
      "execution_count": null,
      "outputs": []
    },
    {
      "cell_type": "code",
      "source": [
        "# Run this cell to show the source code of the script.\n",
        "\n",
        "!cat ai2023_s14_01_11.py"
      ],
      "metadata": {
        "id": "KiPvpIpvfGKy"
      },
      "execution_count": null,
      "outputs": []
    },
    {
      "cell_type": "code",
      "source": [
        "# Run this cell to execute the script.\n",
        "\n",
        "!python3.10 ai2023_s14_01_11.py -h"
      ],
      "metadata": {
        "id": "2I1565qnfGKz"
      },
      "execution_count": null,
      "outputs": []
    },
    {
      "cell_type": "code",
      "source": [
        "# Run this cell to execute the script.\n",
        "\n",
        "!python3.10 ai2023_s14_01_11.py 699"
      ],
      "metadata": {
        "id": "K2MuL3bpfGK0"
      },
      "execution_count": null,
      "outputs": []
    },
    {
      "cell_type": "code",
      "source": [
        "# Run this cell to execute the script.\n",
        "\n",
        "!python3.10 ai2023_s14_01_11.py Pluto"
      ],
      "metadata": {
        "id": "llSUcWvJfL3y"
      },
      "execution_count": null,
      "outputs": []
    },
    {
      "cell_type": "code",
      "source": [
        "# Run this cell to execute the script.\n",
        "\n",
        "!python3.10 ai2023_s14_01_11.py 999"
      ],
      "metadata": {
        "id": "pIpmBCiYfOr5"
      },
      "execution_count": null,
      "outputs": []
    },
    {
      "cell_type": "code",
      "source": [
        "# Run this cell to execute the script.\n",
        "\n",
        "!python3.10 ai2023_s14_01_11.py Kleopatra"
      ],
      "metadata": {
        "id": "x48tMpKDfTIb"
      },
      "execution_count": null,
      "outputs": []
    },
    {
      "cell_type": "code",
      "source": [
        "# Run this cell to execute the script.\n",
        "\n",
        "!python3.10 ai2023_s14_01_11.py \"NAME=Halley; CAP;\""
      ],
      "metadata": {
        "id": "9zAoMGCFfXr-"
      },
      "execution_count": null,
      "outputs": []
    },
    {
      "cell_type": "markdown",
      "source": [
        "# Distance between Earth and Mars"
      ],
      "metadata": {
        "id": "bksO_q0ZfdaP"
      }
    },
    {
      "cell_type": "code",
      "source": [
        "# Run this cell to show the source code of the script.\n",
        "\n",
        "!cat ai2023_s14_02_00.py"
      ],
      "metadata": {
        "id": "50VKajFIfjAT"
      },
      "execution_count": null,
      "outputs": []
    },
    {
      "cell_type": "code",
      "source": [
        "# Run this cell to execute the script.\n",
        "\n",
        "!python3.10 ai2023_s14_02_00.py"
      ],
      "metadata": {
        "id": "sSRjE6hpfjAY"
      },
      "execution_count": null,
      "outputs": []
    },
    {
      "cell_type": "code",
      "source": [
        "# Run this cell to display PNG image.\n",
        "\n",
        "# importing IPython.display module\n",
        "import IPython.display\n",
        "\n",
        "# displaying PNG file\n",
        "IPython.display.Image ('ai2023_s14_02_00.png')"
      ],
      "metadata": {
        "id": "wp4Hfr0b4dLH"
      },
      "execution_count": null,
      "outputs": []
    },
    {
      "cell_type": "markdown",
      "source": [
        "# Distance between Jupiter and Jovian Trojan asteroid (624) Hektor"
      ],
      "metadata": {
        "id": "i1By2DL-fyWs"
      }
    },
    {
      "cell_type": "code",
      "source": [
        "# Run this cell to show the source code of the script.\n",
        "\n",
        "!cat ai2023_s14_02_01.py"
      ],
      "metadata": {
        "id": "Dv1au6YbfyW0"
      },
      "execution_count": null,
      "outputs": []
    },
    {
      "cell_type": "code",
      "source": [
        "# Run this cell to execute the script.\n",
        "\n",
        "!python3.10 ai2023_s14_02_01.py"
      ],
      "metadata": {
        "id": "JO5i_X0yfyW1"
      },
      "execution_count": null,
      "outputs": []
    },
    {
      "cell_type": "code",
      "source": [
        "# Run this cell to display PNG image.\n",
        "\n",
        "# importing IPython.display module\n",
        "import IPython.display\n",
        "\n",
        "# displaying PNG file\n",
        "IPython.display.Image ('ai2023_s14_02_01.png')"
      ],
      "metadata": {
        "id": "l_1yBzzxfyW2"
      },
      "execution_count": null,
      "outputs": []
    },
    {
      "cell_type": "code",
      "source": [
        "nd"
      ],
      "metadata": {
        "id": "Juqcw06BgEnr"
      },
      "execution_count": null,
      "outputs": []
    },
    {
      "cell_type": "markdown",
      "source": [
        "# Distance between Neptune and Pluto"
      ],
      "metadata": {
        "id": "2VklGmgXgCjU"
      }
    },
    {
      "cell_type": "code",
      "source": [
        "# Run this cell to show the source code of the script.\n",
        "\n",
        "!cat ai2023_s14_02_02.py"
      ],
      "metadata": {
        "id": "ewxAVrATgCjZ"
      },
      "execution_count": null,
      "outputs": []
    },
    {
      "cell_type": "code",
      "source": [
        "# Run this cell to execute the script.\n",
        "\n",
        "!python3.10 ai2023_s14_02_02.py"
      ],
      "metadata": {
        "id": "J2OhtdE5gCje"
      },
      "execution_count": null,
      "outputs": []
    },
    {
      "cell_type": "code",
      "source": [
        "# Run this cell to display PNG image.\n",
        "\n",
        "# importing IPython.display module\n",
        "import IPython.display\n",
        "\n",
        "# displaying PNG file\n",
        "IPython.display.Image ('ai2023_s14_02_02.png')"
      ],
      "metadata": {
        "id": "be_37nIQgCjg"
      },
      "execution_count": null,
      "outputs": []
    },
    {
      "cell_type": "markdown",
      "source": [
        "# Visualising positions of the Sun and planets"
      ],
      "metadata": {
        "id": "MoljkjjfgPXs"
      }
    },
    {
      "cell_type": "code",
      "source": [
        "# Run this cell to show the source code of the script.\n",
        "\n",
        "!cat ai2023_s14_02_03.py"
      ],
      "metadata": {
        "id": "3o4AeKCugPX3"
      },
      "execution_count": null,
      "outputs": []
    },
    {
      "cell_type": "code",
      "source": [
        "# Run this cell to execute the script.\n",
        "\n",
        "!python3.10 ai2023_s14_02_03.py"
      ],
      "metadata": {
        "id": "1rjbfvjbgPX4"
      },
      "execution_count": null,
      "outputs": []
    },
    {
      "cell_type": "code",
      "source": [
        "# Run this cell to show the source code of the script.\n",
        "\n",
        "!cat ai2023_s14_02_04.py"
      ],
      "metadata": {
        "id": "TOnogCZ5gbBC"
      },
      "execution_count": null,
      "outputs": []
    },
    {
      "cell_type": "code",
      "source": [
        "# Run this cell to execute the script.\n",
        "\n",
        "!python3.10 ai2023_s14_02_04.py"
      ],
      "metadata": {
        "id": "xZQHkKTBgbBF"
      },
      "execution_count": null,
      "outputs": []
    },
    {
      "cell_type": "code",
      "source": [
        "# Run this cell to display PNG image.\n",
        "\n",
        "# importing IPython.display module\n",
        "import IPython.display\n",
        "\n",
        "# displaying PNG file\n",
        "IPython.display.Image ('ai2023_s14_02_04.png')"
      ],
      "metadata": {
        "id": "I8A2CrSrgPX5"
      },
      "execution_count": null,
      "outputs": []
    },
    {
      "cell_type": "code",
      "source": [
        "# Run this cell to show the source code of the script.\n",
        "\n",
        "!cat ai2023_s14_02_05.py"
      ],
      "metadata": {
        "id": "I27dIdd8giOf"
      },
      "execution_count": null,
      "outputs": []
    },
    {
      "cell_type": "code",
      "source": [
        "# Run this cell to execute the script.\n",
        "\n",
        "!python3.10 ai2023_s14_02_05.py"
      ],
      "metadata": {
        "id": "I7l4VwTCgiOm"
      },
      "execution_count": null,
      "outputs": []
    },
    {
      "cell_type": "code",
      "source": [
        "# Run this cell to display PNG image.\n",
        "\n",
        "# importing IPython.display module\n",
        "import IPython.display\n",
        "\n",
        "# displaying PNG file\n",
        "IPython.display.Image ('ai2023_s14_02_05.png')"
      ],
      "metadata": {
        "id": "-wyJCUYmgiOm"
      },
      "execution_count": null,
      "outputs": []
    },
    {
      "cell_type": "markdown",
      "source": [
        "# Visualising locations of 500 asteroids"
      ],
      "metadata": {
        "id": "mrHzFFxgg0Xc"
      }
    },
    {
      "cell_type": "code",
      "source": [
        "# Run this cell to show the source code of the script.\n",
        "\n",
        "!cat ai2023_s14_02_06.py"
      ],
      "metadata": {
        "id": "len89p3cg0Xj"
      },
      "execution_count": null,
      "outputs": []
    },
    {
      "cell_type": "code",
      "source": [
        "# Run this cell to execute the script.\n",
        "\n",
        "!python3.10 ai2023_s14_02_06.py"
      ],
      "metadata": {
        "id": "z-rhqpYSg0Xl"
      },
      "execution_count": null,
      "outputs": []
    },
    {
      "cell_type": "code",
      "source": [
        "# Run this cell to display PNG image.\n",
        "\n",
        "# importing IPython.display module\n",
        "import IPython.display\n",
        "\n",
        "# displaying PNG file\n",
        "IPython.display.Image ('ai2023_s14_02_06.png')"
      ],
      "metadata": {
        "id": "djV6oFg4g_Yc"
      },
      "execution_count": null,
      "outputs": []
    },
    {
      "cell_type": "markdown",
      "source": [
        "# Edge-on view of inner solar system"
      ],
      "metadata": {
        "id": "9VbpbJgIiCdl"
      }
    },
    {
      "cell_type": "code",
      "source": [
        "# Run this cell to show the source code of the script.\n",
        "\n",
        "!cat ai2023_s14_02_07.py"
      ],
      "metadata": {
        "id": "Px04d1SRiCdu"
      },
      "execution_count": null,
      "outputs": []
    },
    {
      "cell_type": "code",
      "source": [
        "# Run this cell to execute the script.\n",
        "\n",
        "!python3.10 ai2023_s14_02_07.py"
      ],
      "metadata": {
        "id": "JTxisneeiCdy"
      },
      "execution_count": null,
      "outputs": []
    },
    {
      "cell_type": "code",
      "source": [
        "# Run this cell to display PNG image.\n",
        "\n",
        "# importing IPython.display module\n",
        "import IPython.display\n",
        "\n",
        "# displaying PNG file\n",
        "IPython.display.Image ('ai2023_s14_02_07.png')"
      ],
      "metadata": {
        "id": "e79_Bnz1iCd0"
      },
      "execution_count": null,
      "outputs": []
    },
    {
      "cell_type": "markdown",
      "source": [
        "# Orbital integration using Rebound package"
      ],
      "metadata": {
        "id": "dXPS7pOeiZX5"
      }
    },
    {
      "cell_type": "markdown",
      "source": [
        "# Setting up a simulation and saving it to a file"
      ],
      "metadata": {
        "id": "UXsFVd3UifIH"
      }
    },
    {
      "cell_type": "code",
      "source": [
        "# Run this cell to show the source code of the script.\n",
        "\n",
        "!cat ai2023_s14_03_00.py"
      ],
      "metadata": {
        "id": "yYX6WOrFikaM"
      },
      "execution_count": null,
      "outputs": []
    },
    {
      "cell_type": "code",
      "source": [
        "# Run this cell to execute the script.\n",
        "\n",
        "!python3.10 ai2023_s14_03_00.py"
      ],
      "metadata": {
        "id": "oH_ZPyVtikaP"
      },
      "execution_count": null,
      "outputs": []
    },
    {
      "cell_type": "markdown",
      "source": [
        "# Reading a simulation from a file"
      ],
      "metadata": {
        "id": "XArB0fr1iplN"
      }
    },
    {
      "cell_type": "code",
      "source": [
        "# Run this cell to show the source code of the script.\n",
        "\n",
        "!cat ai2023_s14_03_01.py"
      ],
      "metadata": {
        "id": "qfXOqkSaiplO"
      },
      "execution_count": null,
      "outputs": []
    },
    {
      "cell_type": "code",
      "source": [
        "# Run this cell to execute the script.\n",
        "\n",
        "!python3.10 ai2023_s14_03_01.py"
      ],
      "metadata": {
        "id": "wfxqIOKqiplP"
      },
      "execution_count": null,
      "outputs": []
    },
    {
      "cell_type": "markdown",
      "source": [
        "# Carrying out orbital integration"
      ],
      "metadata": {
        "id": "HzkzpRlQiviu"
      }
    },
    {
      "cell_type": "code",
      "source": [
        "# Run this cell to show the source code of the script.\n",
        "\n",
        "!cat ai2023_s14_03_02.py"
      ],
      "metadata": {
        "id": "FyUNNstdivi3"
      },
      "execution_count": null,
      "outputs": []
    },
    {
      "cell_type": "code",
      "source": [
        "# Run this cell to execute the script.\n",
        "\n",
        "!python3.10 ai2023_s14_03_02.py > star_planet.data\n",
        "\n",
        "!head -20 star_planet.data"
      ],
      "metadata": {
        "id": "OXhV1MyNivi5"
      },
      "execution_count": null,
      "outputs": []
    },
    {
      "cell_type": "markdown",
      "source": [
        "# Visualising results of orbital integration"
      ],
      "metadata": {
        "id": "lTc4dc91jBld"
      }
    },
    {
      "cell_type": "code",
      "source": [
        "# Run this cell to show the source code of the script.\n",
        "\n",
        "!cat ai2023_s14_03_03.py"
      ],
      "metadata": {
        "id": "xGWfJE1jjBli"
      },
      "execution_count": null,
      "outputs": []
    },
    {
      "cell_type": "code",
      "source": [
        "# Run this cell to execute the script.\n",
        "\n",
        "!python3.10 ai2023_s14_03_03.py\n",
        "\n",
        "!ls star_planet"
      ],
      "metadata": {
        "id": "GVZsOMhujBlk"
      },
      "execution_count": null,
      "outputs": []
    },
    {
      "cell_type": "markdown",
      "source": [
        "# Making a movie file"
      ],
      "metadata": {
        "id": "7xTYHAA7kSWn"
      }
    },
    {
      "cell_type": "code",
      "source": [
        "# Run this cell to show the source code of the script.\n",
        "\n",
        "!cat ai2023_s14_03_04.py"
      ],
      "metadata": {
        "id": "Xug1FlKWkSWr"
      },
      "execution_count": null,
      "outputs": []
    },
    {
      "cell_type": "code",
      "source": [
        "# Run this cell to execute the script.\n",
        "\n",
        "!python3.10 ai2023_s14_03_04.py"
      ],
      "metadata": {
        "id": "4PF0KdG3kSWs"
      },
      "execution_count": null,
      "outputs": []
    },
    {
      "cell_type": "code",
      "source": [
        "# Playing MP4 movie file\n",
        "\n",
        "# importing IPython.display\n",
        "import IPython.display\n",
        "\n",
        "# playing MP4 movie file\n",
        "IPython.display.Video ('star_planet.mp4')"
      ],
      "metadata": {
        "id": "YEJWn7lE-cWx"
      },
      "execution_count": null,
      "outputs": []
    },
    {
      "cell_type": "code",
      "source": [
        "# Downloading MP4 movie file to local computer\n",
        "\n",
        "#\n",
        "# If previous cell fails to play MP4 movie, then download MP4 movie file to your local computer and play the movie file on your local computer.\n",
        "#\n",
        "\n",
        "# importing google.colab\n",
        "import google.colab.files\n",
        "\n",
        "# downloading MP4 movie file\n",
        "google.colab.files.download ('star_planet.mp4')"
      ],
      "metadata": {
        "id": "uF3z0s346oWu"
      },
      "execution_count": null,
      "outputs": []
    },
    {
      "cell_type": "markdown",
      "source": [
        "# Simulation of a binary system"
      ],
      "metadata": {
        "id": "icJaGcDIlKkN"
      }
    },
    {
      "cell_type": "markdown",
      "source": [
        "# Setting up a simulation"
      ],
      "metadata": {
        "id": "MRF0_Z9RlPch"
      }
    },
    {
      "cell_type": "code",
      "source": [
        "# Run this cell to show the source code of the script.\n",
        "\n",
        "!cat ai2023_s14_04_00.py"
      ],
      "metadata": {
        "id": "-tmirRdclPcp"
      },
      "execution_count": null,
      "outputs": []
    },
    {
      "cell_type": "code",
      "source": [
        "# Run this cell to execute the script.\n",
        "\n",
        "!python3.10 ai2023_s14_04_00.py"
      ],
      "metadata": {
        "id": "8UT3vRVclPcq"
      },
      "execution_count": null,
      "outputs": []
    },
    {
      "cell_type": "markdown",
      "source": [
        "# Carrying out orbital integration"
      ],
      "metadata": {
        "id": "_3uo4benlU7J"
      }
    },
    {
      "cell_type": "code",
      "source": [
        "# Run this cell to show the source code of the script.\n",
        "\n",
        "!cat ai2023_s14_04_01.py"
      ],
      "metadata": {
        "id": "loaXPyJvlU7K"
      },
      "execution_count": null,
      "outputs": []
    },
    {
      "cell_type": "code",
      "source": [
        "# Run this cell to execute the script.\n",
        "\n",
        "!python3.10 ai2023_s14_04_01.py > binary.data\n",
        "\n",
        "!head -20 binary.data"
      ],
      "metadata": {
        "id": "cBYeJ_1rlU7N"
      },
      "execution_count": null,
      "outputs": []
    },
    {
      "cell_type": "markdown",
      "source": [
        "# Visualising results of orbital integration"
      ],
      "metadata": {
        "id": "DTZis0c_lelX"
      }
    },
    {
      "cell_type": "code",
      "source": [
        "# Run this cell to show the source code of the script.\n",
        "\n",
        "!cat ai2023_s14_04_02.py"
      ],
      "metadata": {
        "id": "H1odk31ylelY"
      },
      "execution_count": null,
      "outputs": []
    },
    {
      "cell_type": "code",
      "source": [
        "# Run this cell to execute the script.\n",
        "\n",
        "!python3.10 ai2023_s14_04_02.py\n",
        "\n",
        "!ls binary"
      ],
      "metadata": {
        "id": "IRJ39eX0lelZ"
      },
      "execution_count": null,
      "outputs": []
    },
    {
      "cell_type": "markdown",
      "source": [
        "# Making a movie file"
      ],
      "metadata": {
        "id": "v0bpdx0zlouB"
      }
    },
    {
      "cell_type": "code",
      "source": [
        "# Run this cell to show the source code of the script.\n",
        "\n",
        "!cat ai2023_s14_04_03.py"
      ],
      "metadata": {
        "id": "RqDgV55-louD"
      },
      "execution_count": null,
      "outputs": []
    },
    {
      "cell_type": "code",
      "source": [
        "# Run this cell to execute the script.\n",
        "\n",
        "!python3.10 ai2023_s14_04_03.py"
      ],
      "metadata": {
        "id": "oMuhplr7louE"
      },
      "execution_count": null,
      "outputs": []
    },
    {
      "cell_type": "code",
      "source": [
        "# Playing MP4 movie file\n",
        "\n",
        "# importing IPython.display\n",
        "import IPython.display\n",
        "\n",
        "# playing MP4 movie file\n",
        "IPython.display.Video ('binary.mp4')"
      ],
      "metadata": {
        "id": "QzVjv68klouI"
      },
      "execution_count": null,
      "outputs": []
    },
    {
      "cell_type": "code",
      "source": [
        "# Downloading MP4 movie file to local computer\n",
        "\n",
        "#\n",
        "# If previous cell fails to play MP4 movie, then download MP4 movie file to your local computer and play the movie file on your local computer.\n",
        "#\n",
        "\n",
        "# importing google.colab\n",
        "import google.colab.files\n",
        "\n",
        "# downloading MP4 movie file\n",
        "google.colab.files.download ('binary.mp4')"
      ],
      "metadata": {
        "id": "Xs42-f6ulouJ"
      },
      "execution_count": null,
      "outputs": []
    },
    {
      "cell_type": "markdown",
      "source": [
        "# Orbital motion of comets"
      ],
      "metadata": {
        "id": "7ogLOpgslx_m"
      }
    },
    {
      "cell_type": "markdown",
      "source": [
        "# Making a simulation file"
      ],
      "metadata": {
        "id": "1CKzL3lYl-Ge"
      }
    },
    {
      "cell_type": "code",
      "source": [
        "# Run this cell to show the source code of the script.\n",
        "\n",
        "!cat ai2023_s14_05_00.py"
      ],
      "metadata": {
        "id": "U8w2mkbvl-Gk"
      },
      "execution_count": null,
      "outputs": []
    },
    {
      "cell_type": "code",
      "source": [
        "# Run this cell to execute the script.\n",
        "\n",
        "!python3.10 ai2023_s14_05_00.py"
      ],
      "metadata": {
        "id": "d62XS-4Hl-Gl"
      },
      "execution_count": null,
      "outputs": []
    },
    {
      "cell_type": "markdown",
      "source": [
        "# Carrying out orbital integration"
      ],
      "metadata": {
        "id": "YUJHNLvDmGBI"
      }
    },
    {
      "cell_type": "code",
      "source": [
        "# Run this cell to show the source code of the script.\n",
        "\n",
        "!cat ai2023_s14_05_01.py"
      ],
      "metadata": {
        "id": "hqNj1iKsmGBK"
      },
      "execution_count": null,
      "outputs": []
    },
    {
      "cell_type": "code",
      "source": [
        "# Run this cell to execute the script.\n",
        "\n",
        "!python3.10 ai2023_s14_05_01.py\n",
        "\n",
        "!head -40 comets.data | cut -b -80"
      ],
      "metadata": {
        "id": "L7MHBG34mGBM"
      },
      "execution_count": null,
      "outputs": []
    },
    {
      "cell_type": "markdown",
      "source": [
        "# Visualising results of orbital integration"
      ],
      "metadata": {
        "id": "ixgFTkWFmTia"
      }
    },
    {
      "cell_type": "code",
      "source": [
        "# Run this cell to show the source code of the script.\n",
        "\n",
        "!cat ai2023_s14_05_02.py"
      ],
      "metadata": {
        "id": "5V61vMt_mTic"
      },
      "execution_count": null,
      "outputs": []
    },
    {
      "cell_type": "code",
      "source": [
        "# Run this cell to execute the script.\n",
        "\n",
        "!python3.10 ai2023_s14_05_02.py\n",
        "\n",
        "!ls comets"
      ],
      "metadata": {
        "id": "BGIKrickmTid"
      },
      "execution_count": null,
      "outputs": []
    },
    {
      "cell_type": "markdown",
      "source": [
        "# Making a movie file"
      ],
      "metadata": {
        "id": "XhESJPtEmdhW"
      }
    },
    {
      "cell_type": "code",
      "source": [
        "# Run this cell to show the source code of the script.\n",
        "\n",
        "!cat ai2023_s14_05_03.py"
      ],
      "metadata": {
        "id": "2p2P1f-Cmdhb"
      },
      "execution_count": null,
      "outputs": []
    },
    {
      "cell_type": "code",
      "source": [
        "# Run this cell to execute the script.\n",
        "\n",
        "!python3.10 ai2023_s14_05_03.py"
      ],
      "metadata": {
        "id": "7iHHL_idmdhd"
      },
      "execution_count": null,
      "outputs": []
    },
    {
      "cell_type": "code",
      "source": [
        "# Playing MP4 movie file\n",
        "\n",
        "# importing IPython.display\n",
        "import IPython.display\n",
        "\n",
        "# playing MP4 movie file\n",
        "IPython.display.Video ('comets.mp4')"
      ],
      "metadata": {
        "id": "E8lPljFlmdhe"
      },
      "execution_count": null,
      "outputs": []
    },
    {
      "cell_type": "code",
      "source": [
        "# Downloading MP4 movie file to local computer\n",
        "\n",
        "#\n",
        "# If previous cell fails to play MP4 movie, then download MP4 movie file to your local computer and play the movie file on your local computer.\n",
        "#\n",
        "\n",
        "# importing google.colab\n",
        "import google.colab.files\n",
        "\n",
        "# downloading MP4 movie file\n",
        "google.colab.files.download ('comets.mp4')"
      ],
      "metadata": {
        "id": "KJ16dzhmmdhe"
      },
      "execution_count": null,
      "outputs": []
    },
    {
      "cell_type": "markdown",
      "source": [
        "# Distribution of Jovian Trojan asteroids"
      ],
      "metadata": {
        "id": "4aBWb8jGmj3L"
      }
    },
    {
      "cell_type": "markdown",
      "source": [
        "# Downloading asteroid orbit database file"
      ],
      "metadata": {
        "id": "Xjnrp2BOmoHE"
      }
    },
    {
      "cell_type": "code",
      "source": [
        "# Run this cell to show the source code of the script.\n",
        "\n",
        "!cat ai2023_s14_06_00.py"
      ],
      "metadata": {
        "id": "Xme_5TsXmtER"
      },
      "execution_count": null,
      "outputs": []
    },
    {
      "cell_type": "code",
      "source": [
        "# Run this cell to execute the script.\n",
        "\n",
        "!python3.10 ai2023_s14_06_00.py\n",
        "\n",
        "!ls -lF *.gz"
      ],
      "metadata": {
        "id": "MNX0qOYmmtEY"
      },
      "execution_count": null,
      "outputs": []
    },
    {
      "cell_type": "markdown",
      "source": [
        "# Finding Jovian Trojan asteroids"
      ],
      "metadata": {
        "id": "9wG9V7kRm1V6"
      }
    },
    {
      "cell_type": "code",
      "source": [
        "# Run this cell to show the source code of the script.\n",
        "\n",
        "!cat ai2023_s14_06_01.py"
      ],
      "metadata": {
        "id": "v7TODVhmm5wQ"
      },
      "execution_count": null,
      "outputs": []
    },
    {
      "cell_type": "code",
      "source": [
        "# Run this cell to execute the script.\n",
        "\n",
        "!python3.10 ai2023_s14_06_01.py > trojan.list\n",
        "\n",
        "!head -20 trojan.list"
      ],
      "metadata": {
        "id": "ZXwSUc0nm5wR"
      },
      "execution_count": null,
      "outputs": []
    },
    {
      "cell_type": "markdown",
      "source": [
        "# Setting up a simulation"
      ],
      "metadata": {
        "id": "9DRKME4MnG5Z"
      }
    },
    {
      "cell_type": "code",
      "source": [
        "# Run this cell to show the source code of the script.\n",
        "\n",
        "!cat ai2023_s14_06_02.py"
      ],
      "metadata": {
        "id": "8OEQ_hJQnG5c"
      },
      "execution_count": null,
      "outputs": []
    },
    {
      "cell_type": "code",
      "source": [
        "# Run this cell to execute the script.\n",
        "\n",
        "!python3.10 ai2023_s14_06_02.py"
      ],
      "metadata": {
        "id": "IhHGdmJinG5d"
      },
      "execution_count": null,
      "outputs": []
    },
    {
      "cell_type": "markdown",
      "source": [
        "# Carrying out orbital integration"
      ],
      "metadata": {
        "id": "keyhbd6JnTXh"
      }
    },
    {
      "cell_type": "code",
      "source": [
        "# Run this cell to show the source code of the script.\n",
        "\n",
        "!cat ai2023_s14_06_03.py"
      ],
      "metadata": {
        "id": "Z6yK0TwynTXj"
      },
      "execution_count": null,
      "outputs": []
    },
    {
      "cell_type": "code",
      "source": [
        "# Run this cell to execute the script.\n",
        "\n",
        "!python3.10 ai2023_s14_06_03.py\n",
        "\n",
        "!head -30 trojan.data | cut -b -80"
      ],
      "metadata": {
        "id": "9fwB6i5VnTXl"
      },
      "execution_count": null,
      "outputs": []
    },
    {
      "cell_type": "markdown",
      "source": [
        "# Visualising results of orbital integration"
      ],
      "metadata": {
        "id": "4WM0IXobngA5"
      }
    },
    {
      "cell_type": "code",
      "source": [
        "# Run this cell to show the source code of the script.\n",
        "\n",
        "!cat ai2023_s14_06_04.py"
      ],
      "metadata": {
        "id": "_vnyizHKngA8"
      },
      "execution_count": null,
      "outputs": []
    },
    {
      "cell_type": "code",
      "source": [
        "# Run this cell to execute the script.\n",
        "\n",
        "!python3.10 ai2023_s14_06_04.py\n",
        "\n",
        "!ls trojan"
      ],
      "metadata": {
        "id": "Dzlfb_PMngA8"
      },
      "execution_count": null,
      "outputs": []
    },
    {
      "cell_type": "markdown",
      "source": [
        "# Making a movie file"
      ],
      "metadata": {
        "id": "qyO3VPldnuXJ"
      }
    },
    {
      "cell_type": "code",
      "source": [
        "# Run this cell to show the source code of the script.\n",
        "\n",
        "!cat ai2023_s14_06_05.py"
      ],
      "metadata": {
        "id": "ZsEVfOlBnuXL"
      },
      "execution_count": null,
      "outputs": []
    },
    {
      "cell_type": "code",
      "source": [
        "# Run this cell to execute the script.\n",
        "\n",
        "!python3.10 ai2023_s14_06_05.py"
      ],
      "metadata": {
        "id": "B1HCZfUOnuXN"
      },
      "execution_count": null,
      "outputs": []
    },
    {
      "cell_type": "code",
      "source": [
        "# Playing MP4 movie file\n",
        "\n",
        "# importing IPython.display\n",
        "import IPython.display\n",
        "\n",
        "# playing MP4 movie file\n",
        "IPython.display.Video ('trojan.mp4')"
      ],
      "metadata": {
        "id": "_EbAVZNRnuXO"
      },
      "execution_count": null,
      "outputs": []
    },
    {
      "cell_type": "code",
      "source": [
        "# Downloading MP4 movie file to local computer\n",
        "\n",
        "#\n",
        "# If previous cell fails to play MP4 movie, then download MP4 movie file to your local computer and play the movie file on your local computer.\n",
        "#\n",
        "\n",
        "# importing google.colab\n",
        "import google.colab.files\n",
        "\n",
        "# downloading MP4 movie file\n",
        "google.colab.files.download ('trojan.mp4')"
      ],
      "metadata": {
        "id": "zmKDL5jdnuXP"
      },
      "execution_count": null,
      "outputs": []
    },
    {
      "cell_type": "markdown",
      "source": [
        "# Structure of the main asteroid belt"
      ],
      "metadata": {
        "id": "bcy1Hikqn1j_"
      }
    },
    {
      "cell_type": "markdown",
      "source": [
        "# Reading orbital elements"
      ],
      "metadata": {
        "id": "c42l15fln5RD"
      }
    },
    {
      "cell_type": "code",
      "source": [
        "# Run this cell to show the source code of the script.\n",
        "\n",
        "!cat ai2023_s14_07_00.py"
      ],
      "metadata": {
        "id": "dO5Lv8VKn9ks"
      },
      "execution_count": null,
      "outputs": []
    },
    {
      "cell_type": "code",
      "source": [
        "# Run this cell to execute the script.\n",
        "\n",
        "!python3.10 ai2023_s14_07_00.py > asteroid.list\n",
        "\n",
        "!head -20 asteroid.list"
      ],
      "metadata": {
        "id": "VV-3JG6Dn9ku"
      },
      "execution_count": null,
      "outputs": []
    },
    {
      "cell_type": "markdown",
      "source": [
        "# Setting up a simulation"
      ],
      "metadata": {
        "id": "dgBIPi67oNc8"
      }
    },
    {
      "cell_type": "code",
      "source": [
        "# Run this cell to show the source code of the script.\n",
        "\n",
        "!cat ai2023_s14_07_01.py"
      ],
      "metadata": {
        "id": "jBAon9xzoNc-"
      },
      "execution_count": null,
      "outputs": []
    },
    {
      "cell_type": "code",
      "source": [
        "# Run this cell to execute the script.\n",
        "\n",
        "!python3.10 ai2023_s14_07_01.py"
      ],
      "metadata": {
        "id": "WhKVjAPNoNc_"
      },
      "execution_count": null,
      "outputs": []
    },
    {
      "cell_type": "markdown",
      "source": [
        "# Carrying out orbital integration"
      ],
      "metadata": {
        "id": "TV_09Of-oVOz"
      }
    },
    {
      "cell_type": "code",
      "source": [
        "# Run this cell to show the source code of the script.\n",
        "\n",
        "!cat ai2023_s14_07_02.py"
      ],
      "metadata": {
        "id": "DEhhMJ38oVO3"
      },
      "execution_count": null,
      "outputs": []
    },
    {
      "cell_type": "code",
      "source": [
        "# Run this cell to execute the script.\n",
        "\n",
        "!python3.10 ai2023_s14_07_02.py"
      ],
      "metadata": {
        "id": "RzrpLbINoVO5"
      },
      "execution_count": null,
      "outputs": []
    },
    {
      "cell_type": "markdown",
      "source": [
        "# Visualising results of orbital integration"
      ],
      "metadata": {
        "id": "I668qLBboe7W"
      }
    },
    {
      "cell_type": "code",
      "source": [
        "# Run this cell to show the source code of the script.\n",
        "\n",
        "!cat ai2023_s14_07_03.py"
      ],
      "metadata": {
        "id": "qQZTa4_noe7c"
      },
      "execution_count": null,
      "outputs": []
    },
    {
      "cell_type": "code",
      "source": [
        "# Run this cell to execute the script.\n",
        "\n",
        "!python3.10 ai2023_s14_07_03.py\n",
        "\n",
        "!ls iss"
      ],
      "metadata": {
        "id": "TJM7JOBzoe7f"
      },
      "execution_count": null,
      "outputs": []
    },
    {
      "cell_type": "markdown",
      "source": [
        "# Making a movie file"
      ],
      "metadata": {
        "id": "PSkUWkiuoogO"
      }
    },
    {
      "cell_type": "code",
      "source": [
        "# Run this cell to show the source code of the script.\n",
        "\n",
        "!cat ai2023_s14_07_04.py"
      ],
      "metadata": {
        "id": "8FF3dILgoogU"
      },
      "execution_count": null,
      "outputs": []
    },
    {
      "cell_type": "code",
      "source": [
        "# Run this cell to execute the script.\n",
        "\n",
        "!python3.10 ai2023_s14_07_04.py"
      ],
      "metadata": {
        "id": "YWvSWYymoogV"
      },
      "execution_count": null,
      "outputs": []
    },
    {
      "cell_type": "code",
      "source": [
        "# Playing MP4 movie file\n",
        "\n",
        "# importing IPython.display\n",
        "import IPython.display\n",
        "\n",
        "# playing MP4 movie file\n",
        "IPython.display.Video ('iss.mp4')"
      ],
      "metadata": {
        "id": "Gr449XBLoogW"
      },
      "execution_count": null,
      "outputs": []
    },
    {
      "cell_type": "code",
      "source": [
        "# Downloading MP4 movie file to local computer\n",
        "\n",
        "#\n",
        "# If previous cell fails to play MP4 movie, then download MP4 movie file to your local computer and play the movie file on your local computer.\n",
        "#\n",
        "\n",
        "# importing google.colab\n",
        "import google.colab.files\n",
        "\n",
        "# downloading MP4 movie file\n",
        "google.colab.files.download ('iss.mp4')"
      ],
      "metadata": {
        "id": "8eOiGz7VoogX"
      },
      "execution_count": null,
      "outputs": []
    },
    {
      "cell_type": "markdown",
      "source": [
        "# 3D structure of inner solar system"
      ],
      "metadata": {
        "id": "dkOJxGXkou3n"
      }
    },
    {
      "cell_type": "markdown",
      "source": [
        "# Setting up a simulation"
      ],
      "metadata": {
        "id": "ONYHydDGoze9"
      }
    },
    {
      "cell_type": "code",
      "source": [
        "# Run this cell to show the source code of the script.\n",
        "\n",
        "!cat ai2023_s14_08_00.py"
      ],
      "metadata": {
        "id": "E-WTofH6oze_"
      },
      "execution_count": null,
      "outputs": []
    },
    {
      "cell_type": "code",
      "source": [
        "# Run this cell to execute the script.\n",
        "\n",
        "!python3.10 ai2023_s14_08_00.py"
      ],
      "metadata": {
        "id": "xuGvEKwAozfA"
      },
      "execution_count": null,
      "outputs": []
    },
    {
      "cell_type": "markdown",
      "source": [
        "# Carrying out orbital integration and 3D visualisation"
      ],
      "metadata": {
        "id": "FNwcpyzNo5Zc"
      }
    },
    {
      "cell_type": "code",
      "source": [
        "# Run this cell to show the source code of the script.\n",
        "\n",
        "!cat ai2023_s14_08_01.py"
      ],
      "metadata": {
        "id": "epjI-VENpBzC"
      },
      "execution_count": null,
      "outputs": []
    },
    {
      "cell_type": "code",
      "source": [
        "# Run this cell to execute the script.\n",
        "\n",
        "!python3.10 ai2023_s14_08_01.py"
      ],
      "metadata": {
        "id": "bsBGI4OJpBzF"
      },
      "execution_count": null,
      "outputs": []
    },
    {
      "cell_type": "markdown",
      "source": [
        "# Cropping PNG files"
      ],
      "metadata": {
        "id": "MdccbtIHpFsT"
      }
    },
    {
      "cell_type": "code",
      "source": [
        "# Run this cell to show the source code of the script.\n",
        "\n",
        "!cat ai2023_s14_08_02.py"
      ],
      "metadata": {
        "id": "8tymv9jSpJNr"
      },
      "execution_count": null,
      "outputs": []
    },
    {
      "cell_type": "code",
      "source": [
        "# Run this cell to execute the script.\n",
        "\n",
        "!python3.10 ai2023_s14_08_02.py"
      ],
      "metadata": {
        "id": "ky0qXveOpJNu"
      },
      "execution_count": null,
      "outputs": []
    },
    {
      "cell_type": "markdown",
      "source": [
        "# Making a movie file"
      ],
      "metadata": {
        "id": "NUEZ_mBepOdk"
      }
    },
    {
      "cell_type": "code",
      "source": [
        "# Run this cell to show the source code of the script.\n",
        "\n",
        "!cat ai2023_s14_08_03.py"
      ],
      "metadata": {
        "id": "Vu5v3TLapOdl"
      },
      "execution_count": null,
      "outputs": []
    },
    {
      "cell_type": "code",
      "source": [
        "# Run this cell to execute the script.\n",
        "\n",
        "!python3.10 ai2023_s14_08_03.py"
      ],
      "metadata": {
        "id": "emULffRVpOdm"
      },
      "execution_count": null,
      "outputs": []
    },
    {
      "cell_type": "code",
      "source": [
        "# Playing MP4 movie file\n",
        "\n",
        "# importing IPython.display\n",
        "import IPython.display\n",
        "\n",
        "# playing MP4 movie file\n",
        "IPython.display.Video ('iss3d.mp4')"
      ],
      "metadata": {
        "id": "T8XuiAULpOdn"
      },
      "execution_count": null,
      "outputs": []
    },
    {
      "cell_type": "code",
      "source": [
        "# Downloading MP4 movie file to local computer\n",
        "\n",
        "#\n",
        "# If previous cell fails to play MP4 movie, then download MP4 movie file to your local computer and play the movie file on your local computer.\n",
        "#\n",
        "\n",
        "# importing google.colab\n",
        "import google.colab.files\n",
        "\n",
        "# downloading MP4 movie file\n",
        "google.colab.files.download ('iss3d.mp4')"
      ],
      "metadata": {
        "id": "Re5XwrTipOdo"
      },
      "execution_count": null,
      "outputs": []
    },
    {
      "cell_type": "markdown",
      "source": [
        "# End of this notebook"
      ],
      "metadata": {
        "id": "xLV9s_N6pVfs"
      }
    },
    {
      "cell_type": "code",
      "source": [],
      "metadata": {
        "id": "94zPLr_ciNBH"
      },
      "execution_count": null,
      "outputs": []
    }
  ]
}