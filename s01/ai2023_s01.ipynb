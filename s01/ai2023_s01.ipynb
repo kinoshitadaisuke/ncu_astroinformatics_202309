{
  "nbformat": 4,
  "nbformat_minor": 0,
  "metadata": {
    "colab": {
      "provenance": []
    },
    "kernelspec": {
      "name": "python3",
      "display_name": "Python 3"
    },
    "language_info": {
      "name": "python"
    }
  },
  "cells": [
    {
      "cell_type": "markdown",
      "source": [
        "# AS6095 \"Astroinformatics\"\n",
        "\n",
        "## for academic year 2023 (from Sep/2023 to Jan/2024)\n",
        "\n",
        "## instructor: Kinoshita Daisuke\n",
        "\n",
        "## Course web page: https://s3b.astro.ncu.edu.tw/ai_202309/\n",
        "\n",
        "## GitHub repository: https://github.com/kinoshitadaisuke/ncu_astroinformatics_202309\n"
      ],
      "metadata": {
        "id": "X9F8FTGZzaSe"
      }
    },
    {
      "cell_type": "markdown",
      "source": [
        "# Session 01 \"Basic Python programming\"\n",
        "\n",
        "## 11 September 2023\n"
      ],
      "metadata": {
        "id": "MKQ0pdfJCZ1I"
      }
    },
    {
      "cell_type": "markdown",
      "source": [
        "# Downloading a set of sample Python scripts and changing directory"
      ],
      "metadata": {
        "id": "FVmonUCL197r"
      }
    },
    {
      "cell_type": "code",
      "source": [
        "# Run this cell to download a set of sample Python scripts for this course.\n",
        "\n",
        "!git clone https://github.com/kinoshitadaisuke/ncu_astroinformatics_202309.git"
      ],
      "metadata": {
        "id": "E-J1KLJAzmx5"
      },
      "execution_count": null,
      "outputs": []
    },
    {
      "cell_type": "code",
      "source": [
        "# Run this cell to check whether you have a directory named \"ncu_astroinformatics_202309\".\n",
        "\n",
        "!ls"
      ],
      "metadata": {
        "id": "NU4Otc0i2jfu"
      },
      "execution_count": null,
      "outputs": []
    },
    {
      "cell_type": "code",
      "source": [
        "# Run this cell to move to the directory \"ncu_astroinformatics_202309\".\n",
        "\n",
        "%cd ncu_astroinformatics_202309"
      ],
      "metadata": {
        "id": "faZRhZv821VY"
      },
      "execution_count": null,
      "outputs": []
    },
    {
      "cell_type": "code",
      "source": [
        "# Run this cell to show currently working directory.\n",
        "\n",
        "!pwd"
      ],
      "metadata": {
        "id": "hUjHlUZk3Bov"
      },
      "execution_count": null,
      "outputs": []
    },
    {
      "cell_type": "code",
      "source": [
        "# Run this cell to show files and directories.\n",
        "\n",
        "!ls -lF"
      ],
      "metadata": {
        "id": "RXAGJHeX3IsD"
      },
      "execution_count": null,
      "outputs": []
    },
    {
      "cell_type": "code",
      "source": [
        "# Run this cell to move to the directory \"s01\".\n",
        "\n",
        "%cd s01"
      ],
      "metadata": {
        "id": "xR0V8I0k3O3k"
      },
      "execution_count": null,
      "outputs": []
    },
    {
      "cell_type": "code",
      "source": [
        "# Run this cell to show currently working directory.\n",
        "\n",
        "!pwd"
      ],
      "metadata": {
        "id": "KbvQ_3Su3UKL"
      },
      "execution_count": null,
      "outputs": []
    },
    {
      "cell_type": "code",
      "source": [
        "# Run this cell to show files and directories.\n",
        "\n",
        "!ls -lF"
      ],
      "metadata": {
        "id": "n9AAgI4d3c6n"
      },
      "execution_count": null,
      "outputs": []
    },
    {
      "cell_type": "markdown",
      "source": [
        "# Sample Python script \"ai2023_s01_00_00.py\"\n"
      ],
      "metadata": {
        "id": "3kDY3MHR4Vxj"
      }
    },
    {
      "cell_type": "code",
      "source": [
        "# Run this cell to show the source code.\n",
        "\n",
        "!cat ai2023_s01_00_00.py"
      ],
      "metadata": {
        "id": "tRN2oeq_4eoZ"
      },
      "execution_count": null,
      "outputs": []
    },
    {
      "cell_type": "code",
      "source": [
        "# Run this cell to execute the script.\n",
        "\n",
        "!python3.10 ai2023_s01_00_00.py"
      ],
      "metadata": {
        "id": "0W7Vb0874m_H"
      },
      "execution_count": null,
      "outputs": []
    },
    {
      "cell_type": "markdown",
      "source": [
        "# Practice s01-01"
      ],
      "metadata": {
        "id": "SNETVMoz6fRd"
      }
    },
    {
      "cell_type": "code",
      "source": [
        "# Write down your code for Practice s01-01 in this cell.\n",
        "\n",
        "\n",
        "\n"
      ],
      "metadata": {
        "id": "JllPWrQn6rOm"
      },
      "execution_count": null,
      "outputs": []
    },
    {
      "cell_type": "markdown",
      "source": [
        "# Sample Python script \"ai2023_s01_00_01.py\"\n"
      ],
      "metadata": {
        "id": "urbruSNpNVkO"
      }
    },
    {
      "cell_type": "code",
      "source": [
        "# Run this cell to show the source code.\n",
        "\n",
        "!cat ai2023_s01_00_01.py"
      ],
      "metadata": {
        "id": "VNV77D5INVkP"
      },
      "execution_count": null,
      "outputs": []
    },
    {
      "cell_type": "code",
      "source": [
        "# Run this cell to execute the script.\n",
        "\n",
        "!python3.10 ai2023_s01_00_01.py"
      ],
      "metadata": {
        "id": "1f1CkKZtNVkQ"
      },
      "execution_count": null,
      "outputs": []
    },
    {
      "cell_type": "markdown",
      "source": [
        "# Practice s01-02"
      ],
      "metadata": {
        "id": "sVhVD1ykNVkR"
      }
    },
    {
      "cell_type": "code",
      "source": [
        "# Write down your code for Practice s01-02 in this cell.\n",
        "\n",
        "\n",
        "\n"
      ],
      "metadata": {
        "id": "FyC6BBvRNVkS"
      },
      "execution_count": null,
      "outputs": []
    },
    {
      "cell_type": "markdown",
      "source": [
        "# Sample Python script \"ai2023_s01_00_02.py\"\n"
      ],
      "metadata": {
        "id": "oyFsr8-HNf57"
      }
    },
    {
      "cell_type": "code",
      "source": [
        "# Run this cell to show the source code.\n",
        "\n",
        "!cat ai2023_s01_00_02.py"
      ],
      "metadata": {
        "id": "osnkShnONf5-"
      },
      "execution_count": null,
      "outputs": []
    },
    {
      "cell_type": "code",
      "source": [
        "# Run this cell to execute the script.\n",
        "\n",
        "!python3.10 ai2023_s01_00_02.py"
      ],
      "metadata": {
        "id": "37O7JY3qNf6A"
      },
      "execution_count": null,
      "outputs": []
    },
    {
      "cell_type": "markdown",
      "source": [
        "# Practice s01-03"
      ],
      "metadata": {
        "id": "wJJImj_rNf6C"
      }
    },
    {
      "cell_type": "code",
      "source": [
        "# Write down your code for Practice s01-03 in this cell.\n",
        "\n",
        "\n",
        "\n"
      ],
      "metadata": {
        "id": "YIem1NG0Nf6D"
      },
      "execution_count": null,
      "outputs": []
    },
    {
      "cell_type": "markdown",
      "source": [
        "# Sample Python script \"ai2023_s01_00_03.py\"\n"
      ],
      "metadata": {
        "id": "LfM9x1vFNrZ0"
      }
    },
    {
      "cell_type": "code",
      "source": [
        "# Run this cell to show the source code.\n",
        "\n",
        "!cat ai2023_s01_00_03.py"
      ],
      "metadata": {
        "id": "oPBe84UCNrZ5"
      },
      "execution_count": null,
      "outputs": []
    },
    {
      "cell_type": "code",
      "source": [
        "# Run this cell to execute the script.\n",
        "\n",
        "!python3.10 ai2023_s01_00_03.py"
      ],
      "metadata": {
        "id": "7DyaqHeSNrZ8"
      },
      "execution_count": null,
      "outputs": []
    },
    {
      "cell_type": "markdown",
      "source": [
        "# Sample Python script \"ai2023_s01_00_04.py\"\n"
      ],
      "metadata": {
        "id": "KczpVdQjN-tk"
      }
    },
    {
      "cell_type": "code",
      "source": [
        "# Run this cell to show the source code.\n",
        "\n",
        "!cat ai2023_s01_00_04.py"
      ],
      "metadata": {
        "id": "aEAP1MtVN-tn"
      },
      "execution_count": null,
      "outputs": []
    },
    {
      "cell_type": "code",
      "source": [
        "# Run this cell to execute the script.\n",
        "\n",
        "!python3.10 ai2023_s01_00_04.py"
      ],
      "metadata": {
        "id": "8dbYclkXN-tr"
      },
      "execution_count": null,
      "outputs": []
    },
    {
      "cell_type": "markdown",
      "source": [
        "# Sample Python script \"ai2023_s01_00_05.py\"\n"
      ],
      "metadata": {
        "id": "aLfmpC_1N_F4"
      }
    },
    {
      "cell_type": "code",
      "source": [
        "# Run this cell to show the source code.\n",
        "\n",
        "!cat ai2023_s01_00_05.py"
      ],
      "metadata": {
        "id": "AeFiJoU9N_F6"
      },
      "execution_count": null,
      "outputs": []
    },
    {
      "cell_type": "code",
      "source": [
        "# Run this cell to execute the script.\n",
        "\n",
        "!python3.10 ai2023_s01_00_05.py"
      ],
      "metadata": {
        "id": "pb6JlsGvN_F8"
      },
      "execution_count": null,
      "outputs": []
    },
    {
      "cell_type": "markdown",
      "source": [
        "# Sample Python script \"ai2023_s01_00_06.py\"\n"
      ],
      "metadata": {
        "id": "1nlv0EgsN_Rv"
      }
    },
    {
      "cell_type": "code",
      "source": [
        "# Run this cell to show the source code.\n",
        "\n",
        "!cat ai2023_s01_00_06.py"
      ],
      "metadata": {
        "id": "SoechifTN_Rw"
      },
      "execution_count": null,
      "outputs": []
    },
    {
      "cell_type": "code",
      "source": [
        "# Run this cell to execute the script.\n",
        "\n",
        "!python3.10 ai2023_s01_00_06.py"
      ],
      "metadata": {
        "id": "1mqHghe_N_Rw"
      },
      "execution_count": null,
      "outputs": []
    },
    {
      "cell_type": "markdown",
      "source": [
        "# Sample Python script \"ai2023_s01_00_07.py\"\n"
      ],
      "metadata": {
        "id": "W8WE0-XdN_a4"
      }
    },
    {
      "cell_type": "code",
      "source": [
        "# Run this cell to show the source code.\n",
        "\n",
        "!cat ai2023_s01_00_07.py"
      ],
      "metadata": {
        "id": "24bBA2AYN_a5"
      },
      "execution_count": null,
      "outputs": []
    },
    {
      "cell_type": "code",
      "source": [
        "# Run this cell to execute the script.\n",
        "\n",
        "!python3.10 ai2023_s01_00_07.py"
      ],
      "metadata": {
        "id": "fOQ_1-hPN_a8"
      },
      "execution_count": null,
      "outputs": []
    },
    {
      "cell_type": "markdown",
      "source": [
        "# Practice s01-04"
      ],
      "metadata": {
        "id": "7UFVLQlSNrZ-"
      }
    },
    {
      "cell_type": "code",
      "source": [
        "# Write down your code for Practice s01-04 in this cell.\n",
        "\n",
        "\n",
        "\n"
      ],
      "metadata": {
        "id": "tNEsQS-1NraA"
      },
      "execution_count": null,
      "outputs": []
    },
    {
      "cell_type": "markdown",
      "source": [
        "# Sample Python script \"ai2023_s01_00_08.py\"\n"
      ],
      "metadata": {
        "id": "PGOItJw4OPL0"
      }
    },
    {
      "cell_type": "code",
      "source": [
        "# Run this cell to show the source code.\n",
        "\n",
        "!cat ai2023_s01_00_08.py"
      ],
      "metadata": {
        "id": "q3vcZnwIOPL2"
      },
      "execution_count": null,
      "outputs": []
    },
    {
      "cell_type": "code",
      "source": [
        "# Run this cell to execute the script.\n",
        "\n",
        "!python3.10 ai2023_s01_00_08.py"
      ],
      "metadata": {
        "id": "xuhJARdzOPL6"
      },
      "execution_count": null,
      "outputs": []
    },
    {
      "cell_type": "markdown",
      "source": [
        "# Practice s01-05"
      ],
      "metadata": {
        "id": "v3J-6n2AOPL9"
      }
    },
    {
      "cell_type": "code",
      "source": [
        "# Write down your code for Practice s01-05 in this cell.\n",
        "\n",
        "\n",
        "\n"
      ],
      "metadata": {
        "id": "PzEgo36_OPL_"
      },
      "execution_count": null,
      "outputs": []
    },
    {
      "cell_type": "markdown",
      "source": [
        "# Sample Python script \"ai2023_s01_00_09.py\"\n"
      ],
      "metadata": {
        "id": "pi1o091BOqQ4"
      }
    },
    {
      "cell_type": "code",
      "source": [
        "# Run this cell to show the source code.\n",
        "\n",
        "!cat ai2023_s01_00_09.py"
      ],
      "metadata": {
        "id": "0VptaHTIOqQ6"
      },
      "execution_count": null,
      "outputs": []
    },
    {
      "cell_type": "code",
      "source": [
        "# Run this cell to execute the script.\n",
        "\n",
        "!python3.10 ai2023_s01_00_09.py"
      ],
      "metadata": {
        "id": "9rgillQYOqQ8"
      },
      "execution_count": null,
      "outputs": []
    },
    {
      "cell_type": "markdown",
      "source": [
        "# Sample Python script \"ai2023_s01_00_10.py\"\n"
      ],
      "metadata": {
        "id": "9nQLUdyHOx2x"
      }
    },
    {
      "cell_type": "code",
      "source": [
        "# Run this cell to show the source code.\n",
        "\n",
        "!cat ai2023_s01_00_10.py"
      ],
      "metadata": {
        "id": "YxXgN-XgOx2z"
      },
      "execution_count": null,
      "outputs": []
    },
    {
      "cell_type": "code",
      "source": [
        "# Run this cell to execute the script.\n",
        "\n",
        "!python3.10 ai2023_s01_00_10.py"
      ],
      "metadata": {
        "id": "igBVM05EOx20"
      },
      "execution_count": null,
      "outputs": []
    },
    {
      "cell_type": "markdown",
      "source": [
        "# Practice s01-06"
      ],
      "metadata": {
        "id": "k71y2NoaOqQ9"
      }
    },
    {
      "cell_type": "code",
      "source": [
        "# Write down your code for Practice s01-06 in this cell.\n",
        "\n",
        "\n",
        "\n"
      ],
      "metadata": {
        "id": "BmfWACvKOqQ-"
      },
      "execution_count": null,
      "outputs": []
    },
    {
      "cell_type": "markdown",
      "source": [
        "# Sample Python script \"ai2023_s01_00_11.py\"\n"
      ],
      "metadata": {
        "id": "aPBl3UIAO6Dz"
      }
    },
    {
      "cell_type": "code",
      "source": [
        "# Run this cell to show the source code.\n",
        "\n",
        "!cat ai2023_s01_00_11.py"
      ],
      "metadata": {
        "id": "mQxKjkcrO6D2"
      },
      "execution_count": null,
      "outputs": []
    },
    {
      "cell_type": "code",
      "source": [
        "# Run this cell to execute the script.\n",
        "\n",
        "!python3.10 ai2023_s01_00_11.py"
      ],
      "metadata": {
        "id": "mvkxjJMQO6D5"
      },
      "execution_count": null,
      "outputs": []
    },
    {
      "cell_type": "markdown",
      "source": [
        "# Practice s01-07"
      ],
      "metadata": {
        "id": "qNfcW5GbO6D8"
      }
    },
    {
      "cell_type": "code",
      "source": [
        "# Write down your code for Practice s01-07 in this cell.\n",
        "\n",
        "\n",
        "\n"
      ],
      "metadata": {
        "id": "QV-XsZZoO6D-"
      },
      "execution_count": null,
      "outputs": []
    },
    {
      "cell_type": "markdown",
      "source": [
        "# Sample Python script \"ai2023_s01_01_00.py\"\n"
      ],
      "metadata": {
        "id": "5W86krx4PEwX"
      }
    },
    {
      "cell_type": "code",
      "source": [
        "# Run this cell to show the source code.\n",
        "\n",
        "!cat ai2023_s01_01_00.py"
      ],
      "metadata": {
        "id": "JNv0iKQkPEwb"
      },
      "execution_count": null,
      "outputs": []
    },
    {
      "cell_type": "code",
      "source": [
        "# Run this cell to execute the script.\n",
        "\n",
        "!python3.10 ai2023_s01_01_00.py"
      ],
      "metadata": {
        "id": "MEc6offtPEwg"
      },
      "execution_count": null,
      "outputs": []
    },
    {
      "cell_type": "markdown",
      "source": [
        "# Practice s01-08"
      ],
      "metadata": {
        "id": "v-om46uCPEwk"
      }
    },
    {
      "cell_type": "code",
      "source": [
        "# Write down your code for Practice s01-08 in this cell.\n",
        "\n",
        "\n",
        "\n"
      ],
      "metadata": {
        "id": "n8DS5QtEPEwn"
      },
      "execution_count": null,
      "outputs": []
    },
    {
      "cell_type": "markdown",
      "source": [
        "# Sample Python script \"ai2023_s01_01_01.py\"\n"
      ],
      "metadata": {
        "id": "FfzB0KibPOmB"
      }
    },
    {
      "cell_type": "code",
      "source": [
        "# Run this cell to show the source code.\n",
        "\n",
        "!cat ai2023_s01_01_01.py"
      ],
      "metadata": {
        "id": "6MYBQTkfPOmD"
      },
      "execution_count": null,
      "outputs": []
    },
    {
      "cell_type": "code",
      "source": [
        "# Run this cell to execute the script.\n",
        "\n",
        "!python3.10 ai2023_s01_01_01.py"
      ],
      "metadata": {
        "id": "hIIO4siXPOmE"
      },
      "execution_count": null,
      "outputs": []
    },
    {
      "cell_type": "markdown",
      "source": [
        "# Practice s01-09"
      ],
      "metadata": {
        "id": "tXa6UalPPOmE"
      }
    },
    {
      "cell_type": "code",
      "source": [
        "# Write down your code for Practice s01-09 in this cell.\n",
        "\n",
        "\n",
        "\n"
      ],
      "metadata": {
        "id": "eknEIJR3POmF"
      },
      "execution_count": null,
      "outputs": []
    },
    {
      "cell_type": "markdown",
      "source": [
        "# Sample Python script \"ai2023_s01_01_02.py\"\n"
      ],
      "metadata": {
        "id": "7p0_WOFGPUwT"
      }
    },
    {
      "cell_type": "code",
      "source": [
        "# Run this cell to show the source code.\n",
        "\n",
        "!cat ai2023_s01_01_02.py"
      ],
      "metadata": {
        "id": "0St8MuuLPUwU"
      },
      "execution_count": null,
      "outputs": []
    },
    {
      "cell_type": "code",
      "source": [
        "# Run this cell to execute the script.\n",
        "\n",
        "!python3.10 ai2023_s01_01_02.py"
      ],
      "metadata": {
        "id": "-9NExDSEPUwV"
      },
      "execution_count": null,
      "outputs": []
    },
    {
      "cell_type": "markdown",
      "source": [
        "# Practice s01-10"
      ],
      "metadata": {
        "id": "HdEijWhdPUwW"
      }
    },
    {
      "cell_type": "code",
      "source": [
        "# Write down your code for Practice s01-10 in this cell.\n",
        "\n",
        "\n",
        "\n"
      ],
      "metadata": {
        "id": "Y1L9hEfjPUwX"
      },
      "execution_count": null,
      "outputs": []
    },
    {
      "cell_type": "markdown",
      "source": [
        "# Sample Python script \"ai2023_s01_01_03.py\"\n"
      ],
      "metadata": {
        "id": "zAtE46nLP9gZ"
      }
    },
    {
      "cell_type": "code",
      "source": [
        "# Run this cell to show the source code.\n",
        "\n",
        "!cat ai2023_s01_01_03.py"
      ],
      "metadata": {
        "id": "m2I9CH0TP9gc"
      },
      "execution_count": null,
      "outputs": []
    },
    {
      "cell_type": "code",
      "source": [
        "# Run this cell to execute the script.\n",
        "\n",
        "!python3.10 ai2023_s01_01_03.py"
      ],
      "metadata": {
        "id": "CoEYCA6vP9gd"
      },
      "execution_count": null,
      "outputs": []
    },
    {
      "cell_type": "markdown",
      "source": [
        "# Practice s01-11"
      ],
      "metadata": {
        "id": "9uF1wEkpP9ge"
      }
    },
    {
      "cell_type": "code",
      "source": [
        "# Write down your code for Practice s01-11 in this cell.\n",
        "\n",
        "\n",
        "\n"
      ],
      "metadata": {
        "id": "ec2n1LGGP9ge"
      },
      "execution_count": null,
      "outputs": []
    },
    {
      "cell_type": "markdown",
      "source": [
        "# Sample Python script \"ai2023_s01_01_04.py\"\n"
      ],
      "metadata": {
        "id": "rpu7oMeKPd0X"
      }
    },
    {
      "cell_type": "code",
      "source": [
        "# Run this cell to show the source code.\n",
        "\n",
        "!cat ai2023_s01_01_04.py"
      ],
      "metadata": {
        "id": "HeE5GanrPd0c"
      },
      "execution_count": null,
      "outputs": []
    },
    {
      "cell_type": "code",
      "source": [
        "# Run this cell to execute the script.\n",
        "\n",
        "!python3.10 ai2023_s01_01_04.py"
      ],
      "metadata": {
        "id": "f6xQYtGIPd0h"
      },
      "execution_count": null,
      "outputs": []
    },
    {
      "cell_type": "markdown",
      "source": [
        "# Sample Python script \"ai2023_s01_01_05.py\"\n"
      ],
      "metadata": {
        "id": "LeKbsbwVPvEg"
      }
    },
    {
      "cell_type": "code",
      "source": [
        "# Run this cell to show the source code.\n",
        "\n",
        "!cat ai2023_s01_01_05.py"
      ],
      "metadata": {
        "id": "wAQEWOXePvEj"
      },
      "execution_count": null,
      "outputs": []
    },
    {
      "cell_type": "code",
      "source": [
        "# Run this cell to execute the script.\n",
        "\n",
        "!python3.10 ai2023_s01_01_05.py"
      ],
      "metadata": {
        "id": "pWqURPz-PvEm"
      },
      "execution_count": null,
      "outputs": []
    },
    {
      "cell_type": "markdown",
      "source": [
        "# Practice s01-12"
      ],
      "metadata": {
        "id": "b4oUwx2TPvEn"
      }
    },
    {
      "cell_type": "code",
      "source": [
        "# Write down your code for Practice s01-12 in this cell.\n",
        "\n",
        "\n",
        "\n"
      ],
      "metadata": {
        "id": "1YbBHJeQPvEq"
      },
      "execution_count": null,
      "outputs": []
    },
    {
      "cell_type": "markdown",
      "source": [
        "# Sample Python script \"ai2023_s01_01_06.py\"\n"
      ],
      "metadata": {
        "id": "L3sSSJ7nQPNK"
      }
    },
    {
      "cell_type": "code",
      "source": [
        "# Run this cell to show the source code.\n",
        "\n",
        "!cat ai2023_s01_01_06.py"
      ],
      "metadata": {
        "id": "3eLRmm9WQPNL"
      },
      "execution_count": null,
      "outputs": []
    },
    {
      "cell_type": "code",
      "source": [
        "# Run this cell to execute the script.\n",
        "\n",
        "!python3.10 ai2023_s01_01_06.py"
      ],
      "metadata": {
        "id": "Kus8lw0gQPNM"
      },
      "execution_count": null,
      "outputs": []
    },
    {
      "cell_type": "markdown",
      "source": [
        "# Practice s01-13"
      ],
      "metadata": {
        "id": "QBo_khrNQPNO"
      }
    },
    {
      "cell_type": "code",
      "source": [
        "# Write down your code for Practice s01-13 in this cell.\n",
        "\n",
        "\n",
        "\n"
      ],
      "metadata": {
        "id": "OJj46b4AQPNO"
      },
      "execution_count": null,
      "outputs": []
    },
    {
      "cell_type": "markdown",
      "source": [
        "# Sample Python script \"ai2023_s01_01_07.py\"\n"
      ],
      "metadata": {
        "id": "VbXpGJjcQWim"
      }
    },
    {
      "cell_type": "code",
      "source": [
        "# Run this cell to show the source code.\n",
        "\n",
        "!cat ai2023_s01_01_07.py"
      ],
      "metadata": {
        "id": "ZWUIeIefQWiq"
      },
      "execution_count": null,
      "outputs": []
    },
    {
      "cell_type": "code",
      "source": [
        "# Run this cell to execute the script.\n",
        "\n",
        "!python3.10 ai2023_s01_01_07.py"
      ],
      "metadata": {
        "id": "KFO3HZz5QWir"
      },
      "execution_count": null,
      "outputs": []
    },
    {
      "cell_type": "markdown",
      "source": [
        "# Practice s01-14"
      ],
      "metadata": {
        "id": "Z19yDtItQWiu"
      }
    },
    {
      "cell_type": "code",
      "source": [
        "# Write down your code for Practice s01-14 in this cell.\n",
        "\n",
        "\n",
        "\n"
      ],
      "metadata": {
        "id": "d98WxNPAQWix"
      },
      "execution_count": null,
      "outputs": []
    },
    {
      "cell_type": "markdown",
      "source": [
        "# Sample Python script \"ai2023_s01_01_08.py\"\n"
      ],
      "metadata": {
        "id": "kyJFTGA6Qef1"
      }
    },
    {
      "cell_type": "code",
      "source": [
        "# Run this cell to show the source code.\n",
        "\n",
        "!cat ai2023_s01_01_08.py"
      ],
      "metadata": {
        "id": "eUT5o00WQef6"
      },
      "execution_count": null,
      "outputs": []
    },
    {
      "cell_type": "code",
      "source": [
        "# Run this cell to execute the script.\n",
        "\n",
        "!python3.10 ai2023_s01_01_08.py"
      ],
      "metadata": {
        "id": "jdWelX8RQef7"
      },
      "execution_count": null,
      "outputs": []
    },
    {
      "cell_type": "markdown",
      "source": [
        "# Practice s01-15"
      ],
      "metadata": {
        "id": "vbFXt-52Qef8"
      }
    },
    {
      "cell_type": "code",
      "source": [
        "# Write down your code for Practice s01-15 in this cell.\n",
        "\n",
        "\n",
        "\n"
      ],
      "metadata": {
        "id": "UgyJApMLQef-"
      },
      "execution_count": null,
      "outputs": []
    },
    {
      "cell_type": "markdown",
      "source": [
        "# Sample Python script \"ai2023_s01_01_09.py\"\n"
      ],
      "metadata": {
        "id": "9ZN6-8pwQmnt"
      }
    },
    {
      "cell_type": "code",
      "source": [
        "# Run this cell to show the source code.\n",
        "\n",
        "!cat ai2023_s01_01_09.py"
      ],
      "metadata": {
        "id": "_H9TnpUoQmnv"
      },
      "execution_count": null,
      "outputs": []
    },
    {
      "cell_type": "code",
      "source": [
        "# Run this cell to execute the script.\n",
        "\n",
        "!python3.10 ai2023_s01_01_09.py"
      ],
      "metadata": {
        "id": "i38s87pMQmnx"
      },
      "execution_count": null,
      "outputs": []
    },
    {
      "cell_type": "markdown",
      "source": [
        "# Practice s01-16"
      ],
      "metadata": {
        "id": "PEASpkKgQmny"
      }
    },
    {
      "cell_type": "code",
      "source": [
        "# Write down your code for Practice s01-16 in this cell.\n",
        "\n",
        "\n",
        "\n"
      ],
      "metadata": {
        "id": "BHfq1G-eQmn0"
      },
      "execution_count": null,
      "outputs": []
    },
    {
      "cell_type": "markdown",
      "source": [
        "# Sample Python script \"ai2023_s01_01_10.py\"\n"
      ],
      "metadata": {
        "id": "Yi0dnscJQt86"
      }
    },
    {
      "cell_type": "code",
      "source": [
        "# Run this cell to show the source code.\n",
        "\n",
        "!cat ai2023_s01_01_10.py"
      ],
      "metadata": {
        "id": "I4jGV1h-Qt88"
      },
      "execution_count": null,
      "outputs": []
    },
    {
      "cell_type": "code",
      "source": [
        "# Run this cell to execute the script.\n",
        "\n",
        "!python3.10 ai2023_s01_01_10.py"
      ],
      "metadata": {
        "id": "wgeQu7yqQt89"
      },
      "execution_count": null,
      "outputs": []
    },
    {
      "cell_type": "markdown",
      "source": [
        "# Practice s01-17"
      ],
      "metadata": {
        "id": "nnXdie6BQt8-"
      }
    },
    {
      "cell_type": "code",
      "source": [
        "# Write down your code for Practice s01-17 in this cell.\n",
        "\n",
        "\n",
        "\n"
      ],
      "metadata": {
        "id": "HHJ43hEYQt8_"
      },
      "execution_count": null,
      "outputs": []
    },
    {
      "cell_type": "markdown",
      "source": [
        "# Sample Python script \"ai2023_s01_01_11.py\"\n"
      ],
      "metadata": {
        "id": "VVj1Za21Q2sg"
      }
    },
    {
      "cell_type": "code",
      "source": [
        "# Run this cell to show the source code.\n",
        "\n",
        "!cat ai2023_s01_01_11.py"
      ],
      "metadata": {
        "id": "3QMcfpQuQ2sj"
      },
      "execution_count": null,
      "outputs": []
    },
    {
      "cell_type": "code",
      "source": [
        "# Run this cell to execute the script.\n",
        "\n",
        "!python3.10 ai2023_s01_01_11.py"
      ],
      "metadata": {
        "id": "TrtDJ3i6Q2sm"
      },
      "execution_count": null,
      "outputs": []
    },
    {
      "cell_type": "markdown",
      "source": [
        "# Practice s01-18"
      ],
      "metadata": {
        "id": "9kaJkxaDQ2so"
      }
    },
    {
      "cell_type": "code",
      "source": [
        "# Write down your code for Practice s01-18 in this cell.\n",
        "\n",
        "\n",
        "\n"
      ],
      "metadata": {
        "id": "pWWrYPoNQ2sq"
      },
      "execution_count": null,
      "outputs": []
    },
    {
      "cell_type": "markdown",
      "source": [
        "# Sample Python script \"ai2023_s01_01_12.py\"\n"
      ],
      "metadata": {
        "id": "Zsva-pp0Q97y"
      }
    },
    {
      "cell_type": "code",
      "source": [
        "# Run this cell to show the source code.\n",
        "\n",
        "!cat ai2023_s01_01_12.py"
      ],
      "metadata": {
        "id": "V6R1yjU-Q976"
      },
      "execution_count": null,
      "outputs": []
    },
    {
      "cell_type": "code",
      "source": [
        "# Run this cell to execute the script.\n",
        "\n",
        "!python3.10 ai2023_s01_01_12.py"
      ],
      "metadata": {
        "id": "u0A68xUvQ97_"
      },
      "execution_count": null,
      "outputs": []
    },
    {
      "cell_type": "markdown",
      "source": [
        "# Practice s01-19"
      ],
      "metadata": {
        "id": "lb-CdBhhQ98B"
      }
    },
    {
      "cell_type": "code",
      "source": [
        "# Write down your code for Practice s01-19 in this cell.\n",
        "\n",
        "\n",
        "\n"
      ],
      "metadata": {
        "id": "jlNARCDfQ98F"
      },
      "execution_count": null,
      "outputs": []
    },
    {
      "cell_type": "markdown",
      "source": [
        "# Sample Python script \"ai2023_s01_01_13.py\"\n"
      ],
      "metadata": {
        "id": "qlkGJfukREz1"
      }
    },
    {
      "cell_type": "code",
      "source": [
        "# Run this cell to show the source code.\n",
        "\n",
        "!cat ai2023_s01_01_13.py"
      ],
      "metadata": {
        "id": "gX-XIticREz3"
      },
      "execution_count": null,
      "outputs": []
    },
    {
      "cell_type": "code",
      "source": [
        "# Run this cell to execute the script.\n",
        "\n",
        "!python3.10 ai2023_s01_01_13.py"
      ],
      "metadata": {
        "id": "LfGqM50NREz5"
      },
      "execution_count": null,
      "outputs": []
    },
    {
      "cell_type": "markdown",
      "source": [
        "# Practice s01-20"
      ],
      "metadata": {
        "id": "N788ZP4mREz6"
      }
    },
    {
      "cell_type": "code",
      "source": [
        "# Write down your code for Practice s01-20 in this cell.\n",
        "\n",
        "\n",
        "\n"
      ],
      "metadata": {
        "id": "7nPUk3CDREz7"
      },
      "execution_count": null,
      "outputs": []
    },
    {
      "cell_type": "markdown",
      "source": [
        "# Sample Python script \"ai2023_s01_02_00.py\"\n"
      ],
      "metadata": {
        "id": "5If-WcMWRN0c"
      }
    },
    {
      "cell_type": "code",
      "source": [
        "# Run this cell to show the source code.\n",
        "\n",
        "!cat ai2023_s01_02_00.py"
      ],
      "metadata": {
        "id": "-w-41YfwRN0d"
      },
      "execution_count": null,
      "outputs": []
    },
    {
      "cell_type": "code",
      "source": [
        "# Run this cell to execute the script.\n",
        "\n",
        "!python3.10 ai2023_s01_02_00.py"
      ],
      "metadata": {
        "id": "H0gs8bp1RN0e"
      },
      "execution_count": null,
      "outputs": []
    },
    {
      "cell_type": "markdown",
      "source": [
        "# Practice s01-21"
      ],
      "metadata": {
        "id": "Cn5pn1zLRN0f"
      }
    },
    {
      "cell_type": "code",
      "source": [
        "# Write down your code for Practice s01-21 in this cell.\n",
        "\n",
        "\n",
        "\n"
      ],
      "metadata": {
        "id": "TU-kcsUsRN0g"
      },
      "execution_count": null,
      "outputs": []
    },
    {
      "cell_type": "markdown",
      "source": [
        "# Sample Python script \"ai2023_s01_02_01.py\"\n"
      ],
      "metadata": {
        "id": "YOpYFP6uRWOV"
      }
    },
    {
      "cell_type": "code",
      "source": [
        "# Run this cell to show the source code.\n",
        "\n",
        "!cat ai2023_s01_02_01.py"
      ],
      "metadata": {
        "id": "-vY4VvOMRWOY"
      },
      "execution_count": null,
      "outputs": []
    },
    {
      "cell_type": "code",
      "source": [
        "# Run this cell to execute the script.\n",
        "\n",
        "!python3.10 ai2023_s01_02_01.py"
      ],
      "metadata": {
        "id": "UC03Z5JuRWOZ"
      },
      "execution_count": null,
      "outputs": []
    },
    {
      "cell_type": "markdown",
      "source": [
        "# Practice s01-22"
      ],
      "metadata": {
        "id": "S76x715dRWOa"
      }
    },
    {
      "cell_type": "code",
      "source": [
        "# Write down your code for Practice s01-22 in this cell.\n",
        "\n",
        "\n",
        "\n"
      ],
      "metadata": {
        "id": "bGBre3YZRWOa"
      },
      "execution_count": null,
      "outputs": []
    },
    {
      "cell_type": "markdown",
      "source": [
        "# Sample Python script \"ai2023_s01_02_02.py\"\n"
      ],
      "metadata": {
        "id": "RG6hXFHjRc4D"
      }
    },
    {
      "cell_type": "code",
      "source": [
        "# Run this cell to show the source code.\n",
        "\n",
        "!cat ai2023_s01_02_02.py"
      ],
      "metadata": {
        "id": "hgMbSEWgRc4K"
      },
      "execution_count": null,
      "outputs": []
    },
    {
      "cell_type": "code",
      "source": [
        "# Run this cell to execute the script.\n",
        "\n",
        "!python3.10 ai2023_s01_02_02.py"
      ],
      "metadata": {
        "id": "pRqUxjAaRc4O"
      },
      "execution_count": null,
      "outputs": []
    },
    {
      "cell_type": "markdown",
      "source": [
        "# Practice s01-23"
      ],
      "metadata": {
        "id": "ytOzsFpBRc4R"
      }
    },
    {
      "cell_type": "code",
      "source": [
        "# Write down your code for Practice s01-23 in this cell.\n",
        "\n",
        "\n",
        "\n"
      ],
      "metadata": {
        "id": "NThwsWldRc4U"
      },
      "execution_count": null,
      "outputs": []
    },
    {
      "cell_type": "markdown",
      "source": [
        "# Sample Python script \"ai2023_s01_02_03.py\"\n"
      ],
      "metadata": {
        "id": "8P2_kpw8RlBF"
      }
    },
    {
      "cell_type": "code",
      "source": [
        "# Run this cell to show the source code.\n",
        "\n",
        "!cat ai2023_s01_02_03.py"
      ],
      "metadata": {
        "id": "GoQp6VvORlBG"
      },
      "execution_count": null,
      "outputs": []
    },
    {
      "cell_type": "code",
      "source": [
        "# Run this cell to execute the script.\n",
        "\n",
        "!python3.10 ai2023_s01_02_03.py"
      ],
      "metadata": {
        "id": "nPKIfQMERlBG"
      },
      "execution_count": null,
      "outputs": []
    },
    {
      "cell_type": "markdown",
      "source": [
        "# Practice s01-24"
      ],
      "metadata": {
        "id": "wHGSxbmGRlBH"
      }
    },
    {
      "cell_type": "code",
      "source": [
        "# Write down your code for Practice s01-24 in this cell.\n",
        "\n",
        "\n",
        "\n"
      ],
      "metadata": {
        "id": "x-0dxVplRlBJ"
      },
      "execution_count": null,
      "outputs": []
    },
    {
      "cell_type": "markdown",
      "source": [
        "# Sample Python script \"ai2023_s01_02_04.py\"\n"
      ],
      "metadata": {
        "id": "OgroaugKRtGs"
      }
    },
    {
      "cell_type": "code",
      "source": [
        "# Run this cell to show the source code.\n",
        "\n",
        "!cat ai2023_s01_02_04.py"
      ],
      "metadata": {
        "id": "3vnGURHQRtGu"
      },
      "execution_count": null,
      "outputs": []
    },
    {
      "cell_type": "code",
      "source": [
        "# Run this cell to execute the script.\n",
        "\n",
        "!python3.10 ai2023_s01_02_04.py"
      ],
      "metadata": {
        "id": "Nu98xsoJRtGw"
      },
      "execution_count": null,
      "outputs": []
    },
    {
      "cell_type": "markdown",
      "source": [
        "# Sample Python script \"ai2023_s01_02_05.py\"\n"
      ],
      "metadata": {
        "id": "e6-fWK8BRw-j"
      }
    },
    {
      "cell_type": "code",
      "source": [
        "# Run this cell to show the source code.\n",
        "\n",
        "!cat ai2023_s01_02_05.py"
      ],
      "metadata": {
        "id": "1g9hmHu3Rw-k"
      },
      "execution_count": null,
      "outputs": []
    },
    {
      "cell_type": "code",
      "source": [
        "# Run this cell to execute the script.\n",
        "\n",
        "!python3.10 ai2023_s01_02_05.py"
      ],
      "metadata": {
        "id": "42DhXzqXRw-m"
      },
      "execution_count": null,
      "outputs": []
    },
    {
      "cell_type": "markdown",
      "source": [
        "# Practice s01-25"
      ],
      "metadata": {
        "id": "ODLsvVvZRtGw"
      }
    },
    {
      "cell_type": "code",
      "source": [
        "# Write down your code for Practice s01-25 in this cell.\n",
        "\n",
        "\n",
        "\n"
      ],
      "metadata": {
        "id": "8uaSd_a0RtGy"
      },
      "execution_count": null,
      "outputs": []
    },
    {
      "cell_type": "markdown",
      "source": [
        "# Sample Python script \"ai2023_s01_02_06.py\"\n"
      ],
      "metadata": {
        "id": "Sh_rs7-vR5S9"
      }
    },
    {
      "cell_type": "code",
      "source": [
        "# Run this cell to show the source code.\n",
        "\n",
        "!cat ai2023_s01_02_06.py"
      ],
      "metadata": {
        "id": "I9niTYAHR5S_"
      },
      "execution_count": null,
      "outputs": []
    },
    {
      "cell_type": "code",
      "source": [
        "# Run this cell to execute the script.\n",
        "\n",
        "!python3.10 ai2023_s01_02_06.py"
      ],
      "metadata": {
        "id": "TQk3hC-8R5TA"
      },
      "execution_count": null,
      "outputs": []
    },
    {
      "cell_type": "markdown",
      "source": [
        "# Practice s01-26"
      ],
      "metadata": {
        "id": "npYmuJMeR5TC"
      }
    },
    {
      "cell_type": "code",
      "source": [
        "# Write down your code for Practice s01-26 in this cell.\n",
        "\n",
        "\n",
        "\n"
      ],
      "metadata": {
        "id": "fqlLSnL_R5TD"
      },
      "execution_count": null,
      "outputs": []
    },
    {
      "cell_type": "markdown",
      "source": [
        "# Sample Python script \"ai2023_s01_03_00.py\"\n"
      ],
      "metadata": {
        "id": "89qouQOnSBfO"
      }
    },
    {
      "cell_type": "code",
      "source": [
        "# Run this cell to show the source code.\n",
        "\n",
        "!cat ai2023_s01_03_00.py"
      ],
      "metadata": {
        "id": "td57FYkESBfQ"
      },
      "execution_count": null,
      "outputs": []
    },
    {
      "cell_type": "code",
      "source": [
        "# Run this cell to execute the script.\n",
        "\n",
        "!python3.10 ai2023_s01_03_00.py"
      ],
      "metadata": {
        "id": "DUIuaTXySBfR"
      },
      "execution_count": null,
      "outputs": []
    },
    {
      "cell_type": "markdown",
      "source": [
        "# Sample Python script \"ai2023_s01_03_01.py\"\n"
      ],
      "metadata": {
        "id": "Z_mopXuTSGYW"
      }
    },
    {
      "cell_type": "code",
      "source": [
        "# Run this cell to show the source code.\n",
        "\n",
        "!cat ai2023_s01_03_01.py"
      ],
      "metadata": {
        "id": "Asd4Zh3rSGYX"
      },
      "execution_count": null,
      "outputs": []
    },
    {
      "cell_type": "code",
      "source": [
        "# Run this cell to execute the script.\n",
        "\n",
        "!python3.10 ai2023_s01_03_01.py"
      ],
      "metadata": {
        "id": "0DOoZWAcSGYZ"
      },
      "execution_count": null,
      "outputs": []
    },
    {
      "cell_type": "markdown",
      "source": [
        "# Practice s01-27"
      ],
      "metadata": {
        "id": "e43pKZ38SBfS"
      }
    },
    {
      "cell_type": "code",
      "source": [
        "# Write down your code for Practice s01-27 in this cell.\n",
        "\n",
        "\n",
        "\n"
      ],
      "metadata": {
        "id": "qhMx_tU4SBfU"
      },
      "execution_count": null,
      "outputs": []
    },
    {
      "cell_type": "markdown",
      "source": [
        "# Sample Python script \"ai2023_s01_04_00.py\"\n"
      ],
      "metadata": {
        "id": "_bOpg1fdSQds"
      }
    },
    {
      "cell_type": "code",
      "source": [
        "# Run this cell to show the source code.\n",
        "\n",
        "!cat ai2023_s01_04_00.py"
      ],
      "metadata": {
        "id": "AdxZRfaSSQdt"
      },
      "execution_count": null,
      "outputs": []
    },
    {
      "cell_type": "code",
      "source": [
        "# Run this cell to execute the script.\n",
        "\n",
        "!python3.10 ai2023_s01_04_00.py"
      ],
      "metadata": {
        "id": "oIV6T79GSQdu"
      },
      "execution_count": null,
      "outputs": []
    },
    {
      "cell_type": "markdown",
      "source": [
        "# Practice s01-28"
      ],
      "metadata": {
        "id": "BHPmXIFQSQdv"
      }
    },
    {
      "cell_type": "code",
      "source": [
        "# Write down your code for Practice s01-28 in this cell.\n",
        "\n",
        "\n",
        "\n"
      ],
      "metadata": {
        "id": "TScgEBLCSQdw"
      },
      "execution_count": null,
      "outputs": []
    },
    {
      "cell_type": "markdown",
      "source": [
        "# Sample Python script \"ai2023_s01_04_01.py\"\n"
      ],
      "metadata": {
        "id": "f7Nu0EROSY5Y"
      }
    },
    {
      "cell_type": "code",
      "source": [
        "# Run this cell to show the source code.\n",
        "\n",
        "!cat ai2023_s01_04_01.py"
      ],
      "metadata": {
        "id": "59qrt0dFSY5a"
      },
      "execution_count": null,
      "outputs": []
    },
    {
      "cell_type": "code",
      "source": [
        "# Run this cell to execute the script.\n",
        "\n",
        "!python3.10 ai2023_s01_04_01.py"
      ],
      "metadata": {
        "id": "ht_D8KNOSY5c"
      },
      "execution_count": null,
      "outputs": []
    },
    {
      "cell_type": "markdown",
      "source": [
        "# Practice s01-29"
      ],
      "metadata": {
        "id": "qL4OuNgLSY5e"
      }
    },
    {
      "cell_type": "code",
      "source": [
        "# Write down your code for Practice s01-29 in this cell.\n",
        "\n",
        "\n",
        "\n"
      ],
      "metadata": {
        "id": "gmnAHg1sSY5g"
      },
      "execution_count": null,
      "outputs": []
    },
    {
      "cell_type": "markdown",
      "source": [
        "# Sample Python script \"ai2023_s01_04_02.py\"\n"
      ],
      "metadata": {
        "id": "t50tcMBmSgFO"
      }
    },
    {
      "cell_type": "code",
      "source": [
        "# Run this cell to show the source code.\n",
        "\n",
        "!cat ai2023_s01_04_02.py"
      ],
      "metadata": {
        "id": "RYKA-OCoSgFR"
      },
      "execution_count": null,
      "outputs": []
    },
    {
      "cell_type": "code",
      "source": [
        "# Run this cell to execute the script.\n",
        "\n",
        "!python3.10 ai2023_s01_04_02.py"
      ],
      "metadata": {
        "id": "F1BpH8iFSgFS"
      },
      "execution_count": null,
      "outputs": []
    },
    {
      "cell_type": "markdown",
      "source": [
        "# Practice s01-30"
      ],
      "metadata": {
        "id": "LQyTyECxSgFT"
      }
    },
    {
      "cell_type": "code",
      "source": [
        "# Write down your code for Practice s01-30 in this cell.\n",
        "\n",
        "\n",
        "\n"
      ],
      "metadata": {
        "id": "EumuRspbSgFU"
      },
      "execution_count": null,
      "outputs": []
    },
    {
      "cell_type": "markdown",
      "source": [
        "# Sample Python script \"ai2023_s01_04_03.py\"\n"
      ],
      "metadata": {
        "id": "qbtpHsweSm5X"
      }
    },
    {
      "cell_type": "code",
      "source": [
        "# Run this cell to show the source code.\n",
        "\n",
        "!cat ai2023_s01_04_03.py"
      ],
      "metadata": {
        "id": "H5niDOceSm5X"
      },
      "execution_count": null,
      "outputs": []
    },
    {
      "cell_type": "code",
      "source": [
        "# Run this cell to execute the script.\n",
        "\n",
        "!python3.10 ai2023_s01_04_03.py"
      ],
      "metadata": {
        "id": "d2yhT1rxSm5Y"
      },
      "execution_count": null,
      "outputs": []
    },
    {
      "cell_type": "markdown",
      "source": [
        "# Practice s01-31"
      ],
      "metadata": {
        "id": "eKNfztRjSm5a"
      }
    },
    {
      "cell_type": "code",
      "source": [
        "# Write down your code for Practice s01-31 in this cell.\n",
        "\n",
        "\n",
        "\n"
      ],
      "metadata": {
        "id": "U3H9uqviSm5b"
      },
      "execution_count": null,
      "outputs": []
    },
    {
      "cell_type": "markdown",
      "source": [
        "# Sample Python script \"ai2023_s01_04_04.py\"\n"
      ],
      "metadata": {
        "id": "TH_nCQkpSt-W"
      }
    },
    {
      "cell_type": "code",
      "source": [
        "# Run this cell to show the source code.\n",
        "\n",
        "!cat ai2023_s01_04_04.py"
      ],
      "metadata": {
        "id": "lemlia3YSt-a"
      },
      "execution_count": null,
      "outputs": []
    },
    {
      "cell_type": "code",
      "source": [
        "# Run this cell to execute the script.\n",
        "\n",
        "!python3.10 ai2023_s01_04_04.py"
      ],
      "metadata": {
        "id": "aEu7iGh-St-b"
      },
      "execution_count": null,
      "outputs": []
    },
    {
      "cell_type": "markdown",
      "source": [
        "# Practice s01-32"
      ],
      "metadata": {
        "id": "smopWv3jSt-d"
      }
    },
    {
      "cell_type": "code",
      "source": [
        "# Write down your code for Practice s01-32 in this cell.\n",
        "\n",
        "\n",
        "\n"
      ],
      "metadata": {
        "id": "7VIaD45mSt-e"
      },
      "execution_count": null,
      "outputs": []
    },
    {
      "cell_type": "markdown",
      "source": [
        "# Sample Python script \"ai2023_s01_05_00.py\"\n"
      ],
      "metadata": {
        "id": "fLC0kap2S1rO"
      }
    },
    {
      "cell_type": "code",
      "source": [
        "# Run this cell to download the data file.\n",
        "\n",
        "!wget --no-check-certificate https://s3b.astro.ncu.edu.tw/ai_202309/data/fruits.data"
      ],
      "metadata": {
        "id": "pvwk0ObsTmo3"
      },
      "execution_count": null,
      "outputs": []
    },
    {
      "cell_type": "code",
      "source": [
        "# Run this cell to show the source code.\n",
        "\n",
        "!cat ai2023_s01_05_00.py"
      ],
      "metadata": {
        "id": "DvYrMQQsS1rP"
      },
      "execution_count": null,
      "outputs": []
    },
    {
      "cell_type": "code",
      "source": [
        "# Run this cell to execute the script.\n",
        "\n",
        "!python3.10 ai2023_s01_05_00.py"
      ],
      "metadata": {
        "id": "n88RFTWCS1rP"
      },
      "execution_count": null,
      "outputs": []
    },
    {
      "cell_type": "markdown",
      "source": [
        "# Practice s01-33"
      ],
      "metadata": {
        "id": "c-PIcW1AS1rQ"
      }
    },
    {
      "cell_type": "code",
      "source": [
        "# Write down your code for Practice s01-33 in this cell.\n",
        "\n",
        "\n",
        "\n"
      ],
      "metadata": {
        "id": "j3mQgZ5yS1rQ"
      },
      "execution_count": null,
      "outputs": []
    },
    {
      "cell_type": "markdown",
      "source": [
        "# Sample Python script \"ai2023_s01_05_01.py\"\n"
      ],
      "metadata": {
        "id": "DYzkafN5T83m"
      }
    },
    {
      "cell_type": "code",
      "source": [
        "# Run this cell to show the source code.\n",
        "\n",
        "!cat ai2023_s01_05_01.py"
      ],
      "metadata": {
        "id": "TPHjV0ymT83o"
      },
      "execution_count": null,
      "outputs": []
    },
    {
      "cell_type": "code",
      "source": [
        "# Run this cell to execute the script.\n",
        "\n",
        "!python3.10 ai2023_s01_05_01.py"
      ],
      "metadata": {
        "id": "Wr6bX47HT83p"
      },
      "execution_count": null,
      "outputs": []
    },
    {
      "cell_type": "code",
      "source": [
        "# Run this cell to check existence of newly created file.\n",
        "\n",
        "!ls -lF primenumbers.data"
      ],
      "metadata": {
        "id": "4Hlb-qJJUIvn"
      },
      "execution_count": null,
      "outputs": []
    },
    {
      "cell_type": "code",
      "source": [
        "# Run this cell to show the first few lines of the file \"primenumbers.data\".\n",
        "\n",
        "!head primenumbers.data"
      ],
      "metadata": {
        "id": "7iKuxEDEUTyZ"
      },
      "execution_count": null,
      "outputs": []
    },
    {
      "cell_type": "markdown",
      "source": [
        "# Practice s01-34"
      ],
      "metadata": {
        "id": "tbTyxB3xT83p"
      }
    },
    {
      "cell_type": "code",
      "source": [
        "# Write down your code for Practice s01-34 in this cell.\n",
        "\n",
        "\n",
        "\n"
      ],
      "metadata": {
        "id": "EROJuEMVT83q"
      },
      "execution_count": null,
      "outputs": []
    },
    {
      "cell_type": "markdown",
      "source": [
        "# Sample Python script \"ai2023_s01_06_00.py\"\n"
      ],
      "metadata": {
        "id": "FZfvatrXUjGJ"
      }
    },
    {
      "cell_type": "code",
      "source": [
        "# Run this cell to show the source code.\n",
        "\n",
        "!cat ai2023_s01_06_00.py"
      ],
      "metadata": {
        "id": "IeAGEa7wUjGM"
      },
      "execution_count": null,
      "outputs": []
    },
    {
      "cell_type": "code",
      "source": [
        "# Run this cell to execute the script.\n",
        "\n",
        "!python3.10 ai2023_s01_06_00.py"
      ],
      "metadata": {
        "id": "y6l7RymbUjGP"
      },
      "execution_count": null,
      "outputs": []
    },
    {
      "cell_type": "markdown",
      "source": [
        "# Practice s01-35"
      ],
      "metadata": {
        "id": "tTjijTXyUjGU"
      }
    },
    {
      "cell_type": "code",
      "source": [
        "# Write down your code for Practice s01-35 in this cell.\n",
        "\n",
        "\n",
        "\n"
      ],
      "metadata": {
        "id": "akn-b9VYUjGW"
      },
      "execution_count": null,
      "outputs": []
    },
    {
      "cell_type": "markdown",
      "source": [
        "# Sample Python script \"ai2023_s01_07_00.py\"\n"
      ],
      "metadata": {
        "id": "aJdpJbvXUuAg"
      }
    },
    {
      "cell_type": "code",
      "source": [
        "# Run this cell to show the source code.\n",
        "\n",
        "!cat ai2023_s01_07_00.py"
      ],
      "metadata": {
        "id": "SkiCXpx7UuAh"
      },
      "execution_count": null,
      "outputs": []
    },
    {
      "cell_type": "code",
      "source": [
        "# Run this cell to execute the script.\n",
        "\n",
        "!python3.10 ai2023_s01_07_00.py"
      ],
      "metadata": {
        "id": "u7WyficaUuAi"
      },
      "execution_count": null,
      "outputs": []
    },
    {
      "cell_type": "markdown",
      "source": [
        "# Practice s01-36"
      ],
      "metadata": {
        "id": "A3LZ5CGnUuAl"
      }
    },
    {
      "cell_type": "code",
      "source": [
        "# Write down your code for Practice s01-36 in this cell.\n",
        "\n",
        "\n",
        "\n"
      ],
      "metadata": {
        "id": "fh_qO3JIUuAl"
      },
      "execution_count": null,
      "outputs": []
    },
    {
      "cell_type": "markdown",
      "source": [
        "# Sample Python script \"ai2023_s01_07_01.py\"\n"
      ],
      "metadata": {
        "id": "l6qwDO8AU2Rj"
      }
    },
    {
      "cell_type": "code",
      "source": [
        "# Run this cell to show the source code.\n",
        "\n",
        "!cat ai2023_s01_07_01.py"
      ],
      "metadata": {
        "id": "kELFgiE_U2Rm"
      },
      "execution_count": null,
      "outputs": []
    },
    {
      "cell_type": "code",
      "source": [
        "# Run this cell to execute the script.\n",
        "\n",
        "!python3.10 ai2023_s01_07_01.py"
      ],
      "metadata": {
        "id": "tJhwFIINU2Ro"
      },
      "execution_count": null,
      "outputs": []
    },
    {
      "cell_type": "markdown",
      "source": [
        "# Practice s01-37"
      ],
      "metadata": {
        "id": "OLzPXFuuU2Rq"
      }
    },
    {
      "cell_type": "code",
      "source": [
        "# Write down your code for Practice s01-37 in this cell.\n",
        "\n",
        "\n",
        "\n"
      ],
      "metadata": {
        "id": "myzBwi7UU2Rs"
      },
      "execution_count": null,
      "outputs": []
    },
    {
      "cell_type": "markdown",
      "source": [
        "# Sample Python script \"ai2023_s01_07_02.py\"\n"
      ],
      "metadata": {
        "id": "s9Jx22BVU9BE"
      }
    },
    {
      "cell_type": "code",
      "source": [
        "# Run this cell to show the source code.\n",
        "\n",
        "!cat ai2023_s01_07_02.py"
      ],
      "metadata": {
        "id": "1LdOJZ0eU9BJ"
      },
      "execution_count": null,
      "outputs": []
    },
    {
      "cell_type": "code",
      "source": [
        "# Run this cell to execute the script.\n",
        "\n",
        "!python3.10 ai2023_s01_07_02.py"
      ],
      "metadata": {
        "id": "hKNoOZYsU9BN"
      },
      "execution_count": null,
      "outputs": []
    },
    {
      "cell_type": "markdown",
      "source": [
        "# Practice s01-38"
      ],
      "metadata": {
        "id": "aNsknz7mU9BQ"
      }
    },
    {
      "cell_type": "code",
      "source": [
        "# Write down your code for Practice s01-38 in this cell.\n",
        "\n",
        "\n",
        "\n"
      ],
      "metadata": {
        "id": "PSPvadQfU9BS"
      },
      "execution_count": null,
      "outputs": []
    },
    {
      "cell_type": "markdown",
      "source": [
        "# Sample Python script \"ai2023_s01_07_03.py\"\n"
      ],
      "metadata": {
        "id": "BrGZH3gqVDYi"
      }
    },
    {
      "cell_type": "code",
      "source": [
        "# Run this cell to show the source code.\n",
        "\n",
        "!cat ai2023_s01_07_03.py"
      ],
      "metadata": {
        "id": "53cLLrVfVDYl"
      },
      "execution_count": null,
      "outputs": []
    },
    {
      "cell_type": "code",
      "source": [
        "# Run this cell to execute the script.\n",
        "\n",
        "!python3.10 ai2023_s01_07_03.py"
      ],
      "metadata": {
        "id": "CKesDigdVDYm"
      },
      "execution_count": null,
      "outputs": []
    },
    {
      "cell_type": "markdown",
      "source": [
        "# Practice s01-39"
      ],
      "metadata": {
        "id": "OBpGDYbeVDYn"
      }
    },
    {
      "cell_type": "code",
      "source": [
        "# Write down your code for Practice s01-39 in this cell.\n",
        "\n",
        "\n",
        "\n"
      ],
      "metadata": {
        "id": "_eKEC0gRVDYp"
      },
      "execution_count": null,
      "outputs": []
    },
    {
      "cell_type": "markdown",
      "source": [
        "# End of this notebook"
      ],
      "metadata": {
        "id": "0OW8CmXY4-x9"
      }
    },
    {
      "cell_type": "code",
      "source": [],
      "metadata": {
        "id": "dlEgFHTf5A_Q"
      },
      "execution_count": null,
      "outputs": []
    }
  ]
}