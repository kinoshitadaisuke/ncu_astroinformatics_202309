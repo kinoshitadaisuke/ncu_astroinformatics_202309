{
  "nbformat": 4,
  "nbformat_minor": 0,
  "metadata": {
    "colab": {
      "provenance": []
    },
    "kernelspec": {
      "name": "python3",
      "display_name": "Python 3"
    },
    "language_info": {
      "name": "python"
    }
  },
  "cells": [
    {
      "cell_type": "markdown",
      "metadata": {
        "id": "X9F8FTGZzaSe"
      },
      "source": [
        "# AS6095 \"Astroinformatics\"\n",
        "\n",
        "## for academic year 2023 (from Sep/2023 to Jan/2024)\n",
        "\n",
        "## instructor: Kinoshita Daisuke\n",
        "\n",
        "## Course web page: https://s3b.astro.ncu.edu.tw/ai_202309/\n",
        "\n",
        "## GitHub repository: https://github.com/kinoshitadaisuke/ncu_astroinformatics_202309\n"
      ]
    },
    {
      "cell_type": "markdown",
      "metadata": {
        "id": "MKQ0pdfJCZ1I"
      },
      "source": [
        "# Session 04 \"Visualisation of data using Matplotlib\"\n",
        "\n",
        "## 02 October 2023\n"
      ]
    },
    {
      "cell_type": "markdown",
      "metadata": {
        "id": "FVmonUCL197r"
      },
      "source": [
        "# Downloading a set of sample Python scripts and changing directory"
      ]
    },
    {
      "cell_type": "code",
      "execution_count": null,
      "metadata": {
        "id": "E-J1KLJAzmx5"
      },
      "outputs": [],
      "source": [
        "# Run this cell to download a set of sample Python scripts for this course.\n",
        "\n",
        "!git clone https://github.com/kinoshitadaisuke/ncu_astroinformatics_202309.git"
      ]
    },
    {
      "cell_type": "code",
      "execution_count": null,
      "metadata": {
        "id": "NU4Otc0i2jfu"
      },
      "outputs": [],
      "source": [
        "# Run this cell to check whether you have a directory named \"ncu_astroinformatics_202309\".\n",
        "\n",
        "!ls"
      ]
    },
    {
      "cell_type": "code",
      "execution_count": null,
      "metadata": {
        "id": "faZRhZv821VY"
      },
      "outputs": [],
      "source": [
        "# Run this cell to move to the directory \"ncu_astroinformatics_202309\".\n",
        "\n",
        "%cd ncu_astroinformatics_202309"
      ]
    },
    {
      "cell_type": "code",
      "execution_count": null,
      "metadata": {
        "id": "hUjHlUZk3Bov"
      },
      "outputs": [],
      "source": [
        "# Run this cell to show currently working directory.\n",
        "\n",
        "!pwd"
      ]
    },
    {
      "cell_type": "code",
      "execution_count": null,
      "metadata": {
        "id": "RXAGJHeX3IsD"
      },
      "outputs": [],
      "source": [
        "# Run this cell to show files and directories.\n",
        "\n",
        "!ls -lF"
      ]
    },
    {
      "cell_type": "code",
      "execution_count": null,
      "metadata": {
        "id": "xR0V8I0k3O3k"
      },
      "outputs": [],
      "source": [
        "# Run this cell to move to the directory \"s04\".\n",
        "\n",
        "%cd s04"
      ]
    },
    {
      "cell_type": "code",
      "execution_count": null,
      "metadata": {
        "id": "KbvQ_3Su3UKL"
      },
      "outputs": [],
      "source": [
        "# Run this cell to show currently working directory.\n",
        "\n",
        "!pwd"
      ]
    },
    {
      "cell_type": "code",
      "execution_count": null,
      "metadata": {
        "id": "n9AAgI4d3c6n"
      },
      "outputs": [],
      "source": [
        "# Run this cell to show files and directories.\n",
        "\n",
        "!ls -lF"
      ]
    },
    {
      "cell_type": "markdown",
      "source": [
        "# Installation of Matplotlib"
      ],
      "metadata": {
        "id": "o5lIPX8O5rOI"
      }
    },
    {
      "cell_type": "code",
      "source": [
        "# Run this cell to install Matplotlib\n",
        "\n",
        "!pip install matplotlib"
      ],
      "metadata": {
        "id": "e3ey6jU65uo1"
      },
      "execution_count": null,
      "outputs": []
    },
    {
      "cell_type": "markdown",
      "source": [
        "# Installation of astropy, astroquery, and jplephem"
      ],
      "metadata": {
        "id": "g_4QgTfg_a1D"
      }
    },
    {
      "cell_type": "code",
      "source": [
        "# Run this cell to install astropy\n",
        "\n",
        "!pip install astropy"
      ],
      "metadata": {
        "id": "NByA2NdQuMTv"
      },
      "execution_count": null,
      "outputs": []
    },
    {
      "cell_type": "code",
      "source": [
        "# Run this cell to install astroquery\n",
        "\n",
        "!pip install astroquery"
      ],
      "metadata": {
        "id": "SKl0M5gRuSED"
      },
      "execution_count": null,
      "outputs": []
    },
    {
      "cell_type": "code",
      "source": [
        "# Run this cell to install jplephem\n",
        "\n",
        "!pip install jplephem"
      ],
      "metadata": {
        "id": "Rt4lFfy3_VKJ"
      },
      "execution_count": null,
      "outputs": []
    },
    {
      "cell_type": "markdown",
      "metadata": {
        "id": "3kDY3MHR4Vxj"
      },
      "source": [
        "# Sample Python script \"ai2023_s04_00_00.py\"\n"
      ]
    },
    {
      "cell_type": "code",
      "execution_count": null,
      "metadata": {
        "id": "tRN2oeq_4eoZ"
      },
      "outputs": [],
      "source": [
        "# Run this cell to show the source code.\n",
        "\n",
        "!cat ai2023_s04_00_00.py"
      ]
    },
    {
      "cell_type": "code",
      "execution_count": null,
      "metadata": {
        "id": "0W7Vb0874m_H"
      },
      "outputs": [],
      "source": [
        "# Run this cell to execute the script.\n",
        "\n",
        "!python3.10 ai2023_s04_00_00.py -h"
      ]
    },
    {
      "cell_type": "code",
      "execution_count": null,
      "metadata": {
        "id": "LsloMrHxBDvd"
      },
      "outputs": [],
      "source": [
        "# Run this cell to execute the script.\n",
        "\n",
        "!python3.10 ai2023_s04_00_00.py -o ai2023_s04_00_00.png"
      ]
    },
    {
      "cell_type": "code",
      "source": [
        "# Find newly created file\n",
        "\n",
        "!ls -lF *.png"
      ],
      "metadata": {
        "id": "z84jg6EHBaou"
      },
      "execution_count": null,
      "outputs": []
    },
    {
      "cell_type": "code",
      "source": [
        "# Check the properties of new file\n",
        "\n",
        "!file ai2023_s04_00_00.png"
      ],
      "metadata": {
        "id": "ZmS1PB4hBmv8"
      },
      "execution_count": null,
      "outputs": []
    },
    {
      "cell_type": "code",
      "source": [
        "# Display PNG file\n",
        "\n",
        "# importing IPython module\n",
        "import IPython.display\n",
        "\n",
        "# displaying image\n",
        "IPython.display.Image ('ai2023_s04_00_00.png')"
      ],
      "metadata": {
        "id": "U5QKCRg1BvL9"
      },
      "execution_count": null,
      "outputs": []
    },
    {
      "cell_type": "markdown",
      "metadata": {
        "id": "SNETVMoz6fRd"
      },
      "source": [
        "# Practice s04-01"
      ]
    },
    {
      "cell_type": "code",
      "execution_count": null,
      "metadata": {
        "id": "JllPWrQn6rOm"
      },
      "outputs": [],
      "source": [
        "# Write down your code for Practice s04-01 in this cell.\n",
        "\n",
        "\n",
        "\n"
      ]
    },
    {
      "cell_type": "markdown",
      "metadata": {
        "id": "67cpXOmyopye"
      },
      "source": [
        "# Sample Python script \"ai2023_s04_00_01.py\"\n"
      ]
    },
    {
      "cell_type": "code",
      "execution_count": null,
      "metadata": {
        "id": "TWMTmIWXopyh"
      },
      "outputs": [],
      "source": [
        "# Run this cell to show the source code.\n",
        "\n",
        "!cat ai2023_s04_00_01.py"
      ]
    },
    {
      "cell_type": "code",
      "execution_count": null,
      "metadata": {
        "id": "4K-S1G1Eopyj"
      },
      "outputs": [],
      "source": [
        "# Run this cell to execute the script.\n",
        "\n",
        "!python3.10 ai2023_s04_00_01.py -h"
      ]
    },
    {
      "cell_type": "code",
      "execution_count": null,
      "metadata": {
        "id": "9tUUbF5fopyl"
      },
      "outputs": [],
      "source": [
        "# Run this cell to execute the script.\n",
        "\n",
        "!python3.10 ai2023_s04_00_01.py -o ai2023_s04_00_01.png"
      ]
    },
    {
      "cell_type": "code",
      "source": [
        "# Find newly created file\n",
        "\n",
        "!ls -lF *.png"
      ],
      "metadata": {
        "id": "GOxrVw2topyn"
      },
      "execution_count": null,
      "outputs": []
    },
    {
      "cell_type": "code",
      "source": [
        "# Check the properties of new file\n",
        "\n",
        "!file ai2023_s04_00_01.png"
      ],
      "metadata": {
        "id": "umHVGRcFopyp"
      },
      "execution_count": null,
      "outputs": []
    },
    {
      "cell_type": "code",
      "source": [
        "# Display PNG file\n",
        "\n",
        "# importing IPython module\n",
        "import IPython.display\n",
        "\n",
        "# displaying image\n",
        "IPython.display.Image ('ai2023_s04_00_01.png')"
      ],
      "metadata": {
        "id": "pGTiE6FFopyr"
      },
      "execution_count": null,
      "outputs": []
    },
    {
      "cell_type": "markdown",
      "metadata": {
        "id": "atzLRPeuopyr"
      },
      "source": [
        "# Practice s04-02"
      ]
    },
    {
      "cell_type": "code",
      "execution_count": null,
      "metadata": {
        "id": "VRIoGaaeopys"
      },
      "outputs": [],
      "source": [
        "# Write down your code for Practice s04-02 in this cell.\n",
        "\n",
        "\n",
        "\n"
      ]
    },
    {
      "cell_type": "markdown",
      "metadata": {
        "id": "SPLP3537o2Sk"
      },
      "source": [
        "# Sample Python script \"ai2023_s04_00_02.py\"\n"
      ]
    },
    {
      "cell_type": "code",
      "execution_count": null,
      "metadata": {
        "id": "rxT9tfgto2Sn"
      },
      "outputs": [],
      "source": [
        "# Run this cell to show the source code.\n",
        "\n",
        "!cat ai2023_s04_00_02.py"
      ]
    },
    {
      "cell_type": "code",
      "execution_count": null,
      "metadata": {
        "id": "mg7KAbmvo2Sp"
      },
      "outputs": [],
      "source": [
        "# Run this cell to execute the script.\n",
        "\n",
        "!python3.10 ai2023_s04_00_02.py -h"
      ]
    },
    {
      "cell_type": "code",
      "execution_count": null,
      "metadata": {
        "id": "eNiPYGuzo2Sr"
      },
      "outputs": [],
      "source": [
        "# Run this cell to execute the script.\n",
        "\n",
        "!python3.10 ai2023_s04_00_02.py -o ai2023_s04_00_02.png"
      ]
    },
    {
      "cell_type": "code",
      "source": [
        "# Find newly created file\n",
        "\n",
        "!ls -lF *.png"
      ],
      "metadata": {
        "id": "IxepCVgyo2Sr"
      },
      "execution_count": null,
      "outputs": []
    },
    {
      "cell_type": "code",
      "source": [
        "# Check the properties of new file\n",
        "\n",
        "!file ai2023_s04_00_02.png"
      ],
      "metadata": {
        "id": "rmuU0jIyo2Ss"
      },
      "execution_count": null,
      "outputs": []
    },
    {
      "cell_type": "code",
      "source": [
        "# Display PNG file\n",
        "\n",
        "# importing IPython module\n",
        "import IPython.display\n",
        "\n",
        "# displaying image\n",
        "IPython.display.Image ('ai2023_s04_00_02.png')"
      ],
      "metadata": {
        "id": "ySVVUdT9o2Su"
      },
      "execution_count": null,
      "outputs": []
    },
    {
      "cell_type": "markdown",
      "metadata": {
        "id": "XHKLtJljo2Sv"
      },
      "source": [
        "# Practice s04-03"
      ]
    },
    {
      "cell_type": "code",
      "execution_count": null,
      "metadata": {
        "id": "fwA7d2Yto2Sw"
      },
      "outputs": [],
      "source": [
        "# Write down your code for Practice s04-03 in this cell.\n",
        "\n",
        "\n",
        "\n"
      ]
    },
    {
      "cell_type": "markdown",
      "metadata": {
        "id": "Om8g6l_9pBEJ"
      },
      "source": [
        "# Sample Python script \"ai2023_s04_00_03.py\"\n"
      ]
    },
    {
      "cell_type": "code",
      "execution_count": null,
      "metadata": {
        "id": "YdEFsDMepBEM"
      },
      "outputs": [],
      "source": [
        "# Run this cell to show the source code.\n",
        "\n",
        "!cat ai2023_s04_00_03.py"
      ]
    },
    {
      "cell_type": "code",
      "execution_count": null,
      "metadata": {
        "id": "sjnNabUEpBEN"
      },
      "outputs": [],
      "source": [
        "# Run this cell to execute the script.\n",
        "\n",
        "!python3.10 ai2023_s04_00_03.py -h"
      ]
    },
    {
      "cell_type": "code",
      "execution_count": null,
      "metadata": {
        "id": "MUNKTU8upBEP"
      },
      "outputs": [],
      "source": [
        "# Run this cell to execute the script.\n",
        "\n",
        "!python3.10 ai2023_s04_00_03.py -o ai2023_s04_00_03.png"
      ]
    },
    {
      "cell_type": "code",
      "source": [
        "# Find newly created file\n",
        "\n",
        "!ls -lF *.png"
      ],
      "metadata": {
        "id": "cbcEb3ufpBER"
      },
      "execution_count": null,
      "outputs": []
    },
    {
      "cell_type": "code",
      "source": [
        "# Check the properties of new file\n",
        "\n",
        "!file ai2023_s04_00_03.png"
      ],
      "metadata": {
        "id": "x3q8RUZ_pBET"
      },
      "execution_count": null,
      "outputs": []
    },
    {
      "cell_type": "code",
      "source": [
        "# Display PNG file\n",
        "\n",
        "# importing IPython module\n",
        "import IPython.display\n",
        "\n",
        "# displaying image\n",
        "IPython.display.Image ('ai2023_s04_00_03.png')"
      ],
      "metadata": {
        "id": "Y14EpelZpBEV"
      },
      "execution_count": null,
      "outputs": []
    },
    {
      "cell_type": "markdown",
      "metadata": {
        "id": "pKeH52ZUpBEW"
      },
      "source": [
        "# Practice s04-04"
      ]
    },
    {
      "cell_type": "code",
      "execution_count": null,
      "metadata": {
        "id": "NR_B8ErApBEX"
      },
      "outputs": [],
      "source": [
        "# Write down your code for Practice s04-04 in this cell.\n",
        "\n",
        "\n",
        "\n"
      ]
    },
    {
      "cell_type": "markdown",
      "metadata": {
        "id": "tfp5-Mq8pPf8"
      },
      "source": [
        "# Sample Python script \"ai2023_s04_01_00.py\"\n"
      ]
    },
    {
      "cell_type": "code",
      "execution_count": null,
      "metadata": {
        "id": "u5zBOigSpPf-"
      },
      "outputs": [],
      "source": [
        "# Run this cell to show the source code.\n",
        "\n",
        "!cat ai2023_s04_01_00.py"
      ]
    },
    {
      "cell_type": "code",
      "execution_count": null,
      "metadata": {
        "id": "51NC27YYpPgC"
      },
      "outputs": [],
      "source": [
        "# Run this cell to execute the script.\n",
        "\n",
        "!python3.10 ai2023_s04_01_00.py -h"
      ]
    },
    {
      "cell_type": "code",
      "execution_count": null,
      "metadata": {
        "id": "9vTnkEB_pPgE"
      },
      "outputs": [],
      "source": [
        "# Run this cell to execute the script.\n",
        "\n",
        "!python3.10 ai2023_s04_01_00.py -o ai2023_s04_01_00.png -r 150"
      ]
    },
    {
      "cell_type": "code",
      "source": [
        "# Find newly created file\n",
        "\n",
        "!ls -lF *.png"
      ],
      "metadata": {
        "id": "M5TX0hY8pPgF"
      },
      "execution_count": null,
      "outputs": []
    },
    {
      "cell_type": "code",
      "source": [
        "# Check the properties of new file\n",
        "\n",
        "!file ai2023_s04_01_00.png"
      ],
      "metadata": {
        "id": "ILy201mKpPgG"
      },
      "execution_count": null,
      "outputs": []
    },
    {
      "cell_type": "code",
      "source": [
        "# Display PNG file\n",
        "\n",
        "# importing IPython module\n",
        "import IPython.display\n",
        "\n",
        "# displaying image\n",
        "IPython.display.Image ('ai2023_s04_01_00.png')"
      ],
      "metadata": {
        "id": "s5jUa7OcpPgH"
      },
      "execution_count": null,
      "outputs": []
    },
    {
      "cell_type": "markdown",
      "metadata": {
        "id": "eM_h4Eo_pPgI"
      },
      "source": [
        "# Practice s04-05"
      ]
    },
    {
      "cell_type": "code",
      "execution_count": null,
      "metadata": {
        "id": "aL28vIACpPgJ"
      },
      "outputs": [],
      "source": [
        "# Write down your code for Practice s04-05 in this cell.\n",
        "\n",
        "\n",
        "\n"
      ]
    },
    {
      "cell_type": "markdown",
      "metadata": {
        "id": "pA1hSafEpaJh"
      },
      "source": [
        "# Sample Python script \"ai2023_s04_01_01.py\"\n"
      ]
    },
    {
      "cell_type": "code",
      "execution_count": null,
      "metadata": {
        "id": "Kevqu6OQpaJi"
      },
      "outputs": [],
      "source": [
        "# Run this cell to show the source code.\n",
        "\n",
        "!cat ai2023_s04_01_01.py"
      ]
    },
    {
      "cell_type": "code",
      "execution_count": null,
      "metadata": {
        "id": "2nt6rIE0paJj"
      },
      "outputs": [],
      "source": [
        "# Run this cell to execute the script.\n",
        "\n",
        "!python3.10 ai2023_s04_01_01.py -h"
      ]
    },
    {
      "cell_type": "code",
      "execution_count": null,
      "metadata": {
        "id": "J2fhNwhupaJk"
      },
      "outputs": [],
      "source": [
        "# Run this cell to execute the script.\n",
        "\n",
        "!python3.10 ai2023_s04_01_01.py -o ai2023_s04_01_01.png -r 200"
      ]
    },
    {
      "cell_type": "code",
      "source": [
        "# Find newly created file\n",
        "\n",
        "!ls -lF *.png"
      ],
      "metadata": {
        "id": "o-Ez5rFvpaJo"
      },
      "execution_count": null,
      "outputs": []
    },
    {
      "cell_type": "code",
      "source": [
        "# Check the properties of new file\n",
        "\n",
        "!file ai2023_s04_01_01.png"
      ],
      "metadata": {
        "id": "uz-GvLTgpaJq"
      },
      "execution_count": null,
      "outputs": []
    },
    {
      "cell_type": "code",
      "source": [
        "# Display PNG file\n",
        "\n",
        "# importing IPython module\n",
        "import IPython.display\n",
        "\n",
        "# displaying image\n",
        "IPython.display.Image ('ai2023_s04_01_01.png')"
      ],
      "metadata": {
        "id": "GZ7tAF8hpaJr"
      },
      "execution_count": null,
      "outputs": []
    },
    {
      "cell_type": "markdown",
      "metadata": {
        "id": "cR-_DvjqpaJs"
      },
      "source": [
        "# Practice s04-06"
      ]
    },
    {
      "cell_type": "code",
      "execution_count": null,
      "metadata": {
        "id": "78T9f6lcpaJt"
      },
      "outputs": [],
      "source": [
        "# Write down your code for Practice s04-06 in this cell.\n",
        "\n",
        "\n",
        "\n"
      ]
    },
    {
      "cell_type": "markdown",
      "metadata": {
        "id": "0-ViQMtoplEn"
      },
      "source": [
        "# Sample Python script \"ai2023_s04_01_02.py\"\n"
      ]
    },
    {
      "cell_type": "code",
      "execution_count": null,
      "metadata": {
        "id": "i5-9nZGwplEq"
      },
      "outputs": [],
      "source": [
        "# Run this cell to show the source code.\n",
        "\n",
        "!cat ai2023_s04_01_02.py"
      ]
    },
    {
      "cell_type": "code",
      "execution_count": null,
      "metadata": {
        "id": "3NDMrb4WplEr"
      },
      "outputs": [],
      "source": [
        "# Run this cell to execute the script.\n",
        "\n",
        "!python3.10 ai2023_s04_01_02.py -h"
      ]
    },
    {
      "cell_type": "code",
      "execution_count": null,
      "metadata": {
        "id": "VncxIkMGplEt"
      },
      "outputs": [],
      "source": [
        "# Run this cell to execute the script.\n",
        "\n",
        "!python3.10 ai2023_s04_01_02.py -o ai2023_s04_01_02.png -r 300"
      ]
    },
    {
      "cell_type": "code",
      "source": [
        "# Find newly created file\n",
        "\n",
        "!ls -lF *.png"
      ],
      "metadata": {
        "id": "qWEUfR_6plEv"
      },
      "execution_count": null,
      "outputs": []
    },
    {
      "cell_type": "code",
      "source": [
        "# Check the properties of new file\n",
        "\n",
        "!file ai2023_s04_01_02.png"
      ],
      "metadata": {
        "id": "frBs_2SaplEw"
      },
      "execution_count": null,
      "outputs": []
    },
    {
      "cell_type": "code",
      "source": [
        "# Display PNG file\n",
        "\n",
        "# importing IPython module\n",
        "import IPython.display\n",
        "\n",
        "# displaying image\n",
        "IPython.display.Image ('ai2023_s04_01_02.png')"
      ],
      "metadata": {
        "id": "nl3sZsFJplEx"
      },
      "execution_count": null,
      "outputs": []
    },
    {
      "cell_type": "markdown",
      "metadata": {
        "id": "3OWvAvtvplEy"
      },
      "source": [
        "# Practice s04-07"
      ]
    },
    {
      "cell_type": "code",
      "execution_count": null,
      "metadata": {
        "id": "jvHsh6pVplE0"
      },
      "outputs": [],
      "source": [
        "# Write down your code for Practice s04-07 in this cell.\n",
        "\n",
        "\n",
        "\n"
      ]
    },
    {
      "cell_type": "markdown",
      "metadata": {
        "id": "OdgHQ_jypvnb"
      },
      "source": [
        "# Sample Python script \"ai2023_s04_01_03.py\"\n"
      ]
    },
    {
      "cell_type": "code",
      "execution_count": null,
      "metadata": {
        "id": "9thM3ypipvnd"
      },
      "outputs": [],
      "source": [
        "# Run this cell to show the source code.\n",
        "\n",
        "!cat ai2023_s04_01_03.py"
      ]
    },
    {
      "cell_type": "code",
      "execution_count": null,
      "metadata": {
        "id": "yKsdm7eapvng"
      },
      "outputs": [],
      "source": [
        "# Run this cell to execute the script.\n",
        "\n",
        "!python3.10 ai2023_s04_01_03.py -h"
      ]
    },
    {
      "cell_type": "code",
      "execution_count": null,
      "metadata": {
        "id": "f1I7wuc9pvni"
      },
      "outputs": [],
      "source": [
        "# Run this cell to execute the script.\n",
        "\n",
        "!python3.10 ai2023_s04_01_03.py -o ai2023_s04_01_03.png -r 250"
      ]
    },
    {
      "cell_type": "code",
      "source": [
        "# Find newly created file\n",
        "\n",
        "!ls -lF *.png"
      ],
      "metadata": {
        "id": "qzCJgAnspvnj"
      },
      "execution_count": null,
      "outputs": []
    },
    {
      "cell_type": "code",
      "source": [
        "# Check the properties of new file\n",
        "\n",
        "!file ai2023_s04_01_03.png"
      ],
      "metadata": {
        "id": "y09iTUZLpvnm"
      },
      "execution_count": null,
      "outputs": []
    },
    {
      "cell_type": "code",
      "source": [
        "# Display PNG file\n",
        "\n",
        "# importing IPython module\n",
        "import IPython.display\n",
        "\n",
        "# displaying image\n",
        "IPython.display.Image ('ai2023_s04_01_03.png')"
      ],
      "metadata": {
        "id": "AbNfL067pvno"
      },
      "execution_count": null,
      "outputs": []
    },
    {
      "cell_type": "markdown",
      "metadata": {
        "id": "ehlxVZYNpvnp"
      },
      "source": [
        "# Practice s04-08"
      ]
    },
    {
      "cell_type": "code",
      "execution_count": null,
      "metadata": {
        "id": "WVXd4-Wwpvnq"
      },
      "outputs": [],
      "source": [
        "# Write down your code for Practice s04-08 in this cell.\n",
        "\n",
        "\n",
        "\n"
      ]
    },
    {
      "cell_type": "markdown",
      "metadata": {
        "id": "xlC-CiB6p788"
      },
      "source": [
        "# Sample Python script \"ai2023_s04_01_04.py\"\n"
      ]
    },
    {
      "cell_type": "code",
      "execution_count": null,
      "metadata": {
        "id": "y70oF9nHp78-"
      },
      "outputs": [],
      "source": [
        "# Run this cell to show the source code.\n",
        "\n",
        "!cat ai2023_s04_01_04.py"
      ]
    },
    {
      "cell_type": "code",
      "execution_count": null,
      "metadata": {
        "id": "eede9hiWp78_"
      },
      "outputs": [],
      "source": [
        "# Run this cell to execute the script.\n",
        "\n",
        "!python3.10 ai2023_s04_01_04.py -h"
      ]
    },
    {
      "cell_type": "code",
      "execution_count": null,
      "metadata": {
        "id": "JF1d-AGcp79B"
      },
      "outputs": [],
      "source": [
        "# Run this cell to execute the script.\n",
        "\n",
        "!python3.10 ai2023_s04_01_04.py -o ai2023_s04_01_04.png -r 400"
      ]
    },
    {
      "cell_type": "code",
      "source": [
        "# Find newly created file\n",
        "\n",
        "!ls -lF *.png"
      ],
      "metadata": {
        "id": "4YUqwP3Np79C"
      },
      "execution_count": null,
      "outputs": []
    },
    {
      "cell_type": "code",
      "source": [
        "# Check the properties of new file\n",
        "\n",
        "!file ai2023_s04_01_04.png"
      ],
      "metadata": {
        "id": "smknCLtRp79E"
      },
      "execution_count": null,
      "outputs": []
    },
    {
      "cell_type": "code",
      "source": [
        "# Display PNG file\n",
        "\n",
        "# importing IPython module\n",
        "import IPython.display\n",
        "\n",
        "# displaying image\n",
        "IPython.display.Image ('ai2023_s04_01_04.png')"
      ],
      "metadata": {
        "id": "fxSp93Zhp79F"
      },
      "execution_count": null,
      "outputs": []
    },
    {
      "cell_type": "markdown",
      "metadata": {
        "id": "ogTUHufFp79G"
      },
      "source": [
        "# Practice s04-09"
      ]
    },
    {
      "cell_type": "code",
      "execution_count": null,
      "metadata": {
        "id": "Cvh8Byojp79I"
      },
      "outputs": [],
      "source": [
        "# Write down your code for Practice s04-09 in this cell.\n",
        "\n",
        "\n",
        "\n"
      ]
    },
    {
      "cell_type": "markdown",
      "metadata": {
        "id": "XbnUZyzUqF9E"
      },
      "source": [
        "# Sample Python script \"ai2023_s04_01_05.py\"\n"
      ]
    },
    {
      "cell_type": "code",
      "execution_count": null,
      "metadata": {
        "id": "LMdDO0k7qF9G"
      },
      "outputs": [],
      "source": [
        "# Run this cell to show the source code.\n",
        "\n",
        "!cat ai2023_s04_01_05.py"
      ]
    },
    {
      "cell_type": "code",
      "execution_count": null,
      "metadata": {
        "id": "SN6sf7tvqF9K"
      },
      "outputs": [],
      "source": [
        "# Run this cell to execute the script.\n",
        "\n",
        "!python3.10 ai2023_s04_01_05.py -h"
      ]
    },
    {
      "cell_type": "code",
      "execution_count": null,
      "metadata": {
        "id": "iYG7EKIgqF9L"
      },
      "outputs": [],
      "source": [
        "# Run this cell to execute the script.\n",
        "\n",
        "!python3.10 ai2023_s04_01_05.py -o ai2023_s04_01_05.png -r 450"
      ]
    },
    {
      "cell_type": "code",
      "source": [
        "# Find newly created file\n",
        "\n",
        "!ls -lF *.png"
      ],
      "metadata": {
        "id": "MISW0fpDqF9M"
      },
      "execution_count": null,
      "outputs": []
    },
    {
      "cell_type": "code",
      "source": [
        "# Check the properties of new file\n",
        "\n",
        "!file ai2023_s04_01_05.png"
      ],
      "metadata": {
        "id": "OHqE_cKLqF9Q"
      },
      "execution_count": null,
      "outputs": []
    },
    {
      "cell_type": "code",
      "source": [
        "# Display PNG file\n",
        "\n",
        "# importing IPython module\n",
        "import IPython.display\n",
        "\n",
        "# displaying image\n",
        "IPython.display.Image ('ai2023_s04_01_05.png')"
      ],
      "metadata": {
        "id": "lirR-7ZAqF9T"
      },
      "execution_count": null,
      "outputs": []
    },
    {
      "cell_type": "markdown",
      "metadata": {
        "id": "8O3NjwECqF9W"
      },
      "source": [
        "# Practice s04-10"
      ]
    },
    {
      "cell_type": "code",
      "execution_count": null,
      "metadata": {
        "id": "-jOIb3N0qF9W"
      },
      "outputs": [],
      "source": [
        "# Write down your code for Practice s04-10 in this cell.\n",
        "\n",
        "\n",
        "\n"
      ]
    },
    {
      "cell_type": "markdown",
      "metadata": {
        "id": "oS8wu0m4qSAM"
      },
      "source": [
        "# Sample Python script \"ai2023_s04_02_00.py\"\n"
      ]
    },
    {
      "cell_type": "code",
      "execution_count": null,
      "metadata": {
        "id": "AHF9ePfPqSAO"
      },
      "outputs": [],
      "source": [
        "# Run this cell to show the source code.\n",
        "\n",
        "!cat ai2023_s04_02_00.py"
      ]
    },
    {
      "cell_type": "code",
      "execution_count": null,
      "metadata": {
        "id": "0e2o9PRIqSAQ"
      },
      "outputs": [],
      "source": [
        "# Run this cell to execute the script.\n",
        "\n",
        "!python3.10 ai2023_s04_02_00.py -h"
      ]
    },
    {
      "cell_type": "code",
      "execution_count": null,
      "metadata": {
        "id": "SRSNSJcSqSAS"
      },
      "outputs": [],
      "source": [
        "# Run this cell to execute the script.\n",
        "\n",
        "!python3.10 ai2023_s04_02_00.py -o ai2023_s04_02_00.png -r 225"
      ]
    },
    {
      "cell_type": "code",
      "source": [
        "# Find newly created file\n",
        "\n",
        "!ls -lF *.png"
      ],
      "metadata": {
        "id": "qewU1X9bqSAU"
      },
      "execution_count": null,
      "outputs": []
    },
    {
      "cell_type": "code",
      "source": [
        "# Check the properties of new file\n",
        "\n",
        "!file ai2023_s04_02_00.png"
      ],
      "metadata": {
        "id": "dIZ1mkWYqSAV"
      },
      "execution_count": null,
      "outputs": []
    },
    {
      "cell_type": "code",
      "source": [
        "# Display PNG file\n",
        "\n",
        "# importing IPython module\n",
        "import IPython.display\n",
        "\n",
        "# displaying image\n",
        "IPython.display.Image ('ai2023_s04_02_00.png')"
      ],
      "metadata": {
        "id": "x43uj4m_qSAX"
      },
      "execution_count": null,
      "outputs": []
    },
    {
      "cell_type": "markdown",
      "metadata": {
        "id": "CXn8owjcqSAZ"
      },
      "source": [
        "# Practice s04-11"
      ]
    },
    {
      "cell_type": "code",
      "execution_count": null,
      "metadata": {
        "id": "3NYSk-HcqSAa"
      },
      "outputs": [],
      "source": [
        "# Write down your code for Practice s04-11 in this cell.\n",
        "\n",
        "\n",
        "\n"
      ]
    },
    {
      "cell_type": "markdown",
      "metadata": {
        "id": "WwAyGz8QqfR9"
      },
      "source": [
        "# Sample Python script \"ai2023_s04_02_01.py\"\n"
      ]
    },
    {
      "cell_type": "code",
      "execution_count": null,
      "metadata": {
        "id": "muPhA4paqfR_"
      },
      "outputs": [],
      "source": [
        "# Run this cell to show the source code.\n",
        "\n",
        "!cat ai2023_s04_02_01.py"
      ]
    },
    {
      "cell_type": "code",
      "execution_count": null,
      "metadata": {
        "id": "KqeUkitnqfSC"
      },
      "outputs": [],
      "source": [
        "# Run this cell to execute the script.\n",
        "\n",
        "!python3.10 ai2023_s04_02_01.py -h"
      ]
    },
    {
      "cell_type": "code",
      "execution_count": null,
      "metadata": {
        "id": "qnbG6U7VqfSD"
      },
      "outputs": [],
      "source": [
        "# Run this cell to execute the script.\n",
        "\n",
        "!python3.10 ai2023_s04_02_01.py -o ai2023_s04_02_01.png"
      ]
    },
    {
      "cell_type": "code",
      "source": [
        "# Find newly created file\n",
        "\n",
        "!ls -lF *.png"
      ],
      "metadata": {
        "id": "gHpBF--yqfSJ"
      },
      "execution_count": null,
      "outputs": []
    },
    {
      "cell_type": "code",
      "source": [
        "# Check the properties of new file\n",
        "\n",
        "!file ai2023_s04_02_01.png"
      ],
      "metadata": {
        "id": "kOJHK0LdqfSJ"
      },
      "execution_count": null,
      "outputs": []
    },
    {
      "cell_type": "code",
      "source": [
        "# Display PNG file\n",
        "\n",
        "# importing IPython module\n",
        "import IPython.display\n",
        "\n",
        "# displaying image\n",
        "IPython.display.Image ('ai2023_s04_02_01.png')"
      ],
      "metadata": {
        "id": "U8_sKYlXqfSL"
      },
      "execution_count": null,
      "outputs": []
    },
    {
      "cell_type": "markdown",
      "metadata": {
        "id": "4X2Y_X4SqfSL"
      },
      "source": [
        "# Practice s04-12"
      ]
    },
    {
      "cell_type": "code",
      "execution_count": null,
      "metadata": {
        "id": "TFHHlTxTqfSN"
      },
      "outputs": [],
      "source": [
        "# Write down your code for Practice s04-12 in this cell.\n",
        "\n",
        "\n",
        "\n"
      ]
    },
    {
      "cell_type": "markdown",
      "metadata": {
        "id": "LyR9L4DAqpIb"
      },
      "source": [
        "# Sample Python script \"ai2023_s04_02_02.py\"\n"
      ]
    },
    {
      "cell_type": "code",
      "execution_count": null,
      "metadata": {
        "id": "m6vfkCgUqpIe"
      },
      "outputs": [],
      "source": [
        "# Run this cell to show the source code.\n",
        "\n",
        "!cat ai2023_s04_02_02.py"
      ]
    },
    {
      "cell_type": "code",
      "execution_count": null,
      "metadata": {
        "id": "2noUt5mlqpIf"
      },
      "outputs": [],
      "source": [
        "# Run this cell to execute the script.\n",
        "\n",
        "!python3.10 ai2023_s04_02_02.py -h"
      ]
    },
    {
      "cell_type": "code",
      "execution_count": null,
      "metadata": {
        "id": "YriQTldtqpIg"
      },
      "outputs": [],
      "source": [
        "# Run this cell to execute the script.\n",
        "\n",
        "!python3.10 ai2023_s04_02_02.py -o ai2023_s04_02_02.png"
      ]
    },
    {
      "cell_type": "code",
      "source": [
        "# Find newly created file\n",
        "\n",
        "!ls -lF *.png"
      ],
      "metadata": {
        "id": "x1N32bTaqpIh"
      },
      "execution_count": null,
      "outputs": []
    },
    {
      "cell_type": "code",
      "source": [
        "# Check the properties of new file\n",
        "\n",
        "!file ai2023_s04_02_02.png"
      ],
      "metadata": {
        "id": "wGP0XWqQqpIi"
      },
      "execution_count": null,
      "outputs": []
    },
    {
      "cell_type": "code",
      "source": [
        "# Display PNG file\n",
        "\n",
        "# importing IPython module\n",
        "import IPython.display\n",
        "\n",
        "# displaying image\n",
        "IPython.display.Image ('ai2023_s04_02_02.png')"
      ],
      "metadata": {
        "id": "LBeCKgRgqpIj"
      },
      "execution_count": null,
      "outputs": []
    },
    {
      "cell_type": "markdown",
      "metadata": {
        "id": "xxR9ToJKqpIk"
      },
      "source": [
        "# Practice s04-13"
      ]
    },
    {
      "cell_type": "code",
      "execution_count": null,
      "metadata": {
        "id": "ZZA2qNutqpIl"
      },
      "outputs": [],
      "source": [
        "# Write down your code for Practice s04-13 in this cell.\n",
        "\n",
        "\n",
        "\n"
      ]
    },
    {
      "cell_type": "markdown",
      "metadata": {
        "id": "mkRDkcL9qzJV"
      },
      "source": [
        "# Sample Python script \"ai2023_s04_02_03.py\"\n"
      ]
    },
    {
      "cell_type": "code",
      "execution_count": null,
      "metadata": {
        "id": "wUF1OOiDqzJW"
      },
      "outputs": [],
      "source": [
        "# Run this cell to show the source code.\n",
        "\n",
        "!cat ai2023_s04_02_03.py"
      ]
    },
    {
      "cell_type": "code",
      "execution_count": null,
      "metadata": {
        "id": "3oajfpWoqzJa"
      },
      "outputs": [],
      "source": [
        "# Run this cell to execute the script.\n",
        "\n",
        "!python3.10 ai2023_s04_02_03.py -h"
      ]
    },
    {
      "cell_type": "code",
      "execution_count": null,
      "metadata": {
        "id": "2jdOERw3qzJb"
      },
      "outputs": [],
      "source": [
        "# Run this cell to execute the script.\n",
        "\n",
        "!python3.10 ai2023_s04_02_03.py -o ai2023_s04_02_03.png"
      ]
    },
    {
      "cell_type": "code",
      "source": [
        "# Find newly created file\n",
        "\n",
        "!ls -lF *.png"
      ],
      "metadata": {
        "id": "Z294YHDXqzJd"
      },
      "execution_count": null,
      "outputs": []
    },
    {
      "cell_type": "code",
      "source": [
        "# Check the properties of new file\n",
        "\n",
        "!file ai2023_s04_02_03.png"
      ],
      "metadata": {
        "id": "takcckS8qzJe"
      },
      "execution_count": null,
      "outputs": []
    },
    {
      "cell_type": "code",
      "source": [
        "# Display PNG file\n",
        "\n",
        "# importing IPython module\n",
        "import IPython.display\n",
        "\n",
        "# displaying image\n",
        "IPython.display.Image ('ai2023_s04_02_03.png')"
      ],
      "metadata": {
        "id": "pO09B-i-qzJg"
      },
      "execution_count": null,
      "outputs": []
    },
    {
      "cell_type": "markdown",
      "metadata": {
        "id": "gYXHCbZ_qzJh"
      },
      "source": [
        "# Practice s04-14"
      ]
    },
    {
      "cell_type": "code",
      "execution_count": null,
      "metadata": {
        "id": "LZnyb62pqzJi"
      },
      "outputs": [],
      "source": [
        "# Write down your code for Practice s04-14 in this cell.\n",
        "\n",
        "\n",
        "\n"
      ]
    },
    {
      "cell_type": "markdown",
      "metadata": {
        "id": "UzkZQiarq_f8"
      },
      "source": [
        "# Sample Python script \"ai2023_s04_03_00.py\"\n"
      ]
    },
    {
      "cell_type": "code",
      "execution_count": null,
      "metadata": {
        "id": "WcAtA8o5q_f-"
      },
      "outputs": [],
      "source": [
        "# Run this cell to show the source code.\n",
        "\n",
        "!cat ai2023_s04_03_00.py"
      ]
    },
    {
      "cell_type": "code",
      "execution_count": null,
      "metadata": {
        "id": "t0_qasMfq_f_"
      },
      "outputs": [],
      "source": [
        "# Run this cell to execute the script.\n",
        "\n",
        "!python3.10 ai2023_s04_03_00.py -h"
      ]
    },
    {
      "cell_type": "code",
      "execution_count": null,
      "metadata": {
        "id": "WmF5oat9q_f_"
      },
      "outputs": [],
      "source": [
        "# Run this cell to execute the script.\n",
        "\n",
        "!python3.10 ai2023_s04_03_00.py -o ai2023_s04_03_00.png"
      ]
    },
    {
      "cell_type": "code",
      "source": [
        "# Find newly created file\n",
        "\n",
        "!ls -lF *.png"
      ],
      "metadata": {
        "id": "zCj-4DCGq_gA"
      },
      "execution_count": null,
      "outputs": []
    },
    {
      "cell_type": "code",
      "source": [
        "# Check the properties of new file\n",
        "\n",
        "!file ai2023_s04_03_00.png"
      ],
      "metadata": {
        "id": "-JvDtoEKq_gA"
      },
      "execution_count": null,
      "outputs": []
    },
    {
      "cell_type": "code",
      "source": [
        "# Display PNG file\n",
        "\n",
        "# importing IPython module\n",
        "import IPython.display\n",
        "\n",
        "# displaying image\n",
        "IPython.display.Image ('ai2023_s04_03_00.png')"
      ],
      "metadata": {
        "id": "yEfk7I4Bq_gB"
      },
      "execution_count": null,
      "outputs": []
    },
    {
      "cell_type": "markdown",
      "metadata": {
        "id": "eXnkaKCZq_gC"
      },
      "source": [
        "# Practice s04-15"
      ]
    },
    {
      "cell_type": "code",
      "execution_count": null,
      "metadata": {
        "id": "A9chnhfeq_gD"
      },
      "outputs": [],
      "source": [
        "# Write down your code for Practice s04-15 in this cell.\n",
        "\n",
        "\n",
        "\n"
      ]
    },
    {
      "cell_type": "markdown",
      "metadata": {
        "id": "f0SGhYjLrKsc"
      },
      "source": [
        "# Sample Python script \"ai2023_s04_03_01.py\"\n"
      ]
    },
    {
      "cell_type": "code",
      "execution_count": null,
      "metadata": {
        "id": "sjqcX0J6rKsd"
      },
      "outputs": [],
      "source": [
        "# Run this cell to show the source code.\n",
        "\n",
        "!cat ai2023_s04_03_01.py"
      ]
    },
    {
      "cell_type": "code",
      "execution_count": null,
      "metadata": {
        "id": "fUw9xdxrrKsf"
      },
      "outputs": [],
      "source": [
        "# Run this cell to execute the script.\n",
        "\n",
        "!python3.10 ai2023_s04_03_01.py -h"
      ]
    },
    {
      "cell_type": "code",
      "execution_count": null,
      "metadata": {
        "id": "gjKF0L-yrKsg"
      },
      "outputs": [],
      "source": [
        "# Run this cell to execute the script.\n",
        "\n",
        "!python3.10 ai2023_s04_03_01.py -o ai2023_s04_03_01.png"
      ]
    },
    {
      "cell_type": "code",
      "source": [
        "# Find newly created file\n",
        "\n",
        "!ls -lF *.png"
      ],
      "metadata": {
        "id": "Bv4UlQxnrKsh"
      },
      "execution_count": null,
      "outputs": []
    },
    {
      "cell_type": "code",
      "source": [
        "# Check the properties of new file\n",
        "\n",
        "!file ai2023_s04_03_01.png"
      ],
      "metadata": {
        "id": "wWStUlpJrKsj"
      },
      "execution_count": null,
      "outputs": []
    },
    {
      "cell_type": "code",
      "source": [
        "# Display PNG file\n",
        "\n",
        "# importing IPython module\n",
        "import IPython.display\n",
        "\n",
        "# displaying image\n",
        "IPython.display.Image ('ai2023_s04_03_01.png')"
      ],
      "metadata": {
        "id": "9QW-smQyrKsk"
      },
      "execution_count": null,
      "outputs": []
    },
    {
      "cell_type": "markdown",
      "metadata": {
        "id": "HX6gPnUdrKsl"
      },
      "source": [
        "# Practice s04-16"
      ]
    },
    {
      "cell_type": "code",
      "execution_count": null,
      "metadata": {
        "id": "z0W4oOWrrKsm"
      },
      "outputs": [],
      "source": [
        "# Write down your code for Practice s04-16 in this cell.\n",
        "\n",
        "\n",
        "\n"
      ]
    },
    {
      "cell_type": "markdown",
      "metadata": {
        "id": "5RFNFC4-rWdi"
      },
      "source": [
        "# Sample Python script \"ai2023_s04_03_02.py\"\n"
      ]
    },
    {
      "cell_type": "code",
      "execution_count": null,
      "metadata": {
        "id": "4FYHIoIBrWdl"
      },
      "outputs": [],
      "source": [
        "# Run this cell to show the source code.\n",
        "\n",
        "!cat ai2023_s04_03_02.py"
      ]
    },
    {
      "cell_type": "code",
      "execution_count": null,
      "metadata": {
        "id": "0ZFO4xy5rWdo"
      },
      "outputs": [],
      "source": [
        "# Run this cell to execute the script.\n",
        "\n",
        "!python3.10 ai2023_s04_03_02.py -h"
      ]
    },
    {
      "cell_type": "code",
      "execution_count": null,
      "metadata": {
        "id": "od96Z1qrrWdq"
      },
      "outputs": [],
      "source": [
        "# Run this cell to execute the script.\n",
        "\n",
        "!python3.10 ai2023_s04_03_02.py -o ai2023_s04_03_02.png"
      ]
    },
    {
      "cell_type": "code",
      "source": [
        "# Find newly created file\n",
        "\n",
        "!ls -lF *.png"
      ],
      "metadata": {
        "id": "tywVFyCqrWdr"
      },
      "execution_count": null,
      "outputs": []
    },
    {
      "cell_type": "code",
      "source": [
        "# Check the properties of new file\n",
        "\n",
        "!file ai2023_s04_03_02.png"
      ],
      "metadata": {
        "id": "1d46nTChrWdt"
      },
      "execution_count": null,
      "outputs": []
    },
    {
      "cell_type": "code",
      "source": [
        "# Display PNG file\n",
        "\n",
        "# importing IPython module\n",
        "import IPython.display\n",
        "\n",
        "# displaying image\n",
        "IPython.display.Image ('ai2023_s04_03_02.png')"
      ],
      "metadata": {
        "id": "Y2TtbkBnrWdu"
      },
      "execution_count": null,
      "outputs": []
    },
    {
      "cell_type": "markdown",
      "metadata": {
        "id": "bsqJK_gXrWdv"
      },
      "source": [
        "# Practice s04-17"
      ]
    },
    {
      "cell_type": "code",
      "execution_count": null,
      "metadata": {
        "id": "2jMGlMYmrWdw"
      },
      "outputs": [],
      "source": [
        "# Write down your code for Practice s04-17 in this cell.\n",
        "\n",
        "\n",
        "\n"
      ]
    },
    {
      "cell_type": "markdown",
      "metadata": {
        "id": "wAGv7r5prj_2"
      },
      "source": [
        "# Sample Python script \"ai2023_s04_03_03.py\"\n"
      ]
    },
    {
      "cell_type": "code",
      "execution_count": null,
      "metadata": {
        "id": "mjw25kv8rj_5"
      },
      "outputs": [],
      "source": [
        "# Run this cell to show the source code.\n",
        "\n",
        "!cat ai2023_s04_03_03.py"
      ]
    },
    {
      "cell_type": "code",
      "execution_count": null,
      "metadata": {
        "id": "Oj1KheAlrj_6"
      },
      "outputs": [],
      "source": [
        "# Run this cell to execute the script.\n",
        "\n",
        "!python3.10 ai2023_s04_03_03.py -h"
      ]
    },
    {
      "cell_type": "code",
      "execution_count": null,
      "metadata": {
        "id": "g_RHZgW8rj_8"
      },
      "outputs": [],
      "source": [
        "# Run this cell to execute the script.\n",
        "\n",
        "!python3.10 ai2023_s04_03_03.py -o ai2023_s04_03_03.png"
      ]
    },
    {
      "cell_type": "code",
      "source": [
        "# Find newly created file\n",
        "\n",
        "!ls -lF *.png"
      ],
      "metadata": {
        "id": "nT5wd3Cyrj_-"
      },
      "execution_count": null,
      "outputs": []
    },
    {
      "cell_type": "code",
      "source": [
        "# Check the properties of new file\n",
        "\n",
        "!file ai2023_s04_03_03.png"
      ],
      "metadata": {
        "id": "CWMmyNOxrj__"
      },
      "execution_count": null,
      "outputs": []
    },
    {
      "cell_type": "code",
      "source": [
        "# Display PNG file\n",
        "\n",
        "# importing IPython module\n",
        "import IPython.display\n",
        "\n",
        "# displaying image\n",
        "IPython.display.Image ('ai2023_s04_03_03.png')"
      ],
      "metadata": {
        "id": "UPbsB5gErkAB"
      },
      "execution_count": null,
      "outputs": []
    },
    {
      "cell_type": "markdown",
      "metadata": {
        "id": "mdvd-cbdrkAD"
      },
      "source": [
        "# Practice s04-18"
      ]
    },
    {
      "cell_type": "code",
      "execution_count": null,
      "metadata": {
        "id": "m1v1x5_nrkAE"
      },
      "outputs": [],
      "source": [
        "# Write down your code for Practice s04-18 in this cell.\n",
        "\n",
        "\n",
        "\n"
      ]
    },
    {
      "cell_type": "markdown",
      "metadata": {
        "id": "GwalBp7JrvZl"
      },
      "source": [
        "# Sample Python script \"ai2023_s04_03_04.py\"\n"
      ]
    },
    {
      "cell_type": "code",
      "execution_count": null,
      "metadata": {
        "id": "g0BS4PlcrvZn"
      },
      "outputs": [],
      "source": [
        "# Run this cell to show the source code.\n",
        "\n",
        "!cat ai2023_s04_03_04.py"
      ]
    },
    {
      "cell_type": "code",
      "execution_count": null,
      "metadata": {
        "id": "UFcFSsD0rvZo"
      },
      "outputs": [],
      "source": [
        "# Run this cell to execute the script.\n",
        "\n",
        "!python3.10 ai2023_s04_03_04.py -h"
      ]
    },
    {
      "cell_type": "code",
      "execution_count": null,
      "metadata": {
        "id": "w0NBeZW_rvZp"
      },
      "outputs": [],
      "source": [
        "# Run this cell to execute the script.\n",
        "\n",
        "!python3.10 ai2023_s04_03_04.py -o ai2023_s04_03_04.png"
      ]
    },
    {
      "cell_type": "code",
      "source": [
        "# Find newly created file\n",
        "\n",
        "!ls -lF *.png"
      ],
      "metadata": {
        "id": "xNC3LcJGrvZq"
      },
      "execution_count": null,
      "outputs": []
    },
    {
      "cell_type": "code",
      "source": [
        "# Check the properties of new file\n",
        "\n",
        "!file ai2023_s04_03_04.png"
      ],
      "metadata": {
        "id": "xzjAytIFrvZs"
      },
      "execution_count": null,
      "outputs": []
    },
    {
      "cell_type": "code",
      "source": [
        "# Display PNG file\n",
        "\n",
        "# importing IPython module\n",
        "import IPython.display\n",
        "\n",
        "# displaying image\n",
        "IPython.display.Image ('ai2023_s04_03_04.png')"
      ],
      "metadata": {
        "id": "U9HWlPHprvZs"
      },
      "execution_count": null,
      "outputs": []
    },
    {
      "cell_type": "markdown",
      "metadata": {
        "id": "PF9IFKNyrvZt"
      },
      "source": [
        "# Practice s04-19"
      ]
    },
    {
      "cell_type": "code",
      "execution_count": null,
      "metadata": {
        "id": "TNRC1yqZrvZu"
      },
      "outputs": [],
      "source": [
        "# Write down your code for Practice s04-19 in this cell.\n",
        "\n",
        "\n",
        "\n"
      ]
    },
    {
      "cell_type": "markdown",
      "metadata": {
        "id": "Gn8wQPMqr-y4"
      },
      "source": [
        "# Sample Python script \"ai2023_s04_04_00.py\"\n"
      ]
    },
    {
      "cell_type": "code",
      "execution_count": null,
      "metadata": {
        "id": "i5IMQ0Dzr-y6"
      },
      "outputs": [],
      "source": [
        "# Run this cell to show the source code.\n",
        "\n",
        "!cat ai2023_s04_04_00.py"
      ]
    },
    {
      "cell_type": "code",
      "execution_count": null,
      "metadata": {
        "id": "xzt2l01mr-y7"
      },
      "outputs": [],
      "source": [
        "# Run this cell to execute the script.\n",
        "\n",
        "!python3.10 ai2023_s04_04_00.py -h"
      ]
    },
    {
      "cell_type": "code",
      "execution_count": null,
      "metadata": {
        "id": "i355tlTQr-y8"
      },
      "outputs": [],
      "source": [
        "# Run this cell to execute the script.\n",
        "\n",
        "!python3.10 ai2023_s04_04_00.py -o ai2023_s04_04_00.png"
      ]
    },
    {
      "cell_type": "code",
      "source": [
        "# Find newly created file\n",
        "\n",
        "!ls -lF *.png"
      ],
      "metadata": {
        "id": "xVdcZk85r-y9"
      },
      "execution_count": null,
      "outputs": []
    },
    {
      "cell_type": "code",
      "source": [
        "# Check the properties of new file\n",
        "\n",
        "!file ai2023_s04_04_00.png"
      ],
      "metadata": {
        "id": "8hJ4lPvmr-y-"
      },
      "execution_count": null,
      "outputs": []
    },
    {
      "cell_type": "code",
      "source": [
        "# Display PNG file\n",
        "\n",
        "# importing IPython module\n",
        "import IPython.display\n",
        "\n",
        "# displaying image\n",
        "IPython.display.Image ('ai2023_s04_04_00.png')"
      ],
      "metadata": {
        "id": "FRQkReA7r-y_"
      },
      "execution_count": null,
      "outputs": []
    },
    {
      "cell_type": "markdown",
      "metadata": {
        "id": "Hn4FYgD-r-zA"
      },
      "source": [
        "# Practice s04-20"
      ]
    },
    {
      "cell_type": "code",
      "execution_count": null,
      "metadata": {
        "id": "HBmPtnZBr-zB"
      },
      "outputs": [],
      "source": [
        "# Write down your code for Practice s04-20 in this cell.\n",
        "\n",
        "\n",
        "\n"
      ]
    },
    {
      "cell_type": "markdown",
      "metadata": {
        "id": "VTk_oOQUsIu-"
      },
      "source": [
        "# Sample Python script \"ai2023_s04_04_01.py\"\n"
      ]
    },
    {
      "cell_type": "code",
      "execution_count": null,
      "metadata": {
        "id": "1KAspC5CsIu_"
      },
      "outputs": [],
      "source": [
        "# Run this cell to show the source code.\n",
        "\n",
        "!cat ai2023_s04_04_01.py"
      ]
    },
    {
      "cell_type": "code",
      "execution_count": null,
      "metadata": {
        "id": "jX0jR9TksIvC"
      },
      "outputs": [],
      "source": [
        "# Run this cell to execute the script.\n",
        "\n",
        "!python3.10 ai2023_s04_04_01.py -h"
      ]
    },
    {
      "cell_type": "code",
      "execution_count": null,
      "metadata": {
        "id": "1A6QMdMlsIvE"
      },
      "outputs": [],
      "source": [
        "# Run this cell to execute the script.\n",
        "\n",
        "!python3.10 ai2023_s04_04_01.py -o ai2023_s04_04_01.png"
      ]
    },
    {
      "cell_type": "code",
      "source": [
        "# Find newly created file\n",
        "\n",
        "!ls -lF *.png"
      ],
      "metadata": {
        "id": "l74HxcV7sIvF"
      },
      "execution_count": null,
      "outputs": []
    },
    {
      "cell_type": "code",
      "source": [
        "# Check the properties of new file\n",
        "\n",
        "!file ai2023_s04_04_01.png"
      ],
      "metadata": {
        "id": "Hrop8-essIvJ"
      },
      "execution_count": null,
      "outputs": []
    },
    {
      "cell_type": "code",
      "source": [
        "# Display PNG file\n",
        "\n",
        "# importing IPython module\n",
        "import IPython.display\n",
        "\n",
        "# displaying image\n",
        "IPython.display.Image ('ai2023_s04_04_01.png')"
      ],
      "metadata": {
        "id": "XZuE32p0sIvK"
      },
      "execution_count": null,
      "outputs": []
    },
    {
      "cell_type": "markdown",
      "metadata": {
        "id": "b7thg81CsIvL"
      },
      "source": [
        "# Practice s04-21"
      ]
    },
    {
      "cell_type": "code",
      "execution_count": null,
      "metadata": {
        "id": "5bJyrsy-sIvM"
      },
      "outputs": [],
      "source": [
        "# Write down your code for Practice s04-21 in this cell.\n",
        "\n",
        "\n",
        "\n"
      ]
    },
    {
      "cell_type": "markdown",
      "metadata": {
        "id": "Us1QxYgtsUsZ"
      },
      "source": [
        "# Sample Python script \"ai2023_s04_05_00.py\"\n"
      ]
    },
    {
      "cell_type": "code",
      "execution_count": null,
      "metadata": {
        "id": "k-jd0cgmsUsa"
      },
      "outputs": [],
      "source": [
        "# Run this cell to show the source code.\n",
        "\n",
        "!cat ai2023_s04_05_00.py"
      ]
    },
    {
      "cell_type": "code",
      "execution_count": null,
      "metadata": {
        "id": "LluytHtTsUse"
      },
      "outputs": [],
      "source": [
        "# Run this cell to execute the script.\n",
        "\n",
        "!python3.10 ai2023_s04_05_00.py -h"
      ]
    },
    {
      "cell_type": "code",
      "execution_count": null,
      "metadata": {
        "id": "3CekjxEisUsg"
      },
      "outputs": [],
      "source": [
        "# Run this cell to execute the script.\n",
        "\n",
        "!python3.10 ai2023_s04_05_00.py -o ai2023_s04_05_00.png"
      ]
    },
    {
      "cell_type": "code",
      "source": [
        "# Find newly created file\n",
        "\n",
        "!ls -lF *.png"
      ],
      "metadata": {
        "id": "HAMvQr7fsUsi"
      },
      "execution_count": null,
      "outputs": []
    },
    {
      "cell_type": "code",
      "source": [
        "# Check the properties of new file\n",
        "\n",
        "!file ai2023_s04_05_00.png"
      ],
      "metadata": {
        "id": "3o09My31sUsj"
      },
      "execution_count": null,
      "outputs": []
    },
    {
      "cell_type": "code",
      "source": [
        "# Display PNG file\n",
        "\n",
        "# importing IPython module\n",
        "import IPython.display\n",
        "\n",
        "# displaying image\n",
        "IPython.display.Image ('ai2023_s04_05_00.png')"
      ],
      "metadata": {
        "id": "47RpzAq2sUsk"
      },
      "execution_count": null,
      "outputs": []
    },
    {
      "cell_type": "markdown",
      "metadata": {
        "id": "X3anMPaYsUsm"
      },
      "source": [
        "# Practice s04-22"
      ]
    },
    {
      "cell_type": "code",
      "execution_count": null,
      "metadata": {
        "id": "OE1Tep0asUsn"
      },
      "outputs": [],
      "source": [
        "# Write down your code for Practice s04-22 in this cell.\n",
        "\n",
        "\n",
        "\n"
      ]
    },
    {
      "cell_type": "markdown",
      "metadata": {
        "id": "bXXxUGneseJH"
      },
      "source": [
        "# Sample Python script \"ai2023_s04_05_01.py\"\n"
      ]
    },
    {
      "cell_type": "code",
      "execution_count": null,
      "metadata": {
        "id": "AsuqM3ClseJK"
      },
      "outputs": [],
      "source": [
        "# Run this cell to show the source code.\n",
        "\n",
        "!cat ai2023_s04_05_01.py"
      ]
    },
    {
      "cell_type": "code",
      "execution_count": null,
      "metadata": {
        "id": "anAKZtBiseJN"
      },
      "outputs": [],
      "source": [
        "# Run this cell to execute the script.\n",
        "\n",
        "!python3.10 ai2023_s04_05_01.py -h"
      ]
    },
    {
      "cell_type": "code",
      "execution_count": null,
      "metadata": {
        "id": "xzQx9MdbseJO"
      },
      "outputs": [],
      "source": [
        "# Run this cell to execute the script.\n",
        "\n",
        "!python3.10 ai2023_s04_05_01.py -o ai2023_s04_05_01.png"
      ]
    },
    {
      "cell_type": "code",
      "source": [
        "# Find newly created file\n",
        "\n",
        "!ls -lF *.png"
      ],
      "metadata": {
        "id": "ONaOu4ttseJP"
      },
      "execution_count": null,
      "outputs": []
    },
    {
      "cell_type": "code",
      "source": [
        "# Check the properties of new file\n",
        "\n",
        "!file ai2023_s04_05_01.png"
      ],
      "metadata": {
        "id": "6yFvZjTGseJQ"
      },
      "execution_count": null,
      "outputs": []
    },
    {
      "cell_type": "code",
      "source": [
        "# Display PNG file\n",
        "\n",
        "# importing IPython module\n",
        "import IPython.display\n",
        "\n",
        "# displaying image\n",
        "IPython.display.Image ('ai2023_s04_05_01.png')"
      ],
      "metadata": {
        "id": "bHk3Q7-5seJS"
      },
      "execution_count": null,
      "outputs": []
    },
    {
      "cell_type": "markdown",
      "metadata": {
        "id": "oCUgOmBxseJT"
      },
      "source": [
        "# Practice s04-23"
      ]
    },
    {
      "cell_type": "code",
      "execution_count": null,
      "metadata": {
        "id": "CczgR4yRseJU"
      },
      "outputs": [],
      "source": [
        "# Write down your code for Practice s04-23 in this cell.\n",
        "\n",
        "\n",
        "\n"
      ]
    },
    {
      "cell_type": "markdown",
      "metadata": {
        "id": "xfhuSJ6zspK8"
      },
      "source": [
        "# Sample Python script \"ai2023_s04_05_02.py\"\n"
      ]
    },
    {
      "cell_type": "code",
      "execution_count": null,
      "metadata": {
        "id": "ca19DoKzspK9"
      },
      "outputs": [],
      "source": [
        "# Run this cell to show the source code.\n",
        "\n",
        "!cat ai2023_s04_05_02.py"
      ]
    },
    {
      "cell_type": "code",
      "execution_count": null,
      "metadata": {
        "id": "dPRol8ZbspK_"
      },
      "outputs": [],
      "source": [
        "# Run this cell to execute the script.\n",
        "\n",
        "!python3.10 ai2023_s04_05_02.py -h"
      ]
    },
    {
      "cell_type": "code",
      "execution_count": null,
      "metadata": {
        "id": "V6Mi9f81spLA"
      },
      "outputs": [],
      "source": [
        "# Run this cell to execute the script.\n",
        "\n",
        "!python3.10 ai2023_s04_05_02.py -o ai2023_s04_05_02.png"
      ]
    },
    {
      "cell_type": "code",
      "source": [
        "# Find newly created file\n",
        "\n",
        "!ls -lF *.png"
      ],
      "metadata": {
        "id": "nRCPAClcspLB"
      },
      "execution_count": null,
      "outputs": []
    },
    {
      "cell_type": "code",
      "source": [
        "# Check the properties of new file\n",
        "\n",
        "!file ai2023_s04_05_02.png"
      ],
      "metadata": {
        "id": "5jjALCDbspLD"
      },
      "execution_count": null,
      "outputs": []
    },
    {
      "cell_type": "code",
      "source": [
        "# Display PNG file\n",
        "\n",
        "# importing IPython module\n",
        "import IPython.display\n",
        "\n",
        "# displaying image\n",
        "IPython.display.Image ('ai2023_s04_05_02.png')"
      ],
      "metadata": {
        "id": "nG4jcYlTspLF"
      },
      "execution_count": null,
      "outputs": []
    },
    {
      "cell_type": "markdown",
      "metadata": {
        "id": "xuNWTuMrspLI"
      },
      "source": [
        "# Practice s04-24"
      ]
    },
    {
      "cell_type": "code",
      "execution_count": null,
      "metadata": {
        "id": "Y6Ky0WJZspLL"
      },
      "outputs": [],
      "source": [
        "# Write down your code for Practice s04-24 in this cell.\n",
        "\n",
        "\n",
        "\n"
      ]
    },
    {
      "cell_type": "markdown",
      "metadata": {
        "id": "--c_hB60s2UW"
      },
      "source": [
        "# Sample Python script \"ai2023_s04_06_00.py\"\n"
      ]
    },
    {
      "cell_type": "code",
      "execution_count": null,
      "metadata": {
        "id": "fSxjWAx5s2UZ"
      },
      "outputs": [],
      "source": [
        "# Run this cell to show the source code.\n",
        "\n",
        "!cat ai2023_s04_06_00.py"
      ]
    },
    {
      "cell_type": "code",
      "execution_count": null,
      "metadata": {
        "id": "lUpuX0ZFs2Uc"
      },
      "outputs": [],
      "source": [
        "# Run this cell to execute the script.\n",
        "\n",
        "!python3.10 ai2023_s04_06_00.py -h"
      ]
    },
    {
      "cell_type": "code",
      "execution_count": null,
      "metadata": {
        "id": "DHlR4t4ds2Ue"
      },
      "outputs": [],
      "source": [
        "# Run this cell to execute the script.\n",
        "\n",
        "!python3.10 ai2023_s04_06_00.py -o alf_ori.data https://s3b.astro.ncu.edu.tw/ai_202309/data/alf_ori.data"
      ]
    },
    {
      "cell_type": "code",
      "source": [
        "# Find newly created file\n",
        "\n",
        "!ls -lF *.data"
      ],
      "metadata": {
        "id": "2Ha9vxq2s2Uf"
      },
      "execution_count": null,
      "outputs": []
    },
    {
      "cell_type": "code",
      "source": [
        "# Check the properties of new file\n",
        "\n",
        "!file ai2023_s04_05_00.data"
      ],
      "metadata": {
        "id": "1FWQ76FQs2Ug"
      },
      "execution_count": null,
      "outputs": []
    },
    {
      "cell_type": "code",
      "source": [
        "# Show new file\n",
        "\n",
        "!cat alf_ori.data"
      ],
      "metadata": {
        "id": "CItAgg-cs2Uh"
      },
      "execution_count": null,
      "outputs": []
    },
    {
      "cell_type": "markdown",
      "metadata": {
        "id": "-pPln8sKs2Ui"
      },
      "source": [
        "# Practice s04-25"
      ]
    },
    {
      "cell_type": "code",
      "execution_count": null,
      "metadata": {
        "id": "LM6bYtffs2Uj"
      },
      "outputs": [],
      "source": [
        "# Write down your code for Practice s04-25 in this cell.\n",
        "\n",
        "\n",
        "\n"
      ]
    },
    {
      "cell_type": "markdown",
      "metadata": {
        "id": "UbjJOIAft7sI"
      },
      "source": [
        "# Sample Python script \"ai2023_s04_06_01.py\"\n"
      ]
    },
    {
      "cell_type": "code",
      "execution_count": null,
      "metadata": {
        "id": "wozdMX6ot7sK"
      },
      "outputs": [],
      "source": [
        "# Run this cell to show the source code.\n",
        "\n",
        "!cat ai2023_s04_06_01.py"
      ]
    },
    {
      "cell_type": "code",
      "execution_count": null,
      "metadata": {
        "id": "8O8rPqNxt7sN"
      },
      "outputs": [],
      "source": [
        "# Run this cell to execute the script.\n",
        "\n",
        "!python3.10 ai2023_s04_06_01.py"
      ]
    },
    {
      "cell_type": "markdown",
      "metadata": {
        "id": "UetLwv-st7sS"
      },
      "source": [
        "# Practice s04-26"
      ]
    },
    {
      "cell_type": "code",
      "execution_count": null,
      "metadata": {
        "id": "bTu_8YwLt7sU"
      },
      "outputs": [],
      "source": [
        "# Write down your code for Practice s04-26 in this cell.\n",
        "\n",
        "\n",
        "\n"
      ]
    },
    {
      "cell_type": "markdown",
      "metadata": {
        "id": "kxkLezMixpRs"
      },
      "source": [
        "# Sample Python script \"ai2023_s04_06_02.py\"\n"
      ]
    },
    {
      "cell_type": "code",
      "execution_count": null,
      "metadata": {
        "id": "c7oCT2yixpRw"
      },
      "outputs": [],
      "source": [
        "# Run this cell to show the source code.\n",
        "\n",
        "!cat ai2023_s04_06_02.py"
      ]
    },
    {
      "cell_type": "code",
      "execution_count": null,
      "metadata": {
        "id": "hRFIiX3GxpRz"
      },
      "outputs": [],
      "source": [
        "# Run this cell to execute the script.\n",
        "\n",
        "!python3.10 ai2023_s04_06_02.py -h"
      ]
    },
    {
      "cell_type": "code",
      "execution_count": null,
      "metadata": {
        "id": "Z60wCqIkxpR3"
      },
      "outputs": [],
      "source": [
        "# Run this cell to execute the script.\n",
        "\n",
        "!python3.10 ai2023_s04_06_02.py -o ai2023_s04_06_02.png alf_ori.data"
      ]
    },
    {
      "cell_type": "code",
      "source": [
        "# Find newly created file\n",
        "\n",
        "!ls -lF *.png"
      ],
      "metadata": {
        "id": "KJ_vuG0XxpR7"
      },
      "execution_count": null,
      "outputs": []
    },
    {
      "cell_type": "code",
      "source": [
        "# Check the properties of new file\n",
        "\n",
        "!file ai2023_s04_06_02.png"
      ],
      "metadata": {
        "id": "MCSnOUcTxpR9"
      },
      "execution_count": null,
      "outputs": []
    },
    {
      "cell_type": "code",
      "source": [
        "# Display PNG file\n",
        "\n",
        "# importing IPython module\n",
        "import IPython.display\n",
        "\n",
        "# displaying image\n",
        "IPython.display.Image ('ai2023_s04_06_02.png')"
      ],
      "metadata": {
        "id": "U-ZePLUvyEbe"
      },
      "execution_count": null,
      "outputs": []
    },
    {
      "cell_type": "markdown",
      "metadata": {
        "id": "yYAs349_xpSC"
      },
      "source": [
        "# Practice s04-27"
      ]
    },
    {
      "cell_type": "code",
      "execution_count": null,
      "metadata": {
        "id": "Go6WVvPXxpSD"
      },
      "outputs": [],
      "source": [
        "# Write down your code for Practice s04-27 in this cell.\n",
        "\n",
        "\n",
        "\n"
      ]
    },
    {
      "cell_type": "markdown",
      "metadata": {
        "id": "GlWNYNYVyRwU"
      },
      "source": [
        "# Sample Python script \"ai2023_s04_06_03.py\"\n"
      ]
    },
    {
      "cell_type": "code",
      "execution_count": null,
      "metadata": {
        "id": "z0BX4LX4yRwY"
      },
      "outputs": [],
      "source": [
        "# Run this cell to show the source code.\n",
        "\n",
        "!cat ai2023_s04_06_03.py"
      ]
    },
    {
      "cell_type": "code",
      "execution_count": null,
      "metadata": {
        "id": "ISUl8FUoyRwa"
      },
      "outputs": [],
      "source": [
        "# Run this cell to execute the script.\n",
        "\n",
        "!python3.10 ai2023_s04_06_03.py -h"
      ]
    },
    {
      "cell_type": "code",
      "execution_count": null,
      "metadata": {
        "id": "5oMVHmQxyRwc"
      },
      "outputs": [],
      "source": [
        "# Run this cell to execute the script.\n",
        "\n",
        "!python3.10 ai2023_s04_06_03.py -o ai2023_s04_06_03.png alf_ori.data"
      ]
    },
    {
      "cell_type": "code",
      "source": [
        "# Find newly created file\n",
        "\n",
        "!ls -lF *.png"
      ],
      "metadata": {
        "id": "MieArazJyRwe"
      },
      "execution_count": null,
      "outputs": []
    },
    {
      "cell_type": "code",
      "source": [
        "# Check the properties of new file\n",
        "\n",
        "!file ai2023_s04_06_03.png"
      ],
      "metadata": {
        "id": "hKroX2jKyRwg"
      },
      "execution_count": null,
      "outputs": []
    },
    {
      "cell_type": "code",
      "source": [
        "# Display PNG file\n",
        "\n",
        "# importing IPython module\n",
        "import IPython.display\n",
        "\n",
        "# displaying image\n",
        "IPython.display.Image ('ai2023_s04_06_03.png')"
      ],
      "metadata": {
        "id": "jhphcUOuyRwh"
      },
      "execution_count": null,
      "outputs": []
    },
    {
      "cell_type": "markdown",
      "metadata": {
        "id": "w3CnE9IzyRwj"
      },
      "source": [
        "# Practice s04-28"
      ]
    },
    {
      "cell_type": "code",
      "execution_count": null,
      "metadata": {
        "id": "bm7WZxqcyRwk"
      },
      "outputs": [],
      "source": [
        "# Write down your code for Practice s04-28 in this cell.\n",
        "\n",
        "\n",
        "\n"
      ]
    },
    {
      "cell_type": "markdown",
      "metadata": {
        "id": "FIOiRbUqy2UA"
      },
      "source": [
        "# Sample Python script \"ai2023_s04_07_00.py\"\n"
      ]
    },
    {
      "cell_type": "code",
      "execution_count": null,
      "metadata": {
        "id": "N9leFoEny2UC"
      },
      "outputs": [],
      "source": [
        "# Run this cell to show the source code.\n",
        "\n",
        "!cat ai2023_s04_07_00.py"
      ]
    },
    {
      "cell_type": "code",
      "execution_count": null,
      "metadata": {
        "id": "bHEon64jy2UD"
      },
      "outputs": [],
      "source": [
        "# Run this cell to execute the script.\n",
        "\n",
        "!python3.10 ai2023_s04_07_00.py -h"
      ]
    },
    {
      "cell_type": "code",
      "execution_count": null,
      "metadata": {
        "id": "VseURWBEy2UE"
      },
      "outputs": [],
      "source": [
        "# Run this cell to execute the script.\n",
        "\n",
        "!python3.10 ai2023_s04_07_00.py -o ai2023_s04_07_00.data -m 100 -s 10 -n 1000"
      ]
    },
    {
      "cell_type": "code",
      "source": [
        "# Find newly created file\n",
        "\n",
        "!ls -lF *.data"
      ],
      "metadata": {
        "id": "x03TgZg2y2UF"
      },
      "execution_count": null,
      "outputs": []
    },
    {
      "cell_type": "code",
      "source": [
        "# Check the properties of new file\n",
        "\n",
        "!file ai2023_s04_07_00.data"
      ],
      "metadata": {
        "id": "4OFe8c_ry2UG"
      },
      "execution_count": null,
      "outputs": []
    },
    {
      "cell_type": "code",
      "source": [
        "# Show new file\n",
        "\n",
        "!cat ai2023_s04_07_00.data"
      ],
      "metadata": {
        "id": "FCfh-Pqny2UI"
      },
      "execution_count": null,
      "outputs": []
    },
    {
      "cell_type": "markdown",
      "metadata": {
        "id": "Qs6Hqv00y2UJ"
      },
      "source": [
        "# Practice s04-29"
      ]
    },
    {
      "cell_type": "code",
      "execution_count": null,
      "metadata": {
        "id": "BNA0wXHyy2UK"
      },
      "outputs": [],
      "source": [
        "# Write down your code for Practice s04-29 in this cell.\n",
        "\n",
        "\n",
        "\n"
      ]
    },
    {
      "cell_type": "markdown",
      "metadata": {
        "id": "1MwQFv3gzXvX"
      },
      "source": [
        "# Sample Python script \"ai2023_s04_07_01.py\"\n"
      ]
    },
    {
      "cell_type": "code",
      "execution_count": null,
      "metadata": {
        "id": "PnjKGuwpzXvZ"
      },
      "outputs": [],
      "source": [
        "# Run this cell to show the source code.\n",
        "\n",
        "!cat ai2023_s04_07_01.py"
      ]
    },
    {
      "cell_type": "code",
      "execution_count": null,
      "metadata": {
        "id": "pO3EldG-zXvc"
      },
      "outputs": [],
      "source": [
        "# Run this cell to execute the script.\n",
        "\n",
        "!python3.10 ai2023_s04_07_01.py -h"
      ]
    },
    {
      "cell_type": "code",
      "execution_count": null,
      "metadata": {
        "id": "Fo83f_aWzXve"
      },
      "outputs": [],
      "source": [
        "# Run this cell to execute the script.\n",
        "\n",
        "!python3.10 ai2023_s04_07_01.py ai2023_s04_07_00.data"
      ]
    },
    {
      "cell_type": "markdown",
      "metadata": {
        "id": "_J-KlHHQzXvi"
      },
      "source": [
        "# Practice s04-30"
      ]
    },
    {
      "cell_type": "code",
      "execution_count": null,
      "metadata": {
        "id": "ZOUH_-XdzXvj"
      },
      "outputs": [],
      "source": [
        "# Write down your code for Practice s04-30 in this cell.\n",
        "\n",
        "\n",
        "\n"
      ]
    },
    {
      "cell_type": "markdown",
      "metadata": {
        "id": "ClFHNF3vz1PZ"
      },
      "source": [
        "# Sample Python script \"ai2023_s04_07_02.py\"\n"
      ]
    },
    {
      "cell_type": "code",
      "execution_count": null,
      "metadata": {
        "id": "Q95gAgOJz1Pb"
      },
      "outputs": [],
      "source": [
        "# Run this cell to show the source code.\n",
        "\n",
        "!cat ai2023_s04_07_02.py"
      ]
    },
    {
      "cell_type": "code",
      "execution_count": null,
      "metadata": {
        "id": "cZLQ84sVz1Pd"
      },
      "outputs": [],
      "source": [
        "# Run this cell to execute the script.\n",
        "\n",
        "!python3.10 ai2023_s04_07_02.py -h"
      ]
    },
    {
      "cell_type": "code",
      "execution_count": null,
      "metadata": {
        "id": "bpqJUzrVz1Pe"
      },
      "outputs": [],
      "source": [
        "# Run this cell to execute the script.\n",
        "\n",
        "!python3.10 ai2023_s04_07_02.py -a 50 -b 150 -w 5 ai2023_s04_07_00.data"
      ]
    },
    {
      "cell_type": "markdown",
      "metadata": {
        "id": "syFmrjQJz1Pg"
      },
      "source": [
        "# Practice s04-31"
      ]
    },
    {
      "cell_type": "code",
      "execution_count": null,
      "metadata": {
        "id": "nhe2uKbUz1Pi"
      },
      "outputs": [],
      "source": [
        "# Write down your code for Practice s04-31 in this cell.\n",
        "\n",
        "\n",
        "\n"
      ]
    },
    {
      "cell_type": "markdown",
      "metadata": {
        "id": "iAVyJDe60QmL"
      },
      "source": [
        "# Sample Python script \"ai2023_s04_07_03.py\"\n"
      ]
    },
    {
      "cell_type": "code",
      "execution_count": null,
      "metadata": {
        "id": "QknGDYAR0QmN"
      },
      "outputs": [],
      "source": [
        "# Run this cell to show the source code.\n",
        "\n",
        "!cat ai2023_s04_07_03.py"
      ]
    },
    {
      "cell_type": "code",
      "execution_count": null,
      "metadata": {
        "id": "Ic0KAqBn0QmP"
      },
      "outputs": [],
      "source": [
        "# Run this cell to execute the script.\n",
        "\n",
        "!python3.10 ai2023_s04_07_03.py -h"
      ]
    },
    {
      "cell_type": "code",
      "execution_count": null,
      "metadata": {
        "id": "nfIPq4kO0QmR"
      },
      "outputs": [],
      "source": [
        "# Run this cell to execute the script.\n",
        "\n",
        "!python3.10 ai2023_s04_07_03.py -a 50 -b 150 -w 5 -o ai2023_s04_07_03.png ai2023_s04_07_00.data"
      ]
    },
    {
      "cell_type": "code",
      "source": [
        "# Find newly created file\n",
        "\n",
        "!ls -lF *.png"
      ],
      "metadata": {
        "id": "Mc_SbVxp0QmT"
      },
      "execution_count": null,
      "outputs": []
    },
    {
      "cell_type": "code",
      "source": [
        "# Check the properties of new file\n",
        "\n",
        "!file ai2023_s04_07_03.png"
      ],
      "metadata": {
        "id": "DYlkdPpo0QmV"
      },
      "execution_count": null,
      "outputs": []
    },
    {
      "cell_type": "code",
      "source": [
        "# Display PNG file\n",
        "\n",
        "# importing IPython module\n",
        "import IPython.display\n",
        "\n",
        "# displaying image\n",
        "IPython.display.Image ('ai2023_s04_07_03.png')"
      ],
      "metadata": {
        "id": "V-pOR9Ks0QmX"
      },
      "execution_count": null,
      "outputs": []
    },
    {
      "cell_type": "markdown",
      "metadata": {
        "id": "j4JtDdiL0QmX"
      },
      "source": [
        "# Practice s04-32"
      ]
    },
    {
      "cell_type": "code",
      "execution_count": null,
      "metadata": {
        "id": "yhiv3AP60QmY"
      },
      "outputs": [],
      "source": [
        "# Write down your code for Practice s04-32 in this cell.\n",
        "\n",
        "\n",
        "\n"
      ]
    },
    {
      "cell_type": "markdown",
      "metadata": {
        "id": "xX6kVBR90p7d"
      },
      "source": [
        "# Sample Python script \"ai2023_s04_07_04.py\"\n"
      ]
    },
    {
      "cell_type": "code",
      "execution_count": null,
      "metadata": {
        "id": "CRnxk7BZ0p7f"
      },
      "outputs": [],
      "source": [
        "# Run this cell to show the source code.\n",
        "\n",
        "!cat ai2023_s04_07_04.py"
      ]
    },
    {
      "cell_type": "code",
      "execution_count": null,
      "metadata": {
        "id": "BA90gexh0p7i"
      },
      "outputs": [],
      "source": [
        "# Run this cell to execute the script.\n",
        "\n",
        "!python3.10 ai2023_s04_07_04.py -h"
      ]
    },
    {
      "cell_type": "code",
      "execution_count": null,
      "metadata": {
        "id": "LtqCwfZW0p7k"
      },
      "outputs": [],
      "source": [
        "# Run this cell to execute the script.\n",
        "\n",
        "!python3.10 ai2023_s04_07_04.py -a 50 -b 150 -w 5 -o ai2023_s04_07_04.png ai2023_s04_07_00.data"
      ]
    },
    {
      "cell_type": "code",
      "source": [
        "# Find newly created file\n",
        "\n",
        "!ls -lF *.png"
      ],
      "metadata": {
        "id": "xlwvg1yM0p7l"
      },
      "execution_count": null,
      "outputs": []
    },
    {
      "cell_type": "code",
      "source": [
        "# Check the properties of new file\n",
        "\n",
        "!file ai2023_s04_07_04.png"
      ],
      "metadata": {
        "id": "Knwxa4ia0p7n"
      },
      "execution_count": null,
      "outputs": []
    },
    {
      "cell_type": "code",
      "source": [
        "# Display PNG file\n",
        "\n",
        "# importing IPython module\n",
        "import IPython.display\n",
        "\n",
        "# displaying image\n",
        "IPython.display.Image ('ai2023_s04_07_04.png')"
      ],
      "metadata": {
        "id": "SD8baLF-0p7o"
      },
      "execution_count": null,
      "outputs": []
    },
    {
      "cell_type": "markdown",
      "metadata": {
        "id": "yl_y_uLs0p7p"
      },
      "source": [
        "# Practice s04-33"
      ]
    },
    {
      "cell_type": "code",
      "execution_count": null,
      "metadata": {
        "id": "i-8A-B0o0p7r"
      },
      "outputs": [],
      "source": [
        "# Write down your code for Practice s04-33 in this cell.\n",
        "\n",
        "\n",
        "\n"
      ]
    },
    {
      "cell_type": "markdown",
      "metadata": {
        "id": "Ht-HJ4HD1J5S"
      },
      "source": [
        "# Sample Python script \"ai2023_s04_08_00.py\"\n"
      ]
    },
    {
      "cell_type": "code",
      "execution_count": null,
      "metadata": {
        "id": "o0eDVJOv1J5X"
      },
      "outputs": [],
      "source": [
        "# Run this cell to show the source code.\n",
        "\n",
        "!cat ai2023_s04_08_00.py"
      ]
    },
    {
      "cell_type": "code",
      "execution_count": null,
      "metadata": {
        "id": "VR_rIDta1J5c"
      },
      "outputs": [],
      "source": [
        "# Run this cell to execute the script.\n",
        "\n",
        "!python3.10 ai2023_s04_08_00.py -h"
      ]
    },
    {
      "cell_type": "code",
      "execution_count": null,
      "metadata": {
        "id": "60Jyoko11J5e"
      },
      "outputs": [],
      "source": [
        "# Run this cell to execute the script.\n",
        "\n",
        "!python3.10 ai2023_s04_08_00.py -b -v -o bsc5.gz https://cdsarc.cds.unistra.fr/ftp/V/50/catalog.gz"
      ]
    },
    {
      "cell_type": "code",
      "source": [
        "# Find newly created file\n",
        "\n",
        "!ls -lF *.gz"
      ],
      "metadata": {
        "id": "jczqGC151J5g"
      },
      "execution_count": null,
      "outputs": []
    },
    {
      "cell_type": "code",
      "source": [
        "# Check the properties of new file\n",
        "\n",
        "!file bsc5.gz"
      ],
      "metadata": {
        "id": "ejIekAgz1J5h"
      },
      "execution_count": null,
      "outputs": []
    },
    {
      "cell_type": "code",
      "execution_count": null,
      "metadata": {
        "id": "NU6igpew1t6b"
      },
      "outputs": [],
      "source": [
        "# Run this cell to execute the script.\n",
        "\n",
        "!python3.10 ai2023_s04_08_00.py -o bsc5_readme.txt https://cdsarc.cds.unistra.fr/ftp/V/50/ReadMe"
      ]
    },
    {
      "cell_type": "code",
      "source": [
        "# Find newly created file\n",
        "\n",
        "!ls -lF *.txt"
      ],
      "metadata": {
        "id": "1n2PuLSN1t6f"
      },
      "execution_count": null,
      "outputs": []
    },
    {
      "cell_type": "code",
      "source": [
        "# Check the properties of new file\n",
        "\n",
        "!file bsc5_readme.txt"
      ],
      "metadata": {
        "id": "tQWo1c4Q1t6j"
      },
      "execution_count": null,
      "outputs": []
    },
    {
      "cell_type": "code",
      "source": [
        "# Show the first 20 lines of file \"bsc5_readme.txt\"\n",
        "\n",
        "!head -20 bsc5_readme.txt"
      ],
      "metadata": {
        "id": "h0Lqm58S19ZV"
      },
      "execution_count": null,
      "outputs": []
    },
    {
      "cell_type": "code",
      "source": [
        "# Read the file \"bsc5_readme.txt\"\n",
        "\n",
        "!cat bsc5_readme.txt"
      ],
      "metadata": {
        "id": "TWdjnvEf2Ir8"
      },
      "execution_count": null,
      "outputs": []
    },
    {
      "cell_type": "markdown",
      "metadata": {
        "id": "cCuv8dyy1J5l"
      },
      "source": [
        "# Practice s04-34"
      ]
    },
    {
      "cell_type": "code",
      "execution_count": null,
      "metadata": {
        "id": "KKTpqKMD1J5l"
      },
      "outputs": [],
      "source": [
        "# Write down your code for Practice s04-34 in this cell.\n",
        "\n",
        "\n",
        "\n"
      ]
    },
    {
      "cell_type": "markdown",
      "metadata": {
        "id": "lrlhniQ53P5T"
      },
      "source": [
        "# Sample Python script \"ai2023_s04_08_01.py\"\n"
      ]
    },
    {
      "cell_type": "code",
      "execution_count": null,
      "metadata": {
        "id": "sQjqsOWB3P5V"
      },
      "outputs": [],
      "source": [
        "# Run this cell to show the source code.\n",
        "\n",
        "!cat ai2023_s04_08_01.py"
      ]
    },
    {
      "cell_type": "code",
      "execution_count": null,
      "metadata": {
        "id": "MsGvwC0U3P5W"
      },
      "outputs": [],
      "source": [
        "# Run this cell to execute the script.\n",
        "\n",
        "!python3.10 ai2023_s04_08_01.py -h"
      ]
    },
    {
      "cell_type": "code",
      "execution_count": null,
      "metadata": {
        "id": "a05dFB873P5Y"
      },
      "outputs": [],
      "source": [
        "# Run this cell to execute the script.\n",
        "\n",
        "!python3.10 ai2023_s04_08_01.py -m 1.5 bsc5.gz"
      ]
    },
    {
      "cell_type": "markdown",
      "metadata": {
        "id": "1d6Wu6or3P5h"
      },
      "source": [
        "# Practice s04-35"
      ]
    },
    {
      "cell_type": "code",
      "execution_count": null,
      "metadata": {
        "id": "ENr4BkFm3P5i"
      },
      "outputs": [],
      "source": [
        "# Write down your code for Practice s04-35 in this cell.\n",
        "\n",
        "\n",
        "\n"
      ]
    },
    {
      "cell_type": "markdown",
      "metadata": {
        "id": "XjqxX5DE31b-"
      },
      "source": [
        "# Sample Python script \"ai2023_s04_08_02.py\"\n"
      ]
    },
    {
      "cell_type": "code",
      "execution_count": null,
      "metadata": {
        "id": "qGFDoBqr31cB"
      },
      "outputs": [],
      "source": [
        "# Run this cell to show the source code.\n",
        "\n",
        "!cat ai2023_s04_08_02.py"
      ]
    },
    {
      "cell_type": "code",
      "execution_count": null,
      "metadata": {
        "id": "e49ix6k831cB"
      },
      "outputs": [],
      "source": [
        "# Run this cell to execute the script.\n",
        "\n",
        "!python3.10 ai2023_s04_08_02.py -h"
      ]
    },
    {
      "cell_type": "code",
      "execution_count": null,
      "metadata": {
        "id": "3tPTsXpH31cD"
      },
      "outputs": [],
      "source": [
        "# Run this cell to execute the script.\n",
        "\n",
        "!python3.10 ai2023_s04_08_02.py -m 1.5 -o ai2023_s04_08_02.png bsc5.gz"
      ]
    },
    {
      "cell_type": "code",
      "source": [
        "# Find newly created file\n",
        "\n",
        "!ls -lF *.png"
      ],
      "metadata": {
        "id": "wbESCeXs31cE"
      },
      "execution_count": null,
      "outputs": []
    },
    {
      "cell_type": "code",
      "source": [
        "# Check the properties of new file\n",
        "\n",
        "!file ai2023_s04_08_02.png"
      ],
      "metadata": {
        "id": "oHeRPQxB31cG"
      },
      "execution_count": null,
      "outputs": []
    },
    {
      "cell_type": "code",
      "source": [
        "# Display PNG file\n",
        "\n",
        "# importing IPython module\n",
        "import IPython.display\n",
        "\n",
        "# displaying image\n",
        "IPython.display.Image ('ai2023_s04_08_02.png')"
      ],
      "metadata": {
        "id": "wUUlcrJ031cH"
      },
      "execution_count": null,
      "outputs": []
    },
    {
      "cell_type": "code",
      "execution_count": null,
      "metadata": {
        "id": "iubyX9SJ4eqe"
      },
      "outputs": [],
      "source": [
        "# Run this cell to execute the script.\n",
        "\n",
        "!python3.10 ai2023_s04_08_02.py -m 3.0 -o ai2023_s04_08_02b.png bsc5.gz"
      ]
    },
    {
      "cell_type": "code",
      "source": [
        "# Find newly created file\n",
        "\n",
        "!ls -lF *.png"
      ],
      "metadata": {
        "id": "_Xod0XbM4eqh"
      },
      "execution_count": null,
      "outputs": []
    },
    {
      "cell_type": "code",
      "source": [
        "# Check the properties of new file\n",
        "\n",
        "!file ai2023_s04_08_02b.png"
      ],
      "metadata": {
        "id": "4Eb4HDBp4eql"
      },
      "execution_count": null,
      "outputs": []
    },
    {
      "cell_type": "code",
      "source": [
        "# Display PNG file\n",
        "\n",
        "# importing IPython module\n",
        "import IPython.display\n",
        "\n",
        "# displaying image\n",
        "IPython.display.Image ('ai2023_s04_08_02b.png')"
      ],
      "metadata": {
        "id": "a9IfS6GK4eqm"
      },
      "execution_count": null,
      "outputs": []
    },
    {
      "cell_type": "markdown",
      "metadata": {
        "id": "VxPRnIsG31cI"
      },
      "source": [
        "# Practice s04-36"
      ]
    },
    {
      "cell_type": "code",
      "execution_count": null,
      "metadata": {
        "id": "ohiqICra31cJ"
      },
      "outputs": [],
      "source": [
        "# Write down your code for Practice s04-36 in this cell.\n",
        "\n",
        "\n",
        "\n"
      ]
    },
    {
      "cell_type": "markdown",
      "metadata": {
        "id": "hC_uyXI84-yX"
      },
      "source": [
        "# Sample Python script \"ai2023_s04_08_03.py\"\n"
      ]
    },
    {
      "cell_type": "code",
      "execution_count": null,
      "metadata": {
        "id": "zRZ3Hav84-yZ"
      },
      "outputs": [],
      "source": [
        "# Run this cell to show the source code.\n",
        "\n",
        "!cat ai2023_s04_08_03.py"
      ]
    },
    {
      "cell_type": "code",
      "execution_count": null,
      "metadata": {
        "id": "ofb-KBKf4-ya"
      },
      "outputs": [],
      "source": [
        "# Run this cell to execute the script.\n",
        "\n",
        "!python3.10 ai2023_s04_08_03.py -h"
      ]
    },
    {
      "cell_type": "code",
      "execution_count": null,
      "metadata": {
        "id": "mNP6N1sw4-yb"
      },
      "outputs": [],
      "source": [
        "# Run this cell to execute the script.\n",
        "\n",
        "!python3.10 ai2023_s04_08_03.py -m 1.5 -o ai2023_s04_08_03.png bsc5.gz"
      ]
    },
    {
      "cell_type": "code",
      "source": [
        "# Find newly created file\n",
        "\n",
        "!ls -lF *.png"
      ],
      "metadata": {
        "id": "MVFzIrwI4-yc"
      },
      "execution_count": null,
      "outputs": []
    },
    {
      "cell_type": "code",
      "source": [
        "# Check the properties of new file\n",
        "\n",
        "!file ai2023_s04_08_03.png"
      ],
      "metadata": {
        "id": "aqGV9Iwk4-yd"
      },
      "execution_count": null,
      "outputs": []
    },
    {
      "cell_type": "code",
      "source": [
        "# Display PNG file\n",
        "\n",
        "# importing IPython module\n",
        "import IPython.display\n",
        "\n",
        "# displaying image\n",
        "IPython.display.Image ('ai2023_s04_08_03.png')"
      ],
      "metadata": {
        "id": "VSb4Vc3I4-yf"
      },
      "execution_count": null,
      "outputs": []
    },
    {
      "cell_type": "markdown",
      "metadata": {
        "id": "WmH3Af004-yk"
      },
      "source": [
        "# Practice s04-37"
      ]
    },
    {
      "cell_type": "code",
      "execution_count": null,
      "metadata": {
        "id": "0-Q9FxvO4-yl"
      },
      "outputs": [],
      "source": [
        "# Write down your code for Practice s04-37 in this cell.\n",
        "\n",
        "\n",
        "\n"
      ]
    },
    {
      "cell_type": "markdown",
      "metadata": {
        "id": "FUeFglSe5kqu"
      },
      "source": [
        "# Sample Python script \"ai2023_s04_08_04.py\"\n"
      ]
    },
    {
      "cell_type": "code",
      "execution_count": null,
      "metadata": {
        "id": "0d58fKv55kqw"
      },
      "outputs": [],
      "source": [
        "# Run this cell to show the source code.\n",
        "\n",
        "!cat ai2023_s04_08_04.py"
      ]
    },
    {
      "cell_type": "code",
      "execution_count": null,
      "metadata": {
        "id": "HwVX_IrN5kqy"
      },
      "outputs": [],
      "source": [
        "# Run this cell to execute the script.\n",
        "\n",
        "!python3.10 ai2023_s04_08_04.py -h"
      ]
    },
    {
      "cell_type": "code",
      "execution_count": null,
      "metadata": {
        "id": "jQp9vgy45kq1"
      },
      "outputs": [],
      "source": [
        "# Run this cell to execute the script.\n",
        "\n",
        "!python3.10 ai2023_s04_08_04.py -m 6.0 -o ai2023_s04_08_04.png bsc5.gz"
      ]
    },
    {
      "cell_type": "code",
      "source": [
        "# Find newly created file\n",
        "\n",
        "!ls -lF *.png"
      ],
      "metadata": {
        "id": "UKW291Sy5kq3"
      },
      "execution_count": null,
      "outputs": []
    },
    {
      "cell_type": "code",
      "source": [
        "# Check the properties of new file\n",
        "\n",
        "!file ai2023_s04_08_04.png"
      ],
      "metadata": {
        "id": "GpUlVj2v5kq6"
      },
      "execution_count": null,
      "outputs": []
    },
    {
      "cell_type": "code",
      "source": [
        "# Display PNG file\n",
        "\n",
        "# importing IPython module\n",
        "import IPython.display\n",
        "\n",
        "# displaying image\n",
        "IPython.display.Image ('ai2023_s04_08_04.png')"
      ],
      "metadata": {
        "id": "yA4o2Xgn5kq7"
      },
      "execution_count": null,
      "outputs": []
    },
    {
      "cell_type": "markdown",
      "metadata": {
        "id": "6ZMbywye5kq9"
      },
      "source": [
        "# Practice s04-38"
      ]
    },
    {
      "cell_type": "code",
      "execution_count": null,
      "metadata": {
        "id": "A_6oZjmQ5kq-"
      },
      "outputs": [],
      "source": [
        "# Write down your code for Practice s04-38 in this cell.\n",
        "\n",
        "\n",
        "\n"
      ]
    },
    {
      "cell_type": "markdown",
      "metadata": {
        "id": "lw3ou5_G6Gfe"
      },
      "source": [
        "# Sample Python script \"ai2023_s04_09_00.py\"\n"
      ]
    },
    {
      "cell_type": "code",
      "execution_count": null,
      "metadata": {
        "id": "Vd4ANWay6Gff"
      },
      "outputs": [],
      "source": [
        "# Run this cell to show the source code.\n",
        "\n",
        "!cat ai2023_s04_09_00.py"
      ]
    },
    {
      "cell_type": "code",
      "execution_count": null,
      "metadata": {
        "id": "FZa26y6b6Gfi"
      },
      "outputs": [],
      "source": [
        "# Run this cell to execute the script.\n",
        "\n",
        "!python3.10 ai2023_s04_09_00.py -h"
      ]
    },
    {
      "cell_type": "code",
      "execution_count": null,
      "metadata": {
        "id": "dLFuLcdO6Gfj"
      },
      "outputs": [],
      "source": [
        "# Run this cell to execute the script.\n",
        "\n",
        "!python3.10 ai2023_s04_09_00.py -o ai2023_s04_09_00.png"
      ]
    },
    {
      "cell_type": "code",
      "source": [
        "# Find newly created file\n",
        "\n",
        "!ls -lF *.png"
      ],
      "metadata": {
        "id": "i_p_NIzN6Gfk"
      },
      "execution_count": null,
      "outputs": []
    },
    {
      "cell_type": "code",
      "source": [
        "# Check the properties of new file\n",
        "\n",
        "!file ai2023_s04_09_00.png"
      ],
      "metadata": {
        "id": "DweE4ld46Gfl"
      },
      "execution_count": null,
      "outputs": []
    },
    {
      "cell_type": "code",
      "source": [
        "# Display PNG file\n",
        "\n",
        "# importing IPython module\n",
        "import IPython.display\n",
        "\n",
        "# displaying image\n",
        "IPython.display.Image ('ai2023_s04_09_00.png')"
      ],
      "metadata": {
        "id": "eH0z3HVv6Gfm"
      },
      "execution_count": null,
      "outputs": []
    },
    {
      "cell_type": "markdown",
      "metadata": {
        "id": "yMuaHYt46Gfm"
      },
      "source": [
        "# Practice s04-38"
      ]
    },
    {
      "cell_type": "code",
      "execution_count": null,
      "metadata": {
        "id": "eyj0kOP96Gfn"
      },
      "outputs": [],
      "source": [
        "# Write down your code for Practice s04-38 in this cell.\n",
        "\n",
        "\n",
        "\n"
      ]
    },
    {
      "cell_type": "markdown",
      "metadata": {
        "id": "Q-vz7kJH6oWn"
      },
      "source": [
        "# Sample Python script \"ai2023_s04_09_01.py\"\n"
      ]
    },
    {
      "cell_type": "code",
      "execution_count": null,
      "metadata": {
        "id": "UTVIQ4sT6oWp"
      },
      "outputs": [],
      "source": [
        "# Run this cell to show the source code.\n",
        "\n",
        "!cat ai2023_s04_09_01.py"
      ]
    },
    {
      "cell_type": "code",
      "execution_count": null,
      "metadata": {
        "id": "ZckTrXJy6oWq"
      },
      "outputs": [],
      "source": [
        "# Run this cell to execute the script.\n",
        "\n",
        "!python3.10 ai2023_s04_09_01.py -h"
      ]
    },
    {
      "cell_type": "code",
      "execution_count": null,
      "metadata": {
        "id": "Tvh9uB6D6oWq"
      },
      "outputs": [],
      "source": [
        "# Run this cell to execute the script.\n",
        "\n",
        "!python3.10 ai2023_s04_09_01.py -o ai2023_s04_09_01.mp4 -a 7 -b 5"
      ]
    },
    {
      "cell_type": "code",
      "source": [
        "# Find newly created file\n",
        "\n",
        "!ls -lF *.mp4"
      ],
      "metadata": {
        "id": "sij8Uxuh6oWr"
      },
      "execution_count": null,
      "outputs": []
    },
    {
      "cell_type": "code",
      "source": [
        "# Check the properties of new file\n",
        "\n",
        "!file ai2023_s04_09_01.mp4"
      ],
      "metadata": {
        "id": "2HAir6726oWs"
      },
      "execution_count": null,
      "outputs": []
    },
    {
      "cell_type": "code",
      "source": [
        "# Playing MP4 movie file\n",
        "\n",
        "# importing IPython.display\n",
        "import IPython.display\n",
        "\n",
        "# playing MP4 movie file\n",
        "IPython.display.Video ('ai2023_s04_09_01.mp4')"
      ],
      "metadata": {
        "id": "YEJWn7lE-cWx"
      },
      "execution_count": null,
      "outputs": []
    },
    {
      "cell_type": "code",
      "source": [
        "# Downloading MP4 movie file to local computer\n",
        "\n",
        "#\n",
        "# If previous cell fails to play MP4 movie, then download MP4 movie file to your local computer and play the movie file on your local computer.\n",
        "#\n",
        "\n",
        "# importing google.colab\n",
        "import google.colab.files\n",
        "\n",
        "# downloading MP4 movie file\n",
        "google.colab.files.download ('ai2023_s04_09_01.mp4')"
      ],
      "metadata": {
        "id": "uF3z0s346oWu"
      },
      "execution_count": null,
      "outputs": []
    },
    {
      "cell_type": "markdown",
      "metadata": {
        "id": "AaZiJ7N_6oWv"
      },
      "source": [
        "# Practice s04-39"
      ]
    },
    {
      "cell_type": "code",
      "execution_count": null,
      "metadata": {
        "id": "zIS3szgO6oWv"
      },
      "outputs": [],
      "source": [
        "# Write down your code for Practice s04-39 in this cell.\n",
        "\n",
        "\n",
        "\n"
      ]
    },
    {
      "cell_type": "markdown",
      "metadata": {
        "id": "1DX6FmM-_AG8"
      },
      "source": [
        "# Sample Python script \"ai2023_s04_09_02.py\"\n"
      ]
    },
    {
      "cell_type": "code",
      "execution_count": null,
      "metadata": {
        "id": "wyfZtzGc_AG_"
      },
      "outputs": [],
      "source": [
        "# Run this cell to show the source code.\n",
        "\n",
        "!cat ai2023_s04_09_02.py"
      ]
    },
    {
      "cell_type": "code",
      "execution_count": null,
      "metadata": {
        "id": "lh2bFSUp_AHA"
      },
      "outputs": [],
      "source": [
        "# Run this cell to execute the script.\n",
        "\n",
        "!python3.10 ai2023_s04_09_02.py -h"
      ]
    },
    {
      "cell_type": "code",
      "execution_count": null,
      "metadata": {
        "id": "SA5hjR_O_AHB"
      },
      "outputs": [],
      "source": [
        "# Run this cell to execute the script.\n",
        "\n",
        "!python3.10 ai2023_s04_09_02.py -t 2023-10-02T04:00:00"
      ]
    },
    {
      "cell_type": "markdown",
      "metadata": {
        "id": "woLGl2OE_AHI"
      },
      "source": [
        "# Practice s04-40"
      ]
    },
    {
      "cell_type": "code",
      "execution_count": null,
      "metadata": {
        "id": "lcQO7JdP_AHI"
      },
      "outputs": [],
      "source": [
        "# Write down your code for Practice s04-40 in this cell.\n",
        "\n",
        "\n",
        "\n"
      ]
    },
    {
      "cell_type": "markdown",
      "metadata": {
        "id": "wsTNGCGuAJKl"
      },
      "source": [
        "# Sample Python script \"ai2023_s04_09_03.py\"\n"
      ]
    },
    {
      "cell_type": "code",
      "execution_count": null,
      "metadata": {
        "id": "Cdj6uvBhAJKm"
      },
      "outputs": [],
      "source": [
        "# Run this cell to show the source code.\n",
        "\n",
        "!cat ai2023_s04_09_03.py"
      ]
    },
    {
      "cell_type": "code",
      "execution_count": null,
      "metadata": {
        "id": "qev2Xp3dAJKn"
      },
      "outputs": [],
      "source": [
        "# Run this cell to execute the script.\n",
        "\n",
        "!python3.10 ai2023_s04_09_03.py -h"
      ]
    },
    {
      "cell_type": "code",
      "execution_count": null,
      "metadata": {
        "id": "OKY8njWRAJKo"
      },
      "outputs": [],
      "source": [
        "# Run this cell to execute the script.\n",
        "\n",
        "!python3.10 ai2023_s04_09_03.py -t 2023-10-02T04:00:00"
      ]
    },
    {
      "cell_type": "markdown",
      "metadata": {
        "id": "OTrxBr4cAJKo"
      },
      "source": [
        "# Practice s04-41"
      ]
    },
    {
      "cell_type": "code",
      "execution_count": null,
      "metadata": {
        "id": "agKfUQTBAJKp"
      },
      "outputs": [],
      "source": [
        "# Write down your code for Practice s04-41 in this cell.\n",
        "\n",
        "\n",
        "\n"
      ]
    },
    {
      "cell_type": "markdown",
      "metadata": {
        "id": "inhWLUHjAtip"
      },
      "source": [
        "# Sample Python script \"ai2023_s04_09_04.py\"\n"
      ]
    },
    {
      "cell_type": "code",
      "execution_count": null,
      "metadata": {
        "id": "zgh-a3dAAtiq"
      },
      "outputs": [],
      "source": [
        "# Run this cell to show the source code.\n",
        "\n",
        "!cat ai2023_s04_09_04.py"
      ]
    },
    {
      "cell_type": "code",
      "execution_count": null,
      "metadata": {
        "id": "YsmViq_vAtiq"
      },
      "outputs": [],
      "source": [
        "# Run this cell to execute the script.\n",
        "\n",
        "!python3.10 ai2023_s04_09_04.py -h"
      ]
    },
    {
      "cell_type": "code",
      "execution_count": null,
      "metadata": {
        "id": "WGDQzs1sAtir"
      },
      "outputs": [],
      "source": [
        "# Run this cell to execute the script.\n",
        "\n",
        "!python3.10 ai2023_s04_09_04.py -t 2023-10-02T04:00:00 -o ai2023_s04_09_04.png"
      ]
    },
    {
      "cell_type": "code",
      "source": [
        "# Find newly created file\n",
        "\n",
        "!ls -lF *.png"
      ],
      "metadata": {
        "id": "I4Utbph4Atis"
      },
      "execution_count": null,
      "outputs": []
    },
    {
      "cell_type": "code",
      "source": [
        "# Check the properties of new file\n",
        "\n",
        "!file ai2023_s04_09_04.png"
      ],
      "metadata": {
        "id": "hRC9ZmPfAtis"
      },
      "execution_count": null,
      "outputs": []
    },
    {
      "cell_type": "code",
      "source": [
        "# Display PNG file\n",
        "\n",
        "# importing IPython module\n",
        "import IPython.display\n",
        "\n",
        "# displaying image\n",
        "IPython.display.Image ('ai2023_s04_09_04.png')"
      ],
      "metadata": {
        "id": "hIKdx0EkAtit"
      },
      "execution_count": null,
      "outputs": []
    },
    {
      "cell_type": "markdown",
      "metadata": {
        "id": "6X1gW7b8Atiu"
      },
      "source": [
        "# Practice s04-42"
      ]
    },
    {
      "cell_type": "code",
      "execution_count": null,
      "metadata": {
        "id": "1sqwsENcAtiu"
      },
      "outputs": [],
      "source": [
        "# Write down your code for Practice s04-42 in this cell.\n",
        "\n",
        "\n",
        "\n"
      ]
    },
    {
      "cell_type": "markdown",
      "metadata": {
        "id": "-M0eATvuBMNw"
      },
      "source": [
        "# Sample Python script \"ai2023_s04_09_05.py\"\n"
      ]
    },
    {
      "cell_type": "code",
      "execution_count": null,
      "metadata": {
        "id": "CIL6p_PkBMNy"
      },
      "outputs": [],
      "source": [
        "# Run this cell to show the source code.\n",
        "\n",
        "!cat ai2023_s04_09_05.py"
      ]
    },
    {
      "cell_type": "code",
      "execution_count": null,
      "metadata": {
        "id": "YRae5UxeBMNz"
      },
      "outputs": [],
      "source": [
        "# Run this cell to execute the script.\n",
        "\n",
        "!python3.10 ai2023_s04_09_05.py -h"
      ]
    },
    {
      "cell_type": "code",
      "execution_count": null,
      "metadata": {
        "id": "_6tla0BABMN1"
      },
      "outputs": [],
      "source": [
        "# Run this cell to execute the script.\n",
        "\n",
        "!python3.10 ai2023_s04_09_05.py -t 2023-10-01T00:00:00 -s 8.0 -n 900 -o ai2023_s04_09_05.mp4"
      ]
    },
    {
      "cell_type": "code",
      "source": [
        "# Find newly created file\n",
        "\n",
        "!ls -lF *.mp4"
      ],
      "metadata": {
        "id": "-4i8u0e8BMN2"
      },
      "execution_count": null,
      "outputs": []
    },
    {
      "cell_type": "code",
      "source": [
        "# Check the properties of new file\n",
        "\n",
        "!file ai2023_s04_09_05.mp4"
      ],
      "metadata": {
        "id": "II6yZRrmBMN3"
      },
      "execution_count": null,
      "outputs": []
    },
    {
      "cell_type": "code",
      "source": [
        "# Playing MP4 movie file\n",
        "\n",
        "# importing IPython.display\n",
        "import IPython.display\n",
        "\n",
        "# playing MP4 movie file\n",
        "IPython.display.Video ('ai2023_s04_09_05.mp4')"
      ],
      "metadata": {
        "id": "KCt5jRNNBifG"
      },
      "execution_count": null,
      "outputs": []
    },
    {
      "cell_type": "code",
      "source": [
        "# Downloading MP4 movie file to local computer\n",
        "\n",
        "#\n",
        "# If previous cell fails to play MP4 movie, then download MP4 movie file to your local computer and play the movie file on your local computer.\n",
        "#\n",
        "\n",
        "# importing google.colab\n",
        "import google.colab.files\n",
        "\n",
        "# downloading MP4 movie file\n",
        "google.colab.files.download ('ai2023_s04_09_05.mp4')"
      ],
      "metadata": {
        "id": "cXsYqxQtBifK"
      },
      "execution_count": null,
      "outputs": []
    },
    {
      "cell_type": "markdown",
      "metadata": {
        "id": "Pqc6EWLFBMN5"
      },
      "source": [
        "# Practice s04-43"
      ]
    },
    {
      "cell_type": "code",
      "execution_count": null,
      "metadata": {
        "id": "3p4kaJx1BMN6"
      },
      "outputs": [],
      "source": [
        "# Write down your code for Practice s04-43 in this cell.\n",
        "\n",
        "\n",
        "\n"
      ]
    },
    {
      "cell_type": "markdown",
      "metadata": {
        "id": "ZLa51qVcIep9"
      },
      "source": [
        "# Sample Python script \"ai2023_s04_10_00.py\"\n"
      ]
    },
    {
      "cell_type": "code",
      "execution_count": null,
      "metadata": {
        "id": "T-jZPGiyIeqB"
      },
      "outputs": [],
      "source": [
        "# Run this cell to show the source code.\n",
        "\n",
        "!cat ai2023_s04_10_00.py"
      ]
    },
    {
      "cell_type": "code",
      "execution_count": null,
      "metadata": {
        "id": "i_6Xkr3xIeqD"
      },
      "outputs": [],
      "source": [
        "# Run this cell to execute the script.\n",
        "\n",
        "!python3.10 ai2023_s04_10_00.py -h"
      ]
    },
    {
      "cell_type": "code",
      "execution_count": null,
      "metadata": {
        "id": "pmrieUHKIeqF"
      },
      "outputs": [],
      "source": [
        "# Run this cell to execute the script.\n",
        "\n",
        "!python3.10 ai2023_s04_10_00.py -o ai2023_s04_10_00.png -m 1000 -s 300 -n 10000"
      ]
    },
    {
      "cell_type": "code",
      "source": [
        "# Find newly created file\n",
        "\n",
        "!ls -lF *.png"
      ],
      "metadata": {
        "id": "s0dQYmgmIeqH"
      },
      "execution_count": null,
      "outputs": []
    },
    {
      "cell_type": "code",
      "source": [
        "# Check the properties of new file\n",
        "\n",
        "!file ai2023_s04_10_00.png"
      ],
      "metadata": {
        "id": "EJOQiUU6IeqJ"
      },
      "execution_count": null,
      "outputs": []
    },
    {
      "cell_type": "code",
      "source": [
        "# Display PNG file\n",
        "\n",
        "# importing IPython module\n",
        "import IPython.display\n",
        "\n",
        "# displaying image\n",
        "IPython.display.Image ('ai2023_s04_10_00.png')"
      ],
      "metadata": {
        "id": "fqd_dzlvIeqL"
      },
      "execution_count": null,
      "outputs": []
    },
    {
      "cell_type": "markdown",
      "metadata": {
        "id": "4tLbuxs-IeqM"
      },
      "source": [
        "# Practice s04-44"
      ]
    },
    {
      "cell_type": "code",
      "execution_count": null,
      "metadata": {
        "id": "HYC_QuhKIeqN"
      },
      "outputs": [],
      "source": [
        "# Write down your code for Practice s04-44 in this cell.\n",
        "\n",
        "\n",
        "\n"
      ]
    },
    {
      "cell_type": "markdown",
      "metadata": {
        "id": "aYbYks78KD3F"
      },
      "source": [
        "# Sample Python script \"ai2023_s04_10_01.py\"\n"
      ]
    },
    {
      "cell_type": "code",
      "execution_count": null,
      "metadata": {
        "id": "lbyqh7zfKD3H"
      },
      "outputs": [],
      "source": [
        "# Run this cell to show the source code.\n",
        "\n",
        "!cat ai2023_s04_10_01.py"
      ]
    },
    {
      "cell_type": "code",
      "execution_count": null,
      "metadata": {
        "id": "9uJxXBuyKD3L"
      },
      "outputs": [],
      "source": [
        "# Run this cell to execute the script.\n",
        "\n",
        "!python3.10 ai2023_s04_10_01.py -h"
      ]
    },
    {
      "cell_type": "code",
      "execution_count": null,
      "metadata": {
        "id": "SVvimAaYKD3L"
      },
      "outputs": [],
      "source": [
        "# Run this cell to execute the script.\n",
        "\n",
        "!python3.10 ai2023_s04_10_01.py -o ai2023_s04_10_01.png"
      ]
    },
    {
      "cell_type": "code",
      "source": [
        "# Find newly created file\n",
        "\n",
        "!ls -lF *.png"
      ],
      "metadata": {
        "id": "a0YqbqnbKD3N"
      },
      "execution_count": null,
      "outputs": []
    },
    {
      "cell_type": "code",
      "source": [
        "# Check the properties of new file\n",
        "\n",
        "!file ai2023_s04_10_01.png"
      ],
      "metadata": {
        "id": "rnr1_mXsKD3P"
      },
      "execution_count": null,
      "outputs": []
    },
    {
      "cell_type": "code",
      "source": [
        "# Display PNG file\n",
        "\n",
        "# importing IPython module\n",
        "import IPython.display\n",
        "\n",
        "# displaying image\n",
        "IPython.display.Image ('ai2023_s04_10_01.png')"
      ],
      "metadata": {
        "id": "fA3heGKPKD3Q"
      },
      "execution_count": null,
      "outputs": []
    },
    {
      "cell_type": "markdown",
      "metadata": {
        "id": "f62--8cUKD3S"
      },
      "source": [
        "# Practice s04-45"
      ]
    },
    {
      "cell_type": "code",
      "execution_count": null,
      "metadata": {
        "id": "TfLbft-LKD3T"
      },
      "outputs": [],
      "source": [
        "# Write down your code for Practice s04-45 in this cell.\n",
        "\n",
        "\n",
        "\n"
      ]
    },
    {
      "cell_type": "markdown",
      "metadata": {
        "id": "g_euWXH9Kf6_"
      },
      "source": [
        "# Sample Python script \"ai2023_s04_11_00.py\"\n"
      ]
    },
    {
      "cell_type": "code",
      "execution_count": null,
      "metadata": {
        "id": "eshrPByhKf7C"
      },
      "outputs": [],
      "source": [
        "# Run this cell to show the source code.\n",
        "\n",
        "!cat ai2023_s04_11_00.py"
      ]
    },
    {
      "cell_type": "code",
      "execution_count": null,
      "metadata": {
        "id": "7EHzvc8tKf7D"
      },
      "outputs": [],
      "source": [
        "# Run this cell to execute the script.\n",
        "\n",
        "!python3.10 ai2023_s04_11_00.py -h"
      ]
    },
    {
      "cell_type": "code",
      "execution_count": null,
      "metadata": {
        "id": "G-5f_KoHKf7E"
      },
      "outputs": [],
      "source": [
        "# Run this cell to execute the script.\n",
        "\n",
        "!python3.10 ai2023_s04_11_00.py -t 2023-10-01T00:00:00 -a 50 -n 600 -s 12"
      ]
    },
    {
      "cell_type": "code",
      "source": [
        "# Find newly created file\n",
        "\n",
        "!ls -lF solsys_3d1"
      ],
      "metadata": {
        "id": "-SNJJgsqKf7H"
      },
      "execution_count": null,
      "outputs": []
    },
    {
      "cell_type": "code",
      "source": [
        "# Check the properties of new file\n",
        "\n",
        "!file solsys_3d1/000000.png"
      ],
      "metadata": {
        "id": "fhuoMP98Kf7K"
      },
      "execution_count": null,
      "outputs": []
    },
    {
      "cell_type": "code",
      "source": [
        "# Display PNG file\n",
        "\n",
        "# importing IPython module\n",
        "import IPython.display\n",
        "\n",
        "# displaying image\n",
        "IPython.display.Image ('solsys_3d1/000000.png')"
      ],
      "metadata": {
        "id": "u3NMV__ZKf7O"
      },
      "execution_count": null,
      "outputs": []
    },
    {
      "cell_type": "code",
      "source": [
        "# Making MP4 movie file\n",
        "\n",
        "!ffmpeg -f image2 -start_number 0 -framerate 30 -i solsys_3d1/%06d.png -an -vcodec libx264 -pix_fmt yuv420p -threads 4 solsys_3d1.mp4"
      ],
      "metadata": {
        "id": "X5iHfcsCLGWC"
      },
      "execution_count": null,
      "outputs": []
    },
    {
      "cell_type": "code",
      "source": [
        "# Find newly created file\n",
        "\n",
        "!ls -lF *.mp4"
      ],
      "metadata": {
        "id": "-eN6RtZ7LUAK"
      },
      "execution_count": null,
      "outputs": []
    },
    {
      "cell_type": "code",
      "source": [
        "# Check the property of newly created file\n",
        "\n",
        "!file solsys_3d1.mp4"
      ],
      "metadata": {
        "id": "N2PyuQXcLXuX"
      },
      "execution_count": null,
      "outputs": []
    },
    {
      "cell_type": "code",
      "source": [
        "# Playing MP4 movie file\n",
        "\n",
        "# importing IPython.display\n",
        "import IPython.display\n",
        "\n",
        "# playing MP4 movie file\n",
        "IPython.display.Video ('solsys_3d1.mp4')"
      ],
      "metadata": {
        "id": "9sCDIbndK-K-"
      },
      "execution_count": null,
      "outputs": []
    },
    {
      "cell_type": "code",
      "source": [
        "# Downloading MP4 movie file to local computer\n",
        "\n",
        "#\n",
        "# If previous cell fails to play MP4 movie, then download MP4 movie file to your local computer and play the movie file on your local computer.\n",
        "#\n",
        "\n",
        "# importing google.colab\n",
        "import google.colab.files\n",
        "\n",
        "# downloading MP4 movie file\n",
        "google.colab.files.download ('solsys_3d1.mp4')"
      ],
      "metadata": {
        "id": "tXkX73OFK-LB"
      },
      "execution_count": null,
      "outputs": []
    },
    {
      "cell_type": "markdown",
      "metadata": {
        "id": "l4mu0G96Kf7P"
      },
      "source": [
        "# Practice s04-46"
      ]
    },
    {
      "cell_type": "code",
      "execution_count": null,
      "metadata": {
        "id": "RB_65xUiKf7R"
      },
      "outputs": [],
      "source": [
        "# Write down your code for Practice s04-46 in this cell.\n",
        "\n",
        "\n",
        "\n"
      ]
    },
    {
      "cell_type": "markdown",
      "metadata": {
        "id": "p7wefX3JLhv0"
      },
      "source": [
        "# Sample Python script \"ai2023_s04_11_01.py\"\n"
      ]
    },
    {
      "cell_type": "code",
      "execution_count": null,
      "metadata": {
        "id": "Z6WJjRWYLhv2"
      },
      "outputs": [],
      "source": [
        "# Run this cell to show the source code.\n",
        "\n",
        "!cat ai2023_s04_11_01.py"
      ]
    },
    {
      "cell_type": "code",
      "execution_count": null,
      "metadata": {
        "id": "n3_oUQLPLhv4"
      },
      "outputs": [],
      "source": [
        "# Run this cell to execute the script.\n",
        "\n",
        "!python3.10 ai2023_s04_11_01.py -h"
      ]
    },
    {
      "cell_type": "code",
      "execution_count": null,
      "metadata": {
        "id": "eVoBQ8CCLhv7"
      },
      "outputs": [],
      "source": [
        "# Run this cell to execute the script.\n",
        "\n",
        "!python3.10 ai2023_s04_11_01.py -t 2023-10-01T00:00:00 -a 50 -n 600 -s 12"
      ]
    },
    {
      "cell_type": "code",
      "source": [
        "# Find newly created file\n",
        "\n",
        "!ls -lF solsys_3d2"
      ],
      "metadata": {
        "id": "8KZHypI9Lhv-"
      },
      "execution_count": null,
      "outputs": []
    },
    {
      "cell_type": "code",
      "source": [
        "# Check the properties of new file\n",
        "\n",
        "!file solsys_3d2/000000.png"
      ],
      "metadata": {
        "id": "0ZC44JuELhv_"
      },
      "execution_count": null,
      "outputs": []
    },
    {
      "cell_type": "code",
      "source": [
        "# Display PNG file\n",
        "\n",
        "# importing IPython module\n",
        "import IPython.display\n",
        "\n",
        "# displaying image\n",
        "IPython.display.Image ('solsys_3d2/000000.png')"
      ],
      "metadata": {
        "id": "3miFrp4-LhwB"
      },
      "execution_count": null,
      "outputs": []
    },
    {
      "cell_type": "code",
      "source": [
        "# Making MP4 movie file\n",
        "\n",
        "!ffmpeg -f image2 -start_number 0 -framerate 30 -i solsys_3d2/%06d.png -an -vcodec libx264 -pix_fmt yuv420p -threads 4 solsys_3d2.mp4"
      ],
      "metadata": {
        "id": "FXXWovcmLhwC"
      },
      "execution_count": null,
      "outputs": []
    },
    {
      "cell_type": "code",
      "source": [
        "# Find newly created file\n",
        "\n",
        "!ls -lF *.mp4"
      ],
      "metadata": {
        "id": "ANul1uZeLhwE"
      },
      "execution_count": null,
      "outputs": []
    },
    {
      "cell_type": "code",
      "source": [
        "# Check the property of newly created file\n",
        "\n",
        "!file solsys_3d2.mp4"
      ],
      "metadata": {
        "id": "sw6CrjPyLhwF"
      },
      "execution_count": null,
      "outputs": []
    },
    {
      "cell_type": "code",
      "source": [
        "# Playing MP4 movie file\n",
        "\n",
        "# importing IPython.display\n",
        "import IPython.display\n",
        "\n",
        "# playing MP4 movie file\n",
        "IPython.display.Video ('solsys_3d2.mp4')"
      ],
      "metadata": {
        "id": "z4ymA_SjLhwG"
      },
      "execution_count": null,
      "outputs": []
    },
    {
      "cell_type": "code",
      "source": [
        "# Downloading MP4 movie file to local computer\n",
        "\n",
        "#\n",
        "# If previous cell fails to play MP4 movie, then download MP4 movie file to your local computer and play the movie file on your local computer.\n",
        "#\n",
        "\n",
        "# importing google.colab\n",
        "import google.colab.files\n",
        "\n",
        "# downloading MP4 movie file\n",
        "google.colab.files.download ('solsys_3d2.mp4')"
      ],
      "metadata": {
        "id": "44_M49f_LhwH"
      },
      "execution_count": null,
      "outputs": []
    },
    {
      "cell_type": "markdown",
      "metadata": {
        "id": "BK8Y804RLhwJ"
      },
      "source": [
        "# Practice s04-47"
      ]
    },
    {
      "cell_type": "code",
      "execution_count": null,
      "metadata": {
        "id": "Tljr3ilQLhwL"
      },
      "outputs": [],
      "source": [
        "# Write down your code for Practice s04-47 in this cell.\n",
        "\n",
        "\n",
        "\n"
      ]
    },
    {
      "cell_type": "markdown",
      "metadata": {
        "id": "mPpuqHIOL2rP"
      },
      "source": [
        "# Sample Python script \"ai2023_s04_11_02.py\"\n"
      ]
    },
    {
      "cell_type": "code",
      "execution_count": null,
      "metadata": {
        "id": "wY0HCTB-L2rT"
      },
      "outputs": [],
      "source": [
        "# Run this cell to show the source code.\n",
        "\n",
        "!cat ai2023_s04_11_02.py"
      ]
    },
    {
      "cell_type": "code",
      "execution_count": null,
      "metadata": {
        "id": "Nf3I_qL-L2rV"
      },
      "outputs": [],
      "source": [
        "# Run this cell to execute the script.\n",
        "\n",
        "!python3.10 ai2023_s04_11_02.py -h"
      ]
    },
    {
      "cell_type": "code",
      "execution_count": null,
      "metadata": {
        "id": "AfFCDIKnL2rW"
      },
      "outputs": [],
      "source": [
        "# Run this cell to execute the script.\n",
        "\n",
        "!python3.10 ai2023_s04_11_02.py -t 2023-10-01T00:00:00 -a 3000 -n 3000 -s 12"
      ]
    },
    {
      "cell_type": "code",
      "source": [
        "# Find newly created file\n",
        "\n",
        "!ls -lF solsys_3d3"
      ],
      "metadata": {
        "id": "Qco4r8SYL2rY"
      },
      "execution_count": null,
      "outputs": []
    },
    {
      "cell_type": "code",
      "source": [
        "# Check the properties of new file\n",
        "\n",
        "!file solsys_3d3/000000.png"
      ],
      "metadata": {
        "id": "v7_KegXgL2ra"
      },
      "execution_count": null,
      "outputs": []
    },
    {
      "cell_type": "code",
      "source": [
        "# Display PNG file\n",
        "\n",
        "# importing IPython module\n",
        "import IPython.display\n",
        "\n",
        "# displaying image\n",
        "IPython.display.Image ('solsys_3d3/000000.png')"
      ],
      "metadata": {
        "id": "QfqcqK0sL2rb"
      },
      "execution_count": null,
      "outputs": []
    },
    {
      "cell_type": "code",
      "source": [
        "# Making MP4 movie file\n",
        "\n",
        "!ffmpeg -f image2 -start_number 0 -framerate 30 -i solsys_3d3/%06d.png -an -vcodec libx264 -pix_fmt yuv420p -threads 4 solsys_3d3.mp4"
      ],
      "metadata": {
        "id": "m_n2BGdnL2rc"
      },
      "execution_count": null,
      "outputs": []
    },
    {
      "cell_type": "code",
      "source": [
        "# Find newly created file\n",
        "\n",
        "!ls -lF *.mp4"
      ],
      "metadata": {
        "id": "lBPNfo04L2rd"
      },
      "execution_count": null,
      "outputs": []
    },
    {
      "cell_type": "code",
      "source": [
        "# Check the property of newly created file\n",
        "\n",
        "!file solsys_3d3.mp4"
      ],
      "metadata": {
        "id": "5EhHbk_rL2re"
      },
      "execution_count": null,
      "outputs": []
    },
    {
      "cell_type": "code",
      "source": [
        "# Playing MP4 movie file\n",
        "\n",
        "# importing IPython.display\n",
        "import IPython.display\n",
        "\n",
        "# playing MP4 movie file\n",
        "IPython.display.Video ('solsys_3d3.mp4')"
      ],
      "metadata": {
        "id": "WAU_AIC3L2rf"
      },
      "execution_count": null,
      "outputs": []
    },
    {
      "cell_type": "code",
      "source": [
        "# Downloading MP4 movie file to local computer\n",
        "\n",
        "#\n",
        "# If previous cell fails to play MP4 movie, then download MP4 movie file to your local computer and play the movie file on your local computer.\n",
        "#\n",
        "\n",
        "# importing google.colab\n",
        "import google.colab.files\n",
        "\n",
        "# downloading MP4 movie file\n",
        "google.colab.files.download ('solsys_3d3.mp4')"
      ],
      "metadata": {
        "id": "8Si_coYJL2rg"
      },
      "execution_count": null,
      "outputs": []
    },
    {
      "cell_type": "markdown",
      "metadata": {
        "id": "f03hBS2RL2ri"
      },
      "source": [
        "# Practice s04-48"
      ]
    },
    {
      "cell_type": "code",
      "execution_count": null,
      "metadata": {
        "id": "_NYd5oulL2rj"
      },
      "outputs": [],
      "source": [
        "# Write down your code for Practice s04-48 in this cell.\n",
        "\n",
        "\n",
        "\n"
      ]
    },
    {
      "cell_type": "markdown",
      "source": [
        "# End of this notebook"
      ],
      "metadata": {
        "id": "UxxdW-jWMMLE"
      }
    }
  ]
}