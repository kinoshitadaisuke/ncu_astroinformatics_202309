{
  "nbformat": 4,
  "nbformat_minor": 0,
  "metadata": {
    "colab": {
      "provenance": []
    },
    "kernelspec": {
      "name": "python3",
      "display_name": "Python 3"
    },
    "language_info": {
      "name": "python"
    }
  },
  "cells": [
    {
      "cell_type": "markdown",
      "metadata": {
        "id": "X9F8FTGZzaSe"
      },
      "source": [
        "# AS6095 \"Astroinformatics\"\n",
        "\n",
        "## for academic year 2023 (from Sep/2023 to Jan/2024)\n",
        "\n",
        "## instructor: Kinoshita Daisuke\n",
        "\n",
        "## Course web page: https://s3b.astro.ncu.edu.tw/ai_202309/\n",
        "\n",
        "## GitHub repository: https://github.com/kinoshitadaisuke/ncu_astroinformatics_202309\n"
      ]
    },
    {
      "cell_type": "markdown",
      "metadata": {
        "id": "MKQ0pdfJCZ1I"
      },
      "source": [
        "# Session 08 \"Blackbody radiation\"\n",
        "\n",
        "## 06 November 2023\n"
      ]
    },
    {
      "cell_type": "markdown",
      "metadata": {
        "id": "FVmonUCL197r"
      },
      "source": [
        "# Downloading a set of sample Python scripts and changing directory"
      ]
    },
    {
      "cell_type": "code",
      "execution_count": null,
      "metadata": {
        "id": "E-J1KLJAzmx5"
      },
      "outputs": [],
      "source": [
        "# Run this cell to download a set of sample Python scripts for this course.\n",
        "\n",
        "!git clone https://github.com/kinoshitadaisuke/ncu_astroinformatics_202309.git"
      ]
    },
    {
      "cell_type": "code",
      "execution_count": null,
      "metadata": {
        "id": "NU4Otc0i2jfu"
      },
      "outputs": [],
      "source": [
        "# Run this cell to check whether you have a directory named \"ncu_astroinformatics_202309\".\n",
        "\n",
        "!ls"
      ]
    },
    {
      "cell_type": "code",
      "execution_count": null,
      "metadata": {
        "id": "faZRhZv821VY"
      },
      "outputs": [],
      "source": [
        "# Run this cell to move to the directory \"ncu_astroinformatics_202309\".\n",
        "\n",
        "%cd ncu_astroinformatics_202309"
      ]
    },
    {
      "cell_type": "code",
      "execution_count": null,
      "metadata": {
        "id": "hUjHlUZk3Bov"
      },
      "outputs": [],
      "source": [
        "# Run this cell to show currently working directory.\n",
        "\n",
        "!pwd"
      ]
    },
    {
      "cell_type": "code",
      "execution_count": null,
      "metadata": {
        "id": "RXAGJHeX3IsD"
      },
      "outputs": [],
      "source": [
        "# Run this cell to show files and directories.\n",
        "\n",
        "!ls -lF"
      ]
    },
    {
      "cell_type": "code",
      "execution_count": null,
      "metadata": {
        "id": "xR0V8I0k3O3k"
      },
      "outputs": [],
      "source": [
        "# Run this cell to move to the directory \"s08\".\n",
        "\n",
        "%cd s08"
      ]
    },
    {
      "cell_type": "code",
      "execution_count": null,
      "metadata": {
        "id": "KbvQ_3Su3UKL"
      },
      "outputs": [],
      "source": [
        "# Run this cell to show currently working directory.\n",
        "\n",
        "!pwd"
      ]
    },
    {
      "cell_type": "code",
      "execution_count": null,
      "metadata": {
        "id": "n9AAgI4d3c6n"
      },
      "outputs": [],
      "source": [
        "# Run this cell to show files and directories.\n",
        "\n",
        "!ls -lF"
      ]
    },
    {
      "cell_type": "markdown",
      "source": [
        "# Installation of Astropy"
      ],
      "metadata": {
        "id": "jVlw3LHHcBFa"
      }
    },
    {
      "cell_type": "code",
      "source": [
        "# Install Astropy if you do not have it.\n",
        "\n",
        "!apt install python3-astropy"
      ],
      "metadata": {
        "id": "tsoYTACbb4dj"
      },
      "execution_count": null,
      "outputs": []
    },
    {
      "cell_type": "markdown",
      "source": [
        "# Script \"ai2023_s08_00_00.py\""
      ],
      "metadata": {
        "id": "ruyvFomX3tHE"
      }
    },
    {
      "cell_type": "code",
      "source": [
        "# Run this cell to show the source code of the script.\n",
        "\n",
        "!cat ai2023_s08_00_00.py"
      ],
      "metadata": {
        "id": "rHlPblWq3vhQ"
      },
      "execution_count": null,
      "outputs": []
    },
    {
      "cell_type": "code",
      "source": [
        "# Run this cell to execute the script.\n",
        "\n",
        "!python3.10 ai2023_s08_00_00.py"
      ],
      "metadata": {
        "id": "RgQNUsGP3z2b"
      },
      "execution_count": null,
      "outputs": []
    },
    {
      "cell_type": "markdown",
      "source": [
        "# Practice s08-01"
      ],
      "metadata": {
        "id": "TOKbMshT365T"
      }
    },
    {
      "cell_type": "code",
      "source": [
        "# Write down your code in this cell.\n",
        "\n",
        "\n",
        "\n",
        "\n"
      ],
      "metadata": {
        "id": "64-pHjEt34XC"
      },
      "execution_count": null,
      "outputs": []
    },
    {
      "cell_type": "markdown",
      "source": [
        "# Script \"ai2023_s08_00_01.py\""
      ],
      "metadata": {
        "id": "AO1khbZL4Hji"
      }
    },
    {
      "cell_type": "code",
      "source": [
        "# Run this cell to show the source code of the script.\n",
        "\n",
        "!cat ai2023_s08_00_01.py"
      ],
      "metadata": {
        "id": "bGeQypYD4Hjj"
      },
      "execution_count": null,
      "outputs": []
    },
    {
      "cell_type": "code",
      "source": [
        "# Run this cell to execute the script.\n",
        "\n",
        "!python3.10 ai2023_s08_00_01.py"
      ],
      "metadata": {
        "id": "KsVw1CVG4Hjk"
      },
      "execution_count": null,
      "outputs": []
    },
    {
      "cell_type": "markdown",
      "source": [
        "# Practice s08-02"
      ],
      "metadata": {
        "id": "DxmBdcGS4Hjl"
      }
    },
    {
      "cell_type": "code",
      "source": [
        "# Write down your code in this cell.\n",
        "\n",
        "\n",
        "\n",
        "\n"
      ],
      "metadata": {
        "id": "mAqVrn-p4Hjm"
      },
      "execution_count": null,
      "outputs": []
    },
    {
      "cell_type": "markdown",
      "source": [
        "# Script \"ai2023_s08_00_02.py\""
      ],
      "metadata": {
        "id": "5-NSoVUl4L_S"
      }
    },
    {
      "cell_type": "code",
      "source": [
        "# Run this cell to show the source code of the script.\n",
        "\n",
        "!cat ai2023_s08_00_02.py"
      ],
      "metadata": {
        "id": "sAZC5AbD4L_W"
      },
      "execution_count": null,
      "outputs": []
    },
    {
      "cell_type": "code",
      "source": [
        "# Run this cell to execute the script.\n",
        "\n",
        "!python3.10 ai2023_s08_00_02.py"
      ],
      "metadata": {
        "id": "AvLT8C8X4L_X"
      },
      "execution_count": null,
      "outputs": []
    },
    {
      "cell_type": "markdown",
      "source": [
        "# Practice s08-03"
      ],
      "metadata": {
        "id": "YRtneRlV4L_Y"
      }
    },
    {
      "cell_type": "code",
      "source": [
        "# Write down your code in this cell.\n",
        "\n",
        "\n",
        "\n",
        "\n"
      ],
      "metadata": {
        "id": "WCSyhYyS4L_Y"
      },
      "execution_count": null,
      "outputs": []
    },
    {
      "cell_type": "markdown",
      "source": [
        "# Script \"ai2023_s08_00_03.py\""
      ],
      "metadata": {
        "id": "-GhSAhFZ4SkT"
      }
    },
    {
      "cell_type": "code",
      "source": [
        "# Run this cell to show the source code of the script.\n",
        "\n",
        "!cat ai2023_s08_00_03.py"
      ],
      "metadata": {
        "id": "7IdsxYfz4SkU"
      },
      "execution_count": null,
      "outputs": []
    },
    {
      "cell_type": "code",
      "source": [
        "# Run this cell to execute the script.\n",
        "\n",
        "!python3.10 ai2023_s08_00_03.py"
      ],
      "metadata": {
        "id": "I_gn3sLh4SkW"
      },
      "execution_count": null,
      "outputs": []
    },
    {
      "cell_type": "code",
      "source": [
        "# Run this cell to display PNG image.\n",
        "\n",
        "# importing IPython.display module\n",
        "import IPython.display\n",
        "\n",
        "# displaying PNG file\n",
        "IPython.display.Image ('ai2023_s08_00_03.png')"
      ],
      "metadata": {
        "id": "wp4Hfr0b4dLH"
      },
      "execution_count": null,
      "outputs": []
    },
    {
      "cell_type": "markdown",
      "source": [
        "# Script \"ai2023_s08_00_04.py\""
      ],
      "metadata": {
        "id": "pCnr88Gj4Tm6"
      }
    },
    {
      "cell_type": "code",
      "source": [
        "# Run this cell to show the source code of the script.\n",
        "\n",
        "!cat ai2023_s08_00_04.py"
      ],
      "metadata": {
        "id": "mDeLyirs4Tm8"
      },
      "execution_count": null,
      "outputs": []
    },
    {
      "cell_type": "code",
      "source": [
        "# Run this cell to execute the script.\n",
        "\n",
        "!python3.10 ai2023_s08_00_04.py"
      ],
      "metadata": {
        "id": "DpD640CA4Tm8"
      },
      "execution_count": null,
      "outputs": []
    },
    {
      "cell_type": "code",
      "source": [
        "# Run this cell to display PNG image.\n",
        "\n",
        "# importing IPython.display module\n",
        "import IPython.display\n",
        "\n",
        "# displaying PNG file\n",
        "IPython.display.Image ('ai2023_s08_00_04.png')"
      ],
      "metadata": {
        "id": "q2kvIf5U4r53"
      },
      "execution_count": null,
      "outputs": []
    },
    {
      "cell_type": "markdown",
      "source": [
        "# Practice s08-04"
      ],
      "metadata": {
        "id": "l7QSL5PW4SkW"
      }
    },
    {
      "cell_type": "code",
      "source": [
        "# Write down your code in this cell.\n",
        "\n",
        "\n",
        "\n",
        "\n"
      ],
      "metadata": {
        "id": "D8xeexsC4SkY"
      },
      "execution_count": null,
      "outputs": []
    },
    {
      "cell_type": "markdown",
      "source": [
        "# Script \"ai2023_s08_00_05.py\""
      ],
      "metadata": {
        "id": "_tVNRPkD48js"
      }
    },
    {
      "cell_type": "code",
      "source": [
        "# Run this cell to show the source code of the script.\n",
        "\n",
        "!cat ai2023_s08_00_05.py"
      ],
      "metadata": {
        "id": "cjcBQF5V48jy"
      },
      "execution_count": null,
      "outputs": []
    },
    {
      "cell_type": "code",
      "source": [
        "# Run this cell to execute the script.\n",
        "\n",
        "!python3.10 ai2023_s08_00_05.py"
      ],
      "metadata": {
        "id": "lLlVARx948j1"
      },
      "execution_count": null,
      "outputs": []
    },
    {
      "cell_type": "code",
      "source": [
        "# Run this cell to display PNG image.\n",
        "\n",
        "# importing IPython.display module\n",
        "import IPython.display\n",
        "\n",
        "# displaying PNG file\n",
        "IPython.display.Image ('ai2023_s08_00_05.png')"
      ],
      "metadata": {
        "id": "TEyqORWI48j2"
      },
      "execution_count": null,
      "outputs": []
    },
    {
      "cell_type": "markdown",
      "source": [
        "# Practice s08-05"
      ],
      "metadata": {
        "id": "69D0aMtX48j4"
      }
    },
    {
      "cell_type": "code",
      "source": [
        "# Write down your code in this cell.\n",
        "\n",
        "\n",
        "\n",
        "\n"
      ],
      "metadata": {
        "id": "Da-Oh6gZ48j5"
      },
      "execution_count": null,
      "outputs": []
    },
    {
      "cell_type": "markdown",
      "source": [
        "# Script \"ai2023_s08_00_06.py\""
      ],
      "metadata": {
        "id": "zilhQmIc5D0T"
      }
    },
    {
      "cell_type": "code",
      "source": [
        "# Run this cell to show the source code of the script.\n",
        "\n",
        "!cat ai2023_s08_00_06.py"
      ],
      "metadata": {
        "id": "Lvm0AeQE5D0T"
      },
      "execution_count": null,
      "outputs": []
    },
    {
      "cell_type": "code",
      "source": [
        "# Run this cell to execute the script.\n",
        "\n",
        "!python3.10 ai2023_s08_00_06.py"
      ],
      "metadata": {
        "id": "4alMbmFO5D0U"
      },
      "execution_count": null,
      "outputs": []
    },
    {
      "cell_type": "markdown",
      "source": [
        "# Practice s08-06"
      ],
      "metadata": {
        "id": "Sq2U0iVO5D0X"
      }
    },
    {
      "cell_type": "code",
      "source": [
        "# Write down your code in this cell.\n",
        "\n",
        "\n",
        "\n",
        "\n"
      ],
      "metadata": {
        "id": "dB-w_yGI5D0X"
      },
      "execution_count": null,
      "outputs": []
    },
    {
      "cell_type": "markdown",
      "source": [
        "# Script \"ai2023_s08_00_07.py\""
      ],
      "metadata": {
        "id": "LZdAyyL75MFV"
      }
    },
    {
      "cell_type": "code",
      "source": [
        "# Run this cell to show the source code of the script.\n",
        "\n",
        "!cat ai2023_s08_00_07.py"
      ],
      "metadata": {
        "id": "nx15tcqC5MFX"
      },
      "execution_count": null,
      "outputs": []
    },
    {
      "cell_type": "code",
      "source": [
        "# Run this cell to execute the script.\n",
        "\n",
        "!python3.10 ai2023_s08_00_07.py"
      ],
      "metadata": {
        "id": "u3H4xq4V5MFZ"
      },
      "execution_count": null,
      "outputs": []
    },
    {
      "cell_type": "markdown",
      "source": [
        "# Practice s08-07"
      ],
      "metadata": {
        "id": "qFtpuY425MFa"
      }
    },
    {
      "cell_type": "code",
      "source": [
        "# Write down your code in this cell.\n",
        "\n",
        "\n",
        "\n",
        "\n"
      ],
      "metadata": {
        "id": "icsZFnbn5MFb"
      },
      "execution_count": null,
      "outputs": []
    },
    {
      "cell_type": "markdown",
      "source": [
        "# Script \"ai2023_s08_00_08.py\""
      ],
      "metadata": {
        "id": "iZD3_pZG5aWc"
      }
    },
    {
      "cell_type": "code",
      "source": [
        "# Run this cell to show the source code of the script.\n",
        "\n",
        "!cat ai2023_s08_00_08.py"
      ],
      "metadata": {
        "id": "PlwYSIvx5aWi"
      },
      "execution_count": null,
      "outputs": []
    },
    {
      "cell_type": "code",
      "source": [
        "# Run this cell to execute the script.\n",
        "\n",
        "!python3.10 ai2023_s08_00_08.py"
      ],
      "metadata": {
        "id": "CramInTE5aWl"
      },
      "execution_count": null,
      "outputs": []
    },
    {
      "cell_type": "markdown",
      "source": [
        "# Practice s08-08"
      ],
      "metadata": {
        "id": "pLtNvOLl5aWm"
      }
    },
    {
      "cell_type": "code",
      "source": [
        "# Write down your code in this cell.\n",
        "\n",
        "\n",
        "\n",
        "\n"
      ],
      "metadata": {
        "id": "rQRYwj2U5aWm"
      },
      "execution_count": null,
      "outputs": []
    },
    {
      "cell_type": "markdown",
      "source": [
        "# Script \"ai2023_s08_00_09.py\""
      ],
      "metadata": {
        "id": "zRdJyrfy5jIO"
      }
    },
    {
      "cell_type": "code",
      "source": [
        "# Run this cell to show the source code of the script.\n",
        "\n",
        "!cat ai2023_s08_00_09.py"
      ],
      "metadata": {
        "id": "PaGubceN5jIS"
      },
      "execution_count": null,
      "outputs": []
    },
    {
      "cell_type": "code",
      "source": [
        "# Run this cell to execute the script.\n",
        "\n",
        "!python3.10 ai2023_s08_00_09.py"
      ],
      "metadata": {
        "id": "LzBHiJ8c5jIT"
      },
      "execution_count": null,
      "outputs": []
    },
    {
      "cell_type": "code",
      "source": [
        "# Run this cell to display PNG image.\n",
        "\n",
        "# importing IPython.display module\n",
        "import IPython.display\n",
        "\n",
        "# displaying PNG file\n",
        "IPython.display.Image ('ai2023_s08_00_09.png')"
      ],
      "metadata": {
        "id": "-GXy-jZp5jIU"
      },
      "execution_count": null,
      "outputs": []
    },
    {
      "cell_type": "markdown",
      "source": [
        "# Practice s08-09"
      ],
      "metadata": {
        "id": "BKILBuCB5jIW"
      }
    },
    {
      "cell_type": "code",
      "source": [
        "# Write down your code in this cell.\n",
        "\n",
        "\n",
        "\n",
        "\n"
      ],
      "metadata": {
        "id": "lM8PVe0s5jIW"
      },
      "execution_count": null,
      "outputs": []
    },
    {
      "cell_type": "markdown",
      "source": [
        "# Script \"ai2023_s08_00_10.py\""
      ],
      "metadata": {
        "id": "nPo7k6Db5q0b"
      }
    },
    {
      "cell_type": "code",
      "source": [
        "# Run this cell to show the source code of the script.\n",
        "\n",
        "!cat ai2023_s08_00_10.py"
      ],
      "metadata": {
        "id": "fQte0_SA5q0h"
      },
      "execution_count": null,
      "outputs": []
    },
    {
      "cell_type": "code",
      "source": [
        "# Run this cell to execute the script.\n",
        "\n",
        "!python3.10 ai2023_s08_00_10.py"
      ],
      "metadata": {
        "id": "kSpufnz55q0i"
      },
      "execution_count": null,
      "outputs": []
    },
    {
      "cell_type": "code",
      "source": [
        "# Run this cell to display PNG image.\n",
        "\n",
        "# importing IPython.display module\n",
        "import IPython.display\n",
        "\n",
        "# displaying PNG file\n",
        "IPython.display.Image ('ai2023_s08_00_10.png')"
      ],
      "metadata": {
        "id": "sjTcTfFi5q0j"
      },
      "execution_count": null,
      "outputs": []
    },
    {
      "cell_type": "markdown",
      "source": [
        "# Practice s08-10"
      ],
      "metadata": {
        "id": "0Sv9tw495q0k"
      }
    },
    {
      "cell_type": "code",
      "source": [
        "# Write down your code in this cell.\n",
        "\n",
        "\n",
        "\n",
        "\n"
      ],
      "metadata": {
        "id": "T4Ed5VaF5q0k"
      },
      "execution_count": null,
      "outputs": []
    },
    {
      "cell_type": "markdown",
      "source": [
        "# Script \"ai2023_s08_00_11.py\""
      ],
      "metadata": {
        "id": "3y17eVT45y5c"
      }
    },
    {
      "cell_type": "code",
      "source": [
        "# Run this cell to show the source code of the script.\n",
        "\n",
        "!cat ai2023_s08_00_11.py"
      ],
      "metadata": {
        "id": "mNsvoGNH5y5d"
      },
      "execution_count": null,
      "outputs": []
    },
    {
      "cell_type": "code",
      "source": [
        "# Run this cell to execute the script.\n",
        "\n",
        "!python3.10 ai2023_s08_00_11.py"
      ],
      "metadata": {
        "id": "IZZx5K9-5y5e"
      },
      "execution_count": null,
      "outputs": []
    },
    {
      "cell_type": "code",
      "source": [
        "# Run this cell to display PNG image.\n",
        "\n",
        "# importing IPython.display module\n",
        "import IPython.display\n",
        "\n",
        "# displaying PNG file\n",
        "IPython.display.Image ('ai2023_s08_00_11.png')"
      ],
      "metadata": {
        "id": "Unv5aUxh5y5f"
      },
      "execution_count": null,
      "outputs": []
    },
    {
      "cell_type": "markdown",
      "source": [
        "# Practice s08-11"
      ],
      "metadata": {
        "id": "A2YSqPHh5y5f"
      }
    },
    {
      "cell_type": "code",
      "source": [
        "# Write down your code in this cell.\n",
        "\n",
        "\n",
        "\n",
        "\n"
      ],
      "metadata": {
        "id": "RWnmglov5y5g"
      },
      "execution_count": null,
      "outputs": []
    },
    {
      "cell_type": "markdown",
      "source": [
        "# Script \"ai2023_s08_00_12.py\""
      ],
      "metadata": {
        "id": "7b368L3o574W"
      }
    },
    {
      "cell_type": "code",
      "source": [
        "# Run this cell to show the source code of the script.\n",
        "\n",
        "!cat ai2023_s08_00_12.py"
      ],
      "metadata": {
        "id": "9bHyt0Hz574e"
      },
      "execution_count": null,
      "outputs": []
    },
    {
      "cell_type": "code",
      "source": [
        "# Run this cell to execute the script.\n",
        "\n",
        "!python3.10 ai2023_s08_00_12.py"
      ],
      "metadata": {
        "id": "tLuxWVHJ574g"
      },
      "execution_count": null,
      "outputs": []
    },
    {
      "cell_type": "code",
      "source": [
        "# Run this cell to display PNG image.\n",
        "\n",
        "# importing IPython.display module\n",
        "import IPython.display\n",
        "\n",
        "# displaying PNG file\n",
        "IPython.display.Image ('ai2023_s08_00_12.png')"
      ],
      "metadata": {
        "id": "bDWPlkBJ574h"
      },
      "execution_count": null,
      "outputs": []
    },
    {
      "cell_type": "markdown",
      "source": [
        "# Practice s08-12"
      ],
      "metadata": {
        "id": "bT5qB9HV574i"
      }
    },
    {
      "cell_type": "code",
      "source": [
        "# Write down your code in this cell.\n",
        "\n",
        "\n",
        "\n",
        "\n"
      ],
      "metadata": {
        "id": "n3peayRO574k"
      },
      "execution_count": null,
      "outputs": []
    },
    {
      "cell_type": "markdown",
      "source": [
        "# Script \"ai2023_s08_00_13.py\""
      ],
      "metadata": {
        "id": "LIodXCl46DRY"
      }
    },
    {
      "cell_type": "code",
      "source": [
        "# Run this cell to show the source code of the script.\n",
        "\n",
        "!cat ai2023_s08_00_13.py"
      ],
      "metadata": {
        "id": "FoX7IdIR6DRb"
      },
      "execution_count": null,
      "outputs": []
    },
    {
      "cell_type": "code",
      "source": [
        "# Run this cell to execute the script.\n",
        "\n",
        "!python3.10 ai2023_s08_00_13.py"
      ],
      "metadata": {
        "id": "3nCt8H2X6DRd"
      },
      "execution_count": null,
      "outputs": []
    },
    {
      "cell_type": "code",
      "source": [
        "# Run this cell to display PNG image.\n",
        "\n",
        "# importing IPython.display module\n",
        "import IPython.display\n",
        "\n",
        "# displaying PNG file\n",
        "IPython.display.Image ('ai2023_s08_00_13.png')"
      ],
      "metadata": {
        "id": "oTVyWS4C6DRf"
      },
      "execution_count": null,
      "outputs": []
    },
    {
      "cell_type": "markdown",
      "source": [
        "# Practice s08-13"
      ],
      "metadata": {
        "id": "tErobqg06DRh"
      }
    },
    {
      "cell_type": "code",
      "source": [
        "# Write down your code in this cell.\n",
        "\n",
        "\n",
        "\n",
        "\n"
      ],
      "metadata": {
        "id": "n05YUV7r6DRk"
      },
      "execution_count": null,
      "outputs": []
    },
    {
      "cell_type": "markdown",
      "source": [
        "# Script \"ai2023_s08_00_14.py\""
      ],
      "metadata": {
        "id": "HBcb0kxR6Jzy"
      }
    },
    {
      "cell_type": "code",
      "source": [
        "# Run this cell to show the source code of the script.\n",
        "\n",
        "!cat ai2023_s08_00_14.py"
      ],
      "metadata": {
        "id": "ZvSSEeHZ6Jz5"
      },
      "execution_count": null,
      "outputs": []
    },
    {
      "cell_type": "code",
      "source": [
        "# Run this cell to execute the script.\n",
        "\n",
        "!python3.10 ai2023_s08_00_14.py"
      ],
      "metadata": {
        "id": "nGf0OZpy6Jz7"
      },
      "execution_count": null,
      "outputs": []
    },
    {
      "cell_type": "code",
      "source": [
        "# Run this cell to display PNG image.\n",
        "\n",
        "# importing IPython.display module\n",
        "import IPython.display\n",
        "\n",
        "# displaying PNG file\n",
        "IPython.display.Image ('ai2023_s08_00_14.png')"
      ],
      "metadata": {
        "id": "D-QOw6ab6Jz8"
      },
      "execution_count": null,
      "outputs": []
    },
    {
      "cell_type": "markdown",
      "source": [
        "# Practice s08-14"
      ],
      "metadata": {
        "id": "gkYIpgyl6Jz9"
      }
    },
    {
      "cell_type": "code",
      "source": [
        "# Write down your code in this cell.\n",
        "\n",
        "\n",
        "\n",
        "\n"
      ],
      "metadata": {
        "id": "EgtS0k7U6Jz-"
      },
      "execution_count": null,
      "outputs": []
    },
    {
      "cell_type": "markdown",
      "source": [
        "# Script \"ai2023_s08_00_15.py\""
      ],
      "metadata": {
        "id": "8uV-RkJX6Pq1"
      }
    },
    {
      "cell_type": "code",
      "source": [
        "# Run this cell to show the source code of the script.\n",
        "\n",
        "!cat ai2023_s08_00_15.py"
      ],
      "metadata": {
        "id": "UXza8fxA6Pq3"
      },
      "execution_count": null,
      "outputs": []
    },
    {
      "cell_type": "code",
      "source": [
        "# Run this cell to execute the script.\n",
        "\n",
        "!python3.10 ai2023_s08_00_15.py"
      ],
      "metadata": {
        "id": "TJB_aUq56Pq3"
      },
      "execution_count": null,
      "outputs": []
    },
    {
      "cell_type": "code",
      "source": [
        "# Run this cell to display PNG image.\n",
        "\n",
        "# importing IPython.display module\n",
        "import IPython.display\n",
        "\n",
        "# displaying PNG file\n",
        "IPython.display.Image ('ai2023_s08_00_15.png')"
      ],
      "metadata": {
        "id": "mniqJ0mr6Pq4"
      },
      "execution_count": null,
      "outputs": []
    },
    {
      "cell_type": "markdown",
      "source": [
        "# Practice s08-15"
      ],
      "metadata": {
        "id": "_-CPrwaj6Pq4"
      }
    },
    {
      "cell_type": "code",
      "source": [
        "# Write down your code in this cell.\n",
        "\n",
        "\n",
        "\n",
        "\n"
      ],
      "metadata": {
        "id": "EwwrtX6i6Pq6"
      },
      "execution_count": null,
      "outputs": []
    },
    {
      "cell_type": "markdown",
      "source": [
        "# Script \"ai2023_s08_00_16.py\""
      ],
      "metadata": {
        "id": "J6NfHRNi6V6-"
      }
    },
    {
      "cell_type": "code",
      "source": [
        "# Run this cell to show the source code of the script.\n",
        "\n",
        "!cat ai2023_s08_00_16.py"
      ],
      "metadata": {
        "id": "eTCaB_6g6V7F"
      },
      "execution_count": null,
      "outputs": []
    },
    {
      "cell_type": "code",
      "source": [
        "# Run this cell to execute the script.\n",
        "\n",
        "!python3.10 ai2023_s08_00_16.py"
      ],
      "metadata": {
        "id": "a9agoNyy6V7I"
      },
      "execution_count": null,
      "outputs": []
    },
    {
      "cell_type": "code",
      "source": [
        "# Run this cell to display PNG image.\n",
        "\n",
        "# importing IPython.display module\n",
        "import IPython.display\n",
        "\n",
        "# displaying PNG file\n",
        "IPython.display.Image ('ai2023_s08_00_16.png')"
      ],
      "metadata": {
        "id": "c54EE-HJ6V7I"
      },
      "execution_count": null,
      "outputs": []
    },
    {
      "cell_type": "markdown",
      "source": [
        "# Practice s08-16"
      ],
      "metadata": {
        "id": "zh28cxEt6V7K"
      }
    },
    {
      "cell_type": "code",
      "source": [
        "# Write down your code in this cell.\n",
        "\n",
        "\n",
        "\n",
        "\n"
      ],
      "metadata": {
        "id": "sdWC34qP6V7K"
      },
      "execution_count": null,
      "outputs": []
    },
    {
      "cell_type": "markdown",
      "source": [
        "# Script \"ai2023_s08_00_17.py\""
      ],
      "metadata": {
        "id": "cgTJ28aY6ctv"
      }
    },
    {
      "cell_type": "code",
      "source": [
        "# Run this cell to show the source code of the script.\n",
        "\n",
        "!cat ai2023_s08_00_17.py"
      ],
      "metadata": {
        "id": "WnTryRw86cty"
      },
      "execution_count": null,
      "outputs": []
    },
    {
      "cell_type": "code",
      "source": [
        "# Run this cell to execute the script.\n",
        "\n",
        "!python3.10 ai2023_s08_00_17.py"
      ],
      "metadata": {
        "id": "MzS4Bkpg6ctz"
      },
      "execution_count": null,
      "outputs": []
    },
    {
      "cell_type": "code",
      "source": [
        "# Run this cell to display PNG image.\n",
        "\n",
        "# importing IPython.display module\n",
        "import IPython.display\n",
        "\n",
        "# displaying PNG file\n",
        "IPython.display.Image ('ai2023_s08_00_17.png')"
      ],
      "metadata": {
        "id": "UdOZLbdO6ctz"
      },
      "execution_count": null,
      "outputs": []
    },
    {
      "cell_type": "markdown",
      "source": [
        "# Practice s08-17"
      ],
      "metadata": {
        "id": "Q78q7Rrq6ct0"
      }
    },
    {
      "cell_type": "code",
      "source": [
        "# Write down your code in this cell.\n",
        "\n",
        "\n",
        "\n",
        "\n"
      ],
      "metadata": {
        "id": "gcjdhaAP6ct3"
      },
      "execution_count": null,
      "outputs": []
    },
    {
      "cell_type": "markdown",
      "source": [
        "# Script \"ai2023_s08_01_00.py\""
      ],
      "metadata": {
        "id": "vZFMlshZ6jsB"
      }
    },
    {
      "cell_type": "code",
      "source": [
        "# Run this cell to show the source code of the script.\n",
        "\n",
        "!cat ai2023_s08_01_00.py"
      ],
      "metadata": {
        "id": "aCZp7LWz6jsC"
      },
      "execution_count": null,
      "outputs": []
    },
    {
      "cell_type": "code",
      "source": [
        "# Run this cell to execute the script.\n",
        "\n",
        "!python3.10 ai2023_s08_01_00.py"
      ],
      "metadata": {
        "id": "K6tGi69G6jsD"
      },
      "execution_count": null,
      "outputs": []
    },
    {
      "cell_type": "markdown",
      "source": [
        "# Practice s08-18"
      ],
      "metadata": {
        "id": "BjluL8-g6jsF"
      }
    },
    {
      "cell_type": "code",
      "source": [
        "# Write down your code in this cell.\n",
        "\n",
        "\n",
        "\n",
        "\n"
      ],
      "metadata": {
        "id": "x0haPlrd6jsF"
      },
      "execution_count": null,
      "outputs": []
    },
    {
      "cell_type": "markdown",
      "source": [
        "# Script \"ai2023_s08_01_01.py\""
      ],
      "metadata": {
        "id": "Ylk9dNZ86uV9"
      }
    },
    {
      "cell_type": "code",
      "source": [
        "# Run this cell to show the source code of the script.\n",
        "\n",
        "!cat ai2023_s08_01_01.py"
      ],
      "metadata": {
        "id": "FiQ4z29Z6uV_"
      },
      "execution_count": null,
      "outputs": []
    },
    {
      "cell_type": "code",
      "source": [
        "# Run this cell to execute the script.\n",
        "\n",
        "!python3.10 ai2023_s08_01_01.py"
      ],
      "metadata": {
        "id": "kK1tIunW6uWB"
      },
      "execution_count": null,
      "outputs": []
    },
    {
      "cell_type": "code",
      "source": [
        "# Run this cell to display PNG image.\n",
        "\n",
        "# importing IPython.display module\n",
        "import IPython.display\n",
        "\n",
        "# displaying PNG file\n",
        "IPython.display.Image ('ai2023_s08_01_01.png')"
      ],
      "metadata": {
        "id": "AEyc5NmX6z06"
      },
      "execution_count": null,
      "outputs": []
    },
    {
      "cell_type": "markdown",
      "source": [
        "# Practice s08-19"
      ],
      "metadata": {
        "id": "M1mffVoR6uWB"
      }
    },
    {
      "cell_type": "code",
      "source": [
        "# Write down your code in this cell.\n",
        "\n",
        "\n",
        "\n",
        "\n"
      ],
      "metadata": {
        "id": "2qx1we6y6uWC"
      },
      "execution_count": null,
      "outputs": []
    },
    {
      "cell_type": "markdown",
      "source": [
        "# Script \"ai2023_s08_01_02.py\""
      ],
      "metadata": {
        "id": "Aj96FLqR7PH2"
      }
    },
    {
      "cell_type": "code",
      "source": [
        "# Run this cell to show the source code of the script.\n",
        "\n",
        "!cat ai2023_s08_01_02.py"
      ],
      "metadata": {
        "id": "3vqZWFFc7PH7"
      },
      "execution_count": null,
      "outputs": []
    },
    {
      "cell_type": "code",
      "source": [
        "# Run this cell to execute the script.\n",
        "\n",
        "!python3.10 ai2023_s08_01_02.py"
      ],
      "metadata": {
        "id": "EtH9YvPo7PH9"
      },
      "execution_count": null,
      "outputs": []
    },
    {
      "cell_type": "code",
      "source": [
        "# Run this cell to display PNG image.\n",
        "\n",
        "# importing IPython.display module\n",
        "import IPython.display\n",
        "\n",
        "# displaying PNG file\n",
        "IPython.display.Image ('ai2023_s08_01_02.png')"
      ],
      "metadata": {
        "id": "YOxRqUmG7PH-"
      },
      "execution_count": null,
      "outputs": []
    },
    {
      "cell_type": "markdown",
      "source": [
        "# Practice s08-20"
      ],
      "metadata": {
        "id": "x5UJpPxP7PH_"
      }
    },
    {
      "cell_type": "code",
      "source": [
        "# Write down your code in this cell.\n",
        "\n",
        "\n",
        "\n",
        "\n"
      ],
      "metadata": {
        "id": "zU2LM9sv7PIA"
      },
      "execution_count": null,
      "outputs": []
    },
    {
      "cell_type": "markdown",
      "source": [
        "# Script \"ai2023_s08_01_03.py\""
      ],
      "metadata": {
        "id": "f8qtbgyG7U3c"
      }
    },
    {
      "cell_type": "code",
      "source": [
        "# Run this cell to show the source code of the script.\n",
        "\n",
        "!cat ai2023_s08_01_03.py"
      ],
      "metadata": {
        "id": "Y_a7u1UI7U3j"
      },
      "execution_count": null,
      "outputs": []
    },
    {
      "cell_type": "code",
      "source": [
        "# Run this cell to execute the script.\n",
        "\n",
        "!python3.10 ai2023_s08_01_03.py"
      ],
      "metadata": {
        "id": "kPBC_W_q7U3k"
      },
      "execution_count": null,
      "outputs": []
    },
    {
      "cell_type": "code",
      "source": [
        "# Run this cell to display PNG image.\n",
        "\n",
        "# importing IPython.display module\n",
        "import IPython.display\n",
        "\n",
        "# displaying PNG file\n",
        "IPython.display.Image ('ai2023_s08_01_03.png')"
      ],
      "metadata": {
        "id": "lIl1Q8au7U3l"
      },
      "execution_count": null,
      "outputs": []
    },
    {
      "cell_type": "markdown",
      "source": [
        "# Practice s08-21"
      ],
      "metadata": {
        "id": "s-8m9bVM7U3m"
      }
    },
    {
      "cell_type": "code",
      "source": [
        "# Write down your code in this cell.\n",
        "\n",
        "\n",
        "\n",
        "\n"
      ],
      "metadata": {
        "id": "vECojl7m7U3m"
      },
      "execution_count": null,
      "outputs": []
    },
    {
      "cell_type": "markdown",
      "source": [
        "# Script \"ai2023_s08_01_04.py\""
      ],
      "metadata": {
        "id": "1hVdd0J_7dwQ"
      }
    },
    {
      "cell_type": "code",
      "source": [
        "# Run this cell to show the source code of the script.\n",
        "\n",
        "!cat ai2023_s08_01_04.py"
      ],
      "metadata": {
        "id": "DiLguvgj7dwS"
      },
      "execution_count": null,
      "outputs": []
    },
    {
      "cell_type": "code",
      "source": [
        "# Run this cell to execute the script.\n",
        "\n",
        "!python3.10 ai2023_s08_01_04.py"
      ],
      "metadata": {
        "id": "Gn4Za7Xf7dwT"
      },
      "execution_count": null,
      "outputs": []
    },
    {
      "cell_type": "markdown",
      "source": [
        "# Practice s08-22"
      ],
      "metadata": {
        "id": "B1KSj8Zi7dwW"
      }
    },
    {
      "cell_type": "code",
      "source": [
        "# Write down your code in this cell.\n",
        "\n",
        "\n",
        "\n",
        "\n"
      ],
      "metadata": {
        "id": "WTQa9V6q7dwY"
      },
      "execution_count": null,
      "outputs": []
    },
    {
      "cell_type": "markdown",
      "source": [
        "# Script \"ai2023_s08_01_05.py\""
      ],
      "metadata": {
        "id": "LCkiSPW87l9K"
      }
    },
    {
      "cell_type": "code",
      "source": [
        "# Run this cell to show the source code of the script.\n",
        "\n",
        "!cat ai2023_s08_01_05.py"
      ],
      "metadata": {
        "id": "dEwmWROO7l9O"
      },
      "execution_count": null,
      "outputs": []
    },
    {
      "cell_type": "code",
      "source": [
        "# Run this cell to execute the script.\n",
        "\n",
        "!python3.10 ai2023_s08_01_05.py"
      ],
      "metadata": {
        "id": "SlYYCYv57l9R"
      },
      "execution_count": null,
      "outputs": []
    },
    {
      "cell_type": "code",
      "source": [
        "# Run this cell to display PNG image.\n",
        "\n",
        "# importing IPython.display module\n",
        "import IPython.display\n",
        "\n",
        "# displaying PNG file\n",
        "IPython.display.Image ('ai2023_s08_01_05.png')"
      ],
      "metadata": {
        "id": "l4e3HXHK7l9S"
      },
      "execution_count": null,
      "outputs": []
    },
    {
      "cell_type": "markdown",
      "source": [
        "# Practice s08-23"
      ],
      "metadata": {
        "id": "3rrUnoCW7l9T"
      }
    },
    {
      "cell_type": "code",
      "source": [
        "# Write down your code in this cell.\n",
        "\n",
        "\n",
        "\n",
        "\n"
      ],
      "metadata": {
        "id": "UFskFG8O7l9V"
      },
      "execution_count": null,
      "outputs": []
    },
    {
      "cell_type": "markdown",
      "source": [
        "# Script \"ai2023_s08_01_06.py\""
      ],
      "metadata": {
        "id": "emH7I9Tw7sNN"
      }
    },
    {
      "cell_type": "code",
      "source": [
        "# Run this cell to show the source code of the script.\n",
        "\n",
        "!cat ai2023_s08_01_06.py"
      ],
      "metadata": {
        "id": "HSR2SBHN7sNO"
      },
      "execution_count": null,
      "outputs": []
    },
    {
      "cell_type": "code",
      "source": [
        "# Run this cell to execute the script.\n",
        "\n",
        "!python3.10 ai2023_s08_01_06.py"
      ],
      "metadata": {
        "id": "B5xWN_u07sNO"
      },
      "execution_count": null,
      "outputs": []
    },
    {
      "cell_type": "markdown",
      "source": [
        "# Practice s08-24"
      ],
      "metadata": {
        "id": "zraZ-sNG7sNP"
      }
    },
    {
      "cell_type": "code",
      "source": [
        "# Write down your code in this cell.\n",
        "\n",
        "\n",
        "\n",
        "\n"
      ],
      "metadata": {
        "id": "H79ZrmBl7sNQ"
      },
      "execution_count": null,
      "outputs": []
    },
    {
      "cell_type": "markdown",
      "source": [
        "# Script \"ai2023_s08_01_07.py\""
      ],
      "metadata": {
        "id": "ySLkOaXA7zSv"
      }
    },
    {
      "cell_type": "code",
      "source": [
        "# Run this cell to show the source code of the script.\n",
        "\n",
        "!cat ai2023_s08_01_07.py"
      ],
      "metadata": {
        "id": "RnbtuhI87zS0"
      },
      "execution_count": null,
      "outputs": []
    },
    {
      "cell_type": "code",
      "source": [
        "# Run this cell to execute the script.\n",
        "\n",
        "!python3.10 ai2023_s08_01_07.py"
      ],
      "metadata": {
        "id": "qP2uDBio7zS2"
      },
      "execution_count": null,
      "outputs": []
    },
    {
      "cell_type": "code",
      "source": [
        "# Run this cell to display PNG image.\n",
        "\n",
        "# importing IPython.display module\n",
        "import IPython.display\n",
        "\n",
        "# displaying PNG file\n",
        "IPython.display.Image ('ai2023_s08_01_07.png')"
      ],
      "metadata": {
        "id": "234LGFx57zS2"
      },
      "execution_count": null,
      "outputs": []
    },
    {
      "cell_type": "markdown",
      "source": [
        "# Practice s08-25"
      ],
      "metadata": {
        "id": "02MDf9_27zS3"
      }
    },
    {
      "cell_type": "code",
      "source": [
        "# Write down your code in this cell.\n",
        "\n",
        "\n",
        "\n",
        "\n"
      ],
      "metadata": {
        "id": "nbWD4yQK7zS4"
      },
      "execution_count": null,
      "outputs": []
    },
    {
      "cell_type": "markdown",
      "source": [
        "# Script \"ai2023_s08_01_08.py\""
      ],
      "metadata": {
        "id": "KIDrSfsW9BQa"
      }
    },
    {
      "cell_type": "code",
      "source": [
        "# Run this cell to show the source code of the script.\n",
        "\n",
        "!cat ai2023_s08_01_08.py"
      ],
      "metadata": {
        "id": "W9XHmD5s9BQg"
      },
      "execution_count": null,
      "outputs": []
    },
    {
      "cell_type": "code",
      "source": [
        "# Run this cell to execute the script.\n",
        "\n",
        "!python3.10 ai2023_s08_01_08.py"
      ],
      "metadata": {
        "id": "X4unweQN9BQh"
      },
      "execution_count": null,
      "outputs": []
    },
    {
      "cell_type": "code",
      "source": [
        "# Run this cell to display PNG image.\n",
        "\n",
        "# importing IPython.display module\n",
        "import IPython.display\n",
        "\n",
        "# displaying PNG file\n",
        "IPython.display.Image ('ai2023_s08_01_08.png')"
      ],
      "metadata": {
        "id": "jLYBCfwC9BQi"
      },
      "execution_count": null,
      "outputs": []
    },
    {
      "cell_type": "markdown",
      "source": [
        "# Practice s08-26"
      ],
      "metadata": {
        "id": "F-6-A9ZR9BQj"
      }
    },
    {
      "cell_type": "code",
      "source": [
        "# Write down your code in this cell.\n",
        "\n",
        "\n",
        "\n",
        "\n"
      ],
      "metadata": {
        "id": "nPCbBmuP9BQk"
      },
      "execution_count": null,
      "outputs": []
    },
    {
      "cell_type": "markdown",
      "source": [
        "# Script \"ai2023_s08_01_09.py\""
      ],
      "metadata": {
        "id": "JssT-SXb9HTo"
      }
    },
    {
      "cell_type": "code",
      "source": [
        "# Run this cell to show the source code of the script.\n",
        "\n",
        "!cat ai2023_s08_01_09.py"
      ],
      "metadata": {
        "id": "JVGFwXSs9HTp"
      },
      "execution_count": null,
      "outputs": []
    },
    {
      "cell_type": "code",
      "source": [
        "# Run this cell to execute the script.\n",
        "\n",
        "!python3.10 ai2023_s08_01_09.py"
      ],
      "metadata": {
        "id": "Sh4PxCAH9HTp"
      },
      "execution_count": null,
      "outputs": []
    },
    {
      "cell_type": "code",
      "source": [
        "# Run this cell to display PNG image.\n",
        "\n",
        "# importing IPython.display module\n",
        "import IPython.display\n",
        "\n",
        "# displaying PNG file\n",
        "IPython.display.Image ('ai2023_s08_01_09.png')"
      ],
      "metadata": {
        "id": "UwPT_wQK9HTq"
      },
      "execution_count": null,
      "outputs": []
    },
    {
      "cell_type": "markdown",
      "source": [
        "# Practice s08-27"
      ],
      "metadata": {
        "id": "ZShbGdFy9HTq"
      }
    },
    {
      "cell_type": "code",
      "source": [
        "# Write down your code in this cell.\n",
        "\n",
        "\n",
        "\n",
        "\n"
      ],
      "metadata": {
        "id": "B53JlSiH9HTr"
      },
      "execution_count": null,
      "outputs": []
    },
    {
      "cell_type": "markdown",
      "source": [
        "# Script \"ai2023_s08_01_10.py\""
      ],
      "metadata": {
        "id": "XNuFvlAY9Op3"
      }
    },
    {
      "cell_type": "code",
      "source": [
        "# Run this cell to show the source code of the script.\n",
        "\n",
        "!cat ai2023_s08_01_10.py"
      ],
      "metadata": {
        "id": "AThs0OMk9Op3"
      },
      "execution_count": null,
      "outputs": []
    },
    {
      "cell_type": "code",
      "source": [
        "# Run this cell to execute the script.\n",
        "\n",
        "!python3.10 ai2023_s08_01_10.py"
      ],
      "metadata": {
        "id": "WOJhz86V9Op3"
      },
      "execution_count": null,
      "outputs": []
    },
    {
      "cell_type": "markdown",
      "source": [
        "# Practice s08-28"
      ],
      "metadata": {
        "id": "_EsTUyn29Op4"
      }
    },
    {
      "cell_type": "code",
      "source": [
        "# Write down your code in this cell.\n",
        "\n",
        "\n",
        "\n",
        "\n"
      ],
      "metadata": {
        "id": "ZgnoBgA19Op4"
      },
      "execution_count": null,
      "outputs": []
    },
    {
      "cell_type": "markdown",
      "source": [
        "# Script \"ai2023_s08_01_11.py\""
      ],
      "metadata": {
        "id": "rA15DFZ19WrQ"
      }
    },
    {
      "cell_type": "code",
      "source": [
        "# Run this cell to show the source code of the script.\n",
        "\n",
        "!cat ai2023_s08_01_11.py"
      ],
      "metadata": {
        "id": "nisLMY1a9WrR"
      },
      "execution_count": null,
      "outputs": []
    },
    {
      "cell_type": "code",
      "source": [
        "# Run this cell to execute the script.\n",
        "\n",
        "!python3.10 ai2023_s08_01_11.py"
      ],
      "metadata": {
        "id": "12ypfWMa9WrR"
      },
      "execution_count": null,
      "outputs": []
    },
    {
      "cell_type": "code",
      "source": [
        "# Run this cell to display PNG image.\n",
        "\n",
        "# importing IPython.display module\n",
        "import IPython.display\n",
        "\n",
        "# displaying PNG file\n",
        "IPython.display.Image ('ai2023_s08_01_11.png')"
      ],
      "metadata": {
        "id": "gLVyorno9WrS"
      },
      "execution_count": null,
      "outputs": []
    },
    {
      "cell_type": "markdown",
      "source": [
        "# Practice s08-29"
      ],
      "metadata": {
        "id": "pV4N2udS9WrS"
      }
    },
    {
      "cell_type": "code",
      "source": [
        "# Write down your code in this cell.\n",
        "\n",
        "\n",
        "\n",
        "\n"
      ],
      "metadata": {
        "id": "_wU6o0lL9WrT"
      },
      "execution_count": null,
      "outputs": []
    },
    {
      "cell_type": "markdown",
      "source": [
        "# Script \"ai2023_s08_01_12.py\""
      ],
      "metadata": {
        "id": "WBBStvHm9cvo"
      }
    },
    {
      "cell_type": "code",
      "source": [
        "# Run this cell to show the source code of the script.\n",
        "\n",
        "!cat ai2023_s08_01_12.py"
      ],
      "metadata": {
        "id": "NnQW03_09cvq"
      },
      "execution_count": null,
      "outputs": []
    },
    {
      "cell_type": "code",
      "source": [
        "# Run this cell to execute the script.\n",
        "\n",
        "!python3.10 ai2023_s08_01_12.py"
      ],
      "metadata": {
        "id": "QEHWT5Br9cvs"
      },
      "execution_count": null,
      "outputs": []
    },
    {
      "cell_type": "code",
      "source": [
        "# Run this cell to display PNG image.\n",
        "\n",
        "# importing IPython.display module\n",
        "import IPython.display\n",
        "\n",
        "# displaying PNG file\n",
        "IPython.display.Image ('ai2023_s08_01_12.png')"
      ],
      "metadata": {
        "id": "0qQl-kOZ9cvt"
      },
      "execution_count": null,
      "outputs": []
    },
    {
      "cell_type": "markdown",
      "source": [
        "# Practice s08-30"
      ],
      "metadata": {
        "id": "MQ4jzCZu9cvu"
      }
    },
    {
      "cell_type": "code",
      "source": [
        "# Write down your code in this cell.\n",
        "\n",
        "\n",
        "\n",
        "\n"
      ],
      "metadata": {
        "id": "YwJPml869cvv"
      },
      "execution_count": null,
      "outputs": []
    },
    {
      "cell_type": "markdown",
      "source": [
        "# Script \"ai2023_s08_01_13.py\""
      ],
      "metadata": {
        "id": "4JGJ0FvC-J6g"
      }
    },
    {
      "cell_type": "code",
      "source": [
        "# Run this cell to show the source code of the script.\n",
        "\n",
        "!cat ai2023_s08_01_13.py"
      ],
      "metadata": {
        "id": "d_NLz5il-J6h"
      },
      "execution_count": null,
      "outputs": []
    },
    {
      "cell_type": "code",
      "source": [
        "# Run this cell to execute the script.\n",
        "\n",
        "!python3.10 ai2023_s08_01_13.py"
      ],
      "metadata": {
        "id": "jj4k9Q1z-J6h"
      },
      "execution_count": null,
      "outputs": []
    },
    {
      "cell_type": "markdown",
      "source": [
        "# Practice s08-31"
      ],
      "metadata": {
        "id": "TE-0b3f4-J6i"
      }
    },
    {
      "cell_type": "code",
      "source": [
        "# Write down your code in this cell.\n",
        "\n",
        "\n",
        "\n",
        "\n"
      ],
      "metadata": {
        "id": "oa2lN-OT-J6i"
      },
      "execution_count": null,
      "outputs": []
    },
    {
      "cell_type": "markdown",
      "source": [
        "# Script \"ai2023_s08_01_14.py\""
      ],
      "metadata": {
        "id": "T24PfOWM-Uvj"
      }
    },
    {
      "cell_type": "code",
      "source": [
        "# Run this cell to show the source code of the script.\n",
        "\n",
        "!cat ai2023_s08_01_14.py"
      ],
      "metadata": {
        "id": "jPbLKvck-Uvn"
      },
      "execution_count": null,
      "outputs": []
    },
    {
      "cell_type": "code",
      "source": [
        "# Run this cell to execute the script.\n",
        "\n",
        "!python3.10 ai2023_s08_01_14.py"
      ],
      "metadata": {
        "id": "dPVECmcV-Uvp"
      },
      "execution_count": null,
      "outputs": []
    },
    {
      "cell_type": "code",
      "source": [
        "# Run this cell to display PNG image.\n",
        "\n",
        "# importing IPython.display module\n",
        "import IPython.display\n",
        "\n",
        "# displaying PNG file\n",
        "IPython.display.Image ('ai2023_s08_01_14.png')"
      ],
      "metadata": {
        "id": "Vhckok-4-Uvr"
      },
      "execution_count": null,
      "outputs": []
    },
    {
      "cell_type": "markdown",
      "source": [
        "# Practice s08-32"
      ],
      "metadata": {
        "id": "Bfb7BVMz-Uvs"
      }
    },
    {
      "cell_type": "code",
      "source": [
        "# Write down your code in this cell.\n",
        "\n",
        "\n",
        "\n",
        "\n"
      ],
      "metadata": {
        "id": "pzV6Z6qM-Uvu"
      },
      "execution_count": null,
      "outputs": []
    },
    {
      "cell_type": "markdown",
      "source": [
        "# Script \"ai2023_s08_01_15.py\""
      ],
      "metadata": {
        "id": "7ZXzgXE4-doT"
      }
    },
    {
      "cell_type": "code",
      "source": [
        "# Run this cell to show the source code of the script.\n",
        "\n",
        "!cat ai2023_s08_01_15.py"
      ],
      "metadata": {
        "id": "KzNdbhbZ-dob"
      },
      "execution_count": null,
      "outputs": []
    },
    {
      "cell_type": "code",
      "source": [
        "# Run this cell to execute the script.\n",
        "\n",
        "!python3.10 ai2023_s08_01_15.py"
      ],
      "metadata": {
        "id": "dkSqVsi3-dof"
      },
      "execution_count": null,
      "outputs": []
    },
    {
      "cell_type": "code",
      "source": [
        "# Run this cell to display PNG image.\n",
        "\n",
        "# importing IPython.display module\n",
        "import IPython.display\n",
        "\n",
        "# displaying PNG file\n",
        "IPython.display.Image ('ai2023_s08_01_15.png')"
      ],
      "metadata": {
        "id": "ckUJdUIC-dog"
      },
      "execution_count": null,
      "outputs": []
    },
    {
      "cell_type": "markdown",
      "source": [
        "# Practice s08-33"
      ],
      "metadata": {
        "id": "pHKnLTTP-doi"
      }
    },
    {
      "cell_type": "code",
      "source": [
        "# Write down your code in this cell.\n",
        "\n",
        "\n",
        "\n",
        "\n"
      ],
      "metadata": {
        "id": "jlt38Cni-dok"
      },
      "execution_count": null,
      "outputs": []
    },
    {
      "cell_type": "markdown",
      "source": [
        "# Script \"ai2023_s08_01_16.py\""
      ],
      "metadata": {
        "id": "x_x-kFVJ-tVY"
      }
    },
    {
      "cell_type": "code",
      "source": [
        "# Run this cell to show the source code of the script.\n",
        "\n",
        "!cat ai2023_s08_01_16.py"
      ],
      "metadata": {
        "id": "i-aiIZZi-tVc"
      },
      "execution_count": null,
      "outputs": []
    },
    {
      "cell_type": "code",
      "source": [
        "# Run this cell to execute the script.\n",
        "\n",
        "!python3.10 ai2023_s08_01_16.py"
      ],
      "metadata": {
        "id": "8rQrlr9I-tVd"
      },
      "execution_count": null,
      "outputs": []
    },
    {
      "cell_type": "code",
      "source": [
        "# Run this cell to display PNG image.\n",
        "\n",
        "# importing IPython.display module\n",
        "import IPython.display\n",
        "\n",
        "# displaying PNG file\n",
        "IPython.display.Image ('ai2023_s08_01_16.png')"
      ],
      "metadata": {
        "id": "kMCEx9gR-tVf"
      },
      "execution_count": null,
      "outputs": []
    },
    {
      "cell_type": "markdown",
      "source": [
        "# Practice s08-34"
      ],
      "metadata": {
        "id": "tC1ZZP3S-tVg"
      }
    },
    {
      "cell_type": "code",
      "source": [
        "# Write down your code in this cell.\n",
        "\n",
        "\n",
        "\n",
        "\n"
      ],
      "metadata": {
        "id": "ZW6Vj1-y-tVh"
      },
      "execution_count": null,
      "outputs": []
    },
    {
      "cell_type": "markdown",
      "source": [
        "# Script \"ai2023_s08_02_00.py\""
      ],
      "metadata": {
        "id": "-oFFA5i3-2DR"
      }
    },
    {
      "cell_type": "code",
      "source": [
        "# Run this cell to show the source code of the script.\n",
        "\n",
        "!cat ai2023_s08_02_00.py"
      ],
      "metadata": {
        "id": "tQzPAANz-2DW"
      },
      "execution_count": null,
      "outputs": []
    },
    {
      "cell_type": "code",
      "source": [
        "# Run this cell to execute the script.\n",
        "\n",
        "!python3.10 ai2023_s08_02_00.py"
      ],
      "metadata": {
        "id": "Ys9jUqEw-2DX"
      },
      "execution_count": null,
      "outputs": []
    },
    {
      "cell_type": "markdown",
      "source": [
        "# Script \"ai2023_s08_02_01.py\""
      ],
      "metadata": {
        "id": "cuACx07f-8F2"
      }
    },
    {
      "cell_type": "code",
      "source": [
        "# Run this cell to show the source code of the script.\n",
        "\n",
        "!cat ai2023_s08_02_01.py"
      ],
      "metadata": {
        "id": "kvRiNk76-8F3"
      },
      "execution_count": null,
      "outputs": []
    },
    {
      "cell_type": "code",
      "source": [
        "# Run this cell to execute the script.\n",
        "\n",
        "!python3.10 ai2023_s08_02_01.py"
      ],
      "metadata": {
        "id": "cRaZd7wd-8F6"
      },
      "execution_count": null,
      "outputs": []
    },
    {
      "cell_type": "code",
      "source": [
        "# Run this cell to display PNG image.\n",
        "\n",
        "# importing IPython.display module\n",
        "import IPython.display\n",
        "\n",
        "# displaying PNG file\n",
        "IPython.display.Image ('ai2023_s08_02_01.png')"
      ],
      "metadata": {
        "id": "Ydf5n-TN_Atj"
      },
      "execution_count": null,
      "outputs": []
    },
    {
      "cell_type": "markdown",
      "source": [
        "# Practice s08-35"
      ],
      "metadata": {
        "id": "BXV1iJIQ_Atk"
      }
    },
    {
      "cell_type": "code",
      "source": [
        "# Write down your code in this cell.\n",
        "\n",
        "\n",
        "\n",
        "\n"
      ],
      "metadata": {
        "id": "XILAxhaz_Atm"
      },
      "execution_count": null,
      "outputs": []
    },
    {
      "cell_type": "markdown",
      "source": [
        "# Script \"ai2023_s08_02_02.py\""
      ],
      "metadata": {
        "id": "dXhnXve__dLt"
      }
    },
    {
      "cell_type": "code",
      "source": [
        "# Run this cell to show the source code of the script.\n",
        "\n",
        "!cat ai2023_s08_02_02.py"
      ],
      "metadata": {
        "id": "ntc3Tca3_dLx"
      },
      "execution_count": null,
      "outputs": []
    },
    {
      "cell_type": "code",
      "source": [
        "# Run this cell to execute the script.\n",
        "\n",
        "!python3.10 ai2023_s08_02_02.py"
      ],
      "metadata": {
        "id": "nMlU0Ggs_dLz"
      },
      "execution_count": null,
      "outputs": []
    },
    {
      "cell_type": "code",
      "source": [
        "# Run this cell to display PNG image.\n",
        "\n",
        "# importing IPython.display module\n",
        "import IPython.display\n",
        "\n",
        "# displaying PNG file\n",
        "IPython.display.Image ('ai2023_s08_02_02.png')"
      ],
      "metadata": {
        "id": "SGlsLnqp_dL0"
      },
      "execution_count": null,
      "outputs": []
    },
    {
      "cell_type": "markdown",
      "source": [
        "# Practice s08-36"
      ],
      "metadata": {
        "id": "HH06tXIg_dL0"
      }
    },
    {
      "cell_type": "code",
      "source": [
        "# Write down your code in this cell.\n",
        "\n",
        "\n",
        "\n",
        "\n"
      ],
      "metadata": {
        "id": "GU04njl8_dL1"
      },
      "execution_count": null,
      "outputs": []
    },
    {
      "cell_type": "markdown",
      "source": [
        "# Script \"ai2023_s08_03_00.py\""
      ],
      "metadata": {
        "id": "qv3m6Ecf_qLb"
      }
    },
    {
      "cell_type": "code",
      "source": [
        "# Run this cell to show the source code of the script.\n",
        "\n",
        "!cat ai2023_s08_03_00.py"
      ],
      "metadata": {
        "id": "KVf5fVQV_qLb"
      },
      "execution_count": null,
      "outputs": []
    },
    {
      "cell_type": "code",
      "source": [
        "# Run this cell to execute the script.\n",
        "\n",
        "!python3.10 ai2023_s08_03_00.py"
      ],
      "metadata": {
        "id": "gjAQlCBf_qLc"
      },
      "execution_count": null,
      "outputs": []
    },
    {
      "cell_type": "markdown",
      "source": [
        "# Script \"ai2023_s08_03_01.py\""
      ],
      "metadata": {
        "id": "EdUHo2bo_wRz"
      }
    },
    {
      "cell_type": "code",
      "source": [
        "# Run this cell to show the source code of the script.\n",
        "\n",
        "!cat ai2023_s08_03_01.py"
      ],
      "metadata": {
        "id": "umKtrw3i_wR1"
      },
      "execution_count": null,
      "outputs": []
    },
    {
      "cell_type": "code",
      "source": [
        "# Run this cell to execute the script.\n",
        "\n",
        "!python3.10 ai2023_s08_03_01.py"
      ],
      "metadata": {
        "id": "ksWm2yF__wR4"
      },
      "execution_count": null,
      "outputs": []
    },
    {
      "cell_type": "markdown",
      "source": [
        "# Script \"ai2023_s08_03_02.py\""
      ],
      "metadata": {
        "id": "62-koJjQ_1Q6"
      }
    },
    {
      "cell_type": "code",
      "source": [
        "# Run this cell to show the source code of the script.\n",
        "\n",
        "!cat ai2023_s08_03_02.py"
      ],
      "metadata": {
        "id": "-n_SYnB8_1Q7"
      },
      "execution_count": null,
      "outputs": []
    },
    {
      "cell_type": "code",
      "source": [
        "# Run this cell to execute the script.\n",
        "\n",
        "!python3.10 ai2023_s08_03_02.py"
      ],
      "metadata": {
        "id": "JokHsG_n_1Q7"
      },
      "execution_count": null,
      "outputs": []
    },
    {
      "cell_type": "code",
      "source": [
        "# Run this cell to display PNG image.\n",
        "\n",
        "# importing IPython.display module\n",
        "import IPython.display\n",
        "\n",
        "# displaying PNG file\n",
        "IPython.display.Image ('ai2023_s08_03_02.png')"
      ],
      "metadata": {
        "id": "97vRLFxo_42S"
      },
      "execution_count": null,
      "outputs": []
    },
    {
      "cell_type": "markdown",
      "source": [
        "# Script \"ai2023_s08_03_03.py\""
      ],
      "metadata": {
        "id": "PQOxw17UAe0c"
      }
    },
    {
      "cell_type": "code",
      "source": [
        "# Run this cell to show the source code of the script.\n",
        "\n",
        "!cat ai2023_s08_03_03.py"
      ],
      "metadata": {
        "id": "n32q_7FJAe0d"
      },
      "execution_count": null,
      "outputs": []
    },
    {
      "cell_type": "code",
      "source": [
        "# Run this cell to execute the script.\n",
        "\n",
        "!python3.10 ai2023_s08_03_03.py"
      ],
      "metadata": {
        "id": "WPFUSvSZAe0e"
      },
      "execution_count": null,
      "outputs": []
    },
    {
      "cell_type": "code",
      "source": [
        "# Run this cell to display PNG image.\n",
        "\n",
        "# importing IPython.display module\n",
        "import IPython.display\n",
        "\n",
        "# displaying PNG file\n",
        "IPython.display.Image ('ai2023_s08_03_03.png')"
      ],
      "metadata": {
        "id": "iTVpAh9pAe0f"
      },
      "execution_count": null,
      "outputs": []
    },
    {
      "cell_type": "markdown",
      "source": [
        "# Script \"ai2023_s08_03_04.py\""
      ],
      "metadata": {
        "id": "Sik9d2nXAjx7"
      }
    },
    {
      "cell_type": "code",
      "source": [
        "# Run this cell to show the source code of the script.\n",
        "\n",
        "!cat ai2023_s08_03_04.py"
      ],
      "metadata": {
        "id": "it1NQN5EAjx_"
      },
      "execution_count": null,
      "outputs": []
    },
    {
      "cell_type": "code",
      "source": [
        "# Run this cell to execute the script.\n",
        "\n",
        "!python3.10 ai2023_s08_03_04.py"
      ],
      "metadata": {
        "id": "GYzwRa1LAjyB"
      },
      "execution_count": null,
      "outputs": []
    },
    {
      "cell_type": "code",
      "source": [
        "# Run this cell to display PNG image.\n",
        "\n",
        "# importing IPython.display module\n",
        "import IPython.display\n",
        "\n",
        "# displaying PNG file\n",
        "IPython.display.Image ('ai2023_s08_03_04.png')"
      ],
      "metadata": {
        "id": "S2vzeG10AjyC"
      },
      "execution_count": null,
      "outputs": []
    },
    {
      "cell_type": "markdown",
      "source": [
        "# Script \"ai2023_s08_03_05.py\""
      ],
      "metadata": {
        "id": "MOUe2-FsAosr"
      }
    },
    {
      "cell_type": "code",
      "source": [
        "# Run this cell to show the source code of the script.\n",
        "\n",
        "!cat ai2023_s08_03_05.py"
      ],
      "metadata": {
        "id": "h6jlVXmcAoss"
      },
      "execution_count": null,
      "outputs": []
    },
    {
      "cell_type": "code",
      "source": [
        "# Run this cell to execute the script.\n",
        "\n",
        "!python3.10 ai2023_s08_03_05.py"
      ],
      "metadata": {
        "id": "krmu4mV-Aost"
      },
      "execution_count": null,
      "outputs": []
    },
    {
      "cell_type": "code",
      "source": [
        "# Run this cell to display PNG image.\n",
        "\n",
        "# importing IPython.display module\n",
        "import IPython.display\n",
        "\n",
        "# displaying PNG file\n",
        "IPython.display.Image ('ai2023_s08_03_05.png')"
      ],
      "metadata": {
        "id": "LinR9z67Aosu"
      },
      "execution_count": null,
      "outputs": []
    },
    {
      "cell_type": "markdown",
      "source": [
        "# Script \"ai2023_s08_03_06.py\""
      ],
      "metadata": {
        "id": "JIkWA6EmAtY1"
      }
    },
    {
      "cell_type": "code",
      "source": [
        "# Run this cell to show the source code of the script.\n",
        "\n",
        "!cat ai2023_s08_03_06.py"
      ],
      "metadata": {
        "id": "09vTChx5AtY4"
      },
      "execution_count": null,
      "outputs": []
    },
    {
      "cell_type": "code",
      "source": [
        "# Run this cell to execute the script.\n",
        "\n",
        "!python3.10 ai2023_s08_03_06.py"
      ],
      "metadata": {
        "id": "89wdTKoKAtY5"
      },
      "execution_count": null,
      "outputs": []
    },
    {
      "cell_type": "code",
      "source": [
        "# Run this cell to display PNG image.\n",
        "\n",
        "# importing IPython.display module\n",
        "import IPython.display\n",
        "\n",
        "# displaying PNG file\n",
        "IPython.display.Image ('ai2023_s08_03_06.png')"
      ],
      "metadata": {
        "id": "x-gqxwhXAtY-"
      },
      "execution_count": null,
      "outputs": []
    },
    {
      "cell_type": "markdown",
      "source": [
        "# Script \"ai2023_s08_04_00.py\""
      ],
      "metadata": {
        "id": "0cau_WR0AyZV"
      }
    },
    {
      "cell_type": "code",
      "source": [
        "# Run this cell to show the source code of the script.\n",
        "\n",
        "!cat ai2023_s08_04_00.py"
      ],
      "metadata": {
        "id": "n7NT81MoAyZY"
      },
      "execution_count": null,
      "outputs": []
    },
    {
      "cell_type": "code",
      "source": [
        "# Run this cell to execute the script.\n",
        "\n",
        "!python3.10 ai2023_s08_04_00.py"
      ],
      "metadata": {
        "id": "gE00OXBJAyZZ"
      },
      "execution_count": null,
      "outputs": []
    },
    {
      "cell_type": "markdown",
      "source": [
        "# Script \"ai2023_s08_04_01.py\""
      ],
      "metadata": {
        "id": "bTKmrdQnA34d"
      }
    },
    {
      "cell_type": "code",
      "source": [
        "# Run this cell to show the source code of the script.\n",
        "\n",
        "!cat ai2023_s08_04_01.py"
      ],
      "metadata": {
        "id": "p1w8sdbWA34e"
      },
      "execution_count": null,
      "outputs": []
    },
    {
      "cell_type": "code",
      "source": [
        "# Run this cell to execute the script.\n",
        "\n",
        "!python3.10 ai2023_s08_04_01.py"
      ],
      "metadata": {
        "id": "MMfnF01OA34f"
      },
      "execution_count": null,
      "outputs": []
    },
    {
      "cell_type": "markdown",
      "source": [
        "# Script \"ai2023_s08_04_02.py\""
      ],
      "metadata": {
        "id": "VZBbyWmGA8y3"
      }
    },
    {
      "cell_type": "code",
      "source": [
        "# Run this cell to show the source code of the script.\n",
        "\n",
        "!cat ai2023_s08_04_02.py"
      ],
      "metadata": {
        "id": "ENm21rO4A8y5"
      },
      "execution_count": null,
      "outputs": []
    },
    {
      "cell_type": "code",
      "source": [
        "# Run this cell to execute the script.\n",
        "\n",
        "!python3.10 ai2023_s08_04_02.py"
      ],
      "metadata": {
        "id": "Ps3kQlzfA8y6"
      },
      "execution_count": null,
      "outputs": []
    },
    {
      "cell_type": "code",
      "source": [
        "# Run this cell to display PNG image.\n",
        "\n",
        "# importing IPython.display module\n",
        "import IPython.display\n",
        "\n",
        "# displaying PNG file\n",
        "IPython.display.Image ('ai2023_s08_04_02.png')"
      ],
      "metadata": {
        "id": "_DSCr2nuA8y7"
      },
      "execution_count": null,
      "outputs": []
    },
    {
      "cell_type": "markdown",
      "source": [
        "# Script \"ai2023_s08_04_03.py\""
      ],
      "metadata": {
        "id": "83M6km08BCgc"
      }
    },
    {
      "cell_type": "code",
      "source": [
        "# Run this cell to show the source code of the script.\n",
        "\n",
        "!cat ai2023_s08_04_03.py"
      ],
      "metadata": {
        "id": "wHSqkLO5BCgx"
      },
      "execution_count": null,
      "outputs": []
    },
    {
      "cell_type": "code",
      "source": [
        "# Run this cell to execute the script.\n",
        "\n",
        "!python3.10 ai2023_s08_04_03.py"
      ],
      "metadata": {
        "id": "RBYcsUWgBCgy"
      },
      "execution_count": null,
      "outputs": []
    },
    {
      "cell_type": "code",
      "source": [
        "# Run this cell to display PNG image.\n",
        "\n",
        "# importing IPython.display module\n",
        "import IPython.display\n",
        "\n",
        "# displaying PNG file\n",
        "IPython.display.Image ('ai2023_s08_04_03.png')"
      ],
      "metadata": {
        "id": "vZXn_jwCBCgz"
      },
      "execution_count": null,
      "outputs": []
    },
    {
      "cell_type": "markdown",
      "source": [
        "# Practice A: T Tauri star system HD 98800"
      ],
      "metadata": {
        "id": "434lGTY8BGXn"
      }
    },
    {
      "cell_type": "markdown",
      "source": [
        "## HD 98800 A"
      ],
      "metadata": {
        "id": "2LECDY6gBMB4"
      }
    },
    {
      "cell_type": "code",
      "source": [
        "# Write down you code here.\n",
        "\n",
        "\n",
        "\n",
        "\n"
      ],
      "metadata": {
        "id": "IN60kmRmBLI9"
      },
      "execution_count": null,
      "outputs": []
    },
    {
      "cell_type": "markdown",
      "source": [
        "## HD 98800 B"
      ],
      "metadata": {
        "id": "eXqh9T0TBRdS"
      }
    },
    {
      "cell_type": "code",
      "source": [
        "# Write down you code here.\n",
        "\n",
        "\n",
        "\n",
        "\n"
      ],
      "metadata": {
        "id": "YdW5HnKNBRdV"
      },
      "execution_count": null,
      "outputs": []
    },
    {
      "cell_type": "markdown",
      "source": [
        "# Practice B: White dwarfs"
      ],
      "metadata": {
        "id": "oZHlJqF7BUs7"
      }
    },
    {
      "cell_type": "markdown",
      "source": [
        "## white dwarf No. 1"
      ],
      "metadata": {
        "id": "2Ot4o95QBUs9"
      }
    },
    {
      "cell_type": "code",
      "source": [
        "# Write down your code here.\n",
        "\n",
        "\n",
        "\n",
        "\n"
      ],
      "metadata": {
        "id": "UDpIEMArBUs9"
      },
      "execution_count": null,
      "outputs": []
    },
    {
      "cell_type": "markdown",
      "source": [
        "## white dwarf No. 2"
      ],
      "metadata": {
        "id": "hsEP0CK2BdVL"
      }
    },
    {
      "cell_type": "code",
      "source": [
        "# Write down your code here.\n",
        "\n",
        "\n",
        "\n",
        "\n"
      ],
      "metadata": {
        "id": "qLbwBasYBdVO"
      },
      "execution_count": null,
      "outputs": []
    },
    {
      "cell_type": "markdown",
      "source": [
        "## white dwarf No. 3"
      ],
      "metadata": {
        "id": "YVROF7vVBddH"
      }
    },
    {
      "cell_type": "code",
      "source": [
        "# Write down your code here.\n",
        "\n",
        "\n",
        "\n",
        "\n"
      ],
      "metadata": {
        "id": "HOF58kC6BddI"
      },
      "execution_count": null,
      "outputs": []
    },
    {
      "cell_type": "markdown",
      "source": [
        "# Practice C: Starless cores"
      ],
      "metadata": {
        "id": "K5Ocbi03BhLh"
      }
    },
    {
      "cell_type": "markdown",
      "source": [
        "## starless core 307.495+0.660"
      ],
      "metadata": {
        "id": "2zAy9ZHjBkvX"
      }
    },
    {
      "cell_type": "code",
      "source": [
        "# Write down your code here.\n",
        "\n",
        "\n",
        "\n",
        "\n"
      ],
      "metadata": {
        "id": "AFeH3mcZBj4r"
      },
      "execution_count": null,
      "outputs": []
    },
    {
      "cell_type": "markdown",
      "source": [
        "## starless core 318.573+0.642318.573+0.642"
      ],
      "metadata": {
        "id": "dY9BTu8rBywn"
      }
    },
    {
      "cell_type": "code",
      "source": [
        "# Write down your code here.\n",
        "\n",
        "\n",
        "\n",
        "\n"
      ],
      "metadata": {
        "id": "Uios54jiBywq"
      },
      "execution_count": null,
      "outputs": []
    },
    {
      "cell_type": "markdown",
      "source": [
        "## starless core 322.334+0.561"
      ],
      "metadata": {
        "id": "Uv2oD4koBy34"
      }
    },
    {
      "cell_type": "code",
      "source": [
        "# Write down your code here.\n",
        "\n",
        "\n",
        "\n",
        "\n"
      ],
      "metadata": {
        "id": "OD0az_YqBy35"
      },
      "execution_count": null,
      "outputs": []
    },
    {
      "cell_type": "markdown",
      "source": [
        "# End of this notebook"
      ],
      "metadata": {
        "id": "CAhCnX-4B5rj"
      }
    },
    {
      "cell_type": "code",
      "source": [],
      "metadata": {
        "id": "tNdxuIkEB7N9"
      },
      "execution_count": null,
      "outputs": []
    }
  ]
}