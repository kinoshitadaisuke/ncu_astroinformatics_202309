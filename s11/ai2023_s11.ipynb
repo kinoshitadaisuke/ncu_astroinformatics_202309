{
  "nbformat": 4,
  "nbformat_minor": 0,
  "metadata": {
    "colab": {
      "provenance": []
    },
    "kernelspec": {
      "name": "python3",
      "display_name": "Python 3"
    },
    "language_info": {
      "name": "python"
    }
  },
  "cells": [
    {
      "cell_type": "markdown",
      "metadata": {
        "id": "X9F8FTGZzaSe"
      },
      "source": [
        "# AS6095 \"Astroinformatics\"\n",
        "\n",
        "## for academic year 2023 (from Sep/2023 to Jan/2024)\n",
        "\n",
        "## instructor: Kinoshita Daisuke\n",
        "\n",
        "## Course web page: https://s3b.astro.ncu.edu.tw/ai_202309/\n",
        "\n",
        "## GitHub repository: https://github.com/kinoshitadaisuke/ncu_astroinformatics_202309\n"
      ]
    },
    {
      "cell_type": "markdown",
      "metadata": {
        "id": "MKQ0pdfJCZ1I"
      },
      "source": [
        "# Session 11 \"Estimating ages of star clusters\"\n",
        "\n",
        "## 27 November 2023\n"
      ]
    },
    {
      "cell_type": "markdown",
      "metadata": {
        "id": "FVmonUCL197r"
      },
      "source": [
        "# Downloading a set of sample Python scripts and changing directory"
      ]
    },
    {
      "cell_type": "code",
      "execution_count": null,
      "metadata": {
        "id": "E-J1KLJAzmx5"
      },
      "outputs": [],
      "source": [
        "# Run this cell to download a set of sample Python scripts for this course.\n",
        "\n",
        "!git clone https://github.com/kinoshitadaisuke/ncu_astroinformatics_202309.git"
      ]
    },
    {
      "cell_type": "code",
      "execution_count": null,
      "metadata": {
        "id": "NU4Otc0i2jfu"
      },
      "outputs": [],
      "source": [
        "# Run this cell to check whether you have a directory named \"ncu_astroinformatics_202309\".\n",
        "\n",
        "!ls"
      ]
    },
    {
      "cell_type": "code",
      "execution_count": null,
      "metadata": {
        "id": "faZRhZv821VY"
      },
      "outputs": [],
      "source": [
        "# Run this cell to move to the directory \"ncu_astroinformatics_202309\".\n",
        "\n",
        "%cd ncu_astroinformatics_202309"
      ]
    },
    {
      "cell_type": "code",
      "execution_count": null,
      "metadata": {
        "id": "hUjHlUZk3Bov"
      },
      "outputs": [],
      "source": [
        "# Run this cell to show currently working directory.\n",
        "\n",
        "!pwd"
      ]
    },
    {
      "cell_type": "code",
      "execution_count": null,
      "metadata": {
        "id": "RXAGJHeX3IsD"
      },
      "outputs": [],
      "source": [
        "# Run this cell to show files and directories.\n",
        "\n",
        "!ls -lF"
      ]
    },
    {
      "cell_type": "code",
      "execution_count": null,
      "metadata": {
        "id": "xR0V8I0k3O3k"
      },
      "outputs": [],
      "source": [
        "# Run this cell to move to the directory \"s10\".\n",
        "\n",
        "%cd s11"
      ]
    },
    {
      "cell_type": "code",
      "execution_count": null,
      "metadata": {
        "id": "KbvQ_3Su3UKL"
      },
      "outputs": [],
      "source": [
        "# Run this cell to show currently working directory.\n",
        "\n",
        "!pwd"
      ]
    },
    {
      "cell_type": "code",
      "execution_count": null,
      "metadata": {
        "id": "n9AAgI4d3c6n"
      },
      "outputs": [],
      "source": [
        "# Run this cell to show files and directories.\n",
        "\n",
        "!ls -lF"
      ]
    },
    {
      "cell_type": "markdown",
      "source": [
        "# Installation of Astropy"
      ],
      "metadata": {
        "id": "jVlw3LHHcBFa"
      }
    },
    {
      "cell_type": "code",
      "source": [
        "# Install Astropy if you do not have it.\n",
        "\n",
        "!apt install python3-astropy"
      ],
      "metadata": {
        "id": "tsoYTACbb4dj"
      },
      "execution_count": null,
      "outputs": []
    },
    {
      "cell_type": "markdown",
      "source": [
        "# Installation of Astroquery"
      ],
      "metadata": {
        "id": "Vfizk8zptcUd"
      }
    },
    {
      "cell_type": "code",
      "source": [
        "# Install Astroquery if you do not have it.\n",
        "\n",
        "!apt install python3-astroquery"
      ],
      "metadata": {
        "id": "LPKl1pj2ted3"
      },
      "execution_count": null,
      "outputs": []
    },
    {
      "cell_type": "markdown",
      "source": [
        "# Script \"ai2023_s11_00_00.py\""
      ],
      "metadata": {
        "id": "ruyvFomX3tHE"
      }
    },
    {
      "cell_type": "code",
      "source": [
        "# Run this cell to show the source code of the script.\n",
        "\n",
        "!cat ai2023_s11_00_00.py"
      ],
      "metadata": {
        "id": "rHlPblWq3vhQ"
      },
      "execution_count": null,
      "outputs": []
    },
    {
      "cell_type": "code",
      "source": [
        "# Run this cell to execute the script.\n",
        "\n",
        "!python3.10 ai2023_s11_00_00.py"
      ],
      "metadata": {
        "id": "6OT-NvkRCpsZ"
      },
      "execution_count": null,
      "outputs": []
    },
    {
      "cell_type": "markdown",
      "source": [
        "# Practice s11-01"
      ],
      "metadata": {
        "id": "TOKbMshT365T"
      }
    },
    {
      "cell_type": "code",
      "source": [
        "# Write down your code in this cell.\n",
        "\n",
        "\n",
        "\n",
        "\n"
      ],
      "metadata": {
        "id": "64-pHjEt34XC"
      },
      "execution_count": null,
      "outputs": []
    },
    {
      "cell_type": "markdown",
      "source": [
        "# Script \"ai2023_s11_00_01.py\""
      ],
      "metadata": {
        "id": "JKsMzb0QCB9X"
      }
    },
    {
      "cell_type": "code",
      "source": [
        "# Run this cell to show the source code of the script.\n",
        "\n",
        "!cat ai2023_s11_00_01.py"
      ],
      "metadata": {
        "id": "UvMxuOk6CB9b"
      },
      "execution_count": null,
      "outputs": []
    },
    {
      "cell_type": "code",
      "source": [
        "# Run this cell to execute the script.\n",
        "\n",
        "!python3.10 ai2023_s11_00_01.py -h"
      ],
      "metadata": {
        "id": "W3U4hHSlCB9d"
      },
      "execution_count": null,
      "outputs": []
    },
    {
      "cell_type": "code",
      "source": [
        "# Run this cell to execute the script.\n",
        "\n",
        "!python3.10 ai2023_s11_00_01.py astropy"
      ],
      "metadata": {
        "id": "cONGHjzrCIeZ"
      },
      "execution_count": null,
      "outputs": []
    },
    {
      "cell_type": "code",
      "source": [
        "# Run this cell to execute the script.\n",
        "\n",
        "!python3.10 ai2023_s11_00_01.py numpy scipy matplotlib"
      ],
      "metadata": {
        "id": "hBfHjmi0CST4"
      },
      "execution_count": null,
      "outputs": []
    },
    {
      "cell_type": "markdown",
      "source": [
        "# Practice s11-02"
      ],
      "metadata": {
        "id": "CDvj0hswCB9e"
      }
    },
    {
      "cell_type": "code",
      "source": [
        "# Write down your code in this cell.\n",
        "\n",
        "\n",
        "\n",
        "\n"
      ],
      "metadata": {
        "id": "Y6HCeF1XCB9e"
      },
      "execution_count": null,
      "outputs": []
    },
    {
      "cell_type": "markdown",
      "source": [
        "# Script \"ai2023_s11_01_00.py\""
      ],
      "metadata": {
        "id": "hYYrQTT1CdAh"
      }
    },
    {
      "cell_type": "code",
      "source": [
        "# Run this cell to show the source code of the script.\n",
        "\n",
        "!cat ai2023_s11_01_00.py"
      ],
      "metadata": {
        "id": "64C-V-TBCdAn"
      },
      "execution_count": null,
      "outputs": []
    },
    {
      "cell_type": "code",
      "source": [
        "# Run this cell to execute the script.\n",
        "\n",
        "!python3.10 ai2023_s11_01_00.py"
      ],
      "metadata": {
        "id": "y6KPL2RsCdAo"
      },
      "execution_count": null,
      "outputs": []
    },
    {
      "cell_type": "markdown",
      "source": [
        "# Practice s11-03"
      ],
      "metadata": {
        "id": "dXEchnr0CdAq"
      }
    },
    {
      "cell_type": "code",
      "source": [
        "# Write down your code in this cell.\n",
        "\n",
        "\n",
        "\n",
        "\n"
      ],
      "metadata": {
        "id": "4h6uTQ3xCdAr"
      },
      "execution_count": null,
      "outputs": []
    },
    {
      "cell_type": "markdown",
      "source": [
        "# Script \"ai2023_s11_01_01.py\""
      ],
      "metadata": {
        "id": "pWA_iJIbCnFu"
      }
    },
    {
      "cell_type": "code",
      "source": [
        "# Run this cell to show the source code of the script.\n",
        "\n",
        "!cat ai2023_s11_01_01.py"
      ],
      "metadata": {
        "id": "T07kV25SCnF0"
      },
      "execution_count": null,
      "outputs": []
    },
    {
      "cell_type": "code",
      "source": [
        "# Run this cell to execute the script.\n",
        "\n",
        "!python3.10 ai2023_s11_01_01.py -h"
      ],
      "metadata": {
        "id": "oFzP-HKTCnF1"
      },
      "execution_count": null,
      "outputs": []
    },
    {
      "cell_type": "code",
      "source": [
        "# Run this cell to execute the script.\n",
        "\n",
        "!python3.10 ai2023_s11_01_01.py Betelgeuse"
      ],
      "metadata": {
        "id": "vo0eF5XXCnF2"
      },
      "execution_count": null,
      "outputs": []
    },
    {
      "cell_type": "code",
      "source": [
        "# Run this cell to execute the script.\n",
        "\n",
        "!python3.10 ai2023_s11_01_01.py \"Crab Nebula\""
      ],
      "metadata": {
        "id": "Y3wStqftCnF4"
      },
      "execution_count": null,
      "outputs": []
    },
    {
      "cell_type": "code",
      "source": [
        "# Run this cell to execute the script.\n",
        "\n",
        "!python3.10 ai2023_s11_01_01.py M1"
      ],
      "metadata": {
        "id": "0JhEKzNXC3J6"
      },
      "execution_count": null,
      "outputs": []
    },
    {
      "cell_type": "code",
      "source": [
        "# Run this cell to execute the script.\n",
        "\n",
        "!python3.10 ai2023_s11_01_01.py \"Sgr A*\""
      ],
      "metadata": {
        "id": "GIUT8glGC5xa"
      },
      "execution_count": null,
      "outputs": []
    },
    {
      "cell_type": "code",
      "source": [
        "# Run this cell to execute the script.\n",
        "\n",
        "!python3.10 ai2023_s11_01_01.py \"SN 1987A\""
      ],
      "metadata": {
        "id": "3CkvKkNPC954"
      },
      "execution_count": null,
      "outputs": []
    },
    {
      "cell_type": "code",
      "source": [
        "# Run this cell to execute the script.\n",
        "\n",
        "!python3.10 ai2023_s11_01_01.py \"3C 273\""
      ],
      "metadata": {
        "id": "1FEnNRZgDCWH"
      },
      "execution_count": null,
      "outputs": []
    },
    {
      "cell_type": "code",
      "source": [
        "# Run this cell to execute the script.\n",
        "\n",
        "!python3.10 ai2023_s11_01_01.py Vega Altair"
      ],
      "metadata": {
        "id": "3rHbO76pDIQB"
      },
      "execution_count": null,
      "outputs": []
    },
    {
      "cell_type": "code",
      "source": [
        "# Run this cell to execute the script.\n",
        "\n",
        "!python3.10 ai2023_s11_01_01.py \"Andromeda Galaxy\" Praesepe Pleiades"
      ],
      "metadata": {
        "id": "5TTzzw39DLC3"
      },
      "execution_count": null,
      "outputs": []
    },
    {
      "cell_type": "markdown",
      "source": [
        "# Practice s11-04"
      ],
      "metadata": {
        "id": "xLd7OQOFCnF6"
      }
    },
    {
      "cell_type": "code",
      "source": [
        "# Write down your code in this cell.\n",
        "\n",
        "\n",
        "\n",
        "\n"
      ],
      "metadata": {
        "id": "6ymf3NeYCnF7"
      },
      "execution_count": null,
      "outputs": []
    },
    {
      "cell_type": "markdown",
      "source": [
        "# Script \"ai2023_s11_02_00.py\""
      ],
      "metadata": {
        "id": "qMkQKG-5DiM5"
      }
    },
    {
      "cell_type": "code",
      "source": [
        "# Run this cell to show the source code of the script.\n",
        "\n",
        "!cat ai2023_s11_02_00.py"
      ],
      "metadata": {
        "id": "tFvdKNxBDiM7"
      },
      "execution_count": null,
      "outputs": []
    },
    {
      "cell_type": "code",
      "source": [
        "# Run this cell to execute the script.\n",
        "\n",
        "!python3.10 ai2023_s11_02_00.py"
      ],
      "metadata": {
        "id": "SCAj4X2sDiM8"
      },
      "execution_count": null,
      "outputs": []
    },
    {
      "cell_type": "markdown",
      "source": [
        "# Script \"ai2023_s11_02_01.py\""
      ],
      "metadata": {
        "id": "1Db1CcHaDvEh"
      }
    },
    {
      "cell_type": "code",
      "source": [
        "# Run this cell to show the source code of the script.\n",
        "\n",
        "!cat ai2023_s11_02_01.py"
      ],
      "metadata": {
        "id": "X-CEfu9-DvEl"
      },
      "execution_count": null,
      "outputs": []
    },
    {
      "cell_type": "code",
      "source": [
        "# Run this cell to execute the script.\n",
        "\n",
        "!python3.10 ai2023_s11_02_01.py"
      ],
      "metadata": {
        "id": "eHIR1lgKDvEn"
      },
      "execution_count": null,
      "outputs": []
    },
    {
      "cell_type": "code",
      "source": [
        "# Run this cell to display PNG image.\n",
        "\n",
        "# importing IPython.display module\n",
        "import IPython.display\n",
        "\n",
        "# displaying PNG file\n",
        "IPython.display.Image ('m1.png')"
      ],
      "metadata": {
        "id": "wp4Hfr0b4dLH"
      },
      "execution_count": null,
      "outputs": []
    },
    {
      "cell_type": "markdown",
      "source": [
        "# Script \"ai2023_s11_02_02.py\""
      ],
      "metadata": {
        "id": "dnsgwWrEELeS"
      }
    },
    {
      "cell_type": "code",
      "source": [
        "# Run this cell to show the source code of the script.\n",
        "\n",
        "!cat ai2023_s11_02_02.py"
      ],
      "metadata": {
        "id": "9JtXJmc_ELeY"
      },
      "execution_count": null,
      "outputs": []
    },
    {
      "cell_type": "code",
      "source": [
        "# Run this cell to execute the script.\n",
        "\n",
        "!python3.10 ai2023_s11_02_02.py -h"
      ],
      "metadata": {
        "id": "qdh3pDP0ELeZ"
      },
      "execution_count": null,
      "outputs": []
    },
    {
      "cell_type": "code",
      "source": [
        "# Run this cell to execute the script.\n",
        "\n",
        "!python3.10 ai2023_s11_02_02.py -s \"DSS2 Red\" -t M2 -f 30 -o m2.fits"
      ],
      "metadata": {
        "id": "NipZVhmnESgQ"
      },
      "execution_count": null,
      "outputs": []
    },
    {
      "cell_type": "markdown",
      "source": [
        "# Practice s11-05"
      ],
      "metadata": {
        "id": "u07VZEhUFX2f"
      }
    },
    {
      "cell_type": "code",
      "source": [
        "# Write down your code in this cell.\n",
        "\n",
        "\n",
        "\n",
        "\n"
      ],
      "metadata": {
        "id": "OFW-wj39FX2i"
      },
      "execution_count": null,
      "outputs": []
    },
    {
      "cell_type": "markdown",
      "source": [
        "# Script \"ai2023_s11_02_03.py\""
      ],
      "metadata": {
        "id": "tMEOfftTEoCD"
      }
    },
    {
      "cell_type": "code",
      "source": [
        "# Run this cell to show the source code of the script.\n",
        "\n",
        "!cat ai2023_s11_02_03.py"
      ],
      "metadata": {
        "id": "VDuBx_eUEoCE"
      },
      "execution_count": null,
      "outputs": []
    },
    {
      "cell_type": "code",
      "source": [
        "# Run this cell to execute the script.\n",
        "\n",
        "!python3.10 ai2023_s11_02_03.py -h"
      ],
      "metadata": {
        "id": "30fX_B6yEoCF"
      },
      "execution_count": null,
      "outputs": []
    },
    {
      "cell_type": "code",
      "source": [
        "# Run this cell to execute the script.\n",
        "\n",
        "!python3.10 ai2023_s11_02_03.py -i m2.fits -o m2.png -c cool -n \"Globular Cluster M2\""
      ],
      "metadata": {
        "id": "DOM4tMtXEoCG"
      },
      "execution_count": null,
      "outputs": []
    },
    {
      "cell_type": "code",
      "source": [
        "# Run this cell to display PNG image.\n",
        "\n",
        "# importing IPython.display module\n",
        "import IPython.display\n",
        "\n",
        "# displaying PNG file\n",
        "IPython.display.Image ('m2.png')"
      ],
      "metadata": {
        "id": "BKCTxYAFEz6L"
      },
      "execution_count": null,
      "outputs": []
    },
    {
      "cell_type": "markdown",
      "source": [
        "# Practice s11-06"
      ],
      "metadata": {
        "id": "t2ktutpeFTar"
      }
    },
    {
      "cell_type": "code",
      "source": [
        "# Write down your code in this cell.\n",
        "\n",
        "\n",
        "\n",
        "\n"
      ],
      "metadata": {
        "id": "W_8PBNS0FTar"
      },
      "execution_count": null,
      "outputs": []
    },
    {
      "cell_type": "markdown",
      "source": [
        "# Script \"ai2023_s11_02_04.py\""
      ],
      "metadata": {
        "id": "bL1rH758E8u9"
      }
    },
    {
      "cell_type": "code",
      "source": [
        "# Run this cell to show the source code of the script.\n",
        "\n",
        "!cat ai2023_s11_02_04.py"
      ],
      "metadata": {
        "id": "AqVFip_aE8vB"
      },
      "execution_count": null,
      "outputs": []
    },
    {
      "cell_type": "code",
      "source": [
        "# Run this cell to execute the script.\n",
        "\n",
        "!python3.10 ai2023_s11_02_04.py -h"
      ],
      "metadata": {
        "id": "0fOSzMU2E8vC"
      },
      "execution_count": null,
      "outputs": []
    },
    {
      "cell_type": "code",
      "source": [
        "# Run this cell to execute the script.\n",
        "\n",
        "!python3.10 ai2023_s11_02_04.py -t M81 -o m81.png -s SDSSg -f 40 -c inferno -n \"Spiral Galaxy M81\""
      ],
      "metadata": {
        "id": "NEvSY_DmE8vD"
      },
      "execution_count": null,
      "outputs": []
    },
    {
      "cell_type": "code",
      "source": [
        "# Run this cell to display PNG image.\n",
        "\n",
        "# importing IPython.display module\n",
        "import IPython.display\n",
        "\n",
        "# displaying PNG file\n",
        "IPython.display.Image ('m81.png')"
      ],
      "metadata": {
        "id": "hZKCEcy5E8vE"
      },
      "execution_count": null,
      "outputs": []
    },
    {
      "cell_type": "markdown",
      "source": [
        "# Practice s11-07"
      ],
      "metadata": {
        "id": "nw4Kt2oPFOWl"
      }
    },
    {
      "cell_type": "code",
      "source": [
        "# Write down your code in this cell.\n",
        "\n",
        "\n",
        "\n",
        "\n"
      ],
      "metadata": {
        "id": "00COVPBDFOWn"
      },
      "execution_count": null,
      "outputs": []
    },
    {
      "cell_type": "code",
      "source": [
        "# Run this cell to execute the script.\n",
        "\n",
        "!python3.10 ai2023_s11_02_04.py -t \"Stephan's Quintet\" -o quintet.png -s SDSSg -f 40 -c ocean -n \"Stephan's Quintet\""
      ],
      "metadata": {
        "id": "UrjOFMQcFnKT"
      },
      "execution_count": null,
      "outputs": []
    },
    {
      "cell_type": "code",
      "source": [
        "# Run this cell to display PNG image.\n",
        "\n",
        "# importing IPython.display module\n",
        "import IPython.display\n",
        "\n",
        "# displaying PNG file\n",
        "IPython.display.Image ('quintet.png')"
      ],
      "metadata": {
        "id": "fmmZ7GFVFnKW"
      },
      "execution_count": null,
      "outputs": []
    },
    {
      "cell_type": "markdown",
      "source": [
        "# Practice s11-08"
      ],
      "metadata": {
        "id": "HCBb8gnrFnKX"
      }
    },
    {
      "cell_type": "code",
      "source": [
        "# Write down your code in this cell.\n",
        "\n",
        "\n",
        "\n",
        "\n"
      ],
      "metadata": {
        "id": "r95xOsqeFnKY"
      },
      "execution_count": null,
      "outputs": []
    },
    {
      "cell_type": "markdown",
      "source": [
        "# Script \"ai2023_s11_03_00.py\""
      ],
      "metadata": {
        "id": "Fk1g43mQHpHM"
      }
    },
    {
      "cell_type": "code",
      "source": [
        "# Run this cell to show the source code of the script.\n",
        "\n",
        "!cat ai2023_s11_03_00.py"
      ],
      "metadata": {
        "id": "zKa6xIcKHpHV"
      },
      "execution_count": null,
      "outputs": []
    },
    {
      "cell_type": "code",
      "source": [
        "# Run this cell to execute the script.\n",
        "\n",
        "!python3.10 ai2023_s11_03_00.py"
      ],
      "metadata": {
        "id": "e1JgszcfHpHX"
      },
      "execution_count": null,
      "outputs": []
    },
    {
      "cell_type": "markdown",
      "source": [
        "# Practice s11-09"
      ],
      "metadata": {
        "id": "tg0802-CHsdm"
      }
    },
    {
      "cell_type": "code",
      "source": [
        "# Write down your code in this cell.\n",
        "\n",
        "\n",
        "\n",
        "\n"
      ],
      "metadata": {
        "id": "p8kW6xyuHsdo"
      },
      "execution_count": null,
      "outputs": []
    },
    {
      "cell_type": "markdown",
      "source": [
        "# Script \"ai2023_s11_03_01.py\""
      ],
      "metadata": {
        "id": "QgumWhJdH0wt"
      }
    },
    {
      "cell_type": "code",
      "source": [
        "# Run this cell to show the source code of the script.\n",
        "\n",
        "!cat ai2023_s11_03_01.py"
      ],
      "metadata": {
        "id": "eHoTu-MlH0wu"
      },
      "execution_count": null,
      "outputs": []
    },
    {
      "cell_type": "code",
      "source": [
        "# Run this cell to execute the script.\n",
        "\n",
        "!python3.10 ai2023_s11_03_01.py -h"
      ],
      "metadata": {
        "id": "GMxF3jfXH0ww"
      },
      "execution_count": null,
      "outputs": []
    },
    {
      "cell_type": "code",
      "source": [
        "# Run this cell to execute the script.\n",
        "\n",
        "!python3.10 ai2023_s11_03_01.py -t M4 -o m4.vot.gz -r 30"
      ],
      "metadata": {
        "id": "aTOdUfGOH3Y2"
      },
      "execution_count": null,
      "outputs": []
    },
    {
      "cell_type": "markdown",
      "source": [
        "# Practice s11-10"
      ],
      "metadata": {
        "id": "8vRaznzEH0wx"
      }
    },
    {
      "cell_type": "code",
      "source": [
        "# Write down your code in this cell.\n",
        "\n",
        "\n",
        "\n",
        "\n"
      ],
      "metadata": {
        "id": "rX9lXfDqH0wx"
      },
      "execution_count": null,
      "outputs": []
    },
    {
      "cell_type": "markdown",
      "source": [
        "# Script \"ai2023_s11_04_00.py\""
      ],
      "metadata": {
        "id": "JVrZepUpIUvu"
      }
    },
    {
      "cell_type": "code",
      "source": [
        "# Run this cell to show the source code of the script.\n",
        "\n",
        "!cat ai2023_s11_04_00.py"
      ],
      "metadata": {
        "id": "ORThe2WOIUvy"
      },
      "execution_count": null,
      "outputs": []
    },
    {
      "cell_type": "code",
      "source": [
        "# Run this cell to execute the script.\n",
        "\n",
        "!python3.10 ai2023_s11_04_00.py"
      ],
      "metadata": {
        "id": "uVPTAhOPIUv0"
      },
      "execution_count": null,
      "outputs": []
    },
    {
      "cell_type": "code",
      "source": [
        "# Run this cell to print the contents of the file \"m3.list\".\n",
        "\n",
        "!head -20 m3.list"
      ],
      "metadata": {
        "id": "48OV6p23Ibk6"
      },
      "execution_count": null,
      "outputs": []
    },
    {
      "cell_type": "markdown",
      "source": [
        "# Practice s11-11"
      ],
      "metadata": {
        "id": "nW4B2FnAIUv1"
      }
    },
    {
      "cell_type": "code",
      "source": [
        "# Write down your code in this cell.\n",
        "\n",
        "\n",
        "\n",
        "\n"
      ],
      "metadata": {
        "id": "fX0dAcadIUv1"
      },
      "execution_count": null,
      "outputs": []
    },
    {
      "cell_type": "markdown",
      "source": [
        "# Script \"ai2023_s11_04_01.py\""
      ],
      "metadata": {
        "id": "VRuoDtO-IoAA"
      }
    },
    {
      "cell_type": "code",
      "source": [
        "# Run this cell to show the source code of the script.\n",
        "\n",
        "!cat ai2023_s11_04_01.py"
      ],
      "metadata": {
        "id": "3ApQsDWtIoAG"
      },
      "execution_count": null,
      "outputs": []
    },
    {
      "cell_type": "code",
      "source": [
        "# Run this cell to execute the script.\n",
        "\n",
        "!python3.10 ai2023_s11_04_01.py -h"
      ],
      "metadata": {
        "id": "4M_wJfunIoAH"
      },
      "execution_count": null,
      "outputs": []
    },
    {
      "cell_type": "code",
      "source": [
        "# Run this cell to execute the script.\n",
        "\n",
        "!python3.10 ai2023_s11_04_01.py -v -i m4.vot.gz -o m4.list"
      ],
      "metadata": {
        "id": "bAMOsthYIoAI"
      },
      "execution_count": null,
      "outputs": []
    },
    {
      "cell_type": "code",
      "source": [
        "# Run this cell to print the contents of the file \"m3.list\".\n",
        "\n",
        "!head -20 m4.list"
      ],
      "metadata": {
        "id": "qnSljybXIya_"
      },
      "execution_count": null,
      "outputs": []
    },
    {
      "cell_type": "markdown",
      "source": [
        "# Practice s11-12"
      ],
      "metadata": {
        "id": "g5B0EzPTIoAJ"
      }
    },
    {
      "cell_type": "code",
      "source": [
        "# Write down your code in this cell.\n",
        "\n",
        "\n",
        "\n",
        "\n"
      ],
      "metadata": {
        "id": "_qZH6q-3IoAL"
      },
      "execution_count": null,
      "outputs": []
    },
    {
      "cell_type": "markdown",
      "source": [
        "# HR diagram of open cluster NGC 2547"
      ],
      "metadata": {
        "id": "HGH1hSx6K6sx"
      }
    },
    {
      "cell_type": "markdown",
      "source": [
        "## Downloading DSS image"
      ],
      "metadata": {
        "id": "8UyK_T8gK-A1"
      }
    },
    {
      "cell_type": "code",
      "source": [
        "# Run this cell to download DSS image.\n",
        "\n",
        "!python3.10 ai2023_s11_02_04.py -t \"NGC 2547\" -f 60 -o ngc2547.png -n \"NGC 2547\" -s \"DSS2 Red\" -c inferno"
      ],
      "metadata": {
        "id": "UK9Mx67xLFKF"
      },
      "execution_count": null,
      "outputs": []
    },
    {
      "cell_type": "code",
      "source": [
        "# Run this cell to display PNG image.\n",
        "\n",
        "# importing IPython.display module\n",
        "import IPython.display\n",
        "\n",
        "# displaying PNG file\n",
        "IPython.display.Image ('ngc2547.png')"
      ],
      "metadata": {
        "id": "zFFg6gwRLc-J"
      },
      "execution_count": null,
      "outputs": []
    },
    {
      "cell_type": "markdown",
      "source": [
        "# Practice s11-13"
      ],
      "metadata": {
        "id": "drYVQrXhLokR"
      }
    },
    {
      "cell_type": "code",
      "source": [
        "# Write down your code in this cell.\n",
        "\n",
        "\n",
        "\n",
        "\n"
      ],
      "metadata": {
        "id": "Fip-vIngLokU"
      },
      "execution_count": null,
      "outputs": []
    },
    {
      "cell_type": "markdown",
      "source": [
        "## Downloading Gaia DR3 data"
      ],
      "metadata": {
        "id": "WHaDkEmBLreg"
      }
    },
    {
      "cell_type": "code",
      "source": [
        "# Run this cell to download Gaia DR3 data.\n",
        "\n",
        "!python3.10 -t \"NGC 2547\" -o ngc2547.vot.gz -r 45"
      ],
      "metadata": {
        "id": "5UyWGLByLuWQ"
      },
      "execution_count": null,
      "outputs": []
    },
    {
      "cell_type": "markdown",
      "source": [
        "# Practice s11-14"
      ],
      "metadata": {
        "id": "2QXzwlEtL3HA"
      }
    },
    {
      "cell_type": "code",
      "source": [
        "# Write down your code in this cell.\n",
        "\n",
        "\n",
        "\n",
        "\n"
      ],
      "metadata": {
        "id": "L3J_TCD8L3HP"
      },
      "execution_count": null,
      "outputs": []
    },
    {
      "cell_type": "markdown",
      "source": [
        "## Visualising positions of stars"
      ],
      "metadata": {
        "id": "3UVTlGZeL6QP"
      }
    },
    {
      "cell_type": "code",
      "source": [
        "# Run this cell to show the source code of the script.\n",
        "\n",
        "!cat ai2023_s11_05_00.py"
      ],
      "metadata": {
        "id": "B1kZtQ3eMG2g"
      },
      "execution_count": null,
      "outputs": []
    },
    {
      "cell_type": "code",
      "source": [
        "# Run this cell to execute the script.\n",
        "\n",
        "!python3.10 ai2023_s11_05_00.py -h"
      ],
      "metadata": {
        "id": "ALt6hbB6MG2j"
      },
      "execution_count": null,
      "outputs": []
    },
    {
      "cell_type": "code",
      "source": [
        "# Run this cell to execute the script.\n",
        "\n",
        "!python3.10 ai2023_s11_05_00.py -i ngc2547.vot.gz -o ngc2547_stars.png -t \"NGC 2547\""
      ],
      "metadata": {
        "id": "Ws6CRz4yMG2k"
      },
      "execution_count": null,
      "outputs": []
    },
    {
      "cell_type": "code",
      "source": [
        "# Run this cell to display PNG image.\n",
        "\n",
        "# importing IPython.display module\n",
        "import IPython.display\n",
        "\n",
        "# displaying PNG file\n",
        "IPython.display.Image ('ngc2547_stars.png')"
      ],
      "metadata": {
        "id": "1vHtAWcdMZfr"
      },
      "execution_count": null,
      "outputs": []
    },
    {
      "cell_type": "markdown",
      "source": [
        "# Practice s11-15"
      ],
      "metadata": {
        "id": "S_jiEif6Mc6V"
      }
    },
    {
      "cell_type": "code",
      "source": [
        "# Write down your code in this cell.\n",
        "\n",
        "\n",
        "\n",
        "\n"
      ],
      "metadata": {
        "id": "Vi5vrsXGMc6X"
      },
      "execution_count": null,
      "outputs": []
    },
    {
      "cell_type": "markdown",
      "source": [
        "## Errors of Gaia measurements"
      ],
      "metadata": {
        "id": "xMDLZrx1MgBx"
      }
    },
    {
      "cell_type": "markdown",
      "source": [
        "### RA measurement errors"
      ],
      "metadata": {
        "id": "jaYKnOOJNFz_"
      }
    },
    {
      "cell_type": "code",
      "source": [
        "# Run this cell to show the source code of the script.\n",
        "\n",
        "!cat ai2023_s11_05_01.py"
      ],
      "metadata": {
        "id": "a8DfD57pMm6c"
      },
      "execution_count": null,
      "outputs": []
    },
    {
      "cell_type": "code",
      "source": [
        "# Run this cell to execute the script.\n",
        "\n",
        "!python3.10 ai2023_s11_05_01.py -h"
      ],
      "metadata": {
        "id": "UfjZSly1Mm6k"
      },
      "execution_count": null,
      "outputs": []
    },
    {
      "cell_type": "code",
      "source": [
        "# Run this cell to execute the script.\n",
        "\n",
        "!python3.10 ai2023_s11_05_01.py -i ngc2547.vot.gz -o ngc2547_err_ra.png -t \"Errors of RA measurements\""
      ],
      "metadata": {
        "id": "8K1v0oVGMm6l"
      },
      "execution_count": null,
      "outputs": []
    },
    {
      "cell_type": "code",
      "source": [
        "# Run this cell to display PNG image.\n",
        "\n",
        "# importing IPython.display module\n",
        "import IPython.display\n",
        "\n",
        "# displaying PNG file\n",
        "IPython.display.Image ('ngc2547_err_ra.png')"
      ],
      "metadata": {
        "id": "NcTM-AaDMm6o"
      },
      "execution_count": null,
      "outputs": []
    },
    {
      "cell_type": "markdown",
      "source": [
        "# Practice s11-16"
      ],
      "metadata": {
        "id": "eAvsWOQwMyad"
      }
    },
    {
      "cell_type": "code",
      "source": [
        "# Write down your code in this cell.\n",
        "\n",
        "\n",
        "\n",
        "\n"
      ],
      "metadata": {
        "id": "8xpsOVQMMyag"
      },
      "execution_count": null,
      "outputs": []
    },
    {
      "cell_type": "markdown",
      "source": [
        "### Dec measurements errors"
      ],
      "metadata": {
        "id": "aoU70-4JNKF_"
      }
    },
    {
      "cell_type": "code",
      "source": [
        "# Run this cell to show the source code of the script.\n",
        "\n",
        "!cat ai2023_s11_05_02.py"
      ],
      "metadata": {
        "id": "_INsTATSM3tm"
      },
      "execution_count": null,
      "outputs": []
    },
    {
      "cell_type": "code",
      "source": [
        "# Run this cell to execute the script.\n",
        "\n",
        "!python3.10 ai2023_s11_05_02.py -h"
      ],
      "metadata": {
        "id": "-5PVNPdlM3tv"
      },
      "execution_count": null,
      "outputs": []
    },
    {
      "cell_type": "code",
      "source": [
        "# Run this cell to execute the script.\n",
        "\n",
        "!python3.10 ai2023_s11_05_02.py -i ngc2547.vot.gz -o ngc2547_err_dec.png -t \"Errors of Dec measurements\""
      ],
      "metadata": {
        "id": "Fo0sHF-cM3tw"
      },
      "execution_count": null,
      "outputs": []
    },
    {
      "cell_type": "code",
      "source": [
        "# Run this cell to display PNG image.\n",
        "\n",
        "# importing IPython.display module\n",
        "import IPython.display\n",
        "\n",
        "# displaying PNG file\n",
        "IPython.display.Image ('ngc2547_err_dec.png')"
      ],
      "metadata": {
        "id": "4GukChCRM3tx"
      },
      "execution_count": null,
      "outputs": []
    },
    {
      "cell_type": "markdown",
      "source": [
        "# Practice s11-17"
      ],
      "metadata": {
        "id": "gADLYA-sM3ty"
      }
    },
    {
      "cell_type": "code",
      "source": [
        "# Write down your code in this cell.\n",
        "\n",
        "\n",
        "\n",
        "\n"
      ],
      "metadata": {
        "id": "i8Yj_XKhM3tz"
      },
      "execution_count": null,
      "outputs": []
    },
    {
      "cell_type": "markdown",
      "source": [
        "### Proper motion measurements errors in RA direction"
      ],
      "metadata": {
        "id": "XisBtFxcNQ-X"
      }
    },
    {
      "cell_type": "code",
      "source": [
        "# Run this cell to show the source code of the script.\n",
        "\n",
        "!cat ai2023_s11_05_03.py"
      ],
      "metadata": {
        "id": "7JRvh8WDNQ-d"
      },
      "execution_count": null,
      "outputs": []
    },
    {
      "cell_type": "code",
      "source": [
        "# Run this cell to execute the script.\n",
        "\n",
        "!python3.10 ai2023_s11_05_03.py -h"
      ],
      "metadata": {
        "id": "wMIcnvoRNQ-e"
      },
      "execution_count": null,
      "outputs": []
    },
    {
      "cell_type": "code",
      "source": [
        "# Run this cell to execute the script.\n",
        "\n",
        "!python3.10 ai2023_s11_05_03.py -i ngc2547.vot.gz -o ngc2547_err_pm_ra.png -t \"Proper motion relative error in RA\""
      ],
      "metadata": {
        "id": "amibpvtSNQ-f"
      },
      "execution_count": null,
      "outputs": []
    },
    {
      "cell_type": "code",
      "source": [
        "# Run this cell to display PNG image.\n",
        "\n",
        "# importing IPython.display module\n",
        "import IPython.display\n",
        "\n",
        "# displaying PNG file\n",
        "IPython.display.Image ('ngc2547_err_pm_ra.png')"
      ],
      "metadata": {
        "id": "-cYexWDwNQ-f"
      },
      "execution_count": null,
      "outputs": []
    },
    {
      "cell_type": "markdown",
      "source": [
        "# Practice s11-18"
      ],
      "metadata": {
        "id": "VugDaWedNQ-g"
      }
    },
    {
      "cell_type": "code",
      "source": [
        "# Write down your code in this cell.\n",
        "\n",
        "\n",
        "\n",
        "\n"
      ],
      "metadata": {
        "id": "Mv5z10imNQ-g"
      },
      "execution_count": null,
      "outputs": []
    },
    {
      "cell_type": "markdown",
      "source": [
        "### Proper motion measurements errors in Dec direction"
      ],
      "metadata": {
        "id": "jq_qgBnqNi9W"
      }
    },
    {
      "cell_type": "code",
      "source": [
        "# Run this cell to show the source code of the script.\n",
        "\n",
        "!cat ai2023_s11_05_04.py"
      ],
      "metadata": {
        "id": "MmmETkBMNi9a"
      },
      "execution_count": null,
      "outputs": []
    },
    {
      "cell_type": "code",
      "source": [
        "# Run this cell to execute the script.\n",
        "\n",
        "!python3.10 ai2023_s11_05_04.py -h"
      ],
      "metadata": {
        "id": "0JN8v-soNi9c"
      },
      "execution_count": null,
      "outputs": []
    },
    {
      "cell_type": "code",
      "source": [
        "# Run this cell to execute the script.\n",
        "\n",
        "!python3.10 ai2023_s11_05_04.py -i ngc2547.vot.gz -o ngc2547_err_pm_dec.png -t \"Proper motion relative error in Dec\""
      ],
      "metadata": {
        "id": "DI52p_VeNi9e"
      },
      "execution_count": null,
      "outputs": []
    },
    {
      "cell_type": "code",
      "source": [
        "# Run this cell to display PNG image.\n",
        "\n",
        "# importing IPython.display module\n",
        "import IPython.display\n",
        "\n",
        "# displaying PNG file\n",
        "IPython.display.Image ('ngc2547_err_pm_dec.png')"
      ],
      "metadata": {
        "id": "hgh0h0uNNi9g"
      },
      "execution_count": null,
      "outputs": []
    },
    {
      "cell_type": "markdown",
      "source": [
        "# Practice s11-19"
      ],
      "metadata": {
        "id": "_WjLcCSTNi9h"
      }
    },
    {
      "cell_type": "code",
      "source": [
        "# Write down your code in this cell.\n",
        "\n",
        "\n",
        "\n",
        "\n"
      ],
      "metadata": {
        "id": "y9YGP15-Ni9j"
      },
      "execution_count": null,
      "outputs": []
    },
    {
      "cell_type": "markdown",
      "source": [
        "### SNR of parallax measurements"
      ],
      "metadata": {
        "id": "hiJBbfUvNxGk"
      }
    },
    {
      "cell_type": "code",
      "source": [
        "# Run this cell to show the source code of the script.\n",
        "\n",
        "!cat ai2023_s11_05_05.py"
      ],
      "metadata": {
        "id": "6_LCxATTNxGp"
      },
      "execution_count": null,
      "outputs": []
    },
    {
      "cell_type": "code",
      "source": [
        "# Run this cell to execute the script.\n",
        "\n",
        "!python3.10 ai2023_s11_05_05.py -h"
      ],
      "metadata": {
        "id": "Mgokuu5_NxGq"
      },
      "execution_count": null,
      "outputs": []
    },
    {
      "cell_type": "code",
      "source": [
        "# Run this cell to execute the script.\n",
        "\n",
        "!python3.10 ai2023_s11_05_05.py -i ngc2547.vot.gz -o ngc2547_err_parallax.png -t \"SNR of parallax measurements\""
      ],
      "metadata": {
        "id": "_tRSaOF7NxGq"
      },
      "execution_count": null,
      "outputs": []
    },
    {
      "cell_type": "code",
      "source": [
        "# Run this cell to display PNG image.\n",
        "\n",
        "# importing IPython.display module\n",
        "import IPython.display\n",
        "\n",
        "# displaying PNG file\n",
        "IPython.display.Image ('ngc2547_err_parallax.png')"
      ],
      "metadata": {
        "id": "aOTK5eQnNxGr"
      },
      "execution_count": null,
      "outputs": []
    },
    {
      "cell_type": "markdown",
      "source": [
        "# Practice s11-20"
      ],
      "metadata": {
        "id": "TecDwXRQNxGr"
      }
    },
    {
      "cell_type": "code",
      "source": [
        "# Write down your code in this cell.\n",
        "\n",
        "\n",
        "\n",
        "\n"
      ],
      "metadata": {
        "id": "fRjHe4E2NxGr"
      },
      "execution_count": null,
      "outputs": []
    },
    {
      "cell_type": "markdown",
      "source": [
        "### SNR of g-band magnitude measurements"
      ],
      "metadata": {
        "id": "M9W-4rIEOC5F"
      }
    },
    {
      "cell_type": "code",
      "source": [
        "# Run this cell to show the source code of the script.\n",
        "\n",
        "!cat ai2023_s11_05_06.py"
      ],
      "metadata": {
        "id": "1_XvrXdgOC5M"
      },
      "execution_count": null,
      "outputs": []
    },
    {
      "cell_type": "code",
      "source": [
        "# Run this cell to execute the script.\n",
        "\n",
        "!python3.10 ai2023_s11_05_06.py -h"
      ],
      "metadata": {
        "id": "38CdeRfjOC5O"
      },
      "execution_count": null,
      "outputs": []
    },
    {
      "cell_type": "code",
      "source": [
        "# Run this cell to execute the script.\n",
        "\n",
        "!python3.10 ai2023_s11_05_06.py -i ngc2547.vot.gz -o ngc2547_err_g.png -t \"SNR of g-band magnitude\""
      ],
      "metadata": {
        "id": "qxaZZP2ZOC5P"
      },
      "execution_count": null,
      "outputs": []
    },
    {
      "cell_type": "code",
      "source": [
        "# Run this cell to display PNG image.\n",
        "\n",
        "# importing IPython.display module\n",
        "import IPython.display\n",
        "\n",
        "# displaying PNG file\n",
        "IPython.display.Image ('ngc2547_err_g.png')"
      ],
      "metadata": {
        "id": "bBWBaOQGOC5Q"
      },
      "execution_count": null,
      "outputs": []
    },
    {
      "cell_type": "markdown",
      "source": [
        "# Practice s11-21"
      ],
      "metadata": {
        "id": "X5DwASBqOC5S"
      }
    },
    {
      "cell_type": "code",
      "source": [
        "# Write down your code in this cell.\n",
        "\n",
        "\n",
        "\n",
        "\n"
      ],
      "metadata": {
        "id": "yW5Mnj0hOC5T"
      },
      "execution_count": null,
      "outputs": []
    },
    {
      "cell_type": "markdown",
      "source": [
        "### SNR of b-band magnitude measurements"
      ],
      "metadata": {
        "id": "hBQnIAZnOU9W"
      }
    },
    {
      "cell_type": "code",
      "source": [
        "# Run this cell to show the source code of the script.\n",
        "\n",
        "!cat ai2023_s11_05_07.py"
      ],
      "metadata": {
        "id": "Hujhcp1WOU9Y"
      },
      "execution_count": null,
      "outputs": []
    },
    {
      "cell_type": "code",
      "source": [
        "# Run this cell to execute the script.\n",
        "\n",
        "!python3.10 ai2023_s11_05_07.py -h"
      ],
      "metadata": {
        "id": "XWJYTX-hOU9Z"
      },
      "execution_count": null,
      "outputs": []
    },
    {
      "cell_type": "code",
      "source": [
        "# Run this cell to execute the script.\n",
        "\n",
        "!python3.10 ai2023_s11_05_07.py -i ngc2547.vot.gz -o ngc2547_err_b.png -t \"SNR of b-band magnitude\""
      ],
      "metadata": {
        "id": "qV3AA35MOU9a"
      },
      "execution_count": null,
      "outputs": []
    },
    {
      "cell_type": "code",
      "source": [
        "# Run this cell to display PNG image.\n",
        "\n",
        "# importing IPython.display module\n",
        "import IPython.display\n",
        "\n",
        "# displaying PNG file\n",
        "IPython.display.Image ('ngc2547_err_b.png')"
      ],
      "metadata": {
        "id": "dH-z6HYcOU9b"
      },
      "execution_count": null,
      "outputs": []
    },
    {
      "cell_type": "markdown",
      "source": [
        "# Practice s11-22"
      ],
      "metadata": {
        "id": "d-z887zjOU9c"
      }
    },
    {
      "cell_type": "code",
      "source": [
        "# Write down your code in this cell.\n",
        "\n",
        "\n",
        "\n",
        "\n"
      ],
      "metadata": {
        "id": "H4-oArFpOU9d"
      },
      "execution_count": null,
      "outputs": []
    },
    {
      "cell_type": "markdown",
      "source": [
        "### SNR of r-band magnitude measurements"
      ],
      "metadata": {
        "id": "CHS1ZU_gOfS3"
      }
    },
    {
      "cell_type": "code",
      "source": [
        "# Run this cell to show the source code of the script.\n",
        "\n",
        "!cat ai2023_s11_05_08.py"
      ],
      "metadata": {
        "id": "9rkFeVH4OfS9"
      },
      "execution_count": null,
      "outputs": []
    },
    {
      "cell_type": "code",
      "source": [
        "# Run this cell to execute the script.\n",
        "\n",
        "!python3.10 ai2023_s11_05_08.py -h"
      ],
      "metadata": {
        "id": "aix_isT1OfTA"
      },
      "execution_count": null,
      "outputs": []
    },
    {
      "cell_type": "code",
      "source": [
        "# Run this cell to execute the script.\n",
        "\n",
        "!python3.10 ai2023_s11_05_08.py -i ngc2547.vot.gz -o ngc2547_err_r.png -t \"SNR of r-band magnitude\""
      ],
      "metadata": {
        "id": "kvRpJw0_OfTC"
      },
      "execution_count": null,
      "outputs": []
    },
    {
      "cell_type": "code",
      "source": [
        "# Run this cell to display PNG image.\n",
        "\n",
        "# importing IPython.display module\n",
        "import IPython.display\n",
        "\n",
        "# displaying PNG file\n",
        "IPython.display.Image ('ngc2547_err_r.png')"
      ],
      "metadata": {
        "id": "a5onmjyhOfTE"
      },
      "execution_count": null,
      "outputs": []
    },
    {
      "cell_type": "markdown",
      "source": [
        "# Practice s11-23"
      ],
      "metadata": {
        "id": "gArk529eOfTH"
      }
    },
    {
      "cell_type": "code",
      "source": [
        "# Write down your code in this cell.\n",
        "\n",
        "\n",
        "\n",
        "\n"
      ],
      "metadata": {
        "id": "Uo97LBITOfTJ"
      },
      "execution_count": null,
      "outputs": []
    },
    {
      "cell_type": "markdown",
      "source": [
        "## Distance distribution"
      ],
      "metadata": {
        "id": "1D9ubCwOOvwc"
      }
    },
    {
      "cell_type": "code",
      "source": [
        "# Run this cell to show the source code of the script.\n",
        "\n",
        "!cat ai2023_s11_05_09.py"
      ],
      "metadata": {
        "id": "SG8odxzBO2s2"
      },
      "execution_count": null,
      "outputs": []
    },
    {
      "cell_type": "code",
      "source": [
        "# Run this cell to execute the script.\n",
        "\n",
        "!python3.10 ai2023_s11_05_09.py -h"
      ],
      "metadata": {
        "id": "GIuUZYLrO2s3"
      },
      "execution_count": null,
      "outputs": []
    },
    {
      "cell_type": "code",
      "source": [
        "# Run this cell to execute the script.\n",
        "\n",
        "!python3.10 ai2023_s11_05_09.py -i ngc2547.vot.gz -o ngc2547_dist.png -a 0 -b 1000 -n 100"
      ],
      "metadata": {
        "id": "I6wLWhfIO2s4"
      },
      "execution_count": null,
      "outputs": []
    },
    {
      "cell_type": "code",
      "source": [
        "# Run this cell to display PNG image.\n",
        "\n",
        "# importing IPython.display module\n",
        "import IPython.display\n",
        "\n",
        "# displaying PNG file\n",
        "IPython.display.Image ('ngc2547_dist.png')"
      ],
      "metadata": {
        "id": "tS6rRCG6O2s6"
      },
      "execution_count": null,
      "outputs": []
    },
    {
      "cell_type": "markdown",
      "source": [
        "# Practice s11-24"
      ],
      "metadata": {
        "id": "zgI6RjfiO2s7"
      }
    },
    {
      "cell_type": "code",
      "source": [
        "# Write down your code in this cell.\n",
        "\n",
        "\n",
        "\n",
        "\n"
      ],
      "metadata": {
        "id": "g6YXH961O2s7"
      },
      "execution_count": null,
      "outputs": []
    },
    {
      "cell_type": "code",
      "source": [
        "# Run this cell to execute the script.\n",
        "\n",
        "!python3.10 ai2023_s11_05_09.py -i ngc2547.vot.gz -o ngc2547_dist2.png -a 300 -b 500 -n 40"
      ],
      "metadata": {
        "id": "D9xvqB_RPFV-"
      },
      "execution_count": null,
      "outputs": []
    },
    {
      "cell_type": "code",
      "source": [
        "# Run this cell to display PNG image.\n",
        "\n",
        "# importing IPython.display module\n",
        "import IPython.display\n",
        "\n",
        "# displaying PNG file\n",
        "IPython.display.Image ('ngc2547_dist2.png')"
      ],
      "metadata": {
        "id": "qqyVZ_eYPFWA"
      },
      "execution_count": null,
      "outputs": []
    },
    {
      "cell_type": "markdown",
      "source": [
        "# Practice s11-25"
      ],
      "metadata": {
        "id": "qdgktzq8PFWB"
      }
    },
    {
      "cell_type": "code",
      "source": [
        "# Write down your code in this cell.\n",
        "\n",
        "\n",
        "\n",
        "\n"
      ],
      "metadata": {
        "id": "9Ox5z2BLPFWD"
      },
      "execution_count": null,
      "outputs": []
    },
    {
      "cell_type": "markdown",
      "source": [
        "## Selecting stars by distance"
      ],
      "metadata": {
        "id": "al8SGmENPNcD"
      }
    },
    {
      "cell_type": "code",
      "source": [
        "# Run this cell to show the source code of the script.\n",
        "\n",
        "!cat ai2023_s11_05_10.py"
      ],
      "metadata": {
        "id": "AHFMDkVpPS4r"
      },
      "execution_count": null,
      "outputs": []
    },
    {
      "cell_type": "code",
      "source": [
        "# Run this cell to execute the script.\n",
        "\n",
        "!python3.10 ai2023_s11_05_10.py -h"
      ],
      "metadata": {
        "id": "0mGNomEWPS4s"
      },
      "execution_count": null,
      "outputs": []
    },
    {
      "cell_type": "code",
      "source": [
        "# Run this cell to execute the script.\n",
        "\n",
        "!python3.10 ai2023_s11_05_10.py -i ngc2547.vot.gz -o ngc2547_candidates.list -a 375 -b 405"
      ],
      "metadata": {
        "id": "a18dfS9HPS4t"
      },
      "execution_count": null,
      "outputs": []
    },
    {
      "cell_type": "markdown",
      "source": [
        "# Practice s11-26"
      ],
      "metadata": {
        "id": "AEvDY0YJPS4u"
      }
    },
    {
      "cell_type": "code",
      "source": [
        "# Write down your code in this cell.\n",
        "\n",
        "\n",
        "\n",
        "\n"
      ],
      "metadata": {
        "id": "3I9rxNzpPS4v"
      },
      "execution_count": null,
      "outputs": []
    },
    {
      "cell_type": "markdown",
      "source": [
        "## Proper motion of selected stars"
      ],
      "metadata": {
        "id": "bWbJjC82PloL"
      }
    },
    {
      "cell_type": "code",
      "source": [
        "# Run this cell to show the source code of the script.\n",
        "\n",
        "!cat ai2023_s11_05_11.py"
      ],
      "metadata": {
        "id": "RpUydbGPPpCZ"
      },
      "execution_count": null,
      "outputs": []
    },
    {
      "cell_type": "code",
      "source": [
        "# Run this cell to execute the script.\n",
        "\n",
        "!python3.10 ai2023_s11_05_11.py -h"
      ],
      "metadata": {
        "id": "zzd7OBccPpCa"
      },
      "execution_count": null,
      "outputs": []
    },
    {
      "cell_type": "code",
      "source": [
        "# Run this cell to execute the script.\n",
        "\n",
        "!python3.10 ai2023_s11_05_11.py -i ngc2547_candidates.list -o ngc2547_pm.png"
      ],
      "metadata": {
        "id": "Yjd-OabrPpCc"
      },
      "execution_count": null,
      "outputs": []
    },
    {
      "cell_type": "code",
      "source": [
        "# Run this cell to display PNG image.\n",
        "\n",
        "# importing IPython.display module\n",
        "import IPython.display\n",
        "\n",
        "# displaying PNG file\n",
        "IPython.display.Image ('ngc2547_pm.png')"
      ],
      "metadata": {
        "id": "36kKvdoTP1eH"
      },
      "execution_count": null,
      "outputs": []
    },
    {
      "cell_type": "markdown",
      "source": [
        "# Practice s11-27"
      ],
      "metadata": {
        "id": "ULJRVeAtPpCe"
      }
    },
    {
      "cell_type": "code",
      "source": [
        "# Write down your code in this cell.\n",
        "\n",
        "\n",
        "\n",
        "\n"
      ],
      "metadata": {
        "id": "SVsd6YhQPpCf"
      },
      "execution_count": null,
      "outputs": []
    },
    {
      "cell_type": "markdown",
      "source": [
        "## Futher selection of stars by proper motion"
      ],
      "metadata": {
        "id": "RkgfL8ewP6v3"
      }
    },
    {
      "cell_type": "code",
      "source": [
        "# Run this cell to show the source code of the script.\n",
        "\n",
        "!cat ai2023_s11_05_12.py"
      ],
      "metadata": {
        "id": "ULPQnq2NQDY9"
      },
      "execution_count": null,
      "outputs": []
    },
    {
      "cell_type": "code",
      "source": [
        "# Run this cell to execute the script.\n",
        "\n",
        "!python3.10 ai2023_s11_05_12.py -h"
      ],
      "metadata": {
        "id": "EcrdIWMNQDY_"
      },
      "execution_count": null,
      "outputs": []
    },
    {
      "cell_type": "code",
      "source": [
        "# Run this cell to execute the script.\n",
        "\n",
        "!python3.10 ai2023_s11_05_12.py -i ngc2547_candidates.list -o ngc2547_candidates2.list"
      ],
      "metadata": {
        "id": "b5VwMtCAQDZB"
      },
      "execution_count": null,
      "outputs": []
    },
    {
      "cell_type": "code",
      "source": [
        "# Run this cell to visualise proper motion vectors of selected stars.\n",
        "\n",
        "!python3.10 ai2023_s11_05_11.py -i ngc2547_candidates2.list -o ngc2547_pm2.png"
      ],
      "metadata": {
        "id": "o5xhFp2RQKR_"
      },
      "execution_count": null,
      "outputs": []
    },
    {
      "cell_type": "code",
      "source": [
        "# Run this cell to display PNG image.\n",
        "\n",
        "# importing IPython.display module\n",
        "import IPython.display\n",
        "\n",
        "# displaying PNG file\n",
        "IPython.display.Image ('ngc2547_pm2.png')"
      ],
      "metadata": {
        "id": "bw8BxAgkQDZD"
      },
      "execution_count": null,
      "outputs": []
    },
    {
      "cell_type": "markdown",
      "source": [
        "# Practice s11-28"
      ],
      "metadata": {
        "id": "foUCcAzkQDZE"
      }
    },
    {
      "cell_type": "code",
      "source": [
        "# Write down your code in this cell.\n",
        "\n",
        "\n",
        "\n",
        "\n"
      ],
      "metadata": {
        "id": "wjTCoXsJQDZF"
      },
      "execution_count": null,
      "outputs": []
    },
    {
      "cell_type": "markdown",
      "source": [
        "## Constructing HR diagram of NGC 2547"
      ],
      "metadata": {
        "id": "W1OH8Mo4Qaej"
      }
    },
    {
      "cell_type": "code",
      "source": [
        "# Run this cell to show the source code of the script.\n",
        "\n",
        "!cat ai2023_s11_05_13.py"
      ],
      "metadata": {
        "id": "rZ1tFeZZQuHB"
      },
      "execution_count": null,
      "outputs": []
    },
    {
      "cell_type": "code",
      "source": [
        "# Run this cell to execute the script.\n",
        "\n",
        "!python3.10 ai2023_s11_05_13.py -h"
      ],
      "metadata": {
        "id": "zp_W6QPEQuHH"
      },
      "execution_count": null,
      "outputs": []
    },
    {
      "cell_type": "code",
      "source": [
        "# Run this cell to execute the script.\n",
        "\n",
        "!python3.10 ai2023_s11_05_13.py -i ngc2547_candidates2.list -o ngc2547_hr.png -t \"Open Cluster NGC 2547\""
      ],
      "metadata": {
        "id": "me2YEWuuQuHJ"
      },
      "execution_count": null,
      "outputs": []
    },
    {
      "cell_type": "code",
      "source": [
        "# Run this cell to display PNG image.\n",
        "\n",
        "# importing IPython.display module\n",
        "import IPython.display\n",
        "\n",
        "# displaying PNG file\n",
        "IPython.display.Image ('ngc2547_hr.png')"
      ],
      "metadata": {
        "id": "xxdtIwjyQuHO"
      },
      "execution_count": null,
      "outputs": []
    },
    {
      "cell_type": "markdown",
      "source": [
        "# Practice s11-29"
      ],
      "metadata": {
        "id": "fQAKZ_RTQuHQ"
      }
    },
    {
      "cell_type": "code",
      "source": [
        "# Write down your code in this cell.\n",
        "\n",
        "\n",
        "\n",
        "\n"
      ],
      "metadata": {
        "id": "RC5zE9NfQuHR"
      },
      "execution_count": null,
      "outputs": []
    },
    {
      "cell_type": "markdown",
      "source": [
        "# Constraining the age of NGC 2547"
      ],
      "metadata": {
        "id": "KZW2uV2YQ8jx"
      }
    },
    {
      "cell_type": "markdown",
      "source": [
        "## Downloading data"
      ],
      "metadata": {
        "id": "trnPCnqeRBPu"
      }
    },
    {
      "cell_type": "code",
      "source": [
        "# Run this cell to show the source code of the script.\n",
        "\n",
        "!cat ai2023_s11_06_00.py"
      ],
      "metadata": {
        "id": "qAzYNWHxRGlK"
      },
      "execution_count": null,
      "outputs": []
    },
    {
      "cell_type": "code",
      "source": [
        "# Run this cell to execute the script.\n",
        "\n",
        "!python3.10 ai2023_s11_06_00.py"
      ],
      "metadata": {
        "id": "4Q-2JwY-RGlL"
      },
      "execution_count": null,
      "outputs": []
    },
    {
      "cell_type": "markdown",
      "source": [
        "## Reading data file"
      ],
      "metadata": {
        "id": "zzCqY-btRLTE"
      }
    },
    {
      "cell_type": "code",
      "source": [
        "# Run this cell to show the source code of the script.\n",
        "\n",
        "!cat ai2023_s11_06_01.py"
      ],
      "metadata": {
        "id": "ISP-19WKROUy"
      },
      "execution_count": null,
      "outputs": []
    },
    {
      "cell_type": "code",
      "source": [
        "# Run this cell to execute the script.\n",
        "\n",
        "!python3.10 ai2023_s11_06_01.py"
      ],
      "metadata": {
        "id": "Cz_sqovNROU0"
      },
      "execution_count": null,
      "outputs": []
    },
    {
      "cell_type": "markdown",
      "source": [
        "## Visualising location of the main-sequence"
      ],
      "metadata": {
        "id": "RnTADXttRUg1"
      }
    },
    {
      "cell_type": "code",
      "source": [
        "# Run this cell to show the source code of the script.\n",
        "\n",
        "!cat ai2023_s11_06_02.py"
      ],
      "metadata": {
        "id": "VbARK9uKRS3D"
      },
      "execution_count": null,
      "outputs": []
    },
    {
      "cell_type": "code",
      "source": [
        "# Run this cell to execute the script.\n",
        "\n",
        "!python3.10 ai2023_s11_06_02.py -h"
      ],
      "metadata": {
        "id": "NIXMcXRPRS3F"
      },
      "execution_count": null,
      "outputs": []
    },
    {
      "cell_type": "code",
      "source": [
        "# Run this cell to execute the script.\n",
        "\n",
        "!python3.10 ai2023_s11_06_02.py -i ngc2547_candidates2.list -o ngc2547_hr2.png -t \"Open Cluster NGC 2547\""
      ],
      "metadata": {
        "id": "ZGNYAVv2RS3G"
      },
      "execution_count": null,
      "outputs": []
    },
    {
      "cell_type": "code",
      "source": [
        "# Run this cell to display PNG image.\n",
        "\n",
        "# importing IPython.display module\n",
        "import IPython.display\n",
        "\n",
        "# displaying PNG file\n",
        "IPython.display.Image ('ngc2547_hr2.png')"
      ],
      "metadata": {
        "id": "tZ6k-QpnRS3H"
      },
      "execution_count": null,
      "outputs": []
    },
    {
      "cell_type": "markdown",
      "source": [
        "# HR diagram of open cluster M39"
      ],
      "metadata": {
        "id": "5d6VK5fwRnUw"
      }
    },
    {
      "cell_type": "markdown",
      "source": [
        "## Downloading DSS image"
      ],
      "metadata": {
        "id": "dbTp4wwbRvR4"
      }
    },
    {
      "cell_type": "code",
      "source": [
        "# Run this cell to download DSS image.\n",
        "\n",
        "!python3.10 ai2023_s11_02_04.py -t M39 -f 90 -o m39.png -n M39 -s \"DSS2 Red\" -c bone"
      ],
      "metadata": {
        "id": "NgwJD3B1RyFA"
      },
      "execution_count": null,
      "outputs": []
    },
    {
      "cell_type": "code",
      "source": [
        "# Run this cell to display PNG image.\n",
        "\n",
        "# importing IPython.display module\n",
        "import IPython.display\n",
        "\n",
        "# displaying PNG file\n",
        "IPython.display.Image ('m39.png')"
      ],
      "metadata": {
        "id": "_6ebT0R-R9b2"
      },
      "execution_count": null,
      "outputs": []
    },
    {
      "cell_type": "markdown",
      "source": [
        "# Downloading Gaia DR3 data"
      ],
      "metadata": {
        "id": "m5YoNpYzSAIZ"
      }
    },
    {
      "cell_type": "code",
      "source": [
        "# Run this cell to download Gaia DR3 data.\n",
        "\n",
        "!python3.10 ai2023_s11_03_01.py -t M39 -o m39.vot.gz -r 45"
      ],
      "metadata": {
        "id": "-RbQQRziSDd_"
      },
      "execution_count": null,
      "outputs": []
    },
    {
      "cell_type": "markdown",
      "source": [
        "## Visualising distance ditribution of stars"
      ],
      "metadata": {
        "id": "zAXR-2iDSMWG"
      }
    },
    {
      "cell_type": "code",
      "source": [
        "# Run this cell to visualise distance distribution of stars.\n",
        "\n",
        "!python3.10 ai2023_s11_05_09.py -i m39.vot.gz -o m39_dist.png -a 0 -b 1000 -n 200"
      ],
      "metadata": {
        "id": "lnkzQCnBSPww"
      },
      "execution_count": null,
      "outputs": []
    },
    {
      "cell_type": "code",
      "source": [
        "# Run this cell to display PNG image.\n",
        "\n",
        "# importing IPython.display module\n",
        "import IPython.display\n",
        "\n",
        "# displaying PNG file\n",
        "IPython.display.Image ('m39_dist.png')"
      ],
      "metadata": {
        "id": "BJeeXMDVSZa1"
      },
      "execution_count": null,
      "outputs": []
    },
    {
      "cell_type": "code",
      "source": [
        "# Run this cell to visualise distance distribution of stars.\n",
        "\n",
        "!python3.10 ai2023_s11_05_09.py -i m39.vot.gz -o m39_dist2.png -a 250 -b 350 -n 50"
      ],
      "metadata": {
        "id": "LobzG0VJSdva"
      },
      "execution_count": null,
      "outputs": []
    },
    {
      "cell_type": "code",
      "source": [
        "# Run this cell to display PNG image.\n",
        "\n",
        "# importing IPython.display module\n",
        "import IPython.display\n",
        "\n",
        "# displaying PNG file\n",
        "IPython.display.Image ('m39_dist2.png')"
      ],
      "metadata": {
        "id": "aGF9e7I9Sdvc"
      },
      "execution_count": null,
      "outputs": []
    },
    {
      "cell_type": "markdown",
      "source": [
        "## Selecting stars by distance"
      ],
      "metadata": {
        "id": "QSpqQlaZSmMw"
      }
    },
    {
      "cell_type": "code",
      "source": [
        "# Run this cell to select stars by distance.\n",
        "\n",
        "!python3.10 ai2023_s11_05_10.py -i m39.vot.gz -o m39_candidates.list -a 290 -b 306"
      ],
      "metadata": {
        "id": "AeDGbQiGSpmU"
      },
      "execution_count": null,
      "outputs": []
    },
    {
      "cell_type": "markdown",
      "source": [
        "## Proper motion of stars"
      ],
      "metadata": {
        "id": "jNHdewmSSyfK"
      }
    },
    {
      "cell_type": "code",
      "source": [
        "# Run this cell to visualise proper motion of stars.\n",
        "\n",
        "!python3.10 ai2023_s11_05_11.py -i m39_candidates.list -o m39_pm.png"
      ],
      "metadata": {
        "id": "gzjalI3-S3WQ"
      },
      "execution_count": null,
      "outputs": []
    },
    {
      "cell_type": "code",
      "source": [
        "# Run this cell to display PNG image.\n",
        "\n",
        "# importing IPython.display module\n",
        "import IPython.display\n",
        "\n",
        "# displaying PNG file\n",
        "IPython.display.Image ('m39_pm.png')"
      ],
      "metadata": {
        "id": "14BxqYf9S__f"
      },
      "execution_count": null,
      "outputs": []
    },
    {
      "cell_type": "markdown",
      "source": [
        "## Further selection of stars by proper motion"
      ],
      "metadata": {
        "id": "9yNsb96zTCiU"
      }
    },
    {
      "cell_type": "code",
      "source": [
        "# Run this cell to select stars by proper motion.\n",
        "\n",
        "!python3.10 ai2023_s11_05_12.py -i m39_candidates.list -o m39_candidates2.list"
      ],
      "metadata": {
        "id": "90mmgs6hTG58"
      },
      "execution_count": null,
      "outputs": []
    },
    {
      "cell_type": "markdown",
      "source": [
        "## Visualising proper motion of stars after the selection"
      ],
      "metadata": {
        "id": "uZk28-GDTUf5"
      }
    },
    {
      "cell_type": "code",
      "source": [
        "# Run this cell to visualise proper motion of stars after selection by distance and proper motion.\n",
        "\n",
        "!python3.10 ai2023_s11_05_11.py -i m39_candidates2.list -o m39_pm2.png"
      ],
      "metadata": {
        "id": "MSYhjcO4RChw"
      },
      "execution_count": null,
      "outputs": []
    },
    {
      "cell_type": "code",
      "source": [
        "# Run this cell to display PNG image.\n",
        "\n",
        "# importing IPython.display module\n",
        "import IPython.display\n",
        "\n",
        "# displaying PNG file\n",
        "IPython.display.Image ('m39_pm2.png')"
      ],
      "metadata": {
        "id": "Q8UnOkzXTm9s"
      },
      "execution_count": null,
      "outputs": []
    },
    {
      "cell_type": "markdown",
      "source": [
        "## Constructing HR diagram"
      ],
      "metadata": {
        "id": "qPyHjXqyTo04"
      }
    },
    {
      "cell_type": "code",
      "source": [
        "# Run this cell to construct HR diagram.\n",
        "\n",
        "!python3.10 ai2023_s11_05_13.py -i m39_candidates2.list -o m39_hr.png -t \"Open Cluster M39\""
      ],
      "metadata": {
        "id": "53gIk5kzTqRz"
      },
      "execution_count": null,
      "outputs": []
    },
    {
      "cell_type": "code",
      "source": [
        "# Run this cell to display PNG image.\n",
        "\n",
        "# importing IPython.display module\n",
        "import IPython.display\n",
        "\n",
        "# displaying PNG file\n",
        "IPython.display.Image ('m39_hr.png')"
      ],
      "metadata": {
        "id": "9HwCsw9QT0H2"
      },
      "execution_count": null,
      "outputs": []
    },
    {
      "cell_type": "markdown",
      "source": [
        "## Superimposing synthetic main-sequence"
      ],
      "metadata": {
        "id": "iRIA9tFzT3NJ"
      }
    },
    {
      "cell_type": "code",
      "source": [
        "# Run this cell to superimpose synthetic main-sequence on HR diagram.\n",
        "\n",
        "!python3.10 ai2023_s11_06_02.py -i m39_candidates2.list -o m39_hr2.png -t \"Open Cluster M39\""
      ],
      "metadata": {
        "id": "zCFh_xu7TyPl"
      },
      "execution_count": null,
      "outputs": []
    },
    {
      "cell_type": "code",
      "source": [
        "# Run this cell to display PNG image.\n",
        "\n",
        "# importing IPython.display module\n",
        "import IPython.display\n",
        "\n",
        "# displaying PNG file\n",
        "IPython.display.Image ('m39_hr2.png')"
      ],
      "metadata": {
        "id": "TaH3EHFIUEWt"
      },
      "execution_count": null,
      "outputs": []
    },
    {
      "cell_type": "markdown",
      "source": [
        "# HR diagram of open cluster IC 4756"
      ],
      "metadata": {
        "id": "rRmaIreNUPmF"
      }
    },
    {
      "cell_type": "markdown",
      "source": [
        "## Downloading DSS image"
      ],
      "metadata": {
        "id": "99OoKLSQUPmJ"
      }
    },
    {
      "cell_type": "code",
      "source": [
        "# Run this cell to download DSS image.\n",
        "\n",
        "!python3.10 ai2023_s11_02_04.py -t \"IC 4756\" -f 90 -o ic4756.png -n \"IC 4756\" -s \"DSS2 Red\" -c inferno"
      ],
      "metadata": {
        "id": "flcKtwCEUPmK"
      },
      "execution_count": null,
      "outputs": []
    },
    {
      "cell_type": "code",
      "source": [
        "# Run this cell to display PNG image.\n",
        "\n",
        "# importing IPython.display module\n",
        "import IPython.display\n",
        "\n",
        "# displaying PNG file\n",
        "IPython.display.Image ('ic4756.png')"
      ],
      "metadata": {
        "id": "nt8_oJCZUPmK"
      },
      "execution_count": null,
      "outputs": []
    },
    {
      "cell_type": "markdown",
      "source": [
        "# Downloading Gaia DR3 data"
      ],
      "metadata": {
        "id": "9Jf7vv6sUPmL"
      }
    },
    {
      "cell_type": "code",
      "source": [
        "# Run this cell to download Gaia DR3 data.\n",
        "\n",
        "!python3.10 ai2023_s11_03_01.py -t \"IC 4756\" -o ic4756.vot.gz -r 30"
      ],
      "metadata": {
        "id": "Z4JRp2Q_UPmL"
      },
      "execution_count": null,
      "outputs": []
    },
    {
      "cell_type": "markdown",
      "source": [
        "## Visualising distance ditribution of stars"
      ],
      "metadata": {
        "id": "R18K7RH-UPmL"
      }
    },
    {
      "cell_type": "code",
      "source": [
        "# Run this cell to visualise distance distribution of stars.\n",
        "\n",
        "!python3.10 ai2023_s11_05_09.py -i ic4756.vot.gz -o ic4756_dist.png -a 0 -b 1000 -n 200"
      ],
      "metadata": {
        "id": "fmLrBvH2UPmN"
      },
      "execution_count": null,
      "outputs": []
    },
    {
      "cell_type": "code",
      "source": [
        "# Run this cell to display PNG image.\n",
        "\n",
        "# importing IPython.display module\n",
        "import IPython.display\n",
        "\n",
        "# displaying PNG file\n",
        "IPython.display.Image ('ic4756_dist.png')"
      ],
      "metadata": {
        "id": "SG9R2PRMUPmN"
      },
      "execution_count": null,
      "outputs": []
    },
    {
      "cell_type": "code",
      "source": [
        "# Run this cell to visualise distance distribution of stars.\n",
        "\n",
        "!python3.10 ai2023_s11_05_09.py -i ic4756.vot.gz -o ic4756_dist2.png -a 400 -b 560 -n 80"
      ],
      "metadata": {
        "id": "Q3_I0kH3UPmP"
      },
      "execution_count": null,
      "outputs": []
    },
    {
      "cell_type": "code",
      "source": [
        "# Run this cell to display PNG image.\n",
        "\n",
        "# importing IPython.display module\n",
        "import IPython.display\n",
        "\n",
        "# displaying PNG file\n",
        "IPython.display.Image ('ic4756_dist2.png')"
      ],
      "metadata": {
        "id": "qKsJVKmZUPmP"
      },
      "execution_count": null,
      "outputs": []
    },
    {
      "cell_type": "markdown",
      "source": [
        "## Selecting stars by distance"
      ],
      "metadata": {
        "id": "ij7tXPQfUPmR"
      }
    },
    {
      "cell_type": "code",
      "source": [
        "# Run this cell to select stars by distance.\n",
        "\n",
        "!python3.10 ai2023_s11_05_10.py -i ic4756.vot.gz -o ic4756_candidates.list -a 462 -b 484"
      ],
      "metadata": {
        "id": "uAhFBaI1UPmR"
      },
      "execution_count": null,
      "outputs": []
    },
    {
      "cell_type": "markdown",
      "source": [
        "## Proper motion of stars"
      ],
      "metadata": {
        "id": "8jnM3aRjUPmR"
      }
    },
    {
      "cell_type": "code",
      "source": [
        "# Run this cell to visualise proper motion of stars.\n",
        "\n",
        "!python3.10 ai2023_s11_05_11.py -i ic4756_candidates.list -o ic4756_pm.png"
      ],
      "metadata": {
        "id": "r2cQbMOAUPmR"
      },
      "execution_count": null,
      "outputs": []
    },
    {
      "cell_type": "code",
      "source": [
        "# Run this cell to display PNG image.\n",
        "\n",
        "# importing IPython.display module\n",
        "import IPython.display\n",
        "\n",
        "# displaying PNG file\n",
        "IPython.display.Image ('ic4756_pm.png')"
      ],
      "metadata": {
        "id": "wdobjewoUPmR"
      },
      "execution_count": null,
      "outputs": []
    },
    {
      "cell_type": "markdown",
      "source": [
        "## Further selection of stars by proper motion"
      ],
      "metadata": {
        "id": "UWuHhz_iUPmS"
      }
    },
    {
      "cell_type": "code",
      "source": [
        "# Run this cell to select stars by proper motion.\n",
        "\n",
        "!python3.10 ai2023_s11_05_12.py -i ic4756_candidates.list -o ic4756_candidates2.list"
      ],
      "metadata": {
        "id": "roQnLte0UPmS"
      },
      "execution_count": null,
      "outputs": []
    },
    {
      "cell_type": "markdown",
      "source": [
        "## Visualising proper motion of stars after the selection"
      ],
      "metadata": {
        "id": "7i-J8XQFUPmT"
      }
    },
    {
      "cell_type": "code",
      "source": [
        "# Run this cell to visualise proper motion of stars after selection by distance and proper motion.\n",
        "\n",
        "!python3.10 ai2023_s11_05_11.py -i ic4756_candidates2.list -o ic4756_pm2.png"
      ],
      "metadata": {
        "id": "N3SPMoHOUPmT"
      },
      "execution_count": null,
      "outputs": []
    },
    {
      "cell_type": "code",
      "source": [
        "# Run this cell to display PNG image.\n",
        "\n",
        "# importing IPython.display module\n",
        "import IPython.display\n",
        "\n",
        "# displaying PNG file\n",
        "IPython.display.Image ('ic4756_pm2.png')"
      ],
      "metadata": {
        "id": "SOCYaX8kUPmU"
      },
      "execution_count": null,
      "outputs": []
    },
    {
      "cell_type": "markdown",
      "source": [
        "## Constructing HR diagram"
      ],
      "metadata": {
        "id": "S-QJXxtfUPmU"
      }
    },
    {
      "cell_type": "code",
      "source": [
        "# Run this cell to construct HR diagram.\n",
        "\n",
        "!python3.10 ai2023_s11_05_13.py -i ic4756_candidates2.list -o ic4756_hr.png -t \"Open Cluster IC 4756\""
      ],
      "metadata": {
        "id": "2JjbGRBGUPmU"
      },
      "execution_count": null,
      "outputs": []
    },
    {
      "cell_type": "code",
      "source": [
        "# Run this cell to display PNG image.\n",
        "\n",
        "# importing IPython.display module\n",
        "import IPython.display\n",
        "\n",
        "# displaying PNG file\n",
        "IPython.display.Image ('ic4756_hr.png')"
      ],
      "metadata": {
        "id": "oVB4Q-w8UPmV"
      },
      "execution_count": null,
      "outputs": []
    },
    {
      "cell_type": "markdown",
      "source": [
        "## Superimposing synthetic main-sequence"
      ],
      "metadata": {
        "id": "dM2NEWyEUPmV"
      }
    },
    {
      "cell_type": "code",
      "source": [
        "# Run this cell to superimpose synthetic main-sequence on HR diagram.\n",
        "\n",
        "!python3.10 ai2023_s11_06_02.py -i ic4756_candidates2.list -o ic4756_hr2.png -t \"Open Cluster IC 4756\""
      ],
      "metadata": {
        "id": "Ukq3gAP2UPmV"
      },
      "execution_count": null,
      "outputs": []
    },
    {
      "cell_type": "code",
      "source": [
        "# Run this cell to display PNG image.\n",
        "\n",
        "# importing IPython.display module\n",
        "import IPython.display\n",
        "\n",
        "# displaying PNG file\n",
        "IPython.display.Image ('ic4756_hr2.png')"
      ],
      "metadata": {
        "id": "yQfnBBT6UPmW"
      },
      "execution_count": null,
      "outputs": []
    },
    {
      "cell_type": "markdown",
      "source": [
        "# HR diagram of open cluster M67"
      ],
      "metadata": {
        "id": "Nl4_EWLwVIv6"
      }
    },
    {
      "cell_type": "markdown",
      "source": [
        "## Downloading SDSS image"
      ],
      "metadata": {
        "id": "4rp3sczlVIv9"
      }
    },
    {
      "cell_type": "code",
      "source": [
        "# Run this cell to download DSS image.\n",
        "\n",
        "!python3.10 ai2023_s11_02_04.py -t M67 -f 90 -o m67.png -n M67 -s \"SDSSr\" -c magma"
      ],
      "metadata": {
        "id": "Wi5jTiclVIv-"
      },
      "execution_count": null,
      "outputs": []
    },
    {
      "cell_type": "code",
      "source": [
        "# Run this cell to display PNG image.\n",
        "\n",
        "# importing IPython.display module\n",
        "import IPython.display\n",
        "\n",
        "# displaying PNG file\n",
        "IPython.display.Image ('m67.png')"
      ],
      "metadata": {
        "id": "1KKAOAXWVIwA"
      },
      "execution_count": null,
      "outputs": []
    },
    {
      "cell_type": "markdown",
      "source": [
        "# Downloading Gaia DR3 data"
      ],
      "metadata": {
        "id": "6Sx5krOjVIwC"
      }
    },
    {
      "cell_type": "code",
      "source": [
        "# Run this cell to download Gaia DR3 data.\n",
        "\n",
        "!python3.10 ai2023_s11_03_01.py -t M67 -o m67.vot.gz -r 30"
      ],
      "metadata": {
        "id": "oBBkoSGAVIwD"
      },
      "execution_count": null,
      "outputs": []
    },
    {
      "cell_type": "markdown",
      "source": [
        "## Visualising distance ditribution of stars"
      ],
      "metadata": {
        "id": "WjVoku5fVIwF"
      }
    },
    {
      "cell_type": "code",
      "source": [
        "# Run this cell to visualise distance distribution of stars.\n",
        "\n",
        "!python3.10 ai2023_s11_05_09.py -i m67.vot.gz -o m67_dist.png -a 0 -b 1500 -n 150"
      ],
      "metadata": {
        "id": "GQaDYznGVIwG"
      },
      "execution_count": null,
      "outputs": []
    },
    {
      "cell_type": "code",
      "source": [
        "# Run this cell to display PNG image.\n",
        "\n",
        "# importing IPython.display module\n",
        "import IPython.display\n",
        "\n",
        "# displaying PNG file\n",
        "IPython.display.Image ('m67_dist.png')"
      ],
      "metadata": {
        "id": "2cjjaj2DVIwH"
      },
      "execution_count": null,
      "outputs": []
    },
    {
      "cell_type": "code",
      "source": [
        "# Run this cell to visualise distance distribution of stars.\n",
        "\n",
        "!python3.10 ai2023_s11_05_09.py -i m67.vot.gz -o m67_dist2.png -a 700 -b 1050 -n 70"
      ],
      "metadata": {
        "id": "xO4gk4UiVIwI"
      },
      "execution_count": null,
      "outputs": []
    },
    {
      "cell_type": "code",
      "source": [
        "# Run this cell to display PNG image.\n",
        "\n",
        "# importing IPython.display module\n",
        "import IPython.display\n",
        "\n",
        "# displaying PNG file\n",
        "IPython.display.Image ('m67_dist2.png')"
      ],
      "metadata": {
        "id": "mXU320SqVIwJ"
      },
      "execution_count": null,
      "outputs": []
    },
    {
      "cell_type": "markdown",
      "source": [
        "## Selecting stars by distance"
      ],
      "metadata": {
        "id": "noXrrYJlVIwL"
      }
    },
    {
      "cell_type": "code",
      "source": [
        "# Run this cell to select stars by distance.\n",
        "\n",
        "!python3.10 ai2023_s11_05_10.py -i m67.vot.gz -o m67_candidates.list -a 835 -b 900"
      ],
      "metadata": {
        "id": "EsE34nIcVIwM"
      },
      "execution_count": null,
      "outputs": []
    },
    {
      "cell_type": "markdown",
      "source": [
        "## Proper motion of stars"
      ],
      "metadata": {
        "id": "g_eMGjXuVIwN"
      }
    },
    {
      "cell_type": "code",
      "source": [
        "# Run this cell to visualise proper motion of stars.\n",
        "\n",
        "!python3.10 ai2023_s11_05_11.py -i m67_candidates.list -o m67_pm.png"
      ],
      "metadata": {
        "id": "8USA4XwuVIwN"
      },
      "execution_count": null,
      "outputs": []
    },
    {
      "cell_type": "code",
      "source": [
        "# Run this cell to display PNG image.\n",
        "\n",
        "# importing IPython.display module\n",
        "import IPython.display\n",
        "\n",
        "# displaying PNG file\n",
        "IPython.display.Image ('m67_pm.png')"
      ],
      "metadata": {
        "id": "L3705eSyVIwP"
      },
      "execution_count": null,
      "outputs": []
    },
    {
      "cell_type": "markdown",
      "source": [
        "## Further selection of stars by proper motion"
      ],
      "metadata": {
        "id": "95p2IxYwVIwP"
      }
    },
    {
      "cell_type": "code",
      "source": [
        "# Run this cell to select stars by proper motion.\n",
        "\n",
        "!python3.10 ai2023_s11_05_12.py -i m67_candidates.list -o m67_candidates2.list"
      ],
      "metadata": {
        "id": "t7SIEvgOVIwQ"
      },
      "execution_count": null,
      "outputs": []
    },
    {
      "cell_type": "markdown",
      "source": [
        "## Visualising proper motion of stars after the selection"
      ],
      "metadata": {
        "id": "CUNYfaOhVIwQ"
      }
    },
    {
      "cell_type": "code",
      "source": [
        "# Run this cell to visualise proper motion of stars after selection by distance and proper motion.\n",
        "\n",
        "!python3.10 ai2023_s11_05_11.py -i m67_candidates2.list -o m67_pm2.png"
      ],
      "metadata": {
        "id": "FmpRYx9CVIwR"
      },
      "execution_count": null,
      "outputs": []
    },
    {
      "cell_type": "code",
      "source": [
        "# Run this cell to display PNG image.\n",
        "\n",
        "# importing IPython.display module\n",
        "import IPython.display\n",
        "\n",
        "# displaying PNG file\n",
        "IPython.display.Image ('m67_pm2.png')"
      ],
      "metadata": {
        "id": "YRHbm1GgVIwS"
      },
      "execution_count": null,
      "outputs": []
    },
    {
      "cell_type": "markdown",
      "source": [
        "## Constructing HR diagram"
      ],
      "metadata": {
        "id": "KoF01t9bVIwS"
      }
    },
    {
      "cell_type": "code",
      "source": [
        "# Run this cell to construct HR diagram.\n",
        "\n",
        "!python3.10 ai2023_s11_05_13.py -i m67_candidates2.list -o m67_hr.png -t \"Open Cluster M67\""
      ],
      "metadata": {
        "id": "42IiTHl3VIwT"
      },
      "execution_count": null,
      "outputs": []
    },
    {
      "cell_type": "code",
      "source": [
        "# Run this cell to display PNG image.\n",
        "\n",
        "# importing IPython.display module\n",
        "import IPython.display\n",
        "\n",
        "# displaying PNG file\n",
        "IPython.display.Image ('m67_hr.png')"
      ],
      "metadata": {
        "id": "kTeXHsG_VIwT"
      },
      "execution_count": null,
      "outputs": []
    },
    {
      "cell_type": "markdown",
      "source": [
        "## Superimposing synthetic main-sequence"
      ],
      "metadata": {
        "id": "fbIFWx7oVIwU"
      }
    },
    {
      "cell_type": "code",
      "source": [
        "# Run this cell to superimpose synthetic main-sequence on HR diagram.\n",
        "\n",
        "!python3.10 ai2023_s11_06_02.py -i m67_candidates2.list -o m67_hr2.png -t \"Open Cluster M67\""
      ],
      "metadata": {
        "id": "bx8JSpmCVIwU"
      },
      "execution_count": null,
      "outputs": []
    },
    {
      "cell_type": "code",
      "source": [
        "# Run this cell to display PNG image.\n",
        "\n",
        "# importing IPython.display module\n",
        "import IPython.display\n",
        "\n",
        "# displaying PNG file\n",
        "IPython.display.Image ('m67_hr2.png')"
      ],
      "metadata": {
        "id": "cYjtu0mHVIwV"
      },
      "execution_count": null,
      "outputs": []
    },
    {
      "cell_type": "markdown",
      "source": [
        "# HR diagram of open cluster M4"
      ],
      "metadata": {
        "id": "2ti6A985WLjQ"
      }
    },
    {
      "cell_type": "markdown",
      "source": [
        "## Downloading DSS image"
      ],
      "metadata": {
        "id": "7Z6R7s5EWLjV"
      }
    },
    {
      "cell_type": "code",
      "source": [
        "# Run this cell to download DSS image.\n",
        "\n",
        "!python3.10 ai2023_s11_02_04.py -t M4 -f 90 -o m4.png -n M4 -s \"DSS2 Red\" -c copper"
      ],
      "metadata": {
        "id": "VXoJXvI2WLjW"
      },
      "execution_count": null,
      "outputs": []
    },
    {
      "cell_type": "code",
      "source": [
        "# Run this cell to display PNG image.\n",
        "\n",
        "# importing IPython.display module\n",
        "import IPython.display\n",
        "\n",
        "# displaying PNG file\n",
        "IPython.display.Image ('m4.png')"
      ],
      "metadata": {
        "id": "gKl5H0qKWLjX"
      },
      "execution_count": null,
      "outputs": []
    },
    {
      "cell_type": "markdown",
      "source": [
        "# Downloading Gaia DR3 data"
      ],
      "metadata": {
        "id": "erBOGE0wWLjZ"
      }
    },
    {
      "cell_type": "code",
      "source": [
        "# Run this cell to download Gaia DR3 data.\n",
        "\n",
        "!python3.10 ai2023_s11_03_01.py -t M4 -o m4.vot.gz -r 30"
      ],
      "metadata": {
        "id": "DeuRLDG7WLjZ"
      },
      "execution_count": null,
      "outputs": []
    },
    {
      "cell_type": "markdown",
      "source": [
        "## Visualising distance ditribution of stars"
      ],
      "metadata": {
        "id": "J61cIOwHWLjZ"
      }
    },
    {
      "cell_type": "code",
      "source": [
        "# Run this cell to visualise distance distribution of stars.\n",
        "\n",
        "!python3.10 ai2023_s11_05_09.py -i m4.vot.gz -o m4_dist.png -a 0 -b 5000 -n 250"
      ],
      "metadata": {
        "id": "dkaaoaEhWLjb"
      },
      "execution_count": null,
      "outputs": []
    },
    {
      "cell_type": "code",
      "source": [
        "# Run this cell to display PNG image.\n",
        "\n",
        "# importing IPython.display module\n",
        "import IPython.display\n",
        "\n",
        "# displaying PNG file\n",
        "IPython.display.Image ('m4_dist.png')"
      ],
      "metadata": {
        "id": "phxZZBe9WLjb"
      },
      "execution_count": null,
      "outputs": []
    },
    {
      "cell_type": "code",
      "source": [
        "# Run this cell to visualise distance distribution of stars.\n",
        "\n",
        "!python3.10 ai2023_s11_05_09.py -i m4.vot.gz -o m4_dist2.png -a 1200 -b 2400 -n 120"
      ],
      "metadata": {
        "id": "WngZFM23WLjc"
      },
      "execution_count": null,
      "outputs": []
    },
    {
      "cell_type": "code",
      "source": [
        "# Run this cell to display PNG image.\n",
        "\n",
        "# importing IPython.display module\n",
        "import IPython.display\n",
        "\n",
        "# displaying PNG file\n",
        "IPython.display.Image ('m4_dist2.png')"
      ],
      "metadata": {
        "id": "tPMebpoOWLjd"
      },
      "execution_count": null,
      "outputs": []
    },
    {
      "cell_type": "markdown",
      "source": [
        "## Selecting stars by distance"
      ],
      "metadata": {
        "id": "4wwnfOCMWLjf"
      }
    },
    {
      "cell_type": "code",
      "source": [
        "# Run this cell to select stars by distance.\n",
        "\n",
        "!python3.10 ai2023_s11_05_10.py -i m4.vot.gz -o m4_candidates.list -a 1690 -b 1980"
      ],
      "metadata": {
        "id": "1tZXV0yIWLjg"
      },
      "execution_count": null,
      "outputs": []
    },
    {
      "cell_type": "markdown",
      "source": [
        "## Proper motion of stars"
      ],
      "metadata": {
        "id": "jdcuN55fWLjg"
      }
    },
    {
      "cell_type": "code",
      "source": [
        "# Run this cell to visualise proper motion of stars.\n",
        "\n",
        "!python3.10 ai2023_s11_05_11.py -i m4_candidates.list -o m4_pm.png"
      ],
      "metadata": {
        "id": "xzQBh9e0WLjh"
      },
      "execution_count": null,
      "outputs": []
    },
    {
      "cell_type": "code",
      "source": [
        "# Run this cell to display PNG image.\n",
        "\n",
        "# importing IPython.display module\n",
        "import IPython.display\n",
        "\n",
        "# displaying PNG file\n",
        "IPython.display.Image ('m4_pm.png')"
      ],
      "metadata": {
        "id": "RPofyBgbWLji"
      },
      "execution_count": null,
      "outputs": []
    },
    {
      "cell_type": "markdown",
      "source": [
        "## Further selection of stars by proper motion"
      ],
      "metadata": {
        "id": "ymT1kR-NWLji"
      }
    },
    {
      "cell_type": "code",
      "source": [
        "# Run this cell to select stars by proper motion.\n",
        "\n",
        "!python3.10 ai2023_s11_05_12.py -i m4_candidates.list -o m4_candidates2.list"
      ],
      "metadata": {
        "id": "OZe0xf2dWLjj"
      },
      "execution_count": null,
      "outputs": []
    },
    {
      "cell_type": "markdown",
      "source": [
        "## Visualising proper motion of stars after the selection"
      ],
      "metadata": {
        "id": "m-WyUTp3WLjj"
      }
    },
    {
      "cell_type": "code",
      "source": [
        "# Run this cell to visualise proper motion of stars after selection by distance and proper motion.\n",
        "\n",
        "!python3.10 ai2023_s11_05_11.py -i m4_candidates2.list -o m4_pm2.png"
      ],
      "metadata": {
        "id": "ruu1b_PpWLjk"
      },
      "execution_count": null,
      "outputs": []
    },
    {
      "cell_type": "code",
      "source": [
        "# Run this cell to display PNG image.\n",
        "\n",
        "# importing IPython.display module\n",
        "import IPython.display\n",
        "\n",
        "# displaying PNG file\n",
        "IPython.display.Image ('m4_pm2.png')"
      ],
      "metadata": {
        "id": "5xoMgNkSWLjk"
      },
      "execution_count": null,
      "outputs": []
    },
    {
      "cell_type": "markdown",
      "source": [
        "## Constructing HR diagram"
      ],
      "metadata": {
        "id": "B76e3a5cWLjl"
      }
    },
    {
      "cell_type": "code",
      "source": [
        "# Run this cell to construct HR diagram.\n",
        "\n",
        "!python3.10 ai2023_s11_05_13.py -i m4_candidates2.list -o m4_hr.png -t \"Open Cluster M4\""
      ],
      "metadata": {
        "id": "eq-xZjT-WLjl"
      },
      "execution_count": null,
      "outputs": []
    },
    {
      "cell_type": "code",
      "source": [
        "# Run this cell to display PNG image.\n",
        "\n",
        "# importing IPython.display module\n",
        "import IPython.display\n",
        "\n",
        "# displaying PNG file\n",
        "IPython.display.Image ('m4_hr.png')"
      ],
      "metadata": {
        "id": "z-ndTcrVWLjm"
      },
      "execution_count": null,
      "outputs": []
    },
    {
      "cell_type": "markdown",
      "source": [
        "## Superimposing synthetic main-sequence"
      ],
      "metadata": {
        "id": "wTX2yTTKWLjn"
      }
    },
    {
      "cell_type": "code",
      "source": [
        "# Run this cell to superimpose synthetic main-sequence on HR diagram.\n",
        "\n",
        "!python3.10 ai2023_s11_06_02.py -i m4_candidates2.list -o m4_hr2.png -t \"Open Cluster M4\""
      ],
      "metadata": {
        "id": "e5q70AThWLjn"
      },
      "execution_count": null,
      "outputs": []
    },
    {
      "cell_type": "code",
      "source": [
        "# Run this cell to display PNG image.\n",
        "\n",
        "# importing IPython.display module\n",
        "import IPython.display\n",
        "\n",
        "# displaying PNG file\n",
        "IPython.display.Image ('m4_hr2.png')"
      ],
      "metadata": {
        "id": "Jze0O6-aWLjo"
      },
      "execution_count": null,
      "outputs": []
    },
    {
      "cell_type": "markdown",
      "source": [
        "# HR diagram of open cluster NGC 6397"
      ],
      "metadata": {
        "id": "Bmzmh9tJXfVv"
      }
    },
    {
      "cell_type": "markdown",
      "source": [
        "## Downloading DSS image"
      ],
      "metadata": {
        "id": "jwPdxuNhXfV7"
      }
    },
    {
      "cell_type": "code",
      "source": [
        "# Run this cell to download DSS image.\n",
        "\n",
        "!python3.10 ai2023_s11_02_04.py -t \"NGC 6397\" -f 90 -o ngc6397.png -n \"NGC 6397\" -s \"DSS2 Red\" -c viridis"
      ],
      "metadata": {
        "id": "9OuybZxnXfV8"
      },
      "execution_count": null,
      "outputs": []
    },
    {
      "cell_type": "code",
      "source": [
        "# Run this cell to display PNG image.\n",
        "\n",
        "# importing IPython.display module\n",
        "import IPython.display\n",
        "\n",
        "# displaying PNG file\n",
        "IPython.display.Image ('ngc6397.png')"
      ],
      "metadata": {
        "id": "l0GEW3T3XfV-"
      },
      "execution_count": null,
      "outputs": []
    },
    {
      "cell_type": "markdown",
      "source": [
        "# Downloading Gaia DR3 data"
      ],
      "metadata": {
        "id": "XoxgvbttXfV-"
      }
    },
    {
      "cell_type": "code",
      "source": [
        "# Run this cell to download Gaia DR3 data.\n",
        "\n",
        "!python3.10 ai2023_s11_03_01.py -t \"NGC 6397\" -o ngc6397.vot.gz -r 20"
      ],
      "metadata": {
        "id": "SKdCm_E8XfWA"
      },
      "execution_count": null,
      "outputs": []
    },
    {
      "cell_type": "markdown",
      "source": [
        "## Visualising distance ditribution of stars"
      ],
      "metadata": {
        "id": "Sq_V-DvxXfWA"
      }
    },
    {
      "cell_type": "code",
      "source": [
        "# Run this cell to visualise distance distribution of stars.\n",
        "\n",
        "!python3.10 ai2023_s11_05_09.py -i ngc6397.vot.gz -o ngc6397_dist.png -a 0 -b 5000 -n 250"
      ],
      "metadata": {
        "id": "KmvKRpxNXfWB"
      },
      "execution_count": null,
      "outputs": []
    },
    {
      "cell_type": "code",
      "source": [
        "# Run this cell to display PNG image.\n",
        "\n",
        "# importing IPython.display module\n",
        "import IPython.display\n",
        "\n",
        "# displaying PNG file\n",
        "IPython.display.Image ('ngc6397_dist.png')"
      ],
      "metadata": {
        "id": "LDsLXRm_XfWC"
      },
      "execution_count": null,
      "outputs": []
    },
    {
      "cell_type": "code",
      "source": [
        "# Run this cell to visualise distance distribution of stars.\n",
        "\n",
        "!python3.10 ai2023_s11_05_09.py -i ngc6397.vot.gz -o ngc6397_dist2.png -a 1800 -b 3200 -n 70"
      ],
      "metadata": {
        "id": "Pv1Wc7cGXfWD"
      },
      "execution_count": null,
      "outputs": []
    },
    {
      "cell_type": "code",
      "source": [
        "# Run this cell to display PNG image.\n",
        "\n",
        "# importing IPython.display module\n",
        "import IPython.display\n",
        "\n",
        "# displaying PNG file\n",
        "IPython.display.Image ('ngc6397_dist2.png')"
      ],
      "metadata": {
        "id": "IDnPKLGdXfWE"
      },
      "execution_count": null,
      "outputs": []
    },
    {
      "cell_type": "markdown",
      "source": [
        "## Selecting stars by distance"
      ],
      "metadata": {
        "id": "xv5gD-zGXfWF"
      }
    },
    {
      "cell_type": "code",
      "source": [
        "# Run this cell to select stars by distance.\n",
        "\n",
        "!python3.10 ai2023_s11_05_10.py -i ngc6397.vot.gz -o ngc6397_candidates.list -a 2300 -b 2800"
      ],
      "metadata": {
        "id": "EH12UES2XfWG"
      },
      "execution_count": null,
      "outputs": []
    },
    {
      "cell_type": "markdown",
      "source": [
        "## Proper motion of stars"
      ],
      "metadata": {
        "id": "2Nuf69YqXfWH"
      }
    },
    {
      "cell_type": "code",
      "source": [
        "# Run this cell to visualise proper motion of stars.\n",
        "\n",
        "!python3.10 ai2023_s11_05_11.py -i ngc6397_candidates.list -o ngc6397_pm.png"
      ],
      "metadata": {
        "id": "6FI6a4gvXfWH"
      },
      "execution_count": null,
      "outputs": []
    },
    {
      "cell_type": "code",
      "source": [
        "# Run this cell to display PNG image.\n",
        "\n",
        "# importing IPython.display module\n",
        "import IPython.display\n",
        "\n",
        "# displaying PNG file\n",
        "IPython.display.Image ('ngc6397_pm.png')"
      ],
      "metadata": {
        "id": "SsyXpYt_XfWH"
      },
      "execution_count": null,
      "outputs": []
    },
    {
      "cell_type": "markdown",
      "source": [
        "## Further selection of stars by proper motion"
      ],
      "metadata": {
        "id": "bHNmy679XfWH"
      }
    },
    {
      "cell_type": "code",
      "source": [
        "# Run this cell to select stars by proper motion.\n",
        "\n",
        "!python3.10 ai2023_s11_05_12.py -i ngc6397_candidates.list -o ngc6397_candidates2.list"
      ],
      "metadata": {
        "id": "I4-vdUBmXfWH"
      },
      "execution_count": null,
      "outputs": []
    },
    {
      "cell_type": "markdown",
      "source": [
        "## Visualising proper motion of stars after the selection"
      ],
      "metadata": {
        "id": "UKZLnVyzXfWJ"
      }
    },
    {
      "cell_type": "code",
      "source": [
        "# Run this cell to visualise proper motion of stars after selection by distance and proper motion.\n",
        "\n",
        "!python3.10 ai2023_s11_05_11.py -i ngc6397_candidates2.list -o ngc6397_pm2.png"
      ],
      "metadata": {
        "id": "QqUfCdGMXfWJ"
      },
      "execution_count": null,
      "outputs": []
    },
    {
      "cell_type": "code",
      "source": [
        "# Run this cell to display PNG image.\n",
        "\n",
        "# importing IPython.display module\n",
        "import IPython.display\n",
        "\n",
        "# displaying PNG file\n",
        "IPython.display.Image ('ngc6397_pm2.png')"
      ],
      "metadata": {
        "id": "pUiTHOqVXfWJ"
      },
      "execution_count": null,
      "outputs": []
    },
    {
      "cell_type": "markdown",
      "source": [
        "## Constructing HR diagram"
      ],
      "metadata": {
        "id": "gqcsHqPpXfWJ"
      }
    },
    {
      "cell_type": "code",
      "source": [
        "# Run this cell to construct HR diagram.\n",
        "\n",
        "!python3.10 ai2023_s11_05_13.py -i ngc6397_candidates2.list -o ngc6397_hr.png -t \"Open Cluster NGC 6397\""
      ],
      "metadata": {
        "id": "7S8teSgiXfWJ"
      },
      "execution_count": null,
      "outputs": []
    },
    {
      "cell_type": "code",
      "source": [
        "# Run this cell to display PNG image.\n",
        "\n",
        "# importing IPython.display module\n",
        "import IPython.display\n",
        "\n",
        "# displaying PNG file\n",
        "IPython.display.Image ('ngc6397_hr.png')"
      ],
      "metadata": {
        "id": "aWsoeii7XfWL"
      },
      "execution_count": null,
      "outputs": []
    },
    {
      "cell_type": "markdown",
      "source": [
        "## Superimposing synthetic main-sequence"
      ],
      "metadata": {
        "id": "urFtlwQxXfWL"
      }
    },
    {
      "cell_type": "code",
      "source": [
        "# Run this cell to superimpose synthetic main-sequence on HR diagram.\n",
        "\n",
        "!python3.10 ai2023_s11_06_02.py -i ngc6397_candidates2.list -o ngc6397_hr2.png -t \"Open Cluster NGC 6397\""
      ],
      "metadata": {
        "id": "EyC9DohTXfWL"
      },
      "execution_count": null,
      "outputs": []
    },
    {
      "cell_type": "code",
      "source": [
        "# Run this cell to display PNG image.\n",
        "\n",
        "# importing IPython.display module\n",
        "import IPython.display\n",
        "\n",
        "# displaying PNG file\n",
        "IPython.display.Image ('ngc6397_hr2.png')"
      ],
      "metadata": {
        "id": "QzVbAa4QXfWL"
      },
      "execution_count": null,
      "outputs": []
    },
    {
      "cell_type": "markdown",
      "source": [
        "# End of this notebook"
      ],
      "metadata": {
        "id": "MG0fjSlFZBEm"
      }
    },
    {
      "cell_type": "code",
      "source": [],
      "metadata": {
        "id": "acd_l-IvZCto"
      },
      "execution_count": null,
      "outputs": []
    }
  ]
}