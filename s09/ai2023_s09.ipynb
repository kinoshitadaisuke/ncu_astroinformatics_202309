{
  "nbformat": 4,
  "nbformat_minor": 0,
  "metadata": {
    "colab": {
      "provenance": []
    },
    "kernelspec": {
      "name": "python3",
      "display_name": "Python 3"
    },
    "language_info": {
      "name": "python"
    }
  },
  "cells": [
    {
      "cell_type": "markdown",
      "metadata": {
        "id": "X9F8FTGZzaSe"
      },
      "source": [
        "# AS6095 \"Astroinformatics\"\n",
        "\n",
        "## for academic year 2023 (from Sep/2023 to Jan/2024)\n",
        "\n",
        "## instructor: Kinoshita Daisuke\n",
        "\n",
        "## Course web page: https://s3b.astro.ncu.edu.tw/ai_202309/\n",
        "\n",
        "## GitHub repository: https://github.com/kinoshitadaisuke/ncu_astroinformatics_202309\n"
      ]
    },
    {
      "cell_type": "markdown",
      "metadata": {
        "id": "MKQ0pdfJCZ1I"
      },
      "source": [
        "# Session 09 \"Distribution of asteroids, stars, and galaxies\"\n",
        "\n",
        "## 13 November 2023\n"
      ]
    },
    {
      "cell_type": "markdown",
      "metadata": {
        "id": "FVmonUCL197r"
      },
      "source": [
        "# Downloading a set of sample Python scripts and changing directory"
      ]
    },
    {
      "cell_type": "code",
      "execution_count": null,
      "metadata": {
        "id": "E-J1KLJAzmx5"
      },
      "outputs": [],
      "source": [
        "# Run this cell to download a set of sample Python scripts for this course.\n",
        "\n",
        "!git clone https://github.com/kinoshitadaisuke/ncu_astroinformatics_202309.git"
      ]
    },
    {
      "cell_type": "code",
      "execution_count": null,
      "metadata": {
        "id": "NU4Otc0i2jfu"
      },
      "outputs": [],
      "source": [
        "# Run this cell to check whether you have a directory named \"ncu_astroinformatics_202309\".\n",
        "\n",
        "!ls"
      ]
    },
    {
      "cell_type": "code",
      "execution_count": null,
      "metadata": {
        "id": "faZRhZv821VY"
      },
      "outputs": [],
      "source": [
        "# Run this cell to move to the directory \"ncu_astroinformatics_202309\".\n",
        "\n",
        "%cd ncu_astroinformatics_202309"
      ]
    },
    {
      "cell_type": "code",
      "execution_count": null,
      "metadata": {
        "id": "hUjHlUZk3Bov"
      },
      "outputs": [],
      "source": [
        "# Run this cell to show currently working directory.\n",
        "\n",
        "!pwd"
      ]
    },
    {
      "cell_type": "code",
      "execution_count": null,
      "metadata": {
        "id": "RXAGJHeX3IsD"
      },
      "outputs": [],
      "source": [
        "# Run this cell to show files and directories.\n",
        "\n",
        "!ls -lF"
      ]
    },
    {
      "cell_type": "code",
      "execution_count": null,
      "metadata": {
        "id": "xR0V8I0k3O3k"
      },
      "outputs": [],
      "source": [
        "# Run this cell to move to the directory \"s09\".\n",
        "\n",
        "%cd s09"
      ]
    },
    {
      "cell_type": "code",
      "execution_count": null,
      "metadata": {
        "id": "KbvQ_3Su3UKL"
      },
      "outputs": [],
      "source": [
        "# Run this cell to show currently working directory.\n",
        "\n",
        "!pwd"
      ]
    },
    {
      "cell_type": "code",
      "execution_count": null,
      "metadata": {
        "id": "n9AAgI4d3c6n"
      },
      "outputs": [],
      "source": [
        "# Run this cell to show files and directories.\n",
        "\n",
        "!ls -lF"
      ]
    },
    {
      "cell_type": "markdown",
      "source": [
        "# Installation of Astropy"
      ],
      "metadata": {
        "id": "jVlw3LHHcBFa"
      }
    },
    {
      "cell_type": "code",
      "source": [
        "# Install Astropy if you do not have it.\n",
        "\n",
        "!apt install python3-astropy"
      ],
      "metadata": {
        "id": "tsoYTACbb4dj"
      },
      "execution_count": null,
      "outputs": []
    },
    {
      "cell_type": "markdown",
      "source": [
        "# Installation of Astroquery"
      ],
      "metadata": {
        "id": "Vfizk8zptcUd"
      }
    },
    {
      "cell_type": "code",
      "source": [
        "# Install Astroquery if you do not have it.\n",
        "\n",
        "!apt install python3-astroquery"
      ],
      "metadata": {
        "id": "LPKl1pj2ted3"
      },
      "execution_count": null,
      "outputs": []
    },
    {
      "cell_type": "markdown",
      "source": [
        "# Script \"ai2023_s09_00_00.py\""
      ],
      "metadata": {
        "id": "ruyvFomX3tHE"
      }
    },
    {
      "cell_type": "code",
      "source": [
        "# Run this cell to show the source code of the script.\n",
        "\n",
        "!cat ai2023_s09_00_00.py"
      ],
      "metadata": {
        "id": "rHlPblWq3vhQ"
      },
      "execution_count": null,
      "outputs": []
    },
    {
      "cell_type": "code",
      "source": [
        "# Run this cell to execute the script.\n",
        "\n",
        "!python3.10 ai2023_s09_00_00.py -h"
      ],
      "metadata": {
        "id": "RgQNUsGP3z2b"
      },
      "execution_count": null,
      "outputs": []
    },
    {
      "cell_type": "code",
      "source": [
        "# Run this cell to execute the script.\n",
        "\n",
        "!python3.10 ai2023_s09_00_00.py MPCORB.DAT.gz"
      ],
      "metadata": {
        "id": "6OT-NvkRCpsZ"
      },
      "execution_count": null,
      "outputs": []
    },
    {
      "cell_type": "markdown",
      "source": [
        "# Practice s09-01"
      ],
      "metadata": {
        "id": "TOKbMshT365T"
      }
    },
    {
      "cell_type": "code",
      "source": [
        "# Write down your code in this cell.\n",
        "\n",
        "\n",
        "\n",
        "\n"
      ],
      "metadata": {
        "id": "64-pHjEt34XC"
      },
      "execution_count": null,
      "outputs": []
    },
    {
      "cell_type": "markdown",
      "source": [
        "# Script \"ai2023_s09_00_01.py\""
      ],
      "metadata": {
        "id": "-Sj-ya2dDLNP"
      }
    },
    {
      "cell_type": "code",
      "source": [
        "# Run this cell to show the source code of the script.\n",
        "\n",
        "!cat ai2023_s09_00_01.py"
      ],
      "metadata": {
        "id": "QfZXxQ9VDLNS"
      },
      "execution_count": null,
      "outputs": []
    },
    {
      "cell_type": "code",
      "source": [
        "# Run this cell to execute the script.\n",
        "\n",
        "!python3.10 ai2023_s09_00_01.py"
      ],
      "metadata": {
        "id": "EfVg4IsXDLNV"
      },
      "execution_count": null,
      "outputs": []
    },
    {
      "cell_type": "code",
      "source": [
        "# Run this cell to find newly downloaded file.\n",
        "\n",
        "!ls -lF *.gz"
      ],
      "metadata": {
        "id": "fHxMNBVcDXTz"
      },
      "execution_count": null,
      "outputs": []
    },
    {
      "cell_type": "code",
      "source": [
        "# Run this cell to check the existence of the file \"MPCORB.DAT.gz\".\n",
        "\n",
        "!python3.10 ai2023_s09_00_00.py MPCORB.DAT.gz"
      ],
      "metadata": {
        "id": "GO5IwP8rDfT7"
      },
      "execution_count": null,
      "outputs": []
    },
    {
      "cell_type": "markdown",
      "source": [
        "# Practice s09-02"
      ],
      "metadata": {
        "id": "0n2R24knDLNV"
      }
    },
    {
      "cell_type": "code",
      "source": [
        "# Write down your code in this cell.\n",
        "\n",
        "\n",
        "\n",
        "\n"
      ],
      "metadata": {
        "id": "aZDbzqOPDLNW"
      },
      "execution_count": null,
      "outputs": []
    },
    {
      "cell_type": "markdown",
      "source": [
        "# Script \"ai2023_s09_00_02.py\""
      ],
      "metadata": {
        "id": "Rt1eldhFDtf_"
      }
    },
    {
      "cell_type": "code",
      "source": [
        "# Run this cell to show the source code of the script.\n",
        "\n",
        "!cat ai2023_s09_00_02.py"
      ],
      "metadata": {
        "id": "n-eGpdTQDtgC"
      },
      "execution_count": null,
      "outputs": []
    },
    {
      "cell_type": "code",
      "source": [
        "# Run this cell to execute the script.\n",
        "\n",
        "!python3.10 ai2023_s09_00_02.py"
      ],
      "metadata": {
        "id": "iMj7Ij8QDtgE"
      },
      "execution_count": null,
      "outputs": []
    },
    {
      "cell_type": "markdown",
      "source": [
        "# Practice s09-03"
      ],
      "metadata": {
        "id": "ttrczV2DDtgI"
      }
    },
    {
      "cell_type": "code",
      "source": [
        "# Write down your code in this cell.\n",
        "\n",
        "\n",
        "\n",
        "\n"
      ],
      "metadata": {
        "id": "O3G5NKNKDtgK"
      },
      "execution_count": null,
      "outputs": []
    },
    {
      "cell_type": "markdown",
      "source": [
        "# Script \"ai2023_s09_00_03.py\""
      ],
      "metadata": {
        "id": "k7n5HHLQD-tV"
      }
    },
    {
      "cell_type": "code",
      "source": [
        "# Run this cell to show the source code of the script.\n",
        "\n",
        "!cat ai2023_s09_00_03.py"
      ],
      "metadata": {
        "id": "5qlLjhOKD-tW"
      },
      "execution_count": null,
      "outputs": []
    },
    {
      "cell_type": "code",
      "source": [
        "# Run this cell to execute the script.\n",
        "\n",
        "!python3.10 ai2023_s09_00_03.py"
      ],
      "metadata": {
        "id": "e03QZgNQD-tY"
      },
      "execution_count": null,
      "outputs": []
    },
    {
      "cell_type": "markdown",
      "source": [
        "# Practice s09-04"
      ],
      "metadata": {
        "id": "ds5JCY2yD-tZ"
      }
    },
    {
      "cell_type": "code",
      "source": [
        "# Write down your code in this cell.\n",
        "\n",
        "\n",
        "\n",
        "\n"
      ],
      "metadata": {
        "id": "txIefPP1D-ta"
      },
      "execution_count": null,
      "outputs": []
    },
    {
      "cell_type": "markdown",
      "source": [
        "# Script \"ai2023_s09_00_04.py\""
      ],
      "metadata": {
        "id": "sy_NmlzHEGJt"
      }
    },
    {
      "cell_type": "code",
      "source": [
        "# Run this cell to show the source code of the script.\n",
        "\n",
        "!cat ai2023_s09_00_04.py"
      ],
      "metadata": {
        "id": "Ff8eFxlfEGJx"
      },
      "execution_count": null,
      "outputs": []
    },
    {
      "cell_type": "code",
      "source": [
        "# Run this cell to execute the script.\n",
        "\n",
        "!python3.10 ai2023_s09_00_04.py"
      ],
      "metadata": {
        "id": "tc1XBmivEGJy"
      },
      "execution_count": null,
      "outputs": []
    },
    {
      "cell_type": "code",
      "source": [
        "# Run this cell to display PNG image.\n",
        "\n",
        "# importing IPython.display module\n",
        "import IPython.display\n",
        "\n",
        "# displaying PNG file\n",
        "IPython.display.Image ('ai2023_s09_00_04.png')"
      ],
      "metadata": {
        "id": "wp4Hfr0b4dLH"
      },
      "execution_count": null,
      "outputs": []
    },
    {
      "cell_type": "markdown",
      "source": [
        "# Practice s09-05"
      ],
      "metadata": {
        "id": "wUZWMfaIEGJz"
      }
    },
    {
      "cell_type": "code",
      "source": [
        "# Write down your code in this cell.\n",
        "\n",
        "\n",
        "\n",
        "\n"
      ],
      "metadata": {
        "id": "WMdX52qbEGJz"
      },
      "execution_count": null,
      "outputs": []
    },
    {
      "cell_type": "markdown",
      "source": [
        "# Script \"ai2023_s09_00_05.py\""
      ],
      "metadata": {
        "id": "FVaYIfQ2EeUc"
      }
    },
    {
      "cell_type": "code",
      "source": [
        "# Run this cell to show the source code of the script.\n",
        "\n",
        "!cat ai2023_s09_00_05.py"
      ],
      "metadata": {
        "id": "Divs3-x-EeUh"
      },
      "execution_count": null,
      "outputs": []
    },
    {
      "cell_type": "code",
      "source": [
        "# Run this cell to execute the script.\n",
        "\n",
        "!python3.10 ai2023_s09_00_05.py"
      ],
      "metadata": {
        "id": "D-RJHr17EeUj"
      },
      "execution_count": null,
      "outputs": []
    },
    {
      "cell_type": "code",
      "source": [
        "# Run this cell to display PNG image.\n",
        "\n",
        "# importing IPython.display module\n",
        "import IPython.display\n",
        "\n",
        "# displaying PNG file\n",
        "IPython.display.Image ('ai2023_s09_00_05.png')"
      ],
      "metadata": {
        "id": "NoOqVkGREeUk"
      },
      "execution_count": null,
      "outputs": []
    },
    {
      "cell_type": "markdown",
      "source": [
        "# Practice s09-06"
      ],
      "metadata": {
        "id": "9typTLnSEeUk"
      }
    },
    {
      "cell_type": "code",
      "source": [
        "# Write down your code in this cell.\n",
        "\n",
        "\n",
        "\n",
        "\n"
      ],
      "metadata": {
        "id": "cki4E0uAEeUm"
      },
      "execution_count": null,
      "outputs": []
    },
    {
      "cell_type": "markdown",
      "source": [
        "# Script \"ai2023_s09_00_06.py\""
      ],
      "metadata": {
        "id": "MgMrCkSiElkn"
      }
    },
    {
      "cell_type": "code",
      "source": [
        "# Run this cell to show the source code of the script.\n",
        "\n",
        "!cat ai2023_s09_00_06.py"
      ],
      "metadata": {
        "id": "lJ5YZVD4Elkt"
      },
      "execution_count": null,
      "outputs": []
    },
    {
      "cell_type": "code",
      "source": [
        "# Run this cell to execute the script.\n",
        "\n",
        "!python3.10 ai2023_s09_00_06.py"
      ],
      "metadata": {
        "id": "uYgdFviOElku"
      },
      "execution_count": null,
      "outputs": []
    },
    {
      "cell_type": "code",
      "source": [
        "# Run this cell to display PNG image.\n",
        "\n",
        "# importing IPython.display module\n",
        "import IPython.display\n",
        "\n",
        "# displaying PNG file\n",
        "IPython.display.Image ('ai2023_s09_00_06.png')"
      ],
      "metadata": {
        "id": "9S0aAHo-Elkv"
      },
      "execution_count": null,
      "outputs": []
    },
    {
      "cell_type": "markdown",
      "source": [
        "# Practice s09-07"
      ],
      "metadata": {
        "id": "sjtuh1wHElkw"
      }
    },
    {
      "cell_type": "code",
      "source": [
        "# Write down your code in this cell.\n",
        "\n",
        "\n",
        "\n",
        "\n"
      ],
      "metadata": {
        "id": "M0hzK5vxElkx"
      },
      "execution_count": null,
      "outputs": []
    },
    {
      "cell_type": "markdown",
      "source": [
        "# Script \"ai2023_s09_00_07.py\""
      ],
      "metadata": {
        "id": "jUER2J73EuAl"
      }
    },
    {
      "cell_type": "code",
      "source": [
        "# Run this cell to show the source code of the script.\n",
        "\n",
        "!cat ai2023_s09_00_07.py"
      ],
      "metadata": {
        "id": "FGDk84TGEuAm"
      },
      "execution_count": null,
      "outputs": []
    },
    {
      "cell_type": "code",
      "source": [
        "# Run this cell to execute the script.\n",
        "\n",
        "!python3.10 ai2023_s09_00_07.py"
      ],
      "metadata": {
        "id": "uB7_dAt_EuAn"
      },
      "execution_count": null,
      "outputs": []
    },
    {
      "cell_type": "code",
      "source": [
        "# Run this cell to display PNG image.\n",
        "\n",
        "# importing IPython.display module\n",
        "import IPython.display\n",
        "\n",
        "# displaying PNG file\n",
        "IPython.display.Image ('ai2023_s09_00_07.png')"
      ],
      "metadata": {
        "id": "Tqya-khSEuAo"
      },
      "execution_count": null,
      "outputs": []
    },
    {
      "cell_type": "markdown",
      "source": [
        "# Practice s09-08"
      ],
      "metadata": {
        "id": "2uxhVfetEuAp"
      }
    },
    {
      "cell_type": "code",
      "source": [
        "# Write down your code in this cell.\n",
        "\n",
        "\n",
        "\n",
        "\n"
      ],
      "metadata": {
        "id": "yeE-w6x3EuAq"
      },
      "execution_count": null,
      "outputs": []
    },
    {
      "cell_type": "markdown",
      "source": [
        "# Script \"ai2023_s09_00_08.py\""
      ],
      "metadata": {
        "id": "Za-f8ZKPE1m9"
      }
    },
    {
      "cell_type": "code",
      "source": [
        "# Run this cell to show the source code of the script.\n",
        "\n",
        "!cat ai2023_s09_00_08.py"
      ],
      "metadata": {
        "id": "3fDPgRixE1m_"
      },
      "execution_count": null,
      "outputs": []
    },
    {
      "cell_type": "code",
      "source": [
        "# Run this cell to execute the script.\n",
        "\n",
        "!python3.10 ai2023_s09_00_08.py"
      ],
      "metadata": {
        "id": "weXavVqQE1nA"
      },
      "execution_count": null,
      "outputs": []
    },
    {
      "cell_type": "markdown",
      "source": [
        "# Practice s09-09"
      ],
      "metadata": {
        "id": "JtrLAQANE1nC"
      }
    },
    {
      "cell_type": "code",
      "source": [
        "# Write down your code in this cell.\n",
        "\n",
        "\n",
        "\n",
        "\n"
      ],
      "metadata": {
        "id": "j1wztXMaE1nD"
      },
      "execution_count": null,
      "outputs": []
    },
    {
      "cell_type": "markdown",
      "source": [
        "# Script \"ai2023_s09_00_09.py\""
      ],
      "metadata": {
        "id": "dtyDLw-MFTF-"
      }
    },
    {
      "cell_type": "code",
      "source": [
        "# Run this cell to show the source code of the script.\n",
        "\n",
        "!cat ai2023_s09_00_09.py"
      ],
      "metadata": {
        "id": "Ju9TmklAFTGD"
      },
      "execution_count": null,
      "outputs": []
    },
    {
      "cell_type": "code",
      "source": [
        "# Run this cell to execute the script.\n",
        "\n",
        "!python3.10 ai2023_s09_00_09.py"
      ],
      "metadata": {
        "id": "smG-L6yIFTGD"
      },
      "execution_count": null,
      "outputs": []
    },
    {
      "cell_type": "markdown",
      "source": [
        "# Practice s09-10"
      ],
      "metadata": {
        "id": "l-jkWJNTFTGE"
      }
    },
    {
      "cell_type": "code",
      "source": [
        "# Write down your code in this cell.\n",
        "\n",
        "\n",
        "\n",
        "\n"
      ],
      "metadata": {
        "id": "MyPvgEjLFTGF"
      },
      "execution_count": null,
      "outputs": []
    },
    {
      "cell_type": "markdown",
      "source": [
        "# Script \"ai2023_s09_00_10.py\""
      ],
      "metadata": {
        "id": "PjgPPZL6Feet"
      }
    },
    {
      "cell_type": "code",
      "source": [
        "# Run this cell to show the source code of the script.\n",
        "\n",
        "!cat ai2023_s09_00_10.py"
      ],
      "metadata": {
        "id": "3JPaJrklFeex"
      },
      "execution_count": null,
      "outputs": []
    },
    {
      "cell_type": "code",
      "source": [
        "# Run this cell to execute the script.\n",
        "\n",
        "!python3.10 ai2023_s09_00_10.py"
      ],
      "metadata": {
        "id": "Trw2MozYFeey"
      },
      "execution_count": null,
      "outputs": []
    },
    {
      "cell_type": "code",
      "source": [
        "# Run this cell to display PNG image.\n",
        "\n",
        "# importing IPython.display module\n",
        "import IPython.display\n",
        "\n",
        "# displaying PNG file\n",
        "IPython.display.Image ('ai2023_s09_00_10.png')"
      ],
      "metadata": {
        "id": "HN4fF9rMFeez"
      },
      "execution_count": null,
      "outputs": []
    },
    {
      "cell_type": "markdown",
      "source": [
        "# Practice s09-11"
      ],
      "metadata": {
        "id": "c7pKj7kcFee0"
      }
    },
    {
      "cell_type": "code",
      "source": [
        "# Write down your code in this cell.\n",
        "\n",
        "\n",
        "\n",
        "\n"
      ],
      "metadata": {
        "id": "2k4PJ6-xFee0"
      },
      "execution_count": null,
      "outputs": []
    },
    {
      "cell_type": "markdown",
      "source": [
        "# Script \"ai2023_s09_00_11.py\""
      ],
      "metadata": {
        "id": "JefMLkjDGBA-"
      }
    },
    {
      "cell_type": "code",
      "source": [
        "# Run this cell to show the source code of the script.\n",
        "\n",
        "!cat ai2023_s09_00_11.py"
      ],
      "metadata": {
        "id": "uB-YailfGBBA"
      },
      "execution_count": null,
      "outputs": []
    },
    {
      "cell_type": "code",
      "source": [
        "# Run this cell to execute the script.\n",
        "\n",
        "!python3.10 ai2023_s09_00_11.py"
      ],
      "metadata": {
        "id": "a_ImLsMpGBBB"
      },
      "execution_count": null,
      "outputs": []
    },
    {
      "cell_type": "code",
      "source": [
        "# Run this cell to display PNG image.\n",
        "\n",
        "# importing IPython.display module\n",
        "import IPython.display\n",
        "\n",
        "# displaying PNG file\n",
        "IPython.display.Image ('ai2023_s09_00_11.png')"
      ],
      "metadata": {
        "id": "HrWBNugGGBBC"
      },
      "execution_count": null,
      "outputs": []
    },
    {
      "cell_type": "markdown",
      "source": [
        "# Practice s09-12"
      ],
      "metadata": {
        "id": "ukODZ_GeGBBE"
      }
    },
    {
      "cell_type": "code",
      "source": [
        "# Write down your code in this cell.\n",
        "\n",
        "\n",
        "\n",
        "\n"
      ],
      "metadata": {
        "id": "rWC7SGnoGBBE"
      },
      "execution_count": null,
      "outputs": []
    },
    {
      "cell_type": "markdown",
      "source": [
        "# Script \"ai2023_s09_00_12.py\""
      ],
      "metadata": {
        "id": "75NtBS9aGRm9"
      }
    },
    {
      "cell_type": "code",
      "source": [
        "# Run this cell to show the source code of the script.\n",
        "\n",
        "!cat ai2023_s09_00_12.py"
      ],
      "metadata": {
        "id": "aLcDy96PGRnD"
      },
      "execution_count": null,
      "outputs": []
    },
    {
      "cell_type": "code",
      "source": [
        "# Run this cell to execute the script.\n",
        "\n",
        "!python3.10 ai2023_s09_00_12.py"
      ],
      "metadata": {
        "id": "BM_np5_tGRnE"
      },
      "execution_count": null,
      "outputs": []
    },
    {
      "cell_type": "code",
      "source": [
        "# Run this cell to display PNG image.\n",
        "\n",
        "# importing IPython.display module\n",
        "import IPython.display\n",
        "\n",
        "# displaying PNG file\n",
        "IPython.display.Image ('ai2023_s09_00_12.png')"
      ],
      "metadata": {
        "id": "8X5kciYeGRnF"
      },
      "execution_count": null,
      "outputs": []
    },
    {
      "cell_type": "markdown",
      "source": [
        "# Practice s09-13"
      ],
      "metadata": {
        "id": "VwD7hN5DGRnG"
      }
    },
    {
      "cell_type": "code",
      "source": [
        "# Write down your code in this cell.\n",
        "\n",
        "\n",
        "\n",
        "\n"
      ],
      "metadata": {
        "id": "uUecTjsKGRnH"
      },
      "execution_count": null,
      "outputs": []
    },
    {
      "cell_type": "markdown",
      "source": [
        "# Script \"ai2023_s09_00_13.py\""
      ],
      "metadata": {
        "id": "-K8vW7YhHyiP"
      }
    },
    {
      "cell_type": "code",
      "source": [
        "# Run this cell to show the source code of the script.\n",
        "\n",
        "!cat ai2023_s09_00_13.py"
      ],
      "metadata": {
        "id": "5nSGW44jHyiR"
      },
      "execution_count": null,
      "outputs": []
    },
    {
      "cell_type": "code",
      "source": [
        "# Run this cell to execute the script.\n",
        "\n",
        "!python3.10 ai2023_s09_00_13.py"
      ],
      "metadata": {
        "id": "WQSP0Se3HyiS"
      },
      "execution_count": null,
      "outputs": []
    },
    {
      "cell_type": "code",
      "source": [
        "# Run this cell to display PNG image.\n",
        "\n",
        "# importing IPython.display module\n",
        "import IPython.display\n",
        "\n",
        "# displaying PNG file\n",
        "IPython.display.Image ('ai2023_s09_00_13.png')"
      ],
      "metadata": {
        "id": "MSJDNPCTHyiU"
      },
      "execution_count": null,
      "outputs": []
    },
    {
      "cell_type": "markdown",
      "source": [
        "# Practice s09-14"
      ],
      "metadata": {
        "id": "so9IJzrYHyiV"
      }
    },
    {
      "cell_type": "code",
      "source": [
        "# Write down your code in this cell.\n",
        "\n",
        "\n",
        "\n",
        "\n"
      ],
      "metadata": {
        "id": "qyO1CLtqHyiW"
      },
      "execution_count": null,
      "outputs": []
    },
    {
      "cell_type": "markdown",
      "source": [
        "# Script \"ai2023_s09_00_14.py\""
      ],
      "metadata": {
        "id": "sNv_-1dcH42u"
      }
    },
    {
      "cell_type": "code",
      "source": [
        "# Run this cell to show the source code of the script.\n",
        "\n",
        "!cat ai2023_s09_00_14.py"
      ],
      "metadata": {
        "id": "mIF9SVXJH42v"
      },
      "execution_count": null,
      "outputs": []
    },
    {
      "cell_type": "code",
      "source": [
        "# Run this cell to execute the script.\n",
        "\n",
        "!python3.10 ai2023_s09_00_14.py"
      ],
      "metadata": {
        "id": "dYsmZmbNH42w"
      },
      "execution_count": null,
      "outputs": []
    },
    {
      "cell_type": "code",
      "source": [
        "# Run this cell to display PNG image.\n",
        "\n",
        "# importing IPython.display module\n",
        "import IPython.display\n",
        "\n",
        "# displaying PNG file\n",
        "IPython.display.Image ('ai2023_s09_00_14.png')"
      ],
      "metadata": {
        "id": "ab7fydMcH42w"
      },
      "execution_count": null,
      "outputs": []
    },
    {
      "cell_type": "markdown",
      "source": [
        "# Practice s09-15"
      ],
      "metadata": {
        "id": "CoAmA4j4H42x"
      }
    },
    {
      "cell_type": "code",
      "source": [
        "# Write down your code in this cell.\n",
        "\n",
        "\n",
        "\n",
        "\n"
      ],
      "metadata": {
        "id": "TfJa2A48H42x"
      },
      "execution_count": null,
      "outputs": []
    },
    {
      "cell_type": "markdown",
      "source": [
        "# Script \"ai2023_s09_00_15.py\""
      ],
      "metadata": {
        "id": "qRMZNeEGIC5W"
      }
    },
    {
      "cell_type": "code",
      "source": [
        "# Run this cell to show the source code of the script.\n",
        "\n",
        "!cat ai2023_s09_00_15.py"
      ],
      "metadata": {
        "id": "5RpRNKJ8IC5X"
      },
      "execution_count": null,
      "outputs": []
    },
    {
      "cell_type": "code",
      "source": [
        "# Run this cell to execute the script.\n",
        "\n",
        "!python3.10 ai2023_s09_00_15.py"
      ],
      "metadata": {
        "id": "AXcyc6KnIC5X"
      },
      "execution_count": null,
      "outputs": []
    },
    {
      "cell_type": "code",
      "source": [
        "# Run this cell to display PNG image.\n",
        "\n",
        "# importing IPython.display module\n",
        "import IPython.display\n",
        "\n",
        "# displaying PNG file\n",
        "IPython.display.Image ('ai2023_s09_00_15.png')"
      ],
      "metadata": {
        "id": "5g2yePP9IC5Y"
      },
      "execution_count": null,
      "outputs": []
    },
    {
      "cell_type": "markdown",
      "source": [
        "# Practice s09-16"
      ],
      "metadata": {
        "id": "5ZrxY9YgIC5Z"
      }
    },
    {
      "cell_type": "code",
      "source": [
        "# Write down your code in this cell.\n",
        "\n",
        "\n",
        "\n",
        "\n"
      ],
      "metadata": {
        "id": "5a_LuzW4IC5a"
      },
      "execution_count": null,
      "outputs": []
    },
    {
      "cell_type": "markdown",
      "source": [
        "# Script \"ai2023_s09_00_16.py\""
      ],
      "metadata": {
        "id": "dtabYEuXIJQu"
      }
    },
    {
      "cell_type": "code",
      "source": [
        "# Run this cell to show the source code of the script.\n",
        "\n",
        "!cat ai2023_s09_00_16.py"
      ],
      "metadata": {
        "id": "XC_8whjMIJQv"
      },
      "execution_count": null,
      "outputs": []
    },
    {
      "cell_type": "code",
      "source": [
        "# Run this cell to execute the script.\n",
        "\n",
        "!python3.10 ai2023_s09_00_16.py"
      ],
      "metadata": {
        "id": "QX1ZKlvtIJQv"
      },
      "execution_count": null,
      "outputs": []
    },
    {
      "cell_type": "code",
      "source": [
        "# Run this cell to display PNG image.\n",
        "\n",
        "# importing IPython.display module\n",
        "import IPython.display\n",
        "\n",
        "# displaying PNG file\n",
        "IPython.display.Image ('ai2023_s09_00_16.png')"
      ],
      "metadata": {
        "id": "C5UAF2aSIJQw"
      },
      "execution_count": null,
      "outputs": []
    },
    {
      "cell_type": "markdown",
      "source": [
        "# Practice s09-17"
      ],
      "metadata": {
        "id": "bkmp4OLZIJQw"
      }
    },
    {
      "cell_type": "code",
      "source": [
        "# Write down your code in this cell.\n",
        "\n",
        "\n",
        "\n",
        "\n"
      ],
      "metadata": {
        "id": "kVb-p-fsIJQx"
      },
      "execution_count": null,
      "outputs": []
    },
    {
      "cell_type": "markdown",
      "source": [
        "# Script \"ai2023_s09_01_00.py\""
      ],
      "metadata": {
        "id": "q03XYh4KISSO"
      }
    },
    {
      "cell_type": "code",
      "source": [
        "# Run this cell to show the source code of the script.\n",
        "\n",
        "!cat ai2023_s09_01_00.py"
      ],
      "metadata": {
        "id": "Oyv3hPPfISSO"
      },
      "execution_count": null,
      "outputs": []
    },
    {
      "cell_type": "code",
      "source": [
        "# Run this cell to execute the script.\n",
        "\n",
        "!python3.10 ai2023_s09_01_00.py"
      ],
      "metadata": {
        "id": "vdZBs_AqISSP"
      },
      "execution_count": null,
      "outputs": []
    },
    {
      "cell_type": "markdown",
      "source": [
        "# Script \"ai2023_s09_01_01.py\""
      ],
      "metadata": {
        "id": "B2n9I2M8IW0w"
      }
    },
    {
      "cell_type": "code",
      "source": [
        "# Run this cell to show the source code of the script.\n",
        "\n",
        "!cat ai2023_s09_01_01.py"
      ],
      "metadata": {
        "id": "2CaaIzM4IW0x"
      },
      "execution_count": null,
      "outputs": []
    },
    {
      "cell_type": "code",
      "source": [
        "# Run this cell to execute the script.\n",
        "\n",
        "!python3.10 ai2023_s09_01_01.py"
      ],
      "metadata": {
        "id": "uhQojegrIW0y"
      },
      "execution_count": null,
      "outputs": []
    },
    {
      "cell_type": "markdown",
      "source": [
        "# Script \"ai2023_s09_01_02.py\""
      ],
      "metadata": {
        "id": "Asxci3YYIcnH"
      }
    },
    {
      "cell_type": "code",
      "source": [
        "# Run this cell to show the source code of the script.\n",
        "\n",
        "!cat ai2023_s09_01_02.py"
      ],
      "metadata": {
        "id": "9sIuNswbIcnI"
      },
      "execution_count": null,
      "outputs": []
    },
    {
      "cell_type": "code",
      "source": [
        "# Run this cell to execute the script.\n",
        "\n",
        "!python3.10 ai2023_s09_01_02.py > bsc5.data"
      ],
      "metadata": {
        "id": "FCp70KT_IcnJ"
      },
      "execution_count": null,
      "outputs": []
    },
    {
      "cell_type": "code",
      "source": [
        "# Run this cell to show first 20 lines of newly created file.\n",
        "\n",
        "!head -20 bsc5.data"
      ],
      "metadata": {
        "id": "3bAGFUy_IhuB"
      },
      "execution_count": null,
      "outputs": []
    },
    {
      "cell_type": "markdown",
      "source": [
        "# Practice s09-18"
      ],
      "metadata": {
        "id": "_5eGR10jIwYl"
      }
    },
    {
      "cell_type": "code",
      "source": [
        "# Write down your code in this cell.\n",
        "\n",
        "\n",
        "\n",
        "\n"
      ],
      "metadata": {
        "id": "C9w8qtxHIwYq"
      },
      "execution_count": null,
      "outputs": []
    },
    {
      "cell_type": "markdown",
      "source": [
        "# Script \"ai2023_s09_01_03.py\""
      ],
      "metadata": {
        "id": "m7OeHRh_I0zh"
      }
    },
    {
      "cell_type": "code",
      "source": [
        "# Run this cell to show the source code of the script.\n",
        "\n",
        "!cat ai2023_s09_01_03.py"
      ],
      "metadata": {
        "id": "-yQfTckxI0zj"
      },
      "execution_count": null,
      "outputs": []
    },
    {
      "cell_type": "code",
      "source": [
        "# Run this cell to execute the script.\n",
        "\n",
        "!python3.10 ai2023_s09_01_03.py"
      ],
      "metadata": {
        "id": "njmCyPedI0zl"
      },
      "execution_count": null,
      "outputs": []
    },
    {
      "cell_type": "code",
      "source": [
        "# Run this cell to display PNG image.\n",
        "\n",
        "# importing IPython.display module\n",
        "import IPython.display\n",
        "\n",
        "# displaying PNG file\n",
        "IPython.display.Image ('ai2023_s09_01_03.png')"
      ],
      "metadata": {
        "id": "2Z2GlU1wI7eH"
      },
      "execution_count": null,
      "outputs": []
    },
    {
      "cell_type": "markdown",
      "source": [
        "# Practice s09-19"
      ],
      "metadata": {
        "id": "pJNAf2M5I0zo"
      }
    },
    {
      "cell_type": "code",
      "source": [
        "# Write down your code in this cell.\n",
        "\n",
        "\n",
        "\n",
        "\n"
      ],
      "metadata": {
        "id": "jSVMGLaHI0zp"
      },
      "execution_count": null,
      "outputs": []
    },
    {
      "cell_type": "markdown",
      "source": [
        "# Script \"ai2023_s09_01_04.py\""
      ],
      "metadata": {
        "id": "O7lgOfmYJCDT"
      }
    },
    {
      "cell_type": "code",
      "source": [
        "# Run this cell to show the source code of the script.\n",
        "\n",
        "!cat ai2023_s09_01_04.py"
      ],
      "metadata": {
        "id": "NssnWs_YJCDZ"
      },
      "execution_count": null,
      "outputs": []
    },
    {
      "cell_type": "code",
      "source": [
        "# Run this cell to execute the script.\n",
        "\n",
        "!python3.10 ai2023_s09_01_04.py"
      ],
      "metadata": {
        "id": "S1O4MHLjJCDb"
      },
      "execution_count": null,
      "outputs": []
    },
    {
      "cell_type": "code",
      "source": [
        "# Run this cell to display PNG image.\n",
        "\n",
        "# importing IPython.display module\n",
        "import IPython.display\n",
        "\n",
        "# displaying PNG file\n",
        "IPython.display.Image ('ai2023_s09_01_04.png')"
      ],
      "metadata": {
        "id": "rOj2DuoXJCDc"
      },
      "execution_count": null,
      "outputs": []
    },
    {
      "cell_type": "markdown",
      "source": [
        "# Practice s09-20"
      ],
      "metadata": {
        "id": "F3AG-iGFJCDc"
      }
    },
    {
      "cell_type": "code",
      "source": [
        "# Write down your code in this cell.\n",
        "\n",
        "\n",
        "\n",
        "\n"
      ],
      "metadata": {
        "id": "CLoHfTdIJCDd"
      },
      "execution_count": null,
      "outputs": []
    },
    {
      "cell_type": "markdown",
      "source": [
        "# Script \"ai2023_s09_01_05.py\""
      ],
      "metadata": {
        "id": "4uGvQCdgJLPI"
      }
    },
    {
      "cell_type": "code",
      "source": [
        "# Run this cell to show the source code of the script.\n",
        "\n",
        "!cat ai2023_s09_01_05.py"
      ],
      "metadata": {
        "id": "hpDUkWAXJLPS"
      },
      "execution_count": null,
      "outputs": []
    },
    {
      "cell_type": "code",
      "source": [
        "# Run this cell to execute the script.\n",
        "\n",
        "!python3.10 ai2023_s09_01_05.py"
      ],
      "metadata": {
        "id": "rZrQFRgbJLPU"
      },
      "execution_count": null,
      "outputs": []
    },
    {
      "cell_type": "code",
      "source": [
        "# Run this cell to display PNG image.\n",
        "\n",
        "# importing IPython.display module\n",
        "import IPython.display\n",
        "\n",
        "# displaying PNG file\n",
        "IPython.display.Image ('ai2023_s09_01_05.png')"
      ],
      "metadata": {
        "id": "QT2_4h63JLPW"
      },
      "execution_count": null,
      "outputs": []
    },
    {
      "cell_type": "markdown",
      "source": [
        "# Practice s09-21"
      ],
      "metadata": {
        "id": "1lgOHEjVJLPX"
      }
    },
    {
      "cell_type": "code",
      "source": [
        "# Write down your code in this cell.\n",
        "\n",
        "\n",
        "\n",
        "\n"
      ],
      "metadata": {
        "id": "8lR8vLbTJLPY"
      },
      "execution_count": null,
      "outputs": []
    },
    {
      "cell_type": "markdown",
      "source": [
        "# Script \"ai2023_s09_01_06.py\""
      ],
      "metadata": {
        "id": "kiA41T3FJUqa"
      }
    },
    {
      "cell_type": "code",
      "source": [
        "# Run this cell to show the source code of the script.\n",
        "\n",
        "!cat ai2023_s09_01_06.py"
      ],
      "metadata": {
        "id": "zItY5lCbJUqj"
      },
      "execution_count": null,
      "outputs": []
    },
    {
      "cell_type": "code",
      "source": [
        "# Run this cell to execute the script.\n",
        "\n",
        "!python3.10 ai2023_s09_01_06.py > bsc5c.data"
      ],
      "metadata": {
        "id": "5uLGA5YaJUql"
      },
      "execution_count": null,
      "outputs": []
    },
    {
      "cell_type": "code",
      "source": [
        "# Run this cell to show first 20 lines of newly created file.\n",
        "\n",
        "!head -20 bsc5c.data"
      ],
      "metadata": {
        "id": "7UWGbMehJUqn"
      },
      "execution_count": null,
      "outputs": []
    },
    {
      "cell_type": "markdown",
      "source": [
        "# Script \"ai2023_s09_01_07.py\""
      ],
      "metadata": {
        "id": "lBfOIkJ0JfIC"
      }
    },
    {
      "cell_type": "code",
      "source": [
        "# Run this cell to show the source code of the script.\n",
        "\n",
        "!cat ai2023_s09_01_07.py"
      ],
      "metadata": {
        "id": "6SjiL0kcJfIG"
      },
      "execution_count": null,
      "outputs": []
    },
    {
      "cell_type": "code",
      "source": [
        "# Run this cell to execute the script.\n",
        "\n",
        "!python3.10 ai2023_s09_01_07.py"
      ],
      "metadata": {
        "id": "Fl7RYb9YJfII"
      },
      "execution_count": null,
      "outputs": []
    },
    {
      "cell_type": "code",
      "source": [
        "# Run this cell to display PNG image.\n",
        "\n",
        "# importing IPython.display module\n",
        "import IPython.display\n",
        "\n",
        "# displaying PNG file\n",
        "IPython.display.Image ('ai2023_s09_01_07.png')"
      ],
      "metadata": {
        "id": "zweZMmcuJfIJ"
      },
      "execution_count": null,
      "outputs": []
    },
    {
      "cell_type": "markdown",
      "source": [
        "# Practice s09-22"
      ],
      "metadata": {
        "id": "T6f_Mum6JfIL"
      }
    },
    {
      "cell_type": "code",
      "source": [
        "# Write down your code in this cell.\n",
        "\n",
        "\n",
        "\n",
        "\n"
      ],
      "metadata": {
        "id": "r_G68DXRJfIM"
      },
      "execution_count": null,
      "outputs": []
    },
    {
      "cell_type": "markdown",
      "source": [
        "# Script \"ai2023_s09_01_08.py\""
      ],
      "metadata": {
        "id": "HpdWuOr-Jmb3"
      }
    },
    {
      "cell_type": "code",
      "source": [
        "# Run this cell to show the source code of the script.\n",
        "\n",
        "!cat ai2023_s09_01_08.py"
      ],
      "metadata": {
        "id": "76EMZN51Jmb4"
      },
      "execution_count": null,
      "outputs": []
    },
    {
      "cell_type": "code",
      "source": [
        "# Run this cell to execute the script.\n",
        "\n",
        "!python3.10 ai2023_s09_01_08.py"
      ],
      "metadata": {
        "id": "Agy_gASIJmb5"
      },
      "execution_count": null,
      "outputs": []
    },
    {
      "cell_type": "code",
      "source": [
        "# Run this cell to display PNG image.\n",
        "\n",
        "# importing IPython.display module\n",
        "import IPython.display\n",
        "\n",
        "# displaying PNG file\n",
        "IPython.display.Image ('ai2023_s09_01_08.png')"
      ],
      "metadata": {
        "id": "bACjlyynJmb7"
      },
      "execution_count": null,
      "outputs": []
    },
    {
      "cell_type": "markdown",
      "source": [
        "# Practice s09-23"
      ],
      "metadata": {
        "id": "uL1xGb_VJmb8"
      }
    },
    {
      "cell_type": "code",
      "source": [
        "# Write down your code in this cell.\n",
        "\n",
        "\n",
        "\n",
        "\n"
      ],
      "metadata": {
        "id": "CD3XtIOCJmb-"
      },
      "execution_count": null,
      "outputs": []
    },
    {
      "cell_type": "markdown",
      "source": [
        "# Script \"ai2023_s09_02_00.py\""
      ],
      "metadata": {
        "id": "v1qVF-riJzXH"
      }
    },
    {
      "cell_type": "code",
      "source": [
        "# Run this cell to show the source code of the script.\n",
        "\n",
        "!cat ai2023_s09_02_00.py"
      ],
      "metadata": {
        "id": "8XmGojGFJzXM"
      },
      "execution_count": null,
      "outputs": []
    },
    {
      "cell_type": "code",
      "source": [
        "# Run this cell to execute the script.\n",
        "\n",
        "!python3.10 ai2023_s09_02_00.py"
      ],
      "metadata": {
        "id": "ruNy1AmGJzXN"
      },
      "execution_count": null,
      "outputs": []
    },
    {
      "cell_type": "markdown",
      "source": [
        "# Script \"ai2023_s09_02_01.py\""
      ],
      "metadata": {
        "id": "8gY-My72JzXO"
      }
    },
    {
      "cell_type": "code",
      "source": [
        "# Run this cell to show the source code of the script.\n",
        "\n",
        "!cat ai2023_s09_02_01.py"
      ],
      "metadata": {
        "id": "h6SnUZ8CJzXO"
      },
      "execution_count": null,
      "outputs": []
    },
    {
      "cell_type": "code",
      "source": [
        "# Run this cell to execute the script.\n",
        "\n",
        "!python3.10 ai2023_s09_02_01.py"
      ],
      "metadata": {
        "id": "Mz9fsxfvJzXP"
      },
      "execution_count": null,
      "outputs": []
    },
    {
      "cell_type": "markdown",
      "source": [
        "# Script \"ai2023_s09_02_02.py\""
      ],
      "metadata": {
        "id": "nMJSDXW4KT5A"
      }
    },
    {
      "cell_type": "code",
      "source": [
        "# Run this cell to show the source code of the script.\n",
        "\n",
        "!cat ai2023_s09_02_02.py"
      ],
      "metadata": {
        "id": "A7tzDnqAKT5G"
      },
      "execution_count": null,
      "outputs": []
    },
    {
      "cell_type": "code",
      "source": [
        "# Run this cell to execute the script.\n",
        "\n",
        "!python3.10 ai2023_s09_02_02.py"
      ],
      "metadata": {
        "id": "4vu-9zkPKT5H"
      },
      "execution_count": null,
      "outputs": []
    },
    {
      "cell_type": "code",
      "source": [
        "# Run this cell to display PNG image.\n",
        "\n",
        "# importing IPython.display module\n",
        "import IPython.display\n",
        "\n",
        "# displaying PNG file\n",
        "IPython.display.Image ('ai2023_s09_02_02.png')"
      ],
      "metadata": {
        "id": "ip-_2tdPKT5I"
      },
      "execution_count": null,
      "outputs": []
    },
    {
      "cell_type": "markdown",
      "source": [
        "# Practice s09-24"
      ],
      "metadata": {
        "id": "LNJcPy-EKT5J"
      }
    },
    {
      "cell_type": "code",
      "source": [
        "# Write down your code in this cell.\n",
        "\n",
        "\n",
        "\n",
        "\n"
      ],
      "metadata": {
        "id": "iPnZn6XdKT5L"
      },
      "execution_count": null,
      "outputs": []
    },
    {
      "cell_type": "markdown",
      "source": [
        "# Script \"ai2023_s09_02_03.py\""
      ],
      "metadata": {
        "id": "2dyFKOhDKdZA"
      }
    },
    {
      "cell_type": "code",
      "source": [
        "# Run this cell to show the source code of the script.\n",
        "\n",
        "!cat ai2023_s09_02_03.py"
      ],
      "metadata": {
        "id": "HQgBp9rIKdZF"
      },
      "execution_count": null,
      "outputs": []
    },
    {
      "cell_type": "code",
      "source": [
        "# Run this cell to execute the script.\n",
        "\n",
        "!python3.10 ai2023_s09_02_03.py"
      ],
      "metadata": {
        "id": "En2g-jgpKdZH"
      },
      "execution_count": null,
      "outputs": []
    },
    {
      "cell_type": "code",
      "source": [
        "# Run this cell to display PNG image.\n",
        "\n",
        "# importing IPython.display module\n",
        "import IPython.display\n",
        "\n",
        "# displaying PNG file\n",
        "IPython.display.Image ('ai2023_s09_02_03.png')"
      ],
      "metadata": {
        "id": "ceg98PIJKdZH"
      },
      "execution_count": null,
      "outputs": []
    },
    {
      "cell_type": "markdown",
      "source": [
        "# Practice s09-25"
      ],
      "metadata": {
        "id": "DRPwRsrVKdZI"
      }
    },
    {
      "cell_type": "code",
      "source": [
        "# Write down your code in this cell.\n",
        "\n",
        "\n",
        "\n",
        "\n"
      ],
      "metadata": {
        "id": "T9w75oThKdZJ"
      },
      "execution_count": null,
      "outputs": []
    },
    {
      "cell_type": "markdown",
      "source": [
        "# Script \"ai2023_s09_02_04.py\""
      ],
      "metadata": {
        "id": "Y1_sQZxyKjjx"
      }
    },
    {
      "cell_type": "code",
      "source": [
        "# Run this cell to show the source code of the script.\n",
        "\n",
        "!cat ai2023_s09_02_04.py"
      ],
      "metadata": {
        "id": "TL5vhMe_Kjjz"
      },
      "execution_count": null,
      "outputs": []
    },
    {
      "cell_type": "code",
      "source": [
        "# Run this cell to execute the script.\n",
        "\n",
        "!python3.10 ai2023_s09_02_04.py"
      ],
      "metadata": {
        "id": "PcD87IO1Kjj0"
      },
      "execution_count": null,
      "outputs": []
    },
    {
      "cell_type": "code",
      "source": [
        "# Run this cell to display PNG image.\n",
        "\n",
        "# importing IPython.display module\n",
        "import IPython.display\n",
        "\n",
        "# displaying PNG file\n",
        "IPython.display.Image ('ai2023_s09_02_04.png')"
      ],
      "metadata": {
        "id": "MOENa5wZKjj3"
      },
      "execution_count": null,
      "outputs": []
    },
    {
      "cell_type": "markdown",
      "source": [
        "# Practice s09-26"
      ],
      "metadata": {
        "id": "7ZuH9xF4Kjj5"
      }
    },
    {
      "cell_type": "code",
      "source": [
        "# Write down your code in this cell.\n",
        "\n",
        "\n",
        "\n",
        "\n"
      ],
      "metadata": {
        "id": "Kk00aTGGKjj9"
      },
      "execution_count": null,
      "outputs": []
    },
    {
      "cell_type": "markdown",
      "source": [
        "# Script \"ai2023_s09_03_00.py\""
      ],
      "metadata": {
        "id": "IwhQkIOiKwXh"
      }
    },
    {
      "cell_type": "code",
      "source": [
        "# Run this cell to show the source code of the script.\n",
        "\n",
        "!cat ai2023_s09_03_00.py"
      ],
      "metadata": {
        "id": "3CNGLJwbKwXm"
      },
      "execution_count": null,
      "outputs": []
    },
    {
      "cell_type": "code",
      "source": [
        "# Run this cell to execute the script.\n",
        "\n",
        "!python3.10 ai2023_s09_03_00.py"
      ],
      "metadata": {
        "id": "zf2qP-NVKwXn"
      },
      "execution_count": null,
      "outputs": []
    },
    {
      "cell_type": "markdown",
      "source": [
        "# Script \"ai2023_s09_03_01.py\""
      ],
      "metadata": {
        "id": "rj347rliKzD4"
      }
    },
    {
      "cell_type": "code",
      "source": [
        "# Run this cell to show the source code of the script.\n",
        "\n",
        "!cat ai2023_s09_03_01.py"
      ],
      "metadata": {
        "id": "U8RMWPiQKzD5"
      },
      "execution_count": null,
      "outputs": []
    },
    {
      "cell_type": "code",
      "source": [
        "# Run this cell to execute the script.\n",
        "\n",
        "!python3.10 ai2023_s09_03_01.py"
      ],
      "metadata": {
        "id": "PBvcxlS2KzD5"
      },
      "execution_count": null,
      "outputs": []
    },
    {
      "cell_type": "markdown",
      "source": [
        "# Script \"ai2023_s09_03_02.py\""
      ],
      "metadata": {
        "id": "TWDZg1w8K3ba"
      }
    },
    {
      "cell_type": "code",
      "source": [
        "# Run this cell to show the source code of the script.\n",
        "\n",
        "!cat ai2023_s09_03_02.py"
      ],
      "metadata": {
        "id": "Aomclo4DK3bb"
      },
      "execution_count": null,
      "outputs": []
    },
    {
      "cell_type": "code",
      "source": [
        "# Run this cell to execute the script.\n",
        "\n",
        "!python3.10 ai2023_s09_03_02.py"
      ],
      "metadata": {
        "id": "8Ne5lNUyK3bb"
      },
      "execution_count": null,
      "outputs": []
    },
    {
      "cell_type": "markdown",
      "source": [
        "# Script \"ai2023_s09_03_03.py\""
      ],
      "metadata": {
        "id": "9ntwMSX1LTdt"
      }
    },
    {
      "cell_type": "code",
      "source": [
        "# Run this cell to show the source code of the script.\n",
        "\n",
        "!cat ai2023_s09_03_03.py"
      ],
      "metadata": {
        "id": "cosh5NduLTdy"
      },
      "execution_count": null,
      "outputs": []
    },
    {
      "cell_type": "code",
      "source": [
        "# Run this cell to execute the script.\n",
        "\n",
        "!python3.10 ai2023_s09_03_03.py"
      ],
      "metadata": {
        "id": "3IbFLTYhLTd0"
      },
      "execution_count": null,
      "outputs": []
    },
    {
      "cell_type": "code",
      "source": [
        "# Run this cell to display PNG image.\n",
        "\n",
        "# importing IPython.display module\n",
        "import IPython.display\n",
        "\n",
        "# displaying PNG file\n",
        "IPython.display.Image ('ai2023_s09_03_03.png')"
      ],
      "metadata": {
        "id": "4R-Baci7LXlc"
      },
      "execution_count": null,
      "outputs": []
    },
    {
      "cell_type": "markdown",
      "source": [
        "# Practice s09-27"
      ],
      "metadata": {
        "id": "4aMQfXPKLXli"
      }
    },
    {
      "cell_type": "code",
      "source": [
        "# Write down your code in this cell.\n",
        "\n",
        "\n",
        "\n",
        "\n"
      ],
      "metadata": {
        "id": "FYQRTnAZLXlk"
      },
      "execution_count": null,
      "outputs": []
    },
    {
      "cell_type": "markdown",
      "source": [
        "# End of this notebook"
      ],
      "metadata": {
        "id": "WkhFj5XALs2w"
      }
    },
    {
      "cell_type": "code",
      "source": [],
      "metadata": {
        "id": "ahWT_rgAtiZG"
      },
      "execution_count": null,
      "outputs": []
    }
  ]
}